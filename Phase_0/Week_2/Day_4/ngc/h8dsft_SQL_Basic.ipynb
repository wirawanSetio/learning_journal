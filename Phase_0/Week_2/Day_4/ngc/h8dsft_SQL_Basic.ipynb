{
 "cells": [
  {
   "cell_type": "markdown",
   "metadata": {},
   "source": [
    "# Non Graded Challenge SQL"
   ]
  },
  {
   "cell_type": "markdown",
   "metadata": {},
   "source": [
    "## Diketahui\n",
    "* Gunakan dataset dari URL [ini](https://github.com/danupurnomo/hacktiv8-exercises/blob/main/P0W2D4AM%20%26%20P0W2D4PM%20-%20SQL/P0W2D4AM%20%26%20P0W2D4PM%20-%20SQL.ipynb).\n",
    "* Buatlah table `teachers` dan `courses`. Masukkan semua data pada masing-masing table.\n",
    "* Table `teachers` akan memiliki 15 data.\n",
    "* Table `courses` akan memiliki 20 data."
   ]
  },
  {
   "cell_type": "markdown",
   "metadata": {},
   "source": [
    "## Soal\n",
    "\n",
    "Carilah dosen yang memiliki gaji tertinggi per masing-masing mata kuliah. Tampilkan semua atribut dosen dan semua atribut mata kuliahnya. Urutkan hasilnya berdasarkan nama mata kuliahnya secara ascending (A-Z)"
   ]
  },
  {
   "cell_type": "markdown",
   "metadata": {},
   "source": [
    "## Jawab"
   ]
  },
  {
   "cell_type": "code",
   "execution_count": 2,
   "metadata": {
    "vscode": {
     "languageId": "sql"
    }
   },
   "outputs": [
    {
     "ename": "SyntaxError",
     "evalue": "invalid syntax (2167094112.py, line 1)",
     "output_type": "error",
     "traceback": [
      "\u001b[1;36m  Input \u001b[1;32mIn [2]\u001b[1;36m\u001b[0m\n\u001b[1;33m    CREATE TABLE teachers (\u001b[0m\n\u001b[1;37m           ^\u001b[0m\n\u001b[1;31mSyntaxError\u001b[0m\u001b[1;31m:\u001b[0m invalid syntax\n"
     ]
    }
   ],
   "source": [
    "\n",
    "CREATE TABLE teachers (\n",
    "    id INT NOT NULL PRIMARY KEY AUTO_INCREMENT,\n",
    "    first_name varchar(25) NOT NULL,\n",
    "    last_name varchar(50),\n",
    "    school varchar(50) NOT NULL,\n",
    "    hire_date date,\n",
    "    salary numeric\n",
    "    );\n",
    " -- masukan nilai teachers\n",
    "INSERT INTO teachers (id,first_name, last_name, school, hire_date, salary)\n",
    "VALUES (1,'Janet', 'Smith', 'MIT', '2011-10-30', 36200),\n",
    "           (2,'Lee', 'Reynolds', 'MIT', '1993-05-22', 65000),\n",
    "           (3,'Samuel', 'Cole', 'Cambridge University', '2005-08-01', 43500),\n",
    "           (4,'Samantha', 'Bush', 'Cambridge University', '2011-10-30', 36200),\n",
    "           (5,'Betty', 'Diaz', 'Cambridge University', '2005-08-30', 43500),\n",
    "           (6,'Kathleen', 'Roush', 'MIT', '2010-10-22', 38500),\n",
    "           (7,'James', 'Diaz', 'Harvard University', '2003-07-18', 61000),\n",
    "           (8,'Zack', 'Smith', 'Harvard University', '2000-12-29', 55500),\n",
    "           (9,'Luis', 'Gonzales', 'Standford University', '2002-12-01', 50000),\n",
    "           (10,'Frank', 'Abbers', 'Standford University', '1999-01-30', 66000);\n",
    "-- masukan data teachers\n",
    "INSERT INTO teachers (first_name, last_name, school, hire_date, salary)\n",
    "    VALUES ('Samuel', 'Abbers', 'Standford University', '2006-01-30', 32000),\n",
    "           ('Jessica', 'Abbers', 'Standford University', '2005-01-30', 33000),\n",
    "           ('Tom', 'Massi', 'Harvard University', '1999-09-09', 39500),\n",
    "           ('Esteban', 'Brown', 'MIT', '2007-01-30', 36000),\n",
    "           ('Carlos', 'Alonso', 'Standford University', '2001-01-30', 44000);\n",
    "\n",
    "-- create table courses\n",
    "CREATE table courses(\n",
    "  id int PRIMARY key AUTO_INCREMENT,\n",
    "  name varchar(20),\n",
    "  teachers_id int,\n",
    "  total_student int \n",
    "  );\n",
    "  -- masukan data courses\n",
    " insert into courses (name,teachers_id, total_student)\n",
    "    VALUES  ('Calculus', 2, 20),\n",
    "            ('Physics', 2, 10),\n",
    "            ('Calculus', 1, 30),\n",
    "            ('Computer Science', 1, 20),\n",
    "            ('Politic', 13, 15),\n",
    "            ('Algebra', 2, 10),\n",
    "            ('Algebra', 13, 30),\n",
    "            ('Computer Science', 10, 35),\n",
    "            ('Life Science', 11, 20),\n",
    "            ('Chemistry', 9, 22),\n",
    "            ('Chemistry', 8, 16),\n",
    "            ('Calculus', 5, 19),\n",
    "            ('Politic', 4, 17),\n",
    "            ('Biology', 6, 22),\n",
    "            ('Physics', 3, 29),\n",
    "            ('Biology', 8, 28),\n",
    "            ('Calculus', 12, 34),\n",
    "            ('Physics', 13, 34),\n",
    "            ('Biology', 14, 25),\n",
    "            ('Calculus', 15, 20);\n",
    "\n",
    "-- menggunakan cara direct select MAX(teacher.salary) menhasilkan column baru\n",
    "SELECT *, max(teachers.salary) as gaji_dosen\n",
    "from teachers\n",
    "join courses on teachers.id = courses.teachers_id\n",
    "group BY courses.name;\n",
    "\n",
    "-- menggunakan cara subquery pada where condition tidak menghasilkan column baru\n",
    "SELECT *\n",
    "from teachers\n",
    "join courses on teachers.id = courses.teachers_id\n",
    "where teachers.salary in (\n",
    "\tselect MAX(teachers.salary)\n",
    "  \tfrom teachers\n",
    "\tjoin courses on teachers.id = courses.teachers_id\n",
    "  \tgroup BY courses.name\n",
    ")\n",
    "group BY courses.name\n",
    "order by courses.name asc;\n"
   ]
  },
  {
   "cell_type": "markdown",
   "metadata": {},
   "source": []
  }
 ],
 "metadata": {
  "kernelspec": {
   "display_name": "Python 3.9.12 ('base')",
   "language": "python",
   "name": "python3"
  },
  "language_info": {
   "codemirror_mode": {
    "name": "ipython",
    "version": 3
   },
   "file_extension": ".py",
   "mimetype": "text/x-python",
   "name": "python",
   "nbconvert_exporter": "python",
   "pygments_lexer": "ipython3",
   "version": "3.9.12"
  },
  "orig_nbformat": 4,
  "vscode": {
   "interpreter": {
    "hash": "3c49ca66e5c8d57ef998acbc4445fda8afa39543d611cccca4a6c099a23fcb0b"
   }
  }
 },
 "nbformat": 4,
 "nbformat_minor": 2
}
