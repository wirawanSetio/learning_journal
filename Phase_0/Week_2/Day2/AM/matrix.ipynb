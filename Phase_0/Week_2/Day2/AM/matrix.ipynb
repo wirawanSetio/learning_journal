{
 "cells": [
  {
   "cell_type": "markdown",
   "metadata": {},
   "source": [
    "# Matrix Day 2"
   ]
  },
  {
   "cell_type": "code",
   "execution_count": 1,
   "metadata": {},
   "outputs": [],
   "source": [
    "import numpy as np"
   ]
  },
  {
   "cell_type": "markdown",
   "metadata": {},
   "source": [
    "## membuat array"
   ]
  },
  {
   "cell_type": "code",
   "execution_count": 4,
   "metadata": {},
   "outputs": [],
   "source": [
    "A = np.array([\n",
    "    [1,2,3],\n",
    "    [4,5,6],\n",
    "    [7,8,9]\n",
    "])"
   ]
  },
  {
   "cell_type": "markdown",
   "metadata": {},
   "source": [
    "**akses data dengan slicing**"
   ]
  },
  {
   "cell_type": "code",
   "execution_count": 8,
   "metadata": {},
   "outputs": [
    {
     "data": {
      "text/plain": [
       "array([4, 5, 6])"
      ]
     },
     "execution_count": 8,
     "metadata": {},
     "output_type": "execute_result"
    }
   ],
   "source": [
    "# semua kolom paling belakang\n",
    "A[:,-1]\n",
    "# semua baris pertama\n",
    "A[1,:]"
   ]
  },
  {
   "cell_type": "markdown",
   "metadata": {},
   "source": [
    "**matrix identity**"
   ]
  },
  {
   "cell_type": "code",
   "execution_count": 16,
   "metadata": {},
   "outputs": [
    {
     "data": {
      "text/plain": [
       "array([[1., 3.],\n",
       "       [3., 2.]])"
      ]
     },
     "execution_count": 16,
     "metadata": {},
     "output_type": "execute_result"
    }
   ],
   "source": [
    "M = np.array([  \n",
    "    [1,3],\n",
    "    [3,2]]\n",
    ")\n",
    "I = np.eye(2)\n",
    "I\n",
    "\n",
    "M@I"
   ]
  },
  {
   "cell_type": "markdown",
   "metadata": {},
   "source": [
    "**Diagolan Matrix**"
   ]
  },
  {
   "cell_type": "code",
   "execution_count": 19,
   "metadata": {},
   "outputs": [
    {
     "name": "stdout",
     "output_type": "stream",
     "text": [
      "[1 5 9]\n",
      "[[1 0 0]\n",
      " [0 5 0]\n",
      " [0 0 9]]\n"
     ]
    }
   ],
   "source": [
    "\n",
    "print(np.diag(A)) # hanya mengambil diagonal dan return 1 array\n",
    "\n",
    "print(np.diag(np.diag(A)))# menjadikan diagonal matrix dari matrix A\n"
   ]
  },
  {
   "cell_type": "markdown",
   "metadata": {},
   "source": [
    "## Operasi Aritmatika"
   ]
  },
  {
   "cell_type": "code",
   "execution_count": 26,
   "metadata": {},
   "outputs": [],
   "source": [
    "B = np.array([\n",
    "    [2,2,1],\n",
    "    [3,1,2],\n",
    "    [2,0,1]\n",
    "])"
   ]
  },
  {
   "cell_type": "markdown",
   "metadata": {},
   "source": [
    "**Penjumlahan**"
   ]
  },
  {
   "cell_type": "code",
   "execution_count": 21,
   "metadata": {},
   "outputs": [
    {
     "data": {
      "text/plain": [
       "array([[1, 2, 3],\n",
       "       [4, 5, 6],\n",
       "       [7, 8, 9]])"
      ]
     },
     "execution_count": 21,
     "metadata": {},
     "output_type": "execute_result"
    }
   ],
   "source": [
    "# matrix terhadap skalar\n",
    "A + 10\n"
   ]
  },
  {
   "cell_type": "code",
   "execution_count": 24,
   "metadata": {},
   "outputs": [
    {
     "data": {
      "text/plain": [
       "array([2, 1, 3])"
      ]
     },
     "execution_count": 24,
     "metadata": {},
     "output_type": "execute_result"
    }
   ],
   "source": [
    "v = np.array([2,1,3])\n",
    "v\n",
    "v_error = np.array([1,2,3,4])"
   ]
  },
  {
   "cell_type": "code",
   "execution_count": 29,
   "metadata": {},
   "outputs": [
    {
     "data": {
      "text/plain": [
       "array([[ 3,  3,  6],\n",
       "       [ 6,  6,  9],\n",
       "       [ 9,  9, 12]])"
      ]
     },
     "execution_count": 29,
     "metadata": {},
     "output_type": "execute_result"
    }
   ],
   "source": [
    "# matrix tovector\n",
    "A + v\n",
    "# A + v_error # will error because divverent column length with matrinx"
   ]
  },
  {
   "cell_type": "code",
   "execution_count": 30,
   "metadata": {},
   "outputs": [
    {
     "data": {
      "text/plain": [
       "array([[ 3,  4,  4],\n",
       "       [ 7,  6,  8],\n",
       "       [ 9,  8, 10]])"
      ]
     },
     "execution_count": 30,
     "metadata": {},
     "output_type": "execute_result"
    }
   ],
   "source": [
    "# Matrix to Matrix\n",
    "A + B # shape harus sama"
   ]
  },
  {
   "cell_type": "markdown",
   "metadata": {},
   "source": [
    "**Pengurangan**"
   ]
  },
  {
   "cell_type": "code",
   "execution_count": 32,
   "metadata": {},
   "outputs": [
    {
     "data": {
      "text/plain": [
       "array([[2, 2, 1],\n",
       "       [3, 1, 2],\n",
       "       [2, 0, 1]])"
      ]
     },
     "execution_count": 32,
     "metadata": {},
     "output_type": "execute_result"
    }
   ],
   "source": [
    "B"
   ]
  },
  {
   "cell_type": "code",
   "execution_count": 31,
   "metadata": {},
   "outputs": [
    {
     "data": {
      "text/plain": [
       "array([[ 1,  1,  0],\n",
       "       [ 2,  0,  1],\n",
       "       [ 1, -1,  0]])"
      ]
     },
     "execution_count": 31,
     "metadata": {},
     "output_type": "execute_result"
    }
   ],
   "source": [
    "# Matrix to scalar\n",
    "B - 1"
   ]
  },
  {
   "cell_type": "code",
   "execution_count": 37,
   "metadata": {},
   "outputs": [
    {
     "name": "stdout",
     "output_type": "stream",
     "text": [
      "A - B \n",
      " [[-1  0  2]\n",
      " [ 1  4  4]\n",
      " [ 5  8  8]]\n",
      "B - A \n",
      " [[ 1  0 -2]\n",
      " [-1 -4 -4]\n",
      " [-5 -8 -8]]\n"
     ]
    }
   ],
   "source": [
    "# Matring to Matrix\n",
    "print(\"A - B \\n\",A - B)\n",
    "print(\"B - A \\n\",B - A)"
   ]
  },
  {
   "cell_type": "code",
   "execution_count": 38,
   "metadata": {},
   "outputs": [
    {
     "data": {
      "text/plain": [
       "array([[-1,  1,  0],\n",
       "       [ 2,  4,  3],\n",
       "       [ 5,  7,  6]])"
      ]
     },
     "execution_count": 38,
     "metadata": {},
     "output_type": "execute_result"
    }
   ],
   "source": [
    "# to vector\n",
    "A - v"
   ]
  },
  {
   "cell_type": "markdown",
   "metadata": {},
   "source": [
    "**Pembagian**"
   ]
  },
  {
   "cell_type": "code",
   "execution_count": 39,
   "metadata": {},
   "outputs": [
    {
     "data": {
      "text/plain": [
       "array([[0.5, 1. , 1.5],\n",
       "       [2. , 2.5, 3. ],\n",
       "       [3.5, 4. , 4.5]])"
      ]
     },
     "execution_count": 39,
     "metadata": {},
     "output_type": "execute_result"
    }
   ],
   "source": [
    "# to scalar\n",
    "A/2"
   ]
  },
  {
   "cell_type": "code",
   "execution_count": 40,
   "metadata": {},
   "outputs": [
    {
     "data": {
      "text/plain": [
       "array([[2.        , 1.        , 0.33333333],\n",
       "       [0.75      , 0.2       , 0.33333333],\n",
       "       [0.28571429, 0.        , 0.11111111]])"
      ]
     },
     "execution_count": 40,
     "metadata": {},
     "output_type": "execute_result"
    }
   ],
   "source": [
    "# to matrix\n",
    "B/A"
   ]
  },
  {
   "cell_type": "code",
   "execution_count": 41,
   "metadata": {},
   "outputs": [
    {
     "data": {
      "text/plain": [
       "array([[1.        , 2.        , 0.33333333],\n",
       "       [1.5       , 1.        , 0.66666667],\n",
       "       [1.        , 0.        , 0.33333333]])"
      ]
     },
     "execution_count": 41,
     "metadata": {},
     "output_type": "execute_result"
    }
   ],
   "source": [
    "# to vector\n",
    "B/v"
   ]
  },
  {
   "cell_type": "markdown",
   "metadata": {},
   "source": [
    "**Perkalian**"
   ]
  },
  {
   "cell_type": "code",
   "execution_count": 46,
   "metadata": {},
   "outputs": [
    {
     "name": "stdout",
     "output_type": "stream",
     "text": [
      "A \n",
      " [[1 2 3]\n",
      " [4 5 6]\n",
      " [7 8 9]]\n",
      "B\n",
      " [[2 2 1]\n",
      " [3 1 2]\n",
      " [2 0 1]]\n"
     ]
    }
   ],
   "source": [
    "print(\"A \\n\",A)\n",
    "print(\"B\\n\",B)"
   ]
  },
  {
   "cell_type": "code",
   "execution_count": 42,
   "metadata": {},
   "outputs": [
    {
     "data": {
      "text/plain": [
       "array([[10, 20, 30],\n",
       "       [40, 50, 60],\n",
       "       [70, 80, 90]])"
      ]
     },
     "execution_count": 42,
     "metadata": {},
     "output_type": "execute_result"
    }
   ],
   "source": [
    "# to scalar\n",
    "A * 10"
   ]
  },
  {
   "cell_type": "code",
   "execution_count": 48,
   "metadata": {},
   "outputs": [
    {
     "data": {
      "text/plain": [
       "array([[ 2,  4,  3],\n",
       "       [12,  5, 12],\n",
       "       [14,  0,  9]])"
      ]
     },
     "execution_count": 48,
     "metadata": {},
     "output_type": "execute_result"
    }
   ],
   "source": [
    "# hadamart product (element wise multiplication)\n",
    "A * B # use start or asterisk"
   ]
  },
  {
   "cell_type": "code",
   "execution_count": 53,
   "metadata": {},
   "outputs": [
    {
     "name": "stdout",
     "output_type": "stream",
     "text": [
      "AxB\n",
      " [[14  4  8]\n",
      " [35 13 20]\n",
      " [56 22 32]]\n",
      "BxA\n",
      " [[17 22 27]\n",
      " [21 27 33]\n",
      " [ 9 12 15]]\n"
     ]
    }
   ],
   "source": [
    "# Matrix to matrix multiplication\n",
    "# syarat dimensi kolom A == dimensi baris B\n",
    "print(\"AxB\\n\" ,A@B)\n",
    "print(\"BxA\\n\",B@A) # dibalik tidak komutatif atau tidak sama"
   ]
  },
  {
   "cell_type": "markdown",
   "metadata": {},
   "source": [
    "## Transpose"
   ]
  },
  {
   "cell_type": "code",
   "execution_count": 55,
   "metadata": {},
   "outputs": [
    {
     "name": "stdout",
     "output_type": "stream",
     "text": [
      "A\n",
      " [[1 2 3]\n",
      " [4 5 6]\n",
      " [7 8 9]]\n",
      "A T\n",
      " [[1 4 7]\n",
      " [2 5 8]\n",
      " [3 6 9]]\n"
     ]
    }
   ],
   "source": [
    "#Transpose Matrix\n",
    "print(\"A\\n\",A)\n",
    "print(\"A T\\n\", A.T)"
   ]
  },
  {
   "cell_type": "markdown",
   "metadata": {},
   "source": [
    "## Inverse\n",
    "mencari matrix identitas"
   ]
  },
  {
   "cell_type": "code",
   "execution_count": 59,
   "metadata": {},
   "outputs": [
    {
     "name": "stdout",
     "output_type": "stream",
     "text": [
      "B\n",
      " [[2 2 1]\n",
      " [3 1 2]\n",
      " [2 0 1]]\n",
      "B inverse\n",
      " [[ 0.5 -1.   1.5]\n",
      " [ 0.5  0.  -0.5]\n",
      " [-1.   2.  -2. ]]\n",
      "jika B@B_inv\n",
      " [[1. 0. 0.]\n",
      " [0. 1. 0.]\n",
      " [0. 0. 1.]]\n"
     ]
    }
   ],
   "source": [
    "# iverse\n",
    "B_inv = np.linalg.inv(B)\n",
    "print(\"B\\n\",B)\n",
    "print(\"B inverse\\n\",B_inv)\n",
    "print(\"jika B@B_inv\\n\",B@B_inv)"
   ]
  },
  {
   "cell_type": "markdown",
   "metadata": {},
   "source": [
    "## Determinant"
   ]
  },
  {
   "cell_type": "code",
   "execution_count": 64,
   "metadata": {},
   "outputs": [
    {
     "name": "stdout",
     "output_type": "stream",
     "text": [
      "G\n",
      " [[1 3]\n",
      " [3 2]]\n"
     ]
    },
    {
     "data": {
      "text/plain": [
       "-7.000000000000001"
      ]
     },
     "execution_count": 64,
     "metadata": {},
     "output_type": "execute_result"
    }
   ],
   "source": [
    "# matrix non singular\n",
    "G = np.array([[1,3],[3,2]])\n",
    "print(\"G\\n\",G)\n",
    "np.linalg.det(G)"
   ]
  },
  {
   "cell_type": "code",
   "execution_count": 72,
   "metadata": {},
   "outputs": [
    {
     "data": {
      "text/plain": [
       "0.0"
      ]
     },
     "execution_count": 72,
     "metadata": {},
     "output_type": "execute_result"
    }
   ],
   "source": [
    "# matrix singular\n",
    "C = np.array([[1,2,2],[1,2,2],[3,2,-1]])\n",
    "np.linalg.det(C)\n"
   ]
  },
  {
   "cell_type": "markdown",
   "metadata": {},
   "source": [
    "# Tensor"
   ]
  },
  {
   "cell_type": "code",
   "execution_count": 74,
   "metadata": {},
   "outputs": [
    {
     "data": {
      "text/plain": [
       "array([[[2, 5, 1],\n",
       "        [2, 2, 2]],\n",
       "\n",
       "       [[1, 3, 3],\n",
       "        [5, 0, 1]],\n",
       "\n",
       "       [[3, 1, 0],\n",
       "        [0, 0, 1]],\n",
       "\n",
       "       [[5, 0, 0],\n",
       "        [1, 0, 1]]])"
      ]
     },
     "execution_count": 74,
     "metadata": {},
     "output_type": "execute_result"
    }
   ],
   "source": [
    "M1 = np.array([\n",
    "    [2,5,1],\n",
    "    [2,2,2]\n",
    "])\n",
    "M2 = np.array([\n",
    "    [1,3,3],\n",
    "    [5,0,1]\n",
    "])\n",
    "\n",
    "M3 = np.array([[3,1,0],\n",
    "               [0,0,1]])\n",
    "\n",
    "M4 = np.array([[5,0,0],\n",
    "               [1,0,1]])\n",
    "\n",
    "M_Tensor = np.array([M1,M2,M3,M4])\n",
    "M_Tensor"
   ]
  },
  {
   "cell_type": "code",
   "execution_count": 75,
   "metadata": {},
   "outputs": [
    {
     "data": {
      "text/plain": [
       "(4, 2, 3)"
      ]
     },
     "execution_count": 75,
     "metadata": {},
     "output_type": "execute_result"
    }
   ],
   "source": [
    "M_Tensor.shape"
   ]
  },
  {
   "cell_type": "code",
   "execution_count": 78,
   "metadata": {},
   "outputs": [],
   "source": [
    "import matplotlib.pyplot as plt"
   ]
  },
  {
   "cell_type": "code",
   "execution_count": 79,
   "metadata": {},
   "outputs": [],
   "source": [
    "img = plt.imread('./mrxfzm0j1i471.jpg')"
   ]
  },
  {
   "cell_type": "code",
   "execution_count": 80,
   "metadata": {},
   "outputs": [
    {
     "data": {
      "text/plain": [
       "array([[[11, 18, 10],\n",
       "        [ 0,  7,  0],\n",
       "        [ 5, 12,  4],\n",
       "        ...,\n",
       "        [ 6, 12,  8],\n",
       "        [ 0,  6,  2],\n",
       "        [11, 17, 13]],\n",
       "\n",
       "       [[11, 18, 10],\n",
       "        [ 0,  7,  0],\n",
       "        [ 6, 13,  5],\n",
       "        ...,\n",
       "        [ 6, 12,  8],\n",
       "        [ 0,  6,  2],\n",
       "        [11, 17, 13]],\n",
       "\n",
       "       [[11, 18, 10],\n",
       "        [ 0,  7,  0],\n",
       "        [ 6, 13,  5],\n",
       "        ...,\n",
       "        [ 6, 12,  8],\n",
       "        [ 0,  6,  2],\n",
       "        [11, 17, 13]],\n",
       "\n",
       "       ...,\n",
       "\n",
       "       [[ 8, 17, 16],\n",
       "        [ 6, 15, 14],\n",
       "        [ 5, 14, 11],\n",
       "        ...,\n",
       "        [13, 22, 17],\n",
       "        [ 6, 17, 11],\n",
       "        [ 0, 11,  4]],\n",
       "\n",
       "       [[17, 26, 25],\n",
       "        [14, 23, 22],\n",
       "        [12, 21, 18],\n",
       "        ...,\n",
       "        [ 6, 15, 10],\n",
       "        [ 0, 11,  5],\n",
       "        [ 2, 15,  8]],\n",
       "\n",
       "       [[ 4, 13, 12],\n",
       "        [ 2, 11, 10],\n",
       "        [ 1, 10,  7],\n",
       "        ...,\n",
       "        [ 0,  6,  1],\n",
       "        [ 0,  7,  1],\n",
       "        [12, 25, 18]]], dtype=uint8)"
      ]
     },
     "execution_count": 80,
     "metadata": {},
     "output_type": "execute_result"
    }
   ],
   "source": [
    "img"
   ]
  },
  {
   "cell_type": "code",
   "execution_count": 81,
   "metadata": {},
   "outputs": [
    {
     "data": {
      "text/plain": [
       "(1080, 1920, 3)"
      ]
     },
     "execution_count": 81,
     "metadata": {},
     "output_type": "execute_result"
    }
   ],
   "source": [
    "img.shape"
   ]
  },
  {
   "cell_type": "code",
   "execution_count": 83,
   "metadata": {},
   "outputs": [
    {
     "data": {
      "text/plain": [
       "<matplotlib.image.AxesImage at 0x21a9450a9d0>"
      ]
     },
     "execution_count": 83,
     "metadata": {},
     "output_type": "execute_result"
    },
    {
     "data": {
      "image/png": "[encoded data removed]",
      "text/plain": [
       "<Figure size 432x288 with 1 Axes>"
      ]
     },
     "metadata": {
      "needs_background": "light"
     },
     "output_type": "display_data"
    }
   ],
   "source": [
    "plt.imshow(img)"
   ]
  },
  {
   "cell_type": "code",
   "execution_count": null,
   "metadata": {},
   "outputs": [],
   "source": []
  }
 ],
 "metadata": {
  "kernelspec": {
   "display_name": "Python 3.9.12 ('base')",
   "language": "python",
   "name": "python3"
  },
  "language_info": {
   "codemirror_mode": {
    "name": "ipython",
    "version": 3
   },
   "file_extension": ".py",
   "mimetype": "text/x-python",
   "name": "python",
   "nbconvert_exporter": "python",
   "pygments_lexer": "ipython3",
   "version": "3.9.12"
  },
  "orig_nbformat": 4,
  "vscode": {
   "interpreter": {
    "hash": "3c49ca66e5c8d57ef998acbc4445fda8afa39543d611cccca4a6c099a23fcb0b"
   }
  }
 },
 "nbformat": 4,
 "nbformat_minor": 2
}
