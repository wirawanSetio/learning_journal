{
 "cells": [
  {
   "cell_type": "markdown",
   "metadata": {},
   "source": [
    "# Non-Graded Challenge 6"
   ]
  },
  {
   "cell_type": "markdown",
   "metadata": {},
   "source": [
    "## Soal\n",
    "Apakah $\\begin{bmatrix}1 \\\\3\\end{bmatrix}$ adalah eigenvector dari $\\begin{bmatrix}1 & -1\\\\6 &-4 \\end{bmatrix}$? Jika iya, berapakah eigenvalue-nya?"
   ]
  },
  {
   "cell_type": "markdown",
   "metadata": {},
   "source": [
    "## Jawaban"
   ]
  },
  {
   "cell_type": "code",
   "execution_count": 2,
   "metadata": {},
   "outputs": [],
   "source": [
    "import numpy as np"
   ]
  },
  {
   "cell_type": "code",
   "execution_count": 5,
   "metadata": {},
   "outputs": [
    {
     "name": "stdout",
     "output_type": "stream",
     "text": [
      "Eigen value [-1. -2.]\n",
      "Eigen Vector : \n",
      " [[0.4472136  0.31622777]\n",
      " [0.89442719 0.9486833 ]]\n",
      "test if vector eigen\n",
      " [0.31622777 0.9486833 ]\n"
     ]
    }
   ],
   "source": [
    "eigen_vector = np.array([1,3])\n",
    "M= np.array([[1,-1],\n",
    "             [6,-4]])\n",
    "\n",
    "# cari eigen value dan eigen vector\n",
    "val,vec = np.linalg.eig(M)\n",
    "norm = np.linalg.norm(eigen_vector) #  untuk mencari length unit [1,3]\n",
    "# # test jika diketahui eigen vector adalah benar/salah \n",
    "\"\"\"\n",
    "- karena hasil vector pada linalg.elg() adalah length unit\n",
    "maka hipotesis vector eigen juga harus dalam vector length unit\n",
    "dengan cara [1/norm,3/norm] norm adalah panjang dari vector [1,3]\n",
    "\"\"\"\n",
    "\n",
    "result = np.array([1/norm,3/norm])\n",
    "\n",
    "# bandingkan hasil dengan eig vector asli pada variable \"vec\"\n",
    "print(\"Eigen value\",val)\n",
    "print(\"Eigen Vector : \\n\",vec)\n",
    "print(\"test if vector eigen\\n\",result)\n",
    "# print('value index 1\\n',result_1)"
   ]
  },
  {
   "cell_type": "markdown",
   "metadata": {},
   "source": [
    "length unit pada $\\begin{bmatrix}1 \\\\3\\end{bmatrix}$ **sama** dengan vector dari .linald.eig()"
   ]
  },
  {
   "cell_type": "markdown",
   "metadata": {},
   "source": [
    "## Hasil \n",
    "$\\begin{bmatrix}1 \\\\3\\end{bmatrix}$ **Benar** Eigen Vector dari  $\\begin{bmatrix}1 & -1\\\\6 &-4 \\end{bmatrix}$"
   ]
  },
  {
   "cell_type": "markdown",
   "metadata": {},
   "source": []
  }
 ],
 "metadata": {
  "kernelspec": {
   "display_name": "Python 3.9.12 ('base')",
   "language": "python",
   "name": "python3"
  },
  "language_info": {
   "codemirror_mode": {
    "name": "ipython",
    "version": 3
   },
   "file_extension": ".py",
   "mimetype": "text/x-python",
   "name": "python",
   "nbconvert_exporter": "python",
   "pygments_lexer": "ipython3",
   "version": "3.9.12"
  },
  "orig_nbformat": 4,
  "vscode": {
   "interpreter": {
    "hash": "3c49ca66e5c8d57ef998acbc4445fda8afa39543d611cccca4a6c099a23fcb0b"
   }
  }
 },
 "nbformat": 4,
 "nbformat_minor": 2
}
