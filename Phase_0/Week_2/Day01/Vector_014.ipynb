{
  "cells": [
    {
      "cell_type": "code",
      "execution_count": 1,
      "metadata": {
        "id": "3nuuILdk-VmB"
      },
      "outputs": [],
      "source": [
        "import numpy as np\n",
        "import matplotlib.pyplot as plt"
      ]
    },
    {
      "cell_type": "code",
      "execution_count": 2,
      "metadata": {
        "id": "gx7DAdxx-aZS"
      },
      "outputs": [],
      "source": [
        "def plot_vector2d(vector2d, origin=[0, 0], **options):\n",
        "    return plt.arrow(origin[0], origin[1], vector2d[0], vector2d[1],\n",
        "              head_width=0.2, head_length=0.3, length_includes_head=True,\n",
        "              **options)"
      ]
    },
    {
      "cell_type": "code",
      "execution_count": 3,
      "metadata": {
        "id": "UkJvdgZBDrUs"
      },
      "outputs": [],
      "source": [
        "a = np.array([1, 2, 3])\n",
        "b = np.array([2, 1, 0])"
      ]
    },
    {
      "cell_type": "code",
      "execution_count": 4,
      "metadata": {
        "colab": {
          "base_uri": "https://localhost:8080/"
        },
        "id": "i83r218HD5tW",
        "outputId": "58bd42e8-e638-4e99-c024-8b21d123046f"
      },
      "outputs": [
        {
          "name": "stdout",
          "output_type": "stream",
          "text": [
            "[1 2 3] [2 1 0]\n"
          ]
        }
      ],
      "source": [
        "print(a, b)"
      ]
    },
    {
      "cell_type": "code",
      "execution_count": 5,
      "metadata": {
        "colab": {
          "base_uri": "https://localhost:8080/"
        },
        "id": "diyiwHxqEYg0",
        "outputId": "3bb000b3-c8e6-488e-85dd-39dfbf149858"
      },
      "outputs": [
        {
          "data": {
            "text/plain": [
              "array([3, 3, 3])"
            ]
          },
          "execution_count": 5,
          "metadata": {},
          "output_type": "execute_result"
        }
      ],
      "source": [
        "a + b"
      ]
    },
    {
      "cell_type": "code",
      "execution_count": 6,
      "metadata": {
        "colab": {
          "base_uri": "https://localhost:8080/"
        },
        "id": "uM9GDi6DEARl",
        "outputId": "e3730222-b05a-433e-db3f-babb77321e76"
      },
      "outputs": [
        {
          "name": "stdout",
          "output_type": "stream",
          "text": [
            "[1, 2, 3] [2, 1, 0]\n"
          ]
        }
      ],
      "source": [
        "list1 = [1, 2, 3]\n",
        "list2 = [2, 1, 0]\n",
        "\n",
        "print(list1, list2)"
      ]
    },
    {
      "cell_type": "code",
      "execution_count": 7,
      "metadata": {
        "colab": {
          "base_uri": "https://localhost:8080/"
        },
        "id": "ExDrPRUGEPH5",
        "outputId": "223f679c-1b19-493e-fbf0-ac9a0dda75ec"
      },
      "outputs": [
        {
          "data": {
            "text/plain": [
              "[1, 2, 3, 2, 1, 0]"
            ]
          },
          "execution_count": 7,
          "metadata": {},
          "output_type": "execute_result"
        }
      ],
      "source": [
        "list1 + list2"
      ]
    },
    {
      "cell_type": "code",
      "execution_count": 8,
      "metadata": {
        "colab": {
          "base_uri": "https://localhost:8080/"
        },
        "id": "s2sEZ0fwEhgk",
        "outputId": "ea48fe79-f803-4a1d-c1c2-df92907f754f"
      },
      "outputs": [
        {
          "data": {
            "text/plain": [
              "array([1, 2, 3])"
            ]
          },
          "execution_count": 8,
          "metadata": {},
          "output_type": "execute_result"
        }
      ],
      "source": [
        "a"
      ]
    },
    {
      "cell_type": "code",
      "execution_count": 9,
      "metadata": {
        "colab": {
          "base_uri": "https://localhost:8080/"
        },
        "id": "1I1IKNtkEqNx",
        "outputId": "7e89c897-44d0-48b4-f100-a6dd23b16645"
      },
      "outputs": [
        {
          "data": {
            "text/plain": [
              "array([2, 3])"
            ]
          },
          "execution_count": 9,
          "metadata": {},
          "output_type": "execute_result"
        }
      ],
      "source": [
        "a[1:]"
      ]
    },
    {
      "cell_type": "markdown",
      "metadata": {
        "id": "-kPvQDlyFTeG"
      },
      "source": [
        "**Vector Norm**"
      ]
    },
    {
      "cell_type": "code",
      "execution_count": 10,
      "metadata": {
        "colab": {
          "base_uri": "https://localhost:8080/"
        },
        "id": "Cn8a3xAwFVgT",
        "outputId": "b094dd44-2fc3-43a7-e365-e34034c24a5b"
      },
      "outputs": [
        {
          "data": {
            "text/plain": [
              "array([4, 3])"
            ]
          },
          "execution_count": 10,
          "metadata": {},
          "output_type": "execute_result"
        }
      ],
      "source": [
        "v = np.array([4, 3])\n",
        "v"
      ]
    },
    {
      "cell_type": "code",
      "execution_count": 11,
      "metadata": {
        "colab": {
          "base_uri": "https://localhost:8080/"
        },
        "id": "KKELhKI3Famv",
        "outputId": "cc08cb17-af47-459f-a5c2-1891e558bd4d"
      },
      "outputs": [
        {
          "data": {
            "text/plain": [
              "5.0"
            ]
          },
          "execution_count": 11,
          "metadata": {},
          "output_type": "execute_result"
        }
      ],
      "source": [
        "np.linalg.norm(v)"
      ]
    },
    {
      "cell_type": "code",
      "execution_count": 12,
      "metadata": {
        "colab": {
          "base_uri": "https://localhost:8080/",
          "height": 269
        },
        "id": "PWur01adFkjG",
        "outputId": "948202b2-83ae-433b-a829-e43be599bbcb"
      },
      "outputs": [
        {
          "data": {
            "image/png": "[encoded data removed]",
            "text/plain": [
              "<Figure size 432x288 with 1 Axes>"
            ]
          },
          "metadata": {
            "needs_background": "light"
          },
          "output_type": "display_data"
        }
      ],
      "source": [
        "plot_vector2d(v, color='r')\n",
        "\n",
        "plt.axis([0, 10, 0, 10])\n",
        "plt.grid()\n",
        "plt.show()"
      ]
    },
    {
      "cell_type": "code",
      "execution_count": 13,
      "metadata": {
        "colab": {
          "base_uri": "https://localhost:8080/"
        },
        "id": "3_jw9HWOGZen",
        "outputId": "5d7bb301-7d06-43b2-ce45-92a5295119a3"
      },
      "outputs": [
        {
          "data": {
            "text/plain": [
              "7.0"
            ]
          },
          "execution_count": 13,
          "metadata": {},
          "output_type": "execute_result"
        }
      ],
      "source": [
        "# jarak secara manhattan / L1\n",
        "np.linalg.norm(v, 1)"
      ]
    },
    {
      "cell_type": "code",
      "execution_count": 14,
      "metadata": {
        "colab": {
          "base_uri": "https://localhost:8080/"
        },
        "id": "SsjX7NHcGu02",
        "outputId": "d463d410-3ac6-4e8b-aeff-3264eb49172b"
      },
      "outputs": [
        {
          "data": {
            "text/plain": [
              "5.0"
            ]
          },
          "execution_count": 14,
          "metadata": {},
          "output_type": "execute_result"
        }
      ],
      "source": [
        "# jarak secara euclidean / L2\n",
        "np.linalg.norm(v, 2)"
      ]
    },
    {
      "cell_type": "code",
      "execution_count": 15,
      "metadata": {
        "id": "SOMJENYYGzzN"
      },
      "outputs": [
        {
          "name": "stdout",
          "output_type": "stream",
          "text": [
            "[1 2 3]\n",
            "3.7416573867739413\n"
          ]
        }
      ],
      "source": [
        "print(a)\n",
        "print(np.linalg.norm(a))"
      ]
    },
    {
      "cell_type": "code",
      "execution_count": 16,
      "metadata": {},
      "outputs": [
        {
          "name": "stdout",
          "output_type": "stream",
          "text": [
            "[4 3]\n"
          ]
        },
        {
          "data": {
            "text/plain": [
              "1.0"
            ]
          },
          "execution_count": 16,
          "metadata": {},
          "output_type": "execute_result"
        }
      ],
      "source": [
        "# vector unit\n",
        "print(v)\n",
        "# 5 dari panjang vector tersebut menggunakan \n",
        "v_unit = np.array([4/5,3/5]) # bentuk normalisasi dari vector v dari panjangnya\n",
        "np.linalg.norm(v_unit)"
      ]
    },
    {
      "cell_type": "markdown",
      "metadata": {},
      "source": [
        "**Operasi Aritmatika**\n",
        "- juumlah \n",
        "- pengurangan\n",
        "- pembagian\n",
        "- perkalian"
      ]
    },
    {
      "cell_type": "markdown",
      "metadata": {},
      "source": [
        "**penjumlahan**"
      ]
    },
    {
      "cell_type": "code",
      "execution_count": 17,
      "metadata": {},
      "outputs": [
        {
          "name": "stdout",
          "output_type": "stream",
          "text": [
            "[1 2 3] [2 1 0]\n"
          ]
        }
      ],
      "source": [
        "print(a,b)"
      ]
    },
    {
      "cell_type": "code",
      "execution_count": 18,
      "metadata": {},
      "outputs": [
        {
          "data": {
            "text/plain": [
              "array([11, 12, 13])"
            ]
          },
          "execution_count": 18,
          "metadata": {},
          "output_type": "execute_result"
        }
      ],
      "source": [
        "# vector skalar\n",
        "a+10"
      ]
    },
    {
      "cell_type": "code",
      "execution_count": 19,
      "metadata": {},
      "outputs": [
        {
          "data": {
            "text/plain": [
              "array([3, 3, 3])"
            ]
          },
          "execution_count": 19,
          "metadata": {},
          "output_type": "execute_result"
        }
      ],
      "source": [
        "# vector terhadap vector\n",
        "a + b"
      ]
    },
    {
      "cell_type": "code",
      "execution_count": 20,
      "metadata": {},
      "outputs": [
        {
          "data": {
            "image/png": "[encoded data removed]",
            "text/plain": [
              "<Figure size 432x288 with 1 Axes>"
            ]
          },
          "metadata": {
            "needs_background": "light"
          },
          "output_type": "display_data"
        }
      ],
      "source": [
        "v1 = np.array([4,6])\n",
        "v2 = np.array([3,1])\n",
        "\n",
        "plot_vector2d(v1,color='r')\n",
        "plot_vector2d(v2, origin=v1, color='b')\n",
        "plot_vector2d(v1 + v2, color='g')\n",
        "\n",
        "plt.axis([0, 10, 0, 10])\n",
        "plt.grid()\n",
        "plt.show()"
      ]
    },
    {
      "cell_type": "code",
      "execution_count": 21,
      "metadata": {},
      "outputs": [
        {
          "data": {
            "image/png": "[encoded data removed]",
            "text/plain": [
              "<Figure size 432x288 with 1 Axes>"
            ]
          },
          "metadata": {
            "needs_background": "light"
          },
          "output_type": "display_data"
        }
      ],
      "source": [
        "plot_vector2d(v1,color='r')\n",
        "plot_vector2d(-v2, origin=v1, color='b')\n",
        "plot_vector2d(v1 - v2, color='g')\n",
        "\n",
        "plt.axis([0, 10, 0, 10])\n",
        "plt.grid()\n",
        "plt.show()"
      ]
    },
    {
      "cell_type": "markdown",
      "metadata": {},
      "source": [
        "**pengurangan**"
      ]
    },
    {
      "cell_type": "code",
      "execution_count": 22,
      "metadata": {},
      "outputs": [
        {
          "name": "stdout",
          "output_type": "stream",
          "text": [
            "[1 2 3] [2 1 0]\n"
          ]
        },
        {
          "data": {
            "text/plain": [
              "array([-4, -3, -2])"
            ]
          },
          "execution_count": 22,
          "metadata": {},
          "output_type": "execute_result"
        }
      ],
      "source": [
        "# pengurangan terhadap skalar\n",
        "print(a,b)\n",
        "a - 5"
      ]
    },
    {
      "cell_type": "code",
      "execution_count": 23,
      "metadata": {},
      "outputs": [
        {
          "data": {
            "text/plain": [
              "array([ 1, -1, -3])"
            ]
          },
          "execution_count": 23,
          "metadata": {},
          "output_type": "execute_result"
        }
      ],
      "source": [
        "# pengurangan vector\n",
        "b - a"
      ]
    },
    {
      "cell_type": "markdown",
      "metadata": {},
      "source": [
        "**pembagian**"
      ]
    },
    {
      "cell_type": "code",
      "execution_count": 24,
      "metadata": {},
      "outputs": [
        {
          "name": "stdout",
          "output_type": "stream",
          "text": [
            "[1 2 3] [2 1 0]\n"
          ]
        },
        {
          "data": {
            "text/plain": [
              "array([9. , 4.5, 3. ])"
            ]
          },
          "execution_count": 24,
          "metadata": {},
          "output_type": "execute_result"
        }
      ],
      "source": [
        "# pembagian skalar\n",
        "print(a,b)\n",
        "\n",
        "9/ a"
      ]
    },
    {
      "cell_type": "code",
      "execution_count": 25,
      "metadata": {},
      "outputs": [
        {
          "data": {
            "text/plain": [
              "array([2. , 0.5, 0. ])"
            ]
          },
          "execution_count": 25,
          "metadata": {},
          "output_type": "execute_result"
        }
      ],
      "source": [
        "# pembagian antar vector \n",
        "b / a"
      ]
    },
    {
      "cell_type": "code",
      "execution_count": 26,
      "metadata": {},
      "outputs": [
        {
          "data": {
            "image/png": "[encoded data removed]",
            "text/plain": [
              "<Figure size 432x288 with 1 Axes>"
            ]
          },
          "metadata": {
            "needs_background": "light"
          },
          "output_type": "display_data"
        }
      ],
      "source": [
        "plot_vector2d(v1,color='r')\n",
        "plot_vector2d(v2, origin=v1, color='b')\n",
        "plot_vector2d(v1 / v2, color='g')\n",
        "\n",
        "plt.axis([0, 10, 0, 10])\n",
        "plt.grid()\n",
        "plt.show()"
      ]
    },
    {
      "cell_type": "markdown",
      "metadata": {},
      "source": [
        "**Perkalian**\n",
        "- vector skalar juga disebut scalling ( perubahan panjang vektor tanpa merubah arah)\n",
        "- vektor terhadap vektor (element wise multiplication)\n",
        "- dot product"
      ]
    },
    {
      "cell_type": "code",
      "execution_count": 27,
      "metadata": {},
      "outputs": [
        {
          "name": "stdout",
          "output_type": "stream",
          "text": [
            "[1 2 3] [2 1 0]\n"
          ]
        },
        {
          "data": {
            "text/plain": [
              "array([10, 20, 30])"
            ]
          },
          "execution_count": 27,
          "metadata": {},
          "output_type": "execute_result"
        }
      ],
      "source": [
        "print(a,b)\n",
        "\n",
        "# perkalian skalar\n",
        "\n",
        "a * 10"
      ]
    },
    {
      "cell_type": "markdown",
      "metadata": {},
      "source": [
        "visualisasi scalling jika vektor dikalikan"
      ]
    },
    {
      "cell_type": "code",
      "execution_count": 28,
      "metadata": {},
      "outputs": [
        {
          "data": {
            "image/png": "[encoded data removed]",
            "text/plain": [
              "<Figure size 432x288 with 1 Axes>"
            ]
          },
          "metadata": {
            "needs_background": "light"
          },
          "output_type": "display_data"
        }
      ],
      "source": [
        "\n",
        "\n",
        "plot_vector2d(v2,color='r')\n",
        "plot_vector2d(v2 * -.7,color='b')\n",
        "# plot_vector2d(v2, origin=v1, color='b')\n",
        "# plot_vector2d(v1 / v2, color='g')\n",
        "\n",
        "plt.axis([-6, 6, -6, 6])\n",
        "plt.axhline = ([0])\n",
        "plt.axvline = ([0])\n",
        "plt.grid()\n",
        "plt.show()"
      ]
    },
    {
      "cell_type": "code",
      "execution_count": 29,
      "metadata": {},
      "outputs": [
        {
          "name": "stdout",
          "output_type": "stream",
          "text": [
            "[1 2 3] [2 1 0]\n"
          ]
        },
        {
          "data": {
            "text/plain": [
              "array([2, 2, 0])"
            ]
          },
          "execution_count": 29,
          "metadata": {},
          "output_type": "execute_result"
        }
      ],
      "source": [
        "# vector terhadap vector\n",
        "print(a,b)\n",
        "\n",
        "a * b"
      ]
    },
    {
      "cell_type": "code",
      "execution_count": 30,
      "metadata": {},
      "outputs": [
        {
          "name": "stdout",
          "output_type": "stream",
          "text": [
            "[1 2 3] [2 1 0]\n",
            "4\n",
            "4\n",
            "4\n"
          ]
        }
      ],
      "source": [
        "# dot product\n",
        "print(a,b)\n",
        "\n",
        "print(np.dot(a,b))\n",
        "\n",
        "print(a.dot(b))\n",
        "\n",
        "print(a @ b)"
      ]
    },
    {
      "cell_type": "markdown",
      "metadata": {},
      "source": [
        "dot product also known as a . b = ||a|| * ||b|| * cos a"
      ]
    },
    {
      "cell_type": "markdown",
      "metadata": {},
      "source": [
        "**Cosin similarity**"
      ]
    },
    {
      "cell_type": "code",
      "execution_count": 31,
      "metadata": {},
      "outputs": [
        {
          "data": {
            "text/plain": [
              "0.47809144373375745"
            ]
          },
          "execution_count": 31,
          "metadata": {},
          "output_type": "execute_result"
        }
      ],
      "source": [
        "cos_tetha = a @ b / (np.linalg.norm(a) * np.linalg.norm(b))\n",
        "cos_tetha"
      ]
    },
    {
      "cell_type": "markdown",
      "metadata": {},
      "source": [
        "**simulasi** "
      ]
    },
    {
      "cell_type": "code",
      "execution_count": 32,
      "metadata": {},
      "outputs": [
        {
          "data": {
            "image/png": "[encoded data removed]",
            "text/plain": [
              "<Figure size 432x288 with 1 Axes>"
            ]
          },
          "metadata": {
            "needs_background": "light"
          },
          "output_type": "display_data"
        }
      ],
      "source": [
        "# sudut 90 derajat, cos_tetha = 0\n",
        "v1 = np.array([4,0])\n",
        "v2 = np.array([0,5])\n",
        "\n",
        "plot_vector2d(v1,color='r')\n",
        "plot_vector2d(v2, color='g')\n",
        "\n",
        "plt.axis([0, 10, 0, 10])\n",
        "plt.grid()\n",
        "plt.show()"
      ]
    },
    {
      "cell_type": "code",
      "execution_count": 33,
      "metadata": {},
      "outputs": [
        {
          "data": {
            "text/plain": [
              "0.0"
            ]
          },
          "execution_count": 33,
          "metadata": {},
          "output_type": "execute_result"
        }
      ],
      "source": [
        "cos_tetha = v1 @ v2 / (np.linalg.norm(v1) * np.linalg.norm(v2))\n",
        "cos_tetha"
      ]
    },
    {
      "cell_type": "code",
      "execution_count": 34,
      "metadata": {},
      "outputs": [
        {
          "data": {
            "image/png": "[encoded data removed]",
            "text/plain": [
              "<Figure size 432x288 with 1 Axes>"
            ]
          },
          "metadata": {
            "needs_background": "light"
          },
          "output_type": "display_data"
        }
      ],
      "source": [
        "# sudut 90 derajat, cos_tetha = 0\n",
        "v1 = np.array([4,0])\n",
        "v2 = np.array([6,0])\n",
        "\n",
        "plot_vector2d(v2, color='g')\n",
        "plot_vector2d(v1,color='r')\n",
        "\n",
        "plt.axis([0, 10, 0, 10])\n",
        "plt.grid()\n",
        "plt.show()"
      ]
    },
    {
      "cell_type": "code",
      "execution_count": 35,
      "metadata": {},
      "outputs": [
        {
          "data": {
            "text/plain": [
              "1.0"
            ]
          },
          "execution_count": 35,
          "metadata": {},
          "output_type": "execute_result"
        }
      ],
      "source": [
        "cos_tetha = v1 @ v2 / (np.linalg.norm(v1) * np.linalg.norm(v2))\n",
        "cos_tetha"
      ]
    },
    {
      "cell_type": "markdown",
      "metadata": {},
      "source": [
        "**Contoh NLP** <br>\n",
        "\n",
        "- kalimat 1 = kemarin saya ke rumah nenek saya\n",
        "- kalimat 2 = kemarin saya ke rumah nenek saya"
      ]
    },
    {
      "cell_type": "code",
      "execution_count": 36,
      "metadata": {},
      "outputs": [
        {
          "data": {
            "text/plain": [
              "0.8749999999999998"
            ]
          },
          "execution_count": 36,
          "metadata": {},
          "output_type": "execute_result"
        }
      ],
      "source": [
        "kal_1 = np.array([1,2,1,1,1,0]) # menghituung kata pada kalimat 1\n",
        "kal_2 = np.array([1,2,1,1,0,1])# menghituung kata pada kalimat 2\n",
        "\n",
        "cos_tetha = kal_1 @ kal_2 / (np.linalg.norm(kal_1) * np.linalg.norm(kal_2))\n",
        "cos_tetha"
      ]
    },
    {
      "cell_type": "markdown",
      "metadata": {},
      "source": [
        "maximal angka kemiripan [-1,1] atau [0,1]<br>\n",
        "jika disitu 0.874, itu berarti kalimat 1 dan kalimat 2 sangat mirip"
      ]
    },
    {
      "cell_type": "markdown",
      "metadata": {},
      "source": [
        "**Contoh NLP** <br>\n",
        "\n",
        "- kalimat 1 = sore kemarin hujan deras di sini\n",
        "- kalimat 2 = nanti sore ada bazar"
      ]
    },
    {
      "cell_type": "code",
      "execution_count": 38,
      "metadata": {},
      "outputs": [
        {
          "name": "stdout",
          "output_type": "stream",
          "text": [
            "dict_1 =  {'sore': 2, 'kemarin': 1, 'hujan': 1, 'deras': 1, 'di': 1, 'sini': 1, 'nanti': 0, 'ada': 0, 'bazar': 0}\n",
            "dict_2 =  {'sore': 1, 'kemarin': 0, 'hujan': 0, 'deras': 0, 'di': 0, 'sini': 0, 'nanti': 1, 'ada': 1, 'bazar': 1}\n"
          ]
        },
        {
          "data": {
            "text/plain": [
              "0.3333333333333333"
            ]
          },
          "execution_count": 38,
          "metadata": {},
          "output_type": "execute_result"
        }
      ],
      "source": [
        "# menghitung similarity dengan sudut 2 vector\n",
        "def similarity(k1,k2): \n",
        "    cos_tetha = k1 @ k2 / (np.linalg.norm(k1) * np.linalg.norm(k2))\n",
        "    return cos_tetha\n",
        "\n",
        "# mencari dan hitung kata dari 2 kalimat\n",
        "def hitung_kata (kal_1,kal_2):\n",
        "    \n",
        "    # siapkan dictionary untuk menyimpan kata yang dihitung\n",
        "    dict_1 = dict()\n",
        "    dict_2 = dict()\n",
        "    \n",
        "    # pisahkan setiap kalta dari kalimat 1 dan kalimat 2 berdasarkan spasi nya\n",
        "    kata_1 = kal_1.split()\n",
        "    kata_2 = kal_2.split()\n",
        "    \n",
        "    # panjang setiap list kata\n",
        "    length = (len(kata_1),len(kata_2))\n",
        "    \n",
        "    #kalimat di gabungkan \n",
        "    kalimat = (kata_1+kata_2)\n",
        "\n",
        "    i_kata = 0 # index kata untuk membedakan list kata 1 atau klist kata 2\n",
        "    for w in kalimat: # loop setiap kata yang digabung dalam variable \"kalimat\"\n",
        "        if i_kata < length[0]: # jika panjang kalimat kurang dari list kata 1 maka :\n",
        "            dict_1[w] = dict_1.get(w,0)+1 # hitung banyak kata masukan key dan value ke dictionary kata_1\n",
        "            dict_2[w] =dict_2.get(w,0)# masukan key dan value = 0 ke dictionary kata_2\n",
        "        else: # jika lebih dari panjang kata_1 :\n",
        "            if dict_1.get(w,0) > 0: # jika ditemukan kata yang sama pada dict_1 \n",
        "                dict_1[w] = dict_1.get(w,0)+1 # tambahkan + 1 pada pada value\n",
        "            else: \n",
        "                dict_1[w] = dict_1.get(w,0) # set kata pada key dan value = 0\n",
        "            dict_2[w] = dict_2.get(w,0)+1 # hitung banyak kata masukan key dan value ke dictionary kata_2\n",
        "        \n",
        "        i_kata += 1 # tambah nilai index\n",
        "    \n",
        "    # jadikan values setiap dictionary kata menjadi array\n",
        "    arr_1 = np.array(list(dict_1.values()))\n",
        "    arr_2 = np.array(list(dict_2.values()))\n",
        "    # check array\n",
        "    print(\"dict_1 = \",dict_1)\n",
        "    print(\"dict_2 = \",dict_2)\n",
        "    #return setiap array\n",
        "    return (arr_1,arr_2)\n",
        "\n",
        "array_kata = hitung_kata(\"sore kemarin hujan deras di sini\",\"nanti sore ada bazar\")\n",
        "\n",
        "\n",
        "similarity(array_kata[0],array_kata[1])\n"
      ]
    },
    {
      "cell_type": "code",
      "execution_count": null,
      "metadata": {},
      "outputs": [],
      "source": []
    }
  ],
  "metadata": {
    "colab": {
      "name": "Vector_014.ipynb",
      "provenance": []
    },
    "kernelspec": {
      "display_name": "Python 3.9.12 ('base')",
      "language": "python",
      "name": "python3"
    },
    "language_info": {
      "codemirror_mode": {
        "name": "ipython",
        "version": 3
      },
      "file_extension": ".py",
      "mimetype": "text/x-python",
      "name": "python",
      "nbconvert_exporter": "python",
      "pygments_lexer": "ipython3",
      "version": "3.9.12"
    },
    "vscode": {
      "interpreter": {
        "hash": "3c49ca66e5c8d57ef998acbc4445fda8afa39543d611cccca4a6c099a23fcb0b"
      }
    }
  },
  "nbformat": 4,
  "nbformat_minor": 0
}
