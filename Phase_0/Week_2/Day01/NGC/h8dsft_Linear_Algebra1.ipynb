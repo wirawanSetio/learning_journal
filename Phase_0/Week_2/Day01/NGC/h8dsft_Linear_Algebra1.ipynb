{
 "cells": [
  {
   "cell_type": "markdown",
   "metadata": {},
   "source": [
    "# Non-Graded Challenge\n",
    "by Wirawan Setio Aji <br>\n",
    "batch 014"
   ]
  },
  {
   "cell_type": "markdown",
   "metadata": {},
   "source": [
    "## Soal \n",
    "\n",
    "1. **Buatlahvektordi bawahinidenganPython: [17,22,19]** \n",
    "2. **but vector 3d dari A = [17,22,19], B = [10,20,11] ,C = [5,12,9] dan hitung :**\n",
    "    - A+B\n",
    "    - B-C\n",
    "    - A dot C\n",
    "    - A * B\n",
    "    - norm A\n",
    "    - Sudut antara vector A, B\n",
    "\n",
    "    \n",
    "3. **Buatlah plot darivector berikutinikedalambidang2D:u = [2,5] v=[3,1]**"
   ]
  },
  {
   "cell_type": "markdown",
   "metadata": {},
   "source": [
    "## Import Library\n",
    "kali ini menggunakan library *Numpy* dan *matplotlib*"
   ]
  },
  {
   "cell_type": "code",
   "execution_count": 8,
   "metadata": {},
   "outputs": [],
   "source": [
    "import numpy as np\n",
    "import matplotlib.pyplot as plt"
   ]
  },
  {
   "cell_type": "markdown",
   "metadata": {},
   "source": [
    "# Jawaban"
   ]
  },
  {
   "cell_type": "markdown",
   "metadata": {},
   "source": [
    "1. Buatlahvektordi bawahinidenganPython: [17,22,19]"
   ]
  },
  {
   "cell_type": "code",
   "execution_count": 3,
   "metadata": {},
   "outputs": [
    {
     "name": "stdout",
     "output_type": "stream",
     "text": [
      "[17 22 19] ,data type : <class 'numpy.ndarray'>\n"
     ]
    }
   ],
   "source": [
    "a = np.array([17,22,19])\n",
    "\n",
    "print(a,\",data type :\",type(a))"
   ]
  },
  {
   "cell_type": "markdown",
   "metadata": {},
   "source": [
    "2. buat vektor\n",
    "Hitunglah:\n",
    "    - A+B\n",
    "    - B-C\n",
    "    - A dot C\n",
    "    - A x B\n",
    "    - norm A\n",
    "    - Sudutantaravektor A dan B"
   ]
  },
  {
   "cell_type": "code",
   "execution_count": 7,
   "metadata": {},
   "outputs": [
    {
     "name": "stdout",
     "output_type": "stream",
     "text": [
      "A + B =  [27 42 30]\n",
      "B - C =  [5 8 2]\n",
      "A dot C = 520\n",
      "A x B = [170 440 209]\n",
      "Norm A =  33.67491648096547\n",
      "Sudut antar vektor A,B =  0.9759590023331435\n"
     ]
    }
   ],
   "source": [
    "# set vector A,B,C\n",
    "A = np.array([17,22,19])\n",
    "B = np.array([10,20,11])\n",
    "C = np.array([5,12,9])\n",
    "\n",
    "# 1. A + B \n",
    "print(\"A + B = \",A+B)\n",
    "# 2. B - C\n",
    "print(\"B - C = \",B - C)\n",
    "# 3. A dot C\n",
    "print(\"A dot C =\", A @ C)\n",
    "# 4. A x B\n",
    "print(\"A x B =\", A * B)\n",
    "# 5. Norm A\n",
    "print(\"Norm A = \", np.linalg.norm(A))\n",
    "# 6. Sudut Antar Vektor A dan B\n",
    "sudut = A @ B / (np.linalg.norm(A) * np.linalg.norm(B))\n",
    "print(\"Sudut antar vektor A,B = \",sudut)"
   ]
  },
  {
   "cell_type": "markdown",
   "metadata": {},
   "source": [
    "3. membuat plot"
   ]
  },
  {
   "cell_type": "code",
   "execution_count": 22,
   "metadata": {},
   "outputs": [
    {
     "data": {
      "image/png": "[encoded data removed]",
      "text/plain": [
       "<Figure size 432x288 with 1 Axes>"
      ]
     },
     "metadata": {
      "needs_background": "light"
     },
     "output_type": "display_data"
    }
   ],
   "source": [
    "\n",
    "\n",
    "\n",
    "def plot_vector(vector2d, origin=[0, 0], **options):\n",
    "    return plt.arrow(origin[0], origin[1], vector2d[0], vector2d[1],\n",
    "              head_width=.2, head_length=.5, length_includes_head=True,\n",
    "              **options)\n",
    "\n",
    "u = np.array([2,5]) # definisi vektor 'u'\n",
    "v = np.array([3,1]) # definisi vektor 'v'\n",
    "\n",
    "plot_vector(u, color='r')\n",
    "plot_vector(v, color='b')\n",
    "plot_vector(u * v, color='g')\n",
    "\n",
    "plt.axis([0, 10, 0, 10])\n",
    "plt.grid()\n",
    "plt.show()\n",
    "\n",
    "\n"
   ]
  },
  {
   "cell_type": "code",
   "execution_count": null,
   "metadata": {},
   "outputs": [],
   "source": []
  }
 ],
 "metadata": {
  "kernelspec": {
   "display_name": "Python 3.9.12 ('base')",
   "language": "python",
   "name": "python3"
  },
  "language_info": {
   "codemirror_mode": {
    "name": "ipython",
    "version": 3
   },
   "file_extension": ".py",
   "mimetype": "text/x-python",
   "name": "python",
   "nbconvert_exporter": "python",
   "pygments_lexer": "ipython3",
   "version": "3.9.12"
  },
  "orig_nbformat": 4,
  "vscode": {
   "interpreter": {
    "hash": "3c49ca66e5c8d57ef998acbc4445fda8afa39543d611cccca4a6c099a23fcb0b"
   }
  }
 },
 "nbformat": 4,
 "nbformat_minor": 2
}
