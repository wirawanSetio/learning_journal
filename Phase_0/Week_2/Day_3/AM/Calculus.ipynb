{
  "cells": [
    {
      "cell_type": "markdown",
      "metadata": {
        "id": "_xfkJ0nSFIGb"
      },
      "source": [
        "# Turunan Symbolic\n",
        "\n",
        "---\n",
        "\n",
        "Penurunan fungsi biasa berdasarkan simbolnya"
      ]
    },
    {
      "cell_type": "code",
      "execution_count": 321,
      "metadata": {
        "id": "bj3SBjwAEotY"
      },
      "outputs": [],
      "source": [
        "import sympy as sy"
      ]
    },
    {
      "cell_type": "code",
      "execution_count": 322,
      "metadata": {
        "colab": {
          "base_uri": "https://localhost:8080/",
          "height": 39
        },
        "id": "oSbxZN1nFGNs",
        "outputId": "57af6cfb-6392-4979-f0d3-6d9d61e5c5c0"
      },
      "outputs": [
        {
          "data": {
            "text/latex": [
              "$\\displaystyle x$"
            ],
            "text/plain": [
              "x"
            ]
          },
          "execution_count": 322,
          "metadata": {},
          "output_type": "execute_result"
        }
      ],
      "source": [
        "x = sy.Symbol('x')\n",
        "x"
      ]
    },
    {
      "cell_type": "code",
      "execution_count": 323,
      "metadata": {
        "colab": {
          "base_uri": "https://localhost:8080/",
          "height": 39
        },
        "id": "nWLY40MVFrQu",
        "outputId": "1e783271-99d7-40c8-c0f3-febff8e9f5d7"
      },
      "outputs": [
        {
          "data": {
            "text/latex": [
              "$\\displaystyle 2 x^{2} + 4 x - 1$"
            ],
            "text/plain": [
              "2*x**2 + 4*x - 1"
            ]
          },
          "execution_count": 323,
          "metadata": {},
          "output_type": "execute_result"
        }
      ],
      "source": [
        "f = 2*x**2 + 4*x - 1\n",
        "f"
      ]
    },
    {
      "cell_type": "code",
      "execution_count": 324,
      "metadata": {
        "colab": {
          "base_uri": "https://localhost:8080/",
          "height": 39
        },
        "id": "Xg1-I1NVFxeV",
        "outputId": "8471bcdc-dd6a-462a-95e8-a8c2317376d4"
      },
      "outputs": [
        {
          "data": {
            "text/latex": [
              "$\\displaystyle 4 x + 4$"
            ],
            "text/plain": [
              "4*x + 4"
            ]
          },
          "execution_count": 324,
          "metadata": {},
          "output_type": "execute_result"
        }
      ],
      "source": [
        "#First order\n",
        "df = f.diff()\n",
        "df"
      ]
    },
    {
      "cell_type": "code",
      "execution_count": 325,
      "metadata": {
        "colab": {
          "base_uri": "https://localhost:8080/",
          "height": 39
        },
        "id": "HsX4R3ejqz3O",
        "outputId": "6f69da1c-2359-4003-93e1-16b651701df0"
      },
      "outputs": [
        {
          "data": {
            "text/latex": [
              "$\\displaystyle 4 x + 4$"
            ],
            "text/plain": [
              "4*x + 4"
            ]
          },
          "execution_count": 325,
          "metadata": {},
          "output_type": "execute_result"
        }
      ],
      "source": [
        "#Turunan Pertama\n",
        "sy.diff(f)"
      ]
    },
    {
      "cell_type": "code",
      "execution_count": 326,
      "metadata": {
        "colab": {
          "base_uri": "https://localhost:8080/",
          "height": 37
        },
        "id": "me2mbm5_GBPv",
        "outputId": "f2294808-d37a-472c-ebc1-1107e611e1a8"
      },
      "outputs": [
        {
          "data": {
            "text/latex": [
              "$\\displaystyle 4$"
            ],
            "text/plain": [
              "4"
            ]
          },
          "execution_count": 326,
          "metadata": {},
          "output_type": "execute_result"
        }
      ],
      "source": [
        "#Second order\n",
        "d2f = df.diff()\n",
        "d2f"
      ]
    },
    {
      "cell_type": "code",
      "execution_count": 327,
      "metadata": {
        "colab": {
          "base_uri": "https://localhost:8080/",
          "height": 37
        },
        "id": "kz4x4L6e0U1b",
        "outputId": "c1ae04ab-b61f-465e-e7a0-19ca34f2b820"
      },
      "outputs": [
        {
          "data": {
            "text/latex": [
              "$\\displaystyle 4$"
            ],
            "text/plain": [
              "4"
            ]
          },
          "execution_count": 327,
          "metadata": {},
          "output_type": "execute_result"
        }
      ],
      "source": [
        "f.diff().diff()"
      ]
    },
    {
      "cell_type": "code",
      "execution_count": 328,
      "metadata": {
        "colab": {
          "base_uri": "https://localhost:8080/",
          "height": 37
        },
        "id": "JuT_zB9_tjU_",
        "outputId": "8cd4c716-686d-4df3-bf91-6daa74a2d089"
      },
      "outputs": [
        {
          "data": {
            "text/latex": [
              "$\\displaystyle 4$"
            ],
            "text/plain": [
              "4"
            ]
          },
          "execution_count": 328,
          "metadata": {},
          "output_type": "execute_result"
        }
      ],
      "source": [
        "#Turunan kedua\n",
        "sy.diff(sy.diff(f)) #atau sy.diff(df)"
      ]
    },
    {
      "cell_type": "code",
      "execution_count": 329,
      "metadata": {
        "colab": {
          "base_uri": "https://localhost:8080/",
          "height": 37
        },
        "id": "oR4AH4VaGGKL",
        "outputId": "983c9584-b454-4241-f035-41a40c312aad"
      },
      "outputs": [
        {
          "data": {
            "text/latex": [
              "$\\displaystyle 0$"
            ],
            "text/plain": [
              "0"
            ]
          },
          "execution_count": 329,
          "metadata": {},
          "output_type": "execute_result"
        }
      ],
      "source": [
        "#Third order\n",
        "d2f.diff()"
      ]
    },
    {
      "cell_type": "code",
      "execution_count": 330,
      "metadata": {
        "colab": {
          "base_uri": "https://localhost:8080/",
          "height": 37
        },
        "id": "NjzieM64qlNM",
        "outputId": "80e0cb76-4ace-4b7a-b61f-a844341cf5c9"
      },
      "outputs": [
        {
          "data": {
            "text/latex": [
              "$\\displaystyle 0$"
            ],
            "text/plain": [
              "0"
            ]
          },
          "execution_count": 330,
          "metadata": {},
          "output_type": "execute_result"
        }
      ],
      "source": [
        "f.diff().diff().diff()"
      ]
    },
    {
      "cell_type": "code",
      "execution_count": 331,
      "metadata": {
        "colab": {
          "base_uri": "https://localhost:8080/",
          "height": 39
        },
        "id": "CNAIpgnR0Cpk",
        "outputId": "fa2330a4-40ed-4aaf-9d70-08a99e0d98f8"
      },
      "outputs": [
        {
          "data": {
            "text/latex": [
              "$\\displaystyle - \\log{\\left(x^{2} \\right)} + \\cos{\\left(x \\right)}$"
            ],
            "text/plain": [
              "-log(x**2) + cos(x)"
            ]
          },
          "execution_count": 331,
          "metadata": {},
          "output_type": "execute_result"
        }
      ],
      "source": [
        "g = sy.cos(x)-sy.log(x**2)\n",
        "g"
      ]
    },
    {
      "cell_type": "code",
      "execution_count": 332,
      "metadata": {
        "colab": {
          "base_uri": "https://localhost:8080/",
          "height": 51
        },
        "id": "TCOeWQXy0LRR",
        "outputId": "4b5c9abf-87d1-4a5a-b5a0-da2bcdde1e5b"
      },
      "outputs": [
        {
          "data": {
            "text/latex": [
              "$\\displaystyle - \\sin{\\left(x \\right)} - \\frac{2}{x}$"
            ],
            "text/plain": [
              "-sin(x) - 2/x"
            ]
          },
          "execution_count": 332,
          "metadata": {},
          "output_type": "execute_result"
        }
      ],
      "source": [
        "g.diff()"
      ]
    },
    {
      "cell_type": "code",
      "execution_count": 333,
      "metadata": {
        "colab": {
          "base_uri": "https://localhost:8080/",
          "height": 51
        },
        "id": "cRxUSr8sYR-0",
        "outputId": "18657ed3-8b15-4f6c-d214-5ce4ffac2550"
      },
      "outputs": [
        {
          "data": {
            "text/latex": [
              "$\\displaystyle \\sin{\\left(x \\right)} - \\frac{4}{x^{3}}$"
            ],
            "text/plain": [
              "sin(x) - 4/x**3"
            ]
          },
          "execution_count": 333,
          "metadata": {},
          "output_type": "execute_result"
        }
      ],
      "source": [
        "g.diff().diff().diff()"
      ]
    },
    {
      "cell_type": "markdown",
      "metadata": {
        "id": "3SKvVb9-HN4o"
      },
      "source": [
        "# Turunan Numerik\n",
        "\n",
        "---\n",
        "\n",
        "Menurunkan suatu fungsi dengan array"
      ]
    },
    {
      "cell_type": "code",
      "execution_count": 334,
      "metadata": {
        "id": "rbXkWrGTHWd8"
      },
      "outputs": [],
      "source": [
        "import numpy as np"
      ]
    },
    {
      "cell_type": "code",
      "execution_count": 335,
      "metadata": {
        "id": "VzodoYICsnNF"
      },
      "outputs": [],
      "source": [
        "#np.linspace(start,stop,num), default num=50"
      ]
    },
    {
      "cell_type": "code",
      "execution_count": 336,
      "metadata": {
        "id": "fmKkS88IHabC"
      },
      "outputs": [],
      "source": [
        "X = np.linspace(-100,100, 100)\n",
        "Y = 2*X**2+4*X-1"
      ]
    },
    {
      "cell_type": "code",
      "execution_count": 337,
      "metadata": {
        "colab": {
          "base_uri": "https://localhost:8080/"
        },
        "id": "g4dpJUmtHxsN",
        "outputId": "acd62d13-d27f-456e-d3d9-17715374251f"
      },
      "outputs": [
        {
          "data": {
            "text/plain": [
              "array([-100.        ,  -97.97979798,  -95.95959596,  -93.93939394,\n",
              "        -91.91919192,  -89.8989899 ,  -87.87878788,  -85.85858586,\n",
              "        -83.83838384,  -81.81818182,  -79.7979798 ,  -77.77777778,\n",
              "        -75.75757576,  -73.73737374,  -71.71717172,  -69.6969697 ,\n",
              "        -67.67676768,  -65.65656566,  -63.63636364,  -61.61616162,\n",
              "        -59.5959596 ,  -57.57575758,  -55.55555556,  -53.53535354,\n",
              "        -51.51515152,  -49.49494949,  -47.47474747,  -45.45454545,\n",
              "        -43.43434343,  -41.41414141,  -39.39393939,  -37.37373737,\n",
              "        -35.35353535,  -33.33333333,  -31.31313131,  -29.29292929,\n",
              "        -27.27272727,  -25.25252525,  -23.23232323,  -21.21212121,\n",
              "        -19.19191919,  -17.17171717,  -15.15151515,  -13.13131313,\n",
              "        -11.11111111,   -9.09090909,   -7.07070707,   -5.05050505,\n",
              "         -3.03030303,   -1.01010101,    1.01010101,    3.03030303,\n",
              "          5.05050505,    7.07070707,    9.09090909,   11.11111111,\n",
              "         13.13131313,   15.15151515,   17.17171717,   19.19191919,\n",
              "         21.21212121,   23.23232323,   25.25252525,   27.27272727,\n",
              "         29.29292929,   31.31313131,   33.33333333,   35.35353535,\n",
              "         37.37373737,   39.39393939,   41.41414141,   43.43434343,\n",
              "         45.45454545,   47.47474747,   49.49494949,   51.51515152,\n",
              "         53.53535354,   55.55555556,   57.57575758,   59.5959596 ,\n",
              "         61.61616162,   63.63636364,   65.65656566,   67.67676768,\n",
              "         69.6969697 ,   71.71717172,   73.73737374,   75.75757576,\n",
              "         77.77777778,   79.7979798 ,   81.81818182,   83.83838384,\n",
              "         85.85858586,   87.87878788,   89.8989899 ,   91.91919192,\n",
              "         93.93939394,   95.95959596,   97.97979798,  100.        ])"
            ]
          },
          "execution_count": 337,
          "metadata": {},
          "output_type": "execute_result"
        }
      ],
      "source": [
        "X"
      ]
    },
    {
      "cell_type": "code",
      "execution_count": 338,
      "metadata": {
        "colab": {
          "base_uri": "https://localhost:8080/"
        },
        "id": "my8DOz5uHz7A",
        "outputId": "eeeb90c0-a54d-4d24-905b-e53041be0cd0"
      },
      "outputs": [
        {
          "data": {
            "text/plain": [
              "array([ 1.95990000e+04,  1.88071624e+04,  1.80316497e+04,  1.72724619e+04,\n",
              "        1.65295989e+04,  1.58030608e+04,  1.50928476e+04,  1.43989592e+04,\n",
              "        1.37213957e+04,  1.30601570e+04,  1.24152432e+04,  1.17866543e+04,\n",
              "        1.11743903e+04,  1.05784511e+04,  9.99883675e+03,  9.43554729e+03,\n",
              "        8.88858270e+03,  8.35794297e+03,  7.84362810e+03,  7.34563810e+03,\n",
              "        6.86397296e+03,  6.39863269e+03,  5.94961728e+03,  5.51692674e+03,\n",
              "        5.10056107e+03,  4.70052025e+03,  4.31680431e+03,  3.94941322e+03,\n",
              "        3.59834701e+03,  3.26360565e+03,  2.94518916e+03,  2.64309754e+03,\n",
              "        2.35733078e+03,  2.08788889e+03,  1.83477186e+03,  1.59797970e+03,\n",
              "        1.37751240e+03,  1.17336996e+03,  9.85552393e+02,  8.14059688e+02,\n",
              "        6.58891848e+02,  5.20048873e+02,  3.97530762e+02,  2.91337517e+02,\n",
              "        2.01469136e+02,  1.27925620e+02,  7.07069687e+01,  2.98131823e+01,\n",
              "        5.24426079e+00, -2.99979594e+00,  5.08101214e+00,  2.94866850e+01,\n",
              "        7.02172227e+01,  1.27272625e+02,  2.00652893e+02,  2.90358025e+02,\n",
              "        3.96388022e+02,  5.18742883e+02,  6.57422610e+02,  8.12427201e+02,\n",
              "        9.83756657e+02,  1.17141098e+03,  1.37539016e+03,  1.59569421e+03,\n",
              "        1.83232313e+03,  2.08527691e+03,  2.35455556e+03,  2.64015907e+03,\n",
              "        2.94208744e+03,  3.26034068e+03,  3.59491878e+03,  3.94582175e+03,\n",
              "        4.31304959e+03,  4.69660229e+03,  5.09647985e+03,  5.51268228e+03,\n",
              "        5.94520957e+03,  6.39406173e+03,  6.85923875e+03,  7.34074064e+03,\n",
              "        7.83856739e+03,  8.35271901e+03,  8.88319549e+03,  9.42999684e+03,\n",
              "        9.99312305e+03,  1.05725741e+04,  1.11683501e+04,  1.17804509e+04,\n",
              "        1.24088765e+04,  1.30536271e+04,  1.37147025e+04,  1.43921027e+04,\n",
              "        1.50858279e+04,  1.57958779e+04,  1.65222527e+04,  1.72649525e+04,\n",
              "        1.80239770e+04,  1.87993265e+04,  1.95910008e+04,  2.03990000e+04])"
            ]
          },
          "execution_count": 338,
          "metadata": {},
          "output_type": "execute_result"
        }
      ],
      "source": [
        "Y"
      ]
    },
    {
      "cell_type": "code",
      "execution_count": 339,
      "metadata": {
        "colab": {
          "base_uri": "https://localhost:8080/",
          "height": 282
        },
        "id": "29wz3GTxH5Bh",
        "outputId": "8a2a9318-2103-4b89-fd24-41b71b80994b"
      },
      "outputs": [
        {
          "data": {
            "text/plain": [
              "[<matplotlib.lines.Line2D at 0x20ea2059a60>]"
            ]
          },
          "execution_count": 339,
          "metadata": {},
          "output_type": "execute_result"
        },
        {
          "data": {
            "image/png": "[encoded data removed]",
            "text/plain": [
              "<Figure size 432x288 with 1 Axes>"
            ]
          },
          "metadata": {
            "needs_background": "light"
          },
          "output_type": "display_data"
        }
      ],
      "source": [
        "import matplotlib.pyplot as plt\n",
        "\n",
        "plt.plot(X,Y)"
      ]
    },
    {
      "cell_type": "markdown",
      "metadata": {
        "id": "3RU98Um4w3l7"
      },
      "source": [
        "$m = \\frac {Δy} {Δx}$  atau \n",
        "$m = \\frac {diff (y)} {diff(x)}$\n"
      ]
    },
    {
      "cell_type": "code",
      "execution_count": 340,
      "metadata": {
        "id": "gf1FrqowILz1"
      },
      "outputs": [],
      "source": [
        "df1 = np.diff(Y)/np.diff(X)\n",
        "df2 = np.gradient(Y,X)"
      ]
    },
    {
      "cell_type": "code",
      "execution_count": 341,
      "metadata": {
        "colab": {
          "base_uri": "https://localhost:8080/",
          "height": 282
        },
        "id": "NWckUEh2H9q3",
        "outputId": "e1797f9a-bc3d-4844-8a03-040c8d968335"
      },
      "outputs": [
        {
          "data": {
            "text/plain": [
              "[<matplotlib.lines.Line2D at 0x20ea2934dc0>]"
            ]
          },
          "execution_count": 341,
          "metadata": {},
          "output_type": "execute_result"
        },
        {
          "data": {
            "image/png": "[encoded data removed]",
            "text/plain": [
              "<Figure size 432x288 with 1 Axes>"
            ]
          },
          "metadata": {
            "needs_background": "light"
          },
          "output_type": "display_data"
        }
      ],
      "source": [
        "plt.plot(X[1:],df1)"
      ]
    },
    {
      "cell_type": "code",
      "execution_count": 342,
      "metadata": {
        "colab": {
          "base_uri": "https://localhost:8080/",
          "height": 282
        },
        "id": "iSGPB_5ZIdVb",
        "outputId": "48876480-22d6-4b12-b2f2-0c13ead26a94"
      },
      "outputs": [
        {
          "data": {
            "text/plain": [
              "[<matplotlib.lines.Line2D at 0x20eaa4c5460>]"
            ]
          },
          "execution_count": 342,
          "metadata": {},
          "output_type": "execute_result"
        },
        {
          "data": {
            "image/png": "[encoded data removed]",
            "text/plain": [
              "<Figure size 432x288 with 1 Axes>"
            ]
          },
          "metadata": {
            "needs_background": "light"
          },
          "output_type": "display_data"
        }
      ],
      "source": [
        "plt.plot(X,df2)"
      ]
    },
    {
      "cell_type": "markdown",
      "metadata": {
        "id": "aw_ihVmULl6J"
      },
      "source": [
        "### Optimisasi\n",
        "\n",
        "---\n",
        "- Diperuntukan untuk mencari nilai minimum dan maximum global\n",
        "- Diperuntukan untuk menghitung nilai error"
      ]
    },
    {
      "cell_type": "code",
      "execution_count": 343,
      "metadata": {
        "colab": {
          "base_uri": "https://localhost:8080/"
        },
        "id": "3oGSfrIgLnHi",
        "outputId": "fc966a1d-b0ce-445b-eaae-60edb9e47ec2"
      },
      "outputs": [
        {
          "data": {
            "text/plain": [
              "     fun: -3.0\n",
              "    nfev: 9\n",
              "     nit: 4\n",
              " success: True\n",
              "       x: -1.0000000000000002"
            ]
          },
          "execution_count": 343,
          "metadata": {},
          "output_type": "execute_result"
        }
      ],
      "source": [
        "from scipy.optimize import minimize_scalar\n",
        "\n",
        "def f(x):\n",
        "  return 2*x**2+4*x-1\n",
        "\n",
        "opt=minimize_scalar(f)\n",
        "opt"
      ]
    },
    {
      "cell_type": "markdown",
      "metadata": {
        "id": "4UooK-GMzejF"
      },
      "source": [
        "**fun = y**\n",
        "\n",
        "nfev = number of function evaluation\n",
        "\n",
        "nit = number of iterations\n",
        "\n",
        "**x = variabel minimum global**"
      ]
    },
    {
      "cell_type": "code",
      "execution_count": 344,
      "metadata": {
        "colab": {
          "base_uri": "https://localhost:8080/"
        },
        "id": "LT0Y7CFI3ajP",
        "outputId": "6d567ee2-fb84-4c8e-c5e8-14bef9fb7bb8"
      },
      "outputs": [
        {
          "data": {
            "text/plain": [
              "-1.0000000000000002"
            ]
          },
          "execution_count": 344,
          "metadata": {},
          "output_type": "execute_result"
        }
      ],
      "source": [
        "opt.x"
      ]
    },
    {
      "cell_type": "code",
      "execution_count": 345,
      "metadata": {
        "colab": {
          "base_uri": "https://localhost:8080/"
        },
        "id": "RB0ZmJzV8Ujz",
        "outputId": "a823fd98-c799-4c5f-8101-06364073488a"
      },
      "outputs": [
        {
          "data": {
            "text/plain": [
              "-3.0"
            ]
          },
          "execution_count": 345,
          "metadata": {},
          "output_type": "execute_result"
        }
      ],
      "source": [
        "opt.fun"
      ]
    },
    {
      "cell_type": "code",
      "execution_count": 346,
      "metadata": {
        "colab": {
          "base_uri": "https://localhost:8080/",
          "height": 282
        },
        "id": "ptRBdkU_1FgV",
        "outputId": "c9ed6732-d03d-43a4-dc38-85fa529049c6"
      },
      "outputs": [
        {
          "data": {
            "text/plain": [
              "[<matplotlib.lines.Line2D at 0x20eaa58bd30>]"
            ]
          },
          "execution_count": 346,
          "metadata": {},
          "output_type": "execute_result"
        },
        {
          "data": {
            "image/png": "[encoded data removed]",
            "text/plain": [
              "<Figure size 432x288 with 1 Axes>"
            ]
          },
          "metadata": {
            "needs_background": "light"
          },
          "output_type": "display_data"
        }
      ],
      "source": [
        "import matplotlib.pyplot as plt\n",
        "X1 = np.linspace(-10,10)\n",
        "Y1 = X1**3 - 6*X1**2 + 9*X1 + 1\n",
        "plt.plot(X1,Y1)"
      ]
    },
    {
      "cell_type": "code",
      "execution_count": 347,
      "metadata": {
        "colab": {
          "base_uri": "https://localhost:8080/"
        },
        "id": "JApwvkuyL_d8",
        "outputId": "9d8a775f-9a6c-4fe1-906f-b76dd6febabc"
      },
      "outputs": [
        {
          "data": {
            "text/plain": [
              "     fun: -32.0\n",
              "    nfev: 14\n",
              "     nit: 9\n",
              " success: True\n",
              "       x: 4.000000012405599"
            ]
          },
          "execution_count": 347,
          "metadata": {},
          "output_type": "execute_result"
        }
      ],
      "source": [
        "def f2(x):\n",
        "  return (x**3 - 6*x**2 )\n",
        "\n",
        "minimize_scalar(f2)"
      ]
    },
    {
      "cell_type": "code",
      "execution_count": 348,
      "metadata": {
        "colab": {
          "base_uri": "https://localhost:8080/",
          "height": 282
        },
        "id": "_ROcepeJAzNm",
        "outputId": "a1b0826b-8388-43bf-c612-91d4436a3ce5"
      },
      "outputs": [
        {
          "data": {
            "text/plain": [
              "[<matplotlib.lines.Line2D at 0x20eaa64d5b0>]"
            ]
          },
          "execution_count": 348,
          "metadata": {},
          "output_type": "execute_result"
        },
        {
          "data": {
            "image/png": "[encoded data removed]",
            "text/plain": [
              "<Figure size 432x288 with 1 Axes>"
            ]
          },
          "metadata": {
            "needs_background": "light"
          },
          "output_type": "display_data"
        }
      ],
      "source": [
        "X1 = np.linspace(-10,10)\n",
        "Y1 = X1**3 - 6*X1**2 + 9*X1 + 1\n",
        "plt.plot(X1,-Y1)"
      ]
    },
    {
      "cell_type": "markdown",
      "metadata": {
        "id": "uGvcBsiO1VGY"
      },
      "source": [
        "Scipy hanya memiliki minimize function untuk mencari nilai maximum (x) kalikan fungsi dengan -1"
      ]
    },
    {
      "cell_type": "code",
      "execution_count": 349,
      "metadata": {
        "colab": {
          "base_uri": "https://localhost:8080/"
        },
        "id": "YMJfSOdp9J8L",
        "outputId": "e6d0d215-91a9-4771-b9fe-9944235e9cd7"
      },
      "outputs": [
        {
          "data": {
            "text/plain": [
              "     fun: -5.0\n",
              "    nfev: 13\n",
              "     nit: 9\n",
              " success: True\n",
              "       x: 0.99999998519"
            ]
          },
          "execution_count": 349,
          "metadata": {},
          "output_type": "execute_result"
        }
      ],
      "source": [
        "def f3(x):\n",
        "  return -(x**3 - 6*x**2 + 9*x + 1)\n",
        "\n",
        "minimize_scalar(f3)"
      ]
    },
    {
      "cell_type": "markdown",
      "metadata": {
        "id": "vKI2QlNb11jP"
      },
      "source": [
        "Kalikan kembali hasil fun (y) dengan -1 "
      ]
    },
    {
      "cell_type": "code",
      "execution_count": 350,
      "metadata": {
        "colab": {
          "base_uri": "https://localhost:8080/"
        },
        "id": "xrLAvSDzzgwN",
        "outputId": "c194773a-2fd2-4b93-cf28-5cd251f3e1bd"
      },
      "outputs": [
        {
          "name": "stdout",
          "output_type": "stream",
          "text": [
            "Global maximum: 5.0\n"
          ]
        }
      ],
      "source": [
        "print('Global maximum:',minimize_scalar(f3).fun*(-1))"
      ]
    },
    {
      "cell_type": "markdown",
      "metadata": {
        "id": "TbhqLB73rJva"
      },
      "source": [
        "## Turunan Parsial"
      ]
    },
    {
      "cell_type": "code",
      "execution_count": 351,
      "metadata": {
        "id": "k5KrsAWOdkFd"
      },
      "outputs": [],
      "source": [
        "import sympy as sy\n",
        "import numpy as np"
      ]
    },
    {
      "cell_type": "code",
      "execution_count": 352,
      "metadata": {
        "colab": {
          "base_uri": "https://localhost:8080/",
          "height": 39
        },
        "id": "sXJY76zGrLnw",
        "outputId": "f8993846-28a4-4363-ad11-21da56f3ec8a"
      },
      "outputs": [
        {
          "data": {
            "text/latex": [
              "$\\displaystyle x^{3} + 4 x y + x \\sin{\\left(z \\right)} + y z^{8}$"
            ],
            "text/plain": [
              "x**3 + 4*x*y + x*sin(z) + y*z**8"
            ]
          },
          "execution_count": 352,
          "metadata": {},
          "output_type": "execute_result"
        }
      ],
      "source": [
        "x,y,z = sy.symbols('x y z')\n",
        "f = 4*x*y + x*sy.sin(z) + x**3 + z**8*y\n",
        "f"
      ]
    },
    {
      "cell_type": "code",
      "execution_count": 353,
      "metadata": {
        "id": "BIUWY5RFYLxy"
      },
      "outputs": [],
      "source": [
        "x = sy.Symbol('x')\n",
        "y = sy.Symbol('y')\n",
        "z = sy.Symbol('z')"
      ]
    },
    {
      "cell_type": "code",
      "execution_count": 354,
      "metadata": {
        "colab": {
          "base_uri": "https://localhost:8080/",
          "height": 39
        },
        "id": "Xw9GcFZ3xdjB",
        "outputId": "804fd58b-5693-458e-ccf3-300c5fd31740"
      },
      "outputs": [
        {
          "data": {
            "text/latex": [
              "$\\displaystyle 3 x^{2} + 4 y + \\sin{\\left(z \\right)}$"
            ],
            "text/plain": [
              "3*x**2 + 4*y + sin(z)"
            ]
          },
          "execution_count": 354,
          "metadata": {},
          "output_type": "execute_result"
        }
      ],
      "source": [
        "#Turunan parsial terhadap x\n",
        "sy.diff(f,x)"
      ]
    },
    {
      "cell_type": "code",
      "execution_count": 355,
      "metadata": {
        "colab": {
          "base_uri": "https://localhost:8080/",
          "height": 39
        },
        "id": "Evh0Z6mUxvLj",
        "outputId": "79f190fb-d659-4abc-ce88-39760467717c"
      },
      "outputs": [
        {
          "data": {
            "text/latex": [
              "$\\displaystyle 4 x + z^{8}$"
            ],
            "text/plain": [
              "4*x + z**8"
            ]
          },
          "execution_count": 355,
          "metadata": {},
          "output_type": "execute_result"
        }
      ],
      "source": [
        "#Turunan parsial terhadap y\n",
        "sy.diff(f,y)"
      ]
    },
    {
      "cell_type": "code",
      "execution_count": 356,
      "metadata": {
        "colab": {
          "base_uri": "https://localhost:8080/",
          "height": 39
        },
        "id": "XTVyxCUDx6Ck",
        "outputId": "9ac4645a-7b88-4cec-b26d-dc8b4d52111d"
      },
      "outputs": [
        {
          "data": {
            "text/latex": [
              "$\\displaystyle x \\cos{\\left(z \\right)} + 8 y z^{7}$"
            ],
            "text/plain": [
              "x*cos(z) + 8*y*z**7"
            ]
          },
          "execution_count": 356,
          "metadata": {},
          "output_type": "execute_result"
        }
      ],
      "source": [
        "#Turunan parsial terhadap z\n",
        "f.diff(z)"
      ]
    },
    {
      "cell_type": "code",
      "execution_count": 357,
      "metadata": {
        "colab": {
          "base_uri": "https://localhost:8080/",
          "height": 39
        },
        "id": "oePh1W_wiwTc",
        "outputId": "e04e3f79-261e-4470-c2c4-9ef38099dff5"
      },
      "outputs": [
        {
          "data": {
            "text/latex": [
              "$\\displaystyle 6 x$"
            ],
            "text/plain": [
              "6*x"
            ]
          },
          "execution_count": 357,
          "metadata": {},
          "output_type": "execute_result"
        }
      ],
      "source": [
        "#Second order dxx\n",
        "\n",
        "f.diff(x).diff(x)"
      ]
    },
    {
      "cell_type": "code",
      "execution_count": 358,
      "metadata": {
        "colab": {
          "base_uri": "https://localhost:8080/",
          "height": 37
        },
        "id": "UK-2IJhMi6wM",
        "outputId": "40a93033-5b1d-417d-accb-ef03073735e1"
      },
      "outputs": [
        {
          "data": {
            "text/latex": [
              "$\\displaystyle 4$"
            ],
            "text/plain": [
              "4"
            ]
          },
          "execution_count": 358,
          "metadata": {},
          "output_type": "execute_result"
        }
      ],
      "source": [
        "#Second order dyx\n",
        "f.diff(x).diff(y)"
      ]
    },
    {
      "cell_type": "markdown",
      "metadata": {
        "id": "zSK6nIw1yb8t"
      },
      "source": [
        "### Gradien"
      ]
    },
    {
      "cell_type": "code",
      "execution_count": 359,
      "metadata": {
        "colab": {
          "base_uri": "https://localhost:8080/",
          "height": 39
        },
        "id": "Rg1kctcJydYf",
        "outputId": "745469cf-dbf3-428b-e2c6-8ef3636dbe3c"
      },
      "outputs": [
        {
          "data": {
            "text/latex": [
              "$\\displaystyle \\left[\\begin{matrix}3 x^{2} + 4 y + \\sin{\\left(z \\right)} & 4 x + z^{8} & x \\cos{\\left(z \\right)} + 8 y z^{7}\\end{matrix}\\right]$"
            ],
            "text/plain": [
              "[3*x**2 + 4*y + sin(z), 4*x + z**8, x*cos(z) + 8*y*z**7]"
            ]
          },
          "execution_count": 359,
          "metadata": {},
          "output_type": "execute_result"
        }
      ],
      "source": [
        "from sympy.tensor.array import derive_by_array\n",
        "grad = derive_by_array(f, (x,y,z))\n",
        "grad"
      ]
    },
    {
      "cell_type": "markdown",
      "metadata": {
        "id": "mYc1qWGN89AJ"
      },
      "source": [
        "Hasil turunan parsial ditampung ke dalam array"
      ]
    },
    {
      "cell_type": "markdown",
      "metadata": {
        "id": "71nMiQLOzDTA"
      },
      "source": [
        "### Jacobian"
      ]
    },
    {
      "cell_type": "markdown",
      "metadata": {
        "id": "NZFo-mPG-jQE"
      },
      "source": [
        "Contoh 1"
      ]
    },
    {
      "cell_type": "code",
      "execution_count": 360,
      "metadata": {
        "colab": {
          "base_uri": "https://localhost:8080/",
          "height": 58
        },
        "id": "982SzctuzErz",
        "outputId": "6ed2b6d8-e519-43de-f976-614969a0aca6"
      },
      "outputs": [
        {
          "data": {
            "text/latex": [
              "$\\displaystyle \\left[\\begin{matrix}x y + y\\\\2 x y - 2\\end{matrix}\\right]$"
            ],
            "text/plain": [
              "Matrix([\n",
              "[  x*y + y],\n",
              "[2*x*y - 2]])"
            ]
          },
          "execution_count": 360,
          "metadata": {},
          "output_type": "execute_result"
        }
      ],
      "source": [
        "f_jacob = sy.Matrix([x*y+y, 2*x*y-2]) #Inputannya berupa matrix\n",
        "f_jacob"
      ]
    },
    {
      "cell_type": "code",
      "execution_count": 361,
      "metadata": {
        "colab": {
          "base_uri": "https://localhost:8080/",
          "height": 58
        },
        "id": "-a55XkgnyZdj",
        "outputId": "69d14b2a-076d-4d73-a3a2-2ab6ead699d0"
      },
      "outputs": [
        {
          "data": {
            "text/latex": [
              "$\\displaystyle \\left[\\begin{matrix}y & x + 1\\\\2 y & 2 x\\end{matrix}\\right]$"
            ],
            "text/plain": [
              "Matrix([\n",
              "[  y, x + 1],\n",
              "[2*y,   2*x]])"
            ]
          },
          "execution_count": 361,
          "metadata": {},
          "output_type": "execute_result"
        }
      ],
      "source": [
        "par = sy.Matrix([x,y]) #Definisikan variabel nya ke dalam matrix\n",
        "f_jacob.jacobian(par)"
      ]
    },
    {
      "cell_type": "markdown",
      "metadata": {
        "id": "L9ARkuHM-m9E"
      },
      "source": [
        "Contoh 2"
      ]
    },
    {
      "cell_type": "code",
      "execution_count": 362,
      "metadata": {
        "colab": {
          "base_uri": "https://localhost:8080/",
          "height": 78
        },
        "id": "Tsqtb0b1ll81",
        "outputId": "81e90973-ae99-4b34-ee91-c8d00e348724"
      },
      "outputs": [
        {
          "data": {
            "text/latex": [
              "$\\displaystyle \\left[\\begin{matrix}3 x^{2} + 4 y + \\sin{\\left(z \\right)}\\\\4 x + z^{8}\\\\x \\cos{\\left(z \\right)} + 8 y z^{7}\\end{matrix}\\right]$"
            ],
            "text/plain": [
              "Matrix([\n",
              "[3*x**2 + 4*y + sin(z)],\n",
              "[           4*x + z**8],\n",
              "[  x*cos(z) + 8*y*z**7]])"
            ]
          },
          "execution_count": 362,
          "metadata": {},
          "output_type": "execute_result"
        }
      ],
      "source": [
        "sy.Matrix(grad) #Persamaan yang gradien"
      ]
    },
    {
      "cell_type": "code",
      "execution_count": 363,
      "metadata": {
        "colab": {
          "base_uri": "https://localhost:8080/",
          "height": 78
        },
        "id": "DJbHNESia3cg",
        "outputId": "cfbe053f-0776-417b-d273-850f1b40dda0"
      },
      "outputs": [
        {
          "data": {
            "text/latex": [
              "$\\displaystyle \\left[\\begin{matrix}6 x & 4 & \\cos{\\left(z \\right)}\\\\4 & 0 & 8 z^{7}\\\\\\cos{\\left(z \\right)} & 8 z^{7} & - x \\sin{\\left(z \\right)} + 56 y z^{6}\\end{matrix}\\right]$"
            ],
            "text/plain": [
              "Matrix([\n",
              "[   6*x,      4,                cos(z)],\n",
              "[     4,      0,                8*z**7],\n",
              "[cos(z), 8*z**7, -x*sin(z) + 56*y*z**6]])"
            ]
          },
          "execution_count": 363,
          "metadata": {},
          "output_type": "execute_result"
        }
      ],
      "source": [
        "matrix_grad = sy.Matrix(grad)\n",
        "vars = sy.Matrix([x,y,z])\n",
        "matrix_grad.jacobian(vars)"
      ]
    },
    {
      "cell_type": "code",
      "execution_count": 364,
      "metadata": {
        "colab": {
          "base_uri": "https://localhost:8080/",
          "height": 78
        },
        "id": "33PJbMBazeN0",
        "outputId": "b31e3280-2e2a-4a8f-be67-172673658558"
      },
      "outputs": [
        {
          "data": {
            "text/latex": [
              "$\\displaystyle \\left[\\begin{matrix}6 x & 4 & \\cos{\\left(z \\right)}\\\\4 & 0 & 8 z^{7}\\\\\\cos{\\left(z \\right)} & 8 z^{7} & - x \\sin{\\left(z \\right)} + 56 y z^{6}\\end{matrix}\\right]$"
            ],
            "text/plain": [
              "Matrix([\n",
              "[   6*x,      4,                cos(z)],\n",
              "[     4,      0,                8*z**7],\n",
              "[cos(z), 8*z**7, -x*sin(z) + 56*y*z**6]])"
            ]
          },
          "execution_count": 364,
          "metadata": {},
          "output_type": "execute_result"
        }
      ],
      "source": [
        "sy.Matrix(grad).jacobian(sy.Matrix([x,y,z]))"
      ]
    },
    {
      "cell_type": "markdown",
      "metadata": {
        "id": "43eQ4YZM0V-6"
      },
      "source": [
        "### Hessian"
      ]
    },
    {
      "cell_type": "code",
      "execution_count": 365,
      "metadata": {
        "colab": {
          "base_uri": "https://localhost:8080/",
          "height": 39
        },
        "id": "vNbYxfYTeb3p",
        "outputId": "8dc1d642-a555-4feb-95bf-e33ec5d517e7"
      },
      "outputs": [
        {
          "data": {
            "text/latex": [
              "$\\displaystyle x^{3} + 4 x y + x \\sin{\\left(z \\right)} + y z^{8}$"
            ],
            "text/plain": [
              "x**3 + 4*x*y + x*sin(z) + y*z**8"
            ]
          },
          "execution_count": 365,
          "metadata": {},
          "output_type": "execute_result"
        }
      ],
      "source": [
        "f"
      ]
    },
    {
      "cell_type": "code",
      "execution_count": 366,
      "metadata": {
        "colab": {
          "base_uri": "https://localhost:8080/",
          "height": 78
        },
        "id": "OZKbFjfZ0XBW",
        "outputId": "89a02f31-c68a-45a3-ea80-3fe739f669cf"
      },
      "outputs": [
        {
          "data": {
            "text/latex": [
              "$\\displaystyle \\left[\\begin{matrix}6 x & 4 & \\cos{\\left(z \\right)}\\\\4 & 0 & 8 z^{7}\\\\\\cos{\\left(z \\right)} & 8 z^{7} & - x \\sin{\\left(z \\right)} + 56 y z^{6}\\end{matrix}\\right]$"
            ],
            "text/plain": [
              "Matrix([\n",
              "[   6*x,      4,                cos(z)],\n",
              "[     4,      0,                8*z**7],\n",
              "[cos(z), 8*z**7, -x*sin(z) + 56*y*z**6]])"
            ]
          },
          "execution_count": 366,
          "metadata": {},
          "output_type": "execute_result"
        }
      ],
      "source": [
        "sy.hessian(f,(x,y,z))"
      ]
    },
    {
      "cell_type": "markdown",
      "metadata": {
        "id": "hHAWez6S2wG6"
      },
      "source": [
        "## Turunan Parsial Numerik"
      ]
    },
    {
      "cell_type": "code",
      "execution_count": 367,
      "metadata": {
        "id": "cYahfqx72ywd"
      },
      "outputs": [],
      "source": [
        "import numpy as np\n",
        "\n",
        "def f(x,y): \n",
        "  return x**2*y+2*x**3*y+y**5\n",
        "\n",
        "x=np.linspace(1,10)\n",
        "y=np.linspace(1,10)\n",
        "\n",
        "#Mengkombinasikan semua kemungkinan dan di pack ke dalam matrix\n",
        "z=np.array( [[f(i,j) for i in x] for j in y] )\n",
        "\n",
        "#Ada 2 output do x dan do y\n",
        "dx,dy=np.gradient(z)"
      ]
    },
    {
      "cell_type": "code",
      "execution_count": 368,
      "metadata": {
        "colab": {
          "base_uri": "https://localhost:8080/"
        },
        "id": "JLPQOhb5r0mT",
        "outputId": "49224523-453d-491b-98a2-aa19535fecc0"
      },
      "outputs": [
        {
          "data": {
            "text/plain": [
              "array([ 1.        ,  1.18367347,  1.36734694,  1.55102041,  1.73469388,\n",
              "        1.91836735,  2.10204082,  2.28571429,  2.46938776,  2.65306122,\n",
              "        2.83673469,  3.02040816,  3.20408163,  3.3877551 ,  3.57142857,\n",
              "        3.75510204,  3.93877551,  4.12244898,  4.30612245,  4.48979592,\n",
              "        4.67346939,  4.85714286,  5.04081633,  5.2244898 ,  5.40816327,\n",
              "        5.59183673,  5.7755102 ,  5.95918367,  6.14285714,  6.32653061,\n",
              "        6.51020408,  6.69387755,  6.87755102,  7.06122449,  7.24489796,\n",
              "        7.42857143,  7.6122449 ,  7.79591837,  7.97959184,  8.16326531,\n",
              "        8.34693878,  8.53061224,  8.71428571,  8.89795918,  9.08163265,\n",
              "        9.26530612,  9.44897959,  9.63265306,  9.81632653, 10.        ])"
            ]
          },
          "execution_count": 368,
          "metadata": {},
          "output_type": "execute_result"
        }
      ],
      "source": [
        "x"
      ]
    },
    {
      "cell_type": "code",
      "execution_count": 369,
      "metadata": {
        "colab": {
          "base_uri": "https://localhost:8080/"
        },
        "id": "hGVG0Kb3r5oz",
        "outputId": "915e4aa4-8ad5-4e02-b26b-e5372d216946"
      },
      "outputs": [
        {
          "data": {
            "text/plain": [
              "array([ 1.        ,  1.18367347,  1.36734694,  1.55102041,  1.73469388,\n",
              "        1.91836735,  2.10204082,  2.28571429,  2.46938776,  2.65306122,\n",
              "        2.83673469,  3.02040816,  3.20408163,  3.3877551 ,  3.57142857,\n",
              "        3.75510204,  3.93877551,  4.12244898,  4.30612245,  4.48979592,\n",
              "        4.67346939,  4.85714286,  5.04081633,  5.2244898 ,  5.40816327,\n",
              "        5.59183673,  5.7755102 ,  5.95918367,  6.14285714,  6.32653061,\n",
              "        6.51020408,  6.69387755,  6.87755102,  7.06122449,  7.24489796,\n",
              "        7.42857143,  7.6122449 ,  7.79591837,  7.97959184,  8.16326531,\n",
              "        8.34693878,  8.53061224,  8.71428571,  8.89795918,  9.08163265,\n",
              "        9.26530612,  9.44897959,  9.63265306,  9.81632653, 10.        ])"
            ]
          },
          "execution_count": 369,
          "metadata": {},
          "output_type": "execute_result"
        }
      ],
      "source": [
        "y"
      ]
    },
    {
      "cell_type": "code",
      "execution_count": 370,
      "metadata": {
        "colab": {
          "base_uri": "https://localhost:8080/"
        },
        "id": "HjUxT8-7hFfJ",
        "outputId": "6c73baff-9a66-48eb-9ea1-933debfd27a8"
      },
      "outputs": [
        {
          "data": {
            "text/plain": [
              "array([[4.00000000e+00, 5.71793215e+00, 7.98252429e+00, ...,\n",
              "        1.88137733e+03, 1.98916795e+03, 2.10100000e+03],\n",
              "       [5.87461078e+00, 7.90808149e+00, 1.05886191e+01, ...,\n",
              "        2.22807634e+03, 2.35566524e+03, 2.48803788e+03],\n",
              "       [8.88166350e+00, 1.12306728e+01, 1.43271559e+01, ...,\n",
              "        2.57590780e+03, 2.72329498e+03, 2.87620819e+03],\n",
              "       ...,\n",
              "       [8.29623214e+04, 8.29788696e+04, 8.30006836e+04, ...,\n",
              "        1.01046446e+05, 1.02084755e+05, 1.03161995e+05],\n",
              "       [9.11769952e+04, 9.11938590e+04, 9.12160890e+04, ...,\n",
              "        1.09605944e+05, 1.10664052e+05, 1.11761832e+05],\n",
              "       [1.00030000e+05, 1.00047179e+05, 1.00069825e+05, ...,\n",
              "        1.18803773e+05, 1.19881679e+05, 1.21000000e+05]])"
            ]
          },
          "execution_count": 370,
          "metadata": {},
          "output_type": "execute_result"
        }
      ],
      "source": [
        "z"
      ]
    },
    {
      "cell_type": "code",
      "execution_count": 371,
      "metadata": {
        "colab": {
          "base_uri": "https://localhost:8080/"
        },
        "id": "2gYI7RP4dvkU",
        "outputId": "09fe80a5-30c4-43e5-b0dd-298f3baa7ba2"
      },
      "outputs": [
        {
          "data": {
            "text/plain": [
              "array([[4.00000000e+00, 5.87461078e+00, 8.88166350e+00, ...,\n",
              "        8.29623214e+04, 9.11769952e+04, 1.00030000e+05],\n",
              "       [5.71793215e+00, 7.90808149e+00, 1.12306728e+01, ...,\n",
              "        8.29788696e+04, 9.11938590e+04, 1.00047179e+05],\n",
              "       [7.98252429e+00, 1.05886191e+01, 1.43271559e+01, ...,\n",
              "        8.30006836e+04, 9.12160890e+04, 1.00069825e+05],\n",
              "       ...,\n",
              "       [1.88137733e+03, 2.22807634e+03, 2.57590780e+03, ...,\n",
              "        1.01046446e+05, 1.09605944e+05, 1.18803773e+05],\n",
              "       [1.98916795e+03, 2.35566524e+03, 2.72329498e+03, ...,\n",
              "        1.02084755e+05, 1.10664052e+05, 1.19881679e+05],\n",
              "       [2.10100000e+03, 2.48803788e+03, 2.87620819e+03, ...,\n",
              "        1.03161995e+05, 1.11761832e+05, 1.21000000e+05]])"
            ]
          },
          "execution_count": 371,
          "metadata": {},
          "output_type": "execute_result"
        }
      ],
      "source": [
        "z = []\n",
        "\n",
        "for i in x:\n",
        "  tmp = []\n",
        "  for j in y:\n",
        "    tmp.append(f(i,j))\n",
        "  z.append(tmp)\n",
        "z = np.array(z)\n",
        "z"
      ]
    },
    {
      "cell_type": "code",
      "execution_count": 372,
      "metadata": {
        "colab": {
          "base_uri": "https://localhost:8080/"
        },
        "id": "wRuEybYwY6Ij",
        "outputId": "7b268252-1b51-426a-cfbc-9fb8a597d27e"
      },
      "outputs": [
        {
          "data": {
            "text/plain": [
              "(50, 50)"
            ]
          },
          "execution_count": 372,
          "metadata": {},
          "output_type": "execute_result"
        }
      ],
      "source": [
        "z.shape"
      ]
    },
    {
      "cell_type": "code",
      "execution_count": 373,
      "metadata": {
        "colab": {
          "base_uri": "https://localhost:8080/"
        },
        "id": "DgLgdBMT3LIe",
        "outputId": "1ce4324c-0cd6-477c-e3bd-370354a7f819"
      },
      "outputs": [
        {
          "data": {
            "text/plain": [
              "array([[1.87461078e+00, 2.19014934e+00, 2.60609483e+00, ...,\n",
              "        3.46699018e+02, 3.66497295e+02, 3.87037876e+02],\n",
              "       [2.44083175e+00, 2.75637031e+00, 3.17231580e+00, ...,\n",
              "        3.47265239e+02, 3.67063516e+02, 3.87604097e+02],\n",
              "       [3.87727397e+00, 4.19281253e+00, 4.60875803e+00, ...,\n",
              "        3.48701681e+02, 3.68499958e+02, 3.89040539e+02],\n",
              "       ...,\n",
              "       [7.91308899e+03, 7.91340453e+03, 7.91382048e+03, ...,\n",
              "        8.25791340e+03, 8.27771168e+03, 8.29825226e+03],\n",
              "       [8.53383931e+03, 8.53415485e+03, 8.53457080e+03, ...,\n",
              "        8.87866372e+03, 8.89846200e+03, 8.91900258e+03],\n",
              "       [8.85300476e+03, 8.85332030e+03, 8.85373624e+03, ...,\n",
              "        9.19782916e+03, 9.21762744e+03, 9.23816802e+03]])"
            ]
          },
          "execution_count": 373,
          "metadata": {},
          "output_type": "execute_result"
        }
      ],
      "source": [
        "dx"
      ]
    },
    {
      "cell_type": "code",
      "execution_count": 374,
      "metadata": {
        "colab": {
          "base_uri": "https://localhost:8080/"
        },
        "id": "usGt41H23Nw0",
        "outputId": "39a8275b-893c-43ab-baa4-ecb3c3fe6a7b"
      },
      "outputs": [
        {
          "data": {
            "text/plain": [
              "array([[   1.71793215,    1.99126214,    2.57510051, ...,  105.80708718,\n",
              "         109.81133711,  111.83205127],\n",
              "       [   2.03347071,    2.35700417,    3.04807816, ...,  125.24104197,\n",
              "         129.98076638,  132.37263212],\n",
              "       [   2.34900927,    2.7227462 ,    3.5210558 , ...,  144.67499676,\n",
              "         150.15019564,  152.91321296],\n",
              "       ...,\n",
              "       [  16.54824442,   19.18113739,   24.80504982, ..., 1019.20296225,\n",
              "        1057.7745126 , 1077.23935102],\n",
              "       [  16.86378298,   19.54687942,   25.27802746, ..., 1038.63691704,\n",
              "        1077.94394186, 1097.77993187],\n",
              "       [  17.17932154,   19.91262144,   25.75100511, ..., 1058.07087183,\n",
              "        1098.11337113, 1118.32051271]])"
            ]
          },
          "execution_count": 374,
          "metadata": {},
          "output_type": "execute_result"
        }
      ],
      "source": [
        "dy"
      ]
    },
    {
      "cell_type": "code",
      "execution_count": 375,
      "metadata": {
        "colab": {
          "base_uri": "https://localhost:8080/",
          "height": 353
        },
        "id": "F0sFAaGs3XgA",
        "outputId": "af18fe73-b2b9-4e33-fada-ea249374cce1"
      },
      "outputs": [
        {
          "data": {
            "text/plain": [
              "Text(0.5, 1.0, 'dy')"
            ]
          },
          "execution_count": 375,
          "metadata": {},
          "output_type": "execute_result"
        },
        {
          "data": {
            "image/png": "[encoded data removed]",
            "text/plain": [
              "<Figure size 1224x360 with 3 Axes>"
            ]
          },
          "metadata": {
            "needs_background": "light"
          },
          "output_type": "display_data"
        }
      ],
      "source": [
        "#Plot z,dx,dy yang dianggap sebagai sebuah gambar\n",
        "\n",
        "fig, ax = plt.subplots(ncols=3,figsize=(17,5))\n",
        "ax[0].imshow(z)\n",
        "ax[0].set_title('f(x,y)')\n",
        "ax[1].imshow(dx)\n",
        "ax[1].set_title('dx')\n",
        "ax[2].imshow(dy)\n",
        "ax[2].set_title('dy')"
      ]
    },
    {
      "cell_type": "code",
      "execution_count": 376,
      "metadata": {
        "colab": {
          "base_uri": "https://localhost:8080/",
          "height": 286
        },
        "id": "zdOiLsZ83c02",
        "outputId": "1d83b70e-ff9d-4a52-d32b-2139ede14a41"
      },
      "outputs": [
        {
          "data": {
            "text/plain": [
              "<matplotlib.image.AxesImage at 0x20eaa90ba60>"
            ]
          },
          "execution_count": 376,
          "metadata": {},
          "output_type": "execute_result"
        },
        {
          "data": {
            "image/png": "[encoded data removed]",
            "text/plain": [
              "<Figure size 432x288 with 1 Axes>"
            ]
          },
          "metadata": {
            "needs_background": "light"
          },
          "output_type": "display_data"
        }
      ],
      "source": [
        "gambar = plt.imread('./mrxfzm0j1i471.jpg')\n",
        "R = gambar[:,:,0]\n",
        "plt.imshow(R)"
      ]
    },
    {
      "cell_type": "code",
      "execution_count": 377,
      "metadata": {
        "colab": {
          "base_uri": "https://localhost:8080/"
        },
        "id": "lTK29iQsqhJd",
        "outputId": "2bb0859c-e052-4bf0-9931-f4c56d678a56"
      },
      "outputs": [
        {
          "data": {
            "text/plain": [
              "(1080, 1920, 3)"
            ]
          },
          "execution_count": 377,
          "metadata": {},
          "output_type": "execute_result"
        }
      ],
      "source": [
        "gambar.shape"
      ]
    },
    {
      "cell_type": "code",
      "execution_count": 378,
      "metadata": {
        "colab": {
          "base_uri": "https://localhost:8080/"
        },
        "id": "G-SP1s9aqTIj",
        "outputId": "bbd6879d-2477-4abf-fab1-63ebbcfee268"
      },
      "outputs": [
        {
          "data": {
            "text/plain": [
              "array([[11,  0,  5, ...,  6,  0, 11],\n",
              "       [11,  0,  6, ...,  6,  0, 11],\n",
              "       [11,  0,  6, ...,  6,  0, 11],\n",
              "       ...,\n",
              "       [ 8,  6,  5, ..., 13,  6,  0],\n",
              "       [17, 14, 12, ...,  6,  0,  2],\n",
              "       [ 4,  2,  1, ...,  0,  0, 12]], dtype=uint8)"
            ]
          },
          "execution_count": 378,
          "metadata": {},
          "output_type": "execute_result"
        }
      ],
      "source": [
        "R"
      ]
    },
    {
      "cell_type": "code",
      "execution_count": 379,
      "metadata": {
        "colab": {
          "base_uri": "https://localhost:8080/",
          "height": 325
        },
        "id": "bzMTOuZS3pE1",
        "outputId": "f0e50ce5-49a3-4831-a88e-ed29352cffc3"
      },
      "outputs": [
        {
          "data": {
            "text/plain": [
              "Text(0.5, 1.0, 'dy')"
            ]
          },
          "execution_count": 379,
          "metadata": {},
          "output_type": "execute_result"
        },
        {
          "data": {
            "image/png": "[encoded data removed]",
            "text/plain": [
              "<Figure size 1512x360 with 3 Axes>"
            ]
          },
          "metadata": {
            "needs_background": "light"
          },
          "output_type": "display_data"
        }
      ],
      "source": [
        "R_dx,R_dy = np.gradient(R)\n",
        "\n",
        "fig, ax = plt.subplots(ncols=3,figsize=(21,5))\n",
        "ax[0].imshow(R)\n",
        "ax[0].set_title('Gambar Filter R')\n",
        "ax[1].imshow(R_dx)\n",
        "ax[1].set_title('dx')\n",
        "ax[2].imshow(R_dy)\n",
        "ax[2].set_title('dy')"
      ]
    },
    {
      "cell_type": "markdown",
      "metadata": {
        "id": "7fHvXl-UCQsl"
      },
      "source": [
        "Gradient dapat melihat tekstur dari sebuah gambar"
      ]
    },
    {
      "cell_type": "code",
      "execution_count": 380,
      "metadata": {
        "colab": {
          "base_uri": "https://localhost:8080/"
        },
        "id": "j8gfFstjicHN",
        "outputId": "6b320b54-d757-4a67-c8ac-a724844bb14e"
      },
      "outputs": [
        {
          "data": {
            "text/plain": [
              "(1080, 1920)"
            ]
          },
          "execution_count": 380,
          "metadata": {},
          "output_type": "execute_result"
        }
      ],
      "source": [
        "R.shape"
      ]
    },
    {
      "cell_type": "markdown",
      "metadata": {
        "id": "ET9K8XDJ5yW6"
      },
      "source": [
        "# Integral\n",
        "\n",
        "### Symbol"
      ]
    },
    {
      "cell_type": "code",
      "execution_count": 381,
      "metadata": {
        "colab": {
          "base_uri": "https://localhost:8080/",
          "height": 39
        },
        "id": "OlBasGSo5z3a",
        "outputId": "c6d95714-8202-4f68-976c-93bfe3e62dbf"
      },
      "outputs": [
        {
          "data": {
            "text/latex": [
              "$\\displaystyle 2 x^{2} + 4 x - 1$"
            ],
            "text/plain": [
              "2*x**2 + 4*x - 1"
            ]
          },
          "execution_count": 381,
          "metadata": {},
          "output_type": "execute_result"
        }
      ],
      "source": [
        "import sympy as sy\n",
        "\n",
        "x = sy.Symbol('x')\n",
        "f = 2*x**2+4*x-1\n",
        "f"
      ]
    },
    {
      "cell_type": "code",
      "execution_count": 382,
      "metadata": {
        "colab": {
          "base_uri": "https://localhost:8080/",
          "height": 54
        },
        "id": "p9JDvTVNDVsX",
        "outputId": "718aac20-bead-4c15-a777-717e19b71544"
      },
      "outputs": [
        {
          "data": {
            "text/latex": [
              "$\\displaystyle \\frac{2 x^{3}}{3} + 2 x^{2} - x$"
            ],
            "text/plain": [
              "2*x**3/3 + 2*x**2 - x"
            ]
          },
          "execution_count": 382,
          "metadata": {},
          "output_type": "execute_result"
        }
      ],
      "source": [
        "sy.integrate(f)"
      ]
    },
    {
      "cell_type": "code",
      "execution_count": 383,
      "metadata": {
        "colab": {
          "base_uri": "https://localhost:8080/"
        },
        "id": "RdbmKCPv217b",
        "outputId": "b0480bff-af97-45cf-dd9b-400b1f474a3a"
      },
      "outputs": [
        {
          "data": {
            "text/plain": [
              "116.99999999999999"
            ]
          },
          "execution_count": 383,
          "metadata": {},
          "output_type": "execute_result"
        }
      ],
      "source": [
        "def integral_f(x):\n",
        "  return (2/3)*x**3 + 2*x**2 - x\n",
        "\n",
        "#Integral tertentu dari f(x) dari 2 - 5\n",
        "integral_f(5) - integral_f(2)"
      ]
    },
    {
      "cell_type": "markdown",
      "metadata": {
        "id": "iVqYptPvEGOK"
      },
      "source": [
        "### Numeric - Fungsi"
      ]
    },
    {
      "cell_type": "code",
      "execution_count": 384,
      "metadata": {
        "colab": {
          "base_uri": "https://localhost:8080/"
        },
        "id": "f-grQcolEJ1o",
        "outputId": "0aef2a1c-e4ad-4ef5-c6c1-c77b3d5f482f"
      },
      "outputs": [
        {
          "name": "stdout",
          "output_type": "stream",
          "text": [
            "117.0\n"
          ]
        }
      ],
      "source": [
        "from scipy import integrate\n",
        "\n",
        "def f(x):\n",
        "  return 2*x**2+4*x-1\n",
        "  \n",
        "A = integrate.quad(f,2,5) # memanggil integral tertentu dari fungsi \"f\" dari 2 dan 5\n",
        "print(A[0])"
      ]
    },
    {
      "cell_type": "code",
      "execution_count": 385,
      "metadata": {
        "colab": {
          "base_uri": "https://localhost:8080/"
        },
        "id": "ER9T0Ub1LuLO",
        "outputId": "8fdd7706-1121-40aa-fada-70a6a863ea93"
      },
      "outputs": [
        {
          "data": {
            "text/plain": [
              "(117.0, 1.2989609388114332e-12)"
            ]
          },
          "execution_count": 385,
          "metadata": {},
          "output_type": "execute_result"
        }
      ],
      "source": [
        "A"
      ]
    },
    {
      "cell_type": "markdown",
      "metadata": {
        "id": "EiuTYeFpEnYi"
      },
      "source": [
        "### Numeric - Data/Array"
      ]
    },
    {
      "cell_type": "code",
      "execution_count": 386,
      "metadata": {
        "colab": {
          "base_uri": "https://localhost:8080/"
        },
        "id": "GZyRvM98FMgS",
        "outputId": "c023b9da-5ad9-46df-97a9-e3b6163f9345"
      },
      "outputs": [
        {
          "data": {
            "text/plain": [
              "117.00374843815077"
            ]
          },
          "execution_count": 386,
          "metadata": {},
          "output_type": "execute_result"
        }
      ],
      "source": [
        "from scipy import integrate\n",
        "import numpy as np\n",
        "\n",
        "def f(x):\n",
        "  return 2*x**2+4*x-1\n",
        "\n",
        "x = np.linspace(2,5)\n",
        "y = f(x)\n",
        "\n",
        "A = integrate.trapz(y,x) #trapezoid\n",
        "A"
      ]
    },
    {
      "cell_type": "code",
      "execution_count": 387,
      "metadata": {
        "colab": {
          "base_uri": "https://localhost:8080/"
        },
        "id": "my4nZt-cq2fF",
        "outputId": "792818e7-ab26-44c1-d995-38b55e41cc02"
      },
      "outputs": [
        {
          "data": {
            "text/plain": [
              "array([2.        , 2.06122449, 2.12244898, 2.18367347, 2.24489796,\n",
              "       2.30612245, 2.36734694, 2.42857143, 2.48979592, 2.55102041,\n",
              "       2.6122449 , 2.67346939, 2.73469388, 2.79591837, 2.85714286,\n",
              "       2.91836735, 2.97959184, 3.04081633, 3.10204082, 3.16326531,\n",
              "       3.2244898 , 3.28571429, 3.34693878, 3.40816327, 3.46938776,\n",
              "       3.53061224, 3.59183673, 3.65306122, 3.71428571, 3.7755102 ,\n",
              "       3.83673469, 3.89795918, 3.95918367, 4.02040816, 4.08163265,\n",
              "       4.14285714, 4.20408163, 4.26530612, 4.32653061, 4.3877551 ,\n",
              "       4.44897959, 4.51020408, 4.57142857, 4.63265306, 4.69387755,\n",
              "       4.75510204, 4.81632653, 4.87755102, 4.93877551, 5.        ])"
            ]
          },
          "execution_count": 387,
          "metadata": {},
          "output_type": "execute_result"
        }
      ],
      "source": [
        "x"
      ]
    },
    {
      "cell_type": "code",
      "execution_count": 388,
      "metadata": {
        "colab": {
          "base_uri": "https://localhost:8080/"
        },
        "id": "TjZwRd3Aq3Us",
        "outputId": "1e72f998-1aa2-47fc-9733-8a7a887c95c3"
      },
      "outputs": [
        {
          "data": {
            "text/plain": [
              "array([15.        , 15.74219075, 16.49937526, 17.27155352, 18.05872553,\n",
              "       18.8608913 , 19.67805081, 20.51020408, 21.3573511 , 22.21949188,\n",
              "       23.09662641, 23.98875469, 24.89587672, 25.8179925 , 26.75510204,\n",
              "       27.70720533, 28.67430237, 29.65639317, 30.65347772, 31.66555602,\n",
              "       32.69262807, 33.73469388, 34.79175344, 35.86380675, 36.95085381,\n",
              "       38.05289463, 39.1699292 , 40.30195752, 41.44897959, 42.61099542,\n",
              "       43.788005  , 44.98000833, 46.18700541, 47.40899625, 48.64598084,\n",
              "       49.89795918, 51.16493128, 52.44689713, 53.74385673, 55.05581008,\n",
              "       56.38275718, 57.72469804, 59.08163265, 60.45356102, 61.84048313,\n",
              "       63.242399  , 64.65930862, 66.091212  , 67.53810912, 69.        ])"
            ]
          },
          "execution_count": 388,
          "metadata": {},
          "output_type": "execute_result"
        }
      ],
      "source": [
        "y"
      ]
    },
    {
      "cell_type": "code",
      "execution_count": 389,
      "metadata": {
        "colab": {
          "base_uri": "https://localhost:8080/",
          "height": 372
        },
        "id": "pQfhlSVMIxTp",
        "outputId": "8c80dccc-c9ed-4d9d-bc62-1547cbd9e120"
      },
      "outputs": [
        {
          "data": {
            "text/html": [
              "<div>\n",
              "<style scoped>\n",
              "    .dataframe tbody tr th:only-of-type {\n",
              "        vertical-align: middle;\n",
              "    }\n",
              "\n",
              "    .dataframe tbody tr th {\n",
              "        vertical-align: top;\n",
              "    }\n",
              "\n",
              "    .dataframe thead th {\n",
              "        text-align: right;\n",
              "    }\n",
              "</style>\n",
              "<table border=\"1\" class=\"dataframe\">\n",
              "  <thead>\n",
              "    <tr style=\"text-align: right;\">\n",
              "      <th></th>\n",
              "      <th>Invoice ID</th>\n",
              "      <th>Branch</th>\n",
              "      <th>City</th>\n",
              "      <th>Customer type</th>\n",
              "      <th>Gender</th>\n",
              "      <th>Product line</th>\n",
              "      <th>Unit price</th>\n",
              "      <th>Quantity</th>\n",
              "      <th>Tax 5%</th>\n",
              "      <th>Total</th>\n",
              "      <th>Date</th>\n",
              "      <th>Time</th>\n",
              "      <th>Payment</th>\n",
              "      <th>cogs</th>\n",
              "      <th>gross margin percentage</th>\n",
              "      <th>gross income</th>\n",
              "      <th>Rating</th>\n",
              "    </tr>\n",
              "  </thead>\n",
              "  <tbody>\n",
              "    <tr>\n",
              "      <th>0</th>\n",
              "      <td>765-26-6951</td>\n",
              "      <td>A</td>\n",
              "      <td>Yangon</td>\n",
              "      <td>Normal</td>\n",
              "      <td>Male</td>\n",
              "      <td>Sports and travel</td>\n",
              "      <td>72.61</td>\n",
              "      <td>6</td>\n",
              "      <td>21.783</td>\n",
              "      <td>457.443</td>\n",
              "      <td>1/1/2019</td>\n",
              "      <td>10:39</td>\n",
              "      <td>Credit card</td>\n",
              "      <td>435.66</td>\n",
              "      <td>4.761905</td>\n",
              "      <td>21.783</td>\n",
              "      <td>6.9</td>\n",
              "    </tr>\n",
              "    <tr>\n",
              "      <th>1</th>\n",
              "      <td>651-88-7328</td>\n",
              "      <td>A</td>\n",
              "      <td>Yangon</td>\n",
              "      <td>Normal</td>\n",
              "      <td>Female</td>\n",
              "      <td>Fashion accessories</td>\n",
              "      <td>65.74</td>\n",
              "      <td>9</td>\n",
              "      <td>29.583</td>\n",
              "      <td>621.243</td>\n",
              "      <td>1/1/2019</td>\n",
              "      <td>13:55</td>\n",
              "      <td>Cash</td>\n",
              "      <td>591.66</td>\n",
              "      <td>4.761905</td>\n",
              "      <td>29.583</td>\n",
              "      <td>7.7</td>\n",
              "    </tr>\n",
              "    <tr>\n",
              "      <th>2</th>\n",
              "      <td>416-17-9926</td>\n",
              "      <td>A</td>\n",
              "      <td>Yangon</td>\n",
              "      <td>Member</td>\n",
              "      <td>Female</td>\n",
              "      <td>Electronic accessories</td>\n",
              "      <td>74.22</td>\n",
              "      <td>10</td>\n",
              "      <td>37.110</td>\n",
              "      <td>779.310</td>\n",
              "      <td>1/1/2019</td>\n",
              "      <td>14:42</td>\n",
              "      <td>Credit card</td>\n",
              "      <td>742.20</td>\n",
              "      <td>4.761905</td>\n",
              "      <td>37.110</td>\n",
              "      <td>4.3</td>\n",
              "    </tr>\n",
              "    <tr>\n",
              "      <th>3</th>\n",
              "      <td>530-90-9855</td>\n",
              "      <td>A</td>\n",
              "      <td>Yangon</td>\n",
              "      <td>Member</td>\n",
              "      <td>Male</td>\n",
              "      <td>Home and lifestyle</td>\n",
              "      <td>47.59</td>\n",
              "      <td>8</td>\n",
              "      <td>19.036</td>\n",
              "      <td>399.756</td>\n",
              "      <td>1/1/2019</td>\n",
              "      <td>14:47</td>\n",
              "      <td>Cash</td>\n",
              "      <td>380.72</td>\n",
              "      <td>4.761905</td>\n",
              "      <td>19.036</td>\n",
              "      <td>5.7</td>\n",
              "    </tr>\n",
              "    <tr>\n",
              "      <th>4</th>\n",
              "      <td>182-52-7000</td>\n",
              "      <td>A</td>\n",
              "      <td>Yangon</td>\n",
              "      <td>Member</td>\n",
              "      <td>Female</td>\n",
              "      <td>Sports and travel</td>\n",
              "      <td>27.04</td>\n",
              "      <td>4</td>\n",
              "      <td>5.408</td>\n",
              "      <td>113.568</td>\n",
              "      <td>1/1/2019</td>\n",
              "      <td>20:26</td>\n",
              "      <td>Ewallet</td>\n",
              "      <td>108.16</td>\n",
              "      <td>4.761905</td>\n",
              "      <td>5.408</td>\n",
              "      <td>6.9</td>\n",
              "    </tr>\n",
              "  </tbody>\n",
              "</table>\n",
              "</div>"
            ],
            "text/plain": [
              "    Invoice ID Branch    City Customer type  Gender            Product line  \\\n",
              "0  765-26-6951      A  Yangon        Normal    Male       Sports and travel   \n",
              "1  651-88-7328      A  Yangon        Normal  Female     Fashion accessories   \n",
              "2  416-17-9926      A  Yangon        Member  Female  Electronic accessories   \n",
              "3  530-90-9855      A  Yangon        Member    Male      Home and lifestyle   \n",
              "4  182-52-7000      A  Yangon        Member  Female       Sports and travel   \n",
              "\n",
              "   Unit price  Quantity  Tax 5%    Total      Date   Time      Payment  \\\n",
              "0       72.61         6  21.783  457.443  1/1/2019  10:39  Credit card   \n",
              "1       65.74         9  29.583  621.243  1/1/2019  13:55         Cash   \n",
              "2       74.22        10  37.110  779.310  1/1/2019  14:42  Credit card   \n",
              "3       47.59         8  19.036  399.756  1/1/2019  14:47         Cash   \n",
              "4       27.04         4   5.408  113.568  1/1/2019  20:26      Ewallet   \n",
              "\n",
              "     cogs  gross margin percentage  gross income  Rating  \n",
              "0  435.66                 4.761905        21.783     6.9  \n",
              "1  591.66                 4.761905        29.583     7.7  \n",
              "2  742.20                 4.761905        37.110     4.3  \n",
              "3  380.72                 4.761905        19.036     5.7  \n",
              "4  108.16                 4.761905         5.408     6.9  "
            ]
          },
          "execution_count": 389,
          "metadata": {},
          "output_type": "execute_result"
        }
      ],
      "source": [
        "#Case Menghitung Total Pendapatan tahun 2019 di Supermarket Cabang Yangon\n",
        "import pandas as pd\n",
        "\n",
        "data = pd.read_csv('https://raw.githubusercontent.com/fahmimnalfrzki/ds-masterclass-h8-vol2/main/data/supermarket_sales%20-%20Sheet1.csv')\n",
        "data = data[data['City']=='Yangon'].sort_values(['Date','Time']).reset_index(drop=True)\n",
        "data.head()"
      ]
    },
    {
      "cell_type": "code",
      "execution_count": 390,
      "metadata": {
        "colab": {
          "base_uri": "https://localhost:8080/",
          "height": 282
        },
        "id": "HnkkVGd7KRxM",
        "outputId": "79ae7a71-4938-4f17-dc2b-8e7e97ac62db"
      },
      "outputs": [
        {
          "data": {
            "text/plain": [
              "<AxesSubplot:>"
            ]
          },
          "execution_count": 390,
          "metadata": {},
          "output_type": "execute_result"
        },
        {
          "data": {
            "image/png": "[encoded data removed]",
            "text/plain": [
              "<Figure size 432x288 with 1 Axes>"
            ]
          },
          "metadata": {
            "needs_background": "light"
          },
          "output_type": "display_data"
        }
      ],
      "source": [
        "data['gross income'].plot(kind='line')"
      ]
    },
    {
      "cell_type": "code",
      "execution_count": 391,
      "metadata": {
        "colab": {
          "base_uri": "https://localhost:8080/"
        },
        "id": "_wGEcwwzI9nZ",
        "outputId": "398e8539-2db0-4161-e317-7ef75ceb8cd3"
      },
      "outputs": [
        {
          "name": "stdout",
          "output_type": "stream",
          "text": [
            "Total Gross Income in 2019: 5033.7964999999995\n"
          ]
        }
      ],
      "source": [
        "x = data.index\n",
        "y = data['gross income']\n",
        "\n",
        "total_gross_income_2019 = integrate.trapz(y,x)\n",
        "print('Total Gross Income in 2019:',total_gross_income_2019)"
      ]
    },
    {
      "cell_type": "code",
      "execution_count": 392,
      "metadata": {
        "colab": {
          "base_uri": "https://localhost:8080/"
        },
        "id": "HtUTFg0MN7uB",
        "outputId": "81378a37-6592-4380-f1bb-4ef80fa2a12c"
      },
      "outputs": [
        {
          "data": {
            "text/plain": [
              "5057.1605"
            ]
          },
          "execution_count": 392,
          "metadata": {},
          "output_type": "execute_result"
        }
      ],
      "source": [
        "data['gross income'].sum()"
      ]
    },
    {
      "cell_type": "markdown",
      "metadata": {
        "id": "05_I2OeNQC6t"
      },
      "source": [
        "## Luas area lingkaran"
      ]
    },
    {
      "cell_type": "code",
      "execution_count": 393,
      "metadata": {
        "id": "J4vXp4D0QEWj"
      },
      "outputs": [],
      "source": [
        "from scipy.integrate import trapz\n",
        "from scipy.integrate import quad\n",
        "import numpy as np\n",
        "\n",
        "R=30\n",
        "x=np.linspace(-R,R,100000)\n",
        "\n",
        "upper = np.sqrt(R**2 - x**2)\n",
        "lower = -upper"
      ]
    },
    {
      "cell_type": "code",
      "execution_count": 394,
      "metadata": {
        "colab": {
          "base_uri": "https://localhost:8080/"
        },
        "id": "5Lo5PvYwQN98",
        "outputId": "bbfd98d5-cff7-4197-c8f0-d639e869c179"
      },
      "outputs": [
        {
          "data": {
            "text/plain": [
              "array([-30.        , -29.99939999, -29.99879999, ...,  29.99879999,\n",
              "        29.99939999,  30.        ])"
            ]
          },
          "execution_count": 394,
          "metadata": {},
          "output_type": "execute_result"
        }
      ],
      "source": [
        "x"
      ]
    },
    {
      "cell_type": "code",
      "execution_count": 395,
      "metadata": {
        "colab": {
          "base_uri": "https://localhost:8080/",
          "height": 391
        },
        "id": "6BEaukxWQZco",
        "outputId": "1b769bec-f0ce-4ecb-d7a6-942756009181"
      },
      "outputs": [
        {
          "data": {
            "text/plain": [
              "[<matplotlib.lines.Line2D at 0x20eaa120b50>]"
            ]
          },
          "execution_count": 395,
          "metadata": {},
          "output_type": "execute_result"
        },
        {
          "data": {
            "image/png": "[encoded data removed]",
            "text/plain": [
              "<Figure size 432x432 with 1 Axes>"
            ]
          },
          "metadata": {
            "needs_background": "light"
          },
          "output_type": "display_data"
        }
      ],
      "source": [
        "import matplotlib.pyplot as plt\n",
        "fig,ax = plt.subplots(figsize=(6,6))\n",
        "ax.plot(x,upper)\n",
        "ax.plot(x,lower)"
      ]
    },
    {
      "cell_type": "code",
      "execution_count": 396,
      "metadata": {
        "colab": {
          "base_uri": "https://localhost:8080/"
        },
        "id": "A7dUDZ1QQSMD",
        "outputId": "8ca8fd77-c7b9-4f83-b968-8cc444185079"
      },
      "outputs": [
        {
          "name": "stdout",
          "output_type": "stream",
          "text": [
            "2827.4332935647208\n"
          ]
        }
      ],
      "source": [
        "#Cara 1\n",
        "area = trapz(upper,x) - trapz(lower,x)\n",
        "\n",
        "print(area)"
      ]
    },
    {
      "cell_type": "code",
      "execution_count": 397,
      "metadata": {
        "colab": {
          "base_uri": "https://localhost:8080/"
        },
        "id": "9hx5zZn03cg9",
        "outputId": "68794d58-c17a-48a5-f682-91cf2d71e64b"
      },
      "outputs": [
        {
          "name": "stdout",
          "output_type": "stream",
          "text": [
            "2827.4333882308197\n"
          ]
        }
      ],
      "source": [
        "#Cara 2\n",
        "def upper(x):\n",
        "  return np.sqrt(R**2 - x**2)\n",
        "\n",
        "def lower(x):\n",
        "  return -np.sqrt(R**2 - x**2)\n",
        "\n",
        "area = quad(upper,-R,R)[0] - quad(lower,-R,R)[0]\n",
        "print(area)"
      ]
    },
    {
      "cell_type": "code",
      "execution_count": 398,
      "metadata": {
        "colab": {
          "base_uri": "https://localhost:8080/"
        },
        "id": "VKfo3cXu9kVj",
        "outputId": "3739bc09-ae5e-4e66-cb91-3fd476d3741e"
      },
      "outputs": [
        {
          "name": "stdout",
          "output_type": "stream",
          "text": [
            "2827.4333882308138\n"
          ]
        }
      ],
      "source": [
        "#Menggunakan rumus luas lingkaran\n",
        "print(np.pi*R**2)"
      ]
    },
    {
      "cell_type": "markdown",
      "metadata": {
        "id": "aTrVRzZOa5Ta"
      },
      "source": [
        "##Menghitung Luas area negara swiss"
      ]
    },
    {
      "cell_type": "code",
      "execution_count": 399,
      "metadata": {
        "colab": {
          "base_uri": "https://localhost:8080/",
          "height": 424
        },
        "id": "mfUg4S0ZbKAT",
        "outputId": "f0d9f274-418e-4057-824c-12a5edbaf8eb"
      },
      "outputs": [
        {
          "data": {
            "text/html": [
              "<div>\n",
              "<style scoped>\n",
              "    .dataframe tbody tr th:only-of-type {\n",
              "        vertical-align: middle;\n",
              "    }\n",
              "\n",
              "    .dataframe tbody tr th {\n",
              "        vertical-align: top;\n",
              "    }\n",
              "\n",
              "    .dataframe thead th {\n",
              "        text-align: right;\n",
              "    }\n",
              "</style>\n",
              "<table border=\"1\" class=\"dataframe\">\n",
              "  <thead>\n",
              "    <tr style=\"text-align: right;\">\n",
              "      <th></th>\n",
              "      <th>longitude</th>\n",
              "      <th>latitude</th>\n",
              "    </tr>\n",
              "  </thead>\n",
              "  <tbody>\n",
              "    <tr>\n",
              "      <th>0</th>\n",
              "      <td>9.56672</td>\n",
              "      <td>47.54045</td>\n",
              "    </tr>\n",
              "    <tr>\n",
              "      <th>1</th>\n",
              "      <td>9.55980</td>\n",
              "      <td>47.50209</td>\n",
              "    </tr>\n",
              "    <tr>\n",
              "      <th>2</th>\n",
              "      <td>9.59660</td>\n",
              "      <td>47.46944</td>\n",
              "    </tr>\n",
              "    <tr>\n",
              "      <th>3</th>\n",
              "      <td>9.64965</td>\n",
              "      <td>47.45861</td>\n",
              "    </tr>\n",
              "    <tr>\n",
              "      <th>4</th>\n",
              "      <td>9.67035</td>\n",
              "      <td>47.39069</td>\n",
              "    </tr>\n",
              "    <tr>\n",
              "      <th>...</th>\n",
              "      <td>...</td>\n",
              "      <td>...</td>\n",
              "    </tr>\n",
              "    <tr>\n",
              "      <th>273</th>\n",
              "      <td>9.03333</td>\n",
              "      <td>47.68833</td>\n",
              "    </tr>\n",
              "    <tr>\n",
              "      <th>274</th>\n",
              "      <td>9.08264</td>\n",
              "      <td>47.68541</td>\n",
              "    </tr>\n",
              "    <tr>\n",
              "      <th>275</th>\n",
              "      <td>9.26110</td>\n",
              "      <td>47.66284</td>\n",
              "    </tr>\n",
              "    <tr>\n",
              "      <th>276</th>\n",
              "      <td>9.47832</td>\n",
              "      <td>47.57585</td>\n",
              "    </tr>\n",
              "    <tr>\n",
              "      <th>277</th>\n",
              "      <td>9.56672</td>\n",
              "      <td>47.54045</td>\n",
              "    </tr>\n",
              "  </tbody>\n",
              "</table>\n",
              "<p>278 rows × 2 columns</p>\n",
              "</div>"
            ],
            "text/plain": [
              "     longitude  latitude\n",
              "0      9.56672  47.54045\n",
              "1      9.55980  47.50209\n",
              "2      9.59660  47.46944\n",
              "3      9.64965  47.45861\n",
              "4      9.67035  47.39069\n",
              "..         ...       ...\n",
              "273    9.03333  47.68833\n",
              "274    9.08264  47.68541\n",
              "275    9.26110  47.66284\n",
              "276    9.47832  47.57585\n",
              "277    9.56672  47.54045\n",
              "\n",
              "[278 rows x 2 columns]"
            ]
          },
          "execution_count": 399,
          "metadata": {},
          "output_type": "execute_result"
        }
      ],
      "source": [
        "df = pd.read_csv('https://raw.githubusercontent.com/fahmimnalfrzki/Dataset/main/Swiss_boundaries.txt?token=AEZDEHXBTS7OMF32RTYPKZDA2FELA')\n",
        "df"
      ]
    },
    {
      "cell_type": "code",
      "execution_count": 400,
      "metadata": {
        "colab": {
          "base_uri": "https://localhost:8080/"
        },
        "id": "uhQlXuO-bSgC",
        "outputId": "af89739b-d80d-4fff-bc9e-eae98eba2905"
      },
      "outputs": [
        {
          "name": "stdout",
          "output_type": "stream",
          "text": [
            "<class 'pandas.core.frame.DataFrame'>\n",
            "RangeIndex: 278 entries, 0 to 277\n",
            "Data columns (total 2 columns):\n",
            " #   Column     Non-Null Count  Dtype  \n",
            "---  ------     --------------  -----  \n",
            " 0   longitude  278 non-null    float64\n",
            " 1   latitude   278 non-null    float64\n",
            "dtypes: float64(2)\n",
            "memory usage: 4.5 KB\n"
          ]
        }
      ],
      "source": [
        "df.info()"
      ]
    },
    {
      "cell_type": "markdown",
      "metadata": {
        "id": "ZGoUWTtpbkus"
      },
      "source": [
        "Bentuk area negara swiss"
      ]
    },
    {
      "cell_type": "code",
      "execution_count": 401,
      "metadata": {
        "colab": {
          "base_uri": "https://localhost:8080/",
          "height": 282
        },
        "id": "tq5RUV5VbieB",
        "outputId": "22196de6-ded8-47d9-c095-718b4ed0844b"
      },
      "outputs": [
        {
          "data": {
            "text/plain": [
              "[<matplotlib.lines.Line2D at 0x20eaa2a1880>]"
            ]
          },
          "execution_count": 401,
          "metadata": {},
          "output_type": "execute_result"
        },
        {
          "data": {
            "image/png": "[encoded data removed]",
            "text/plain": [
              "<Figure size 432x288 with 1 Axes>"
            ]
          },
          "metadata": {
            "needs_background": "light"
          },
          "output_type": "display_data"
        }
      ],
      "source": [
        "plt.plot(df['longitude'],df['latitude'])"
      ]
    },
    {
      "cell_type": "markdown",
      "metadata": {
        "id": "mzXC4iacbYLV"
      },
      "source": [
        "Hitung median untuk mencari nilai tengah untuk membedakan daerah southern dan northern"
      ]
    },
    {
      "cell_type": "code",
      "execution_count": 402,
      "metadata": {
        "colab": {
          "base_uri": "https://localhost:8080/"
        },
        "id": "S5Y7garAbTRY",
        "outputId": "51a532c5-b288-4337-9b56-df9fd19ce666"
      },
      "outputs": [
        {
          "data": {
            "text/plain": [
              "46.61666000000005"
            ]
          },
          "execution_count": 402,
          "metadata": {},
          "output_type": "execute_result"
        }
      ],
      "source": [
        "median = df['latitude'].median()\n",
        "median"
      ]
    },
    {
      "cell_type": "markdown",
      "metadata": {
        "id": "BOuekdxjbsQT"
      },
      "source": [
        "Untuk mencari luas daerah dari suatu wilayah, cari integral dari area atas dikurangi area bawah. Dalam hal ini, cari integral dari daerah Nothern swiss yang latitude nya di atas median dari latitude lalu dikurangi integral dari daerah southern swiss yang latitude nya dibawah median dari latitude nya."
      ]
    },
    {
      "cell_type": "code",
      "execution_count": 403,
      "metadata": {
        "colab": {
          "base_uri": "https://localhost:8080/"
        },
        "id": "39-etiqfbq5R",
        "outputId": "9018984e-8d3d-401e-d49e-bac976a3d7e8"
      },
      "outputs": [
        {
          "data": {
            "text/plain": [
              "4.189615000000004"
            ]
          },
          "execution_count": 403,
          "metadata": {},
          "output_type": "execute_result"
        }
      ],
      "source": [
        "trapz(df['latitude']>median, df['longitude']) - trapz(df['latitude']<median, df['longitude'])"
      ]
    }
  ],
  "metadata": {
    "colab": {
      "collapsed_sections": [
        "EiuTYeFpEnYi",
        "05_I2OeNQC6t"
      ],
      "name": "Calculus.ipynb",
      "provenance": []
    },
    "kernelspec": {
      "display_name": "Python 3.9.12 ('base')",
      "language": "python",
      "name": "python3"
    },
    "language_info": {
      "codemirror_mode": {
        "name": "ipython",
        "version": 3
      },
      "file_extension": ".py",
      "mimetype": "text/x-python",
      "name": "python",
      "nbconvert_exporter": "python",
      "pygments_lexer": "ipython3",
      "version": "3.9.12"
    },
    "vscode": {
      "interpreter": {
        "hash": "3c49ca66e5c8d57ef998acbc4445fda8afa39543d611cccca4a6c099a23fcb0b"
      }
    }
  },
  "nbformat": 4,
  "nbformat_minor": 0
}
