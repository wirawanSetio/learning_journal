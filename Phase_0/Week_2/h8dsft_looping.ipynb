{
 "cells": [
  {
   "cell_type": "markdown",
   "metadata": {},
   "source": [
    "# Assignment : FTDS //NG-1\n",
    "-Loop dan print semua angka genap dari list angka dengan urutan yang sama. <BR>\n",
    "-Jangan mencetak angka apapun yang muncul setelah angka 918 berdasarkan posisi angka tersebut pada list diatas.<BR>\n",
    "-Tampilkan pesan ”Done” setelah looping berakhir.\n"
   ]
  },
  {
   "cell_type": "code",
   "execution_count": 1,
   "metadata": {},
   "outputs": [
    {
     "name": "stdout",
     "output_type": "stream",
     "text": [
      "402\n",
      "984\n",
      "360\n",
      "408\n",
      "980\n",
      "544\n",
      "390\n",
      "984\n",
      "592\n",
      "236\n",
      "942\n",
      "386\n",
      "462\n",
      "418\n",
      "344\n",
      "236\n",
      "566\n",
      "978\n",
      "328\n",
      "162\n",
      "758\n",
      "918\n",
      "412\n",
      "566\n",
      "826\n",
      "248\n",
      "866\n",
      "950\n",
      "626\n"
     ]
    }
   ],
   "source": [
    "numbers = [951, 402, 984, 651, 360, 69, 408, 319, 601, 485, 980, 507, 725, 547,\n",
    "           544, 615, 83, 165, 141, 501, 263, 617, 865, 575, 219, 390, 984, 592, \n",
    "           236, 105, 942, 941, 386, 462, 47, 418, 907, 344, 236, 375, 823, 566,\n",
    "           597, 978, 328, 615, 953, 345, 399, 162, 758, 219, 918, 237, 412, 566,\n",
    "           826, 248, 866, 950, 626, 949]\n",
    "\n",
    "\n",
    "# Loop \n",
    "for num in numbers:\n",
    "    # skip angka ganjil dan yang lebih dari 918 berdasarkan posisi angka tersebut pada list diatas.\n",
    "    if num % 2 > 0 and num > 918 :\n",
    "        continue\n",
    "    # print semua angka genap dari list angka diatas dengan urutan yang sama. \n",
    "    print(num)\n",
    "\n",
    "# Tampilkan pesan ”Done” setelah looping berakhir.\n",
    "print(\"Done\")"
   ]
  }
 ],
 "metadata": {
  "kernelspec": {
   "display_name": "Python 3.10.5 64-bit (windows store)",
   "language": "python",
   "name": "python3"
  },
  "language_info": {
   "codemirror_mode": {
    "name": "ipython",
    "version": 3
   },
   "file_extension": ".py",
   "mimetype": "text/x-python",
   "name": "python",
   "nbconvert_exporter": "python",
   "pygments_lexer": "ipython3",
   "version": "3.10.5"
  },
  "orig_nbformat": 4,
  "vscode": {
   "interpreter": {
    "hash": "e7194702c6bfa9cdc487ef694ee9be7cf6f4c86d2ac62f9941d6772a53cd3fe2"
   }
  }
 },
 "nbformat": 4,
 "nbformat_minor": 2
}
