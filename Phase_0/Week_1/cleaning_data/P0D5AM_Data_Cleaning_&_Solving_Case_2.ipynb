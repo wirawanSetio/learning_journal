{
  "cells": [
    {
      "cell_type": "markdown",
      "metadata": {
        "id": "gf9-o7fK3gNf"
      },
      "source": [
        "# Week 1: Day 5am // Pandas: Data Cleaning & Analyzing Obesity in England"
      ]
    },
    {
      "cell_type": "markdown",
      "metadata": {
        "id": "wzWO1hVx5Qgb"
      },
      "source": [
        "Download dataset: https://github.com/ardhiraka/PFDS_sources"
      ]
    },
    {
      "cell_type": "markdown",
      "metadata": {
        "id": "4odGdZBV3gNk"
      },
      "source": [
        "## Data Cleaning with Pandas\n",
        "\n",
        "> According to IBM Data Analytics you can expect to spend up to 80% of your time cleaning data.\n",
        "\n",
        "**Sources of Missing Values**\n",
        "\n",
        "Before we dive into code, it’s important to understand the sources of missing data. Here’s some typical reasons why data is missing:\n",
        "\n",
        "- User forgot to fill in a field.\n",
        "- Data was lost while transferring manually from a legacy database.\n",
        "- There was a programming error.\n",
        "- Users chose not to fill out a field tied to their beliefs about how the results would be used or interpreted.\n",
        "\n",
        "As you can see, some of these sources are just simple random mistakes. Other times, there can be a deeper reason why data is missing.\n",
        "\n",
        "Before you start cleaning a data set, it’s a good idea to just get a general feel for the data. After that, you can put together a plan to clean the data.\n",
        "\n",
        "Start by asking the following questions:\n",
        "\n",
        "- What are the features?\n",
        "- What are the expected types (int, float, string, boolean)?\n",
        "- Is there obvious missing data (values that Pandas can detect)?\n",
        "- Is there other types of missing data that’s not so obvious (can’t easily detect with Pandas)?\n"
      ]
    },
    {
      "cell_type": "code",
      "execution_count": 1,
      "metadata": {
        "id": "cjJjQbpT3gNl"
      },
      "outputs": [],
      "source": [
        "import numpy as np\n",
        "import pandas as pd"
      ]
    },
    {
      "cell_type": "code",
      "execution_count": 2,
      "metadata": {
        "id": "J9MNgk8n3gNo"
      },
      "outputs": [],
      "source": [
        "df = pd.read_csv('https://raw.githubusercontent.com/ardhiraka/PFDS_sources/master/property_data.csv')\n"
      ]
    },
    {
      "cell_type": "code",
      "execution_count": 3,
      "metadata": {
        "colab": {
          "base_uri": "https://localhost:8080/",
          "height": 332
        },
        "id": "QkUB17m83gNp",
        "outputId": "baf4dd40-6a14-478b-d6a9-8e575b9735af",
        "scrolled": true
      },
      "outputs": [
        {
          "data": {
            "text/html": [
              "<div>\n",
              "<style scoped>\n",
              "    .dataframe tbody tr th:only-of-type {\n",
              "        vertical-align: middle;\n",
              "    }\n",
              "\n",
              "    .dataframe tbody tr th {\n",
              "        vertical-align: top;\n",
              "    }\n",
              "\n",
              "    .dataframe thead th {\n",
              "        text-align: right;\n",
              "    }\n",
              "</style>\n",
              "<table border=\"1\" class=\"dataframe\">\n",
              "  <thead>\n",
              "    <tr style=\"text-align: right;\">\n",
              "      <th></th>\n",
              "      <th>PID</th>\n",
              "      <th>ST_NUM</th>\n",
              "      <th>ST_NAME</th>\n",
              "      <th>OWN_OCCUPIED</th>\n",
              "      <th>NUM_BEDROOMS</th>\n",
              "      <th>NUM_BATH</th>\n",
              "      <th>SQ_FT</th>\n",
              "    </tr>\n",
              "  </thead>\n",
              "  <tbody>\n",
              "    <tr>\n",
              "      <th>0</th>\n",
              "      <td>100001000.0</td>\n",
              "      <td>104.0</td>\n",
              "      <td>PUTNAM</td>\n",
              "      <td>Y</td>\n",
              "      <td>3</td>\n",
              "      <td>1</td>\n",
              "      <td>1000</td>\n",
              "    </tr>\n",
              "    <tr>\n",
              "      <th>1</th>\n",
              "      <td>100002000.0</td>\n",
              "      <td>197.0</td>\n",
              "      <td>LEXINGTON</td>\n",
              "      <td>N</td>\n",
              "      <td>3</td>\n",
              "      <td>1.5</td>\n",
              "      <td>--</td>\n",
              "    </tr>\n",
              "    <tr>\n",
              "      <th>2</th>\n",
              "      <td>100003000.0</td>\n",
              "      <td>NaN</td>\n",
              "      <td>LEXINGTON</td>\n",
              "      <td>N</td>\n",
              "      <td>NaN</td>\n",
              "      <td>1</td>\n",
              "      <td>850</td>\n",
              "    </tr>\n",
              "    <tr>\n",
              "      <th>3</th>\n",
              "      <td>100004000.0</td>\n",
              "      <td>201.0</td>\n",
              "      <td>BERKELEY</td>\n",
              "      <td>12</td>\n",
              "      <td>1</td>\n",
              "      <td>NaN</td>\n",
              "      <td>700</td>\n",
              "    </tr>\n",
              "    <tr>\n",
              "      <th>4</th>\n",
              "      <td>NaN</td>\n",
              "      <td>203.0</td>\n",
              "      <td>BERKELEY</td>\n",
              "      <td>Y</td>\n",
              "      <td>3</td>\n",
              "      <td>2</td>\n",
              "      <td>1600</td>\n",
              "    </tr>\n",
              "    <tr>\n",
              "      <th>5</th>\n",
              "      <td>100006000.0</td>\n",
              "      <td>207.0</td>\n",
              "      <td>BERKELEY</td>\n",
              "      <td>Y</td>\n",
              "      <td>NaN</td>\n",
              "      <td>1</td>\n",
              "      <td>800</td>\n",
              "    </tr>\n",
              "    <tr>\n",
              "      <th>6</th>\n",
              "      <td>100007000.0</td>\n",
              "      <td>NaN</td>\n",
              "      <td>WASHINGTON</td>\n",
              "      <td>NaN</td>\n",
              "      <td>2</td>\n",
              "      <td>HURLEY</td>\n",
              "      <td>950</td>\n",
              "    </tr>\n",
              "    <tr>\n",
              "      <th>7</th>\n",
              "      <td>100008000.0</td>\n",
              "      <td>213.0</td>\n",
              "      <td>TREMONT</td>\n",
              "      <td>Y</td>\n",
              "      <td>--</td>\n",
              "      <td>1</td>\n",
              "      <td>NaN</td>\n",
              "    </tr>\n",
              "    <tr>\n",
              "      <th>8</th>\n",
              "      <td>100009000.0</td>\n",
              "      <td>215.0</td>\n",
              "      <td>TREMONT</td>\n",
              "      <td>Y</td>\n",
              "      <td>na</td>\n",
              "      <td>2</td>\n",
              "      <td>1800</td>\n",
              "    </tr>\n",
              "  </tbody>\n",
              "</table>\n",
              "</div>"
            ],
            "text/plain": [
              "           PID  ST_NUM     ST_NAME OWN_OCCUPIED NUM_BEDROOMS NUM_BATH SQ_FT\n",
              "0  100001000.0   104.0      PUTNAM            Y            3        1  1000\n",
              "1  100002000.0   197.0   LEXINGTON            N            3      1.5    --\n",
              "2  100003000.0     NaN   LEXINGTON            N          NaN        1   850\n",
              "3  100004000.0   201.0    BERKELEY           12            1      NaN   700\n",
              "4          NaN   203.0    BERKELEY            Y            3        2  1600\n",
              "5  100006000.0   207.0    BERKELEY            Y          NaN        1   800\n",
              "6  100007000.0     NaN  WASHINGTON          NaN            2   HURLEY   950\n",
              "7  100008000.0   213.0     TREMONT            Y           --        1   NaN\n",
              "8  100009000.0   215.0     TREMONT            Y           na        2  1800"
            ]
          },
          "execution_count": 3,
          "metadata": {},
          "output_type": "execute_result"
        }
      ],
      "source": [
        "df.head(10)"
      ]
    },
    {
      "cell_type": "code",
      "execution_count": 4,
      "metadata": {},
      "outputs": [
        {
          "name": "stdout",
          "output_type": "stream",
          "text": [
            "<class 'pandas.core.frame.DataFrame'>\n",
            "RangeIndex: 9 entries, 0 to 8\n",
            "Data columns (total 7 columns):\n",
            " #   Column        Non-Null Count  Dtype  \n",
            "---  ------        --------------  -----  \n",
            " 0   PID           8 non-null      float64\n",
            " 1   ST_NUM        7 non-null      float64\n",
            " 2   ST_NAME       9 non-null      object \n",
            " 3   OWN_OCCUPIED  8 non-null      object \n",
            " 4   NUM_BEDROOMS  7 non-null      object \n",
            " 5   NUM_BATH      8 non-null      object \n",
            " 6   SQ_FT         8 non-null      object \n",
            "dtypes: float64(2), object(5)\n",
            "memory usage: 632.0+ bytes\n"
          ]
        }
      ],
      "source": [
        "df.info()"
      ]
    },
    {
      "cell_type": "markdown",
      "metadata": {
        "id": "FeLrk7zz3gNr"
      },
      "source": [
        "With the .head()method, we can easily see the first few rows.\n",
        "\n",
        "Now we can answer our original question, what are my features? It’s pretty easy to infer the following features from the column names:\n",
        "\n",
        "- ST_NUM: Street number\n",
        "- ST_NAME: Street name\n",
        "- OWN_OCCUPIED: Is the residence owner occupied\n",
        "- NUM_BEDROOMS: Number of bedrooms\n",
        "\n",
        "We can also answer, what are the expected types?\n",
        "\n",
        "- ST_NUM: float or int… some sort of numeric type\n",
        "- ST_NAME: string\n",
        "- OWN_OCCUPIED: string… Y (“Yes”) or N (“No”)\n",
        "- NUM_BEDROOMS: float or int, a numeric type\n",
        "\n",
        "To answer the next two questions, we’ll need to start getting more in-depth width Pandas. Let’s start looking at examples of how to detect missing values."
      ]
    },
    {
      "cell_type": "markdown",
      "metadata": {
        "id": "CesBHLzQ3gNt"
      },
      "source": [
        "### Standard Missing Values\n",
        "\n",
        "So what do I mean by “standard missing values”? These are missing values that Pandas can detect.\n",
        "\n",
        "Going back to our original dataset, let’s take a look at the “Street Number” column.\n",
        "\n",
        "<img src='https://miro.medium.com/max/830/0*veOKXtXllBUoIOr-.jpg' />\n",
        "\n",
        "In the third row there’s an empty cell. In the seventh row there’s an “NA” value.\n",
        "\n",
        "Clearly these are both missing values. Let’s see how Pandas deals with these."
      ]
    },
    {
      "cell_type": "code",
      "execution_count": null,
      "metadata": {
        "colab": {
          "base_uri": "https://localhost:8080/"
        },
        "id": "yh7hu0_G3gNw",
        "outputId": "34b5dc5c-13b5-46af-a45d-aaeff947af4e"
      },
      "outputs": [
        {
          "data": {
            "text/plain": [
              "0    104.0\n",
              "1    197.0\n",
              "2      NaN\n",
              "3    201.0\n",
              "4    203.0\n",
              "5    207.0\n",
              "6      NaN\n",
              "7    213.0\n",
              "8    215.0\n",
              "Name: ST_NUM, dtype: float64"
            ]
          },
          "execution_count": 4,
          "metadata": {},
          "output_type": "execute_result"
        }
      ],
      "source": [
        "df['ST_NUM']"
      ]
    },
    {
      "cell_type": "code",
      "execution_count": 5,
      "metadata": {
        "colab": {
          "base_uri": "https://localhost:8080/"
        },
        "id": "5yoXDA793gNx",
        "outputId": "11771a8e-676f-4ab7-c413-13ff40376a91"
      },
      "outputs": [
        {
          "data": {
            "text/plain": [
              "0    False\n",
              "1    False\n",
              "2     True\n",
              "3    False\n",
              "4    False\n",
              "5    False\n",
              "6     True\n",
              "7    False\n",
              "8    False\n",
              "Name: ST_NUM, dtype: bool"
            ]
          },
          "execution_count": 5,
          "metadata": {},
          "output_type": "execute_result"
        }
      ],
      "source": [
        "df['ST_NUM'].isnull()"
      ]
    },
    {
      "cell_type": "markdown",
      "metadata": {
        "id": "qulEVU4o3gNz"
      },
      "source": [
        "Taking a look at the column, we can see that Pandas filled in the blank space with “NA”. Using the `isnull() `method, we can confirm that both the missing value and “NA” were recognized as missing values. Both boolean responses are True.\n",
        "\n",
        "This is a simple example, but highlights an important point. Pandas will recognize both empty cells and “NA” types as missing values. In the next section, we’ll take a look at some types that Pandas won’t recognize."
      ]
    },
    {
      "cell_type": "markdown",
      "metadata": {
        "id": "BPacWwo33gN0"
      },
      "source": [
        "### Non-Standard Missing Values\n",
        "\n",
        "Sometimes it might be the case where there’s missing values that have different formats.\n",
        "\n",
        "Let’s take a look at the “Number of Bedrooms” column.\n",
        "\n",
        "<img src='https://miro.medium.com/max/830/0*wlRcCspEXuvanHPP.jpg' />\n",
        "\n",
        "In this column, there’s four missing values.\n",
        "\n",
        "- n/a\n",
        "- NA\n",
        "- —\n",
        "- na\n",
        "\n",
        "From the previous section, we know that Pandas will recognize “NA” as a missing value, but what about the others? Let’s take a look."
      ]
    },
    {
      "cell_type": "code",
      "execution_count": null,
      "metadata": {
        "colab": {
          "base_uri": "https://localhost:8080/"
        },
        "id": "TrnHIrGY3gN1",
        "outputId": "a3f2ff99-db30-4cd0-c42a-4cfb7f3db9b8"
      },
      "outputs": [
        {
          "data": {
            "text/plain": [
              "0      3\n",
              "1      3\n",
              "2    NaN\n",
              "3      1\n",
              "4      3\n",
              "5    NaN\n",
              "6      2\n",
              "7     --\n",
              "8     na\n",
              "Name: NUM_BEDROOMS, dtype: object"
            ]
          },
          "execution_count": 6,
          "metadata": {},
          "output_type": "execute_result"
        }
      ],
      "source": [
        "df['NUM_BEDROOMS']"
      ]
    },
    {
      "cell_type": "code",
      "execution_count": null,
      "metadata": {
        "colab": {
          "base_uri": "https://localhost:8080/"
        },
        "id": "1H9yKH813gN5",
        "outputId": "90c5e619-5477-47d5-f498-b50986c42714"
      },
      "outputs": [
        {
          "data": {
            "text/plain": [
              "0    False\n",
              "1    False\n",
              "2     True\n",
              "3    False\n",
              "4    False\n",
              "5     True\n",
              "6    False\n",
              "7    False\n",
              "8    False\n",
              "Name: NUM_BEDROOMS, dtype: bool"
            ]
          },
          "execution_count": 7,
          "metadata": {},
          "output_type": "execute_result"
        }
      ],
      "source": [
        "df['NUM_BEDROOMS'].isnull()"
      ]
    },
    {
      "cell_type": "markdown",
      "metadata": {
        "id": "8Mb1oYIz3gOO"
      },
      "source": [
        "Just like before, Pandas recognized the “NA” as a missing value. Unfortunately, the other types weren’t recognized.\n",
        "\n",
        "If there’s multiple users manually entering data, then this is a common problem. Maybe i like to use “n/a” but you like to use “na”.\n",
        "\n",
        "An easy way to detect these various formats is to put them in a list. Then when we import the data, Pandas will recognize them right away. Here’s an example of how we would do that."
      ]
    },
    {
      "cell_type": "code",
      "execution_count": 7,
      "metadata": {
        "id": "sgEJyg4T3gOP"
      },
      "outputs": [],
      "source": [
        "missing_values = [\"n/a\", \"na\", \"--\"]"
      ]
    },
    {
      "cell_type": "code",
      "execution_count": 8,
      "metadata": {
        "id": "sPU461323gOP"
      },
      "outputs": [],
      "source": [
        "df = pd.read_csv(\"https://raw.githubusercontent.com/ardhiraka/PFDS_sources/master/property_data.csv\", na_values = missing_values)"
      ]
    },
    {
      "cell_type": "code",
      "execution_count": 9,
      "metadata": {
        "colab": {
          "base_uri": "https://localhost:8080/"
        },
        "id": "RLHAbu7d3gOQ",
        "outputId": "6bd4bafa-ba27-42ce-8f4a-d16071597d2f"
      },
      "outputs": [
        {
          "data": {
            "text/plain": [
              "0    3.0\n",
              "1    3.0\n",
              "2    NaN\n",
              "3    1.0\n",
              "4    3.0\n",
              "5    NaN\n",
              "6    2.0\n",
              "7    NaN\n",
              "8    NaN\n",
              "Name: NUM_BEDROOMS, dtype: float64"
            ]
          },
          "execution_count": 9,
          "metadata": {},
          "output_type": "execute_result"
        }
      ],
      "source": [
        "df['NUM_BEDROOMS']"
      ]
    },
    {
      "cell_type": "code",
      "execution_count": null,
      "metadata": {
        "colab": {
          "base_uri": "https://localhost:8080/"
        },
        "id": "IJrtRZcx3gOY",
        "outputId": "2563c3a2-489e-4a73-be65-0d0055295a5e"
      },
      "outputs": [
        {
          "data": {
            "text/plain": [
              "0    False\n",
              "1    False\n",
              "2     True\n",
              "3    False\n",
              "4    False\n",
              "5     True\n",
              "6    False\n",
              "7     True\n",
              "8     True\n",
              "Name: NUM_BEDROOMS, dtype: bool"
            ]
          },
          "execution_count": 11,
          "metadata": {},
          "output_type": "execute_result"
        }
      ],
      "source": [
        "df['NUM_BEDROOMS'].isnull()"
      ]
    },
    {
      "cell_type": "markdown",
      "metadata": {
        "id": "u54QviBS3gOZ"
      },
      "source": [
        "This time, all of the different formats were recognized as missing values.\n",
        "\n",
        "You might not be able to catch all of these right away. As you work through the data and see other types of missing values, you can add them to the list.\n",
        "\n",
        "It’s important to recognize these non-standard types of missing values for purposes of summarizing and transforming missing values. If you try and count the number of missing values before converting these non-standard types, you could end up missing a lot of missing values.\n",
        "\n",
        "In the next section we’ll take a look at a more complicated, but very common, type of missing value."
      ]
    },
    {
      "cell_type": "markdown",
      "metadata": {
        "id": "nN-uH3ds3gOZ"
      },
      "source": [
        "### Unexpected Missing Values\n",
        "\n",
        "So far we’ve seen standard missing values, and non-standard missing values. What if we have an unexpected type?\n",
        "For example, if our feature is expected to be a string, but there’s a numeric type, then technically this is also a missing value.\n",
        "\n",
        "Let’s take a look at the “Owner Occupied” column to see what I’m talking about.\n",
        "\n",
        "<img src='https://miro.medium.com/max/829/0*RPJE5nhrI0Kgu2ls.jpg' />"
      ]
    },
    {
      "cell_type": "markdown",
      "metadata": {
        "id": "xaOD0iUl3gOb"
      },
      "source": [
        "From our previous examples, we know that Pandas will detect the empty cell in row seven as a missing value. Let’s confirm with some code."
      ]
    },
    {
      "cell_type": "code",
      "execution_count": null,
      "metadata": {
        "colab": {
          "base_uri": "https://localhost:8080/"
        },
        "id": "gTTel85W3gOb",
        "outputId": "bfa6a9a0-a3e9-40e5-e7f0-0155a0b5c1ba"
      },
      "outputs": [
        {
          "data": {
            "text/plain": [
              "0      Y\n",
              "1      N\n",
              "2      N\n",
              "3     12\n",
              "4      Y\n",
              "5      Y\n",
              "6    NaN\n",
              "7      Y\n",
              "8      Y\n",
              "Name: OWN_OCCUPIED, dtype: object"
            ]
          },
          "execution_count": 12,
          "metadata": {},
          "output_type": "execute_result"
        }
      ],
      "source": [
        "df['OWN_OCCUPIED']"
      ]
    },
    {
      "cell_type": "code",
      "execution_count": null,
      "metadata": {
        "colab": {
          "base_uri": "https://localhost:8080/"
        },
        "id": "nAEbGE-e3gOc",
        "outputId": "ceba708b-386b-4e0a-d039-9e2fff3ec1d7"
      },
      "outputs": [
        {
          "data": {
            "text/plain": [
              "0    False\n",
              "1    False\n",
              "2    False\n",
              "3    False\n",
              "4    False\n",
              "5    False\n",
              "6     True\n",
              "7    False\n",
              "8    False\n",
              "Name: OWN_OCCUPIED, dtype: bool"
            ]
          },
          "execution_count": 13,
          "metadata": {},
          "output_type": "execute_result"
        }
      ],
      "source": [
        "df['OWN_OCCUPIED'].isnull()"
      ]
    },
    {
      "cell_type": "markdown",
      "metadata": {
        "id": "mcB1ZJo83gOd"
      },
      "source": [
        "In the fourth row, there’s the number 12. The response for Owner Occupied should clearly be a string (Y or N), so this numeric type should be a missing value.\n",
        "\n",
        "This example is a little more complicated so we’ll need to think through a strategy for detecting these types of missing values. There’s a number of different approaches, but here’s the way that I’m going to work through this one.\n",
        "\n",
        "- Loop through the OWN_OCCUPIED column\n",
        "- Try and turn the entry into an integer\n",
        "- If the entry can be changed into an integer, enter a missing value\n",
        "- If the number can’t be an integer, we know it’s a string, so keep going\n",
        "\n",
        "Let’s take a look at the code and then we’ll go through it in detail."
      ]
    },
    {
      "cell_type": "code",
      "execution_count": 10,
      "metadata": {
        "id": "35SCT0FU3gOe"
      },
      "outputs": [],
      "source": [
        "cnt=0\n",
        "for row in df['OWN_OCCUPIED']:\n",
        "    try:\n",
        "        int(row) #try and change the entry to an int\n",
        "        df.loc[cnt, 'OWN_OCCUPIED']=np.nan #kalo bisa dirubah jadi int ganti jadi NaN pake np.nan\n",
        "    except ValueError:\n",
        "        pass\n",
        "    cnt+=1"
      ]
    },
    {
      "cell_type": "code",
      "execution_count": 11,
      "metadata": {
        "colab": {
          "base_uri": "https://localhost:8080/",
          "height": 332
        },
        "id": "pGBoXzuW3gOe",
        "outputId": "50253a68-30e7-474e-b364-cda3160ddc20"
      },
      "outputs": [
        {
          "data": {
            "text/html": [
              "<div>\n",
              "<style scoped>\n",
              "    .dataframe tbody tr th:only-of-type {\n",
              "        vertical-align: middle;\n",
              "    }\n",
              "\n",
              "    .dataframe tbody tr th {\n",
              "        vertical-align: top;\n",
              "    }\n",
              "\n",
              "    .dataframe thead th {\n",
              "        text-align: right;\n",
              "    }\n",
              "</style>\n",
              "<table border=\"1\" class=\"dataframe\">\n",
              "  <thead>\n",
              "    <tr style=\"text-align: right;\">\n",
              "      <th></th>\n",
              "      <th>PID</th>\n",
              "      <th>ST_NUM</th>\n",
              "      <th>ST_NAME</th>\n",
              "      <th>OWN_OCCUPIED</th>\n",
              "      <th>NUM_BEDROOMS</th>\n",
              "      <th>NUM_BATH</th>\n",
              "      <th>SQ_FT</th>\n",
              "    </tr>\n",
              "  </thead>\n",
              "  <tbody>\n",
              "    <tr>\n",
              "      <th>0</th>\n",
              "      <td>100001000.0</td>\n",
              "      <td>104.0</td>\n",
              "      <td>PUTNAM</td>\n",
              "      <td>Y</td>\n",
              "      <td>3.0</td>\n",
              "      <td>1</td>\n",
              "      <td>1000.0</td>\n",
              "    </tr>\n",
              "    <tr>\n",
              "      <th>1</th>\n",
              "      <td>100002000.0</td>\n",
              "      <td>197.0</td>\n",
              "      <td>LEXINGTON</td>\n",
              "      <td>N</td>\n",
              "      <td>3.0</td>\n",
              "      <td>1.5</td>\n",
              "      <td>NaN</td>\n",
              "    </tr>\n",
              "    <tr>\n",
              "      <th>2</th>\n",
              "      <td>100003000.0</td>\n",
              "      <td>NaN</td>\n",
              "      <td>LEXINGTON</td>\n",
              "      <td>N</td>\n",
              "      <td>NaN</td>\n",
              "      <td>1</td>\n",
              "      <td>850.0</td>\n",
              "    </tr>\n",
              "    <tr>\n",
              "      <th>3</th>\n",
              "      <td>100004000.0</td>\n",
              "      <td>201.0</td>\n",
              "      <td>BERKELEY</td>\n",
              "      <td>NaN</td>\n",
              "      <td>1.0</td>\n",
              "      <td>NaN</td>\n",
              "      <td>700.0</td>\n",
              "    </tr>\n",
              "    <tr>\n",
              "      <th>4</th>\n",
              "      <td>NaN</td>\n",
              "      <td>203.0</td>\n",
              "      <td>BERKELEY</td>\n",
              "      <td>Y</td>\n",
              "      <td>3.0</td>\n",
              "      <td>2</td>\n",
              "      <td>1600.0</td>\n",
              "    </tr>\n",
              "    <tr>\n",
              "      <th>5</th>\n",
              "      <td>100006000.0</td>\n",
              "      <td>207.0</td>\n",
              "      <td>BERKELEY</td>\n",
              "      <td>Y</td>\n",
              "      <td>NaN</td>\n",
              "      <td>1</td>\n",
              "      <td>800.0</td>\n",
              "    </tr>\n",
              "    <tr>\n",
              "      <th>6</th>\n",
              "      <td>100007000.0</td>\n",
              "      <td>NaN</td>\n",
              "      <td>WASHINGTON</td>\n",
              "      <td>NaN</td>\n",
              "      <td>2.0</td>\n",
              "      <td>HURLEY</td>\n",
              "      <td>950.0</td>\n",
              "    </tr>\n",
              "    <tr>\n",
              "      <th>7</th>\n",
              "      <td>100008000.0</td>\n",
              "      <td>213.0</td>\n",
              "      <td>TREMONT</td>\n",
              "      <td>Y</td>\n",
              "      <td>NaN</td>\n",
              "      <td>1</td>\n",
              "      <td>NaN</td>\n",
              "    </tr>\n",
              "    <tr>\n",
              "      <th>8</th>\n",
              "      <td>100009000.0</td>\n",
              "      <td>215.0</td>\n",
              "      <td>TREMONT</td>\n",
              "      <td>Y</td>\n",
              "      <td>NaN</td>\n",
              "      <td>2</td>\n",
              "      <td>1800.0</td>\n",
              "    </tr>\n",
              "  </tbody>\n",
              "</table>\n",
              "</div>"
            ],
            "text/plain": [
              "           PID  ST_NUM     ST_NAME OWN_OCCUPIED  NUM_BEDROOMS NUM_BATH   SQ_FT\n",
              "0  100001000.0   104.0      PUTNAM            Y           3.0        1  1000.0\n",
              "1  100002000.0   197.0   LEXINGTON            N           3.0      1.5     NaN\n",
              "2  100003000.0     NaN   LEXINGTON            N           NaN        1   850.0\n",
              "3  100004000.0   201.0    BERKELEY          NaN           1.0      NaN   700.0\n",
              "4          NaN   203.0    BERKELEY            Y           3.0        2  1600.0\n",
              "5  100006000.0   207.0    BERKELEY            Y           NaN        1   800.0\n",
              "6  100007000.0     NaN  WASHINGTON          NaN           2.0   HURLEY   950.0\n",
              "7  100008000.0   213.0     TREMONT            Y           NaN        1     NaN\n",
              "8  100009000.0   215.0     TREMONT            Y           NaN        2  1800.0"
            ]
          },
          "execution_count": 11,
          "metadata": {},
          "output_type": "execute_result"
        }
      ],
      "source": [
        "df.head(9)"
      ]
    },
    {
      "cell_type": "markdown",
      "metadata": {
        "id": "kfiRS-Ck3gOf"
      },
      "source": [
        "In the code we’re looping through each entry in the “Owner Occupied” column. To try and change the entry to an integer, we’re using int(row).\n",
        "\n",
        "If the value can be changed to an integer, we change the entry to a missing value using Numpy’s `np.nan`.\n",
        "\n",
        "On the other hand, if it can’t be changed to an integer, we pass and keep going.\n",
        "\n",
        "You’ll notice that we used `try` and `except` `ValueError`. This is called exception handling, and we use this to handle errors.\n",
        "\n",
        "If we were to try and change an entry into an integer and it couldn’t be changed, then a ValueError would be returned, and the code would stop. To deal with this, we use exception handling to recognize these errors, and keep going."
      ]
    },
    {
      "cell_type": "markdown",
      "metadata": {
        "id": "4FH4HzOL3gOf"
      },
      "source": [
        "### Summarizing Missing Values\n",
        "\n",
        "After we’ve cleaned the missing values, we will probably want to summarize them. For instance, we might want to look at the total number of missing values for each feature."
      ]
    },
    {
      "cell_type": "code",
      "execution_count": null,
      "metadata": {
        "colab": {
          "base_uri": "https://localhost:8080/"
        },
        "id": "Ca-7XL_y3gOg",
        "outputId": "c326aa58-b64a-4c89-fae3-d4f19c9ebf36"
      },
      "outputs": [
        {
          "data": {
            "text/plain": [
              "PID             1\n",
              "ST_NUM          2\n",
              "ST_NAME         0\n",
              "OWN_OCCUPIED    2\n",
              "NUM_BEDROOMS    4\n",
              "NUM_BATH        1\n",
              "SQ_FT           2\n",
              "dtype: int64"
            ]
          },
          "execution_count": 16,
          "metadata": {},
          "output_type": "execute_result"
        }
      ],
      "source": [
        "df.isnull().sum()"
      ]
    },
    {
      "cell_type": "markdown",
      "metadata": {
        "id": "AUy69_d53gOh"
      },
      "source": [
        "Other times we might want to do a quick check to see if we have any missing values at all."
      ]
    },
    {
      "cell_type": "code",
      "execution_count": null,
      "metadata": {
        "colab": {
          "base_uri": "https://localhost:8080/"
        },
        "id": "csJfEf5s3gOh",
        "outputId": "bec01b1d-803d-43f4-9507-46817bc6fe37"
      },
      "outputs": [
        {
          "data": {
            "text/plain": [
              "True"
            ]
          },
          "execution_count": 17,
          "metadata": {},
          "output_type": "execute_result"
        }
      ],
      "source": [
        "df.isnull().values.any()"
      ]
    },
    {
      "cell_type": "markdown",
      "metadata": {
        "id": "Z3NjUmjG3gOi"
      },
      "source": [
        "We might also want to get a total count of missing values."
      ]
    },
    {
      "cell_type": "code",
      "execution_count": null,
      "metadata": {
        "colab": {
          "base_uri": "https://localhost:8080/"
        },
        "id": "oqKR2cDr3gOj",
        "outputId": "c3529824-fecf-4e12-fc5b-35f5c56f9ce9"
      },
      "outputs": [
        {
          "data": {
            "text/plain": [
              "12"
            ]
          },
          "execution_count": 18,
          "metadata": {},
          "output_type": "execute_result"
        }
      ],
      "source": [
        "df.isnull().sum().sum()"
      ]
    },
    {
      "cell_type": "markdown",
      "metadata": {
        "id": "5-llJYAv3gOj"
      },
      "source": [
        "### Replacing\n",
        "\n",
        "Often times you’ll have to figure out how you want to handle missing values.\n",
        "\n",
        "Sometimes you’ll simply want to delete those rows, other times you’ll replace them."
      ]
    },
    {
      "cell_type": "code",
      "execution_count": null,
      "metadata": {
        "id": "q7lwE0_X3gOj"
      },
      "outputs": [],
      "source": [
        "# Maybe you just want to fill in missing values with a single value.\n",
        "\n",
        "df['ST_NUM'].fillna(125, inplace=True)"
      ]
    },
    {
      "cell_type": "markdown",
      "metadata": {
        "id": "lqFJT7qJ3gOk"
      },
      "source": [
        "More likely, you might want to do a location based imputation. Here’s how you would do that."
      ]
    },
    {
      "cell_type": "code",
      "execution_count": null,
      "metadata": {
        "id": "Mtaqi5wO3gOm"
      },
      "outputs": [],
      "source": [
        "df.loc[2,'ST_NUM'] = 125"
      ]
    },
    {
      "cell_type": "markdown",
      "metadata": {
        "id": "uPHDEtVr3gOm"
      },
      "source": [
        "A very common way to replace missing values is using a median."
      ]
    },
    {
      "cell_type": "code",
      "execution_count": null,
      "metadata": {
        "id": "OzhLfIEO3gOn"
      },
      "outputs": [],
      "source": [
        "median = df['NUM_BEDROOMS'].median()\n",
        "df['NUM_BEDROOMS'].fillna(median, inplace=True)"
      ]
    },
    {
      "cell_type": "code",
      "execution_count": null,
      "metadata": {
        "colab": {
          "base_uri": "https://localhost:8080/",
          "height": 332
        },
        "id": "Nyuit3_B3gOn",
        "outputId": "11467f90-ed54-406a-98d7-a08b6e7d44fe"
      },
      "outputs": [
        {
          "data": {
            "text/html": [
              "\n",
              "  <div id=\"df-fd8e533c-7ddb-41b9-b953-b213ea38e24d\">\n",
              "    <div class=\"colab-df-container\">\n",
              "      <div>\n",
              "<style scoped>\n",
              "    .dataframe tbody tr th:only-of-type {\n",
              "        vertical-align: middle;\n",
              "    }\n",
              "\n",
              "    .dataframe tbody tr th {\n",
              "        vertical-align: top;\n",
              "    }\n",
              "\n",
              "    .dataframe thead th {\n",
              "        text-align: right;\n",
              "    }\n",
              "</style>\n",
              "<table border=\"1\" class=\"dataframe\">\n",
              "  <thead>\n",
              "    <tr style=\"text-align: right;\">\n",
              "      <th></th>\n",
              "      <th>PID</th>\n",
              "      <th>ST_NUM</th>\n",
              "      <th>ST_NAME</th>\n",
              "      <th>OWN_OCCUPIED</th>\n",
              "      <th>NUM_BEDROOMS</th>\n",
              "      <th>NUM_BATH</th>\n",
              "      <th>SQ_FT</th>\n",
              "    </tr>\n",
              "  </thead>\n",
              "  <tbody>\n",
              "    <tr>\n",
              "      <th>0</th>\n",
              "      <td>100001000.0</td>\n",
              "      <td>104.0</td>\n",
              "      <td>PUTNAM</td>\n",
              "      <td>Y</td>\n",
              "      <td>3.0</td>\n",
              "      <td>1</td>\n",
              "      <td>1000.0</td>\n",
              "    </tr>\n",
              "    <tr>\n",
              "      <th>1</th>\n",
              "      <td>100002000.0</td>\n",
              "      <td>197.0</td>\n",
              "      <td>LEXINGTON</td>\n",
              "      <td>N</td>\n",
              "      <td>3.0</td>\n",
              "      <td>1.5</td>\n",
              "      <td>NaN</td>\n",
              "    </tr>\n",
              "    <tr>\n",
              "      <th>2</th>\n",
              "      <td>100003000.0</td>\n",
              "      <td>125.0</td>\n",
              "      <td>LEXINGTON</td>\n",
              "      <td>N</td>\n",
              "      <td>3.0</td>\n",
              "      <td>1</td>\n",
              "      <td>850.0</td>\n",
              "    </tr>\n",
              "    <tr>\n",
              "      <th>3</th>\n",
              "      <td>100004000.0</td>\n",
              "      <td>201.0</td>\n",
              "      <td>BERKELEY</td>\n",
              "      <td>NaN</td>\n",
              "      <td>1.0</td>\n",
              "      <td>NaN</td>\n",
              "      <td>700.0</td>\n",
              "    </tr>\n",
              "    <tr>\n",
              "      <th>4</th>\n",
              "      <td>NaN</td>\n",
              "      <td>203.0</td>\n",
              "      <td>BERKELEY</td>\n",
              "      <td>Y</td>\n",
              "      <td>3.0</td>\n",
              "      <td>2</td>\n",
              "      <td>1600.0</td>\n",
              "    </tr>\n",
              "    <tr>\n",
              "      <th>5</th>\n",
              "      <td>100006000.0</td>\n",
              "      <td>207.0</td>\n",
              "      <td>BERKELEY</td>\n",
              "      <td>Y</td>\n",
              "      <td>3.0</td>\n",
              "      <td>1</td>\n",
              "      <td>800.0</td>\n",
              "    </tr>\n",
              "    <tr>\n",
              "      <th>6</th>\n",
              "      <td>100007000.0</td>\n",
              "      <td>125.0</td>\n",
              "      <td>WASHINGTON</td>\n",
              "      <td>NaN</td>\n",
              "      <td>2.0</td>\n",
              "      <td>HURLEY</td>\n",
              "      <td>950.0</td>\n",
              "    </tr>\n",
              "    <tr>\n",
              "      <th>7</th>\n",
              "      <td>100008000.0</td>\n",
              "      <td>213.0</td>\n",
              "      <td>TREMONT</td>\n",
              "      <td>Y</td>\n",
              "      <td>3.0</td>\n",
              "      <td>1</td>\n",
              "      <td>NaN</td>\n",
              "    </tr>\n",
              "    <tr>\n",
              "      <th>8</th>\n",
              "      <td>100009000.0</td>\n",
              "      <td>215.0</td>\n",
              "      <td>TREMONT</td>\n",
              "      <td>Y</td>\n",
              "      <td>3.0</td>\n",
              "      <td>2</td>\n",
              "      <td>1800.0</td>\n",
              "    </tr>\n",
              "  </tbody>\n",
              "</table>\n",
              "</div>\n",
              "      <button class=\"colab-df-convert\" onclick=\"convertToInteractive('df-fd8e533c-7ddb-41b9-b953-b213ea38e24d')\"\n",
              "              title=\"Convert this dataframe to an interactive table.\"\n",
              "              style=\"display:none;\">\n",
              "        \n",
              "  <svg xmlns=\"http://www.w3.org/2000/svg\" height=\"24px\"viewBox=\"0 0 24 24\"\n",
              "       width=\"24px\">\n",
              "    <path d=\"M0 0h24v24H0V0z\" fill=\"none\"/>\n",
              "    <path d=\"M18.56 5.44l.94 2.06.94-2.06 2.06-.94-2.06-.94-.94-2.06-.94 2.06-2.06.94zm-11 1L8.5 8.5l.94-2.06 2.06-.94-2.06-.94L8.5 2.5l-.94 2.06-2.06.94zm10 10l.94 2.06.94-2.06 2.06-.94-2.06-.94-.94-2.06-.94 2.06-2.06.94z\"/><path d=\"M17.41 7.96l-1.37-1.37c-.4-.4-.92-.59-1.43-.59-.52 0-1.04.2-1.43.59L10.3 9.45l-7.72 7.72c-.78.78-.78 2.05 0 2.83L4 21.41c.39.39.9.59 1.41.59.51 0 1.02-.2 1.41-.59l7.78-7.78 2.81-2.81c.8-.78.8-2.07 0-2.86zM5.41 20L4 18.59l7.72-7.72 1.47 1.35L5.41 20z\"/>\n",
              "  </svg>\n",
              "      </button>\n",
              "      \n",
              "  <style>\n",
              "    .colab-df-container {\n",
              "      display:flex;\n",
              "      flex-wrap:wrap;\n",
              "      gap: 12px;\n",
              "    }\n",
              "\n",
              "    .colab-df-convert {\n",
              "      background-color: #E8F0FE;\n",
              "      border: none;\n",
              "      border-radius: 50%;\n",
              "      cursor: pointer;\n",
              "      display: none;\n",
              "      fill: #1967D2;\n",
              "      height: 32px;\n",
              "      padding: 0 0 0 0;\n",
              "      width: 32px;\n",
              "    }\n",
              "\n",
              "    .colab-df-convert:hover {\n",
              "      background-color: #E2EBFA;\n",
              "      box-shadow: 0px 1px 2px rgba(60, 64, 67, 0.3), 0px 1px 3px 1px rgba(60, 64, 67, 0.15);\n",
              "      fill: #174EA6;\n",
              "    }\n",
              "\n",
              "    [theme=dark] .colab-df-convert {\n",
              "      background-color: #3B4455;\n",
              "      fill: #D2E3FC;\n",
              "    }\n",
              "\n",
              "    [theme=dark] .colab-df-convert:hover {\n",
              "      background-color: #434B5C;\n",
              "      box-shadow: 0px 1px 3px 1px rgba(0, 0, 0, 0.15);\n",
              "      filter: drop-shadow(0px 1px 2px rgba(0, 0, 0, 0.3));\n",
              "      fill: #FFFFFF;\n",
              "    }\n",
              "  </style>\n",
              "\n",
              "      <script>\n",
              "        const buttonEl =\n",
              "          document.querySelector('#df-fd8e533c-7ddb-41b9-b953-b213ea38e24d button.colab-df-convert');\n",
              "        buttonEl.style.display =\n",
              "          google.colab.kernel.accessAllowed ? 'block' : 'none';\n",
              "\n",
              "        async function convertToInteractive(key) {\n",
              "          const element = document.querySelector('#df-fd8e533c-7ddb-41b9-b953-b213ea38e24d');\n",
              "          const dataTable =\n",
              "            await google.colab.kernel.invokeFunction('convertToInteractive',\n",
              "                                                     [key], {});\n",
              "          if (!dataTable) return;\n",
              "\n",
              "          const docLinkHtml = 'Like what you see? Visit the ' +\n",
              "            '<a target=\"_blank\" href=https://colab.research.google.com/notebooks/data_table.ipynb>data table notebook</a>'\n",
              "            + ' to learn more about interactive tables.';\n",
              "          element.innerHTML = '';\n",
              "          dataTable['output_type'] = 'display_data';\n",
              "          await google.colab.output.renderOutput(dataTable, element);\n",
              "          const docLink = document.createElement('div');\n",
              "          docLink.innerHTML = docLinkHtml;\n",
              "          element.appendChild(docLink);\n",
              "        }\n",
              "      </script>\n",
              "    </div>\n",
              "  </div>\n",
              "  "
            ],
            "text/plain": [
              "           PID  ST_NUM     ST_NAME OWN_OCCUPIED  NUM_BEDROOMS NUM_BATH   SQ_FT\n",
              "0  100001000.0   104.0      PUTNAM            Y           3.0        1  1000.0\n",
              "1  100002000.0   197.0   LEXINGTON            N           3.0      1.5     NaN\n",
              "2  100003000.0   125.0   LEXINGTON            N           3.0        1   850.0\n",
              "3  100004000.0   201.0    BERKELEY          NaN           1.0      NaN   700.0\n",
              "4          NaN   203.0    BERKELEY            Y           3.0        2  1600.0\n",
              "5  100006000.0   207.0    BERKELEY            Y           3.0        1   800.0\n",
              "6  100007000.0   125.0  WASHINGTON          NaN           2.0   HURLEY   950.0\n",
              "7  100008000.0   213.0     TREMONT            Y           3.0        1     NaN\n",
              "8  100009000.0   215.0     TREMONT            Y           3.0        2  1800.0"
            ]
          },
          "execution_count": 22,
          "metadata": {},
          "output_type": "execute_result"
        }
      ],
      "source": [
        "df.head(9)"
      ]
    },
    {
      "cell_type": "markdown",
      "metadata": {
        "id": "tPntRfPF3gOo"
      },
      "source": [
        "## Analyzing Obesity in England\n",
        "\n",
        "The data is taken from Data.gov.uk. We’ll be using the 2014 XLS file.\n",
        "\n",
        "Investigate:\n",
        "\n",
        "> Children are getting fatter every decade"
      ]
    },
    {
      "cell_type": "code",
      "execution_count": 12,
      "metadata": {
        "colab": {
          "base_uri": "https://localhost:8080/"
        },
        "id": "YUXBY95Miwwd",
        "outputId": "b6ac4fb6-0be8-4096-d646-e09c4ea5d05d"
      },
      "outputs": [
        {
          "name": "stdout",
          "output_type": "stream",
          "text": [
            "Requirement already satisfied: xlrd in c:\\users\\ajies\\anaconda3\\lib\\site-packages (2.0.1)\n"
          ]
        }
      ],
      "source": [
        "!pip install --upgrade xlrd"
      ]
    },
    {
      "cell_type": "code",
      "execution_count": 13,
      "metadata": {
        "id": "DionOHnN3gOp"
      },
      "outputs": [],
      "source": [
        "%matplotlib inline\n",
        "data = pd.ExcelFile('obes.xls')"
      ]
    },
    {
      "cell_type": "code",
      "execution_count": 14,
      "metadata": {
        "colab": {
          "base_uri": "https://localhost:8080/"
        },
        "id": "Mz650fdo3gOp",
        "outputId": "61f0c46f-b44d-46fa-c7e9-46adf1d0079f"
      },
      "outputs": [
        {
          "data": {
            "text/plain": [
              "['Chapter 7',\n",
              " '7.1',\n",
              " '7.2',\n",
              " '7.3',\n",
              " '7.4',\n",
              " '7.5',\n",
              " '7.6',\n",
              " '7.7',\n",
              " '7.8',\n",
              " '7.9',\n",
              " '7.10']"
            ]
          },
          "execution_count": 14,
          "metadata": {},
          "output_type": "execute_result"
        }
      ],
      "source": [
        "data.sheet_names"
      ]
    },
    {
      "cell_type": "markdown",
      "metadata": {
        "id": "E8yq8rLU3gOq"
      },
      "source": [
        "We will be focusing on sheet 7.2. Now if you look at 7.2 in Excel, you will see that the top 4 rows and bottom 14 rows contain useless info. Let me rephrase: It’s useful for humans, but not for our script. We only need rows 5-18."
      ]
    },
    {
      "cell_type": "code",
      "execution_count": 15,
      "metadata": {
        "id": "pL8ViGjN3gOr"
      },
      "outputs": [],
      "source": [
        "data_age = data.parse('7.2', skiprows=4, skipfooter=14)"
      ]
    },
    {
      "cell_type": "code",
      "execution_count": 16,
      "metadata": {
        "colab": {
          "base_uri": "https://localhost:8080/",
          "height": 206
        },
        "id": "Zq_K4XqP3gOr",
        "outputId": "73ddc6b9-a506-4f5b-ae61-c3aa09a129cf"
      },
      "outputs": [
        {
          "data": {
            "text/html": [
              "<div>\n",
              "<style scoped>\n",
              "    .dataframe tbody tr th:only-of-type {\n",
              "        vertical-align: middle;\n",
              "    }\n",
              "\n",
              "    .dataframe tbody tr th {\n",
              "        vertical-align: top;\n",
              "    }\n",
              "\n",
              "    .dataframe thead th {\n",
              "        text-align: right;\n",
              "    }\n",
              "</style>\n",
              "<table border=\"1\" class=\"dataframe\">\n",
              "  <thead>\n",
              "    <tr style=\"text-align: right;\">\n",
              "      <th></th>\n",
              "      <th>Unnamed: 0</th>\n",
              "      <th>Total</th>\n",
              "      <th>Under 16</th>\n",
              "      <th>16-24</th>\n",
              "      <th>25-34</th>\n",
              "      <th>35-44</th>\n",
              "      <th>45-54</th>\n",
              "      <th>55-64</th>\n",
              "      <th>65-74</th>\n",
              "      <th>75 and over</th>\n",
              "    </tr>\n",
              "  </thead>\n",
              "  <tbody>\n",
              "    <tr>\n",
              "      <th>0</th>\n",
              "      <td>NaN</td>\n",
              "      <td>NaN</td>\n",
              "      <td>NaN</td>\n",
              "      <td>NaN</td>\n",
              "      <td>NaN</td>\n",
              "      <td>NaN</td>\n",
              "      <td>NaN</td>\n",
              "      <td>NaN</td>\n",
              "      <td>NaN</td>\n",
              "      <td>NaN</td>\n",
              "    </tr>\n",
              "    <tr>\n",
              "      <th>1</th>\n",
              "      <td>2002/03</td>\n",
              "      <td>1275.0</td>\n",
              "      <td>400.0</td>\n",
              "      <td>65.0</td>\n",
              "      <td>136.0</td>\n",
              "      <td>289.0</td>\n",
              "      <td>216.0</td>\n",
              "      <td>94.0</td>\n",
              "      <td>52.0</td>\n",
              "      <td>23.0</td>\n",
              "    </tr>\n",
              "    <tr>\n",
              "      <th>2</th>\n",
              "      <td>2003/04</td>\n",
              "      <td>1711.0</td>\n",
              "      <td>579.0</td>\n",
              "      <td>67.0</td>\n",
              "      <td>174.0</td>\n",
              "      <td>391.0</td>\n",
              "      <td>273.0</td>\n",
              "      <td>151.0</td>\n",
              "      <td>52.0</td>\n",
              "      <td>24.0</td>\n",
              "    </tr>\n",
              "    <tr>\n",
              "      <th>3</th>\n",
              "      <td>2004/05</td>\n",
              "      <td>2035.0</td>\n",
              "      <td>547.0</td>\n",
              "      <td>107.0</td>\n",
              "      <td>287.0</td>\n",
              "      <td>487.0</td>\n",
              "      <td>364.0</td>\n",
              "      <td>174.0</td>\n",
              "      <td>36.0</td>\n",
              "      <td>32.0</td>\n",
              "    </tr>\n",
              "    <tr>\n",
              "      <th>4</th>\n",
              "      <td>2005/06</td>\n",
              "      <td>2564.0</td>\n",
              "      <td>583.0</td>\n",
              "      <td>96.0</td>\n",
              "      <td>341.0</td>\n",
              "      <td>637.0</td>\n",
              "      <td>554.0</td>\n",
              "      <td>258.0</td>\n",
              "      <td>72.0</td>\n",
              "      <td>20.0</td>\n",
              "    </tr>\n",
              "  </tbody>\n",
              "</table>\n",
              "</div>"
            ],
            "text/plain": [
              "  Unnamed: 0   Total  Under 16  16-24  25-34  35-44  45-54  55-64  65-74  \\\n",
              "0        NaN     NaN       NaN    NaN    NaN    NaN    NaN    NaN    NaN   \n",
              "1    2002/03  1275.0     400.0   65.0  136.0  289.0  216.0   94.0   52.0   \n",
              "2    2003/04  1711.0     579.0   67.0  174.0  391.0  273.0  151.0   52.0   \n",
              "3    2004/05  2035.0     547.0  107.0  287.0  487.0  364.0  174.0   36.0   \n",
              "4    2005/06  2564.0     583.0   96.0  341.0  637.0  554.0  258.0   72.0   \n",
              "\n",
              "   75 and over  \n",
              "0          NaN  \n",
              "1         23.0  \n",
              "2         24.0  \n",
              "3         32.0  \n",
              "4         20.0  "
            ]
          },
          "execution_count": 16,
          "metadata": {},
          "output_type": "execute_result"
        }
      ],
      "source": [
        "data_age.head()"
      ]
    },
    {
      "cell_type": "markdown",
      "metadata": {
        "id": "O9_3j8_e3gOr"
      },
      "source": [
        "The first line represents the column headers. Right off the bat you can see Pandas is quite smart since it picked up most of the headers correctly. Except for the first one, of course - e.g., Unnamed: 0. Why is that? Simple. Look at the file in Excel, and you see that it is missing a header for the year.\n",
        "\n",
        "Another problem is that we have an empty line in the original file, and that is showing up as NaN (Not a number).\n",
        "\n",
        "So we now need to do two things:\n",
        "\n",
        "- Rename the first header to Year, and\n",
        "- Get rid of any empty rows."
      ]
    },
    {
      "cell_type": "code",
      "execution_count": 18,
      "metadata": {
        "id": "lMXVrRRI3gOs"
      },
      "outputs": [
        {
          "data": {
            "text/html": [
              "<div>\n",
              "<style scoped>\n",
              "    .dataframe tbody tr th:only-of-type {\n",
              "        vertical-align: middle;\n",
              "    }\n",
              "\n",
              "    .dataframe tbody tr th {\n",
              "        vertical-align: top;\n",
              "    }\n",
              "\n",
              "    .dataframe thead th {\n",
              "        text-align: right;\n",
              "    }\n",
              "</style>\n",
              "<table border=\"1\" class=\"dataframe\">\n",
              "  <thead>\n",
              "    <tr style=\"text-align: right;\">\n",
              "      <th></th>\n",
              "      <th>Year</th>\n",
              "      <th>Total</th>\n",
              "      <th>Under 16</th>\n",
              "      <th>16-24</th>\n",
              "      <th>25-34</th>\n",
              "      <th>35-44</th>\n",
              "      <th>45-54</th>\n",
              "      <th>55-64</th>\n",
              "      <th>65-74</th>\n",
              "      <th>75 and over</th>\n",
              "    </tr>\n",
              "  </thead>\n",
              "  <tbody>\n",
              "    <tr>\n",
              "      <th>0</th>\n",
              "      <td>NaN</td>\n",
              "      <td>NaN</td>\n",
              "      <td>NaN</td>\n",
              "      <td>NaN</td>\n",
              "      <td>NaN</td>\n",
              "      <td>NaN</td>\n",
              "      <td>NaN</td>\n",
              "      <td>NaN</td>\n",
              "      <td>NaN</td>\n",
              "      <td>NaN</td>\n",
              "    </tr>\n",
              "    <tr>\n",
              "      <th>1</th>\n",
              "      <td>2002/03</td>\n",
              "      <td>1275.0</td>\n",
              "      <td>400.0</td>\n",
              "      <td>65.0</td>\n",
              "      <td>136.0</td>\n",
              "      <td>289.0</td>\n",
              "      <td>216.0</td>\n",
              "      <td>94.0</td>\n",
              "      <td>52.0</td>\n",
              "      <td>23.0</td>\n",
              "    </tr>\n",
              "    <tr>\n",
              "      <th>2</th>\n",
              "      <td>2003/04</td>\n",
              "      <td>1711.0</td>\n",
              "      <td>579.0</td>\n",
              "      <td>67.0</td>\n",
              "      <td>174.0</td>\n",
              "      <td>391.0</td>\n",
              "      <td>273.0</td>\n",
              "      <td>151.0</td>\n",
              "      <td>52.0</td>\n",
              "      <td>24.0</td>\n",
              "    </tr>\n",
              "    <tr>\n",
              "      <th>3</th>\n",
              "      <td>2004/05</td>\n",
              "      <td>2035.0</td>\n",
              "      <td>547.0</td>\n",
              "      <td>107.0</td>\n",
              "      <td>287.0</td>\n",
              "      <td>487.0</td>\n",
              "      <td>364.0</td>\n",
              "      <td>174.0</td>\n",
              "      <td>36.0</td>\n",
              "      <td>32.0</td>\n",
              "    </tr>\n",
              "    <tr>\n",
              "      <th>4</th>\n",
              "      <td>2005/06</td>\n",
              "      <td>2564.0</td>\n",
              "      <td>583.0</td>\n",
              "      <td>96.0</td>\n",
              "      <td>341.0</td>\n",
              "      <td>637.0</td>\n",
              "      <td>554.0</td>\n",
              "      <td>258.0</td>\n",
              "      <td>72.0</td>\n",
              "      <td>20.0</td>\n",
              "    </tr>\n",
              "    <tr>\n",
              "      <th>5</th>\n",
              "      <td>2006/07</td>\n",
              "      <td>3862.0</td>\n",
              "      <td>656.0</td>\n",
              "      <td>184.0</td>\n",
              "      <td>461.0</td>\n",
              "      <td>1069.0</td>\n",
              "      <td>872.0</td>\n",
              "      <td>459.0</td>\n",
              "      <td>118.0</td>\n",
              "      <td>43.0</td>\n",
              "    </tr>\n",
              "    <tr>\n",
              "      <th>6</th>\n",
              "      <td>2007/08</td>\n",
              "      <td>5018.0</td>\n",
              "      <td>747.0</td>\n",
              "      <td>228.0</td>\n",
              "      <td>564.0</td>\n",
              "      <td>1469.0</td>\n",
              "      <td>1198.0</td>\n",
              "      <td>598.0</td>\n",
              "      <td>157.0</td>\n",
              "      <td>53.0</td>\n",
              "    </tr>\n",
              "    <tr>\n",
              "      <th>7</th>\n",
              "      <td>2008/09</td>\n",
              "      <td>7988.0</td>\n",
              "      <td>775.0</td>\n",
              "      <td>322.0</td>\n",
              "      <td>1013.0</td>\n",
              "      <td>2359.0</td>\n",
              "      <td>2133.0</td>\n",
              "      <td>1099.0</td>\n",
              "      <td>221.0</td>\n",
              "      <td>63.0</td>\n",
              "    </tr>\n",
              "    <tr>\n",
              "      <th>8</th>\n",
              "      <td>2009/10</td>\n",
              "      <td>10571.0</td>\n",
              "      <td>632.0</td>\n",
              "      <td>361.0</td>\n",
              "      <td>1348.0</td>\n",
              "      <td>3132.0</td>\n",
              "      <td>3076.0</td>\n",
              "      <td>1555.0</td>\n",
              "      <td>378.0</td>\n",
              "      <td>87.0</td>\n",
              "    </tr>\n",
              "    <tr>\n",
              "      <th>9</th>\n",
              "      <td>2010/11</td>\n",
              "      <td>11574.0</td>\n",
              "      <td>525.0</td>\n",
              "      <td>375.0</td>\n",
              "      <td>1425.0</td>\n",
              "      <td>3277.0</td>\n",
              "      <td>3573.0</td>\n",
              "      <td>1820.0</td>\n",
              "      <td>456.0</td>\n",
              "      <td>115.0</td>\n",
              "    </tr>\n",
              "    <tr>\n",
              "      <th>10</th>\n",
              "      <td>2011/12</td>\n",
              "      <td>11736.0</td>\n",
              "      <td>495.0</td>\n",
              "      <td>391.0</td>\n",
              "      <td>1484.0</td>\n",
              "      <td>3104.0</td>\n",
              "      <td>3581.0</td>\n",
              "      <td>2119.0</td>\n",
              "      <td>468.0</td>\n",
              "      <td>94.0</td>\n",
              "    </tr>\n",
              "    <tr>\n",
              "      <th>11</th>\n",
              "      <td>2012/13</td>\n",
              "      <td>10957.0</td>\n",
              "      <td>556.0</td>\n",
              "      <td>356.0</td>\n",
              "      <td>1437.0</td>\n",
              "      <td>2744.0</td>\n",
              "      <td>3305.0</td>\n",
              "      <td>1965.0</td>\n",
              "      <td>495.0</td>\n",
              "      <td>99.0</td>\n",
              "    </tr>\n",
              "  </tbody>\n",
              "</table>\n",
              "</div>"
            ],
            "text/plain": [
              "       Year    Total  Under 16  16-24   25-34   35-44   45-54   55-64  65-74  \\\n",
              "0       NaN      NaN       NaN    NaN     NaN     NaN     NaN     NaN    NaN   \n",
              "1   2002/03   1275.0     400.0   65.0   136.0   289.0   216.0    94.0   52.0   \n",
              "2   2003/04   1711.0     579.0   67.0   174.0   391.0   273.0   151.0   52.0   \n",
              "3   2004/05   2035.0     547.0  107.0   287.0   487.0   364.0   174.0   36.0   \n",
              "4   2005/06   2564.0     583.0   96.0   341.0   637.0   554.0   258.0   72.0   \n",
              "5   2006/07   3862.0     656.0  184.0   461.0  1069.0   872.0   459.0  118.0   \n",
              "6   2007/08   5018.0     747.0  228.0   564.0  1469.0  1198.0   598.0  157.0   \n",
              "7   2008/09   7988.0     775.0  322.0  1013.0  2359.0  2133.0  1099.0  221.0   \n",
              "8   2009/10  10571.0     632.0  361.0  1348.0  3132.0  3076.0  1555.0  378.0   \n",
              "9   2010/11  11574.0     525.0  375.0  1425.0  3277.0  3573.0  1820.0  456.0   \n",
              "10  2011/12  11736.0     495.0  391.0  1484.0  3104.0  3581.0  2119.0  468.0   \n",
              "11  2012/13  10957.0     556.0  356.0  1437.0  2744.0  3305.0  1965.0  495.0   \n",
              "\n",
              "    75 and over  \n",
              "0           NaN  \n",
              "1          23.0  \n",
              "2          24.0  \n",
              "3          32.0  \n",
              "4          20.0  \n",
              "5          43.0  \n",
              "6          53.0  \n",
              "7          63.0  \n",
              "8          87.0  \n",
              "9         115.0  \n",
              "10         94.0  \n",
              "11         99.0  "
            ]
          },
          "execution_count": 18,
          "metadata": {},
          "output_type": "execute_result"
        }
      ],
      "source": [
        "data_age.rename(columns={'Unnamed: 0': 'Year'}, inplace=True)\n",
        "data_age"
      ]
    },
    {
      "cell_type": "markdown",
      "metadata": {
        "id": "6tYcRtWs3gOz"
      },
      "source": [
        "Here we told Pandas to rename the column Unnamed: 0 to Year. using the in-built function rename().\n",
        "\n",
        "> inplace = True modifies the existing object. Without this, Pandas will create a new object and return that.\n",
        "\n",
        "Next let’s drop the empty rows filled with NaN:"
      ]
    },
    {
      "cell_type": "code",
      "execution_count": 20,
      "metadata": {
        "id": "wIKfWUzk3gOz"
      },
      "outputs": [
        {
          "data": {
            "text/html": [
              "<div>\n",
              "<style scoped>\n",
              "    .dataframe tbody tr th:only-of-type {\n",
              "        vertical-align: middle;\n",
              "    }\n",
              "\n",
              "    .dataframe tbody tr th {\n",
              "        vertical-align: top;\n",
              "    }\n",
              "\n",
              "    .dataframe thead th {\n",
              "        text-align: right;\n",
              "    }\n",
              "</style>\n",
              "<table border=\"1\" class=\"dataframe\">\n",
              "  <thead>\n",
              "    <tr style=\"text-align: right;\">\n",
              "      <th></th>\n",
              "      <th>Year</th>\n",
              "      <th>Total</th>\n",
              "      <th>Under 16</th>\n",
              "      <th>16-24</th>\n",
              "      <th>25-34</th>\n",
              "      <th>35-44</th>\n",
              "      <th>45-54</th>\n",
              "      <th>55-64</th>\n",
              "      <th>65-74</th>\n",
              "      <th>75 and over</th>\n",
              "    </tr>\n",
              "  </thead>\n",
              "  <tbody>\n",
              "    <tr>\n",
              "      <th>1</th>\n",
              "      <td>2002/03</td>\n",
              "      <td>1275.0</td>\n",
              "      <td>400.0</td>\n",
              "      <td>65.0</td>\n",
              "      <td>136.0</td>\n",
              "      <td>289.0</td>\n",
              "      <td>216.0</td>\n",
              "      <td>94.0</td>\n",
              "      <td>52.0</td>\n",
              "      <td>23.0</td>\n",
              "    </tr>\n",
              "    <tr>\n",
              "      <th>2</th>\n",
              "      <td>2003/04</td>\n",
              "      <td>1711.0</td>\n",
              "      <td>579.0</td>\n",
              "      <td>67.0</td>\n",
              "      <td>174.0</td>\n",
              "      <td>391.0</td>\n",
              "      <td>273.0</td>\n",
              "      <td>151.0</td>\n",
              "      <td>52.0</td>\n",
              "      <td>24.0</td>\n",
              "    </tr>\n",
              "    <tr>\n",
              "      <th>3</th>\n",
              "      <td>2004/05</td>\n",
              "      <td>2035.0</td>\n",
              "      <td>547.0</td>\n",
              "      <td>107.0</td>\n",
              "      <td>287.0</td>\n",
              "      <td>487.0</td>\n",
              "      <td>364.0</td>\n",
              "      <td>174.0</td>\n",
              "      <td>36.0</td>\n",
              "      <td>32.0</td>\n",
              "    </tr>\n",
              "    <tr>\n",
              "      <th>4</th>\n",
              "      <td>2005/06</td>\n",
              "      <td>2564.0</td>\n",
              "      <td>583.0</td>\n",
              "      <td>96.0</td>\n",
              "      <td>341.0</td>\n",
              "      <td>637.0</td>\n",
              "      <td>554.0</td>\n",
              "      <td>258.0</td>\n",
              "      <td>72.0</td>\n",
              "      <td>20.0</td>\n",
              "    </tr>\n",
              "    <tr>\n",
              "      <th>5</th>\n",
              "      <td>2006/07</td>\n",
              "      <td>3862.0</td>\n",
              "      <td>656.0</td>\n",
              "      <td>184.0</td>\n",
              "      <td>461.0</td>\n",
              "      <td>1069.0</td>\n",
              "      <td>872.0</td>\n",
              "      <td>459.0</td>\n",
              "      <td>118.0</td>\n",
              "      <td>43.0</td>\n",
              "    </tr>\n",
              "    <tr>\n",
              "      <th>6</th>\n",
              "      <td>2007/08</td>\n",
              "      <td>5018.0</td>\n",
              "      <td>747.0</td>\n",
              "      <td>228.0</td>\n",
              "      <td>564.0</td>\n",
              "      <td>1469.0</td>\n",
              "      <td>1198.0</td>\n",
              "      <td>598.0</td>\n",
              "      <td>157.0</td>\n",
              "      <td>53.0</td>\n",
              "    </tr>\n",
              "    <tr>\n",
              "      <th>7</th>\n",
              "      <td>2008/09</td>\n",
              "      <td>7988.0</td>\n",
              "      <td>775.0</td>\n",
              "      <td>322.0</td>\n",
              "      <td>1013.0</td>\n",
              "      <td>2359.0</td>\n",
              "      <td>2133.0</td>\n",
              "      <td>1099.0</td>\n",
              "      <td>221.0</td>\n",
              "      <td>63.0</td>\n",
              "    </tr>\n",
              "    <tr>\n",
              "      <th>8</th>\n",
              "      <td>2009/10</td>\n",
              "      <td>10571.0</td>\n",
              "      <td>632.0</td>\n",
              "      <td>361.0</td>\n",
              "      <td>1348.0</td>\n",
              "      <td>3132.0</td>\n",
              "      <td>3076.0</td>\n",
              "      <td>1555.0</td>\n",
              "      <td>378.0</td>\n",
              "      <td>87.0</td>\n",
              "    </tr>\n",
              "    <tr>\n",
              "      <th>9</th>\n",
              "      <td>2010/11</td>\n",
              "      <td>11574.0</td>\n",
              "      <td>525.0</td>\n",
              "      <td>375.0</td>\n",
              "      <td>1425.0</td>\n",
              "      <td>3277.0</td>\n",
              "      <td>3573.0</td>\n",
              "      <td>1820.0</td>\n",
              "      <td>456.0</td>\n",
              "      <td>115.0</td>\n",
              "    </tr>\n",
              "    <tr>\n",
              "      <th>10</th>\n",
              "      <td>2011/12</td>\n",
              "      <td>11736.0</td>\n",
              "      <td>495.0</td>\n",
              "      <td>391.0</td>\n",
              "      <td>1484.0</td>\n",
              "      <td>3104.0</td>\n",
              "      <td>3581.0</td>\n",
              "      <td>2119.0</td>\n",
              "      <td>468.0</td>\n",
              "      <td>94.0</td>\n",
              "    </tr>\n",
              "    <tr>\n",
              "      <th>11</th>\n",
              "      <td>2012/13</td>\n",
              "      <td>10957.0</td>\n",
              "      <td>556.0</td>\n",
              "      <td>356.0</td>\n",
              "      <td>1437.0</td>\n",
              "      <td>2744.0</td>\n",
              "      <td>3305.0</td>\n",
              "      <td>1965.0</td>\n",
              "      <td>495.0</td>\n",
              "      <td>99.0</td>\n",
              "    </tr>\n",
              "  </tbody>\n",
              "</table>\n",
              "</div>"
            ],
            "text/plain": [
              "       Year    Total  Under 16  16-24   25-34   35-44   45-54   55-64  65-74  \\\n",
              "1   2002/03   1275.0     400.0   65.0   136.0   289.0   216.0    94.0   52.0   \n",
              "2   2003/04   1711.0     579.0   67.0   174.0   391.0   273.0   151.0   52.0   \n",
              "3   2004/05   2035.0     547.0  107.0   287.0   487.0   364.0   174.0   36.0   \n",
              "4   2005/06   2564.0     583.0   96.0   341.0   637.0   554.0   258.0   72.0   \n",
              "5   2006/07   3862.0     656.0  184.0   461.0  1069.0   872.0   459.0  118.0   \n",
              "6   2007/08   5018.0     747.0  228.0   564.0  1469.0  1198.0   598.0  157.0   \n",
              "7   2008/09   7988.0     775.0  322.0  1013.0  2359.0  2133.0  1099.0  221.0   \n",
              "8   2009/10  10571.0     632.0  361.0  1348.0  3132.0  3076.0  1555.0  378.0   \n",
              "9   2010/11  11574.0     525.0  375.0  1425.0  3277.0  3573.0  1820.0  456.0   \n",
              "10  2011/12  11736.0     495.0  391.0  1484.0  3104.0  3581.0  2119.0  468.0   \n",
              "11  2012/13  10957.0     556.0  356.0  1437.0  2744.0  3305.0  1965.0  495.0   \n",
              "\n",
              "    75 and over  \n",
              "1          23.0  \n",
              "2          24.0  \n",
              "3          32.0  \n",
              "4          20.0  \n",
              "5          43.0  \n",
              "6          53.0  \n",
              "7          63.0  \n",
              "8          87.0  \n",
              "9         115.0  \n",
              "10         94.0  \n",
              "11         99.0  "
            ]
          },
          "execution_count": 20,
          "metadata": {},
          "output_type": "execute_result"
        }
      ],
      "source": [
        "data_age.dropna(inplace=True)\n",
        "data_age"
      ]
    },
    {
      "cell_type": "markdown",
      "metadata": {
        "id": "eNB4ZvW33gO1"
      },
      "source": [
        "There is one more thing we need to do that will make our lives easier. If you look at the data_age table, the first value is a number. This is the index, and Pandas uses the default Excel practice of having a number as the index. However, we want to change the index to Year. This will make plotting much easier, since the index is usually plotted as the x axis."
      ]
    },
    {
      "cell_type": "code",
      "execution_count": 21,
      "metadata": {
        "id": "wDPwG-cC3gO1"
      },
      "outputs": [],
      "source": [
        "data_age.set_index('Year', inplace=True)"
      ]
    },
    {
      "cell_type": "code",
      "execution_count": null,
      "metadata": {
        "colab": {
          "base_uri": "https://localhost:8080/",
          "height": 237
        },
        "id": "cxmtKuC03gO6",
        "outputId": "0c9d7662-b262-47bb-cc7e-326fa851d6e6"
      },
      "outputs": [
        {
          "data": {
            "text/html": [
              "\n",
              "  <div id=\"df-08015321-0c96-4116-98fc-7da6f177e9aa\">\n",
              "    <div class=\"colab-df-container\">\n",
              "      <div>\n",
              "<style scoped>\n",
              "    .dataframe tbody tr th:only-of-type {\n",
              "        vertical-align: middle;\n",
              "    }\n",
              "\n",
              "    .dataframe tbody tr th {\n",
              "        vertical-align: top;\n",
              "    }\n",
              "\n",
              "    .dataframe thead th {\n",
              "        text-align: right;\n",
              "    }\n",
              "</style>\n",
              "<table border=\"1\" class=\"dataframe\">\n",
              "  <thead>\n",
              "    <tr style=\"text-align: right;\">\n",
              "      <th></th>\n",
              "      <th>Total</th>\n",
              "      <th>Under 16</th>\n",
              "      <th>16-24</th>\n",
              "      <th>25-34</th>\n",
              "      <th>35-44</th>\n",
              "      <th>45-54</th>\n",
              "      <th>55-64</th>\n",
              "      <th>65-74</th>\n",
              "      <th>75 and over</th>\n",
              "    </tr>\n",
              "    <tr>\n",
              "      <th>Year</th>\n",
              "      <th></th>\n",
              "      <th></th>\n",
              "      <th></th>\n",
              "      <th></th>\n",
              "      <th></th>\n",
              "      <th></th>\n",
              "      <th></th>\n",
              "      <th></th>\n",
              "      <th></th>\n",
              "    </tr>\n",
              "  </thead>\n",
              "  <tbody>\n",
              "    <tr>\n",
              "      <th>2002/03</th>\n",
              "      <td>1275.0</td>\n",
              "      <td>400.0</td>\n",
              "      <td>65.0</td>\n",
              "      <td>136.0</td>\n",
              "      <td>289.0</td>\n",
              "      <td>216.0</td>\n",
              "      <td>94.0</td>\n",
              "      <td>52.0</td>\n",
              "      <td>23.0</td>\n",
              "    </tr>\n",
              "    <tr>\n",
              "      <th>2003/04</th>\n",
              "      <td>1711.0</td>\n",
              "      <td>579.0</td>\n",
              "      <td>67.0</td>\n",
              "      <td>174.0</td>\n",
              "      <td>391.0</td>\n",
              "      <td>273.0</td>\n",
              "      <td>151.0</td>\n",
              "      <td>52.0</td>\n",
              "      <td>24.0</td>\n",
              "    </tr>\n",
              "    <tr>\n",
              "      <th>2004/05</th>\n",
              "      <td>2035.0</td>\n",
              "      <td>547.0</td>\n",
              "      <td>107.0</td>\n",
              "      <td>287.0</td>\n",
              "      <td>487.0</td>\n",
              "      <td>364.0</td>\n",
              "      <td>174.0</td>\n",
              "      <td>36.0</td>\n",
              "      <td>32.0</td>\n",
              "    </tr>\n",
              "    <tr>\n",
              "      <th>2005/06</th>\n",
              "      <td>2564.0</td>\n",
              "      <td>583.0</td>\n",
              "      <td>96.0</td>\n",
              "      <td>341.0</td>\n",
              "      <td>637.0</td>\n",
              "      <td>554.0</td>\n",
              "      <td>258.0</td>\n",
              "      <td>72.0</td>\n",
              "      <td>20.0</td>\n",
              "    </tr>\n",
              "    <tr>\n",
              "      <th>2006/07</th>\n",
              "      <td>3862.0</td>\n",
              "      <td>656.0</td>\n",
              "      <td>184.0</td>\n",
              "      <td>461.0</td>\n",
              "      <td>1069.0</td>\n",
              "      <td>872.0</td>\n",
              "      <td>459.0</td>\n",
              "      <td>118.0</td>\n",
              "      <td>43.0</td>\n",
              "    </tr>\n",
              "  </tbody>\n",
              "</table>\n",
              "</div>\n",
              "      <button class=\"colab-df-convert\" onclick=\"convertToInteractive('df-08015321-0c96-4116-98fc-7da6f177e9aa')\"\n",
              "              title=\"Convert this dataframe to an interactive table.\"\n",
              "              style=\"display:none;\">\n",
              "        \n",
              "  <svg xmlns=\"http://www.w3.org/2000/svg\" height=\"24px\"viewBox=\"0 0 24 24\"\n",
              "       width=\"24px\">\n",
              "    <path d=\"M0 0h24v24H0V0z\" fill=\"none\"/>\n",
              "    <path d=\"M18.56 5.44l.94 2.06.94-2.06 2.06-.94-2.06-.94-.94-2.06-.94 2.06-2.06.94zm-11 1L8.5 8.5l.94-2.06 2.06-.94-2.06-.94L8.5 2.5l-.94 2.06-2.06.94zm10 10l.94 2.06.94-2.06 2.06-.94-2.06-.94-.94-2.06-.94 2.06-2.06.94z\"/><path d=\"M17.41 7.96l-1.37-1.37c-.4-.4-.92-.59-1.43-.59-.52 0-1.04.2-1.43.59L10.3 9.45l-7.72 7.72c-.78.78-.78 2.05 0 2.83L4 21.41c.39.39.9.59 1.41.59.51 0 1.02-.2 1.41-.59l7.78-7.78 2.81-2.81c.8-.78.8-2.07 0-2.86zM5.41 20L4 18.59l7.72-7.72 1.47 1.35L5.41 20z\"/>\n",
              "  </svg>\n",
              "      </button>\n",
              "      \n",
              "  <style>\n",
              "    .colab-df-container {\n",
              "      display:flex;\n",
              "      flex-wrap:wrap;\n",
              "      gap: 12px;\n",
              "    }\n",
              "\n",
              "    .colab-df-convert {\n",
              "      background-color: #E8F0FE;\n",
              "      border: none;\n",
              "      border-radius: 50%;\n",
              "      cursor: pointer;\n",
              "      display: none;\n",
              "      fill: #1967D2;\n",
              "      height: 32px;\n",
              "      padding: 0 0 0 0;\n",
              "      width: 32px;\n",
              "    }\n",
              "\n",
              "    .colab-df-convert:hover {\n",
              "      background-color: #E2EBFA;\n",
              "      box-shadow: 0px 1px 2px rgba(60, 64, 67, 0.3), 0px 1px 3px 1px rgba(60, 64, 67, 0.15);\n",
              "      fill: #174EA6;\n",
              "    }\n",
              "\n",
              "    [theme=dark] .colab-df-convert {\n",
              "      background-color: #3B4455;\n",
              "      fill: #D2E3FC;\n",
              "    }\n",
              "\n",
              "    [theme=dark] .colab-df-convert:hover {\n",
              "      background-color: #434B5C;\n",
              "      box-shadow: 0px 1px 3px 1px rgba(0, 0, 0, 0.15);\n",
              "      filter: drop-shadow(0px 1px 2px rgba(0, 0, 0, 0.3));\n",
              "      fill: #FFFFFF;\n",
              "    }\n",
              "  </style>\n",
              "\n",
              "      <script>\n",
              "        const buttonEl =\n",
              "          document.querySelector('#df-08015321-0c96-4116-98fc-7da6f177e9aa button.colab-df-convert');\n",
              "        buttonEl.style.display =\n",
              "          google.colab.kernel.accessAllowed ? 'block' : 'none';\n",
              "\n",
              "        async function convertToInteractive(key) {\n",
              "          const element = document.querySelector('#df-08015321-0c96-4116-98fc-7da6f177e9aa');\n",
              "          const dataTable =\n",
              "            await google.colab.kernel.invokeFunction('convertToInteractive',\n",
              "                                                     [key], {});\n",
              "          if (!dataTable) return;\n",
              "\n",
              "          const docLinkHtml = 'Like what you see? Visit the ' +\n",
              "            '<a target=\"_blank\" href=https://colab.research.google.com/notebooks/data_table.ipynb>data table notebook</a>'\n",
              "            + ' to learn more about interactive tables.';\n",
              "          element.innerHTML = '';\n",
              "          dataTable['output_type'] = 'display_data';\n",
              "          await google.colab.output.renderOutput(dataTable, element);\n",
              "          const docLink = document.createElement('div');\n",
              "          docLink.innerHTML = docLinkHtml;\n",
              "          element.appendChild(docLink);\n",
              "        }\n",
              "      </script>\n",
              "    </div>\n",
              "  </div>\n",
              "  "
            ],
            "text/plain": [
              "          Total  Under 16  16-24  25-34   35-44  45-54  55-64  65-74  \\\n",
              "Year                                                                   \n",
              "2002/03  1275.0     400.0   65.0  136.0   289.0  216.0   94.0   52.0   \n",
              "2003/04  1711.0     579.0   67.0  174.0   391.0  273.0  151.0   52.0   \n",
              "2004/05  2035.0     547.0  107.0  287.0   487.0  364.0  174.0   36.0   \n",
              "2005/06  2564.0     583.0   96.0  341.0   637.0  554.0  258.0   72.0   \n",
              "2006/07  3862.0     656.0  184.0  461.0  1069.0  872.0  459.0  118.0   \n",
              "\n",
              "         75 and over  \n",
              "Year                  \n",
              "2002/03         23.0  \n",
              "2003/04         24.0  \n",
              "2004/05         32.0  \n",
              "2005/06         20.0  \n",
              "2006/07         43.0  "
            ]
          },
          "execution_count": 32,
          "metadata": {},
          "output_type": "execute_result"
        }
      ],
      "source": [
        "data_age.head()"
      ]
    },
    {
      "cell_type": "markdown",
      "metadata": {
        "id": "p83SlIIk3gO7"
      },
      "source": [
        "Now we can plot what we have."
      ]
    },
    {
      "cell_type": "code",
      "execution_count": null,
      "metadata": {
        "colab": {
          "base_uri": "https://localhost:8080/",
          "height": 296
        },
        "id": "IhbxkfKN3gO7",
        "outputId": "5657f667-c2ef-4926-dd34-9c308fcd03f9"
      },
      "outputs": [
        {
          "data": {
            "text/plain": [
              "<matplotlib.axes._subplots.AxesSubplot at 0x7f3081796e90>"
            ]
          },
          "execution_count": 33,
          "metadata": {},
          "output_type": "execute_result"
        },
        {
          "data": {
            "image/png": "[encoded data removed]",
            "text/plain": [
              "<Figure size 432x288 with 1 Axes>"
            ]
          },
          "metadata": {
            "needs_background": "light"
          },
          "output_type": "display_data"
        }
      ],
      "source": [
        "data_age.plot()"
      ]
    },
    {
      "cell_type": "markdown",
      "metadata": {
        "id": "25c4jwTx3gO8"
      },
      "source": [
        "Oops. There is a problem: Our original data contains a total field that is overshadowing everything else. We need to get rid of it."
      ]
    },
    {
      "cell_type": "code",
      "execution_count": null,
      "metadata": {
        "id": "fLj8P8XX3gO-"
      },
      "outputs": [],
      "source": [
        "data_age_minus_total = data_age.drop('Total', axis=1)"
      ]
    },
    {
      "cell_type": "markdown",
      "metadata": {
        "id": "E5pxYNoX3gO-"
      },
      "source": [
        "Let’s plot what we have now."
      ]
    },
    {
      "cell_type": "code",
      "execution_count": null,
      "metadata": {
        "colab": {
          "base_uri": "https://localhost:8080/",
          "height": 296
        },
        "id": "tJrO1rKg3gO_",
        "outputId": "ece471a2-6ad0-4f68-8b8f-0057988ffaff"
      },
      "outputs": [
        {
          "data": {
            "text/plain": [
              "<matplotlib.axes._subplots.AxesSubplot at 0x7f30816590d0>"
            ]
          },
          "execution_count": 35,
          "metadata": {},
          "output_type": "execute_result"
        },
        {
          "data": {
            "image/png": "[encoded data removed]",
            "text/plain": [
              "<Figure size 432x288 with 1 Axes>"
            ]
          },
          "metadata": {
            "needs_background": "light"
          },
          "output_type": "display_data"
        }
      ],
      "source": [
        "data_age_minus_total.plot()"
      ]
    },
    {
      "cell_type": "markdown",
      "metadata": {
        "id": "NqxVJHK_3gO_"
      },
      "source": [
        "Much better. We can actually see individual age groups now. Can you see which age group has the highest obesity?"
      ]
    },
    {
      "cell_type": "markdown",
      "metadata": {
        "id": "qtS_xLiJ3gPA"
      },
      "source": [
        "Coming back to our original question: Are children getting fatter?\n",
        "\n",
        "Let’s just plot a small section of the data: children under the age of 16 and grown ups in the age range of 35-44."
      ]
    },
    {
      "cell_type": "code",
      "execution_count": null,
      "metadata": {
        "colab": {
          "base_uri": "https://localhost:8080/",
          "height": 296
        },
        "id": "XPPtuw7L3gPA",
        "outputId": "1b43699c-b023-4674-973d-3a5f84edfb9b"
      },
      "outputs": [
        {
          "data": {
            "text/plain": [
              "<matplotlib.axes._subplots.AxesSubplot at 0x7f3081155a50>"
            ]
          },
          "execution_count": 36,
          "metadata": {},
          "output_type": "execute_result"
        },
        {
          "data": {
            "image/png": "[encoded data removed]",
            "text/plain": [
              "<Figure size 432x288 with 1 Axes>"
            ]
          },
          "metadata": {
            "needs_background": "light"
          },
          "output_type": "display_data"
        }
      ],
      "source": [
        "data_age['Under 16'].plot(label=\"Under 16\", legend=True)\n",
        "data_age['35-44'].plot(label=\"35-44\", legend=True)"
      ]
    },
    {
      "cell_type": "markdown",
      "metadata": {
        "id": "_72_De_H3gPM"
      },
      "source": [
        "So who is getting fatter?\n",
        "\n",
        "While children’s obesity has gone slightly down, their parents have ballooned. So it seems the parents need to worry about themselves rather than their children."
      ]
    }
  ],
  "metadata": {
    "colab": {
      "collapsed_sections": [],
      "name": "P0D5AM - Data Cleaning & Solving Case 2.ipynb",
      "provenance": []
    },
    "kernelspec": {
      "display_name": "Python 3.9.12 ('base')",
      "language": "python",
      "name": "python3"
    },
    "language_info": {
      "codemirror_mode": {
        "name": "ipython",
        "version": 3
      },
      "file_extension": ".py",
      "mimetype": "text/x-python",
      "name": "python",
      "nbconvert_exporter": "python",
      "pygments_lexer": "ipython3",
      "version": "3.9.12"
    },
    "toc": {
      "base_numbering": 1,
      "nav_menu": {},
      "number_sections": true,
      "sideBar": true,
      "skip_h1_title": false,
      "title_cell": "Table of Contents",
      "title_sidebar": "Contents",
      "toc_cell": false,
      "toc_position": {},
      "toc_section_display": true,
      "toc_window_display": false
    },
    "vscode": {
      "interpreter": {
        "hash": "3c49ca66e5c8d57ef998acbc4445fda8afa39543d611cccca4a6c099a23fcb0b"
      }
    }
  },
  "nbformat": 4,
  "nbformat_minor": 0
}
