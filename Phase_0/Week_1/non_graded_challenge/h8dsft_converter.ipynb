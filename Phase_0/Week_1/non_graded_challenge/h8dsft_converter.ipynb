{
 "cells": [
  {
   "cell_type": "markdown",
   "metadata": {},
   "source": [
    "# Non Graded Challenge 2 \n",
    "- Buatlah sebuah function yang dapat mengkonversi suhu dari kelvin ke celcius, dan celcius ke kelvin.\n",
    "<br>\n",
    "- Buatlah sebuah function yang dapat mengkonversi suhu ke fahrenheit. Tambahkan parameter untuk memastikan bahwa argumen yang dimasukan adalah celcius atau kelvin. Panggil function yang pertama jika diperlukan.\n",
    "<br>\n",
    "- Buatlah sebuah function yang dapat mengkonversi suhu dari fahrenheit. Berikan argumen untuk memastikan bahwa outputnya dalah celcius atau kelvin.\n",
    "Berikan dokumentasi pada setiap baris kode yang kalian tulis."
   ]
  },
  {
   "cell_type": "code",
   "execution_count": null,
   "metadata": {},
   "outputs": [],
   "source": [
    "\"\"\"\n",
    "fungsi konversi celcius ke kelvin\n",
    "dengan rumus celcius = kelvin - 273, kelvin = celcius + 273\n",
    "\n",
    "\"\"\"\n",
    "def konversi_celcius_kelvin(nilai,manuju): # menggunakan 2 parameter \"angka\" dan \"satuan\"\n",
    "    satuan = manuju.lower() # meminimalisir error pada upper case\n",
    "    if satuan == 'kelvin' or 'k': # jika satuan menuju kelvin maka akan dijadikan celcius dengan nilai + 273\n",
    "        return nilai + 273\n",
    "    elif satuan == 'celcius' or 'c':# jika satuan menuju celcius maka akan dijadikan celcius dengan nilai - 273\n",
    "        return nilai - 273 \n",
    "    else:\n",
    "        print(\"error : satuan tidak berlaku\")\n",
    "\"\"\"\n",
    "fungsi konversi celcius ke kelvin\n",
    "dengan rumus celcius = kelvin - 273, kelvin = celcius + 273\n",
    "\"\"\"\n",
    "def konversi_jadi_fahrenheit(nilai,origin):\n",
    "    satuan = origin.lower()\n",
    "    celcius = 9/5 * nilai + 32\n",
    "    \n",
    "    "
   ]
  }
 ],
 "metadata": {
  "kernelspec": {
   "display_name": "Python 3.10.5 64-bit (windows store)",
   "language": "python",
   "name": "python3"
  },
  "language_info": {
   "name": "python",
   "version": "3.10.5"
  },
  "orig_nbformat": 4,
  "vscode": {
   "interpreter": {
    "hash": "e7194702c6bfa9cdc487ef694ee9be7cf6f4c86d2ac62f9941d6772a53cd3fe2"
   }
  }
 },
 "nbformat": 4,
 "nbformat_minor": 2
}
