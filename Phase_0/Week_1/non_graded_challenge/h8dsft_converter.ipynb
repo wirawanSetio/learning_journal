{
 "cells": [
  {
   "cell_type": "markdown",
   "metadata": {},
   "source": [
    "# Non Graded Challenge 2 \n",
    "- Buatlah sebuah function yang dapat mengkonversi suhu dari kelvin ke celcius, dan celcius ke kelvin.\n",
    "<br>\n",
    "- Buatlah sebuah function yang dapat mengkonversi suhu ke fahrenheit. Tambahkan parameter untuk memastikan bahwa argumen yang dimasukan adalah celcius atau kelvin. Panggil function yang pertama jika diperlukan.\n",
    "<br>\n",
    "- Buatlah sebuah function yang dapat mengkonversi suhu dari fahrenheit. Berikan argumen untuk memastikan bahwa outputnya dalah celcius atau kelvin.\n",
    "Berikan dokumentasi pada setiap baris kode yang kalian tulis."
   ]
  },
  {
   "cell_type": "markdown",
   "metadata": {},
   "source": [
    "### fungsi konversi celcius ke kelvin"
   ]
  },
  {
   "cell_type": "code",
   "execution_count": 29,
   "metadata": {},
   "outputs": [
    {
     "name": "stdout",
     "output_type": "stream",
     "text": [
      "373.15 °K\n",
      "-173.15 °C\n",
      "error : satuan tidak berlaku\n"
     ]
    }
   ],
   "source": [
    "\"\"\"\n",
    "\n",
    "dengan rumus :\n",
    " -celcius = kelvin - 273.15\n",
    " -kelvin = celcius + 273.15\n",
    "\n",
    "\n",
    "\n",
    "input parameter adalah angka dan satuan suhu angka tersebut\n",
    "\n",
    "ekspektasi = onversi_celcius_kelvin(100,\"c\") output ==> 373.15 °K\n",
    "ekspektasi = onversi_celcius_kelvin(100,\"KELVIN\") output ==> -173.15 °C\n",
    "ekspektasi = onversi_celcius_kelvin(100,\"F\") output ==> error : satuan tidak berlaku\n",
    "\"\"\"\n",
    "def konversi_celcius_kelvin(angka,satuan): \n",
    "    satuan_origin = satuan.lower() # meminimalisir error pada upper case\n",
    "    if satuan_origin == 'celcius' or satuan_origin=='c': # jika satuan origin celcius maka, angka + 273.15\n",
    "        return f\"{round(angka + 273.15,2)} °K\" # pembulatan hingga hanya 2 angka dibelakang koma\n",
    "    elif satuan_origin == 'kelvin' or satuan_origin=='k':# jika satuan kelvin maka, angka - 273.15\n",
    "        return f\"{round(angka - 273.15,2)} °C\"# pembulatan hingga hanya 2 angka dibelakang koma\n",
    "    else: # akan error jika satuan tidak sesuai\n",
    "        return \"error : satuan tidak berlaku\"\n",
    "    \n",
    "print(konversi_celcius_kelvin(100,'C'))\n",
    "print(konversi_celcius_kelvin(100,'K'))\n",
    "print(konversi_celcius_kelvin(100,'F'))"
   ]
  },
  {
   "cell_type": "markdown",
   "metadata": {},
   "source": [
    "### konversi menuju fahrenheit"
   ]
  },
  {
   "cell_type": "code",
   "execution_count": 30,
   "metadata": {},
   "outputs": [
    {
     "name": "stdout",
     "output_type": "stream",
     "text": [
      "212.0 °F\n",
      "-279.67 °F\n",
      "error : satuan tidak berlaku\n"
     ]
    }
   ],
   "source": [
    "\"\"\"\n",
    "fungsi konversi celcius atau kelvin menuju fahrenheit\n",
    "dengan rumus : \n",
    "    *jika diketahui celcius, (9/5 * celcius + 32)\n",
    "    *jika diketahui kelvin, kelvin harus jadi ke celcius dengan (kelvin - 273.15)\n",
    "     setelah itu menuju fahrenheit dari celcius tadi dengan (9/5 * celcius + 32)\n",
    "\n",
    "input parameter adalah angka dan satuan suhu angka tersebut\n",
    "\n",
    "ekspektasi : onversi_celcius_kelvin(100,\"Celcius\") output ==> 212.0 °F\n",
    "ekspektasi : onversi_celcius_kelvin(100,\"k\") output ==> -279.67 °F\n",
    "ekspektasi : onversi_celcius_kelvin(100,\"F\") output ==> error : satuan tidak berlaku\n",
    "\"\"\"\n",
    "def konversi_jadi_fahrenheit(angka,satuan): \n",
    "    satuan_origin = satuan.lower() # meminimalisir error pada upper case\n",
    "    \n",
    "    \n",
    "    if satuan_origin == 'celcius' or satuan_origin =='c' : # jika satuan origin celcius maka  konversi menuju fahrenheit (9/5 * angka + 32)\n",
    "        return  f\"{round(9/5 * angka + 32,2)} °F\" # pembulatan hingga hanya 2 angka dibelakang koma\n",
    "    elif satuan_origin == 'kelvin' or satuan_origin =='k':# jika satuan menuju celcius maka akan dijadikan fahrenheit dengan(angka - 273.15) * 9/5 + 32\n",
    "        number = float(konversi_celcius_kelvin(angka,satuan).split()[0]) # mengambil angka dalam string\n",
    "        return f\"{round(9/5 * number + 32,2) } °F\" # pembulatan hingga hanya 2 angka dibelakang koma\n",
    "    else: # akan error jika satuan tidak sesuai\n",
    "        return \"error : satuan tidak berlaku\"\n",
    "    \n",
    "print(konversi_jadi_fahrenheit(100,'C'))\n",
    "print(konversi_jadi_fahrenheit(100,'K'))\n",
    "print(konversi_jadi_fahrenheit(100,'F'))"
   ]
  },
  {
   "cell_type": "markdown",
   "metadata": {},
   "source": [
    "### konversi dari fahrenheit"
   ]
  },
  {
   "cell_type": "code",
   "execution_count": 31,
   "metadata": {},
   "outputs": [
    {
     "name": "stdout",
     "output_type": "stream",
     "text": [
      "37.78 °C\n",
      "310.93 °K\n",
      "error : satuan tidak berlaku\n"
     ]
    }
   ],
   "source": [
    "\"\"\"\n",
    "fungsi konversi fahrenheit menuju celcius atau kelvin\n",
    "dengan rumus : \n",
    "    *jika ke celcius, (fahrenheit - 32) * 5/9 \n",
    "    *jika ke kelvin, fahrenheit harus jadi ke celcius dengan (100°F - 32) * 5/9 \n",
    "     setelah itu menuju kelvin dari celcius tadi dengan celcius + 273.15\n",
    "\n",
    "input parameter adalah angka,satuan suhu yang dituju\n",
    "\n",
    "ekspektasi = onversi_celcius_kelvin(100,\"C\") output ==> 37.78 °C\n",
    "ekspektasi = onversi_celcius_kelvin(100,\"K\") output ==> 310.93°K\n",
    "ekspektasi = onversi_celcius_kelvin(100,\"F\") output ==> error : satuan tidak berlaku\n",
    "\"\"\"\n",
    "def konversi_dari_fahrenheit(angka,satuan): \n",
    "    satuan_menuju = satuan.lower() # meminimalisir error pada upper case\n",
    "    \n",
    "    if satuan_menuju == 'celcius' or  satuan_menuju =='c' : # jika satuan adalah celcius maka konversi dengan (angka - 32) * 5/9 \n",
    "        return  f\"{round((angka - 32) * 5/9,2) } °C\"\n",
    "    elif satuan_menuju == 'kelvin' or satuan_menuju =='k':# jika satuan adalah kelvin maka konversi dengan((angka - 32) * 5/9 ) + 273.15\n",
    "        return konversi_celcius_kelvin((angka - 32) * 5/9 ,'c')\n",
    "    else: # akan error jika satuan tidak sesuai\n",
    "        return \"error : satuan tidak berlaku\"\n",
    "    \n",
    "\n",
    "print(konversi_dari_fahrenheit(100,'C'))\n",
    "print(konversi_dari_fahrenheit(100,'K'))\n",
    "print(konversi_dari_fahrenheit(100,'F'))"
   ]
  },
  {
   "cell_type": "code",
   "execution_count": null,
   "metadata": {},
   "outputs": [],
   "source": []
  }
 ],
 "metadata": {
  "kernelspec": {
   "display_name": "Python 3.9.12 ('base')",
   "language": "python",
   "name": "python3"
  },
  "language_info": {
   "codemirror_mode": {
    "name": "ipython",
    "version": 3
   },
   "file_extension": ".py",
   "mimetype": "text/x-python",
   "name": "python",
   "nbconvert_exporter": "python",
   "pygments_lexer": "ipython3",
   "version": "3.9.12"
  },
  "orig_nbformat": 4,
  "vscode": {
   "interpreter": {
    "hash": "3c49ca66e5c8d57ef998acbc4445fda8afa39543d611cccca4a6c099a23fcb0b"
   }
  }
 },
 "nbformat": 4,
 "nbformat_minor": 2
}
