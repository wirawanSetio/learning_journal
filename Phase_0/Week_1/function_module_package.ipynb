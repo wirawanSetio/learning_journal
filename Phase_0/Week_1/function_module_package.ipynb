{
 "cells": [
  {
   "cell_type": "markdown",
   "metadata": {},
   "source": [
    "# Function Module & Package"
   ]
  },
  {
   "cell_type": "code",
   "execution_count": 10,
   "metadata": {},
   "outputs": [],
   "source": [
    "\n",
    "def sumNumbers (arg1,arg2): # funtion dapat mengambil argumen/parameter\n",
    "  sum = arg1 + arg2 # statement penyelesaian sum\n",
    "  return sum # statement output\n",
    "    \n",
    "  \"\"\"\n",
    "    * membuat variable didalam fungsi yang namyanya sama \n",
    "      dengan variable global maka variable global tidak digunakan/dipanggil\n",
    "    \n",
    "    \n",
    "  \"\"\"\n",
    "\n"
   ]
  },
  {
   "cell_type": "code",
   "execution_count": 2,
   "metadata": {},
   "outputs": [
    {
     "data": {
      "text/plain": [
       "True"
      ]
     },
     "execution_count": 2,
     "metadata": {},
     "output_type": "execute_result"
    }
   ],
   "source": [
    "def isHacktive():\n",
    "    kata = input('masukan kata :')\n",
    "    return \"hacktive8\" == kata.lower()\n",
    "\n",
    "isHacktive()"
   ]
  },
  {
   "cell_type": "code",
   "execution_count": 9,
   "metadata": {},
   "outputs": [
    {
     "name": "stdout",
     "output_type": "stream",
     "text": [
      "9 (2, 3, 4, 5)\n",
      "data {'data_2': 1, 'data_1': 3, 'data_3': 'string'}\n"
     ]
    },
    {
     "data": {
      "text/plain": [
       "'\\n    *args \\n    merupakan input yang menghasilkan list \\n'"
      ]
     },
     "execution_count": 9,
     "metadata": {},
     "output_type": "execute_result"
    }
   ],
   "source": [
    "def asterisk(arg,*args):\n",
    "    print(arg,args)\n",
    "\n",
    "asterisk(9,2,3,4,5)\n",
    "\n",
    "def kwargs(arg,**args):\n",
    "    print(arg,args)\n",
    "\n",
    "kwargs(\"data\",data_2=1,data_1=3,data_3=\"string\")\n",
    "\n",
    "# *args merupakan parameter yg otomatis menjadikan tuple\n",
    "\n",
    "# **args merupakan kwargs merupakan parameter dapat menghasilkan dictionary\n",
    "# semua yg berbintang berada di\n",
    "\n",
    "    "
   ]
  },
  {
   "cell_type": "markdown",
   "metadata": {},
   "source": [
    "***Module dan Package***<br>\n",
    "\n",
    "contoh ada pada dalam folder"
   ]
  },
  {
   "cell_type": "code",
   "execution_count": null,
   "metadata": {},
   "outputs": [],
   "source": []
  }
 ],
 "metadata": {
  "kernelspec": {
   "display_name": "Python 3.10.5 64-bit (windows store)",
   "language": "python",
   "name": "python3"
  },
  "language_info": {
   "codemirror_mode": {
    "name": "ipython",
    "version": 3
   },
   "file_extension": ".py",
   "mimetype": "text/x-python",
   "name": "python",
   "nbconvert_exporter": "python",
   "pygments_lexer": "ipython3",
   "version": "3.10.5"
  },
  "orig_nbformat": 4,
  "vscode": {
   "interpreter": {
    "hash": "e7194702c6bfa9cdc487ef694ee9be7cf6f4c86d2ac62f9941d6772a53cd3fe2"
   }
  }
 },
 "nbformat": 4,
 "nbformat_minor": 2
}
