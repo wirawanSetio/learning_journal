{
 "cells": [
  {
   "cell_type": "markdown",
   "metadata": {},
   "source": [
    "# Day 1 Notebook\n",
    "\n",
    "ini adalah notebook pertama saya"
   ]
  },
  {
   "cell_type": "code",
   "execution_count": 1,
   "metadata": {},
   "outputs": [
    {
     "name": "stdout",
     "output_type": "stream",
     "text": [
      "Hallo Jupyter!\n"
     ]
    }
   ],
   "source": [
    "print(\"Hallo Jupyter!\")"
   ]
  },
  {
   "cell_type": "markdown",
   "metadata": {},
   "source": [
    "## Tipe data dalam python\n",
    "\n",
    "Jenis data ada 2 \n",
    "    + data tunggal\n",
    "        =int\n",
    "        -float\n",
    "        -bool (True,False)\n",
    "        -string(\"here\",\"there\")\n",
    "    + majemuk"
   ]
  },
  {
   "cell_type": "code",
   "execution_count": 2,
   "metadata": {},
   "outputs": [
    {
     "data": {
      "text/plain": [
       "str"
      ]
     },
     "execution_count": 2,
     "metadata": {},
     "output_type": "execute_result"
    }
   ],
   "source": [
    "# tidak bisa menampilkan 2 sekaligus,\n",
    "# tapi hanya satu yg ditampilkan\n",
    "type(22)\n",
    "type('yure')"
   ]
  },
  {
   "cell_type": "code",
   "execution_count": 4,
   "metadata": {},
   "outputs": [
    {
     "name": "stdout",
     "output_type": "stream",
     "text": [
      "<class 'str'>\n",
      "<class 'bool'>\n",
      "<class 'int'>\n",
      "<class 'float'>\n"
     ]
    }
   ],
   "source": [
    "# dapat menampilkan semua\n",
    "# data tunggal\n",
    "print(type(\"char\"))\n",
    "print(type(True))\n",
    "print(type(2))\n",
    "print(type(3.0))"
   ]
  },
  {
   "cell_type": "markdown",
   "metadata": {},
   "source": [
    "#### data majemuk\n",
    "##### tuple\n",
    "tuple immutable \n",
    "##### list\n",
    "list dapat bermutasi "
   ]
  },
  {
   "cell_type": "code",
   "execution_count": 55,
   "metadata": {},
   "outputs": [
    {
     "name": "stdout",
     "output_type": "stream",
     "text": [
      "<class 'list'>\n",
      "['first', 1, 5.2, 'this is string', True, 'last']\n",
      "[1, 'this is string', True]\n"
     ]
    }
   ],
   "source": [
    "# data majemuk\n",
    "data_tuple = (1,5.2,\"this is string\", True) # data tuple\n",
    "data_list =[1,5.2,\"this is string\", True] # data list\n",
    "data_dictionary = {'nama':\"wirawan setio aji\",\"umur\":27}# data dictionary\n",
    "print(type(data_list))\n",
    "\n",
    "# List data addition\n",
    "data_list.append(\"last\") #add from back\n",
    "data_list.insert(0,\"first\") #add from the selected index\n",
    "print(data_list)\n",
    "\n",
    "#list remove\n",
    "data_list.remove(5.2) #remove by item\n",
    "del data_list[0] #remove by index\n",
    "data_list.pop() #remove from the last\n",
    "print(data_list)"
   ]
  },
  {
   "cell_type": "markdown",
   "metadata": {},
   "source": [
    "### variable\n",
    "\n",
    "seberapa bebas penamaan variable (jangan memberi nama variable angka atau angka didepan kata, dan name yang sama dengan fungsi bawaan python)"
   ]
  },
  {
   "cell_type": "code",
   "execution_count": 11,
   "metadata": {},
   "outputs": [
    {
     "name": "stdout",
     "output_type": "stream",
     "text": [
      "11\n",
      "15\n"
     ]
    }
   ],
   "source": [
    "x = 5 # sign 5 into x\n",
    "print(x+6)\n",
    "x = 9 # override variable 'x' with 9\n",
    "print(x+6)\n"
   ]
  },
  {
   "cell_type": "markdown",
   "metadata": {},
   "source": [
    "### String \n",
    "\n",
    "adalah list dalam setiap character, string tidak bermutasi atau immutable"
   ]
  },
  {
   "cell_type": "code",
   "execution_count": 12,
   "metadata": {},
   "outputs": [
    {
     "name": "stdout",
     "output_type": "stream",
     "text": [
      "<class 'str'>\n"
     ]
    }
   ],
   "source": [
    "my_string = \"Python is crazy, ey?\"\n",
    "my_string_2 = 'yeah boy o'\n",
    "\n",
    "print(type(my_string_2))"
   ]
  },
  {
   "cell_type": "code",
   "execution_count": 14,
   "metadata": {},
   "outputs": [
    {
     "name": "stdout",
     "output_type": "stream",
     "text": [
      "can't\n"
     ]
    }
   ],
   "source": [
    "string_test = 'can\\'t' # escape string '\\'\n",
    "print(string_test)"
   ]
  },
  {
   "cell_type": "code",
   "execution_count": 19,
   "metadata": {},
   "outputs": [
    {
     "name": "stdout",
     "output_type": "stream",
     "text": [
      "5\n",
      "CAN'T\n",
      "can't\n"
     ]
    }
   ],
   "source": [
    "print(len(string_test)) # menghitung karakter\n",
    "print(string_test.upper()) # mengubah string menjadi kapital karakter\n",
    "# string_test[2] = \"2\" # akan ada error karena string immutable\n",
    "print(string_test.swapcase()) # swap lower case dengan upper case"
   ]
  },
  {
   "cell_type": "markdown",
   "metadata": {},
   "source": [
    "#### formatting string\n",
    "memasukan variable dalam sebuah string dengan formatting"
   ]
  },
  {
   "cell_type": "code",
   "execution_count": 22,
   "metadata": {},
   "outputs": [
    {
     "name": "stdout",
     "output_type": "stream",
     "text": [
      "Nama saya wirawan setio aji umur saya 27\n"
     ]
    }
   ],
   "source": [
    "nama = \"wirawan setio aji\"\n",
    "umur = 27\n",
    "\n",
    "formatted_string = f\"Nama saya {nama} umur saya {umur}\" # menggunakan 'f' didepan string quote\n",
    "print(formatted_string)"
   ]
  },
  {
   "cell_type": "markdown",
   "metadata": {},
   "source": [
    "#### String indexing & slicing"
   ]
  },
  {
   "cell_type": "code",
   "execution_count": 33,
   "metadata": {},
   "outputs": [
    {
     "name": "stdout",
     "output_type": "stream",
     "text": [
      "c\n",
      "v\n",
      "ci\n",
      "Hackti\n",
      "tiv8\n",
      "vitk\n"
     ]
    }
   ],
   "source": [
    "# Indexing\n",
    "nama = \"Hacktiv8\"\n",
    "print(nama[2]) # indexing string dari depan\n",
    "print(nama[-2]) # indexing string dari belakang\n",
    "\n",
    "# Slicing\n",
    "print(nama[2:6:3]) #first index(inclusive) : until index (exclusive/tidak termasuk):jump\n",
    "print(nama[:6]) # menampilkan dari awal hingga index 5 / 6-1\n",
    "print(nama[4:]) # dari index 4 hingga akhir\n",
    "print(nama[6:2:-1])"
   ]
  },
  {
   "cell_type": "markdown",
   "metadata": {},
   "source": [
    "### Boolean\n",
    "bolean adalah tipe data True atau False\n",
    "dalam operasi : aritmatika,perbandingan,logika,keanggotaan"
   ]
  },
  {
   "cell_type": "markdown",
   "metadata": {},
   "source": []
  },
  {
   "cell_type": "markdown",
   "metadata": {},
   "source": [
    "#### operasi aritmatika"
   ]
  },
  {
   "cell_type": "code",
   "execution_count": 36,
   "metadata": {},
   "outputs": [
    {
     "name": "stdout",
     "output_type": "stream",
     "text": [
      "8\n",
      "1.5\n",
      "1.25\n",
      "2\n",
      "wirawanaji\n",
      "wirawan wirawan wirawan wirawan wirawan \n"
     ]
    }
   ],
   "source": [
    "print(2+3*2) # operasi aritmatika\n",
    "print(6/4) # operasi aritmatika pembagian biasa\n",
    "print(5/4) # bagi integer (tidak ada koma / float)\n",
    "print(17%3) # sisa pembagi\n",
    "\n",
    "nama_depan = 'wirawan'\n",
    "nama_belakang = 'aji'\n",
    "\n",
    "# operasi string\n",
    "print(nama_depan + nama_belakang) # hanya bisa di tambah dengan sesama string\n",
    "print((nama_depan+ \" \") * 5) #hanya bisa dikalikan dengan integer"
   ]
  },
  {
   "cell_type": "markdown",
   "metadata": {},
   "source": [
    "#### operasi perbandingan"
   ]
  },
  {
   "cell_type": "code",
   "execution_count": 37,
   "metadata": {},
   "outputs": [
    {
     "name": "stdout",
     "output_type": "stream",
     "text": [
      "True\n",
      "False\n",
      "True\n",
      "True\n",
      "True\n"
     ]
    }
   ],
   "source": [
    "print(2==2)\n",
    "print(3>4)\n",
    "print(4>=4)\n",
    "print(3<4)\n",
    "print(3<=3)"
   ]
  },
  {
   "cell_type": "markdown",
   "metadata": {},
   "source": [
    "#### operasi logika"
   ]
  },
  {
   "cell_type": "code",
   "execution_count": 40,
   "metadata": {},
   "outputs": [
    {
     "name": "stdout",
     "output_type": "stream",
     "text": [
      "True\n",
      "True\n",
      "True\n"
     ]
    }
   ],
   "source": [
    "print (True and True)\n",
    "print(False or True)\n",
    "print(True or False and False) # \"and\" adalah perkalian 'or' adalah penjumlahan"
   ]
  },
  {
   "cell_type": "markdown",
   "metadata": {},
   "source": [
    "#### keanggotaan"
   ]
  },
  {
   "cell_type": "code",
   "execution_count": 46,
   "metadata": {},
   "outputs": [
    {
     "name": "stdout",
     "output_type": "stream",
     "text": [
      "False\n",
      "True\n"
     ]
    }
   ],
   "source": [
    "nama = \"Wirawan\"\n",
    "print(('i'and'o') in nama)\n",
    "\n",
    "keranjang_buah = ('Pepaya','Mangga','Pisang', 'Jambu')\n",
    "print ('Mangga' in keranjang_buah)"
   ]
  },
  {
   "cell_type": "code",
   "execution_count": null,
   "metadata": {},
   "outputs": [],
   "source": []
  }
 ],
 "metadata": {
  "kernelspec": {
   "display_name": "Python 3.9.12 ('base')",
   "language": "python",
   "name": "python3"
  },
  "language_info": {
   "codemirror_mode": {
    "name": "ipython",
    "version": 3
   },
   "file_extension": ".py",
   "mimetype": "text/x-python",
   "name": "python",
   "nbconvert_exporter": "python",
   "pygments_lexer": "ipython3",
   "version": "3.9.12"
  },
  "orig_nbformat": 4,
  "vscode": {
   "interpreter": {
    "hash": "3c49ca66e5c8d57ef998acbc4445fda8afa39543d611cccca4a6c099a23fcb0b"
   }
  }
 },
 "nbformat": 4,
 "nbformat_minor": 2
}
