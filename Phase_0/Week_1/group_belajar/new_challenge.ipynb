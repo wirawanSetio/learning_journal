{
 "cells": [
  {
   "cell_type": "markdown",
   "metadata": {},
   "source": [
    "# NEW CHALLENGE\n",
    "\n",
    "1. expected output <br>\n",
    "    In: word_detection(\"apa\", \"apa kabar kamu?\")<br>\n",
    "    Out: Kata 'apa' berada di kata ke-1 pada kalimat ini.\n",
    "    <br>\n",
    "2. expected output 2 <br>\n",
    "    In: word_detection(\"apa\", \"kamu siapa namanya?\")<br>\n",
    "    Out: Kata 'apa' tidak terdapat pada kalimat ini.\n",
    "<br>\n",
    "3. **Loop, Conditional IF, Function** adalah koenchi\n"
   ]
  },
  {
   "cell_type": "code",
   "execution_count": 11,
   "metadata": {},
   "outputs": [
    {
     "name": "stdout",
     "output_type": "stream",
     "text": [
      "Kata apa berada di kata ke-1 pada kalimat ini.\n",
      "Kata apa berada di kata ke-5 pada kalimat ini.\n",
      "Kata apa berada di kata ke-2 pada kalimat ini.\n",
      "Kata apa tidak terdapat pada kalimat ini.\n",
      "Kata kamu berada di kata ke-3 pada kalimat ini.\n",
      "Kata sayang tidak terdapat pada kalimat ini.\n"
     ]
    }
   ],
   "source": [
    "\n",
    "\"\"\"\n",
    "word_detection(\"apa\", \"apa kabar kamu?\"), fungsi menggunakan 2 parameter yaitu, kata yang di cari dan kalimat\n",
    "\n",
    "dari output nya (Kata 'apa' berada di kata ke-1 pada kalimat ini.) 'apa' merupakan input dari parameter, dan posisi kata pada 'k-1'\n",
    "atau output (Kata 'apa' tidak terdapat pada kalimat ini.) jika kata tak ditemukan\n",
    "\n",
    "mendeteksi setiap kata dalam kalimat dengan mencari space atau tanda baca didalamnya\n",
    "menggunakan for loop dan check satu-satu setiap karakter\n",
    "\n",
    "\"\"\"\n",
    "\n",
    "def word_detection(kata,kalimat): # mencari kata dalam kalimat\n",
    "    \n",
    "    \"\"\"Definisi variable untuk fungsi\"\"\"\n",
    "    posisi_kata = 1 # posisi kata sesuai dengan deteksi space\n",
    "    deteksi_kata = '' # persiapkan variable string kosong untuk pembanding setiap kata yg dirangkai\n",
    "    tanda_baca = \"!@#$%^&*()-+?_=,<>/\" # tanda baca baiknya di-skip\n",
    "    \n",
    "    temp_kata = kata.lower() # kurangi halangan case sensitif pada kata yang di cari\n",
    "    temp_kalimat = kalimat.lower() # kurangi halangan case sensitif pada kalimat yang dibedah\n",
    "    \n",
    "    \n",
    "    \"\"\"membuat sesuatu yang mirip dengan method str.split() dengan 'for' loop \"\"\"\n",
    "    for char in temp_kalimat: # loop setiap karakter pada kalimat\n",
    "        if(char == ' ' or char in tanda_baca): # setiap kata selalu diakhiri dengan space atau tanda baca\n",
    "            if(deteksi_kata == temp_kata): #jika kata ditemukan break loop\n",
    "                break\n",
    "            else: # jika belum ditemukan tambah posisi kata dengan angka 1, dan reset deteksi kata\n",
    "                posisi_kata += 1\n",
    "                deteksi_kata=''\n",
    "            continue # space dan tranda baca tak perlu di deteksi maka continue loop      \n",
    "        \n",
    "        deteksi_kata += char # tambahkan karakter hingga merangkai sebuah kata\n",
    "    \n",
    "    \"\"\"hasil output\"\"\"\n",
    "    if deteksi_kata == temp_kata: # jika kata ditemukan\n",
    "        print(f'Kata {kata} berada di kata ke-{posisi_kata} pada kalimat ini.')\n",
    "    else: # jika kata tidak ditemukan\n",
    "        print(f'Kata {kata} tidak terdapat pada kalimat ini.') \n",
    "\n",
    "\"\"\"Test session\"\"\"\n",
    "word_detection('apa','apa kabar kamu?')\n",
    "word_detection('apa','kondangan besok pakai baju apa?')\n",
    "word_detection('apa','sarapan aPa hari ini kita, sayang?')\n",
    "word_detection('apa','kabar kabar kamu baik?')\n",
    "word_detection('kamu','kabar kabar kamu baik?')\n",
    "word_detection('sayang','sayangnya dia tidak ada di kampus?')"
   ]
  },
  {
   "cell_type": "markdown",
   "metadata": {},
   "source": [
    "### ***refrensi inspirasi***\n",
    " https://docs.python.org/3/library/stdtypes.html#str.split"
   ]
  },
  {
   "cell_type": "code",
   "execution_count": null,
   "metadata": {},
   "outputs": [],
   "source": []
  }
 ],
 "metadata": {
  "kernelspec": {
   "display_name": "Python 3.9.12 ('base')",
   "language": "python",
   "name": "python3"
  },
  "language_info": {
   "codemirror_mode": {
    "name": "ipython",
    "version": 3
   },
   "file_extension": ".py",
   "mimetype": "text/x-python",
   "name": "python",
   "nbconvert_exporter": "python",
   "pygments_lexer": "ipython3",
   "version": "3.9.12"
  },
  "orig_nbformat": 4,
  "vscode": {
   "interpreter": {
    "hash": "3c49ca66e5c8d57ef998acbc4445fda8afa39543d611cccca4a6c099a23fcb0b"
   }
  }
 },
 "nbformat": 4,
 "nbformat_minor": 2
}
