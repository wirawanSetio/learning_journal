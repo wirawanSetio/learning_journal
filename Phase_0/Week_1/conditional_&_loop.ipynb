{
 "cells": [
  {
   "cell_type": "markdown",
   "metadata": {},
   "source": [
    "# *Conditional & Looping*"
   ]
  },
  {
   "cell_type": "markdown",
   "metadata": {},
   "source": [
    "### **Conditional**"
   ]
  },
  {
   "cell_type": "code",
   "execution_count": 3,
   "metadata": {},
   "outputs": [
    {
     "name": "stdout",
     "output_type": "stream",
     "text": [
      "Hallo, Ini sudah pasti true\n",
      "nilai 120 lebih dari 20 \n"
     ]
    }
   ],
   "source": [
    "if True: # jika kondisi \"if\" adalah true\n",
    "    print (\"Hallo, Ini sudah pasti true\")\n",
    "\n",
    "# kondisi lebih dari satu\n",
    "angka = 120\n",
    "if angka > 20:\n",
    "    print(f\"nilai {angka} lebih dari 20 \")\n",
    "elif angka == 20 :\n",
    "    print(f\"nilai {angka} sama dengan 20 \")\n",
    "else:\n",
    "    print(f\"nilai {angka} kurang dari 20 \")\n",
    "    \n",
    "if 7 > angka > 5 :\n",
    "    print(\"ini adalah range model, dimana 7 > angka > 5\")"
   ]
  },
  {
   "cell_type": "code",
   "execution_count": 9,
   "metadata": {},
   "outputs": [
    {
     "name": "stdout",
     "output_type": "stream",
     "text": [
      "C\n"
     ]
    }
   ],
   "source": [
    "\n",
    "\n",
    "nilai = 60\n",
    "\n",
    "if ( nilai > 100 or nilai < 0):\n",
    "    print(\"input salah \")\n",
    "else:\n",
    "    if( nilai >= 80 and nilai <= 100):\n",
    "        print(\"A\")\n",
    "    elif( nilai >= 70 and nilai < 80):\n",
    "        print(\"B\")\n",
    "    elif( nilai >= 60 and nilai < 70):\n",
    "        print(\"C\")\n",
    "    elif( nilai >= 40 and nilai < 60):\n",
    "        print(\"D\")\n",
    "    else:\n",
    "        print('E')"
   ]
  },
  {
   "cell_type": "markdown",
   "metadata": {},
   "source": [
    "### **Looping**\n"
   ]
  },
  {
   "cell_type": "markdown",
   "metadata": {},
   "source": [
    "**while & for**"
   ]
  },
  {
   "cell_type": "code",
   "execution_count": 11,
   "metadata": {},
   "outputs": [
    {
     "name": "stdout",
     "output_type": "stream",
     "text": [
      "here infinite\n",
      "1\n",
      "2\n",
      "3\n",
      "4\n",
      "5\n",
      "6\n",
      "7\n",
      "8\n",
      "9\n"
     ]
    }
   ],
   "source": [
    "while True: # while loop will run only for true condition\n",
    "    print(\"here infinite\")\n",
    "    break;\n",
    "\n",
    "for i in range(1,10): # range can call through list,tupple,dictionary\n",
    "    print(i)"
   ]
  },
  {
   "cell_type": "markdown",
   "metadata": {},
   "source": [
    "**looping notation**"
   ]
  },
  {
   "cell_type": "code",
   "execution_count": null,
   "metadata": {},
   "outputs": [],
   "source": [
    "while True: # while loop will run only for true condition\n",
    "    print(\"here infinite\")\n",
    "    break; #stop looping using break\n",
    "\n",
    "for i in range(1,10): # range can call through list,tupple,dictionary\n",
    "    if i % 2: # skip all even number use \"continue\"\n",
    "        continue\n",
    "    print(i)"
   ]
  },
  {
   "cell_type": "markdown",
   "metadata": {},
   "source": []
  },
  {
   "cell_type": "code",
   "execution_count": 13,
   "metadata": {},
   "outputs": [
    {
     "data": {
      "text/plain": [
       "{'Rafif': 70,\n",
       " 'Fauzi': 80,\n",
       " 'Ali': 70,\n",
       " 'Danang': 50,\n",
       " 'Jonathan': 90,\n",
       " 'Rivaldi': 110,\n",
       " 'Rizaldo': -20}"
      ]
     },
     "execution_count": 13,
     "metadata": {},
     "output_type": "execute_result"
    }
   ],
   "source": [
    "skor = { 'Rafif': 70,'Fauzi': 80,'Ali': 70,'Danang': 50,'Jonathan': 90, \"Rivaldi\":110, \"Rizaldo\":-20}\n",
    "\n",
    "grade = {}\n",
    "\n",
    "nilai"
   ]
  }
 ],
 "metadata": {
  "kernelspec": {
   "display_name": "Python 3.9.12 ('base')",
   "language": "python",
   "name": "python3"
  },
  "language_info": {
   "codemirror_mode": {
    "name": "ipython",
    "version": 3
   },
   "file_extension": ".py",
   "mimetype": "text/x-python",
   "name": "python",
   "nbconvert_exporter": "python",
   "pygments_lexer": "ipython3",
   "version": "3.9.12"
  },
  "orig_nbformat": 4,
  "vscode": {
   "interpreter": {
    "hash": "3c49ca66e5c8d57ef998acbc4445fda8afa39543d611cccca4a6c099a23fcb0b"
   }
  }
 },
 "nbformat": 4,
 "nbformat_minor": 2
}
