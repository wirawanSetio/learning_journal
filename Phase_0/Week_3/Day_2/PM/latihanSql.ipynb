{
 "cells": [
  {
   "cell_type": "code",
   "execution_count": null,
   "metadata": {},
   "outputs": [],
   "source": [
    "import sqlite3\n",
    "from urllib.request import Request, urlopen\n",
    "\n",
    "# site = \"https://www.py4e.com/code3/mbox.txt?PHPSESSID=fde8a932bbc6b3a14e15086705b3c076\"\n",
    "# hdr = {'User-Agent': 'Mozilla/5.0 (X11; Linux x86_64) AppleWebKit/537.11 (KHTML, like Gecko) Chrome/23.0.1271.64 Safari/537.11'}\n",
    "# req = Request(site, headers=hdr)\n",
    "# data = urlopen(req).read()\n",
    "# data = data.decode()\n",
    "\n",
    "conn = sqlite3.connect('rosterdb.sqlite')\n",
    "cur = conn.cursor()"
   ]
  }
 ],
 "metadata": {
  "kernelspec": {
   "display_name": "Python 3.9.12 ('base')",
   "language": "python",
   "name": "python3"
  },
  "language_info": {
   "name": "python",
   "version": "3.9.12"
  },
  "orig_nbformat": 4,
  "vscode": {
   "interpreter": {
    "hash": "3c49ca66e5c8d57ef998acbc4445fda8afa39543d611cccca4a6c099a23fcb0b"
   }
  }
 },
 "nbformat": 4,
 "nbformat_minor": 2
}
