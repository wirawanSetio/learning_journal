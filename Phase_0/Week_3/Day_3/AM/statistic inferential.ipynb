{
 "cells": [
  {
   "cell_type": "markdown",
   "metadata": {},
   "source": [
    "### P-value dalam bimbel<br>\n",
    "10 bimbel --> x = 85<br>\n",
    "10 tidak --> x = 83<br>\n",
    "--------------------\n",
    "H0 : mu1 = m2 || mu1 - mu2 = 0 // ikut bimbel sama saja dengan tidak ikut bimbel <br>\n",
    "H1 : mu1 != m2 || mu1 - mu2 != 0 // ikut bimbel tidak sama dengan yang ikut  bimbel <br>"
   ]
  },
  {
   "cell_type": "code",
   "execution_count": null,
   "metadata": {},
   "outputs": [],
   "source": []
  },
  {
   "cell_type": "markdown",
   "metadata": {},
   "source": [
    "### percobaan bimbel\n",
    "P1 = 1 <br>\n",
    "p2 = 5<br>\n",
    "p3 = 10<br>\n",
    "p4 = 8<br>\n",
    ".<br>\n",
    ".<br>\n",
    ".<br>\n",
    ".<br>\n",
    ".<br>\n",
    ".<br>\n",
    "P10 = 1<br>\n",
    "\n",
    "`P-value = 3/10` **10** adalah banyak percobaan **3** adalah banyak yang tidak sama dengan 0\n",
    "\n",
    "\n",
    "\n"
   ]
  },
  {
   "cell_type": "markdown",
   "metadata": {},
   "source": []
  },
  {
   "cell_type": "code",
   "execution_count": 4,
   "metadata": {},
   "outputs": [],
   "source": [
    "# Hipothesis bimbel 2 sample\n",
    "\n",
    "# nilai matematik ikut bimbel\n",
    "datat_treatment = [85.2,81.3, 75.3, 90, 71.2, 84.9, 95,76,70,85.9] # data yang ikut bimbel\n",
    "\n",
    "data_control =  [90.3, 71.1, 74.3, 78.9, 85.2, 81.1, 70, 67, 69, 50] # data yang tidak ikut bimbel\n",
    "\n"
   ]
  },
  {
   "cell_type": "markdown",
   "metadata": {},
   "source": [
    "hipothesis : <br>\n",
    "H0 : ikut bimbel maupun tidak tidak ada perubahan secara signifikan pada nilai matematika<br>\n",
    "\n",
    "H1 : tidak ada perbedaan antara ikut bimbel dan tidak pada nilai matematika<br>\n",
    "\n",
    "-----------\n",
    "notasi matematika : <br>\n",
    "Ho : m1 = m2 ==> m1 - m2 = 0 perbedaan tidak signifikan<br>\n",
    "\n",
    "H1 : m1 != m2 ==> m1 - m2 != 0 perbedaan signifikan\n",
    "\n"
   ]
  },
  {
   "cell_type": "code",
   "execution_count": 3,
   "metadata": {},
   "outputs": [],
   "source": [
    "import numpy as np"
   ]
  },
  {
   "cell_type": "code",
   "execution_count": 5,
   "metadata": {},
   "outputs": [
    {
     "data": {
      "text/plain": [
       "7.790000000000006"
      ]
     },
     "execution_count": 5,
     "metadata": {},
     "output_type": "execute_result"
    }
   ],
   "source": [
    "m1 = np.mean(datat_treatment) # rata2 data treament\n",
    "m2 = np.mean(data_control) # rata2 yang tidak ikut bimbel / control\n",
    "\n",
    "# hitung selisih\n",
    "d = np.abs(m1-m2)\n",
    "d # batas bawah"
   ]
  },
  {
   "cell_type": "code",
   "execution_count": 8,
   "metadata": {},
   "outputs": [
    {
     "data": {
      "text/plain": [
       "array([85.2, 81.3, 75.3, 90. , 71.2, 84.9, 95. , 76. , 70. , 85.9, 90.3,\n",
       "       71.1, 74.3, 78.9, 85.2, 81.1, 70. , 67. , 69. , 50. ])"
      ]
     },
     "execution_count": 8,
     "metadata": {},
     "output_type": "execute_result"
    }
   ],
   "source": [
    "# experiment pengambilan sample gabungan antara kedua nya 10 kali\n",
    "concate = np.concatenate([datat_treatment,data_control])\n",
    "concate\n",
    "\n"
   ]
  },
  {
   "cell_type": "code",
   "execution_count": 14,
   "metadata": {},
   "outputs": [
    {
     "data": {
      "text/plain": [
       "[2.75,\n",
       " 4.689999999999998,\n",
       " 4.1699999999999875,\n",
       " 2.0700000000000074,\n",
       " 3.4299999999999926,\n",
       " 0.2499999999999858,\n",
       " 5.590000000000003,\n",
       " 0.5300000000000011,\n",
       " 1.769999999999996,\n",
       " 5.15000000000002,\n",
       " 7.810000000000002,\n",
       " 3.010000000000005,\n",
       " 4.8100000000000165,\n",
       " 10.11,\n",
       " 7.22999999999999,\n",
       " 5.750000000000014,\n",
       " 3.549999999999997,\n",
       " 2.230000000000004,\n",
       " 0.11000000000001364,\n",
       " 5.049999999999983,\n",
       " 10.649999999999991,\n",
       " 0.23000000000000398,\n",
       " 0.11000000000002785,\n",
       " 2.9099999999999966,\n",
       " 2.3500000000000085,\n",
       " 0.010000000000005116,\n",
       " 0.010000000000019327,\n",
       " 6.970000000000013,\n",
       " 4.769999999999996,\n",
       " 3.6700000000000017,\n",
       " 4.049999999999997,\n",
       " 3.1499999999999915,\n",
       " 3.3899999999999864,\n",
       " 1.6499999999999915,\n",
       " 4.029999999999987,\n",
       " 4.210000000000008,\n",
       " 0.3299999999999983,\n",
       " 6.010000000000005,\n",
       " 6.010000000000005,\n",
       " 2.049999999999983,\n",
       " 0.5500000000000256,\n",
       " 1.1700000000000017,\n",
       " 7.730000000000004,\n",
       " 5.75,\n",
       " 2.6299999999999955,\n",
       " 6.949999999999989,\n",
       " 7.789999999999978,\n",
       " 2.1899999999999977,\n",
       " 6.230000000000004,\n",
       " 4.569999999999993,\n",
       " 3.8299999999999983,\n",
       " 0.549999999999983,\n",
       " 4.009999999999977,\n",
       " 3.6299999999999955,\n",
       " 2.3700000000000045,\n",
       " 3.010000000000005,\n",
       " 5.590000000000032,\n",
       " 2.530000000000001,\n",
       " 2.1899999999999977,\n",
       " 1.4300000000000068,\n",
       " 5.950000000000003,\n",
       " 4.090000000000003,\n",
       " 2.450000000000003,\n",
       " 4.230000000000004,\n",
       " 2.0900000000000034,\n",
       " 5.769999999999996,\n",
       " 7.890000000000001,\n",
       " 1.170000000000016,\n",
       " 7.6299999999999955,\n",
       " 3.7099999999999937,\n",
       " 6.590000000000018,\n",
       " 5.070000000000007,\n",
       " 8.469999999999999,\n",
       " 6.250000000000014,\n",
       " 0.6299999999999955,\n",
       " 3.1100000000000136,\n",
       " 0.29000000000000625,\n",
       " 0.12999999999999545,\n",
       " 1.230000000000004,\n",
       " 3.049999999999983,\n",
       " 0.5900000000000176,\n",
       " 3.230000000000004,\n",
       " 1.8700000000000188,\n",
       " 1.7700000000000102,\n",
       " 8.210000000000008,\n",
       " 3.6299999999999955,\n",
       " 3.6499999999999915,\n",
       " 3.289999999999992,\n",
       " 3.230000000000004,\n",
       " 2.7900000000000063,\n",
       " 1.7300000000000182,\n",
       " 1.0100000000000051,\n",
       " 2.3300000000000125,\n",
       " 0.4899999999999949,\n",
       " 1.8100000000000023,\n",
       " 0.37000000000001876,\n",
       " 0.36999999999999034,\n",
       " 2.1699999999999875,\n",
       " 2.249999999999986,\n",
       " 0.5699999999999932]"
      ]
     },
     "execution_count": 14,
     "metadata": {},
     "output_type": "execute_result"
    }
   ],
   "source": [
    "diff = []\n",
    "p = 100\n",
    "np.random.seed(1)\n",
    "\n",
    "# Permutation Testing\n",
    "for i in range(p):\n",
    "    np.random.shuffle(concate)\n",
    "    a = concate[:10].mean() # simulasi treatment\n",
    "    b = concate[10:].mean() # simulasi control\n",
    "    diff.append(abs(a-b))\n",
    "\n",
    "diff"
   ]
  },
  {
   "cell_type": "code",
   "execution_count": 15,
   "metadata": {},
   "outputs": [
    {
     "data": {
      "text/plain": [
       "6"
      ]
     },
     "execution_count": 15,
     "metadata": {},
     "output_type": "execute_result"
    }
   ],
   "source": [
    "# kriteria experiment jika diff >= 7.79 atau diff harus lebih besar atau sama dengan 7.79 adalah hal yang biasa\n",
    "p_crit = np.where(diff >= d,1,0)\n",
    "p_crit.sum() # p_crit atau kriteria experiment"
   ]
  },
  {
   "cell_type": "code",
   "execution_count": 16,
   "metadata": {},
   "outputs": [
    {
     "data": {
      "text/plain": [
       "0.06"
      ]
     },
     "execution_count": 16,
     "metadata": {},
     "output_type": "execute_result"
    }
   ],
   "source": [
    "p_value = p_crit.sum()/p\n",
    "p_value"
   ]
  },
  {
   "cell_type": "code",
   "execution_count": null,
   "metadata": {},
   "outputs": [],
   "source": []
  }
 ],
 "metadata": {
  "kernelspec": {
   "display_name": "Python 3.9.12 ('base')",
   "language": "python",
   "name": "python3"
  },
  "language_info": {
   "codemirror_mode": {
    "name": "ipython",
    "version": 3
   },
   "file_extension": ".py",
   "mimetype": "text/x-python",
   "name": "python",
   "nbconvert_exporter": "python",
   "pygments_lexer": "ipython3",
   "version": "3.9.12"
  },
  "orig_nbformat": 4,
  "vscode": {
   "interpreter": {
    "hash": "3c49ca66e5c8d57ef998acbc4445fda8afa39543d611cccca4a6c099a23fcb0b"
   }
  }
 },
 "nbformat": 4,
 "nbformat_minor": 2
}
