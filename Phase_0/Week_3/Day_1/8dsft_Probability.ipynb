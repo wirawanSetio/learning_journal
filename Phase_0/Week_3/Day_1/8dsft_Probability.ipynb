{
 "cells": [
  {
   "cell_type": "markdown",
   "metadata": {},
   "source": [
    "# Ungraded Chellenge Statistic"
   ]
  },
  {
   "cell_type": "markdown",
   "metadata": {},
   "source": [
    "## Soal\n",
    "\n",
    "- Buatlah sebuah kode untuk mensimulasikan melempar koin sebanyak 50.000 kali dengan assign value random berupa 0 dan 1 untuk kepala atau ekor. Setiap kali koin dilempar, peluang untuk mendapatkan kepala atau ekor adalah 50%"
   ]
  },
  {
   "cell_type": "markdown",
   "metadata": {},
   "source": [
    "## Pengerjaan"
   ]
  },
  {
   "cell_type": "markdown",
   "metadata": {},
   "source": [
    "import random untuk random value antar 1 dan 0"
   ]
  },
  {
   "cell_type": "code",
   "execution_count": 1,
   "metadata": {},
   "outputs": [],
   "source": [
    "import random"
   ]
  },
  {
   "cell_type": "code",
   "execution_count": 34,
   "metadata": {},
   "outputs": [
    {
     "name": "stdout",
     "output_type": "stream",
     "text": [
      "Head : 50.132 %\n",
      "Tail : 49.868 %\n",
      "[25066, 24934]\n"
     ]
    }
   ],
   "source": [
    "flip_result = [0,0] # [head,tail]\n",
    "\n",
    "trials = 50000\n",
    "count_trial = 0\n",
    "\n",
    "while count_trial < trials:\n",
    "    count_trial += 1\n",
    "    \n",
    "    rand = random.randint(0,1)\n",
    "    flip_result[rand] = flip_result[rand] + 1\n",
    "\n",
    "sum = (flip_result[0] + flip_result[1])\n",
    "\n",
    "print(\"Head :\", (flip_result[0]/sum) * 100,'%')\n",
    "print(\"Tail :\", (flip_result[1]/sum) * 100,'%')\n",
    "print(flip_result)\n"
   ]
  },
  {
   "cell_type": "code",
   "execution_count": null,
   "metadata": {},
   "outputs": [],
   "source": []
  }
 ],
 "metadata": {
  "kernelspec": {
   "display_name": "Python 3.9.12 ('base')",
   "language": "python",
   "name": "python3"
  },
  "language_info": {
   "codemirror_mode": {
    "name": "ipython",
    "version": 3
   },
   "file_extension": ".py",
   "mimetype": "text/x-python",
   "name": "python",
   "nbconvert_exporter": "python",
   "pygments_lexer": "ipython3",
   "version": "3.9.12"
  },
  "orig_nbformat": 4,
  "vscode": {
   "interpreter": {
    "hash": "3c49ca66e5c8d57ef998acbc4445fda8afa39543d611cccca4a6c099a23fcb0b"
   }
  }
 },
 "nbformat": 4,
 "nbformat_minor": 2
}
