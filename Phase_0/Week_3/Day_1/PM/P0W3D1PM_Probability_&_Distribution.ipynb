{
  "cells": [
    {
      "cell_type": "markdown",
      "metadata": {
        "id": "XJ9vgCCIcg_V"
      },
      "source": [
        "Hi All, welcome to PM session of Week 3 Day 1 - Phase 0. Today we will learn about:\n",
        "\n",
        "\n",
        "1. Basic of Probability\n",
        "2. Conditional Events\n",
        "3. Random Variables\n",
        "4. PDF, PMF, and CDF\n",
        "5. Sampling and Sampling Distribution\n",
        "6. Central Limit Theorem\n",
        "\n",
        "Please enjoy the material and let's dig in!\n",
        "\n"
      ]
    },
    {
      "cell_type": "markdown",
      "metadata": {
        "id": "R5UdmZBXelR3"
      },
      "source": [
        "# Week 3: Day 1 PM // Probability"
      ]
    },
    {
      "cell_type": "markdown",
      "metadata": {
        "id": "A61Fz4wChbB5"
      },
      "source": [
        "Many of the problems we try to solve using statistics have something to do with *probability*. For example : \n",
        "* What's the probable salary for a graduate who scored a given score in their final exam at school? or, \n",
        "* What's the likely height of a child given the height of his or her parents?\n",
        "\n",
        "It is therefore makes sense to learn some basic principles of probability as we study statistics."
      ]
    },
    {
      "cell_type": "markdown",
      "metadata": {
        "id": "9hz9D0uYc6Yb"
      },
      "source": [
        "## A. Probability Basics"
      ]
    },
    {
      "cell_type": "markdown",
      "metadata": {
        "id": "wst_3cLzhh0F"
      },
      "source": [
        "---\n",
        "### A.1. Definitions"
      ]
    },
    {
      "cell_type": "markdown",
      "metadata": {
        "id": "cLq1eSFdZyaj"
      },
      "source": [
        "Terms : \n",
        "\n",
        "- An **experiment** or **trial** is **an action with an uncertain outcome**, such as tossing a coin.\n",
        "\n",
        "- A **sample space** is the **set of all possible outcomes** of an experiment. In a coin toss, there's a set of two possible oucomes (*heads* and *tails*).\n",
        "\n",
        "- A **sample point** is a **single possible outcome** - for example, *heads*.\n",
        "\n",
        "- An **event** is **a specific outome of single instance of an experiment** - for example, tossing a coin and getting *tails*.\n",
        "\n",
        "- **Probability** is **a value between 0 and 1** that indicates the likelihood of a particular event, with **0 meaning that the event is impossible**, and **1 meaning that the event is inevitable**. In general terms, it's calculated like this: \n",
        "\n",
        "> $\\begin{equation}\\text{probability of an event} = \\frac{\\text{Number of sample points that produce the event}}{\\text{Total number of sample points in the sample space}} \\end{equation}$\n",
        "\n",
        "For example, the probability of getting *heads* when tossing as coin is <sup>1</sup>/<sub>2</sub> - there is only one side of the coin that is designated *heads*. and there are two possible outcomes in the sample space (*heads* and *tails*). So the probability of getting *heads* in a single coin toss is 0.5 (or 50% when expressed as a percentage)."
      ]
    },
    {
      "cell_type": "markdown",
      "metadata": {
        "id": "Avcusp7rV-TB"
      },
      "source": [
        "---\n",
        "Let's look at another example. **Suppose you throw two dice, hoping to get 7.**\n",
        "\n",
        "* The throwing of dice itself is an *experiment* - you don't know the outome until the dice have landed and settled.\n",
        "\n",
        "* The *sample space* of all possible outcomes is every combination of two dice - 36 *sample points*: <img src=\"https://i.ibb.co/vvrjHPq/01-Dice.png\">\n",
        "\n",
        "* The *event* you want to happen is throwing a 7. \n",
        "\n",
        "* There are 6 *sample points* that could produce this event :\n",
        "  - `1 + 6`\n",
        "  - `2 + 5`\n",
        "  - `3 + 4`\n",
        "  - `4 + 3`\n",
        "  - `5 + 2`\n",
        "  - `6 + 1`\n",
        "\n",
        "* The *probability* of throwing a 7 is therefore <sup>6</sup>/<sub>36</sub> which can be simplified to <sup>1</sup>/<sub>6</sub> or approximately 0.167 (16.7%)."
      ]
    },
    {
      "cell_type": "markdown",
      "metadata": {
        "id": "lrsIzeFHfCqQ"
      },
      "source": [
        "---\n",
        "### A.2. Probability Notation"
      ]
    },
    {
      "cell_type": "markdown",
      "metadata": {
        "id": "vXQJOo8ufHPo"
      },
      "source": [
        "When we express probability, we use an upper-case `P` to indicate *probability* and an upper-case letter to represent the event. So to express the probability of throwing a 7 as an event called `A`, we could write:\n",
        "\n",
        "$$\n",
        "\\begin{equation}P(A) = 0.167 \\end{equation}\n",
        "$$\n"
      ]
    },
    {
      "cell_type": "markdown",
      "metadata": {
        "id": "L3udx5aPfLHQ"
      },
      "source": [
        "## B. The Complement of an Event"
      ]
    },
    {
      "cell_type": "markdown",
      "metadata": {
        "id": "7d3bs6zGfAek"
      },
      "source": [
        "The *complement* of an event is the **set of sample points that do not result in the event**.\n",
        "\n",
        "For example, **suppose you have a standard deck of playing cards, and you draw one card, hoping for a spade**. In this case :\n",
        "* The drawing of a card is the *experiment*.\n",
        "* The *event* is drawing a spade. \n",
        "* There are 13 cards of each suit in the deck. So the *sample space* contains 52 *sample points*: <img src='https://i.ibb.co/b3YJ6xZ/02-Cards.png'>\n",
        "* There are 13 *sample points* that would satisfy the requirements of the event (13 spade cards). \n",
        "* So the *probability* of the event (drawing a spade) is <sup>13</sup>/<sub>52</sub> which is <sup>1</sup>/<sub>4</sub> or 0.25 (25%).\n",
        "* The *complement* of the event is all of the possible outcomes that **don't result in drawing a spade**. <img src='https://i.ibb.co/FYNmZdP/02-Cards-02.png'>\n",
        "There are 39 sample points in the complement (3 x 13), so the probability of the complement is <sup>39</sup>/<sub>52</sub> which is <sup>3</sup>/<sub>4</sub> or 0.75 (75%).\n",
        "\n",
        "Note that the probability of an event and the probability of its complement ***always add up to 1***.\n",
        "\n"
      ]
    },
    {
      "cell_type": "markdown",
      "metadata": {
        "id": "wXJkhj_o2eh1"
      },
      "source": [
        "---\n",
        "This fact can be useful in some cases. For example, **suppose you throw two dice and want to know the probability of throwing more than 4**. \n",
        "\n",
        "* Method 1 : You could **count all of the outcomes that would produce this result**, but there are a lot of them. \n",
        "* Method 2 : It might be easier to **identify the ones that do not produce this result (in other words, the complement)**:\n",
        "\n",
        "Sample space : <img src=\"https://i.ibb.co/vvrjHPq/01-Dice.png\">\n",
        "\n",
        "Out of a total of 36 sample points in the sample space, there are 6 sample points where you throw a **4 or less** :\n",
        "\n",
        "* `1 + 1`\n",
        "* `1 + 2`\n",
        "* `1 + 3`\n",
        "* `2 + 1`\n",
        "* `2 + 2`\n",
        "* `3 + 1`\n",
        "\n",
        "So the probability of the complement is <sup>6</sup>/<sub>36</sub> which is <sup>1</sup>/<sub>6</sub> or approximately 0.167 (16.7%).\n",
        "\n",
        "Now, here's the clever bit. Since the probability of the complement and the event itself must add up to 1, the probability of the event must be **<sup>5</sup>/<sub>6</sub>** or **0.833** (**83.3%**).\n",
        "\n",
        "We indicate the complement of an event by adding a `'` to the letter assigned to it, so:\n",
        "\n",
        "$$\n",
        "\\begin{equation}P(A) = 1 - P(A') \\end{equation}\n",
        "$$"
      ]
    },
    {
      "cell_type": "markdown",
      "metadata": {
        "id": "Oaq9Uh-vfYHe"
      },
      "source": [
        "## C. Bias"
      ]
    },
    {
      "cell_type": "markdown",
      "metadata": {
        "id": "PylmQhpJfSvx"
      },
      "source": [
        "Often, the sample points in the sample space do not have the same probability, so there is a *bias* that makes **one outcome more likely than another**. For example, suppose your local weather forecaster indicates the predominant weather for each day of the week like this:\n",
        "\n",
        "<img src='https://i.ibb.co/NVgSM6P/03-Weather.png'>\n"
      ]
    },
    {
      "cell_type": "markdown",
      "metadata": {
        "id": "5N_MEEXi6V5M"
      },
      "source": [
        "---\n",
        "This forceast is pretty typical for your area at this time of the year. In fact, historically the weather is **sunny on 60% of days, cloudy on 30% of days, and rainy on only 10% of days**. On any given day, the sample space for the weather contains 3 sample points (*sunny*, *cloudy*, and *rainy*); but the probabities for these sample points are not the same.\n",
        "\n",
        "If we assign :\n",
        "* `A` : a sunny day event, \n",
        "* `B` : a cloudy day event, and \n",
        "* `C` : a rainy day event \n",
        "\n",
        "then we can write these probabilities like this:\n",
        "\n",
        "$$\n",
        "\\begin{equation}P(A)=0.6\\;\\;\\;\\; P(B)=0.3\\;\\;\\;\\; P(C)=0.1 \\end{equation}\n",
        "$$\n",
        "\n",
        "The complement of **A** (a sunny day) is any day where it is not sunny - it is either cloudy or rainy. We can work out the probability for this in two ways: \n",
        "\n",
        "* We can subtract the probablity of **A** from 1:\n",
        "$$\n",
        "\\begin{equation}P(A') = 1 - P(A) = 1 - 0.6 = 0.4 \\end{equation}\n",
        "$$\n",
        "\n",
        "* Or we can add together the probabilities for all events that do *not* result in a sunny day:\n",
        "$$\n",
        "\\begin{equation}P(A') = P(B) + P(C) = 0.3 + 0.1 = 0.4 \\end{equation}\n",
        "$$\n",
        "\n",
        "Either way, there's a 40% chance of it not being sunny!"
      ]
    },
    {
      "cell_type": "markdown",
      "metadata": {
        "id": "26bw630XcW3S"
      },
      "source": [
        "## D. Conditional Probability and Dependence"
      ]
    },
    {
      "cell_type": "markdown",
      "metadata": {
        "id": "vSQuDyP_Zyay"
      },
      "source": [
        "Events can be:\n",
        "- *Independent* (events that are not affected by other events)\n",
        "- *Dependent* (events that are conditional on other events)\n",
        "- *Mutually Exclusive* (events that can't occur together)"
      ]
    },
    {
      "cell_type": "markdown",
      "metadata": {
        "id": "vCN4r5beiW2k"
      },
      "source": [
        "### D.1. Independent Events"
      ]
    },
    {
      "cell_type": "markdown",
      "metadata": {
        "id": "zgwoSAKsi2WM"
      },
      "source": [
        "---\n",
        "#### Basic Principle"
      ]
    },
    {
      "cell_type": "markdown",
      "metadata": {
        "id": "LT2Cu4BaieLw"
      },
      "source": [
        "Imagine you toss a coin. The sample space contains two possible outomes:\n",
        "\n",
        "| Outcomes | Symbol |\n",
        "| --- | --- |\n",
        "| Head | <img src='https://i.ibb.co/pxkrkNF/04-Head.png'> |\n",
        "| Tail | <img src='https://i.ibb.co/hH7Ddfb/04-Tail.png'> |\n",
        "\n",
        "The probability of getting *heads* is <sup>1</sup>/<sub>2</sub>, and the probability of getting *tails* is also <sup>1</sup>/<sub>2</sub>. \n",
        "\n",
        "Let's toss a coin...\n",
        "\n",
        "<img src='https://i.ibb.co/pxkrkNF/04-Head.png'>\n",
        "\n",
        "OK, so we got *heads*. Now, let's toss the coin again:\n",
        "\n",
        "<img src='https://i.ibb.co/pxkrkNF/04-Head.png'>\n",
        "\n",
        "It looks like we got *heads* again. **If we were to toss the coin a third time, what's the probability that we'd get *heads*?**\n",
        "\n",
        "Although you might be tempted to think that a *tail* is overdue, the fact is that each coin toss is an independent event. **The outcome of the first coin toss does not affect the second coin toss (or the third, or any number of other coin tosses).** For each independent coin toss, the probability of getting *heads* (or *tails*) remains <sup>1</sup>/<sub>2</sub>, or 50%."
      ]
    },
    {
      "cell_type": "markdown",
      "metadata": {
        "id": "OMsiKO0iaH3l"
      },
      "source": [
        "---\n",
        "#### Simulation with Python"
      ]
    },
    {
      "cell_type": "markdown",
      "metadata": {
        "id": "2bZBRauYaT2s"
      },
      "source": [
        "Run the following Python code to simulate 10,000 coin tosses by assigning a random value of 0 or 1 to *heads* and *tails*. Each time the coin is tossed, the probability of getting *heads* or *tails* is 50%, so you should expect approximately half of the results to be *heads* and half to be *tails* (it won't be exactly half, due to a little random variation; but it should be close)"
      ]
    },
    {
      "cell_type": "code",
      "execution_count": 1,
      "metadata": {
        "colab": {
          "base_uri": "https://localhost:8080/",
          "height": 320
        },
        "id": "s_FujKa-Zya1",
        "outputId": "78a81664-5485-4405-fe4e-bbf66fe6f9e9"
      },
      "outputs": [
        {
          "name": "stdout",
          "output_type": "stream",
          "text": [
            "[4966, 5034]\n"
          ]
        },
        {
          "data": {
            "image/png": "[encoded data removed]",
            "text/plain": [
              "<Figure size 360x360 with 1 Axes>"
            ]
          },
          "metadata": {},
          "output_type": "display_data"
        }
      ],
      "source": [
        "%matplotlib inline\n",
        "import random\n",
        "\n",
        "# Create a list with 2 element (for heads and tails)\n",
        "heads_tails = [0,0]\n",
        "\n",
        "# loop through 10000 trials\n",
        "trials = 10000\n",
        "trial = 0\n",
        "while trial < trials:\n",
        "    trial = trial + 1\n",
        "    # Get a random 0 or 1\n",
        "    toss = random.randint(0,1)\n",
        "    # Increment the list element corresponding to the toss result\n",
        "    heads_tails[toss] = heads_tails[toss] + 1\n",
        "\n",
        "print (heads_tails)\n",
        "\n",
        "# Show a pie chart of the results\n",
        "from matplotlib import pyplot as plt\n",
        "plt.figure(figsize=(5,5))\n",
        "plt.pie(heads_tails, labels=['heads', 'tails'])\n",
        "plt.legend()\n",
        "plt.show()"
      ]
    },
    {
      "cell_type": "markdown",
      "metadata": {
        "id": "1vInc9PRf33f"
      },
      "source": [
        "---\n",
        "#### Combining Independent Events"
      ]
    },
    {
      "cell_type": "markdown",
      "metadata": {
        "id": "-YMdhza9Zya3"
      },
      "source": [
        "Now, let's ask a slightly different question. **What is the probability of getting three heads in a row?** Since the probability of a heads on each independent toss is <sup>1</sup>/<sub>2</sub>, you might be tempted to think that the same probability applies to getting three *heads* in a row; but actually, we need to treat getting three *heads* as it's own event, which is the combination of three independent events. **To combine independent events like this, we need to multiply the probability of each event.** So:\n",
        "\n",
        "<span style='font-size:48px;color:gold;'><sub>&#10050;</sub></span> = <sup>1</sup>/<sub>2</sub>\n",
        "\n",
        "<span style='font-size:48px;color:gold;'><sub>&#10050;&#10050;</sub></span> = <sup>1</sup>/<sub>2</sub> x <sup>1</sup>/<sub>2</sub>\n",
        "\n",
        "<span style='font-size:48px;color:gold;'><sub>&#10050;&#10050;&#10050;</sub></span> = <sup>1</sup>/<sub>2</sub> x <sup>1</sup>/<sub>2</sub> x <sup>1</sup>/<sub>2</sub>\n",
        "\n",
        "So the **probability of tossing three *heads* in a row is 0.5 x 0.5 x 0.5, which is 0.125 (or 12.5%).**"
      ]
    },
    {
      "cell_type": "markdown",
      "metadata": {
        "id": "epJ5hPD5jBOR"
      },
      "source": [
        "---\n",
        "#### Python Simulation"
      ]
    },
    {
      "cell_type": "markdown",
      "metadata": {
        "id": "y9N3iEwxjE6V"
      },
      "source": [
        "Run the code below to simulate 10,000 trials of flipping a coin three times:"
      ]
    },
    {
      "cell_type": "code",
      "execution_count": 2,
      "metadata": {
        "colab": {
          "base_uri": "https://localhost:8080/"
        },
        "id": "-tEMyJo2Zya4",
        "outputId": "61c413c2-d8b8-45c8-ca2e-7b085dd60132"
      },
      "outputs": [
        {
          "name": "stdout",
          "output_type": "stream",
          "text": [
            "12.99%\n",
            "[['H', 'H', 'T'], ['H', 'H', 'T'], ['H', 'T', 'H'], ['T', 'T', 'H'], ['T', 'H', 'H'], ['H', 'T', 'T'], ['H', 'T', 'T'], ['T', 'H', 'T'], ['T', 'H', 'H'], ['H', 'H', 'H'], ['T', 'H', 'T'], ['H', 'T', 'T'], ['H', 'H', 'H'], ['H', 'H', 'H'], ['T', 'H', 'H'], ['T', 'T', 'T'], ['H', 'H', 'T'], ['H', 'H', 'H'], ['H', 'T', 'T'], ['H', 'T', 'H'], ['T', 'H', 'T'], ['T', 'H', 'T'], ['T', 'T', 'H'], ['T', 'T', 'H'], ['T', 'H', 'T'], ['T', 'T', 'H'], ['H', 'H', 'T'], ['H', 'H', 'H'], ['H', 'H', 'T'], ['H', 'H', 'H'], ['H', 'T', 'H'], ['H', 'T', 'H'], ['T', 'H', 'T'], ['H', 'T', 'T'], ['T', 'T', 'T'], ['T', 'H', 'H'], ['H', 'T', 'T'], ['T', 'H', 'H'], ['T', 'T', 'H'], ['H', 'T', 'T'], ['H', 'H', 'T'], ['T', 'T', 'T'], ['T', 'H', 'H'], ['T', 'H', 'T'], ['H', 'H', 'T'], ['H', 'H', 'H'], ['H', 'H', 'H'], ['T', 'T', 'T'], ['T', 'T', 'T'], ['H', 'T', 'T'], ['H', 'H', 'T'], ['T', 'T', 'T'], ['H', 'H', 'T'], ['H', 'H', 'T'], ['T', 'H', 'T'], ['H', 'T', 'T'], ['T', 'H', 'H'], ['H', 'H', 'T'], ['H', 'T', 'H'], ['T', 'T', 'T'], ['T', 'H', 'T'], ['T', 'H', 'T'], ['H', 'T', 'H'], ['T', 'T', 'H'], ['T', 'H', 'T'], ['T', 'T', 'T'], ['T', 'T', 'T'], ['T', 'T', 'H'], ['H', 'H', 'H'], ['H', 'T', 'T'], ['T', 'H', 'H'], ['H', 'H', 'T'], ['H', 'H', 'T'], ['T', 'T', 'T'], ['H', 'T', 'H'], ['H', 'T', 'T'], ['H', 'H', 'T'], ['H', 'T', 'H'], ['H', 'T', 'H'], ['T', 'T', 'T'], ['T', 'T', 'T'], ['T', 'T', 'H'], ['H', 'T', 'T'], ['T', 'T', 'T'], ['H', 'H', 'T'], ['H', 'T', 'H'], ['H', 'H', 'H'], ['H', 'H', 'H'], ['T', 'H', 'T'], ['T', 'T', 'T'], ['T', 'T', 'T'], ['H', 'H', 'H'], ['T', 'T', 'T'], ['H', 'H', 'H'], ['T', 'T', 'T'], ['T', 'T', 'H'], ['H', 'H', 'H'], ['H', 'H', 'H'], ['T', 'H', 'T'], ['T', 'T', 'T'], ['H', 'H', 'T'], ['T', 'H', 'H'], ['T', 'H', 'T'], ['T', 'T', 'T'], ['H', 'H', 'H'], ['T', 'H', 'H'], ['H', 'H', 'H'], ['T', 'T', 'T'], ['T', 'T', 'H'], ['T', 'H', 'T'], ['T', 'H', 'T'], ['H', 'H', 'T'], ['H', 'T', 'T'], ['H', 'T', 'H'], ['T', 'H', 'T'], ['T', 'H', 'T'], ['H', 'H', 'H'], ['T', 'T', 'T'], ['H', 'T', 'H'], ['H', 'T', 'T'], ['T', 'T', 'T'], ['H', 'H', 'H'], ['H', 'H', 'T'], ['T', 'T', 'H'], ['T', 'T', 'T'], ['T', 'H', 'T'], ['T', 'T', 'H'], ['H', 'H', 'H'], ['H', 'T', 'T'], ['H', 'T', 'H'], ['T', 'T', 'H'], ['H', 'H', 'T'], ['T', 'T', 'T'], ['H', 'H', 'T'], ['T', 'T', 'H'], ['T', 'H', 'H'], ['H', 'T', 'H'], ['T', 'T', 'H'], ['T', 'T', 'H'], ['H', 'H', 'H'], ['T', 'H', 'T'], ['T', 'T', 'T'], ['T', 'T', 'T'], ['H', 'T', 'T'], ['H', 'H', 'H'], ['T', 'H', 'T'], ['T', 'T', 'H'], ['T', 'H', 'T'], ['H', 'H', 'H'], ['H', 'H', 'T'], ['T', 'T', 'H'], ['H', 'H', 'T'], ['T', 'H', 'T'], ['H', 'H', 'T'], ['H', 'H', 'T'], ['T', 'T', 'H'], ['H', 'T', 'T'], ['H', 'T', 'H'], ['H', 'T', 'H'], ['H', 'T', 'H'], ['T', 'H', 'T'], ['H', 'T', 'H'], ['T', 'H', 'H'], ['H', 'H', 'H'], ['T', 'T', 'H'], ['T', 'H', 'H'], ['T', 'H', 'H'], ['H', 'T', 'T'], ['T', 'H', 'H'], ['H', 'T', 'H'], ['H', 'T', 'T'], ['T', 'T', 'T'], ['H', 'T', 'H'], ['H', 'H', 'H'], ['H', 'H', 'T'], ['T', 'T', 'H'], ['H', 'T', 'H'], ['T', 'T', 'T'], ['T', 'H', 'T'], ['H', 'T', 'H'], ['H', 'H', 'H'], ['H', 'T', 'H'], ['T', 'T', 'H'], ['T', 'H', 'H'], ['T', 'H', 'T'], ['H', 'H', 'H'], ['H', 'T', 'T'], ['H', 'T', 'H'], ['T', 'H', 'H'], ['H', 'H', 'T'], ['H', 'T', 'T'], ['H', 'T', 'H'], ['H', 'H', 'T'], ['H', 'T', 'T'], ['T', 'H', 'H'], ['H', 'T', 'T'], ['T', 'H', 'T'], ['T', 'H', 'H'], ['T', 'T', 'T'], ['T', 'T', 'T'], ['H', 'H', 'H'], ['H', 'H', 'H'], ['H', 'H', 'H'], ['H', 'T', 'H'], ['H', 'T', 'H'], ['H', 'H', 'T'], ['T', 'H', 'H'], ['H', 'T', 'T'], ['H', 'T', 'T'], ['H', 'T', 'T'], ['H', 'H', 'T'], ['T', 'T', 'H'], ['T', 'H', 'H'], ['H', 'H', 'H'], ['T', 'T', 'H'], ['H', 'H', 'T'], ['H', 'T', 'T'], ['T', 'H', 'H'], ['T', 'T', 'H'], ['H', 'H', 'T'], ['T', 'H', 'H'], ['T', 'H', 'H'], ['T', 'T', 'H'], ['H', 'H', 'H'], ['T', 'T', 'H'], ['H', 'T', 'T'], ['T', 'T', 'T'], ['H', 'T', 'T'], ['T', 'H', 'T'], ['H', 'T', 'T'], ['H', 'H', 'T'], ['T', 'H', 'T'], ['H', 'H', 'H'], ['H', 'H', 'T'], ['T', 'H', 'T'], ['T', 'T', 'H'], ['T', 'T', 'T'], ['T', 'H', 'H'], ['T', 'H', 'T'], ['T', 'T', 'T'], ['H', 'T', 'T'], ['T', 'T', 'H'], ['T', 'H', 'H'], ['H', 'H', 'H'], ['T', 'T', 'T'], ['T', 'T', 'T'], ['T', 'H', 'T'], ['T', 'T', 'T'], ['H', 'H', 'T'], ['T', 'T', 'H'], ['H', 'T', 'H'], ['H', 'T', 'T'], ['T', 'H', 'T'], ['T', 'T', 'H'], ['T', 'T', 'H'], ['H', 'T', 'T'], ['T', 'T', 'H'], ['H', 'T', 'H'], ['H', 'H', 'T'], ['H', 'T', 'T'], ['T', 'T', 'H'], ['H', 'T', 'H'], ['H', 'H', 'T'], ['T', 'H', 'T'], ['T', 'T', 'T'], ['T', 'H', 'T'], ['T', 'H', 'H'], ['T', 'T', 'H'], ['T', 'T', 'T'], ['H', 'T', 'H'], ['H', 'H', 'H'], ['H', 'T', 'T'], ['T', 'T', 'T'], ['T', 'T', 'T'], ['T', 'T', 'H'], ['H', 'T', 'T'], ['T', 'H', 'H'], ['T', 'H', 'H'], ['H', 'T', 'H'], ['H', 'T', 'T'], ['T', 'H', 'H'], ['H', 'T', 'H'], ['H', 'H', 'T'], ['H', 'H', 'T'], ['H', 'H', 'T'], ['T', 'T', 'T'], ['T', 'H', 'H'], ['H', 'T', 'T'], ['H', 'T', 'T'], ['H', 'T', 'T'], ['T', 'T', 'T'], ['T', 'T', 'T'], ['H', 'T', 'H'], ['T', 'H', 'H'], ['T', 'H', 'H'], ['T', 'H', 'H'], ['H', 'H', 'H'], ['H', 'H', 'T'], ['H', 'T', 'T'], ['T', 'T', 'T'], ['T', 'H', 'H'], ['H', 'H', 'H'], ['T', 'T', 'H'], ['H', 'T', 'H'], ['H', 'T', 'T'], ['T', 'T', 'H'], ['T', 'T', 'T'], ['H', 'T', 'H'], ['H', 'T', 'T'], ['T', 'H', 'H'], ['T', 'T', 'T'], ['T', 'H', 'H'], ['T', 'T', 'H'], ['T', 'H', 'H'], ['H', 'T', 'T'], ['T', 'H', 'T'], ['T', 'T', 'H'], ['H', 'H', 'T'], ['T', 'H', 'H'], ['T', 'T', 'H'], ['T', 'H', 'T'], ['H', 'T', 'H'], ['T', 'H', 'H'], ['T', 'T', 'H'], ['H', 'T', 'H'], ['T', 'T', 'H'], ['H', 'H', 'T'], ['H', 'H', 'H'], ['H', 'H', 'H'], ['H', 'T', 'H'], ['T', 'T', 'H'], ['T', 'H', 'H'], ['H', 'T', 'H'], ['H', 'T', 'H'], ['H', 'H', 'H'], ['T', 'T', 'T'], ['T', 'H', 'H'], ['H', 'H', 'T'], ['H', 'H', 'T'], ['H', 'T', 'H'], ['T', 'T', 'H'], ['T', 'H', 'T'], ['T', 'H', 'H'], ['H', 'T', 'H'], ['T', 'H', 'T'], ['T', 'T', 'T'], ['T', 'H', 'H'], ['T', 'T', 'T'], ['T', 'T', 'H'], ['H', 'T', 'H'], ['T', 'H', 'H'], ['H', 'T', 'T'], ['H', 'H', 'T'], ['H', 'T', 'H'], ['H', 'T', 'H'], ['H', 'T', 'H'], ['H', 'T', 'H'], ['T', 'T', 'H'], ['H', 'H', 'H'], ['H', 'H', 'H'], ['T', 'T', 'T'], ['T', 'H', 'H'], ['T', 'T', 'H'], ['H', 'H', 'T'], ['H', 'T', 'H'], ['T', 'H', 'T'], ['T', 'H', 'H'], ['T', 'H', 'T'], ['T', 'T', 'T'], ['H', 'T', 'T'], ['H', 'H', 'T'], ['T', 'H', 'T'], ['T', 'T', 'T'], ['T', 'H', 'H'], ['H', 'H', 'T'], ['H', 'T', 'T'], ['T', 'H', 'T'], ['T', 'H', 'T'], ['T', 'T', 'H'], ['H', 'T', 'H'], ['T', 'T', 'H'], ['T', 'T', 'H'], ['H', 'T', 'T'], ['T', 'T', 'T'], ['T', 'T', 'T'], ['H', 'T', 'H'], ['H', 'T', 'T'], ['T', 'T', 'H'], ['H', 'H', 'H'], ['T', 'H', 'T'], ['H', 'H', 'T'], ['T', 'H', 'H'], ['H', 'T', 'T'], ['H', 'H', 'T'], ['H', 'T', 'T'], ['T', 'T', 'H'], ['H', 'H', 'T'], ['T', 'T', 'T'], ['H', 'H', 'H'], ['H', 'H', 'H'], ['T', 'T', 'T'], ['T', 'T', 'H'], ['H', 'T', 'T'], ['T', 'T', 'T'], ['H', 'H', 'H'], ['T', 'H', 'H'], ['T', 'H', 'H'], ['T', 'T', 'T'], ['H', 'T', 'H'], ['T', 'T', 'H'], ['H', 'H', 'H'], ['H', 'H', 'H'], ['H', 'T', 'H'], ['T', 'T', 'T'], ['T', 'T', 'H'], ['T', 'T', 'T'], ['H', 'H', 'H'], ['H', 'H', 'H'], ['T', 'H', 'H'], ['H', 'T', 'H'], ['H', 'H', 'T'], ['T', 'T', 'H'], ['T', 'T', 'T'], ['H', 'H', 'T'], ['T', 'T', 'T'], ['H', 'H', 'H'], ['H', 'T', 'H'], ['T', 'T', 'T'], ['T', 'H', 'T'], ['T', 'T', 'H'], ['H', 'H', 'T'], ['H', 'H', 'H'], ['H', 'H', 'T'], ['H', 'T', 'T'], ['T', 'T', 'H'], ['H', 'T', 'T'], ['H', 'H', 'H'], ['H', 'H', 'T'], ['H', 'H', 'H'], ['T', 'T', 'H'], ['H', 'H', 'T'], ['T', 'T', 'H'], ['T', 'T', 'T'], ['T', 'T', 'H'], ['H', 'H', 'T'], ['H', 'T', 'H'], ['T', 'T', 'H'], ['T', 'H', 'H'], ['T', 'T', 'T'], ['T', 'H', 'T'], ['H', 'H', 'T'], ['H', 'H', 'T'], ['H', 'T', 'H'], ['H', 'T', 'T'], ['T', 'H', 'H'], ['H', 'T', 'H'], ['H', 'H', 'T'], ['T', 'T', 'T'], ['H', 'T', 'T'], ['T', 'T', 'H'], ['H', 'H', 'H'], ['H', 'H', 'T'], ['H', 'T', 'H'], ['T', 'T', 'H'], ['H', 'T', 'H'], ['H', 'T', 'H'], ['H', 'T', 'H'], ['T', 'T', 'T'], ['H', 'T', 'T'], ['H', 'H', 'H'], ['H', 'H', 'T'], ['H', 'H', 'H'], ['H', 'T', 'T'], ['H', 'H', 'H'], ['T', 'H', 'H'], ['H', 'T', 'H'], ['H', 'H', 'T'], ['H', 'H', 'H'], ['T', 'H', 'T'], ['H', 'T', 'T'], ['T', 'T', 'H'], ['H', 'H', 'T'], ['H', 'H', 'H'], ['T', 'H', 'T'], ['T', 'T', 'H'], ['T', 'H', 'T'], ['T', 'T', 'T'], ['H', 'T', 'T'], ['T', 'H', 'T'], ['H', 'H', 'H'], ['T', 'T', 'H'], ['T', 'T', 'H'], ['H', 'H', 'T'], ['T', 'T', 'H'], ['T', 'H', 'H'], ['H', 'T', 'H'], ['T', 'T', 'H'], ['H', 'H', 'T'], ['H', 'T', 'T'], ['T', 'T', 'H'], ['H', 'H', 'H'], ['T', 'H', 'H'], ['T', 'H', 'H'], ['H', 'H', 'T'], ['T', 'T', 'T'], ['T', 'T', 'T'], ['H', 'H', 'H'], ['T', 'H', 'H'], ['H', 'T', 'H'], ['H', 'H', 'H'], ['T', 'T', 'T'], ['H', 'T', 'T'], ['T', 'T', 'T'], ['T', 'T', 'T'], ['H', 'T', 'H'], ['T', 'T', 'T'], ['T', 'H', 'T'], ['T', 'T', 'T'], ['T', 'H', 'H'], ['T', 'T', 'T'], ['H', 'H', 'T'], ['T', 'T', 'H'], ['T', 'T', 'H'], ['T', 'H', 'T'], ['H', 'T', 'H'], ['H', 'H', 'H'], ['T', 'T', 'T'], ['T', 'H', 'T'], ['T', 'H', 'H'], ['H', 'T', 'T'], ['H', 'T', 'H'], ['H', 'H', 'H'], ['H', 'H', 'T'], ['T', 'T', 'H'], ['T', 'T', 'H'], ['H', 'T', 'H'], ['T', 'T', 'T'], ['H', 'T', 'T'], ['T', 'T', 'H'], ['H', 'H', 'H'], ['T', 'T', 'T'], ['H', 'T', 'H'], ['T', 'H', 'T'], ['H', 'H', 'T'], ['H', 'H', 'T'], ['H', 'H', 'H'], ['H', 'H', 'H'], ['T', 'H', 'T'], ['H', 'H', 'T'], ['T', 'T', 'T'], ['H', 'T', 'T'], ['H', 'T', 'T'], ['H', 'T', 'T'], ['T', 'H', 'H'], ['T', 'H', 'T'], ['T', 'H', 'T'], ['T', 'H', 'T'], ['T', 'H', 'H'], ['T', 'H', 'H'], ['T', 'T', 'T'], ['T', 'H', 'H'], ['H', 'H', 'H'], ['T', 'T', 'H'], ['T', 'T', 'H'], ['H', 'T', 'T'], ['H', 'H', 'H'], ['H', 'H', 'T'], ['T', 'T', 'T'], ['T', 'H', 'T'], ['T', 'T', 'H'], ['T', 'T', 'T'], ['T', 'T', 'H'], ['T', 'T', 'H'], ['H', 'H', 'T'], ['T', 'H', 'T'], ['T', 'H', 'H'], ['T', 'T', 'H'], ['T', 'T', 'H'], ['T', 'T', 'H'], ['H', 'H', 'T'], ['T', 'H', 'H'], ['H', 'T', 'T'], ['T', 'T', 'T'], ['H', 'T', 'T'], ['T', 'T', 'H'], ['T', 'H', 'H'], ['T', 'T', 'H'], ['H', 'H', 'T'], ['T', 'H', 'T'], ['H', 'T', 'H'], ['H', 'H', 'H'], ['T', 'T', 'H'], ['T', 'H', 'T'], ['H', 'T', 'T'], ['T', 'H', 'T'], ['H', 'T', 'H'], ['T', 'T', 'T'], ['H', 'H', 'T'], ['H', 'T', 'T'], ['T', 'T', 'T'], ['T', 'T', 'T'], ['H', 'H', 'T'], ['H', 'H', 'H'], ['T', 'H', 'T'], ['H', 'T', 'H'], ['T', 'H', 'T'], ['H', 'T', 'T'], ['H', 'T', 'T'], ['T', 'H', 'H'], ['T', 'T', 'H'], ['T', 'H', 'H'], ['H', 'T', 'H'], ['H', 'H', 'H'], ['T', 'T', 'T'], ['H', 'H', 'T'], ['T', 'H', 'T'], ['H', 'T', 'T'], ['T', 'T', 'H'], ['T', 'H', 'H'], ['H', 'T', 'H'], ['H', 'H', 'H'], ['H', 'T', 'T'], ['T', 'T', 'H'], ['H', 'T', 'H'], ['H', 'H', 'H'], ['H', 'H', 'T'], ['H', 'H', 'T'], ['T', 'T', 'H'], ['H', 'H', 'H'], ['T', 'T', 'T'], ['H', 'H', 'T'], ['H', 'H', 'H'], ['H', 'T', 'T'], ['T', 'H', 'T'], ['T', 'T', 'H'], ['H', 'H', 'T'], ['T', 'T', 'H'], ['H', 'T', 'T'], ['H', 'T', 'T'], ['T', 'T', 'T'], ['T', 'H', 'H'], ['H', 'T', 'H'], ['H', 'H', 'H'], ['H', 'T', 'T'], ['T', 'H', 'T'], ['T', 'H', 'T'], ['T', 'H', 'H'], ['T', 'H', 'H'], ['T', 'H', 'T'], ['H', 'H', 'T'], ['T', 'T', 'T'], ['H', 'H', 'T'], ['H', 'T', 'H'], ['H', 'H', 'T'], ['H', 'H', 'H'], ['H', 'H', 'H'], ['H', 'H', 'H'], ['H', 'T', 'H'], ['H', 'H', 'H'], ['T', 'H', 'H'], ['T', 'T', 'T'], ['H', 'T', 'H'], ['H', 'T', 'T'], ['T', 'H', 'T'], ['T', 'H', 'H'], ['T', 'H', 'T'], ['T', 'T', 'H'], ['T', 'T', 'T'], ['T', 'T', 'H'], ['T', 'T', 'T'], ['T', 'T', 'H'], ['H', 'H', 'H'], ['H', 'T', 'T'], ['T', 'H', 'H'], ['T', 'H', 'H'], ['H', 'H', 'H'], ['H', 'T', 'T'], ['H', 'T', 'H'], ['T', 'H', 'H'], ['H', 'T', 'T'], ['H', 'T', 'T'], ['H', 'H', 'T'], ['T', 'H', 'H'], ['H', 'T', 'H'], ['T', 'T', 'H'], ['T', 'H', 'T'], ['H', 'H', 'H'], ['H', 'T', 'T'], ['T', 'T', 'H'], ['T', 'H', 'T'], ['T', 'H', 'H'], ['H', 'H', 'H'], ['H', 'T', 'T'], ['H', 'T', 'H'], ['H', 'T', 'T'], ['T', 'T', 'T'], ['T', 'T', 'T'], ['T', 'H', 'T'], ['H', 'H', 'T'], ['H', 'H', 'T'], ['T', 'T', 'T'], ['H', 'H', 'T'], ['H', 'T', 'T'], ['H', 'H', 'H'], ['T', 'T', 'H'], ['T', 'H', 'T'], ['H', 'T', 'T'], ['H', 'H', 'H'], ['H', 'T', 'H'], ['T', 'H', 'H'], ['T', 'T', 'H'], ['T', 'H', 'T'], ['T', 'H', 'T'], ['H', 'T', 'T'], ['H', 'T', 'H'], ['H', 'T', 'T'], ['H', 'T', 'T'], ['H', 'T', 'T'], ['H', 'T', 'H'], ['H', 'T', 'H'], ['T', 'H', 'H'], ['T', 'H', 'H'], ['T', 'H', 'T'], ['H', 'H', 'H'], ['H', 'H', 'H'], ['H', 'T', 'T'], ['H', 'T', 'H'], ['H', 'H', 'H'], ['T', 'H', 'H'], ['T', 'T', 'H'], ['H', 'H', 'H'], ['T', 'H', 'T'], ['H', 'T', 'T'], ['H', 'T', 'H'], ['H', 'H', 'T'], ['T', 'T', 'H'], ['H', 'H', 'H'], ['T', 'H', 'T'], ['H', 'H', 'H'], ['T', 'H', 'T'], ['H', 'H', 'T'], ['T', 'T', 'T'], ['T', 'H', 'H'], ['T', 'T', 'H'], ['T', 'H', 'H'], ['H', 'H', 'H'], ['T', 'H', 'T'], ['T', 'T', 'H'], ['H', 'H', 'H'], ['T', 'T', 'H'], ['T', 'H', 'T'], ['H', 'T', 'H'], ['H', 'H', 'T'], ['T', 'T', 'T'], ['H', 'T', 'T'], ['H', 'T', 'H'], ['H', 'T', 'H'], ['H', 'T', 'H'], ['T', 'T', 'H'], ['H', 'H', 'H'], ['H', 'T', 'T'], ['H', 'H', 'H'], ['H', 'T', 'T'], ['H', 'H', 'H'], ['H', 'H', 'H'], ['T', 'H', 'T'], ['T', 'H', 'H'], ['H', 'T', 'T'], ['T', 'H', 'H'], ['T', 'H', 'T'], ['T', 'H', 'H'], ['T', 'T', 'T'], ['T', 'H', 'H'], ['T', 'T', 'T'], ['T', 'H', 'H'], ['H', 'H', 'H'], ['T', 'H', 'T'], ['T', 'T', 'T'], ['T', 'T', 'T'], ['T', 'H', 'T'], ['H', 'T', 'T'], ['T', 'H', 'T'], ['T', 'H', 'H'], ['H', 'H', 'H'], ['T', 'T', 'T'], ['T', 'H', 'H'], ['H', 'H', 'H'], ['T', 'T', 'H'], ['H', 'T', 'H'], ['H', 'T', 'T'], ['H', 'T', 'H'], ['T', 'T', 'H'], ['T', 'T', 'T'], ['H', 'H', 'H'], ['T', 'H', 'H'], ['T', 'T', 'T'], ['T', 'H', 'T'], ['T', 'H', 'H'], ['T', 'H', 'T'], ['T', 'H', 'H'], ['H', 'T', 'T'], ['H', 'T', 'T'], ['H', 'H', 'T'], ['H', 'H', 'T'], ['T', 'H', 'T'], ['H', 'T', 'H'], ['H', 'T', 'H'], ['T', 'H', 'H'], ['H', 'H', 'H'], ['T', 'T', 'H'], ['T', 'H', 'T'], ['H', 'T', 'T'], ['H', 'H', 'H'], ['T', 'T', 'H'], ['T', 'T', 'H'], ['H', 'T', 'H'], ['T', 'H', 'H'], ['H', 'T', 'T'], ['T', 'T', 'H'], ['T', 'H', 'T'], ['H', 'T', 'H'], ['H', 'H', 'H'], ['T', 'T', 'T'], ['H', 'H', 'T'], ['H', 'H', 'T'], ['T', 'T', 'T'], ['H', 'H', 'T'], ['T', 'T', 'H'], ['T', 'H', 'H'], ['T', 'H', 'H'], ['H', 'H', 'T'], ['H', 'T', 'T'], ['T', 'H', 'H'], ['T', 'H', 'H'], ['T', 'H', 'T'], ['T', 'T', 'H'], ['H', 'T', 'H'], ['T', 'T', 'H'], ['H', 'H', 'H'], ['T', 'H', 'T'], ['H', 'T', 'T'], ['T', 'T', 'H'], ['H', 'H', 'T'], ['T', 'H', 'H'], ['T', 'T', 'H'], ['H', 'T', 'T'], ['T', 'H', 'T'], ['H', 'H', 'T'], ['T', 'H', 'T'], ['T', 'T', 'T'], ['T', 'H', 'H'], ['H', 'T', 'H'], ['T', 'T', 'H'], ['T', 'T', 'H'], ['T', 'H', 'H'], ['T', 'T', 'T'], ['H', 'H', 'H'], ['T', 'H', 'H'], ['H', 'H', 'H'], ['T', 'T', 'T'], ['H', 'H', 'H'], ['H', 'H', 'T'], ['T', 'H', 'H'], ['T', 'H', 'H'], ['H', 'T', 'H'], ['T', 'H', 'H'], ['T', 'T', 'T'], ['T', 'T', 'T'], ['H', 'T', 'H'], ['T', 'H', 'H'], ['T', 'H', 'T'], ['H', 'H', 'H'], ['T', 'H', 'H'], ['H', 'T', 'H'], ['T', 'T', 'T'], ['T', 'H', 'T'], ['T', 'H', 'T'], ['H', 'H', 'H'], ['T', 'T', 'T'], ['H', 'H', 'H'], ['H', 'H', 'T'], ['H', 'H', 'T'], ['T', 'H', 'H'], ['H', 'T', 'T'], ['T', 'T', 'T'], ['T', 'H', 'H'], ['T', 'T', 'H'], ['H', 'T', 'T'], ['H', 'H', 'T'], ['T', 'H', 'H'], ['H', 'H', 'H'], ['T', 'H', 'T'], ['H', 'H', 'T'], ['T', 'H', 'H'], ['T', 'H', 'H'], ['T', 'H', 'T'], ['H', 'T', 'T'], ['T', 'H', 'T'], ['H', 'T', 'T'], ['T', 'H', 'H'], ['T', 'H', 'H'], ['H', 'T', 'T'], ['H', 'H', 'T'], ['T', 'T', 'H'], ['H', 'H', 'T'], ['T', 'H', 'H'], ['T', 'T', 'H'], ['H', 'T', 'H'], ['T', 'T', 'T'], ['T', 'H', 'H'], ['H', 'T', 'H'], ['H', 'H', 'H'], ['H', 'T', 'H'], ['T', 'H', 'T'], ['H', 'T', 'H'], ['H', 'T', 'T'], ['H', 'T', 'H'], ['T', 'H', 'H'], ['T', 'T', 'H'], ['H', 'T', 'T'], ['T', 'T', 'T'], ['H', 'T', 'T'], ['T', 'T', 'T'], ['T', 'H', 'H'], ['T', 'H', 'T'], ['H', 'T', 'T'], ['T', 'H', 'T'], ['H', 'H', 'T'], ['H', 'H', 'T'], ['H', 'T', 'T'], ['T', 'T', 'H'], ['H', 'H', 'H'], ['H', 'T', 'T'], ['T', 'T', 'T'], ['T', 'H', 'H'], ['H', 'T', 'H'], ['T', 'T', 'T'], ['H', 'T', 'T'], ['H', 'H', 'H'], ['T', 'H', 'T'], ['H', 'H', 'T'], ['T', 'T', 'H'], ['H', 'H', 'T'], ['H', 'H', 'H'], ['H', 'H', 'H'], ['H', 'T', 'H'], ['H', 'H', 'H'], ['T', 'H', 'T'], ['T', 'T', 'T'], ['T', 'H', 'H'], ['T', 'T', 'H'], ['T', 'T', 'T'], ['T', 'T', 'T'], ['H', 'H', 'H'], ['T', 'T', 'H'], ['H', 'H', 'T'], ['T', 'T', 'H'], ['T', 'H', 'T'], ['T', 'T', 'T'], ['H', 'H', 'T'], ['T', 'H', 'H'], ['T', 'T', 'H'], ['T', 'H', 'T'], ['T', 'H', 'H'], ['T', 'T', 'H'], ['H', 'T', 'H'], ['T', 'T', 'T'], ['H', 'H', 'T'], ['H', 'H', 'T'], ['H', 'H', 'T'], ['H', 'T', 'H'], ['T', 'T', 'T'], ['T', 'T', 'T'], ['H', 'H', 'T'], ['H', 'T', 'T'], ['H', 'T', 'H'], ['H', 'T', 'H'], ['T', 'H', 'T'], ['H', 'H', 'T'], ['T', 'T', 'H'], ['H', 'T', 'H'], ['H', 'H', 'T'], ['T', 'T', 'H'], ['T', 'T', 'T'], ['H', 'T', 'T'], ['T', 'T', 'H'], ['H', 'T', 'H'], ['T', 'T', 'T'], ['T', 'T', 'T'], ['T', 'T', 'T'], ['T', 'H', 'H'], ['H', 'H', 'H'], ['T', 'H', 'H'], ['T', 'T', 'T'], ['H', 'H', 'H'], ['H', 'H', 'H'], ['T', 'T', 'H'], ['T', 'H', 'H'], ['H', 'T', 'H'], ['T', 'T', 'T'], ['H', 'T', 'H'], ['H', 'T', 'H'], ['H', 'H', 'H'], ['H', 'T', 'T'], ['T', 'H', 'H'], ['T', 'T', 'H'], ['T', 'T', 'T'], ['T', 'T', 'H'], ['H', 'T', 'T'], ['H', 'H', 'T'], ['H', 'H', 'H'], ['H', 'H', 'H'], ['T', 'T', 'H'], ['T', 'T', 'T'], ['T', 'H', 'T'], ['T', 'H', 'H'], ['H', 'H', 'H'], ['H', 'H', 'H'], ['H', 'H', 'H'], ['H', 'T', 'H'], ['H', 'H', 'H'], ['H', 'T', 'T'], ['T', 'H', 'H'], ['H', 'T', 'T'], ['T', 'T', 'H'], ['T', 'H', 'H'], ['T', 'T', 'H'], ['T', 'H', 'H'], ['H', 'T', 'T'], ['H', 'H', 'T'], ['T', 'H', 'H'], ['T', 'T', 'H'], ['H', 'H', 'H'], ['T', 'H', 'T'], ['T', 'H', 'T'], ['T', 'H', 'H'], ['T', 'T', 'H'], ['T', 'T', 'H'], ['T', 'T', 'T'], ['H', 'H', 'T'], ['T', 'T', 'H'], ['T', 'T', 'T'], ['T', 'H', 'T'], ['T', 'T', 'H'], ['T', 'H', 'T'], ['H', 'T', 'T'], ['T', 'H', 'T'], ['H', 'T', 'T'], ['H', 'H', 'T'], ['T', 'T', 'T'], ['T', 'T', 'T'], ['T', 'H', 'H'], ['H', 'T', 'T'], ['T', 'T', 'T'], ['H', 'H', 'T'], ['H', 'T', 'H'], ['T', 'T', 'H'], ['H', 'H', 'H'], ['T', 'T', 'H'], ['T', 'T', 'H'], ['T', 'H', 'H'], ['H', 'T', 'H'], ['H', 'H', 'T'], ['H', 'T', 'T'], ['H', 'H', 'H'], ['H', 'H', 'H'], ['H', 'T', 'H'], ['H', 'H', 'T'], ['H', 'T', 'T'], ['H', 'T', 'T'], ['T', 'T', 'H'], ['T', 'H', 'H'], ['H', 'H', 'H'], ['T', 'T', 'T'], ['T', 'T', 'T'], ['H', 'T', 'H'], ['H', 'T', 'H'], ['H', 'H', 'T'], ['T', 'H', 'T'], ['T', 'T', 'T'], ['T', 'H', 'H'], ['T', 'H', 'H'], ['T', 'T', 'T'], ['H', 'H', 'T'], ['H', 'H', 'H'], ['H', 'H', 'T'], ['H', 'T', 'H'], ['T', 'T', 'T'], ['H', 'T', 'T'], ['T', 'H', 'T'], ['H', 'T', 'T'], ['T', 'T', 'H'], ['H', 'H', 'T'], ['T', 'T', 'T'], ['T', 'H', 'T'], ['T', 'T', 'H'], ['H', 'H', 'H'], ['H', 'H', 'H'], ['T', 'T', 'T'], ['T', 'T', 'T'], ['H', 'H', 'T'], ['T', 'H', 'T'], ['T', 'H', 'T'], ['H', 'H', 'T'], ['H', 'T', 'T'], ['H', 'T', 'H'], ['H', 'T', 'T'], ['T', 'T', 'H'], ['T', 'H', 'T'], ['H', 'T', 'T'], ['T', 'T', 'T'], ['T', 'H', 'H'], ['H', 'H', 'T'], ['H', 'H', 'T'], ['T', 'T', 'H'], ['H', 'H', 'T'], ['T', 'T', 'H'], ['H', 'T', 'T'], ['H', 'T', 'T'], ['H', 'T', 'H'], ['T', 'T', 'T'], ['H', 'T', 'T'], ['T', 'T', 'T'], ['T', 'T', 'T'], ['H', 'T', 'H'], ['T', 'H', 'T'], ['H', 'H', 'T'], ['H', 'T', 'T'], ['H', 'T', 'H'], ['H', 'T', 'T'], ['H', 'T', 'H'], ['H', 'H', 'H'], ['H', 'T', 'T'], ['T', 'H', 'H'], ['T', 'H', 'H'], ['H', 'T', 'H'], ['H', 'H', 'T'], ['H', 'H', 'H'], ['T', 'H', 'T'], ['H', 'T', 'T'], ['H', 'H', 'T'], ['H', 'H', 'T'], ['H', 'T', 'T'], ['T', 'T', 'T'], ['T', 'T', 'H'], ['T', 'T', 'T'], ['H', 'T', 'T'], ['T', 'T', 'H'], ['H', 'H', 'T'], ['H', 'H', 'T'], ['T', 'H', 'H'], ['H', 'H', 'H'], ['H', 'T', 'H'], ['H', 'T', 'H'], ['T', 'T', 'H'], ['T', 'T', 'T'], ['T', 'T', 'H'], ['H', 'H', 'H'], ['T', 'H', 'T'], ['H', 'H', 'H'], ['T', 'H', 'T'], ['H', 'T', 'H'], ['T', 'H', 'T'], ['T', 'T', 'T'], ['H', 'H', 'T'], ['T', 'T', 'H'], ['H', 'H', 'H'], ['H', 'H', 'H'], ['T', 'H', 'T'], ['H', 'H', 'T'], ['T', 'H', 'H'], ['H', 'H', 'H'], ['H', 'H', 'H'], ['T', 'H', 'H'], ['H', 'T', 'T'], ['H', 'T', 'H'], ['T', 'H', 'T'], ['H', 'T', 'T'], ['H', 'T', 'T'], ['H', 'H', 'T'], ['T', 'H', 'T'], ['H', 'H', 'T'], ['T', 'H', 'T'], ['H', 'H', 'T'], ['H', 'T', 'T'], ['T', 'T', 'T'], ['T', 'T', 'H'], ['H', 'H', 'H'], ['H', 'T', 'H'], ['T', 'H', 'T'], ['T', 'T', 'H'], ['H', 'T', 'T'], ['T', 'T', 'H'], ['T', 'H', 'H'], ['T', 'H', 'T'], ['T', 'H', 'T'], ['T', 'T', 'H'], ['T', 'T', 'T'], ['H', 'T', 'T'], ['T', 'T', 'T'], ['H', 'H', 'H'], ['T', 'H', 'T'], ['T', 'H', 'T'], ['H', 'H', 'T'], ['T', 'H', 'T'], ['H', 'T', 'H'], ['H', 'T', 'H'], ['T', 'H', 'T'], ['T', 'H', 'T'], ['H', 'T', 'T'], ['T', 'T', 'H'], ['T', 'T', 'T'], ['H', 'T', 'T'], ['H', 'H', 'H'], ['H', 'H', 'T'], ['H', 'H', 'T'], ['H', 'H', 'H'], ['T', 'T', 'H'], ['T', 'H', 'T'], ['H', 'T', 'T'], ['H', 'H', 'T'], ['H', 'T', 'H'], ['H', 'H', 'T'], ['H', 'T', 'T'], ['T', 'H', 'T'], ['T', 'T', 'H'], ['H', 'T', 'T'], ['H', 'H', 'H'], ['T', 'H', 'T'], ['H', 'H', 'H'], ['H', 'H', 'T'], ['T', 'T', 'T'], ['H', 'H', 'H'], ['T', 'T', 'H'], ['H', 'H', 'H'], ['H', 'H', 'H'], ['T', 'H', 'H'], ['H', 'H', 'T'], ['H', 'T', 'H'], ['H', 'T', 'T'], ['T', 'T', 'T'], ['H', 'H', 'T'], ['H', 'H', 'T'], ['T', 'H', 'T'], ['T', 'T', 'H'], ['T', 'T', 'T'], ['T', 'T', 'H'], ['H', 'H', 'H'], ['T', 'T', 'T'], ['H', 'H', 'T'], ['H', 'H', 'H'], ['T', 'T', 'H'], ['T', 'T', 'T'], ['T', 'H', 'T'], ['T', 'H', 'T'], ['T', 'T', 'H'], ['H', 'T', 'T'], ['H', 'T', 'H'], ['H', 'T', 'H'], ['T', 'H', 'H'], ['T', 'H', 'H'], ['T', 'T', 'H'], ['H', 'H', 'H'], ['H', 'T', 'T'], ['T', 'T', 'T'], ['T', 'T', 'H'], ['H', 'H', 'H'], ['H', 'H', 'H'], ['T', 'H', 'T'], ['H', 'T', 'T'], ['T', 'T', 'T'], ['H', 'T', 'T'], ['H', 'T', 'T'], ['T', 'H', 'H'], ['T', 'H', 'T'], ['T', 'T', 'H'], ['T', 'H', 'T'], ['H', 'H', 'T'], ['H', 'H', 'H'], ['H', 'T', 'H'], ['H', 'H', 'T'], ['T', 'H', 'H'], ['T', 'H', 'H'], ['H', 'H', 'T'], ['H', 'H', 'H'], ['T', 'T', 'T'], ['T', 'H', 'H'], ['H', 'T', 'T'], ['H', 'H', 'T'], ['T', 'H', 'T'], ['T', 'T', 'H'], ['T', 'T', 'T'], ['T', 'T', 'H'], ['H', 'H', 'H'], ['T', 'T', 'T'], ['T', 'T', 'T'], ['T', 'H', 'T'], ['H', 'T', 'H'], ['H', 'T', 'H'], ['T', 'T', 'H'], ['T', 'H', 'H'], ['T', 'T', 'T'], ['T', 'H', 'H'], ['T', 'H', 'T'], ['T', 'T', 'H'], ['T', 'T', 'T'], ['T', 'H', 'H'], ['H', 'T', 'H'], ['T', 'H', 'H'], ['T', 'H', 'T'], ['H', 'H', 'T'], ['T', 'T', 'H'], ['T', 'T', 'T'], ['H', 'T', 'H'], ['T', 'H', 'T'], ['T', 'H', 'H'], ['H', 'T', 'T'], ['H', 'T', 'T'], ['T', 'T', 'H'], ['T', 'T', 'H'], ['H', 'T', 'H'], ['T', 'H', 'H'], ['T', 'H', 'H'], ['T', 'H', 'T'], ['T', 'H', 'H'], ['H', 'T', 'T'], ['H', 'H', 'T'], ['H', 'H', 'T'], ['H', 'T', 'H'], ['H', 'H', 'H'], ['T', 'T', 'H'], ['T', 'T', 'H'], ['H', 'H', 'T'], ['T', 'H', 'H'], ['T', 'H', 'H'], ['T', 'H', 'H'], ['H', 'H', 'H'], ['H', 'H', 'H'], ['T', 'H', 'T'], ['H', 'T', 'T'], ['T', 'H', 'H'], ['T', 'H', 'H'], ['H', 'H', 'T'], ['T', 'H', 'H'], ['T', 'T', 'H'], ['H', 'H', 'H'], ['H', 'H', 'T'], ['H', 'H', 'T'], ['T', 'T', 'T'], ['H', 'T', 'T'], ['T', 'T', 'H'], ['H', 'H', 'T'], ['T', 'H', 'H'], ['T', 'H', 'H'], ['H', 'H', 'H'], ['H', 'T', 'T'], ['H', 'H', 'T'], ['T', 'T', 'T'], ['T', 'H', 'H'], ['T', 'T', 'H'], ['H', 'T', 'H'], ['T', 'H', 'H'], ['T', 'H', 'T'], ['T', 'H', 'H'], ['T', 'T', 'T'], ['T', 'T', 'H'], ['H', 'T', 'H'], ['H', 'T', 'T'], ['T', 'H', 'T'], ['H', 'T', 'H'], ['H', 'H', 'T'], ['T', 'H', 'T'], ['T', 'H', 'H'], ['T', 'T', 'H'], ['T', 'T', 'H'], ['T', 'H', 'H'], ['H', 'T', 'T'], ['T', 'H', 'H'], ['T', 'T', 'H'], ['H', 'T', 'H'], ['H', 'T', 'H'], ['T', 'H', 'H'], ['T', 'T', 'H'], ['H', 'H', 'T'], ['H', 'H', 'T'], ['T', 'T', 'T'], ['H', 'T', 'H'], ['H', 'T', 'T'], ['H', 'T', 'T'], ['T', 'T', 'H'], ['H', 'H', 'T'], ['H', 'H', 'H'], ['H', 'H', 'T'], ['H', 'T', 'T'], ['T', 'H', 'T'], ['H', 'T', 'H'], ['H', 'H', 'T'], ['T', 'T', 'H'], ['T', 'H', 'T'], ['H', 'H', 'H'], ['H', 'H', 'T'], ['T', 'H', 'T'], ['T', 'H', 'H'], ['H', 'T', 'H'], ['H', 'T', 'H'], ['H', 'T', 'T'], ['T', 'H', 'T'], ['H', 'H', 'H'], ['H', 'H', 'T'], ['H', 'T', 'T'], ['T', 'T', 'H'], ['H', 'T', 'H'], ['T', 'H', 'T'], ['H', 'T', 'T'], ['H', 'H', 'T'], ['H', 'H', 'T'], ['H', 'H', 'H'], ['H', 'T', 'H'], ['T', 'T', 'T'], ['H', 'H', 'T'], ['T', 'H', 'H'], ['T', 'H', 'T'], ['H', 'H', 'H'], ['T', 'H', 'T'], ['H', 'T', 'T'], ['T', 'H', 'T'], ['H', 'H', 'H'], ['H', 'T', 'H'], ['T', 'H', 'T'], ['H', 'H', 'T'], ['H', 'H', 'H'], ['H', 'T', 'T'], ['H', 'T', 'H'], ['H', 'T', 'T'], ['T', 'T', 'T'], ['H', 'T', 'T'], ['T', 'H', 'T'], ['H', 'H', 'T'], ['H', 'T', 'T'], ['H', 'H', 'T'], ['T', 'H', 'T'], ['H', 'H', 'H'], ['T', 'H', 'T'], ['T', 'H', 'H'], ['H', 'H', 'H'], ['H', 'T', 'T'], ['T', 'T', 'H'], ['H', 'T', 'T'], ['H', 'T', 'H'], ['H', 'H', 'H'], ['T', 'H', 'H'], ['H', 'T', 'T'], ['T', 'H', 'T'], ['H', 'H', 'T'], ['H', 'T', 'T'], ['H', 'T', 'H'], ['H', 'H', 'H'], ['H', 'H', 'H'], ['T', 'T', 'H'], ['T', 'H', 'H'], ['T', 'T', 'T'], ['H', 'H', 'T'], ['H', 'H', 'H'], ['H', 'T', 'T'], ['T', 'T', 'H'], ['T', 'H', 'T'], ['T', 'T', 'T'], ['H', 'H', 'T'], ['T', 'T', 'H'], ['T', 'T', 'T'], ['T', 'H', 'T'], ['H', 'H', 'H'], ['T', 'H', 'T'], ['H', 'T', 'T'], ['H', 'H', 'H'], ['T', 'H', 'T'], ['H', 'T', 'T'], ['T', 'T', 'H'], ['H', 'H', 'H'], ['T', 'H', 'T'], ['T', 'H', 'H'], ['T', 'T', 'T'], ['T', 'H', 'T'], ['H', 'T', 'T'], ['H', 'H', 'H'], ['T', 'T', 'T'], ['H', 'T', 'T'], ['H', 'T', 'H'], ['T', 'T', 'T'], ['T', 'T', 'T'], ['H', 'H', 'T'], ['T', 'T', 'T'], ['H', 'H', 'T'], ['H', 'T', 'H'], ['T', 'T', 'H'], ['T', 'H', 'H'], ['H', 'T', 'T'], ['H', 'H', 'T'], ['H', 'T', 'H'], ['H', 'H', 'H'], ['H', 'H', 'T'], ['H', 'H', 'T'], ['H', 'T', 'T'], ['T', 'H', 'H'], ['H', 'T', 'T'], ['T', 'H', 'H'], ['H', 'H', 'T'], ['H', 'H', 'T'], ['T', 'H', 'T'], ['H', 'H', 'H'], ['H', 'T', 'H'], ['H', 'H', 'T'], ['T', 'H', 'H'], ['T', 'H', 'H'], ['H', 'H', 'H'], ['H', 'H', 'T'], ['T', 'T', 'H'], ['T', 'T', 'T'], ['T', 'H', 'H'], ['H', 'H', 'H'], ['T', 'T', 'T'], ['T', 'H', 'T'], ['T', 'H', 'H'], ['T', 'T', 'T'], ['T', 'T', 'H'], ['H', 'T', 'T'], ['H', 'H', 'T'], ['H', 'H', 'H'], ['T', 'H', 'H'], ['H', 'H', 'H'], ['T', 'H', 'T'], ['H', 'H', 'T'], ['T', 'T', 'H'], ['T', 'H', 'T'], ['H', 'T', 'H'], ['H', 'H', 'H'], ['T', 'H', 'H'], ['H', 'T', 'T'], ['H', 'T', 'H'], ['H', 'H', 'H'], ['T', 'H', 'T'], ['H', 'H', 'H'], ['T', 'T', 'H'], ['T', 'T', 'H'], ['T', 'H', 'T'], ['T', 'H', 'H'], ['H', 'H', 'H'], ['T', 'T', 'T'], ['H', 'T', 'H'], ['T', 'H', 'T'], ['H', 'T', 'H'], ['H', 'H', 'H'], ['T', 'H', 'T'], ['T', 'H', 'T'], ['H', 'H', 'T'], ['T', 'H', 'H'], ['H', 'H', 'H'], ['T', 'T', 'T'], ['T', 'H', 'H'], ['H', 'T', 'T'], ['T', 'T', 'T'], ['T', 'H', 'H'], ['T', 'T', 'T'], ['H', 'H', 'T'], ['T', 'H', 'T'], ['T', 'H', 'H'], ['T', 'H', 'T'], ['H', 'T', 'H'], ['T', 'H', 'T'], ['T', 'H', 'T'], ['T', 'H', 'H'], ['H', 'T', 'H'], ['H', 'T', 'H'], ['H', 'T', 'T'], ['H', 'T', 'T'], ['H', 'T', 'T'], ['H', 'T', 'H'], ['T', 'T', 'H'], ['H', 'T', 'T'], ['T', 'T', 'T'], ['T', 'H', 'H'], ['H', 'T', 'T'], ['T', 'T', 'T'], ['H', 'H', 'T'], ['H', 'T', 'T'], ['H', 'H', 'T'], ['H', 'T', 'H'], ['H', 'H', 'T'], ['H', 'H', 'T'], ['H', 'T', 'H'], ['H', 'T', 'H'], ['T', 'H', 'T'], ['H', 'H', 'T'], ['T', 'H', 'T'], ['T', 'T', 'H'], ['H', 'H', 'T'], ['H', 'T', 'T'], ['H', 'T', 'T'], ['H', 'T', 'T'], ['T', 'T', 'T'], ['T', 'T', 'T'], ['T', 'H', 'H'], ['H', 'T', 'T'], ['T', 'H', 'H'], ['H', 'H', 'T'], ['H', 'H', 'H'], ['H', 'H', 'T'], ['T', 'H', 'H'], ['T', 'H', 'H'], ['T', 'H', 'T'], ['H', 'T', 'T'], ['T', 'H', 'T'], ['H', 'T', 'H'], ['T', 'T', 'H'], ['H', 'T', 'T'], ['T', 'H', 'T'], ['T', 'T', 'T'], ['H', 'H', 'T'], ['T', 'H', 'T'], ['H', 'T', 'T'], ['H', 'H', 'T'], ['H', 'T', 'H'], ['T', 'T', 'T'], ['H', 'H', 'H'], ['H', 'H', 'T'], ['T', 'T', 'H'], ['T', 'T', 'T'], ['H', 'H', 'H'], ['H', 'H', 'H'], ['H', 'T', 'T'], ['T', 'T', 'H'], ['H', 'T', 'H'], ['H', 'H', 'T'], ['T', 'T', 'T'], ['T', 'T', 'H'], ['T', 'T', 'H'], ['H', 'H', 'T'], ['T', 'T', 'H'], ['H', 'T', 'H'], ['H', 'T', 'T'], ['T', 'H', 'T'], ['T', 'T', 'T'], ['T', 'T', 'H'], ['H', 'H', 'T'], ['T', 'T', 'H'], ['T', 'T', 'T'], ['H', 'T', 'H'], ['T', 'H', 'T'], ['H', 'H', 'T'], ['H', 'T', 'T'], ['T', 'T', 'H'], ['H', 'H', 'T'], ['T', 'T', 'H'], ['T', 'T', 'H'], ['T', 'H', 'T'], ['H', 'T', 'T'], ['H', 'T', 'T'], ['H', 'H', 'H'], ['H', 'H', 'H'], ['H', 'T', 'H'], ['H', 'H', 'T'], ['T', 'T', 'H'], ['T', 'H', 'H'], ['T', 'H', 'H'], ['T', 'H', 'H'], ['H', 'H', 'T'], ['H', 'H', 'T'], ['T', 'T', 'T'], ['T', 'H', 'T'], ['T', 'H', 'H'], ['T', 'T', 'T'], ['H', 'H', 'T'], ['T', 'H', 'T'], ['H', 'H', 'T'], ['H', 'H', 'T'], ['H', 'H', 'H'], ['H', 'H', 'H'], ['H', 'H', 'T'], ['H', 'T', 'H'], ['T', 'H', 'T'], ['H', 'H', 'H'], ['T', 'H', 'H'], ['H', 'H', 'T'], ['H', 'H', 'H'], ['H', 'H', 'T'], ['T', 'H', 'H'], ['T', 'T', 'H'], ['H', 'H', 'H'], ['T', 'T', 'H'], ['H', 'H', 'H'], ['T', 'T', 'H'], ['H', 'T', 'T'], ['H', 'H', 'T'], ['H', 'T', 'H'], ['T', 'T', 'T'], ['T', 'H', 'H'], ['H', 'T', 'H'], ['T', 'H', 'H'], ['H', 'H', 'T'], ['H', 'H', 'T'], ['T', 'H', 'T'], ['H', 'T', 'H'], ['H', 'T', 'H'], ['T', 'T', 'H'], ['H', 'T', 'H'], ['H', 'T', 'H'], ['H', 'T', 'H'], ['H', 'H', 'H'], ['H', 'H', 'T'], ['T', 'H', 'T'], ['T', 'T', 'H'], ['H', 'H', 'T'], ['T', 'H', 'T'], ['H', 'H', 'H'], ['T', 'T', 'T'], ['T', 'H', 'T'], ['H', 'H', 'H'], ['T', 'H', 'H'], ['T', 'T', 'H'], ['H', 'H', 'T'], ['T', 'H', 'T'], ['T', 'T', 'T'], ['H', 'T', 'T'], ['H', 'T', 'T'], ['T', 'H', 'T'], ['T', 'T', 'H'], ['T', 'T', 'T'], ['T', 'H', 'H'], ['T', 'T', 'H'], ['H', 'T', 'H'], ['H', 'H', 'T'], ['T', 'H', 'T'], ['H', 'T', 'T'], ['T', 'T', 'H'], ['T', 'H', 'H'], ['H', 'H', 'T'], ['H', 'H', 'T'], ['H', 'T', 'T'], ['H', 'H', 'T'], ['H', 'H', 'H'], ['H', 'T', 'T'], ['H', 'H', 'H'], ['T', 'H', 'T'], ['H', 'H', 'T'], ['T', 'T', 'T'], ['H', 'H', 'H'], ['T', 'H', 'H'], ['H', 'T', 'T'], ['H', 'H', 'T'], ['H', 'T', 'T'], ['T', 'H', 'H'], ['T', 'H', 'H'], ['H', 'T', 'T'], ['T', 'H', 'T'], ['T', 'T', 'H'], ['H', 'T', 'H'], ['H', 'T', 'H'], ['H', 'T', 'T'], ['H', 'H', 'T'], ['T', 'T', 'H'], ['H', 'H', 'T'], ['T', 'H', 'H'], ['H', 'T', 'T'], ['T', 'H', 'H'], ['T', 'T', 'H'], ['T', 'T', 'T'], ['T', 'H', 'H'], ['T', 'T', 'T'], ['H', 'H', 'T'], ['H', 'H', 'T'], ['T', 'T', 'H'], ['T', 'T', 'H'], ['H', 'H', 'T'], ['T', 'T', 'H'], ['H', 'T', 'H'], ['T', 'H', 'H'], ['T', 'T', 'H'], ['H', 'H', 'T'], ['H', 'T', 'H'], ['T', 'T', 'H'], ['T', 'T', 'T'], ['H', 'T', 'H'], ['T', 'H', 'T'], ['H', 'T', 'T'], ['T', 'H', 'H'], ['T', 'H', 'H'], ['T', 'H', 'T'], ['T', 'T', 'H'], ['H', 'H', 'H'], ['T', 'T', 'T'], ['T', 'H', 'T'], ['H', 'T', 'T'], ['T', 'T', 'T'], ['H', 'T', 'T'], ['T', 'H', 'H'], ['H', 'H', 'T'], ['H', 'H', 'T'], ['H', 'T', 'H'], ['H', 'H', 'T'], ['T', 'T', 'H'], ['H', 'T', 'T'], ['T', 'T', 'T'], ['H', 'T', 'H'], ['H', 'H', 'T'], ['H', 'H', 'H'], ['T', 'T', 'T'], ['T', 'T', 'H'], ['T', 'H', 'T'], ['T', 'T', 'H'], ['H', 'T', 'T'], ['T', 'H', 'T'], ['T', 'T', 'T'], ['T', 'H', 'T'], ['H', 'H', 'H'], ['T', 'T', 'H'], ['H', 'H', 'H'], ['H', 'T', 'H'], ['H', 'T', 'H'], ['T', 'T', 'H'], ['T', 'T', 'H'], ['T', 'H', 'H'], ['T', 'H', 'H'], ['H', 'H', 'T'], ['T', 'H', 'T'], ['T', 'T', 'T'], ['T', 'T', 'H'], ['H', 'T', 'H'], ['H', 'H', 'T'], ['T', 'H', 'H'], ['H', 'H', 'T'], ['H', 'H', 'H'], ['H', 'T', 'T'], ['H', 'H', 'H'], ['T', 'T', 'H'], ['T', 'H', 'T'], ['T', 'H', 'H'], ['H', 'T', 'H'], ['H', 'T', 'H'], ['T', 'T', 'H'], ['H', 'H', 'T'], ['H', 'T', 'T'], ['H', 'H', 'H'], ['H', 'T', 'H'], ['T', 'H', 'T'], ['T', 'H', 'H'], ['H', 'H', 'H'], ['T', 'T', 'T'], ['H', 'T', 'H'], ['H', 'T', 'T'], ['H', 'T', 'T'], ['T', 'H', 'T'], ['T', 'H', 'H'], ['H', 'T', 'H'], ['H', 'H', 'T'], ['T', 'H', 'T'], ['H', 'H', 'H'], ['T', 'H', 'T'], ['H', 'H', 'T'], ['H', 'H', 'T'], ['T', 'H', 'H'], ['H', 'H', 'H'], ['T', 'T', 'T'], ['T', 'H', 'T'], ['H', 'H', 'H'], ['H', 'H', 'T'], ['T', 'H', 'T'], ['T', 'T', 'H'], ['T', 'H', 'H'], ['H', 'T', 'H'], ['T', 'H', 'T'], ['H', 'T', 'H'], ['T', 'T', 'T'], ['H', 'H', 'H'], ['H', 'T', 'H'], ['H', 'H', 'T'], ['T', 'H', 'T'], ['T', 'T', 'T'], ['T', 'H', 'T'], ['T', 'H', 'H'], ['T', 'T', 'H'], ['H', 'H', 'H'], ['H', 'T', 'T'], ['T', 'T', 'T'], ['T', 'H', 'H'], ['H', 'T', 'T'], ['T', 'T', 'T'], ['T', 'T', 'T'], ['T', 'T', 'T'], ['H', 'T', 'T'], ['H', 'T', 'T'], ['H', 'H', 'T'], ['T', 'T', 'T'], ['H', 'H', 'T'], ['H', 'H', 'T'], ['H', 'T', 'T'], ['T', 'T', 'H'], ['T', 'T', 'T'], ['T', 'T', 'H'], ['T', 'T', 'T'], ['T', 'T', 'H'], ['H', 'T', 'H'], ['H', 'H', 'T'], ['H', 'H', 'T'], ['H', 'T', 'H'], ['T', 'H', 'H'], ['T', 'T', 'H'], ['H', 'T', 'H'], ['T', 'H', 'H'], ['T', 'H', 'H'], ['H', 'H', 'T'], ['H', 'H', 'T'], ['T', 'H', 'T'], ['T', 'T', 'T'], ['T', 'T', 'T'], ['T', 'H', 'H'], ['T', 'H', 'T'], ['T', 'T', 'H'], ['H', 'H', 'H'], ['H', 'T', 'H'], ['H', 'T', 'T'], ['T', 'T', 'T'], ['H', 'T', 'H'], ['T', 'T', 'T'], ['T', 'T', 'T'], ['T', 'T', 'T'], ['T', 'H', 'T'], ['H', 'T', 'H'], ['T', 'T', 'T'], ['H', 'H', 'H'], ['T', 'T', 'T'], ['T', 'T', 'H'], ['H', 'T', 'T'], ['T', 'T', 'H'], ['H', 'T', 'H'], ['T', 'H', 'H'], ['T', 'H', 'H'], ['H', 'H', 'T'], ['T', 'T', 'T'], ['T', 'T', 'H'], ['H', 'T', 'T'], ['H', 'T', 'H'], ['T', 'T', 'H'], ['H', 'T', 'T'], ['H', 'H', 'H'], ['H', 'T', 'T'], ['H', 'H', 'T'], ['T', 'H', 'H'], ['T', 'H', 'H'], ['T', 'T', 'H'], ['T', 'H', 'T'], ['T', 'T', 'H'], ['H', 'T', 'T'], ['T', 'T', 'T'], ['H', 'H', 'T'], ['T', 'T', 'H'], ['H', 'T', 'T'], ['T', 'H', 'T'], ['H', 'T', 'T'], ['H', 'H', 'T'], ['H', 'T', 'T'], ['H', 'T', 'T'], ['H', 'T', 'H'], ['H', 'T', 'T'], ['T', 'H', 'H'], ['H', 'H', 'T'], ['T', 'T', 'T'], ['H', 'T', 'H'], ['T', 'H', 'T'], ['T', 'T', 'H'], ['T', 'T', 'T'], ['H', 'T', 'H'], ['T', 'T', 'T'], ['H', 'H', 'H'], ['T', 'H', 'T'], ['T', 'H', 'H'], ['T', 'H', 'T'], ['T', 'T', 'H'], ['T', 'T', 'H'], ['T', 'T', 'H'], ['T', 'T', 'T'], ['T', 'T', 'H'], ['T', 'T', 'H'], ['H', 'H', 'T'], ['H', 'H', 'T'], ['T', 'T', 'H'], ['T', 'T', 'T'], ['H', 'T', 'H'], ['T', 'T', 'H'], ['H', 'H', 'T'], ['T', 'H', 'H'], ['T', 'T', 'T'], ['T', 'T', 'H'], ['T', 'H', 'H'], ['H', 'H', 'T'], ['H', 'T', 'H'], ['H', 'H', 'T'], ['T', 'H', 'T'], ['H', 'H', 'H'], ['H', 'T', 'H'], ['T', 'H', 'H'], ['T', 'H', 'T'], ['T', 'H', 'T'], ['T', 'H', 'T'], ['H', 'T', 'T'], ['T', 'H', 'H'], ['T', 'H', 'H'], ['H', 'H', 'T'], ['T', 'T', 'T'], ['T', 'T', 'H'], ['H', 'T', 'H'], ['T', 'H', 'H'], ['H', 'T', 'H'], ['T', 'T', 'H'], ['H', 'T', 'T'], ['H', 'T', 'H'], ['T', 'T', 'H'], ['H', 'T', 'T'], ['T', 'T', 'T'], ['H', 'H', 'T'], ['T', 'T', 'T'], ['H', 'T', 'T'], ['T', 'T', 'H'], ['H', 'H', 'H'], ['T', 'T', 'T'], ['H', 'T', 'T'], ['T', 'H', 'H'], ['T', 'T', 'T'], ['H', 'H', 'H'], ['T', 'T', 'H'], ['H', 'T', 'H'], ['T', 'T', 'H'], ['T', 'T', 'H'], ['H', 'T', 'T'], ['H', 'T', 'H'], ['H', 'T', 'T'], ['T', 'T', 'T'], ['H', 'T', 'H'], ['T', 'T', 'T'], ['T', 'T', 'H'], ['H', 'H', 'H'], ['H', 'H', 'T'], ['H', 'T', 'H'], ['H', 'H', 'T'], ['H', 'H', 'H'], ['T', 'H', 'H'], ['H', 'H', 'T'], ['H', 'T', 'H'], ['T', 'H', 'T'], ['H', 'T', 'H'], ['T', 'T', 'H'], ['T', 'H', 'H'], ['H', 'T', 'H'], ['T', 'H', 'H'], ['T', 'T', 'H'], ['H', 'T', 'T'], ['H', 'T', 'H'], ['H', 'H', 'H'], ['T', 'H', 'H'], ['H', 'H', 'H'], ['H', 'H', 'T'], ['T', 'T', 'T'], ['T', 'H', 'T'], ['T', 'H', 'H'], ['H', 'H', 'T'], ['T', 'H', 'H'], ['T', 'H', 'T'], ['H', 'H', 'T'], ['T', 'H', 'T'], ['T', 'H', 'H'], ['H', 'T', 'T'], ['H', 'T', 'H'], ['H', 'H', 'T'], ['H', 'H', 'H'], ['H', 'T', 'T'], ['T', 'T', 'T'], ['T', 'H', 'T'], ['T', 'H', 'H'], ['T', 'H', 'H'], ['H', 'T', 'T'], ['T', 'H', 'T'], ['H', 'T', 'T'], ['H', 'H', 'H'], ['H', 'T', 'H'], ['T', 'H', 'T'], ['T', 'T', 'T'], ['H', 'H', 'T'], ['T', 'T', 'H'], ['H', 'T', 'T'], ['T', 'H', 'T'], ['T', 'T', 'T'], ['T', 'T', 'H'], ['T', 'H', 'T'], ['H', 'H', 'T'], ['H', 'H', 'H'], ['T', 'T', 'H'], ['T', 'T', 'H'], ['H', 'T', 'T'], ['H', 'H', 'T'], ['H', 'H', 'H'], ['H', 'H', 'T'], ['H', 'T', 'H'], ['H', 'H', 'H'], ['H', 'T', 'H'], ['H', 'T', 'H'], ['H', 'H', 'T'], ['H', 'T', 'H'], ['T', 'T', 'H'], ['T', 'H', 'T'], ['H', 'H', 'H'], ['H', 'H', 'H'], ['T', 'T', 'T'], ['H', 'H', 'T'], ['H', 'T', 'H'], ['H', 'T', 'H'], ['T', 'H', 'H'], ['T', 'H', 'T'], ['H', 'H', 'T'], ['H', 'T', 'T'], ['T', 'H', 'T'], ['T', 'H', 'T'], ['H', 'H', 'H'], ['H', 'H', 'T'], ['H', 'T', 'H'], ['T', 'H', 'T'], ['H', 'T', 'T'], ['H', 'H', 'H'], ['H', 'H', 'T'], ['H', 'H', 'T'], ['T', 'H', 'H'], ['H', 'T', 'T'], ['T', 'T', 'T'], ['T', 'T', 'H'], ['H', 'H', 'H'], ['T', 'T', 'T'], ['T', 'H', 'T'], ['T', 'T', 'H'], ['T', 'T', 'H'], ['H', 'H', 'T'], ['T', 'T', 'H'], ['H', 'T', 'H'], ['H', 'H', 'H'], ['H', 'H', 'H'], ['T', 'T', 'T'], ['T', 'T', 'H'], ['T', 'H', 'T'], ['H', 'H', 'T'], ['H', 'H', 'H'], ['T', 'H', 'H'], ['H', 'H', 'T'], ['T', 'T', 'T'], ['H', 'T', 'T'], ['H', 'T', 'H'], ['T', 'H', 'T'], ['T', 'H', 'T'], ['H', 'T', 'T'], ['H', 'T', 'T'], ['H', 'H', 'T'], ['T', 'H', 'T'], ['T', 'T', 'T'], ['T', 'T', 'T'], ['T', 'T', 'H'], ['H', 'T', 'T'], ['T', 'H', 'T'], ['T', 'T', 'T'], ['T', 'T', 'H'], ['H', 'T', 'H'], ['T', 'H', 'T'], ['H', 'T', 'H'], ['H', 'T', 'H'], ['H', 'H', 'H'], ['H', 'H', 'T'], ['T', 'H', 'H'], ['H', 'T', 'H'], ['T', 'H', 'T'], ['T', 'H', 'H'], ['T', 'T', 'T'], ['T', 'T', 'T'], ['H', 'H', 'H'], ['T', 'T', 'H'], ['H', 'H', 'T'], ['T', 'H', 'H'], ['H', 'H', 'H'], ['H', 'T', 'H'], ['H', 'T', 'H'], ['H', 'H', 'H'], ['H', 'T', 'H'], ['T', 'H', 'T'], ['T', 'H', 'H'], ['T', 'T', 'T'], ['H', 'H', 'H'], ['T', 'H', 'H'], ['T', 'T', 'T'], ['T', 'H', 'T'], ['H', 'H', 'H'], ['T', 'T', 'T'], ['H', 'H', 'H'], ['T', 'H', 'H'], ['H', 'H', 'T'], ['T', 'T', 'H'], ['T', 'T', 'T'], ['T', 'T', 'T'], ['T', 'T', 'T'], ['T', 'H', 'H'], ['H', 'H', 'H'], ['H', 'H', 'T'], ['T', 'H', 'T'], ['T', 'T', 'H'], ['H', 'T', 'T'], ['T', 'H', 'T'], ['H', 'H', 'T'], ['H', 'T', 'H'], ['T', 'T', 'H'], ['T', 'H', 'T'], ['H', 'T', 'H'], ['T', 'H', 'H'], ['H', 'T', 'T'], ['T', 'T', 'H'], ['H', 'T', 'T'], ['H', 'H', 'H'], ['T', 'H', 'T'], ['H', 'H', 'H'], ['T', 'H', 'H'], ['H', 'T', 'T'], ['H', 'H', 'T'], ['H', 'H', 'H'], ['T', 'T', 'T'], ['T', 'T', 'T'], ['T', 'T', 'T'], ['T', 'H', 'T'], ['H', 'T', 'H'], ['T', 'H', 'H'], ['H', 'H', 'H'], ['T', 'H', 'H'], ['H', 'H', 'H'], ['T', 'T', 'T'], ['T', 'T', 'T'], ['T', 'H', 'H'], ['H', 'T', 'H'], ['T', 'H', 'T'], ['H', 'H', 'H'], ['H', 'T', 'H'], ['T', 'H', 'T'], ['H', 'T', 'T'], ['T', 'H', 'H'], ['H', 'T', 'H'], ['H', 'T', 'T'], ['T', 'T', 'H'], ['T', 'H', 'H'], ['H', 'H', 'T'], ['T', 'H', 'T'], ['H', 'H', 'H'], ['T', 'T', 'T'], ['H', 'H', 'T'], ['T', 'H', 'T'], ['H', 'H', 'T'], ['H', 'H', 'H'], ['H', 'T', 'H'], ['H', 'H', 'H'], ['T', 'H', 'T'], ['T', 'T', 'H'], ['T', 'H', 'T'], ['T', 'T', 'T'], ['T', 'T', 'H'], ['H', 'T', 'H'], ['T', 'T', 'H'], ['H', 'H', 'H'], ['T', 'H', 'H'], ['T', 'T', 'T'], ['T', 'H', 'H'], ['H', 'T', 'H'], ['T', 'T', 'T'], ['H', 'T', 'H'], ['H', 'T', 'T'], ['T', 'T', 'H'], ['H', 'H', 'T'], ['H', 'H', 'H'], ['H', 'T', 'H'], ['H', 'H', 'H'], ['T', 'H', 'T'], ['H', 'H', 'H'], ['T', 'T', 'H'], ['H', 'H', 'H'], ['H', 'H', 'H'], ['H', 'H', 'H'], ['H', 'H', 'H'], ['T', 'H', 'T'], ['T', 'T', 'T'], ['T', 'T', 'H'], ['H', 'T', 'H'], ['T', 'T', 'H'], ['H', 'T', 'T'], ['H', 'T', 'H'], ['T', 'H', 'H'], ['T', 'H', 'T'], ['H', 'T', 'T'], ['T', 'T', 'T'], ['T', 'H', 'H'], ['T', 'H', 'T'], ['H', 'T', 'T'], ['T', 'T', 'T'], ['H', 'T', 'T'], ['H', 'T', 'H'], ['T', 'T', 'T'], ['T', 'T', 'T'], ['H', 'T', 'T'], ['H', 'H', 'T'], ['T', 'H', 'T'], ['H', 'H', 'T'], ['T', 'T', 'H'], ['H', 'H', 'H'], ['H', 'H', 'T'], ['H', 'H', 'T'], ['T', 'T', 'H'], ['H', 'H', 'T'], ['T', 'T', 'H'], ['H', 'H', 'T'], ['T', 'H', 'H'], ['H', 'H', 'T'], ['T', 'T', 'H'], ['T', 'T', 'H'], ['H', 'T', 'T'], ['H', 'T', 'T'], ['H', 'T', 'T'], ['H', 'H', 'T'], ['H', 'T', 'T'], ['H', 'H', 'T'], ['H', 'T', 'T'], ['H', 'H', 'H'], ['H', 'H', 'H'], ['H', 'H', 'T'], ['H', 'T', 'H'], ['T', 'T', 'T'], ['T', 'T', 'T'], ['H', 'T', 'T'], ['H', 'H', 'H'], ['T', 'H', 'H'], ['H', 'H', 'H'], ['H', 'T', 'T'], ['T', 'H', 'H'], ['H', 'T', 'H'], ['T', 'T', 'H'], ['T', 'T', 'H'], ['T', 'T', 'T'], ['T', 'H', 'T'], ['T', 'T', 'T'], ['T', 'T', 'H'], ['H', 'T', 'T'], ['T', 'T', 'T'], ['T', 'H', 'H'], ['H', 'H', 'T'], ['T', 'H', 'H'], ['H', 'H', 'H'], ['T', 'H', 'H'], ['H', 'H', 'T'], ['T', 'T', 'T'], ['H', 'H', 'T'], ['H', 'T', 'H'], ['T', 'T', 'H'], ['T', 'T', 'T'], ['T', 'T', 'H'], ['T', 'T', 'H'], ['H', 'T', 'H'], ['T', 'T', 'H'], ['H', 'T', 'H'], ['H', 'H', 'H'], ['H', 'T', 'T'], ['T', 'T', 'H'], ['T', 'H', 'H'], ['H', 'H', 'H'], ['T', 'H', 'H'], ['T', 'H', 'T'], ['T', 'T', 'H'], ['H', 'H', 'H'], ['T', 'H', 'H'], ['H', 'T', 'T'], ['H', 'T', 'T'], ['H', 'T', 'H'], ['T', 'T', 'T'], ['H', 'H', 'T'], ['H', 'H', 'H'], ['H', 'H', 'H'], ['T', 'T', 'H'], ['T', 'H', 'T'], ['T', 'H', 'T'], ['T', 'T', 'H'], ['H', 'H', 'H'], ['H', 'T', 'H'], ['T', 'T', 'H'], ['T', 'T', 'T'], ['T', 'T', 'H'], ['T', 'T', 'T'], ['T', 'H', 'T'], ['T', 'H', 'T'], ['H', 'H', 'H'], ['T', 'H', 'H'], ['T', 'H', 'H'], ['H', 'H', 'H'], ['H', 'H', 'H'], ['H', 'T', 'T'], ['T', 'T', 'T'], ['T', 'T', 'T'], ['H', 'H', 'T'], ['T', 'H', 'T'], ['H', 'H', 'T'], ['T', 'H', 'H'], ['H', 'H', 'H'], ['H', 'T', 'T'], ['H', 'T', 'H'], ['H', 'T', 'T'], ['T', 'H', 'H'], ['H', 'H', 'H'], ['T', 'H', 'T'], ['T', 'H', 'H'], ['T', 'H', 'T'], ['T', 'H', 'H'], ['T', 'H', 'H'], ['H', 'H', 'H'], ['T', 'H', 'H'], ['T', 'H', 'T'], ['T', 'T', 'H'], ['H', 'T', 'H'], ['T', 'H', 'H'], ['H', 'T', 'H'], ['T', 'T', 'H'], ['T', 'H', 'H'], ['H', 'H', 'H'], ['T', 'T', 'H'], ['T', 'H', 'H'], ['T', 'T', 'T'], ['T', 'H', 'H'], ['T', 'T', 'T'], ['H', 'T', 'T'], ['T', 'T', 'H'], ['T', 'T', 'T'], ['H', 'H', 'H'], ['H', 'H', 'T'], ['H', 'T', 'H'], ['H', 'T', 'T'], ['T', 'H', 'T'], ['H', 'T', 'H'], ['T', 'T', 'H'], ['H', 'H', 'T'], ['T', 'H', 'T'], ['T', 'H', 'T'], ['H', 'H', 'H'], ['T', 'T', 'H'], ['T', 'H', 'T'], ['T', 'H', 'H'], ['T', 'H', 'T'], ['H', 'T', 'H'], ['H', 'H', 'H'], ['H', 'H', 'H'], ['T', 'H', 'H'], ['H', 'H', 'T'], ['H', 'H', 'H'], ['H', 'H', 'H'], ['H', 'T', 'T'], ['H', 'T', 'T'], ['H', 'T', 'H'], ['T', 'H', 'H'], ['H', 'H', 'H'], ['H', 'T', 'H'], ['T', 'T', 'T'], ['T', 'H', 'T'], ['T', 'T', 'T'], ['T', 'T', 'H'], ['T', 'T', 'T'], ['H', 'T', 'T'], ['H', 'T', 'T'], ['H', 'H', 'T'], ['H', 'T', 'H'], ['T', 'T', 'T'], ['H', 'H', 'T'], ['H', 'H', 'H'], ['T', 'H', 'H'], ['H', 'H', 'T'], ['T', 'T', 'T'], ['H', 'T', 'T'], ['H', 'T', 'T'], ['H', 'H', 'T'], ['T', 'H', 'H'], ['H', 'H', 'H'], ['H', 'H', 'H'], ['H', 'H', 'H'], ['H', 'T', 'T'], ['T', 'H', 'H'], ['H', 'T', 'T'], ['H', 'T', 'H'], ['H', 'T', 'H'], ['H', 'H', 'H'], ['T', 'T', 'T'], ['T', 'H', 'H'], ['H', 'H', 'T'], ['H', 'T', 'T'], ['H', 'H', 'T'], ['T', 'T', 'H'], ['H', 'T', 'H'], ['T', 'H', 'H'], ['H', 'T', 'T'], ['T', 'T', 'T'], ['T', 'T', 'H'], ['T', 'T', 'T'], ['H', 'H', 'H'], ['T', 'T', 'H'], ['T', 'H', 'T'], ['H', 'T', 'H'], ['T', 'H', 'H'], ['T', 'H', 'H'], ['H', 'T', 'T'], ['T', 'H', 'T'], ['T', 'T', 'H'], ['T', 'T', 'T'], ['H', 'T', 'T'], ['H', 'H', 'T'], ['H', 'T', 'T'], ['H', 'H', 'H'], ['H', 'H', 'H'], ['T', 'H', 'H'], ['T', 'H', 'T'], ['H', 'T', 'T'], ['T', 'T', 'T'], ['T', 'H', 'T'], ['T', 'H', 'T'], ['T', 'H', 'T'], ['H', 'T', 'H'], ['H', 'H', 'T'], ['T', 'H', 'H'], ['T', 'H', 'T'], ['T', 'T', 'H'], ['H', 'T', 'T'], ['H', 'H', 'H'], ['T', 'T', 'T'], ['T', 'H', 'T'], ['H', 'T', 'T'], ['T', 'T', 'T'], ['T', 'T', 'H'], ['T', 'H', 'T'], ['H', 'H', 'H'], ['H', 'H', 'T'], ['H', 'H', 'H'], ['T', 'H', 'T'], ['T', 'H', 'T'], ['H', 'T', 'T'], ['H', 'T', 'H'], ['H', 'H', 'T'], ['T', 'T', 'T'], ['H', 'H', 'T'], ['H', 'H', 'T'], ['T', 'T', 'T'], ['H', 'H', 'T'], ['T', 'H', 'H'], ['H', 'H', 'H'], ['H', 'H', 'T'], ['H', 'H', 'T'], ['T', 'H', 'T'], ['T', 'H', 'T'], ['H', 'T', 'H'], ['H', 'T', 'T'], ['H', 'H', 'T'], ['T', 'H', 'H'], ['T', 'T', 'T'], ['T', 'T', 'T'], ['H', 'T', 'T'], ['T', 'H', 'H'], ['H', 'H', 'T'], ['H', 'H', 'T'], ['T', 'T', 'H'], ['T', 'H', 'H'], ['H', 'H', 'T'], ['H', 'T', 'T'], ['T', 'H', 'T'], ['H', 'T', 'H'], ['T', 'H', 'H'], ['H', 'T', 'T'], ['H', 'H', 'T'], ['T', 'H', 'T'], ['T', 'H', 'H'], ['H', 'H', 'H'], ['H', 'T', 'H'], ['T', 'H', 'T'], ['H', 'T', 'H'], ['T', 'T', 'H'], ['T', 'T', 'H'], ['T', 'T', 'H'], ['T', 'H', 'T'], ['T', 'T', 'T'], ['T', 'H', 'H'], ['T', 'H', 'H'], ['H', 'T', 'T'], ['T', 'T', 'H'], ['T', 'T', 'H'], ['T', 'H', 'H'], ['T', 'H', 'H'], ['T', 'T', 'H'], ['H', 'H', 'H'], ['H', 'H', 'H'], ['H', 'T', 'T'], ['H', 'H', 'T'], ['H', 'T', 'T'], ['T', 'T', 'T'], ['H', 'T', 'T'], ['H', 'H', 'H'], ['T', 'H', 'H'], ['T', 'H', 'T'], ['H', 'H', 'H'], ['H', 'H', 'T'], ['H', 'T', 'H'], ['H', 'H', 'H'], ['T', 'H', 'H'], ['T', 'H', 'H'], ['H', 'H', 'T'], ['T', 'H', 'T'], ['T', 'T', 'T'], ['H', 'T', 'H'], ['H', 'H', 'H'], ['T', 'T', 'H'], ['H', 'H', 'H'], ['H', 'H', 'T'], ['T', 'T', 'T'], ['H', 'H', 'T'], ['T', 'T', 'H'], ['T', 'T', 'T'], ['T', 'H', 'H'], ['H', 'T', 'H'], ['T', 'T', 'H'], ['H', 'T', 'T'], ['T', 'T', 'T'], ['T', 'T', 'H'], ['T', 'H', 'H'], ['T', 'H', 'T'], ['T', 'H', 'T'], ['H', 'T', 'T'], ['T', 'T', 'H'], ['T', 'T', 'T'], ['H', 'T', 'T'], ['H', 'H', 'H'], ['H', 'H', 'H'], ['H', 'H', 'T'], ['T', 'T', 'H'], ['H', 'T', 'T'], ['T', 'T', 'T'], ['T', 'H', 'H'], ['T', 'T', 'T'], ['T', 'T', 'H'], ['T', 'H', 'T'], ['T', 'H', 'H'], ['H', 'T', 'H'], ['H', 'H', 'H'], ['H', 'H', 'H'], ['H', 'T', 'T'], ['T', 'H', 'H'], ['T', 'H', 'H'], ['T', 'H', 'T'], ['H', 'H', 'H'], ['T', 'T', 'H'], ['T', 'T', 'T'], ['T', 'T', 'T'], ['T', 'T', 'T'], ['H', 'T', 'H'], ['T', 'H', 'T'], ['H', 'T', 'H'], ['H', 'T', 'H'], ['T', 'T', 'H'], ['H', 'T', 'T'], ['H', 'H', 'T'], ['H', 'H', 'H'], ['H', 'T', 'H'], ['H', 'H', 'T'], ['T', 'H', 'T'], ['T', 'T', 'H'], ['H', 'H', 'H'], ['T', 'T', 'T'], ['T', 'H', 'T'], ['T', 'H', 'H'], ['H', 'H', 'H'], ['T', 'H', 'H'], ['H', 'H', 'T'], ['T', 'H', 'H'], ['T', 'H', 'H'], ['T', 'H', 'H'], ['H', 'T', 'T'], ['H', 'H', 'H'], ['T', 'H', 'H'], ['T', 'H', 'T'], ['H', 'H', 'T'], ['H', 'H', 'H'], ['H', 'H', 'H'], ['T', 'H', 'H'], ['T', 'T', 'H'], ['T', 'T', 'T'], ['T', 'T', 'H'], ['H', 'H', 'H'], ['T', 'T', 'H'], ['H', 'H', 'T'], ['T', 'T', 'H'], ['T', 'T', 'T'], ['T', 'T', 'H'], ['T', 'T', 'H'], ['T', 'H', 'T'], ['T', 'T', 'H'], ['H', 'H', 'T'], ['H', 'T', 'H'], ['T', 'T', 'H'], ['T', 'T', 'T'], ['H', 'H', 'T'], ['H', 'H', 'T'], ['T', 'H', 'T'], ['T', 'H', 'T'], ['T', 'H', 'T'], ['H', 'T', 'T'], ['T', 'T', 'H'], ['H', 'T', 'H'], ['T', 'H', 'H'], ['H', 'H', 'H'], ['H', 'T', 'H'], ['H', 'H', 'H'], ['H', 'T', 'T'], ['H', 'T', 'T'], ['H', 'H', 'H'], ['T', 'H', 'H'], ['T', 'T', 'T'], ['H', 'H', 'T'], ['T', 'H', 'H'], ['H', 'T', 'T'], ['H', 'H', 'T'], ['T', 'T', 'T'], ['T', 'H', 'T'], ['H', 'T', 'T'], ['T', 'T', 'T'], ['T', 'H', 'T'], ['H', 'H', 'H'], ['H', 'T', 'H'], ['T', 'T', 'T'], ['H', 'T', 'H'], ['T', 'H', 'H'], ['T', 'H', 'T'], ['H', 'H', 'T'], ['T', 'T', 'T'], ['H', 'T', 'H'], ['T', 'H', 'H'], ['T', 'T', 'H'], ['T', 'T', 'H'], ['H', 'T', 'H'], ['H', 'H', 'H'], ['T', 'H', 'H'], ['T', 'T', 'T'], ['H', 'T', 'T'], ['T', 'T', 'T'], ['T', 'H', 'T'], ['T', 'T', 'T'], ['H', 'H', 'H'], ['T', 'T', 'H'], ['H', 'T', 'H'], ['T', 'T', 'T'], ['H', 'H', 'T'], ['T', 'T', 'H'], ['H', 'T', 'H'], ['T', 'H', 'T'], ['H', 'T', 'T'], ['H', 'H', 'T'], ['T', 'T', 'T'], ['H', 'H', 'T'], ['T', 'H', 'T'], ['T', 'H', 'H'], ['H', 'H', 'T'], ['H', 'H', 'H'], ['H', 'T', 'T'], ['H', 'H', 'H'], ['T', 'T', 'T'], ['H', 'H', 'T'], ['T', 'H', 'H'], ['T', 'H', 'T'], ['H', 'H', 'H'], ['H', 'T', 'H'], ['H', 'H', 'T'], ['H', 'T', 'H'], ['H', 'H', 'H'], ['H', 'T', 'H'], ['T', 'T', 'T'], ['T', 'H', 'H'], ['T', 'H', 'H'], ['H', 'H', 'H'], ['H', 'T', 'H'], ['H', 'H', 'H'], ['H', 'T', 'H'], ['T', 'H', 'T'], ['H', 'H', 'T'], ['T', 'T', 'H'], ['H', 'T', 'H'], ['T', 'T', 'T'], ['T', 'H', 'H'], ['H', 'T', 'H'], ['T', 'H', 'T'], ['T', 'T', 'H'], ['H', 'H', 'T'], ['T', 'T', 'H'], ['H', 'H', 'H'], ['T', 'T', 'T'], ['T', 'H', 'H'], ['H', 'H', 'T'], ['T', 'T', 'T'], ['H', 'T', 'H'], ['T', 'H', 'T'], ['H', 'H', 'T'], ['H', 'T', 'H'], ['H', 'T', 'T'], ['T', 'T', 'H'], ['H', 'H', 'H'], ['H', 'H', 'H'], ['H', 'T', 'H'], ['H', 'H', 'T'], ['T', 'H', 'T'], ['T', 'H', 'T'], ['T', 'H', 'H'], ['T', 'H', 'H'], ['T', 'H', 'H'], ['H', 'T', 'H'], ['H', 'H', 'H'], ['H', 'H', 'T'], ['H', 'H', 'H'], ['H', 'H', 'H'], ['T', 'H', 'T'], ['T', 'H', 'H'], ['H', 'T', 'H'], ['H', 'H', 'T'], ['H', 'H', 'H'], ['T', 'H', 'H'], ['H', 'T', 'H'], ['T', 'H', 'T'], ['H', 'T', 'H'], ['T', 'T', 'H'], ['H', 'H', 'H'], ['H', 'H', 'T'], ['H', 'H', 'H'], ['H', 'T', 'T'], ['H', 'T', 'T'], ['H', 'H', 'H'], ['T', 'T', 'T'], ['T', 'H', 'T'], ['H', 'T', 'H'], ['T', 'H', 'H'], ['T', 'H', 'T'], ['H', 'T', 'T'], ['T', 'T', 'H'], ['H', 'H', 'T'], ['T', 'T', 'H'], ['T', 'T', 'H'], ['T', 'H', 'H'], ['H', 'T', 'H'], ['T', 'T', 'T'], ['H', 'H', 'T'], ['T', 'T', 'H'], ['T', 'H', 'H'], ['H', 'T', 'T'], ['T', 'H', 'T'], ['T', 'H', 'T'], ['H', 'H', 'T'], ['T', 'H', 'T'], ['T', 'T', 'T'], ['H', 'T', 'H'], ['H', 'T', 'H'], ['H', 'H', 'H'], ['T', 'T', 'T'], ['H', 'H', 'H'], ['T', 'H', 'T'], ['T', 'H', 'H'], ['H', 'T', 'T'], ['T', 'H', 'T'], ['T', 'T', 'T'], ['H', 'T', 'T'], ['T', 'H', 'T'], ['H', 'H', 'T'], ['T', 'H', 'H'], ['T', 'T', 'T'], ['T', 'T', 'H'], ['H', 'H', 'H'], ['H', 'H', 'H'], ['H', 'H', 'T'], ['H', 'H', 'T'], ['H', 'H', 'H'], ['T', 'T', 'H'], ['H', 'T', 'T'], ['T', 'H', 'H'], ['T', 'H', 'H'], ['T', 'H', 'H'], ['T', 'T', 'T'], ['T', 'H', 'T'], ['T', 'H', 'H'], ['T', 'H', 'H'], ['T', 'T', 'T'], ['T', 'H', 'H'], ['T', 'T', 'H'], ['T', 'T', 'H'], ['T', 'T', 'T'], ['T', 'T', 'T'], ['T', 'T', 'H'], ['T', 'T', 'H'], ['H', 'H', 'H'], ['H', 'H', 'T'], ['H', 'T', 'T'], ['H', 'H', 'T'], ['H', 'T', 'H'], ['T', 'T', 'H'], ['H', 'H', 'H'], ['H', 'H', 'H'], ['T', 'H', 'T'], ['H', 'H', 'T'], ['H', 'T', 'T'], ['T', 'H', 'T'], ['H', 'H', 'H'], ['H', 'T', 'T'], ['H', 'T', 'T'], ['T', 'H', 'H'], ['T', 'H', 'H'], ['T', 'T', 'H'], ['H', 'H', 'H'], ['H', 'T', 'H'], ['H', 'H', 'H'], ['T', 'T', 'H'], ['H', 'H', 'H'], ['H', 'T', 'T'], ['T', 'H', 'H'], ['T', 'T', 'H'], ['H', 'T', 'H'], ['H', 'H', 'T'], ['T', 'H', 'T'], ['H', 'T', 'T'], ['H', 'H', 'T'], ['H', 'H', 'T'], ['T', 'T', 'H'], ['H', 'T', 'H'], ['H', 'T', 'H'], ['T', 'T', 'T'], ['H', 'H', 'T'], ['H', 'T', 'H'], ['T', 'T', 'H'], ['T', 'T', 'H'], ['H', 'H', 'T'], ['H', 'T', 'T'], ['H', 'H', 'H'], ['H', 'T', 'H'], ['T', 'T', 'T'], ['H', 'T', 'H'], ['T', 'H', 'H'], ['T', 'T', 'T'], ['H', 'T', 'T'], ['H', 'T', 'H'], ['H', 'T', 'H'], ['T', 'T', 'T'], ['H', 'T', 'H'], ['H', 'H', 'H'], ['T', 'H', 'H'], ['T', 'T', 'H'], ['H', 'T', 'T'], ['T', 'H', 'T'], ['H', 'H', 'H'], ['T', 'T', 'T'], ['H', 'T', 'H'], ['T', 'H', 'T'], ['T', 'H', 'T'], ['T', 'H', 'T'], ['T', 'H', 'H'], ['H', 'H', 'T'], ['H', 'H', 'T'], ['H', 'H', 'T'], ['H', 'H', 'T'], ['H', 'H', 'T'], ['T', 'T', 'T'], ['H', 'H', 'T'], ['H', 'T', 'T'], ['T', 'H', 'T'], ['T', 'T', 'H'], ['H', 'H', 'H'], ['T', 'H', 'T'], ['H', 'H', 'H'], ['T', 'H', 'H'], ['T', 'H', 'H'], ['H', 'T', 'H'], ['T', 'H', 'T'], ['T', 'H', 'H'], ['H', 'H', 'H'], ['H', 'H', 'H'], ['H', 'H', 'T'], ['T', 'T', 'H'], ['H', 'H', 'H'], ['H', 'T', 'H'], ['H', 'T', 'H'], ['H', 'H', 'H'], ['H', 'H', 'H'], ['T', 'H', 'H'], ['T', 'H', 'H'], ['T', 'H', 'H'], ['H', 'T', 'T'], ['T', 'T', 'H'], ['H', 'T', 'H'], ['T', 'T', 'T'], ['T', 'H', 'H'], ['H', 'T', 'T'], ['H', 'H', 'H'], ['T', 'H', 'T'], ['H', 'T', 'H'], ['H', 'H', 'T'], ['H', 'H', 'T'], ['H', 'T', 'T'], ['T', 'H', 'H'], ['H', 'H', 'T'], ['T', 'T', 'T'], ['T', 'T', 'H'], ['H', 'H', 'H'], ['H', 'T', 'H'], ['T', 'H', 'H'], ['T', 'H', 'T'], ['T', 'T', 'T'], ['H', 'H', 'H'], ['T', 'T', 'H'], ['T', 'H', 'T'], ['H', 'H', 'H'], ['H', 'T', 'H'], ['T', 'H', 'T'], ['H', 'H', 'H'], ['T', 'H', 'T'], ['T', 'T', 'T'], ['H', 'H', 'T'], ['T', 'H', 'T'], ['H', 'H', 'H'], ['H', 'H', 'H'], ['T', 'T', 'T'], ['H', 'T', 'H'], ['H', 'H', 'T'], ['H', 'T', 'H'], ['T', 'T', 'H'], ['H', 'H', 'H'], ['H', 'T', 'H'], ['H', 'T', 'H'], ['H', 'H', 'T'], ['T', 'H', 'H'], ['T', 'H', 'H'], ['H', 'H', 'H'], ['H', 'H', 'T'], ['H', 'H', 'T'], ['T', 'H', 'H'], ['T', 'T', 'T'], ['T', 'H', 'T'], ['T', 'H', 'T'], ['H', 'T', 'T'], ['H', 'H', 'H'], ['H', 'T', 'H'], ['T', 'T', 'H'], ['T', 'H', 'T'], ['H', 'H', 'H'], ['H', 'H', 'H'], ['T', 'T', 'H'], ['H', 'T', 'H'], ['T', 'T', 'H'], ['H', 'T', 'T'], ['H', 'T', 'T'], ['H', 'T', 'H'], ['H', 'H', 'H'], ['T', 'T', 'H'], ['T', 'H', 'H'], ['H', 'T', 'H'], ['H', 'H', 'H'], ['H', 'H', 'T'], ['T', 'H', 'T'], ['T', 'H', 'H'], ['T', 'T', 'H'], ['T', 'T', 'H'], ['T', 'T', 'T'], ['H', 'T', 'T'], ['H', 'H', 'T'], ['H', 'H', 'H'], ['H', 'T', 'T'], ['T', 'T', 'T'], ['H', 'H', 'T'], ['H', 'T', 'T'], ['H', 'T', 'H'], ['T', 'T', 'T'], ['T', 'T', 'H'], ['H', 'H', 'H'], ['H', 'H', 'T'], ['T', 'T', 'T'], ['H', 'T', 'H'], ['H', 'H', 'H'], ['T', 'H', 'H'], ['H', 'T', 'H'], ['T', 'H', 'H'], ['H', 'H', 'T'], ['T', 'H', 'T'], ['H', 'T', 'T'], ['H', 'H', 'H'], ['H', 'H', 'H'], ['T', 'T', 'T'], ['T', 'H', 'T'], ['H', 'H', 'T'], ['H', 'H', 'T'], ['T', 'H', 'T'], ['H', 'T', 'T'], ['H', 'T', 'T'], ['H', 'T', 'T'], ['T', 'H', 'T'], ['H', 'H', 'H'], ['H', 'T', 'H'], ['H', 'H', 'T'], ['T', 'T', 'H'], ['H', 'H', 'H'], ['H', 'T', 'H'], ['H', 'T', 'T'], ['T', 'T', 'H'], ['T', 'T', 'H'], ['T', 'T', 'T'], ['T', 'H', 'T'], ['T', 'H', 'H'], ['H', 'H', 'H'], ['T', 'H', 'H'], ['H', 'H', 'T'], ['H', 'T', 'H'], ['H', 'T', 'T'], ['H', 'T', 'T'], ['H', 'T', 'H'], ['T', 'T', 'H'], ['H', 'T', 'T'], ['H', 'T', 'H'], ['H', 'H', 'H'], ['T', 'T', 'H'], ['H', 'H', 'T'], ['H', 'T', 'T'], ['H', 'H', 'T'], ['T', 'T', 'H'], ['T', 'T', 'T'], ['H', 'H', 'T'], ['T', 'H', 'H'], ['H', 'H', 'T'], ['T', 'H', 'H'], ['H', 'H', 'T'], ['H', 'H', 'H'], ['T', 'T', 'T'], ['H', 'H', 'T'], ['H', 'H', 'H'], ['T', 'T', 'H'], ['T', 'T', 'T'], ['H', 'H', 'T'], ['T', 'H', 'T'], ['H', 'T', 'T'], ['T', 'T', 'H'], ['T', 'H', 'T'], ['T', 'H', 'T'], ['H', 'H', 'H'], ['T', 'T', 'T'], ['T', 'T', 'T'], ['T', 'T', 'T'], ['H', 'H', 'H'], ['T', 'T', 'T'], ['T', 'T', 'T'], ['T', 'H', 'T'], ['T', 'T', 'H'], ['T', 'T', 'H'], ['T', 'H', 'T'], ['T', 'H', 'H'], ['H', 'H', 'T'], ['T', 'H', 'T'], ['T', 'T', 'H'], ['T', 'T', 'H'], ['H', 'T', 'T'], ['H', 'H', 'H'], ['T', 'T', 'T'], ['T', 'T', 'T'], ['H', 'H', 'H'], ['T', 'H', 'T'], ['H', 'T', 'T'], ['H', 'T', 'T'], ['T', 'H', 'H'], ['H', 'T', 'T'], ['H', 'T', 'T'], ['H', 'T', 'T'], ['H', 'H', 'T'], ['T', 'T', 'H'], ['T', 'T', 'H'], ['H', 'H', 'T'], ['T', 'T', 'H'], ['T', 'H', 'H'], ['H', 'T', 'T'], ['T', 'T', 'H'], ['T', 'H', 'T'], ['T', 'T', 'T'], ['H', 'T', 'H'], ['H', 'T', 'H'], ['H', 'H', 'T'], ['T', 'T', 'H'], ['H', 'H', 'H'], ['H', 'T', 'T'], ['T', 'H', 'H'], ['H', 'H', 'T'], ['T', 'T', 'H'], ['T', 'T', 'H'], ['H', 'H', 'T'], ['T', 'T', 'T'], ['T', 'H', 'H'], ['H', 'T', 'T'], ['T', 'H', 'H'], ['H', 'H', 'H'], ['T', 'H', 'H'], ['T', 'H', 'T'], ['H', 'T', 'T'], ['H', 'T', 'T'], ['H', 'T', 'H'], ['H', 'T', 'H'], ['H', 'T', 'H'], ['H', 'H', 'H'], ['H', 'H', 'T'], ['T', 'H', 'H'], ['H', 'T', 'T'], ['H', 'H', 'H'], ['T', 'T', 'H'], ['H', 'H', 'T'], ['T', 'T', 'T'], ['H', 'T', 'H'], ['H', 'H', 'H'], ['T', 'H', 'T'], ['T', 'T', 'H'], ['T', 'H', 'H'], ['T', 'T', 'H'], ['T', 'H', 'T'], ['H', 'H', 'T'], ['H', 'T', 'T'], ['T', 'T', 'T'], ['H', 'T', 'T'], ['H', 'T', 'H'], ['T', 'H', 'H'], ['T', 'T', 'H'], ['H', 'T', 'H'], ['T', 'H', 'T'], ['T', 'H', 'T'], ['T', 'H', 'H'], ['T', 'T', 'T'], ['H', 'H', 'H'], ['T', 'H', 'T'], ['H', 'H', 'T'], ['T', 'H', 'T'], ['H', 'H', 'T'], ['H', 'T', 'T'], ['H', 'T', 'H'], ['T', 'H', 'T'], ['T', 'H', 'T'], ['T', 'H', 'T'], ['H', 'H', 'H'], ['T', 'T', 'T'], ['H', 'H', 'H'], ['T', 'H', 'H'], ['H', 'T', 'H'], ['T', 'H', 'T'], ['H', 'H', 'T'], ['H', 'T', 'H'], ['H', 'T', 'T'], ['T', 'T', 'H'], ['H', 'H', 'H'], ['T', 'T', 'T'], ['T', 'H', 'H'], ['T', 'T', 'H'], ['T', 'H', 'H'], ['H', 'H', 'H'], ['T', 'H', 'H'], ['H', 'H', 'T'], ['T', 'T', 'T'], ['T', 'H', 'T'], ['H', 'H', 'T'], ['H', 'T', 'H'], ['H', 'T', 'H'], ['H', 'H', 'T'], ['H', 'T', 'T'], ['T', 'T', 'H'], ['T', 'H', 'H'], ['H', 'T', 'T'], ['T', 'H', 'T'], ['H', 'T', 'H'], ['H', 'T', 'T'], ['H', 'T', 'H'], ['T', 'H', 'T'], ['T', 'H', 'H'], ['H', 'T', 'H'], ['H', 'T', 'H'], ['T', 'H', 'T'], ['H', 'H', 'T'], ['T', 'H', 'T'], ['H', 'H', 'H'], ['T', 'H', 'H'], ['T', 'T', 'T'], ['H', 'T', 'H'], ['H', 'H', 'T'], ['H', 'H', 'H'], ['H', 'T', 'T'], ['H', 'H', 'T'], ['T', 'H', 'H'], ['H', 'H', 'H'], ['H', 'H', 'H'], ['T', 'H', 'H'], ['H', 'T', 'H'], ['T', 'H', 'H'], ['H', 'T', 'H'], ['T', 'H', 'H'], ['H', 'T', 'H'], ['H', 'T', 'T'], ['H', 'H', 'T'], ['T', 'T', 'T'], ['T', 'T', 'T'], ['H', 'H', 'T'], ['T', 'H', 'T'], ['H', 'H', 'H'], ['T', 'T', 'H'], ['H', 'T', 'H'], ['H', 'H', 'H'], ['H', 'H', 'T'], ['T', 'H', 'T'], ['T', 'H', 'T'], ['H', 'T', 'H'], ['T', 'H', 'T'], ['H', 'T', 'T'], ['T', 'H', 'T'], ['H', 'H', 'H'], ['T', 'T', 'T'], ['T', 'T', 'H'], ['T', 'T', 'T'], ['H', 'H', 'H'], ['T', 'T', 'T'], ['T', 'T', 'T'], ['T', 'T', 'H'], ['H', 'T', 'H'], ['T', 'T', 'H'], ['H', 'H', 'H'], ['T', 'T', 'T'], ['H', 'T', 'H'], ['T', 'H', 'T'], ['H', 'H', 'H'], ['T', 'T', 'H'], ['H', 'T', 'T'], ['H', 'H', 'T'], ['H', 'H', 'T'], ['H', 'T', 'H'], ['T', 'H', 'H'], ['H', 'H', 'T'], ['H', 'H', 'T'], ['T', 'H', 'H'], ['H', 'H', 'H'], ['T', 'T', 'T'], ['H', 'T', 'T'], ['H', 'H', 'T'], ['H', 'H', 'T'], ['T', 'T', 'T'], ['T', 'T', 'H'], ['T', 'T', 'T'], ['H', 'T', 'T'], ['T', 'T', 'T'], ['H', 'T', 'T'], ['H', 'T', 'T'], ['T', 'H', 'T'], ['H', 'T', 'H'], ['H', 'T', 'H'], ['H', 'H', 'H'], ['T', 'T', 'T'], ['T', 'H', 'H'], ['H', 'T', 'H'], ['H', 'H', 'H'], ['T', 'T', 'T'], ['H', 'T', 'T'], ['H', 'T', 'T'], ['T', 'T', 'H'], ['H', 'H', 'H'], ['T', 'T', 'H'], ['T', 'H', 'H'], ['T', 'H', 'H'], ['T', 'T', 'T'], ['H', 'H', 'T'], ['H', 'H', 'T'], ['H', 'T', 'H'], ['H', 'T', 'H'], ['H', 'T', 'T'], ['H', 'H', 'H'], ['T', 'H', 'T'], ['H', 'T', 'T'], ['H', 'T', 'T'], ['H', 'T', 'T'], ['H', 'H', 'T'], ['T', 'H', 'H'], ['T', 'H', 'H'], ['T', 'H', 'H'], ['H', 'H', 'T'], ['H', 'T', 'H'], ['H', 'H', 'H'], ['H', 'H', 'T'], ['T', 'H', 'T'], ['T', 'T', 'T'], ['H', 'T', 'H'], ['H', 'H', 'T'], ['H', 'T', 'T'], ['H', 'H', 'H'], ['H', 'H', 'T'], ['H', 'H', 'T'], ['T', 'H', 'T'], ['T', 'H', 'H'], ['T', 'T', 'T'], ['T', 'T', 'H'], ['H', 'T', 'T'], ['H', 'T', 'T'], ['T', 'T', 'T'], ['T', 'H', 'H'], ['H', 'T', 'T'], ['T', 'H', 'H'], ['T', 'T', 'T'], ['T', 'H', 'H'], ['T', 'T', 'T'], ['T', 'H', 'T'], ['H', 'T', 'T'], ['H', 'H', 'H'], ['T', 'H', 'H'], ['H', 'H', 'H'], ['H', 'H', 'H'], ['T', 'T', 'T'], ['H', 'H', 'T'], ['H', 'H', 'H'], ['T', 'H', 'T'], ['H', 'H', 'T'], ['H', 'T', 'T'], ['H', 'H', 'H'], ['T', 'T', 'T'], ['H', 'H', 'T'], ['T', 'H', 'H'], ['T', 'H', 'T'], ['T', 'H', 'T'], ['T', 'H', 'T'], ['T', 'H', 'T'], ['T', 'T', 'T'], ['T', 'H', 'H'], ['T', 'H', 'T'], ['H', 'T', 'H'], ['T', 'T', 'T'], ['T', 'T', 'H'], ['T', 'H', 'H'], ['H', 'T', 'T'], ['T', 'T', 'H'], ['H', 'T', 'H'], ['T', 'H', 'H'], ['T', 'H', 'H'], ['T', 'H', 'H'], ['T', 'H', 'H'], ['T', 'H', 'H'], ['T', 'H', 'H'], ['T', 'T', 'T'], ['H', 'T', 'T'], ['T', 'T', 'H'], ['T', 'H', 'T'], ['T', 'T', 'T'], ['T', 'H', 'T'], ['H', 'T', 'T'], ['T', 'T', 'H'], ['T', 'T', 'T'], ['H', 'H', 'H'], ['H', 'H', 'H'], ['H', 'H', 'T'], ['T', 'H', 'T'], ['T', 'T', 'T'], ['H', 'T', 'H'], ['H', 'T', 'T'], ['H', 'T', 'H'], ['T', 'H', 'T'], ['T', 'T', 'T'], ['H', 'T', 'H'], ['H', 'H', 'T'], ['H', 'H', 'T'], ['T', 'H', 'H'], ['H', 'H', 'H'], ['T', 'H', 'H'], ['H', 'H', 'H'], ['T', 'T', 'T'], ['H', 'T', 'H'], ['T', 'H', 'H'], ['T', 'T', 'T'], ['T', 'H', 'T'], ['T', 'H', 'H'], ['H', 'T', 'H'], ['H', 'T', 'H'], ['T', 'T', 'T'], ['T', 'T', 'T'], ['H', 'T', 'H'], ['H', 'H', 'T'], ['T', 'T', 'T'], ['T', 'T', 'T'], ['T', 'H', 'T'], ['T', 'T', 'T'], ['H', 'T', 'T'], ['H', 'H', 'H'], ['T', 'T', 'H'], ['T', 'T', 'T'], ['H', 'H', 'H'], ['T', 'T', 'T'], ['T', 'T', 'T'], ['H', 'H', 'H'], ['T', 'H', 'H'], ['T', 'T', 'H'], ['H', 'T', 'H'], ['H', 'T', 'H'], ['H', 'T', 'T'], ['H', 'T', 'T'], ['T', 'H', 'H'], ['H', 'H', 'H'], ['H', 'H', 'H'], ['H', 'T', 'T'], ['T', 'T', 'H'], ['T', 'T', 'T'], ['T', 'T', 'H'], ['T', 'H', 'T'], ['H', 'T', 'H'], ['T', 'T', 'H'], ['H', 'H', 'T'], ['H', 'H', 'H'], ['H', 'T', 'H'], ['T', 'T', 'H'], ['H', 'T', 'H'], ['T', 'T', 'H'], ['T', 'H', 'T'], ['H', 'T', 'T'], ['H', 'H', 'H'], ['T', 'H', 'H'], ['H', 'H', 'T'], ['H', 'H', 'T'], ['T', 'H', 'T'], ['T', 'H', 'T'], ['H', 'H', 'T'], ['T', 'H', 'T'], ['H', 'T', 'T'], ['T', 'H', 'H'], ['H', 'T', 'T'], ['H', 'H', 'H'], ['T', 'H', 'H'], ['T', 'T', 'H'], ['T', 'T', 'H'], ['H', 'H', 'T'], ['T', 'H', 'H'], ['H', 'H', 'T'], ['T', 'H', 'T'], ['T', 'H', 'H'], ['H', 'H', 'H'], ['H', 'H', 'T'], ['T', 'H', 'H'], ['H', 'H', 'H'], ['H', 'H', 'T'], ['H', 'H', 'H'], ['H', 'T', 'T'], ['T', 'T', 'H'], ['H', 'T', 'H'], ['H', 'H', 'T'], ['T', 'T', 'H'], ['T', 'T', 'H'], ['T', 'H', 'H'], ['H', 'H', 'T'], ['H', 'T', 'T'], ['T', 'T', 'H'], ['T', 'T', 'T'], ['T', 'T', 'H'], ['H', 'H', 'T'], ['T', 'H', 'T'], ['T', 'H', 'H'], ['H', 'T', 'T'], ['H', 'H', 'T'], ['T', 'H', 'H'], ['T', 'T', 'T'], ['H', 'H', 'H'], ['H', 'T', 'T'], ['H', 'H', 'H'], ['T', 'T', 'T'], ['T', 'H', 'H'], ['T', 'T', 'H'], ['T', 'H', 'H'], ['H', 'T', 'T'], ['T', 'H', 'H'], ['T', 'T', 'T'], ['H', 'H', 'T'], ['H', 'H', 'T'], ['H', 'H', 'T'], ['H', 'T', 'H'], ['H', 'T', 'H'], ['T', 'T', 'T'], ['H', 'T', 'T'], ['T', 'T', 'T'], ['T', 'H', 'H'], ['H', 'T', 'H'], ['H', 'H', 'H'], ['H', 'H', 'H'], ['H', 'T', 'T'], ['T', 'H', 'T'], ['T', 'H', 'H'], ['T', 'H', 'T'], ['T', 'H', 'T'], ['T', 'H', 'T'], ['T', 'H', 'T'], ['T', 'T', 'T'], ['H', 'H', 'T'], ['T', 'T', 'T'], ['H', 'H', 'T'], ['H', 'H', 'T'], ['H', 'H', 'T'], ['H', 'T', 'H'], ['H', 'H', 'T'], ['H', 'H', 'H'], ['H', 'T', 'H'], ['T', 'T', 'T'], ['T', 'H', 'T'], ['T', 'T', 'T'], ['H', 'H', 'T'], ['H', 'T', 'T'], ['H', 'T', 'T'], ['T', 'T', 'H'], ['H', 'H', 'T'], ['H', 'T', 'H'], ['T', 'T', 'H'], ['H', 'T', 'T'], ['T', 'T', 'H'], ['H', 'H', 'T'], ['H', 'T', 'T'], ['T', 'T', 'H'], ['T', 'T', 'H'], ['H', 'T', 'H'], ['H', 'H', 'T'], ['H', 'H', 'H'], ['H', 'H', 'T'], ['T', 'H', 'T'], ['T', 'H', 'T'], ['T', 'H', 'T'], ['T', 'T', 'H'], ['H', 'H', 'T'], ['H', 'H', 'T'], ['T', 'H', 'T'], ['T', 'H', 'H'], ['H', 'H', 'T'], ['H', 'T', 'H'], ['H', 'T', 'H'], ['T', 'H', 'T'], ['T', 'T', 'T'], ['T', 'T', 'T'], ['H', 'H', 'T'], ['T', 'T', 'H'], ['T', 'T', 'T'], ['T', 'H', 'H'], ['T', 'T', 'T'], ['T', 'H', 'H'], ['T', 'H', 'T'], ['T', 'H', 'H'], ['T', 'T', 'H'], ['T', 'T', 'H'], ['T', 'H', 'H'], ['T', 'T', 'H'], ['H', 'T', 'T'], ['H', 'H', 'H'], ['H', 'T', 'H'], ['H', 'T', 'H'], ['H', 'T', 'H'], ['T', 'H', 'H'], ['T', 'H', 'T'], ['H', 'T', 'H'], ['T', 'H', 'H'], ['H', 'T', 'T'], ['T', 'T', 'H'], ['H', 'T', 'H'], ['H', 'H', 'H'], ['H', 'T', 'T'], ['H', 'T', 'H'], ['H', 'H', 'H'], ['H', 'T', 'T'], ['H', 'H', 'T'], ['T', 'T', 'T'], ['H', 'T', 'T'], ['T', 'T', 'T'], ['H', 'H', 'T'], ['H', 'H', 'T'], ['T', 'H', 'H'], ['T', 'T', 'H'], ['H', 'T', 'T'], ['H', 'H', 'T'], ['T', 'T', 'T'], ['T', 'T', 'T'], ['T', 'H', 'H'], ['T', 'T', 'T'], ['T', 'H', 'H'], ['H', 'T', 'H'], ['T', 'H', 'T'], ['T', 'H', 'H'], ['H', 'H', 'H'], ['T', 'H', 'T'], ['H', 'H', 'T'], ['H', 'T', 'T'], ['T', 'H', 'T'], ['T', 'H', 'H'], ['T', 'H', 'H'], ['T', 'H', 'T'], ['T', 'H', 'T'], ['H', 'T', 'T'], ['T', 'T', 'H'], ['T', 'H', 'T'], ['H', 'T', 'H'], ['H', 'H', 'T'], ['H', 'T', 'H'], ['T', 'H', 'T'], ['T', 'T', 'H'], ['H', 'T', 'H'], ['H', 'H', 'T'], ['H', 'H', 'T'], ['T', 'T', 'T'], ['T', 'H', 'T'], ['T', 'H', 'T'], ['H', 'T', 'T'], ['T', 'T', 'H'], ['H', 'T', 'T'], ['H', 'T', 'H'], ['H', 'T', 'H'], ['T', 'H', 'T'], ['H', 'T', 'H'], ['H', 'H', 'H'], ['T', 'T', 'H'], ['H', 'H', 'H'], ['H', 'T', 'H'], ['H', 'T', 'T'], ['T', 'H', 'H'], ['T', 'H', 'H'], ['H', 'H', 'H'], ['T', 'T', 'H'], ['H', 'H', 'H'], ['T', 'H', 'H'], ['T', 'T', 'T'], ['H', 'T', 'H'], ['T', 'H', 'T'], ['H', 'T', 'H'], ['T', 'H', 'T'], ['T', 'H', 'H'], ['T', 'T', 'H'], ['H', 'H', 'H'], ['H', 'T', 'T'], ['H', 'T', 'T'], ['H', 'T', 'H'], ['H', 'T', 'H'], ['H', 'H', 'T'], ['T', 'T', 'T'], ['T', 'H', 'T'], ['T', 'T', 'H'], ['T', 'T', 'H'], ['T', 'T', 'T'], ['H', 'H', 'H'], ['H', 'H', 'H'], ['T', 'T', 'H'], ['T', 'T', 'H'], ['H', 'H', 'T'], ['T', 'H', 'T'], ['T', 'T', 'H'], ['T', 'T', 'H'], ['T', 'T', 'H'], ['T', 'H', 'T'], ['H', 'H', 'T'], ['H', 'H', 'T'], ['T', 'H', 'H'], ['T', 'H', 'T'], ['T', 'T', 'H'], ['H', 'T', 'T'], ['T', 'T', 'H'], ['T', 'T', 'T'], ['H', 'T', 'H'], ['T', 'T', 'T'], ['T', 'T', 'T'], ['H', 'T', 'H'], ['H', 'T', 'H'], ['H', 'H', 'H'], ['T', 'H', 'T'], ['H', 'T', 'H'], ['H', 'T', 'T'], ['H', 'H', 'T'], ['T', 'T', 'T'], ['T', 'T', 'H'], ['H', 'H', 'T'], ['T', 'H', 'H'], ['T', 'H', 'T'], ['T', 'T', 'T'], ['T', 'T', 'H'], ['H', 'H', 'T'], ['T', 'T', 'H'], ['H', 'T', 'H'], ['H', 'H', 'T'], ['T', 'H', 'H'], ['T', 'H', 'H'], ['T', 'T', 'T'], ['T', 'H', 'H'], ['H', 'H', 'T'], ['H', 'T', 'H'], ['T', 'H', 'H'], ['H', 'H', 'H'], ['H', 'H', 'H'], ['T', 'T', 'H'], ['T', 'H', 'T'], ['T', 'T', 'H'], ['T', 'H', 'H'], ['T', 'H', 'T'], ['T', 'H', 'H'], ['H', 'T', 'H'], ['H', 'T', 'H'], ['T', 'T', 'H'], ['H', 'T', 'T'], ['T', 'T', 'T'], ['T', 'T', 'T'], ['T', 'T', 'H'], ['H', 'H', 'T'], ['T', 'H', 'H'], ['T', 'H', 'T'], ['H', 'T', 'T'], ['T', 'T', 'H'], ['T', 'H', 'H'], ['T', 'T', 'T'], ['H', 'H', 'T'], ['H', 'H', 'H'], ['T', 'H', 'H'], ['T', 'H', 'H'], ['T', 'T', 'T'], ['H', 'T', 'T'], ['T', 'H', 'H'], ['T', 'T', 'T'], ['T', 'H', 'T'], ['T', 'T', 'H'], ['H', 'H', 'T'], ['H', 'H', 'T'], ['H', 'H', 'H'], ['H', 'T', 'H'], ['H', 'H', 'H'], ['T', 'H', 'H'], ['H', 'H', 'H'], ['H', 'T', 'T'], ['H', 'T', 'T'], ['H', 'H', 'H'], ['H', 'T', 'H'], ['T', 'T', 'T'], ['T', 'T', 'H'], ['H', 'H', 'H'], ['T', 'H', 'H'], ['H', 'T', 'H'], ['T', 'H', 'H'], ['H', 'T', 'H'], ['H', 'H', 'H'], ['T', 'H', 'T'], ['H', 'H', 'H'], ['H', 'H', 'T'], ['T', 'T', 'T'], ['H', 'T', 'T'], ['T', 'T', 'H'], ['T', 'T', 'H'], ['H', 'T', 'T'], ['H', 'T', 'H'], ['T', 'T', 'H'], ['H', 'T', 'T'], ['T', 'H', 'H'], ['H', 'H', 'H'], ['H', 'H', 'T'], ['T', 'H', 'H'], ['H', 'T', 'H'], ['T', 'T', 'H'], ['T', 'H', 'T'], ['H', 'H', 'T'], ['T', 'H', 'H'], ['H', 'H', 'T'], ['T', 'H', 'H'], ['H', 'T', 'T'], ['H', 'T', 'T'], ['T', 'H', 'H'], ['T', 'T', 'T'], ['T', 'T', 'H'], ['H', 'H', 'T'], ['H', 'T', 'H'], ['T', 'T', 'T'], ['H', 'T', 'H'], ['T', 'T', 'T'], ['H', 'H', 'H'], ['H', 'H', 'T'], ['T', 'T', 'H'], ['T', 'H', 'H'], ['T', 'T', 'T'], ['H', 'T', 'T'], ['T', 'T', 'H'], ['H', 'T', 'T'], ['H', 'T', 'T'], ['H', 'H', 'T'], ['T', 'H', 'H'], ['H', 'T', 'T'], ['H', 'T', 'H'], ['T', 'T', 'T'], ['T', 'T', 'T'], ['H', 'T', 'T'], ['H', 'H', 'H'], ['H', 'T', 'H'], ['T', 'T', 'T'], ['T', 'T', 'T'], ['H', 'H', 'H'], ['H', 'H', 'H'], ['H', 'T', 'H'], ['T', 'H', 'H'], ['H', 'T', 'H'], ['T', 'H', 'T'], ['T', 'T', 'T'], ['T', 'H', 'H'], ['T', 'H', 'H'], ['H', 'T', 'H'], ['H', 'T', 'H'], ['H', 'H', 'T'], ['T', 'H', 'T'], ['H', 'H', 'T'], ['H', 'T', 'T'], ['H', 'H', 'H'], ['H', 'H', 'H'], ['T', 'H', 'H'], ['H', 'T', 'T'], ['H', 'H', 'T'], ['H', 'H', 'H'], ['T', 'H', 'H'], ['H', 'H', 'T'], ['T', 'H', 'T'], ['H', 'T', 'T'], ['T', 'H', 'T'], ['H', 'T', 'H'], ['H', 'T', 'H'], ['T', 'T', 'H'], ['H', 'T', 'H'], ['T', 'T', 'H'], ['H', 'T', 'T'], ['T', 'H', 'H'], ['T', 'H', 'T'], ['H', 'T', 'H'], ['T', 'H', 'H'], ['T', 'T', 'H'], ['H', 'T', 'H'], ['T', 'H', 'H'], ['T', 'H', 'H'], ['T', 'T', 'H'], ['T', 'H', 'T'], ['T', 'T', 'H'], ['T', 'T', 'H'], ['T', 'T', 'H'], ['T', 'H', 'T'], ['T', 'T', 'T'], ['H', 'H', 'T'], ['H', 'H', 'H'], ['H', 'T', 'H'], ['H', 'H', 'H'], ['H', 'H', 'H'], ['H', 'H', 'T'], ['T', 'T', 'T'], ['H', 'H', 'T'], ['H', 'T', 'T'], ['H', 'T', 'H'], ['H', 'T', 'T'], ['H', 'H', 'T'], ['T', 'T', 'T'], ['T', 'H', 'H'], ['H', 'T', 'T'], ['H', 'T', 'H'], ['T', 'T', 'H'], ['H', 'H', 'H'], ['T', 'T', 'T'], ['H', 'H', 'T'], ['H', 'T', 'T'], ['T', 'T', 'H'], ['T', 'H', 'T'], ['H', 'H', 'H'], ['T', 'T', 'T'], ['H', 'H', 'T'], ['H', 'T', 'T'], ['H', 'H', 'H'], ['H', 'T', 'T'], ['T', 'T', 'T'], ['H', 'T', 'T'], ['H', 'T', 'H'], ['H', 'T', 'T'], ['T', 'H', 'H'], ['H', 'T', 'T'], ['T', 'H', 'H'], ['T', 'T', 'T'], ['H', 'T', 'T'], ['H', 'H', 'H'], ['H', 'H', 'T'], ['T', 'T', 'T'], ['H', 'T', 'T'], ['H', 'H', 'H'], ['T', 'H', 'T'], ['T', 'T', 'H'], ['H', 'T', 'T'], ['H', 'T', 'T'], ['H', 'H', 'H'], ['H', 'H', 'T'], ['T', 'H', 'H'], ['H', 'T', 'H'], ['H', 'T', 'T'], ['T', 'H', 'T'], ['H', 'H', 'T'], ['T', 'T', 'H'], ['T', 'T', 'H'], ['H', 'T', 'H'], ['T', 'T', 'T'], ['T', 'T', 'H'], ['T', 'H', 'H'], ['H', 'T', 'H'], ['H', 'H', 'T'], ['H', 'H', 'T'], ['H', 'H', 'H'], ['H', 'H', 'H'], ['H', 'T', 'T'], ['H', 'T', 'H'], ['H', 'T', 'H'], ['H', 'T', 'T'], ['T', 'T', 'H'], ['T', 'T', 'T'], ['T', 'H', 'H'], ['T', 'T', 'T'], ['H', 'T', 'H'], ['H', 'H', 'H'], ['T', 'H', 'T'], ['H', 'H', 'T'], ['H', 'H', 'H'], ['H', 'H', 'T'], ['T', 'T', 'H'], ['T', 'T', 'T'], ['T', 'T', 'T'], ['H', 'T', 'H'], ['T', 'T', 'T'], ['H', 'H', 'H'], ['T', 'T', 'T'], ['H', 'H', 'T'], ['H', 'H', 'H'], ['H', 'H', 'H'], ['T', 'H', 'T'], ['H', 'T', 'T'], ['H', 'H', 'T'], ['H', 'H', 'H'], ['H', 'T', 'T'], ['H', 'H', 'H'], ['T', 'H', 'H'], ['T', 'H', 'H'], ['H', 'T', 'H'], ['T', 'H', 'H'], ['H', 'T', 'T'], ['H', 'H', 'T'], ['H', 'T', 'T'], ['H', 'T', 'T'], ['H', 'H', 'T'], ['T', 'T', 'T'], ['H', 'H', 'H'], ['H', 'T', 'H'], ['H', 'T', 'H'], ['H', 'H', 'H'], ['H', 'H', 'T'], ['H', 'H', 'T'], ['H', 'H', 'H'], ['H', 'T', 'H'], ['T', 'H', 'T'], ['H', 'H', 'T'], ['T', 'T', 'H'], ['H', 'T', 'T'], ['H', 'T', 'T'], ['T', 'T', 'T'], ['T', 'H', 'H'], ['H', 'H', 'T'], ['H', 'T', 'H'], ['H', 'H', 'H'], ['H', 'T', 'H'], ['T', 'H', 'T'], ['H', 'T', 'H'], ['T', 'H', 'H'], ['T', 'T', 'T'], ['H', 'T', 'H'], ['H', 'H', 'H'], ['T', 'H', 'H'], ['H', 'T', 'H'], ['T', 'T', 'T'], ['T', 'T', 'T'], ['T', 'T', 'T'], ['H', 'H', 'H'], ['T', 'H', 'T'], ['T', 'H', 'H'], ['H', 'T', 'H'], ['H', 'T', 'T'], ['H', 'T', 'H'], ['H', 'H', 'H'], ['H', 'T', 'T'], ['H', 'H', 'H'], ['H', 'T', 'H'], ['T', 'T', 'T'], ['H', 'T', 'H'], ['T', 'T', 'H'], ['H', 'H', 'H'], ['H', 'H', 'H'], ['H', 'T', 'H'], ['H', 'T', 'T'], ['T', 'T', 'T'], ['H', 'T', 'H'], ['T', 'H', 'T'], ['T', 'T', 'H'], ['H', 'T', 'H'], ['T', 'T', 'T'], ['H', 'T', 'H'], ['T', 'H', 'T'], ['H', 'H', 'H'], ['H', 'T', 'T'], ['T', 'T', 'T'], ['H', 'T', 'T'], ['H', 'H', 'T'], ['H', 'H', 'T'], ['T', 'T', 'H'], ['T', 'T', 'H'], ['H', 'T', 'H'], ['H', 'T', 'H'], ['T', 'T', 'T'], ['T', 'T', 'T'], ['T', 'T', 'T'], ['T', 'T', 'T'], ['T', 'T', 'H'], ['T', 'T', 'H'], ['H', 'T', 'T'], ['T', 'H', 'T'], ['T', 'T', 'T'], ['H', 'H', 'H'], ['T', 'T', 'H'], ['H', 'H', 'H'], ['H', 'T', 'H'], ['T', 'H', 'T'], ['H', 'H', 'T'], ['T', 'H', 'T'], ['H', 'T', 'T'], ['T', 'H', 'T'], ['H', 'H', 'T'], ['H', 'H', 'H'], ['H', 'H', 'T'], ['T', 'H', 'T'], ['H', 'T', 'T'], ['T', 'T', 'H'], ['H', 'H', 'T'], ['H', 'T', 'T'], ['T', 'H', 'T'], ['H', 'T', 'T'], ['H', 'T', 'T'], ['T', 'T', 'H'], ['T', 'H', 'H'], ['T', 'H', 'H'], ['H', 'H', 'T'], ['H', 'H', 'H'], ['T', 'T', 'T'], ['T', 'H', 'H'], ['T', 'T', 'H'], ['T', 'H', 'H'], ['H', 'H', 'H'], ['T', 'T', 'T'], ['H', 'H', 'H'], ['H', 'H', 'T'], ['T', 'T', 'T'], ['T', 'H', 'H'], ['T', 'T', 'T'], ['T', 'H', 'T'], ['H', 'H', 'T'], ['T', 'T', 'T'], ['H', 'T', 'T'], ['H', 'H', 'T'], ['T', 'H', 'T'], ['T', 'T', 'T'], ['T', 'H', 'T'], ['H', 'H', 'H'], ['H', 'H', 'T'], ['T', 'H', 'T'], ['T', 'T', 'H'], ['H', 'T', 'T'], ['T', 'T', 'T'], ['T', 'H', 'T'], ['H', 'H', 'H'], ['T', 'H', 'H'], ['T', 'H', 'T'], ['H', 'H', 'T'], ['T', 'H', 'H'], ['T', 'T', 'T'], ['H', 'H', 'H'], ['T', 'T', 'T'], ['T', 'H', 'H'], ['T', 'H', 'T'], ['H', 'H', 'T'], ['T', 'T', 'T'], ['H', 'T', 'T'], ['T', 'T', 'H'], ['T', 'H', 'T'], ['H', 'H', 'T'], ['T', 'H', 'H'], ['T', 'T', 'T'], ['T', 'T', 'T'], ['T', 'T', 'T'], ['H', 'T', 'H'], ['T', 'T', 'T'], ['H', 'T', 'H'], ['H', 'T', 'H'], ['T', 'T', 'T'], ['T', 'T', 'H'], ['H', 'T', 'H'], ['T', 'T', 'H'], ['T', 'H', 'T'], ['T', 'H', 'H'], ['T', 'H', 'H'], ['H', 'T', 'T'], ['H', 'T', 'T'], ['H', 'H', 'T'], ['T', 'H', 'H'], ['H', 'T', 'T'], ['T', 'T', 'T'], ['H', 'T', 'T'], ['T', 'T', 'T'], ['H', 'T', 'H'], ['T', 'T', 'T'], ['H', 'H', 'H'], ['T', 'T', 'T'], ['H', 'T', 'T'], ['T', 'H', 'H'], ['T', 'H', 'T'], ['H', 'H', 'T'], ['T', 'T', 'H'], ['T', 'T', 'T'], ['T', 'T', 'T'], ['T', 'T', 'T'], ['H', 'T', 'H'], ['T', 'H', 'T'], ['H', 'H', 'H'], ['H', 'H', 'H'], ['H', 'H', 'H'], ['H', 'H', 'T'], ['H', 'T', 'T'], ['H', 'T', 'H'], ['H', 'H', 'T'], ['T', 'T', 'T'], ['T', 'H', 'H'], ['T', 'H', 'H'], ['H', 'H', 'T'], ['T', 'T', 'T'], ['T', 'H', 'T'], ['H', 'T', 'H'], ['T', 'T', 'T'], ['T', 'T', 'H'], ['T', 'T', 'T'], ['T', 'H', 'T'], ['T', 'T', 'T'], ['H', 'H', 'H'], ['T', 'T', 'H'], ['H', 'H', 'H'], ['H', 'T', 'H'], ['T', 'T', 'T'], ['H', 'T', 'H'], ['T', 'H', 'T'], ['T', 'H', 'T'], ['T', 'H', 'T'], ['H', 'T', 'H'], ['H', 'T', 'T'], ['H', 'T', 'H'], ['T', 'T', 'H'], ['T', 'H', 'H'], ['T', 'T', 'T'], ['T', 'H', 'H'], ['T', 'T', 'T'], ['T', 'H', 'H'], ['T', 'H', 'T'], ['T', 'T', 'H'], ['H', 'T', 'H'], ['T', 'H', 'T'], ['H', 'H', 'H'], ['H', 'H', 'T'], ['H', 'H', 'H'], ['T', 'H', 'T'], ['H', 'T', 'T'], ['H', 'T', 'H'], ['H', 'T', 'H'], ['T', 'T', 'H'], ['H', 'H', 'H'], ['H', 'H', 'T'], ['T', 'H', 'H'], ['T', 'H', 'H'], ['H', 'H', 'H'], ['T', 'H', 'T'], ['H', 'H', 'H'], ['H', 'H', 'H'], ['H', 'H', 'T'], ['H', 'T', 'H'], ['T', 'H', 'H'], ['T', 'H', 'T'], ['T', 'H', 'H'], ['T', 'H', 'T'], ['H', 'T', 'T'], ['H', 'H', 'T'], ['T', 'T', 'T'], ['T', 'T', 'H'], ['T', 'H', 'T'], ['T', 'T', 'H'], ['H', 'H', 'H'], ['H', 'H', 'T'], ['T', 'H', 'T'], ['T', 'H', 'H'], ['T', 'H', 'T'], ['H', 'T', 'H'], ['H', 'H', 'T'], ['T', 'H', 'H'], ['H', 'H', 'H'], ['T', 'H', 'H'], ['T', 'T', 'T'], ['H', 'T', 'T'], ['T', 'T', 'T'], ['T', 'H', 'H'], ['H', 'T', 'H'], ['H', 'H', 'T'], ['H', 'H', 'H'], ['H', 'H', 'H'], ['H', 'H', 'T'], ['T', 'T', 'T'], ['H', 'T', 'H'], ['H', 'T', 'H'], ['H', 'T', 'H'], ['T', 'T', 'T'], ['H', 'T', 'H'], ['T', 'H', 'T'], ['H', 'T', 'H'], ['T', 'T', 'H'], ['T', 'T', 'H'], ['T', 'H', 'T'], ['T', 'T', 'T'], ['H', 'T', 'T'], ['H', 'H', 'H'], ['T', 'H', 'T'], ['H', 'H', 'T'], ['H', 'T', 'T'], ['T', 'T', 'H'], ['H', 'T', 'H'], ['T', 'T', 'H'], ['H', 'H', 'H'], ['H', 'H', 'H'], ['T', 'T', 'H'], ['H', 'H', 'H'], ['H', 'T', 'H'], ['H', 'H', 'H'], ['T', 'H', 'H'], ['H', 'T', 'H'], ['T', 'T', 'H'], ['T', 'T', 'T'], ['H', 'T', 'H'], ['T', 'T', 'H'], ['H', 'H', 'T'], ['H', 'T', 'H'], ['H', 'T', 'H'], ['T', 'H', 'H'], ['H', 'H', 'H'], ['H', 'T', 'H'], ['T', 'T', 'T'], ['H', 'T', 'H'], ['T', 'H', 'T'], ['T', 'H', 'T'], ['H', 'H', 'T'], ['T', 'H', 'H'], ['H', 'H', 'H'], ['H', 'H', 'T'], ['T', 'T', 'H'], ['T', 'T', 'T'], ['H', 'T', 'T'], ['H', 'H', 'H'], ['H', 'T', 'H'], ['T', 'T', 'T'], ['T', 'T', 'H'], ['H', 'T', 'H'], ['T', 'H', 'T'], ['H', 'T', 'H'], ['H', 'H', 'H'], ['H', 'T', 'H'], ['H', 'H', 'H'], ['T', 'H', 'T'], ['H', 'T', 'T'], ['H', 'T', 'T'], ['H', 'H', 'T'], ['T', 'T', 'T'], ['H', 'H', 'T'], ['H', 'H', 'H'], ['T', 'T', 'H'], ['T', 'H', 'H'], ['H', 'T', 'H'], ['H', 'T', 'H'], ['T', 'T', 'H'], ['T', 'T', 'T'], ['H', 'T', 'H'], ['T', 'H', 'T'], ['T', 'T', 'H'], ['H', 'H', 'T'], ['T', 'H', 'T'], ['H', 'H', 'T'], ['H', 'T', 'H'], ['H', 'T', 'T'], ['H', 'H', 'H'], ['H', 'T', 'T'], ['H', 'H', 'T'], ['T', 'T', 'T'], ['H', 'H', 'T'], ['T', 'T', 'H'], ['T', 'T', 'H'], ['H', 'H', 'H'], ['T', 'T', 'T'], ['T', 'H', 'H'], ['H', 'H', 'H'], ['T', 'H', 'T'], ['T', 'H', 'T'], ['H', 'H', 'H'], ['H', 'T', 'T'], ['H', 'H', 'H'], ['H', 'H', 'H'], ['T', 'T', 'H'], ['T', 'H', 'T'], ['T', 'T', 'T'], ['H', 'H', 'H'], ['H', 'T', 'T'], ['H', 'H', 'H'], ['H', 'H', 'H'], ['H', 'T', 'T'], ['H', 'H', 'H'], ['T', 'T', 'H'], ['H', 'T', 'H'], ['T', 'T', 'T'], ['T', 'T', 'H'], ['H', 'H', 'H'], ['T', 'T', 'T'], ['H', 'H', 'T'], ['H', 'H', 'H'], ['T', 'T', 'T'], ['H', 'H', 'H'], ['T', 'T', 'T'], ['T', 'T', 'T'], ['H', 'H', 'T'], ['T', 'T', 'T'], ['T', 'H', 'T'], ['T', 'T', 'T'], ['T', 'H', 'T'], ['T', 'T', 'T'], ['T', 'T', 'T'], ['H', 'H', 'H'], ['H', 'T', 'T'], ['T', 'T', 'T'], ['T', 'H', 'T'], ['T', 'T', 'H'], ['H', 'T', 'T'], ['T', 'T', 'H'], ['T', 'T', 'H'], ['H', 'T', 'T'], ['H', 'H', 'T'], ['H', 'T', 'H'], ['T', 'H', 'T'], ['H', 'H', 'T'], ['T', 'H', 'H'], ['H', 'T', 'H'], ['H', 'H', 'H'], ['H', 'T', 'T'], ['H', 'H', 'H'], ['H', 'T', 'H'], ['H', 'H', 'T'], ['H', 'T', 'T'], ['H', 'H', 'T'], ['T', 'T', 'T'], ['H', 'H', 'H'], ['T', 'T', 'T'], ['H', 'H', 'T'], ['T', 'H', 'H'], ['H', 'T', 'T'], ['H', 'H', 'H'], ['T', 'H', 'T'], ['H', 'H', 'H'], ['H', 'T', 'H'], ['T', 'T', 'H'], ['T', 'T', 'H'], ['H', 'H', 'T'], ['T', 'T', 'T'], ['T', 'T', 'T'], ['T', 'H', 'H'], ['H', 'T', 'T'], ['T', 'H', 'T'], ['T', 'T', 'H'], ['H', 'T', 'H'], ['T', 'T', 'T'], ['T', 'H', 'H'], ['T', 'H', 'T'], ['H', 'T', 'H'], ['T', 'H', 'T'], ['H', 'T', 'H'], ['T', 'T', 'H'], ['H', 'T', 'H'], ['T', 'T', 'T'], ['T', 'H', 'T'], ['T', 'H', 'H'], ['T', 'T', 'H'], ['T', 'H', 'H'], ['T', 'T', 'H'], ['H', 'T', 'H'], ['T', 'T', 'H'], ['T', 'T', 'H'], ['H', 'H', 'H'], ['H', 'H', 'T'], ['T', 'H', 'T'], ['T', 'T', 'H'], ['T', 'T', 'H'], ['H', 'T', 'H'], ['H', 'H', 'T'], ['T', 'H', 'T'], ['T', 'H', 'H'], ['H', 'H', 'T'], ['H', 'T', 'H'], ['T', 'H', 'T'], ['H', 'H', 'H'], ['H', 'T', 'H'], ['T', 'H', 'T'], ['H', 'H', 'T'], ['T', 'H', 'H'], ['H', 'H', 'H'], ['T', 'T', 'H'], ['T', 'T', 'T'], ['T', 'T', 'H'], ['T', 'H', 'H'], ['H', 'H', 'H'], ['H', 'H', 'T'], ['H', 'T', 'H'], ['H', 'H', 'T'], ['T', 'T', 'T'], ['H', 'H', 'H'], ['H', 'T', 'T'], ['T', 'H', 'T'], ['H', 'H', 'H'], ['T', 'T', 'H'], ['H', 'H', 'T'], ['H', 'H', 'T'], ['T', 'T', 'T'], ['H', 'T', 'T'], ['T', 'T', 'T'], ['H', 'T', 'T'], ['T', 'T', 'H'], ['H', 'T', 'T'], ['T', 'T', 'H'], ['T', 'T', 'T'], ['H', 'H', 'T'], ['T', 'T', 'T'], ['T', 'T', 'T'], ['T', 'T', 'T'], ['H', 'T', 'T'], ['T', 'H', 'H'], ['T', 'H', 'H'], ['T', 'H', 'H'], ['T', 'H', 'H'], ['H', 'T', 'T'], ['T', 'H', 'H'], ['H', 'H', 'H'], ['T', 'T', 'T'], ['H', 'H', 'T'], ['H', 'T', 'H'], ['T', 'H', 'T'], ['T', 'H', 'H'], ['T', 'T', 'H'], ['T', 'T', 'H'], ['T', 'T', 'T'], ['T', 'T', 'T'], ['T', 'H', 'H'], ['T', 'H', 'H'], ['H', 'T', 'T'], ['T', 'T', 'T'], ['H', 'H', 'H'], ['T', 'H', 'T'], ['H', 'H', 'T'], ['T', 'T', 'T'], ['H', 'H', 'H'], ['T', 'T', 'H'], ['T', 'T', 'H'], ['H', 'T', 'T'], ['H', 'T', 'H'], ['H', 'T', 'H'], ['H', 'T', 'H'], ['H', 'H', 'T'], ['H', 'T', 'T'], ['T', 'T', 'T'], ['T', 'H', 'H'], ['H', 'H', 'T'], ['H', 'T', 'T'], ['T', 'T', 'T'], ['T', 'T', 'H'], ['T', 'T', 'H'], ['H', 'T', 'H'], ['H', 'H', 'H'], ['H', 'H', 'T'], ['H', 'H', 'T'], ['T', 'H', 'H'], ['T', 'T', 'H'], ['T', 'H', 'T'], ['T', 'T', 'T'], ['T', 'T', 'H'], ['T', 'T', 'H'], ['T', 'H', 'H'], ['T', 'T', 'H'], ['T', 'T', 'H'], ['T', 'H', 'H'], ['T', 'T', 'H'], ['H', 'H', 'H'], ['H', 'T', 'T'], ['T', 'H', 'T'], ['H', 'T', 'H'], ['H', 'T', 'T'], ['H', 'T', 'T'], ['T', 'H', 'T'], ['H', 'H', 'H'], ['T', 'H', 'H'], ['H', 'H', 'H'], ['T', 'T', 'H'], ['H', 'T', 'H'], ['T', 'H', 'T'], ['H', 'H', 'T'], ['H', 'T', 'T'], ['H', 'H', 'H'], ['T', 'T', 'T'], ['H', 'H', 'T'], ['H', 'H', 'T'], ['H', 'H', 'H'], ['T', 'T', 'T'], ['T', 'H', 'H'], ['H', 'T', 'H'], ['T', 'H', 'H'], ['T', 'T', 'T'], ['H', 'T', 'T'], ['H', 'T', 'H'], ['H', 'T', 'H'], ['T', 'H', 'T'], ['T', 'T', 'T'], ['T', 'T', 'T'], ['T', 'H', 'T'], ['T', 'T', 'T'], ['H', 'T', 'H'], ['T', 'T', 'H'], ['H', 'H', 'H'], ['T', 'T', 'T'], ['H', 'T', 'T'], ['H', 'H', 'T'], ['H', 'H', 'T'], ['T', 'T', 'T'], ['T', 'H', 'T'], ['H', 'T', 'H'], ['H', 'T', 'H'], ['H', 'T', 'H'], ['H', 'T', 'T'], ['T', 'T', 'T'], ['T', 'T', 'T'], ['H', 'H', 'H'], ['H', 'H', 'T'], ['T', 'H', 'H'], ['H', 'H', 'H'], ['H', 'H', 'H'], ['T', 'T', 'T'], ['H', 'H', 'H'], ['T', 'H', 'T'], ['H', 'H', 'T'], ['T', 'T', 'H'], ['H', 'H', 'T'], ['T', 'T', 'H'], ['T', 'H', 'T'], ['T', 'H', 'H'], ['H', 'H', 'H'], ['T', 'T', 'T'], ['T', 'T', 'H'], ['T', 'T', 'T'], ['H', 'T', 'H'], ['H', 'H', 'T'], ['H', 'H', 'H'], ['T', 'T', 'H'], ['H', 'T', 'H'], ['T', 'T', 'T'], ['T', 'H', 'H'], ['T', 'H', 'H'], ['T', 'H', 'H'], ['T', 'T', 'H'], ['H', 'H', 'H'], ['T', 'T', 'T'], ['T', 'H', 'H'], ['T', 'H', 'T'], ['H', 'T', 'H'], ['T', 'T', 'T'], ['T', 'T', 'H'], ['T', 'T', 'T'], ['H', 'H', 'T'], ['H', 'T', 'H'], ['H', 'H', 'T'], ['H', 'H', 'H'], ['T', 'T', 'T'], ['H', 'T', 'T'], ['T', 'T', 'H'], ['T', 'T', 'T'], ['H', 'H', 'H'], ['H', 'T', 'T'], ['H', 'T', 'H'], ['T', 'T', 'T'], ['T', 'H', 'H'], ['H', 'T', 'H'], ['T', 'H', 'H'], ['H', 'H', 'T'], ['H', 'T', 'H'], ['H', 'H', 'H'], ['H', 'H', 'H'], ['T', 'H', 'T'], ['H', 'H', 'H'], ['H', 'T', 'T'], ['H', 'T', 'H'], ['T', 'H', 'H'], ['T', 'H', 'H'], ['H', 'T', 'H'], ['H', 'T', 'H'], ['T', 'T', 'H'], ['H', 'T', 'H'], ['T', 'T', 'T'], ['T', 'T', 'H'], ['T', 'T', 'T'], ['T', 'H', 'H'], ['H', 'T', 'T'], ['H', 'H', 'H'], ['T', 'T', 'H'], ['H', 'T', 'T'], ['H', 'H', 'T'], ['H', 'T', 'H'], ['T', 'H', 'T'], ['H', 'H', 'H'], ['T', 'H', 'T'], ['H', 'T', 'T'], ['T', 'H', 'H'], ['H', 'H', 'T'], ['H', 'H', 'T'], ['H', 'H', 'T'], ['H', 'T', 'T'], ['T', 'H', 'T'], ['H', 'T', 'H'], ['H', 'T', 'T'], ['H', 'H', 'T'], ['H', 'H', 'H'], ['T', 'T', 'H'], ['H', 'H', 'T'], ['H', 'H', 'H'], ['T', 'T', 'H'], ['H', 'T', 'H'], ['T', 'H', 'H'], ['T', 'H', 'T'], ['T', 'T', 'T'], ['T', 'H', 'H'], ['H', 'T', 'T'], ['H', 'H', 'H'], ['T', 'T', 'T'], ['H', 'T', 'T'], ['T', 'H', 'T'], ['H', 'H', 'H'], ['T', 'H', 'H'], ['T', 'H', 'H'], ['H', 'H', 'T'], ['T', 'T', 'T'], ['H', 'T', 'H'], ['H', 'H', 'H'], ['T', 'T', 'H'], ['H', 'H', 'T'], ['T', 'T', 'T'], ['T', 'H', 'H'], ['H', 'T', 'H'], ['H', 'T', 'H'], ['H', 'H', 'H'], ['T', 'H', 'H'], ['T', 'H', 'T'], ['T', 'T', 'T'], ['H', 'T', 'H'], ['T', 'T', 'H'], ['T', 'H', 'H'], ['T', 'T', 'T'], ['H', 'T', 'T'], ['T', 'H', 'H'], ['T', 'T', 'T'], ['H', 'H', 'T'], ['T', 'H', 'T'], ['H', 'T', 'H'], ['T', 'T', 'H'], ['H', 'T', 'H'], ['H', 'H', 'T'], ['H', 'T', 'T'], ['T', 'T', 'H'], ['T', 'T', 'T'], ['H', 'H', 'T'], ['T', 'H', 'T'], ['T', 'H', 'H'], ['T', 'H', 'H'], ['H', 'T', 'T'], ['H', 'H', 'H'], ['H', 'H', 'H'], ['T', 'T', 'H'], ['H', 'T', 'T'], ['H', 'T', 'H'], ['H', 'T', 'H'], ['H', 'T', 'T'], ['H', 'H', 'H'], ['T', 'T', 'H'], ['T', 'T', 'H'], ['T', 'H', 'H'], ['T', 'H', 'T'], ['H', 'T', 'H'], ['H', 'T', 'T'], ['H', 'H', 'T'], ['T', 'T', 'H'], ['H', 'T', 'T'], ['T', 'H', 'T'], ['T', 'T', 'T'], ['T', 'T', 'H'], ['H', 'T', 'H'], ['T', 'T', 'H'], ['H', 'T', 'H'], ['H', 'T', 'H'], ['H', 'H', 'H'], ['T', 'H', 'H'], ['T', 'H', 'T'], ['T', 'H', 'T'], ['T', 'H', 'T'], ['T', 'H', 'T'], ['T', 'T', 'H'], ['T', 'T', 'H'], ['T', 'H', 'H'], ['T', 'T', 'H'], ['T', 'H', 'H'], ['T', 'T', 'T'], ['H', 'H', 'H'], ['T', 'T', 'H'], ['T', 'T', 'T'], ['H', 'T', 'H'], ['T', 'T', 'H'], ['H', 'T', 'T'], ['H', 'H', 'T'], ['H', 'T', 'T'], ['H', 'T', 'T'], ['T', 'T', 'T'], ['H', 'T', 'T'], ['H', 'T', 'T'], ['H', 'H', 'T'], ['T', 'H', 'T'], ['H', 'T', 'T'], ['H', 'T', 'H'], ['T', 'H', 'T'], ['T', 'H', 'H'], ['T', 'H', 'T'], ['T', 'H', 'T'], ['H', 'H', 'H'], ['H', 'H', 'T'], ['T', 'H', 'H'], ['T', 'T', 'T'], ['H', 'T', 'H'], ['T', 'H', 'T'], ['T', 'T', 'T'], ['T', 'H', 'H'], ['H', 'T', 'H'], ['T', 'T', 'T'], ['T', 'H', 'H'], ['T', 'H', 'T'], ['H', 'H', 'H'], ['H', 'T', 'T'], ['H', 'T', 'T'], ['H', 'H', 'H'], ['H', 'H', 'H'], ['H', 'H', 'H'], ['H', 'H', 'T'], ['T', 'T', 'H'], ['H', 'H', 'T'], ['T', 'H', 'T'], ['H', 'H', 'H'], ['T', 'T', 'H'], ['T', 'T', 'T'], ['T', 'T', 'T'], ['T', 'T', 'H'], ['H', 'T', 'H'], ['T', 'H', 'T'], ['H', 'T', 'H'], ['H', 'H', 'H'], ['H', 'T', 'H'], ['H', 'T', 'T'], ['H', 'T', 'H'], ['H', 'T', 'T'], ['H', 'T', 'T'], ['H', 'T', 'H'], ['H', 'H', 'T'], ['H', 'H', 'T'], ['H', 'T', 'H'], ['H', 'T', 'H'], ['T', 'T', 'H'], ['T', 'H', 'T'], ['T', 'H', 'T'], ['T', 'T', 'T'], ['T', 'T', 'H'], ['H', 'T', 'T'], ['H', 'T', 'T'], ['H', 'T', 'H'], ['H', 'H', 'T'], ['T', 'H', 'H'], ['T', 'H', 'T'], ['T', 'T', 'H'], ['T', 'T', 'H'], ['H', 'H', 'H'], ['T', 'H', 'T'], ['T', 'T', 'T'], ['T', 'T', 'H'], ['T', 'T', 'T'], ['T', 'H', 'H'], ['H', 'H', 'T'], ['T', 'T', 'H'], ['T', 'T', 'T'], ['H', 'H', 'H'], ['T', 'H', 'T'], ['T', 'H', 'H'], ['T', 'H', 'H'], ['H', 'H', 'H'], ['H', 'T', 'H'], ['H', 'T', 'T'], ['H', 'T', 'H'], ['H', 'T', 'T'], ['H', 'H', 'T'], ['T', 'H', 'T'], ['H', 'T', 'T'], ['T', 'T', 'T'], ['H', 'H', 'T'], ['H', 'T', 'T'], ['H', 'T', 'H'], ['T', 'T', 'T'], ['T', 'T', 'H'], ['H', 'T', 'T'], ['T', 'H', 'H'], ['H', 'T', 'H'], ['T', 'T', 'T'], ['H', 'H', 'T'], ['T', 'H', 'H'], ['H', 'H', 'T'], ['T', 'T', 'T'], ['H', 'H', 'H'], ['T', 'H', 'T'], ['T', 'T', 'T'], ['H', 'H', 'H'], ['H', 'H', 'T'], ['H', 'H', 'T'], ['T', 'T', 'H'], ['H', 'T', 'H'], ['T', 'H', 'T'], ['H', 'H', 'T'], ['T', 'T', 'H'], ['T', 'H', 'T'], ['H', 'H', 'T'], ['H', 'H', 'H'], ['T', 'H', 'H'], ['T', 'H', 'T'], ['T', 'T', 'T'], ['H', 'H', 'T'], ['T', 'H', 'H'], ['H', 'H', 'H'], ['H', 'T', 'H'], ['H', 'T', 'H'], ['H', 'T', 'T'], ['T', 'H', 'T'], ['H', 'H', 'H'], ['H', 'T', 'T'], ['T', 'H', 'H'], ['T', 'H', 'T'], ['T', 'H', 'H'], ['T', 'H', 'H'], ['H', 'T', 'H'], ['H', 'T', 'T'], ['H', 'T', 'T'], ['T', 'H', 'T'], ['T', 'H', 'T'], ['T', 'T', 'H'], ['H', 'H', 'T'], ['H', 'H', 'H'], ['T', 'T', 'H'], ['H', 'T', 'H'], ['H', 'T', 'T'], ['T', 'T', 'H'], ['H', 'H', 'H'], ['T', 'H', 'H'], ['T', 'T', 'T'], ['T', 'H', 'H'], ['T', 'H', 'H'], ['T', 'T', 'H'], ['H', 'T', 'T'], ['H', 'T', 'H'], ['H', 'H', 'T'], ['H', 'H', 'T'], ['T', 'H', 'H'], ['T', 'T', 'T'], ['H', 'T', 'H'], ['H', 'H', 'T'], ['T', 'T', 'T'], ['H', 'T', 'T'], ['T', 'T', 'H'], ['H', 'T', 'H'], ['T', 'H', 'H'], ['H', 'T', 'H'], ['H', 'T', 'H'], ['T', 'H', 'H'], ['T', 'H', 'H'], ['H', 'T', 'H'], ['H', 'H', 'H'], ['T', 'H', 'T'], ['T', 'T', 'T'], ['T', 'H', 'H'], ['H', 'H', 'H'], ['H', 'T', 'H'], ['H', 'H', 'H'], ['H', 'H', 'H'], ['T', 'H', 'T'], ['T', 'T', 'T'], ['H', 'H', 'T'], ['H', 'T', 'T'], ['H', 'T', 'T'], ['H', 'H', 'T'], ['T', 'H', 'H'], ['H', 'H', 'H'], ['T', 'T', 'T'], ['H', 'H', 'H'], ['H', 'H', 'T'], ['T', 'H', 'T'], ['T', 'T', 'H'], ['T', 'H', 'H'], ['T', 'T', 'T'], ['H', 'T', 'T'], ['T', 'H', 'H'], ['T', 'H', 'T'], ['T', 'H', 'H'], ['H', 'T', 'H'], ['H', 'H', 'H'], ['T', 'T', 'T'], ['T', 'T', 'T'], ['T', 'H', 'H'], ['H', 'H', 'H'], ['T', 'H', 'T'], ['T', 'H', 'H'], ['H', 'T', 'T'], ['T', 'T', 'T'], ['T', 'T', 'H'], ['T', 'T', 'H'], ['H', 'T', 'H'], ['T', 'H', 'T'], ['H', 'T', 'T'], ['H', 'H', 'H'], ['T', 'H', 'T'], ['T', 'T', 'T'], ['T', 'H', 'T'], ['H', 'H', 'H'], ['T', 'T', 'T'], ['T', 'T', 'H'], ['T', 'H', 'T'], ['T', 'T', 'T'], ['T', 'T', 'H'], ['H', 'H', 'H'], ['T', 'T', 'T'], ['H', 'T', 'T'], ['H', 'T', 'H'], ['H', 'H', 'H'], ['H', 'H', 'T'], ['H', 'H', 'H'], ['H', 'T', 'T'], ['H', 'T', 'T'], ['T', 'T', 'H'], ['H', 'T', 'H'], ['H', 'T', 'H'], ['T', 'H', 'T'], ['T', 'T', 'H'], ['T', 'H', 'T'], ['H', 'T', 'H'], ['H', 'T', 'T'], ['H', 'T', 'H'], ['T', 'T', 'H'], ['H', 'H', 'H'], ['H', 'H', 'T'], ['H', 'T', 'H'], ['T', 'T', 'T'], ['H', 'T', 'H'], ['H', 'H', 'H'], ['H', 'H', 'T'], ['H', 'T', 'H'], ['H', 'T', 'H'], ['H', 'T', 'H'], ['H', 'H', 'T'], ['T', 'H', 'H'], ['H', 'H', 'T'], ['T', 'H', 'T'], ['T', 'T', 'T'], ['T', 'T', 'H'], ['T', 'T', 'H'], ['T', 'T', 'H'], ['T', 'T', 'H'], ['H', 'T', 'T'], ['T', 'H', 'H'], ['T', 'T', 'T'], ['H', 'H', 'H'], ['T', 'H', 'H'], ['H', 'H', 'H'], ['H', 'H', 'H'], ['H', 'T', 'T'], ['H', 'H', 'H'], ['H', 'H', 'H'], ['H', 'H', 'T'], ['T', 'T', 'H'], ['T', 'T', 'T'], ['T', 'T', 'H'], ['H', 'H', 'T'], ['H', 'T', 'T'], ['H', 'H', 'T'], ['H', 'H', 'H'], ['T', 'H', 'T'], ['T', 'T', 'T'], ['H', 'T', 'H'], ['H', 'H', 'H'], ['T', 'T', 'T'], ['T', 'T', 'H'], ['H', 'T', 'T'], ['H', 'T', 'H'], ['T', 'H', 'T'], ['T', 'T', 'T'], ['H', 'T', 'H'], ['T', 'T', 'T'], ['H', 'T', 'T'], ['H', 'T', 'T'], ['T', 'T', 'T'], ['T', 'H', 'T'], ['T', 'T', 'T'], ['T', 'H', 'T'], ['H', 'T', 'H'], ['T', 'H', 'T'], ['H', 'H', 'T'], ['T', 'T', 'T'], ['T', 'H', 'H'], ['T', 'T', 'T'], ['H', 'H', 'T'], ['T', 'T', 'H'], ['T', 'T', 'T'], ['H', 'T', 'T'], ['T', 'T', 'T'], ['H', 'H', 'T'], ['H', 'T', 'H'], ['T', 'T', 'T'], ['T', 'H', 'T'], ['H', 'H', 'H'], ['T', 'H', 'T'], ['T', 'H', 'T'], ['H', 'H', 'H'], ['H', 'T', 'H'], ['H', 'T', 'H'], ['T', 'H', 'H'], ['H', 'H', 'T'], ['H', 'T', 'T'], ['T', 'T', 'H'], ['H', 'H', 'T'], ['H', 'H', 'T'], ['T', 'H', 'H'], ['H', 'T', 'H'], ['T', 'H', 'H'], ['H', 'T', 'H'], ['T', 'T', 'H'], ['H', 'T', 'T'], ['H', 'T', 'T'], ['T', 'H', 'T'], ['H', 'H', 'H'], ['T', 'H', 'H'], ['T', 'H', 'T'], ['H', 'T', 'T'], ['T', 'H', 'T'], ['T', 'H', 'H'], ['T', 'T', 'T'], ['T', 'H', 'T'], ['T', 'T', 'T'], ['T', 'H', 'T'], ['T', 'H', 'T'], ['T', 'H', 'T'], ['T', 'T', 'H'], ['H', 'H', 'T'], ['H', 'H', 'H'], ['H', 'T', 'H'], ['T', 'T', 'H'], ['H', 'H', 'H'], ['T', 'T', 'T'], ['T', 'H', 'T'], ['T', 'T', 'H'], ['H', 'H', 'H'], ['T', 'H', 'H'], ['H', 'H', 'T'], ['H', 'T', 'H'], ['T', 'T', 'T'], ['H', 'T', 'H'], ['T', 'T', 'H'], ['T', 'T', 'H'], ['H', 'H', 'H'], ['H', 'T', 'H'], ['H', 'H', 'H'], ['T', 'H', 'T'], ['T', 'T', 'H'], ['T', 'T', 'H'], ['T', 'H', 'H'], ['H', 'H', 'H'], ['H', 'T', 'H'], ['H', 'T', 'H'], ['T', 'H', 'H'], ['H', 'T', 'T'], ['H', 'T', 'H'], ['T', 'H', 'T'], ['H', 'H', 'H'], ['H', 'H', 'T'], ['T', 'H', 'H'], ['T', 'H', 'T'], ['T', 'H', 'H'], ['T', 'T', 'T'], ['H', 'H', 'T'], ['T', 'H', 'H'], ['H', 'T', 'T'], ['T', 'T', 'H'], ['T', 'H', 'T'], ['T', 'T', 'H'], ['T', 'T', 'H'], ['T', 'T', 'H'], ['T', 'H', 'H'], ['H', 'T', 'T'], ['T', 'T', 'H'], ['T', 'T', 'T'], ['H', 'H', 'H'], ['H', 'T', 'H'], ['H', 'T', 'T'], ['T', 'H', 'H'], ['T', 'T', 'H'], ['T', 'H', 'T'], ['H', 'H', 'T'], ['T', 'T', 'H'], ['T', 'T', 'T'], ['T', 'T', 'T'], ['T', 'H', 'T'], ['H', 'T', 'T'], ['H', 'T', 'T'], ['T', 'T', 'T'], ['H', 'H', 'H'], ['T', 'T', 'T'], ['T', 'T', 'T'], ['H', 'H', 'H'], ['H', 'T', 'H'], ['T', 'T', 'T'], ['T', 'T', 'T'], ['H', 'T', 'T'], ['H', 'T', 'H'], ['H', 'H', 'H'], ['T', 'H', 'T'], ['H', 'H', 'T'], ['T', 'T', 'T'], ['T', 'T', 'H'], ['H', 'H', 'H'], ['T', 'H', 'T'], ['T', 'T', 'T'], ['H', 'H', 'T'], ['H', 'T', 'T'], ['H', 'H', 'H'], ['H', 'H', 'H'], ['H', 'H', 'T'], ['H', 'T', 'T'], ['T', 'T', 'H'], ['T', 'H', 'H'], ['H', 'H', 'H'], ['T', 'T', 'H'], ['H', 'T', 'T'], ['H', 'T', 'H'], ['T', 'H', 'T'], ['T', 'T', 'T'], ['H', 'T', 'H'], ['H', 'H', 'H'], ['T', 'T', 'H'], ['T', 'H', 'T'], ['H', 'H', 'T'], ['H', 'H', 'H'], ['T', 'H', 'T'], ['T', 'H', 'T'], ['T', 'T', 'H'], ['T', 'T', 'T'], ['H', 'T', 'H'], ['H', 'T', 'H'], ['T', 'H', 'H'], ['H', 'T', 'H'], ['H', 'H', 'H'], ['H', 'H', 'T'], ['T', 'T', 'H'], ['T', 'H', 'H'], ['T', 'T', 'T'], ['H', 'H', 'T'], ['T', 'H', 'T'], ['T', 'T', 'T'], ['H', 'T', 'H'], ['T', 'H', 'T'], ['H', 'H', 'T'], ['H', 'H', 'T'], ['T', 'H', 'T'], ['T', 'H', 'H'], ['T', 'T', 'H'], ['H', 'H', 'T'], ['T', 'H', 'T'], ['H', 'T', 'T'], ['H', 'T', 'T'], ['T', 'H', 'H'], ['T', 'H', 'H'], ['H', 'H', 'H'], ['T', 'H', 'H'], ['H', 'H', 'H'], ['H', 'H', 'T'], ['T', 'H', 'H'], ['H', 'H', 'T'], ['T', 'T', 'H'], ['H', 'H', 'T'], ['T', 'T', 'H'], ['H', 'H', 'H'], ['H', 'T', 'T'], ['T', 'H', 'H'], ['H', 'T', 'T'], ['T', 'T', 'H'], ['H', 'T', 'H'], ['T', 'H', 'T'], ['H', 'H', 'H'], ['T', 'H', 'H'], ['H', 'T', 'H'], ['H', 'T', 'H'], ['T', 'H', 'T'], ['H', 'H', 'H'], ['H', 'H', 'T'], ['H', 'H', 'H'], ['H', 'H', 'H'], ['T', 'T', 'T'], ['H', 'H', 'H'], ['H', 'H', 'T'], ['T', 'T', 'H'], ['T', 'H', 'H'], ['T', 'T', 'T'], ['H', 'T', 'T'], ['T', 'T', 'H'], ['H', 'H', 'T'], ['T', 'H', 'T'], ['T', 'H', 'T'], ['H', 'T', 'H'], ['H', 'T', 'H'], ['H', 'H', 'H'], ['H', 'H', 'H'], ['T', 'T', 'H'], ['H', 'T', 'H'], ['T', 'T', 'H'], ['T', 'T', 'H'], ['T', 'H', 'T'], ['H', 'T', 'T'], ['H', 'H', 'T'], ['H', 'H', 'H'], ['T', 'H', 'H'], ['T', 'T', 'H'], ['H', 'T', 'H'], ['H', 'H', 'T'], ['T', 'T', 'H'], ['T', 'H', 'T'], ['T', 'T', 'T'], ['H', 'T', 'H'], ['T', 'T', 'H'], ['H', 'T', 'T'], ['T', 'H', 'H'], ['H', 'T', 'T'], ['H', 'H', 'T'], ['T', 'T', 'H'], ['H', 'T', 'T'], ['H', 'H', 'H'], ['H', 'T', 'T'], ['T', 'T', 'T'], ['T', 'T', 'T'], ['H', 'H', 'T'], ['T', 'T', 'H'], ['H', 'H', 'H'], ['H', 'T', 'H'], ['H', 'T', 'H'], ['T', 'T', 'T'], ['T', 'T', 'H'], ['H', 'H', 'H'], ['H', 'H', 'T'], ['T', 'H', 'H'], ['H', 'T', 'T'], ['T', 'T', 'H'], ['H', 'T', 'H'], ['T', 'T', 'H'], ['H', 'H', 'H'], ['T', 'T', 'H'], ['H', 'H', 'T'], ['H', 'T', 'T'], ['H', 'T', 'T'], ['H', 'H', 'H'], ['H', 'T', 'T'], ['H', 'H', 'T'], ['T', 'T', 'H'], ['T', 'H', 'H'], ['H', 'T', 'T'], ['T', 'T', 'H'], ['H', 'T', 'T'], ['T', 'H', 'H'], ['T', 'H', 'T'], ['H', 'H', 'T'], ['H', 'T', 'T'], ['H', 'T', 'T'], ['H', 'T', 'H'], ['H', 'H', 'T'], ['T', 'H', 'H'], ['H', 'T', 'T'], ['T', 'H', 'H'], ['T', 'H', 'H'], ['T', 'T', 'T'], ['H', 'H', 'T'], ['T', 'H', 'H'], ['T', 'H', 'T'], ['H', 'T', 'T'], ['H', 'H', 'T'], ['T', 'H', 'H'], ['H', 'T', 'H'], ['H', 'T', 'T'], ['T', 'H', 'H'], ['H', 'H', 'T'], ['H', 'H', 'H'], ['H', 'H', 'H'], ['H', 'T', 'H'], ['H', 'H', 'H'], ['H', 'H', 'H'], ['H', 'T', 'T'], ['H', 'H', 'H'], ['T', 'T', 'H'], ['T', 'H', 'H'], ['H', 'H', 'H'], ['H', 'T', 'T'], ['H', 'T', 'T'], ['H', 'H', 'T'], ['T', 'T', 'H'], ['H', 'T', 'T'], ['T', 'H', 'H'], ['H', 'H', 'H'], ['T', 'H', 'H'], ['T', 'H', 'T'], ['T', 'T', 'H'], ['T', 'T', 'H'], ['H', 'H', 'T'], ['T', 'T', 'T'], ['H', 'T', 'H'], ['H', 'H', 'T'], ['H', 'T', 'T'], ['H', 'H', 'H'], ['H', 'T', 'H'], ['H', 'T', 'H'], ['T', 'H', 'H'], ['H', 'H', 'T'], ['H', 'H', 'H'], ['H', 'H', 'T'], ['T', 'T', 'H'], ['T', 'H', 'T'], ['T', 'T', 'H'], ['T', 'T', 'T'], ['T', 'H', 'H'], ['T', 'H', 'T'], ['T', 'T', 'T'], ['T', 'T', 'T'], ['H', 'H', 'H'], ['T', 'H', 'T'], ['T', 'H', 'T'], ['T', 'H', 'H'], ['H', 'T', 'T'], ['T', 'H', 'H'], ['H', 'T', 'H'], ['H', 'T', 'T'], ['H', 'H', 'T'], ['T', 'T', 'H'], ['H', 'H', 'T'], ['T', 'T', 'T'], ['H', 'T', 'H'], ['H', 'H', 'T'], ['T', 'H', 'H'], ['H', 'T', 'T'], ['T', 'H', 'H'], ['H', 'H', 'H'], ['T', 'H', 'H'], ['H', 'H', 'T'], ['T', 'T', 'T'], ['T', 'T', 'H'], ['T', 'H', 'H'], ['H', 'H', 'H'], ['H', 'H', 'H'], ['H', 'T', 'H'], ['T', 'T', 'T'], ['T', 'T', 'H'], ['H', 'T', 'T'], ['H', 'H', 'H'], ['H', 'H', 'H'], ['T', 'T', 'H'], ['H', 'T', 'H'], ['T', 'T', 'H'], ['H', 'H', 'T'], ['T', 'T', 'T'], ['H', 'T', 'T'], ['T', 'H', 'H'], ['H', 'H', 'H'], ['H', 'T', 'T'], ['T', 'T', 'T'], ['H', 'T', 'T'], ['H', 'T', 'T'], ['H', 'H', 'T'], ['H', 'H', 'T'], ['T', 'T', 'H'], ['H', 'T', 'T'], ['T', 'T', 'H'], ['H', 'H', 'H'], ['T', 'T', 'H'], ['H', 'H', 'T'], ['T', 'H', 'H'], ['H', 'T', 'H'], ['T', 'T', 'T'], ['H', 'H', 'T'], ['T', 'H', 'T'], ['H', 'T', 'T'], ['H', 'T', 'H'], ['T', 'H', 'H'], ['T', 'H', 'H'], ['T', 'T', 'H'], ['H', 'T', 'H'], ['H', 'T', 'T'], ['T', 'H', 'T'], ['T', 'T', 'T'], ['H', 'T', 'H'], ['H', 'T', 'T'], ['T', 'T', 'H'], ['T', 'T', 'H'], ['T', 'T', 'H'], ['H', 'H', 'T'], ['T', 'T', 'T'], ['H', 'H', 'T'], ['T', 'T', 'H'], ['H', 'T', 'T'], ['T', 'H', 'T'], ['H', 'H', 'H'], ['T', 'H', 'H'], ['T', 'T', 'T'], ['H', 'H', 'H'], ['H', 'H', 'H'], ['H', 'T', 'T'], ['T', 'T', 'T'], ['H', 'T', 'H'], ['H', 'T', 'T'], ['H', 'H', 'T'], ['T', 'T', 'H'], ['H', 'T', 'H'], ['H', 'H', 'H'], ['H', 'T', 'T'], ['T', 'T', 'T'], ['T', 'T', 'T'], ['H', 'H', 'T'], ['T', 'H', 'T'], ['H', 'H', 'H'], ['T', 'T', 'H'], ['T', 'T', 'T'], ['T', 'T', 'T'], ['H', 'T', 'T'], ['H', 'T', 'H'], ['H', 'H', 'T'], ['T', 'T', 'H'], ['T', 'H', 'H'], ['T', 'H', 'H'], ['H', 'T', 'H'], ['H', 'T', 'T'], ['T', 'T', 'H'], ['T', 'H', 'H'], ['T', 'T', 'T'], ['T', 'T', 'T'], ['H', 'T', 'H'], ['H', 'H', 'T'], ['T', 'H', 'T'], ['H', 'H', 'T'], ['T', 'T', 'H'], ['T', 'H', 'T'], ['H', 'H', 'H'], ['T', 'H', 'T'], ['T', 'T', 'T'], ['T', 'H', 'H'], ['H', 'T', 'T'], ['T', 'T', 'T'], ['T', 'T', 'T'], ['T', 'T', 'H'], ['H', 'H', 'H'], ['T', 'T', 'T'], ['T', 'T', 'T'], ['H', 'H', 'H'], ['T', 'T', 'T'], ['H', 'T', 'T'], ['T', 'T', 'H'], ['H', 'H', 'H'], ['H', 'T', 'H'], ['T', 'H', 'H'], ['H', 'H', 'H'], ['T', 'T', 'H'], ['T', 'T', 'T'], ['T', 'T', 'H'], ['T', 'T', 'T'], ['H', 'H', 'T'], ['H', 'T', 'H'], ['H', 'T', 'T'], ['T', 'T', 'T'], ['T', 'H', 'T'], ['T', 'H', 'T'], ['H', 'T', 'T'], ['T', 'T', 'T'], ['H', 'T', 'H'], ['H', 'H', 'T'], ['T', 'H', 'T'], ['T', 'T', 'T'], ['H', 'H', 'H'], ['H', 'T', 'H'], ['T', 'H', 'T'], ['H', 'T', 'H'], ['T', 'T', 'T'], ['T', 'H', 'T'], ['T', 'T', 'T'], ['T', 'H', 'H'], ['H', 'H', 'H'], ['H', 'T', 'H'], ['T', 'H', 'H'], ['H', 'H', 'T'], ['H', 'T', 'H'], ['H', 'H', 'T'], ['T', 'H', 'T'], ['T', 'T', 'H'], ['H', 'H', 'T'], ['H', 'T', 'T'], ['T', 'T', 'T'], ['T', 'T', 'T'], ['T', 'H', 'T'], ['H', 'T', 'T'], ['H', 'H', 'T'], ['T', 'T', 'H'], ['T', 'H', 'H'], ['T', 'H', 'H'], ['H', 'T', 'T'], ['H', 'H', 'H'], ['T', 'H', 'T'], ['T', 'H', 'H'], ['H', 'H', 'H'], ['T', 'H', 'H'], ['H', 'H', 'H'], ['T', 'H', 'H'], ['T', 'T', 'T'], ['T', 'T', 'T'], ['T', 'T', 'H'], ['H', 'T', 'H'], ['T', 'H', 'T'], ['T', 'H', 'T'], ['T', 'T', 'T'], ['T', 'T', 'H'], ['H', 'H', 'H'], ['H', 'H', 'H'], ['H', 'H', 'H'], ['T', 'H', 'T'], ['T', 'T', 'H'], ['H', 'T', 'H'], ['H', 'H', 'H'], ['H', 'H', 'T'], ['T', 'H', 'T'], ['T', 'H', 'H'], ['T', 'T', 'H'], ['T', 'T', 'H'], ['T', 'H', 'T'], ['H', 'T', 'T'], ['H', 'H', 'H'], ['T', 'H', 'T'], ['T', 'H', 'H'], ['H', 'H', 'H'], ['H', 'H', 'T'], ['H', 'H', 'T'], ['T', 'H', 'T'], ['H', 'H', 'H'], ['T', 'T', 'H'], ['T', 'T', 'H'], ['H', 'T', 'H'], ['T', 'H', 'T'], ['H', 'T', 'H'], ['H', 'H', 'T'], ['H', 'H', 'H'], ['T', 'H', 'T'], ['T', 'H', 'T'], ['H', 'T', 'H'], ['T', 'T', 'T'], ['H', 'T', 'T'], ['H', 'T', 'T'], ['H', 'H', 'H'], ['H', 'T', 'T'], ['H', 'H', 'H'], ['T', 'H', 'H'], ['T', 'H', 'H'], ['H', 'H', 'T'], ['H', 'H', 'H'], ['T', 'H', 'T'], ['H', 'H', 'T'], ['H', 'T', 'H'], ['T', 'T', 'T'], ['H', 'H', 'T'], ['T', 'T', 'T'], ['T', 'H', 'H'], ['T', 'H', 'H'], ['H', 'T', 'T'], ['T', 'H', 'T'], ['T', 'T', 'T'], ['T', 'T', 'H'], ['H', 'T', 'T'], ['T', 'T', 'T'], ['H', 'T', 'T'], ['T', 'H', 'T'], ['H', 'T', 'T'], ['H', 'T', 'H'], ['H', 'T', 'T'], ['T', 'T', 'H'], ['H', 'H', 'H'], ['H', 'T', 'T'], ['H', 'T', 'T'], ['T', 'T', 'T'], ['T', 'T', 'T'], ['H', 'T', 'H'], ['H', 'T', 'H'], ['H', 'T', 'T'], ['T', 'H', 'H'], ['H', 'T', 'H'], ['H', 'T', 'T'], ['T', 'T', 'T'], ['T', 'H', 'T'], ['T', 'H', 'H'], ['H', 'H', 'H'], ['H', 'H', 'T'], ['H', 'H', 'T'], ['H', 'T', 'T'], ['H', 'T', 'T'], ['H', 'H', 'T'], ['H', 'H', 'H'], ['H', 'T', 'H'], ['H', 'H', 'H'], ['T', 'T', 'H'], ['H', 'H', 'H'], ['T', 'H', 'H'], ['H', 'T', 'T'], ['H', 'H', 'T'], ['T', 'T', 'H'], ['H', 'T', 'T'], ['T', 'T', 'T'], ['H', 'H', 'T'], ['T', 'H', 'T'], ['T', 'T', 'T'], ['T', 'T', 'H'], ['H', 'T', 'T'], ['H', 'H', 'H'], ['H', 'H', 'H'], ['H', 'T', 'T'], ['H', 'T', 'T'], ['T', 'H', 'T'], ['T', 'T', 'T'], ['H', 'H', 'H'], ['H', 'T', 'T'], ['T', 'T', 'T'], ['T', 'H', 'H'], ['H', 'H', 'T'], ['H', 'H', 'H'], ['H', 'H', 'H'], ['T', 'H', 'T'], ['T', 'H', 'H'], ['T', 'T', 'T'], ['H', 'H', 'T'], ['H', 'T', 'T'], ['T', 'H', 'H'], ['H', 'H', 'T'], ['H', 'H', 'H'], ['H', 'T', 'T'], ['H', 'T', 'T'], ['T', 'H', 'T'], ['T', 'H', 'H'], ['H', 'H', 'T'], ['T', 'T', 'T'], ['T', 'H', 'T'], ['T', 'T', 'H'], ['H', 'H', 'H'], ['T', 'H', 'H'], ['T', 'T', 'H'], ['H', 'H', 'T'], ['H', 'T', 'H'], ['H', 'T', 'T'], ['T', 'T', 'H'], ['T', 'T', 'T'], ['H', 'T', 'T'], ['H', 'T', 'H'], ['T', 'H', 'T'], ['T', 'H', 'H'], ['H', 'H', 'H'], ['T', 'T', 'T'], ['T', 'H', 'T'], ['H', 'H', 'T'], ['H', 'H', 'T'], ['H', 'T', 'H'], ['T', 'H', 'T'], ['T', 'H', 'T'], ['T', 'H', 'H'], ['H', 'H', 'H'], ['H', 'H', 'T'], ['H', 'H', 'H'], ['T', 'H', 'T'], ['H', 'T', 'T'], ['T', 'T', 'H'], ['T', 'H', 'H'], ['T', 'H', 'H'], ['T', 'T', 'H'], ['H', 'T', 'T'], ['H', 'H', 'H'], ['H', 'H', 'H'], ['H', 'H', 'H'], ['T', 'T', 'H'], ['T', 'T', 'T'], ['T', 'H', 'H'], ['H', 'H', 'T'], ['H', 'T', 'T'], ['T', 'H', 'T'], ['H', 'H', 'T'], ['T', 'T', 'T'], ['T', 'T', 'T'], ['T', 'H', 'H'], ['T', 'T', 'H'], ['T', 'H', 'H'], ['T', 'H', 'T'], ['T', 'T', 'H'], ['T', 'H', 'H'], ['T', 'H', 'H'], ['T', 'T', 'T'], ['H', 'T', 'T'], ['T', 'T', 'T'], ['T', 'T', 'H'], ['H', 'T', 'T'], ['T', 'T', 'H'], ['H', 'T', 'H'], ['T', 'H', 'H'], ['T', 'H', 'T'], ['H', 'H', 'H'], ['T', 'H', 'T'], ['T', 'T', 'H'], ['T', 'T', 'H'], ['T', 'H', 'H'], ['T', 'T', 'T'], ['H', 'T', 'T'], ['H', 'H', 'H'], ['H', 'T', 'H'], ['T', 'T', 'T'], ['T', 'H', 'T'], ['T', 'T', 'T'], ['T', 'T', 'H'], ['T', 'T', 'T'], ['T', 'T', 'H'], ['H', 'T', 'T'], ['H', 'H', 'T'], ['T', 'T', 'H'], ['H', 'T', 'T'], ['H', 'T', 'H'], ['H', 'H', 'T'], ['H', 'T', 'T'], ['H', 'T', 'H'], ['H', 'H', 'H'], ['H', 'H', 'T'], ['H', 'T', 'T'], ['H', 'H', 'H'], ['T', 'T', 'T'], ['H', 'H', 'T'], ['T', 'H', 'T'], ['H', 'H', 'H'], ['H', 'H', 'H'], ['H', 'H', 'H'], ['T', 'T', 'T'], ['H', 'H', 'T'], ['T', 'T', 'T'], ['T', 'T', 'T'], ['T', 'T', 'T'], ['H', 'T', 'T'], ['H', 'H', 'T'], ['H', 'H', 'H'], ['H', 'T', 'H'], ['T', 'T', 'H'], ['H', 'H', 'H'], ['T', 'T', 'T'], ['T', 'T', 'H'], ['T', 'H', 'H'], ['H', 'H', 'H'], ['T', 'T', 'H'], ['T', 'H', 'T'], ['T', 'T', 'T'], ['H', 'H', 'H'], ['H', 'H', 'T'], ['T', 'T', 'T'], ['H', 'T', 'H'], ['T', 'T', 'H'], ['T', 'H', 'H'], ['H', 'T', 'H'], ['H', 'T', 'H'], ['H', 'H', 'H'], ['T', 'T', 'T'], ['H', 'T', 'H'], ['T', 'T', 'T'], ['T', 'T', 'H'], ['T', 'T', 'H'], ['T', 'H', 'T'], ['T', 'T', 'H'], ['H', 'H', 'H'], ['H', 'T', 'T'], ['H', 'T', 'T'], ['T', 'H', 'T'], ['T', 'T', 'T'], ['H', 'H', 'T'], ['H', 'T', 'T'], ['T', 'H', 'H'], ['T', 'H', 'H'], ['T', 'T', 'H'], ['H', 'T', 'T'], ['H', 'T', 'T'], ['H', 'T', 'T'], ['H', 'H', 'T'], ['H', 'T', 'T'], ['T', 'T', 'H'], ['H', 'H', 'H'], ['T', 'T', 'T'], ['H', 'T', 'H'], ['T', 'T', 'T'], ['T', 'H', 'H'], ['H', 'T', 'T'], ['H', 'T', 'H'], ['H', 'H', 'H'], ['H', 'H', 'T'], ['H', 'H', 'T'], ['T', 'H', 'T'], ['T', 'T', 'H'], ['H', 'H', 'T'], ['H', 'H', 'T'], ['T', 'T', 'H'], ['H', 'T', 'T'], ['H', 'H', 'T'], ['T', 'T', 'H'], ['T', 'H', 'H'], ['H', 'H', 'T'], ['T', 'T', 'T'], ['T', 'T', 'H'], ['T', 'T', 'H'], ['T', 'H', 'T'], ['T', 'H', 'T'], ['T', 'H', 'H'], ['T', 'H', 'T'], ['T', 'H', 'H'], ['H', 'H', 'H'], ['H', 'H', 'H'], ['T', 'H', 'H'], ['H', 'H', 'T'], ['H', 'H', 'T'], ['H', 'H', 'T'], ['H', 'T', 'H'], ['H', 'T', 'H'], ['H', 'H', 'H'], ['T', 'T', 'H'], ['H', 'H', 'H'], ['T', 'T', 'H'], ['T', 'T', 'H'], ['T', 'T', 'T'], ['H', 'T', 'H'], ['H', 'T', 'T'], ['T', 'H', 'H'], ['H', 'T', 'T'], ['H', 'T', 'T'], ['H', 'T', 'H'], ['H', 'T', 'T'], ['H', 'H', 'T'], ['T', 'T', 'H'], ['H', 'H', 'T'], ['H', 'T', 'H'], ['T', 'T', 'H'], ['T', 'H', 'T'], ['H', 'T', 'T'], ['H', 'H', 'H'], ['T', 'H', 'T'], ['T', 'T', 'H'], ['T', 'H', 'H'], ['H', 'T', 'H'], ['T', 'H', 'T'], ['H', 'T', 'H'], ['T', 'T', 'H'], ['T', 'H', 'T'], ['H', 'H', 'H'], ['T', 'H', 'T'], ['T', 'H', 'T'], ['T', 'H', 'T'], ['H', 'H', 'H'], ['H', 'T', 'H'], ['H', 'H', 'H'], ['T', 'H', 'T'], ['H', 'H', 'T'], ['T', 'H', 'H'], ['T', 'T', 'T'], ['T', 'H', 'H'], ['H', 'H', 'T'], ['H', 'H', 'H'], ['H', 'H', 'H'], ['H', 'T', 'T'], ['H', 'H', 'T'], ['H', 'T', 'H'], ['H', 'T', 'T'], ['H', 'T', 'T'], ['H', 'H', 'T'], ['T', 'T', 'T'], ['T', 'T', 'T'], ['H', 'T', 'H'], ['T', 'T', 'T'], ['H', 'T', 'H'], ['H', 'H', 'H'], ['T', 'T', 'H'], ['T', 'H', 'H'], ['T', 'T', 'H'], ['T', 'H', 'T'], ['T', 'T', 'H'], ['H', 'H', 'T'], ['H', 'T', 'H'], ['T', 'H', 'H'], ['H', 'H', 'T'], ['T', 'H', 'T'], ['T', 'H', 'T'], ['T', 'T', 'H'], ['T', 'T', 'H'], ['H', 'H', 'H'], ['T', 'T', 'T'], ['T', 'H', 'H'], ['T', 'T', 'T'], ['T', 'T', 'H'], ['H', 'H', 'H'], ['T', 'H', 'T'], ['H', 'T', 'T'], ['T', 'T', 'T'], ['H', 'H', 'H'], ['H', 'T', 'H'], ['T', 'H', 'T'], ['H', 'T', 'T'], ['T', 'T', 'H'], ['H', 'H', 'H'], ['T', 'H', 'T'], ['T', 'H', 'T'], ['H', 'T', 'H'], ['H', 'T', 'T'], ['H', 'H', 'H'], ['T', 'H', 'H'], ['H', 'T', 'T'], ['H', 'H', 'H'], ['H', 'H', 'H'], ['H', 'T', 'T'], ['T', 'H', 'T'], ['H', 'H', 'T'], ['H', 'T', 'H'], ['H', 'H', 'H'], ['T', 'T', 'H'], ['T', 'T', 'H'], ['T', 'T', 'H'], ['H', 'H', 'T'], ['H', 'T', 'T'], ['T', 'T', 'T'], ['T', 'T', 'H'], ['H', 'T', 'H'], ['H', 'H', 'T'], ['H', 'T', 'H'], ['H', 'H', 'H'], ['T', 'H', 'H'], ['T', 'T', 'H'], ['H', 'H', 'H'], ['T', 'H', 'H'], ['T', 'H', 'T'], ['T', 'T', 'T'], ['T', 'H', 'T'], ['H', 'H', 'H'], ['H', 'H', 'H'], ['H', 'T', 'T'], ['T', 'T', 'H'], ['T', 'T', 'H'], ['H', 'T', 'H'], ['T', 'H', 'T'], ['T', 'T', 'H'], ['T', 'H', 'T'], ['H', 'H', 'T'], ['T', 'T', 'T'], ['T', 'T', 'T'], ['H', 'H', 'H'], ['H', 'T', 'T'], ['H', 'H', 'T'], ['H', 'H', 'T'], ['H', 'H', 'H'], ['T', 'H', 'T'], ['H', 'T', 'H'], ['T', 'T', 'T'], ['H', 'H', 'H'], ['H', 'H', 'T'], ['H', 'H', 'T'], ['H', 'H', 'H'], ['H', 'T', 'T'], ['T', 'T', 'H'], ['H', 'T', 'T'], ['T', 'T', 'T'], ['H', 'T', 'H'], ['H', 'H', 'T'], ['H', 'T', 'T'], ['H', 'T', 'H'], ['T', 'H', 'H'], ['T', 'H', 'T'], ['T', 'T', 'H'], ['T', 'H', 'H'], ['T', 'H', 'H'], ['H', 'T', 'T'], ['T', 'T', 'T'], ['H', 'H', 'H'], ['T', 'T', 'H'], ['T', 'T', 'H'], ['T', 'T', 'H'], ['H', 'H', 'H'], ['H', 'H', 'H'], ['T', 'H', 'T'], ['T', 'T', 'H'], ['H', 'H', 'H'], ['H', 'T', 'H'], ['H', 'H', 'T'], ['H', 'T', 'H'], ['T', 'T', 'H'], ['T', 'T', 'T'], ['T', 'H', 'T'], ['H', 'H', 'T'], ['H', 'H', 'H'], ['H', 'T', 'H'], ['H', 'T', 'H'], ['T', 'H', 'T'], ['H', 'H', 'T'], ['H', 'T', 'T'], ['H', 'T', 'T'], ['T', 'H', 'T'], ['H', 'H', 'T'], ['T', 'H', 'T'], ['T', 'T', 'T'], ['H', 'T', 'T'], ['T', 'T', 'T'], ['H', 'H', 'H'], ['T', 'H', 'T'], ['T', 'H', 'H'], ['T', 'H', 'H'], ['H', 'T', 'H'], ['T', 'H', 'H'], ['T', 'T', 'H'], ['T', 'T', 'H'], ['H', 'T', 'H'], ['H', 'T', 'H'], ['H', 'T', 'H'], ['H', 'T', 'T'], ['H', 'H', 'H'], ['T', 'H', 'H'], ['H', 'T', 'T'], ['H', 'H', 'H'], ['H', 'T', 'H'], ['H', 'H', 'H'], ['T', 'T', 'H'], ['T', 'T', 'T'], ['T', 'H', 'H'], ['T', 'T', 'T'], ['H', 'T', 'T'], ['T', 'H', 'H'], ['T', 'T', 'H'], ['T', 'H', 'T'], ['H', 'H', 'H'], ['H', 'T', 'T'], ['H', 'H', 'H'], ['T', 'H', 'H'], ['T', 'H', 'H'], ['H', 'H', 'H'], ['H', 'T', 'T'], ['H', 'H', 'T'], ['T', 'H', 'T'], ['T', 'T', 'H'], ['H', 'H', 'T'], ['H', 'H', 'H'], ['T', 'H', 'H'], ['H', 'H', 'H'], ['T', 'H', 'T'], ['T', 'T', 'T'], ['H', 'H', 'T'], ['H', 'T', 'T'], ['H', 'H', 'T'], ['H', 'H', 'H'], ['T', 'H', 'H'], ['H', 'T', 'H'], ['H', 'H', 'T'], ['T', 'T', 'H'], ['H', 'T', 'T'], ['T', 'T', 'H'], ['H', 'H', 'T'], ['T', 'T', 'T'], ['T', 'H', 'T'], ['H', 'T', 'H'], ['H', 'T', 'H'], ['H', 'T', 'T'], ['T', 'T', 'H'], ['H', 'H', 'H'], ['H', 'H', 'H'], ['T', 'H', 'T'], ['T', 'T', 'T'], ['T', 'H', 'T'], ['H', 'H', 'T'], ['H', 'T', 'T'], ['H', 'H', 'H'], ['T', 'H', 'T'], ['H', 'H', 'H'], ['T', 'H', 'T'], ['T', 'H', 'T'], ['H', 'T', 'T'], ['T', 'H', 'T'], ['H', 'T', 'H'], ['T', 'T', 'T'], ['T', 'H', 'T'], ['T', 'H', 'H'], ['T', 'H', 'T'], ['H', 'T', 'H'], ['T', 'T', 'T'], ['H', 'H', 'T'], ['T', 'T', 'H'], ['H', 'H', 'H'], ['T', 'T', 'T'], ['H', 'T', 'H'], ['T', 'H', 'T'], ['T', 'T', 'T'], ['T', 'T', 'H'], ['H', 'T', 'T'], ['T', 'T', 'T'], ['T', 'H', 'T'], ['T', 'T', 'H'], ['T', 'T', 'H'], ['T', 'H', 'T'], ['T', 'H', 'H'], ['T', 'H', 'H'], ['T', 'T', 'H'], ['T', 'T', 'T'], ['H', 'T', 'H'], ['T', 'H', 'H'], ['T', 'T', 'H'], ['H', 'T', 'T'], ['H', 'H', 'T'], ['T', 'T', 'H'], ['T', 'T', 'T'], ['T', 'H', 'H'], ['H', 'H', 'H'], ['T', 'T', 'H'], ['T', 'H', 'T'], ['H', 'H', 'T'], ['H', 'H', 'T'], ['T', 'T', 'H'], ['H', 'H', 'T'], ['H', 'H', 'H'], ['T', 'H', 'T'], ['H', 'T', 'T'], ['T', 'H', 'T'], ['T', 'H', 'H'], ['H', 'H', 'T'], ['H', 'T', 'H'], ['H', 'T', 'T'], ['H', 'H', 'T'], ['T', 'T', 'H'], ['H', 'T', 'T'], ['H', 'H', 'H'], ['H', 'H', 'H'], ['H', 'H', 'H'], ['T', 'T', 'T'], ['T', 'H', 'H'], ['H', 'T', 'T'], ['H', 'H', 'H'], ['H', 'T', 'H'], ['H', 'H', 'T'], ['T', 'T', 'T'], ['H', 'T', 'T'], ['H', 'H', 'T'], ['T', 'H', 'T'], ['T', 'T', 'T'], ['T', 'T', 'H'], ['H', 'H', 'T'], ['T', 'T', 'H'], ['H', 'H', 'H'], ['T', 'T', 'H'], ['T', 'T', 'H'], ['H', 'T', 'H'], ['H', 'H', 'T'], ['T', 'T', 'T'], ['H', 'H', 'T'], ['H', 'H', 'T'], ['T', 'H', 'H'], ['H', 'T', 'H'], ['H', 'T', 'H'], ['H', 'H', 'H'], ['T', 'T', 'T'], ['H', 'H', 'T'], ['H', 'T', 'H'], ['H', 'H', 'T'], ['H', 'H', 'H'], ['H', 'H', 'H'], ['H', 'H', 'T'], ['H', 'H', 'H'], ['T', 'H', 'T'], ['T', 'H', 'H'], ['H', 'T', 'T'], ['T', 'H', 'H'], ['H', 'T', 'H'], ['H', 'H', 'H'], ['H', 'H', 'T'], ['T', 'T', 'H'], ['T', 'T', 'H'], ['T', 'T', 'H'], ['H', 'T', 'H'], ['H', 'T', 'T'], ['T', 'H', 'H'], ['T', 'T', 'H'], ['T', 'H', 'T'], ['T', 'H', 'T'], ['T', 'H', 'T'], ['T', 'H', 'T'], ['H', 'T', 'H'], ['T', 'H', 'T'], ['T', 'T', 'T'], ['H', 'T', 'T'], ['H', 'T', 'T'], ['H', 'T', 'T'], ['H', 'H', 'H'], ['T', 'H', 'T'], ['H', 'H', 'H'], ['T', 'T', 'H'], ['H', 'T', 'T'], ['H', 'T', 'T'], ['H', 'H', 'H'], ['H', 'H', 'T'], ['T', 'H', 'T'], ['T', 'H', 'H'], ['T', 'H', 'H'], ['H', 'H', 'H'], ['H', 'H', 'H'], ['T', 'H', 'T'], ['T', 'H', 'T'], ['T', 'T', 'H'], ['H', 'H', 'H'], ['H', 'H', 'T'], ['H', 'T', 'H'], ['H', 'H', 'T'], ['H', 'H', 'H'], ['T', 'T', 'H'], ['H', 'H', 'T'], ['T', 'H', 'H'], ['T', 'H', 'T'], ['T', 'H', 'T'], ['H', 'T', 'H'], ['H', 'T', 'T'], ['H', 'H', 'H'], ['T', 'H', 'H'], ['H', 'H', 'T'], ['T', 'T', 'T'], ['T', 'H', 'H'], ['T', 'T', 'T'], ['T', 'T', 'T'], ['T', 'T', 'T'], ['H', 'T', 'T'], ['T', 'T', 'T'], ['H', 'T', 'H'], ['T', 'H', 'H'], ['T', 'T', 'H'], ['T', 'T', 'H'], ['T', 'T', 'T'], ['H', 'T', 'H'], ['H', 'T', 'T'], ['H', 'T', 'T'], ['T', 'H', 'H'], ['H', 'H', 'T'], ['H', 'H', 'H'], ['H', 'T', 'T'], ['H', 'T', 'H'], ['T', 'H', 'H'], ['T', 'T', 'H'], ['H', 'T', 'H'], ['T', 'T', 'H'], ['T', 'T', 'H'], ['H', 'T', 'H'], ['H', 'T', 'H'], ['T', 'H', 'T'], ['H', 'H', 'T'], ['T', 'T', 'H'], ['T', 'H', 'T'], ['T', 'T', 'T'], ['H', 'T', 'T'], ['T', 'H', 'H'], ['H', 'H', 'T'], ['H', 'T', 'H'], ['T', 'T', 'T'], ['H', 'H', 'H'], ['T', 'H', 'H'], ['T', 'T', 'T'], ['T', 'H', 'H'], ['T', 'T', 'T'], ['H', 'H', 'H'], ['T', 'H', 'T'], ['H', 'H', 'H'], ['T', 'H', 'T'], ['H', 'T', 'H'], ['T', 'H', 'T'], ['T', 'H', 'T'], ['T', 'H', 'T'], ['H', 'H', 'T'], ['H', 'H', 'T'], ['H', 'H', 'H'], ['H', 'T', 'H'], ['T', 'H', 'T'], ['T', 'H', 'T'], ['T', 'H', 'T'], ['H', 'H', 'T'], ['T', 'T', 'T'], ['H', 'H', 'T'], ['H', 'T', 'H'], ['H', 'H', 'H'], ['H', 'T', 'T'], ['H', 'H', 'H'], ['T', 'T', 'T'], ['T', 'H', 'T'], ['H', 'T', 'T'], ['H', 'H', 'H'], ['T', 'T', 'H'], ['H', 'T', 'T'], ['H', 'T', 'T'], ['H', 'H', 'H'], ['H', 'H', 'T'], ['H', 'H', 'H'], ['T', 'T', 'H'], ['T', 'T', 'T'], ['H', 'T', 'T'], ['T', 'H', 'T'], ['H', 'T', 'H'], ['H', 'H', 'T'], ['H', 'H', 'T'], ['H', 'T', 'T'], ['T', 'H', 'T'], ['H', 'H', 'H'], ['T', 'H', 'H'], ['T', 'H', 'H'], ['H', 'H', 'H'], ['T', 'H', 'T'], ['H', 'H', 'H'], ['T', 'T', 'H'], ['H', 'H', 'H'], ['T', 'T', 'H'], ['T', 'H', 'T'], ['T', 'H', 'H'], ['H', 'H', 'T'], ['T', 'H', 'T'], ['H', 'H', 'H'], ['H', 'T', 'H'], ['H', 'T', 'H'], ['H', 'H', 'T'], ['T', 'T', 'T'], ['H', 'T', 'T'], ['H', 'H', 'T'], ['T', 'H', 'T'], ['T', 'H', 'T'], ['T', 'T', 'H'], ['T', 'T', 'H'], ['H', 'H', 'T'], ['T', 'H', 'T'], ['T', 'T', 'H'], ['T', 'H', 'H'], ['T', 'T', 'T'], ['T', 'T', 'H'], ['H', 'T', 'T'], ['H', 'H', 'H'], ['T', 'H', 'H'], ['H', 'H', 'T'], ['T', 'T', 'H'], ['T', 'T', 'H'], ['H', 'H', 'H'], ['T', 'T', 'H'], ['T', 'T', 'H'], ['T', 'H', 'T'], ['H', 'T', 'H'], ['H', 'H', 'H'], ['T', 'T', 'H'], ['T', 'T', 'T'], ['H', 'T', 'T'], ['T', 'T', 'T'], ['T', 'T', 'T'], ['T', 'T', 'T'], ['T', 'T', 'H'], ['H', 'T', 'H'], ['T', 'H', 'H'], ['H', 'T', 'T'], ['T', 'T', 'T'], ['H', 'T', 'H'], ['T', 'H', 'T'], ['T', 'T', 'H'], ['T', 'T', 'H'], ['T', 'T', 'H'], ['T', 'H', 'H'], ['H', 'T', 'H'], ['T', 'T', 'T'], ['T', 'T', 'H'], ['T', 'H', 'H'], ['T', 'T', 'T'], ['H', 'T', 'H'], ['T', 'H', 'H'], ['H', 'T', 'T'], ['H', 'H', 'H'], ['T', 'H', 'H'], ['T', 'T', 'H'], ['T', 'H', 'T'], ['H', 'H', 'H'], ['H', 'T', 'T'], ['H', 'T', 'T'], ['H', 'T', 'T'], ['H', 'T', 'H'], ['H', 'H', 'T'], ['T', 'H', 'T'], ['T', 'H', 'H'], ['T', 'H', 'H'], ['H', 'H', 'T'], ['H', 'H', 'H'], ['H', 'T', 'H'], ['H', 'H', 'T'], ['T', 'H', 'H'], ['T', 'T', 'T'], ['T', 'H', 'H'], ['H', 'T', 'H'], ['T', 'T', 'T'], ['T', 'T', 'T'], ['T', 'T', 'T'], ['H', 'H', 'T'], ['H', 'H', 'H'], ['H', 'T', 'T'], ['T', 'T', 'H'], ['T', 'H', 'H'], ['T', 'T', 'H'], ['H', 'T', 'H'], ['T', 'H', 'T'], ['T', 'H', 'T'], ['T', 'H', 'T'], ['T', 'H', 'T'], ['H', 'H', 'T'], ['T', 'T', 'H'], ['T', 'T', 'H'], ['T', 'H', 'T'], ['T', 'H', 'T'], ['H', 'H', 'T'], ['T', 'T', 'T'], ['T', 'T', 'H'], ['T', 'H', 'T'], ['H', 'H', 'T'], ['T', 'H', 'T'], ['H', 'H', 'T'], ['H', 'H', 'T'], ['T', 'H', 'H'], ['H', 'T', 'H'], ['H', 'T', 'H'], ['T', 'H', 'H'], ['T', 'H', 'H'], ['T', 'T', 'T'], ['H', 'H', 'T'], ['H', 'T', 'H'], ['T', 'T', 'H'], ['H', 'H', 'T'], ['T', 'T', 'T'], ['T', 'T', 'T'], ['T', 'H', 'H'], ['T', 'H', 'T'], ['T', 'H', 'H'], ['T', 'H', 'T'], ['H', 'H', 'H'], ['T', 'T', 'H'], ['H', 'H', 'H'], ['T', 'T', 'T'], ['H', 'T', 'H'], ['H', 'H', 'T'], ['H', 'H', 'H'], ['T', 'H', 'H'], ['T', 'T', 'T'], ['H', 'T', 'H'], ['T', 'T', 'H'], ['H', 'T', 'H'], ['T', 'T', 'H'], ['T', 'T', 'H'], ['H', 'H', 'H'], ['T', 'T', 'T'], ['T', 'H', 'H'], ['H', 'H', 'T'], ['H', 'H', 'H'], ['T', 'H', 'T'], ['H', 'T', 'H'], ['H', 'H', 'T'], ['H', 'T', 'T'], ['T', 'H', 'H'], ['H', 'H', 'H'], ['T', 'T', 'H'], ['T', 'H', 'T'], ['T', 'T', 'T'], ['T', 'T', 'T'], ['H', 'T', 'T'], ['T', 'T', 'T'], ['T', 'T', 'T'], ['H', 'T', 'H'], ['H', 'H', 'H'], ['H', 'T', 'T'], ['T', 'H', 'T'], ['H', 'T', 'T'], ['H', 'H', 'H'], ['T', 'T', 'T'], ['H', 'H', 'H'], ['T', 'T', 'H'], ['T', 'H', 'T'], ['T', 'H', 'H'], ['H', 'T', 'H'], ['T', 'T', 'T'], ['H', 'H', 'H'], ['T', 'T', 'T'], ['H', 'H', 'T'], ['H', 'T', 'H'], ['H', 'H', 'T'], ['T', 'H', 'H'], ['H', 'H', 'H'], ['H', 'H', 'H'], ['T', 'H', 'H'], ['H', 'H', 'H'], ['T', 'T', 'H'], ['T', 'T', 'T'], ['T', 'H', 'T'], ['H', 'H', 'T'], ['H', 'H', 'H'], ['H', 'T', 'T'], ['T', 'H', 'H'], ['H', 'T', 'H'], ['T', 'T', 'T'], ['H', 'H', 'T'], ['T', 'T', 'T'], ['T', 'H', 'H'], ['H', 'T', 'H'], ['T', 'T', 'T'], ['T', 'T', 'H'], ['H', 'T', 'T'], ['H', 'T', 'H'], ['T', 'H', 'T'], ['T', 'T', 'H'], ['H', 'H', 'H'], ['T', 'T', 'T'], ['T', 'H', 'H'], ['H', 'T', 'H'], ['H', 'H', 'H'], ['H', 'T', 'H'], ['H', 'H', 'H'], ['T', 'T', 'H'], ['T', 'H', 'T'], ['H', 'H', 'T'], ['H', 'H', 'H'], ['H', 'H', 'T'], ['T', 'T', 'T'], ['H', 'T', 'T'], ['H', 'H', 'T'], ['T', 'T', 'H'], ['H', 'H', 'T'], ['T', 'H', 'H'], ['T', 'H', 'T'], ['H', 'T', 'T'], ['T', 'T', 'T'], ['T', 'T', 'T'], ['T', 'T', 'T'], ['T', 'H', 'H'], ['T', 'H', 'H'], ['H', 'H', 'T'], ['H', 'T', 'H'], ['H', 'H', 'H'], ['H', 'T', 'T'], ['H', 'T', 'T'], ['T', 'H', 'H'], ['H', 'T', 'H'], ['T', 'T', 'H'], ['H', 'T', 'T'], ['H', 'T', 'H'], ['H', 'H', 'H'], ['T', 'T', 'T'], ['T', 'T', 'H'], ['H', 'H', 'H'], ['H', 'H', 'H'], ['T', 'H', 'H'], ['H', 'H', 'H'], ['T', 'H', 'H'], ['T', 'H', 'T'], ['H', 'T', 'T'], ['H', 'T', 'H'], ['T', 'T', 'H'], ['H', 'H', 'T'], ['T', 'H', 'H'], ['T', 'H', 'T'], ['T', 'T', 'H'], ['T', 'T', 'H'], ['H', 'T', 'T'], ['T', 'H', 'T'], ['H', 'T', 'T'], ['T', 'T', 'H'], ['T', 'T', 'H'], ['T', 'T', 'H'], ['H', 'T', 'T'], ['H', 'H', 'T'], ['T', 'H', 'T'], ['T', 'H', 'T'], ['H', 'T', 'H'], ['H', 'H', 'H'], ['T', 'H', 'T'], ['H', 'T', 'H'], ['T', 'H', 'H'], ['T', 'T', 'H'], ['H', 'T', 'T'], ['T', 'T', 'T'], ['H', 'H', 'H'], ['T', 'T', 'H'], ['H', 'H', 'T'], ['H', 'T', 'T'], ['T', 'T', 'H'], ['H', 'T', 'H'], ['T', 'T', 'H'], ['T', 'H', 'H'], ['H', 'H', 'T'], ['T', 'T', 'H'], ['T', 'T', 'T'], ['H', 'H', 'H'], ['T', 'T', 'T'], ['T', 'T', 'H'], ['T', 'T', 'T'], ['T', 'H', 'T'], ['H', 'H', 'T'], ['T', 'T', 'H'], ['H', 'H', 'T'], ['H', 'T', 'H'], ['H', 'H', 'T'], ['H', 'H', 'H'], ['T', 'H', 'T'], ['H', 'H', 'T'], ['H', 'T', 'H'], ['T', 'T', 'H'], ['T', 'T', 'T'], ['T', 'T', 'H'], ['T', 'T', 'H'], ['T', 'H', 'T'], ['H', 'H', 'T'], ['H', 'T', 'H'], ['T', 'H', 'T'], ['T', 'H', 'T'], ['H', 'H', 'T'], ['H', 'T', 'H'], ['H', 'T', 'T'], ['H', 'H', 'T'], ['H', 'T', 'T'], ['H', 'H', 'H'], ['H', 'H', 'H'], ['H', 'H', 'H'], ['H', 'H', 'H'], ['T', 'T', 'H'], ['T', 'H', 'H'], ['T', 'T', 'H'], ['H', 'H', 'H'], ['H', 'T', 'H'], ['T', 'T', 'T'], ['H', 'T', 'H'], ['T', 'H', 'H'], ['T', 'T', 'H'], ['T', 'T', 'H'], ['T', 'H', 'T'], ['H', 'H', 'T'], ['H', 'H', 'H'], ['T', 'T', 'H'], ['H', 'H', 'H'], ['H', 'T', 'H'], ['T', 'T', 'H'], ['H', 'T', 'H'], ['H', 'T', 'H'], ['T', 'T', 'T'], ['H', 'T', 'H'], ['H', 'H', 'T'], ['T', 'H', 'T'], ['T', 'H', 'H'], ['H', 'T', 'H'], ['H', 'H', 'T'], ['T', 'H', 'H'], ['T', 'T', 'T'], ['H', 'T', 'H'], ['H', 'H', 'T'], ['T', 'H', 'T'], ['T', 'H', 'T'], ['H', 'H', 'T'], ['H', 'H', 'H'], ['H', 'T', 'T'], ['H', 'H', 'H'], ['T', 'H', 'H'], ['T', 'T', 'T'], ['H', 'T', 'T'], ['H', 'T', 'H'], ['T', 'H', 'T'], ['H', 'T', 'T'], ['H', 'H', 'H'], ['T', 'H', 'T'], ['T', 'H', 'H'], ['T', 'H', 'T'], ['T', 'H', 'T'], ['T', 'T', 'H'], ['H', 'T', 'T'], ['T', 'T', 'H'], ['T', 'T', 'T'], ['T', 'H', 'T'], ['T', 'H', 'H'], ['T', 'H', 'T'], ['H', 'H', 'T'], ['H', 'H', 'H'], ['H', 'H', 'T'], ['H', 'H', 'T'], ['H', 'T', 'H'], ['H', 'T', 'T'], ['H', 'H', 'H'], ['H', 'H', 'T'], ['H', 'T', 'T'], ['T', 'T', 'T'], ['H', 'H', 'H'], ['H', 'H', 'H'], ['T', 'H', 'T'], ['T', 'H', 'H'], ['H', 'T', 'T'], ['H', 'T', 'T'], ['H', 'H', 'H'], ['H', 'T', 'H'], ['T', 'H', 'T'], ['T', 'H', 'H'], ['T', 'H', 'H'], ['H', 'H', 'H'], ['T', 'H', 'H'], ['H', 'T', 'H'], ['H', 'T', 'H'], ['H', 'T', 'T'], ['T', 'H', 'H'], ['T', 'T', 'H'], ['T', 'H', 'T'], ['H', 'T', 'H'], ['H', 'H', 'T'], ['H', 'H', 'T'], ['H', 'H', 'H'], ['T', 'H', 'H'], ['T', 'T', 'T'], ['T', 'H', 'H'], ['H', 'T', 'T'], ['T', 'T', 'T'], ['T', 'T', 'T'], ['H', 'H', 'H'], ['T', 'T', 'T'], ['T', 'T', 'H'], ['H', 'T', 'T'], ['H', 'H', 'H'], ['H', 'H', 'T'], ['H', 'H', 'H'], ['H', 'T', 'T'], ['H', 'T', 'H'], ['T', 'H', 'T'], ['T', 'T', 'T'], ['H', 'T', 'T'], ['T', 'T', 'H'], ['H', 'H', 'T'], ['H', 'H', 'H'], ['T', 'H', 'H'], ['H', 'T', 'T'], ['H', 'T', 'T'], ['T', 'H', 'H'], ['H', 'H', 'H'], ['H', 'T', 'T'], ['H', 'T', 'H'], ['T', 'T', 'H'], ['T', 'H', 'T'], ['T', 'H', 'H'], ['H', 'T', 'T'], ['H', 'T', 'T'], ['T', 'H', 'H'], ['H', 'H', 'H'], ['T', 'T', 'T'], ['T', 'H', 'H'], ['T', 'H', 'H'], ['T', 'H', 'H'], ['H', 'H', 'H'], ['T', 'H', 'T'], ['T', 'H', 'H'], ['T', 'H', 'H'], ['T', 'H', 'H'], ['H', 'H', 'H'], ['H', 'H', 'T'], ['T', 'T', 'T'], ['H', 'T', 'T'], ['H', 'T', 'H'], ['H', 'H', 'T'], ['H', 'H', 'T'], ['H', 'H', 'H'], ['T', 'T', 'T'], ['H', 'H', 'T'], ['T', 'T', 'T'], ['H', 'H', 'H'], ['T', 'T', 'H'], ['H', 'H', 'T'], ['T', 'T', 'H'], ['T', 'H', 'T'], ['T', 'H', 'H'], ['T', 'H', 'T'], ['T', 'H', 'T'], ['T', 'T', 'T'], ['H', 'H', 'T'], ['T', 'T', 'T'], ['H', 'T', 'T'], ['T', 'T', 'H'], ['T', 'H', 'H'], ['T', 'H', 'T'], ['T', 'H', 'T'], ['H', 'H', 'T'], ['H', 'H', 'T'], ['T', 'T', 'T'], ['H', 'T', 'T'], ['T', 'H', 'T'], ['T', 'T', 'H'], ['H', 'H', 'H'], ['H', 'H', 'H'], ['H', 'T', 'H'], ['H', 'H', 'T'], ['T', 'H', 'H'], ['H', 'H', 'T'], ['T', 'T', 'H'], ['T', 'H', 'T'], ['H', 'T', 'T'], ['H', 'T', 'H'], ['H', 'T', 'T'], ['H', 'T', 'T'], ['T', 'H', 'H'], ['H', 'T', 'T'], ['T', 'T', 'T'], ['H', 'T', 'T'], ['H', 'T', 'H'], ['H', 'T', 'H'], ['T', 'T', 'T'], ['T', 'H', 'T'], ['T', 'H', 'T'], ['H', 'T', 'T'], ['H', 'H', 'H'], ['T', 'T', 'T'], ['T', 'H', 'H'], ['H', 'T', 'T'], ['T', 'T', 'T'], ['T', 'T', 'H'], ['H', 'H', 'T'], ['H', 'H', 'T'], ['T', 'H', 'T'], ['H', 'H', 'T'], ['H', 'T', 'T'], ['H', 'T', 'T'], ['H', 'H', 'T'], ['H', 'T', 'T'], ['H', 'H', 'T'], ['T', 'T', 'H'], ['H', 'H', 'H'], ['T', 'H', 'T'], ['H', 'H', 'H'], ['H', 'H', 'T'], ['T', 'T', 'T'], ['T', 'H', 'H'], ['T', 'T', 'T'], ['H', 'H', 'T'], ['T', 'H', 'H'], ['H', 'H', 'T'], ['H', 'H', 'H'], ['T', 'H', 'H'], ['H', 'T', 'T'], ['T', 'T', 'H'], ['H', 'T', 'T'], ['H', 'T', 'T'], ['H', 'T', 'T'], ['H', 'H', 'H'], ['T', 'H', 'T'], ['T', 'H', 'H'], ['T', 'T', 'T'], ['T', 'T', 'H'], ['H', 'T', 'H'], ['T', 'T', 'T'], ['T', 'H', 'T'], ['H', 'H', 'T'], ['T', 'H', 'H'], ['H', 'T', 'T'], ['H', 'T', 'H'], ['H', 'T', 'T'], ['T', 'T', 'T'], ['T', 'H', 'T'], ['H', 'T', 'H'], ['T', 'T', 'T'], ['T', 'T', 'H'], ['T', 'T', 'H'], ['T', 'T', 'T'], ['T', 'H', 'H'], ['H', 'H', 'H'], ['H', 'T', 'H'], ['T', 'T', 'T'], ['H', 'T', 'T'], ['H', 'T', 'H'], ['H', 'T', 'T'], ['T', 'T', 'H'], ['H', 'T', 'T'], ['T', 'T', 'T'], ['H', 'H', 'T'], ['H', 'H', 'H'], ['H', 'T', 'H'], ['H', 'T', 'H'], ['H', 'H', 'T'], ['T', 'H', 'T'], ['T', 'T', 'H'], ['H', 'H', 'H'], ['T', 'H', 'H'], ['T', 'H', 'H'], ['H', 'T', 'T'], ['T', 'T', 'T'], ['H', 'T', 'T'], ['T', 'T', 'T'], ['H', 'T', 'T'], ['H', 'H', 'H'], ['T', 'H', 'T'], ['T', 'T', 'H'], ['T', 'T', 'T'], ['T', 'H', 'T'], ['T', 'T', 'T'], ['T', 'T', 'T'], ['T', 'T', 'T'], ['H', 'T', 'H'], ['T', 'T', 'T'], ['H', 'T', 'T'], ['H', 'T', 'T'], ['T', 'H', 'H'], ['H', 'T', 'H'], ['T', 'T', 'H'], ['T', 'T', 'T'], ['T', 'H', 'T'], ['T', 'T', 'H'], ['T', 'H', 'H'], ['H', 'H', 'T'], ['H', 'T', 'T'], ['H', 'H', 'H'], ['H', 'T', 'H'], ['T', 'T', 'H'], ['T', 'H', 'H'], ['H', 'T', 'H'], ['T', 'T', 'H'], ['T', 'H', 'H'], ['T', 'H', 'H'], ['H', 'H', 'H'], ['T', 'T', 'T'], ['H', 'H', 'H'], ['H', 'H', 'T'], ['T', 'T', 'T'], ['T', 'T', 'H'], ['T', 'T', 'T'], ['H', 'T', 'H'], ['H', 'T', 'H'], ['H', 'T', 'H'], ['T', 'H', 'T'], ['T', 'T', 'T'], ['H', 'H', 'T'], ['H', 'T', 'T'], ['T', 'T', 'H'], ['H', 'H', 'H'], ['H', 'T', 'H'], ['T', 'T', 'H'], ['T', 'H', 'T'], ['H', 'H', 'H'], ['T', 'H', 'H'], ['T', 'H', 'H'], ['H', 'H', 'H'], ['T', 'T', 'H'], ['H', 'T', 'H'], ['H', 'T', 'T'], ['H', 'T', 'T'], ['H', 'T', 'T'], ['H', 'T', 'T'], ['T', 'H', 'T'], ['H', 'T', 'H'], ['H', 'T', 'T'], ['T', 'T', 'T'], ['T', 'H', 'H'], ['H', 'T', 'H'], ['T', 'H', 'T'], ['H', 'T', 'H'], ['T', 'H', 'H'], ['H', 'H', 'T'], ['H', 'T', 'T'], ['T', 'T', 'T'], ['H', 'H', 'H'], ['H', 'T', 'H'], ['H', 'T', 'H'], ['T', 'T', 'H'], ['H', 'H', 'T'], ['T', 'H', 'T'], ['T', 'H', 'T'], ['H', 'H', 'T'], ['T', 'H', 'H'], ['H', 'T', 'H'], ['H', 'H', 'T'], ['T', 'H', 'T'], ['H', 'T', 'T'], ['T', 'T', 'T'], ['H', 'T', 'H'], ['T', 'T', 'H'], ['T', 'H', 'H'], ['H', 'T', 'H'], ['T', 'T', 'H'], ['T', 'H', 'H'], ['H', 'T', 'T'], ['H', 'H', 'H'], ['H', 'T', 'H'], ['H', 'H', 'T'], ['H', 'H', 'H'], ['T', 'H', 'T'], ['T', 'H', 'H'], ['H', 'T', 'T'], ['H', 'H', 'T'], ['H', 'T', 'T'], ['H', 'H', 'H'], ['H', 'T', 'H'], ['H', 'T', 'H'], ['T', 'H', 'H'], ['H', 'T', 'T'], ['T', 'H', 'H'], ['H', 'T', 'T'], ['T', 'H', 'T'], ['T', 'H', 'T'], ['H', 'H', 'H'], ['T', 'T', 'T'], ['T', 'H', 'H'], ['H', 'T', 'T'], ['T', 'H', 'H'], ['T', 'T', 'H'], ['T', 'H', 'H'], ['H', 'H', 'H'], ['H', 'T', 'T'], ['T', 'T', 'H'], ['T', 'T', 'H'], ['T', 'T', 'T'], ['H', 'H', 'H'], ['T', 'T', 'T'], ['H', 'T', 'T'], ['H', 'H', 'H'], ['H', 'T', 'H'], ['T', 'T', 'H'], ['T', 'H', 'T'], ['H', 'H', 'H'], ['H', 'T', 'T'], ['H', 'T', 'T'], ['H', 'H', 'H'], ['T', 'H', 'H'], ['H', 'T', 'H'], ['T', 'H', 'H'], ['H', 'T', 'T'], ['H', 'H', 'T'], ['T', 'H', 'T'], ['H', 'T', 'H'], ['H', 'T', 'H'], ['T', 'H', 'H'], ['T', 'H', 'H'], ['H', 'T', 'T'], ['T', 'H', 'T'], ['T', 'H', 'T'], ['T', 'T', 'T'], ['T', 'T', 'T'], ['T', 'H', 'T'], ['T', 'T', 'T'], ['H', 'H', 'H'], ['H', 'H', 'T'], ['T', 'T', 'H'], ['T', 'H', 'T'], ['T', 'T', 'H'], ['T', 'H', 'H'], ['T', 'H', 'H'], ['T', 'H', 'H'], ['T', 'H', 'H'], ['H', 'T', 'H'], ['H', 'H', 'H'], ['T', 'T', 'H'], ['H', 'H', 'T'], ['T', 'H', 'H'], ['T', 'H', 'T'], ['H', 'T', 'H'], ['T', 'H', 'T'], ['H', 'T', 'H'], ['T', 'T', 'T'], ['H', 'H', 'H'], ['T', 'H', 'T'], ['H', 'H', 'H'], ['T', 'T', 'H'], ['T', 'T', 'T'], ['T', 'H', 'T'], ['H', 'H', 'H'], ['T', 'T', 'H'], ['T', 'H', 'T'], ['T', 'H', 'T'], ['T', 'H', 'T'], ['H', 'H', 'T'], ['H', 'T', 'H'], ['H', 'T', 'T'], ['H', 'T', 'H'], ['T', 'T', 'H'], ['H', 'H', 'T'], ['T', 'H', 'H'], ['H', 'H', 'T'], ['H', 'H', 'H'], ['H', 'T', 'T'], ['T', 'T', 'H'], ['H', 'H', 'T'], ['T', 'T', 'T'], ['T', 'T', 'T'], ['T', 'T', 'H'], ['T', 'T', 'H'], ['H', 'H', 'T'], ['H', 'T', 'H'], ['T', 'T', 'T'], ['T', 'T', 'H'], ['H', 'T', 'T'], ['H', 'H', 'T'], ['H', 'H', 'H'], ['T', 'T', 'H'], ['T', 'H', 'H'], ['H', 'H', 'H'], ['H', 'H', 'T'], ['T', 'H', 'T'], ['T', 'T', 'H'], ['H', 'H', 'H'], ['T', 'T', 'T'], ['T', 'T', 'T'], ['H', 'H', 'T'], ['H', 'T', 'H'], ['T', 'H', 'H'], ['H', 'H', 'T'], ['T', 'T', 'H'], ['H', 'T', 'H'], ['T', 'T', 'T'], ['T', 'T', 'T'], ['T', 'H', 'T'], ['H', 'T', 'H'], ['H', 'T', 'H'], ['H', 'H', 'T'], ['T', 'T', 'H'], ['H', 'H', 'T'], ['H', 'T', 'T'], ['T', 'H', 'T'], ['T', 'H', 'H'], ['T', 'H', 'H'], ['H', 'H', 'T'], ['T', 'H', 'H'], ['H', 'T', 'H'], ['H', 'H', 'T'], ['T', 'H', 'H'], ['H', 'T', 'T'], ['H', 'T', 'H'], ['H', 'H', 'T'], ['H', 'H', 'H'], ['T', 'H', 'T'], ['H', 'H', 'T'], ['T', 'H', 'H'], ['H', 'T', 'T'], ['T', 'T', 'H'], ['H', 'H', 'H'], ['H', 'H', 'H'], ['T', 'T', 'T'], ['H', 'H', 'T'], ['H', 'T', 'T'], ['H', 'T', 'T'], ['H', 'T', 'T'], ['H', 'H', 'H'], ['H', 'T', 'H'], ['H', 'H', 'T'], ['T', 'T', 'H'], ['H', 'T', 'H'], ['T', 'H', 'H'], ['T', 'H', 'T'], ['T', 'T', 'H'], ['H', 'H', 'T'], ['T', 'T', 'T'], ['T', 'H', 'H'], ['T', 'H', 'T'], ['H', 'T', 'T'], ['H', 'H', 'H'], ['T', 'H', 'T'], ['T', 'H', 'T'], ['T', 'H', 'T'], ['T', 'H', 'H'], ['T', 'T', 'T'], ['H', 'H', 'T'], ['H', 'T', 'T'], ['H', 'T', 'H'], ['T', 'H', 'H'], ['H', 'T', 'T'], ['T', 'H', 'T'], ['H', 'H', 'H'], ['T', 'H', 'T'], ['H', 'T', 'T'], ['T', 'H', 'H'], ['H', 'H', 'T'], ['T', 'T', 'H'], ['T', 'H', 'T'], ['H', 'H', 'H'], ['T', 'H', 'T'], ['H', 'H', 'T'], ['H', 'H', 'T'], ['H', 'H', 'H'], ['T', 'H', 'T'], ['T', 'H', 'H'], ['T', 'H', 'T'], ['H', 'H', 'T'], ['H', 'T', 'H'], ['H', 'T', 'T'], ['H', 'H', 'H'], ['T', 'H', 'T'], ['T', 'H', 'T'], ['T', 'T', 'H'], ['H', 'T', 'T'], ['H', 'T', 'T'], ['T', 'T', 'H'], ['H', 'H', 'T'], ['H', 'T', 'T'], ['H', 'H', 'H'], ['H', 'T', 'T'], ['T', 'T', 'H'], ['H', 'T', 'T'], ['H', 'T', 'H'], ['T', 'H', 'T'], ['H', 'H', 'T'], ['T', 'H', 'H'], ['H', 'T', 'H'], ['T', 'H', 'T'], ['H', 'H', 'H'], ['T', 'H', 'T'], ['T', 'H', 'T'], ['H', 'T', 'H'], ['T', 'T', 'T'], ['T', 'H', 'H'], ['H', 'H', 'H'], ['T', 'T', 'H'], ['T', 'H', 'T'], ['H', 'T', 'H'], ['T', 'H', 'T'], ['H', 'H', 'H'], ['T', 'T', 'T'], ['T', 'T', 'T'], ['H', 'T', 'T'], ['H', 'H', 'T'], ['H', 'H', 'H'], ['H', 'H', 'T'], ['T', 'T', 'T'], ['H', 'H', 'T'], ['T', 'H', 'H'], ['H', 'T', 'T'], ['H', 'H', 'T'], ['T', 'H', 'T'], ['H', 'T', 'T'], ['T', 'H', 'T'], ['H', 'H', 'T'], ['T', 'T', 'H'], ['H', 'H', 'H'], ['T', 'T', 'H'], ['T', 'H', 'H'], ['T', 'T', 'H'], ['H', 'H', 'H'], ['T', 'T', 'T'], ['T', 'T', 'H'], ['T', 'T', 'T'], ['T', 'T', 'T'], ['T', 'H', 'H'], ['H', 'H', 'H'], ['H', 'T', 'T'], ['T', 'T', 'H'], ['T', 'H', 'T'], ['H', 'T', 'T'], ['T', 'H', 'T'], ['T', 'T', 'H'], ['H', 'H', 'H'], ['H', 'T', 'T'], ['H', 'T', 'T'], ['H', 'T', 'T'], ['T', 'T', 'H'], ['H', 'T', 'H'], ['H', 'H', 'T'], ['T', 'T', 'T'], ['H', 'H', 'T'], ['H', 'H', 'H'], ['H', 'H', 'H'], ['H', 'H', 'T'], ['T', 'H', 'T'], ['H', 'H', 'T'], ['T', 'T', 'T'], ['H', 'T', 'H'], ['T', 'T', 'H'], ['T', 'H', 'T'], ['H', 'H', 'H'], ['T', 'H', 'T'], ['T', 'T', 'T'], ['T', 'T', 'H'], ['H', 'T', 'T'], ['T', 'T', 'H'], ['H', 'H', 'H'], ['H', 'H', 'T'], ['H', 'T', 'T'], ['H', 'T', 'H'], ['H', 'T', 'T'], ['T', 'T', 'T'], ['H', 'T', 'H'], ['H', 'H', 'T'], ['H', 'H', 'H'], ['T', 'H', 'T'], ['H', 'H', 'H'], ['H', 'H', 'T'], ['T', 'H', 'H'], ['T', 'T', 'H'], ['H', 'T', 'T'], ['H', 'H', 'T'], ['H', 'T', 'H'], ['T', 'H', 'H'], ['H', 'T', 'H'], ['T', 'T', 'H'], ['H', 'T', 'T'], ['T', 'T', 'T'], ['T', 'T', 'T'], ['T', 'T', 'T'], ['T', 'H', 'T'], ['H', 'H', 'H'], ['T', 'T', 'H'], ['T', 'H', 'H'], ['H', 'T', 'T'], ['T', 'T', 'T'], ['H', 'H', 'T'], ['H', 'H', 'H'], ['H', 'H', 'H'], ['T', 'T', 'H'], ['H', 'T', 'T'], ['T', 'T', 'T'], ['H', 'T', 'T'], ['H', 'T', 'T'], ['H', 'T', 'H'], ['H', 'T', 'H'], ['T', 'T', 'T'], ['T', 'T', 'T'], ['H', 'T', 'H'], ['T', 'T', 'H'], ['H', 'T', 'T'], ['T', 'T', 'H'], ['H', 'T', 'T'], ['T', 'T', 'H'], ['T', 'T', 'T'], ['T', 'H', 'T'], ['T', 'H', 'T'], ['H', 'H', 'H'], ['T', 'T', 'T'], ['T', 'T', 'H'], ['H', 'T', 'H'], ['H', 'H', 'T'], ['H', 'T', 'H'], ['H', 'H', 'H'], ['H', 'T', 'H'], ['H', 'H', 'H'], ['T', 'T', 'H'], ['T', 'H', 'H'], ['H', 'T', 'H'], ['H', 'H', 'H'], ['T', 'T', 'T'], ['H', 'T', 'H'], ['T', 'H', 'T'], ['T', 'T', 'H'], ['H', 'H', 'T'], ['T', 'T', 'T'], ['H', 'H', 'T'], ['T', 'T', 'H'], ['H', 'H', 'T'], ['T', 'H', 'H'], ['H', 'H', 'H'], ['T', 'H', 'T'], ['T', 'T', 'T'], ['T', 'H', 'T'], ['T', 'H', 'T'], ['T', 'T', 'H'], ['T', 'T', 'T'], ['H', 'T', 'H'], ['T', 'H', 'T'], ['T', 'T', 'H'], ['H', 'H', 'H'], ['H', 'H', 'H'], ['H', 'H', 'T'], ['T', 'H', 'H'], ['T', 'T', 'H'], ['H', 'T', 'H'], ['H', 'T', 'T'], ['H', 'T', 'H'], ['T', 'T', 'T'], ['H', 'T', 'T'], ['H', 'T', 'H'], ['T', 'T', 'T'], ['T', 'T', 'H'], ['H', 'H', 'H'], ['H', 'H', 'H'], ['H', 'H', 'T'], ['T', 'H', 'T'], ['H', 'H', 'H'], ['T', 'H', 'T'], ['T', 'H', 'H'], ['H', 'T', 'T'], ['H', 'T', 'T'], ['H', 'T', 'H'], ['T', 'H', 'H'], ['T', 'T', 'T'], ['T', 'H', 'H'], ['H', 'H', 'H'], ['T', 'T', 'T'], ['T', 'T', 'T'], ['T', 'T', 'T'], ['T', 'T', 'T'], ['H', 'H', 'T'], ['T', 'H', 'T'], ['H', 'H', 'T'], ['T', 'T', 'T'], ['T', 'T', 'H'], ['H', 'H', 'T'], ['T', 'H', 'H'], ['H', 'T', 'T'], ['H', 'H', 'H'], ['H', 'H', 'H'], ['H', 'H', 'T'], ['H', 'H', 'T'], ['T', 'H', 'H'], ['T', 'H', 'T'], ['T', 'T', 'T'], ['H', 'H', 'T'], ['H', 'T', 'H'], ['T', 'T', 'T'], ['H', 'T', 'T'], ['T', 'T', 'T'], ['T', 'H', 'H'], ['T', 'T', 'H'], ['T', 'T', 'H'], ['T', 'T', 'T'], ['H', 'T', 'T'], ['T', 'T', 'H'], ['T', 'H', 'T'], ['T', 'H', 'H'], ['T', 'T', 'T'], ['H', 'T', 'T'], ['H', 'H', 'T'], ['T', 'H', 'H'], ['H', 'T', 'H'], ['T', 'T', 'T'], ['H', 'T', 'H'], ['T', 'H', 'T'], ['T', 'T', 'H'], ['H', 'T', 'T'], ['H', 'H', 'H'], ['T', 'H', 'H'], ['T', 'H', 'T'], ['H', 'H', 'H'], ['T', 'H', 'H'], ['T', 'H', 'H'], ['H', 'T', 'T'], ['H', 'H', 'H'], ['H', 'H', 'T'], ['H', 'H', 'T'], ['T', 'H', 'T'], ['T', 'T', 'H'], ['H', 'T', 'H'], ['H', 'T', 'H'], ['H', 'T', 'H'], ['T', 'T', 'T'], ['H', 'H', 'T'], ['T', 'T', 'H'], ['T', 'H', 'T'], ['T', 'H', 'H'], ['H', 'T', 'H'], ['T', 'H', 'H'], ['H', 'H', 'H'], ['H', 'T', 'H'], ['T', 'H', 'T'], ['T', 'T', 'H'], ['H', 'H', 'T'], ['T', 'H', 'H'], ['H', 'T', 'T'], ['H', 'T', 'T'], ['H', 'H', 'H'], ['H', 'T', 'H'], ['H', 'T', 'H'], ['H', 'T', 'H'], ['H', 'T', 'T'], ['T', 'T', 'T'], ['H', 'T', 'H'], ['H', 'T', 'H'], ['T', 'H', 'T'], ['T', 'T', 'T'], ['T', 'H', 'H'], ['H', 'H', 'T'], ['H', 'H', 'H'], ['T', 'H', 'T'], ['H', 'H', 'H'], ['T', 'H', 'H'], ['H', 'H', 'T'], ['H', 'H', 'H'], ['T', 'T', 'T'], ['H', 'T', 'T'], ['H', 'T', 'T'], ['H', 'H', 'H'], ['H', 'H', 'T'], ['T', 'T', 'T'], ['H', 'H', 'H'], ['H', 'H', 'T'], ['H', 'T', 'H'], ['T', 'H', 'H'], ['H', 'H', 'T'], ['H', 'H', 'T'], ['T', 'T', 'T'], ['T', 'T', 'T'], ['T', 'H', 'H'], ['T', 'T', 'T'], ['T', 'H', 'H'], ['T', 'H', 'H'], ['H', 'T', 'H'], ['T', 'T', 'T'], ['T', 'H', 'H'], ['H', 'H', 'H'], ['T', 'T', 'H'], ['T', 'T', 'H'], ['H', 'T', 'H'], ['T', 'T', 'T'], ['H', 'T', 'H'], ['H', 'T', 'H'], ['T', 'T', 'H'], ['H', 'T', 'T'], ['T', 'T', 'H'], ['T', 'H', 'T'], ['H', 'T', 'T'], ['H', 'H', 'T'], ['T', 'T', 'T'], ['H', 'T', 'H'], ['T', 'T', 'H'], ['T', 'T', 'T'], ['H', 'H', 'T'], ['H', 'T', 'H'], ['T', 'T', 'H'], ['T', 'T', 'H'], ['T', 'T', 'H'], ['H', 'H', 'T'], ['T', 'H', 'T'], ['H', 'T', 'T'], ['T', 'T', 'T'], ['T', 'T', 'H'], ['H', 'T', 'T'], ['H', 'T', 'H'], ['T', 'T', 'H'], ['H', 'T', 'H'], ['H', 'H', 'T'], ['T', 'T', 'H'], ['H', 'T', 'H'], ['T', 'T', 'H'], ['T', 'H', 'T'], ['H', 'T', 'T'], ['T', 'T', 'T'], ['T', 'T', 'T'], ['H', 'T', 'H'], ['H', 'H', 'H'], ['T', 'H', 'T'], ['H', 'T', 'H'], ['T', 'T', 'H'], ['H', 'H', 'T'], ['T', 'T', 'H'], ['T', 'T', 'T'], ['H', 'H', 'T'], ['H', 'T', 'T'], ['T', 'T', 'H'], ['H', 'T', 'T'], ['H', 'T', 'T'], ['T', 'H', 'T'], ['T', 'T', 'H'], ['T', 'T', 'T'], ['T', 'T', 'T'], ['H', 'H', 'H'], ['H', 'T', 'T'], ['T', 'T', 'H'], ['H', 'H', 'T'], ['H', 'H', 'H'], ['T', 'T', 'T'], ['T', 'H', 'H'], ['H', 'T', 'H'], ['H', 'T', 'T'], ['H', 'T', 'H'], ['H', 'T', 'H'], ['H', 'T', 'T'], ['H', 'H', 'T'], ['H', 'T', 'H'], ['T', 'H', 'T'], ['T', 'T', 'T'], ['T', 'H', 'H'], ['T', 'T', 'T'], ['T', 'H', 'T'], ['T', 'T', 'H'], ['T', 'T', 'T'], ['H', 'H', 'H'], ['T', 'T', 'T'], ['H', 'H', 'T'], ['H', 'T', 'T'], ['H', 'H', 'T'], ['H', 'T', 'T'], ['H', 'T', 'H'], ['H', 'T', 'H'], ['T', 'H', 'H'], ['T', 'T', 'H'], ['T', 'T', 'H'], ['T', 'T', 'H'], ['T', 'T', 'H'], ['T', 'T', 'H'], ['H', 'H', 'T'], ['T', 'H', 'T'], ['H', 'H', 'T'], ['H', 'H', 'H'], ['H', 'H', 'T'], ['H', 'T', 'H'], ['T', 'H', 'H'], ['T', 'T', 'T'], ['H', 'T', 'H'], ['T', 'T', 'H'], ['H', 'T', 'H'], ['T', 'T', 'H'], ['T', 'T', 'T'], ['H', 'T', 'H'], ['T', 'H', 'H'], ['T', 'H', 'H'], ['T', 'T', 'T'], ['H', 'H', 'H'], ['T', 'T', 'T'], ['T', 'T', 'T'], ['T', 'H', 'T'], ['T', 'H', 'T'], ['T', 'H', 'H'], ['H', 'T', 'T'], ['T', 'H', 'T'], ['H', 'H', 'T'], ['H', 'H', 'H'], ['H', 'T', 'H'], ['H', 'T', 'T'], ['H', 'T', 'H'], ['T', 'T', 'H'], ['T', 'T', 'T'], ['T', 'T', 'H'], ['H', 'H', 'H'], ['T', 'H', 'T'], ['T', 'H', 'H'], ['T', 'H', 'H'], ['H', 'T', 'H'], ['T', 'T', 'T'], ['H', 'H', 'T'], ['H', 'T', 'T'], ['T', 'H', 'H'], ['H', 'T', 'H'], ['T', 'H', 'H'], ['H', 'T', 'T'], ['T', 'T', 'H'], ['T', 'T', 'T'], ['H', 'T', 'H'], ['H', 'H', 'T'], ['T', 'T', 'T'], ['T', 'H', 'T'], ['T', 'H', 'H'], ['H', 'T', 'T'], ['T', 'T', 'T'], ['T', 'T', 'H'], ['H', 'H', 'H'], ['H', 'H', 'H'], ['T', 'T', 'T'], ['H', 'T', 'H'], ['T', 'H', 'T'], ['T', 'H', 'H'], ['T', 'H', 'T'], ['T', 'T', 'T'], ['H', 'H', 'T'], ['T', 'T', 'T'], ['H', 'T', 'T'], ['T', 'H', 'T'], ['T', 'T', 'T'], ['T', 'H', 'H'], ['T', 'H', 'H'], ['T', 'H', 'H'], ['T', 'H', 'T'], ['H', 'T', 'T'], ['T', 'H', 'T'], ['T', 'H', 'T'], ['T', 'H', 'H'], ['T', 'H', 'T'], ['H', 'T', 'H'], ['H', 'T', 'H'], ['H', 'T', 'H'], ['T', 'T', 'H'], ['H', 'H', 'T'], ['H', 'H', 'H'], ['T', 'T', 'T'], ['T', 'H', 'H'], ['H', 'H', 'H'], ['H', 'T', 'T'], ['T', 'H', 'H'], ['H', 'T', 'T'], ['T', 'T', 'H'], ['H', 'T', 'H'], ['T', 'T', 'H'], ['T', 'T', 'T'], ['H', 'H', 'H'], ['T', 'H', 'H'], ['T', 'H', 'T'], ['T', 'H', 'T'], ['H', 'H', 'T'], ['T', 'H', 'H'], ['H', 'T', 'H'], ['H', 'H', 'T'], ['T', 'H', 'T'], ['H', 'H', 'H'], ['T', 'T', 'T'], ['H', 'H', 'T'], ['T', 'T', 'T'], ['T', 'T', 'H'], ['H', 'H', 'H'], ['H', 'T', 'H'], ['H', 'H', 'T'], ['H', 'H', 'T'], ['T', 'H', 'H'], ['H', 'H', 'H'], ['H', 'H', 'T'], ['H', 'H', 'T'], ['H', 'H', 'H'], ['T', 'H', 'H'], ['T', 'T', 'T'], ['H', 'T', 'H'], ['T', 'T', 'T'], ['T', 'T', 'H'], ['T', 'H', 'H'], ['H', 'T', 'T'], ['T', 'T', 'T'], ['H', 'T', 'T'], ['H', 'T', 'T'], ['H', 'T', 'T'], ['T', 'H', 'H'], ['T', 'H', 'H'], ['T', 'H', 'T'], ['T', 'T', 'T'], ['H', 'H', 'H'], ['T', 'H', 'H'], ['T', 'T', 'T'], ['T', 'H', 'H'], ['T', 'H', 'H'], ['T', 'H', 'T'], ['H', 'T', 'T'], ['T', 'H', 'T'], ['T', 'T', 'H'], ['T', 'T', 'H'], ['H', 'H', 'T'], ['H', 'H', 'T'], ['H', 'T', 'T'], ['T', 'T', 'H'], ['H', 'H', 'H'], ['T', 'T', 'T'], ['T', 'T', 'T'], ['T', 'H', 'H'], ['T', 'H', 'T'], ['H', 'T', 'T'], ['H', 'H', 'H'], ['H', 'H', 'H'], ['H', 'H', 'H'], ['T', 'H', 'T'], ['H', 'T', 'T'], ['T', 'T', 'T'], ['H', 'H', 'H'], ['T', 'H', 'H'], ['T', 'T', 'H'], ['H', 'H', 'H'], ['T', 'T', 'T'], ['T', 'T', 'T'], ['H', 'H', 'H'], ['T', 'T', 'T'], ['H', 'T', 'H'], ['T', 'H', 'T'], ['H', 'T', 'H'], ['T', 'T', 'T'], ['H', 'H', 'H'], ['H', 'H', 'H'], ['T', 'T', 'T'], ['H', 'T', 'T'], ['H', 'H', 'H'], ['T', 'T', 'H'], ['T', 'H', 'T'], ['T', 'H', 'H'], ['T', 'T', 'H'], ['H', 'H', 'H'], ['T', 'H', 'T'], ['H', 'T', 'H'], ['T', 'H', 'T'], ['H', 'H', 'T'], ['H', 'T', 'H'], ['T', 'H', 'T'], ['T', 'T', 'H'], ['H', 'T', 'T'], ['H', 'T', 'T'], ['H', 'H', 'T'], ['H', 'T', 'T'], ['H', 'H', 'T'], ['H', 'H', 'T'], ['T', 'H', 'H'], ['H', 'H', 'H'], ['H', 'T', 'T'], ['T', 'H', 'T'], ['H', 'H', 'T'], ['T', 'T', 'H'], ['H', 'H', 'T'], ['T', 'H', 'H'], ['H', 'T', 'H'], ['H', 'H', 'T'], ['T', 'H', 'H'], ['T', 'T', 'T'], ['H', 'H', 'H'], ['H', 'H', 'H'], ['T', 'H', 'H'], ['T', 'H', 'T'], ['H', 'H', 'T'], ['H', 'T', 'T'], ['T', 'H', 'H'], ['H', 'T', 'H'], ['H', 'H', 'T'], ['T', 'T', 'H'], ['H', 'H', 'H'], ['T', 'H', 'T'], ['T', 'H', 'H'], ['T', 'H', 'T'], ['H', 'H', 'H'], ['H', 'T', 'H'], ['H', 'H', 'T'], ['H', 'T', 'H'], ['T', 'H', 'T'], ['T', 'H', 'T'], ['T', 'H', 'H'], ['H', 'T', 'H'], ['T', 'T', 'H'], ['H', 'T', 'T'], ['H', 'H', 'H'], ['T', 'H', 'H'], ['T', 'H', 'H'], ['T', 'H', 'H'], ['H', 'T', 'T'], ['T', 'T', 'H'], ['H', 'H', 'T'], ['H', 'T', 'H'], ['H', 'H', 'T'], ['H', 'H', 'T'], ['H', 'T', 'H'], ['T', 'H', 'H'], ['H', 'T', 'H'], ['H', 'H', 'H'], ['T', 'H', 'H'], ['T', 'T', 'H'], ['T', 'T', 'T'], ['H', 'H', 'T'], ['T', 'T', 'H'], ['T', 'H', 'T'], ['H', 'T', 'H'], ['H', 'H', 'H'], ['T', 'H', 'H'], ['T', 'T', 'H'], ['H', 'T', 'H'], ['T', 'H', 'T'], ['T', 'H', 'T'], ['H', 'H', 'T'], ['H', 'H', 'H'], ['T', 'T', 'H'], ['H', 'H', 'T'], ['T', 'T', 'T'], ['H', 'H', 'H'], ['T', 'H', 'T'], ['H', 'T', 'H'], ['T', 'H', 'H'], ['H', 'T', 'H'], ['H', 'H', 'H'], ['T', 'H', 'T'], ['H', 'H', 'H'], ['T', 'T', 'H'], ['T', 'H', 'H'], ['H', 'T', 'T'], ['H', 'T', 'T'], ['H', 'T', 'T'], ['H', 'H', 'T'], ['T', 'T', 'H'], ['H', 'T', 'H'], ['H', 'T', 'H'], ['T', 'H', 'H'], ['H', 'H', 'T'], ['H', 'H', 'T'], ['H', 'T', 'H'], ['T', 'H', 'H'], ['H', 'T', 'H'], ['T', 'H', 'T'], ['H', 'H', 'T'], ['H', 'H', 'T'], ['T', 'H', 'T'], ['H', 'H', 'T'], ['H', 'H', 'T'], ['H', 'T', 'T'], ['H', 'H', 'H'], ['T', 'T', 'H'], ['H', 'T', 'T'], ['H', 'H', 'H'], ['T', 'H', 'H'], ['T', 'T', 'H'], ['H', 'H', 'H'], ['H', 'T', 'T'], ['H', 'T', 'H'], ['T', 'T', 'H'], ['H', 'T', 'T'], ['T', 'T', 'T'], ['T', 'T', 'H'], ['H', 'H', 'H'], ['H', 'T', 'H'], ['T', 'T', 'T'], ['T', 'H', 'H'], ['H', 'T', 'H'], ['H', 'T', 'H'], ['H', 'T', 'H'], ['H', 'T', 'T'], ['T', 'T', 'T'], ['T', 'H', 'T'], ['H', 'T', 'H'], ['T', 'T', 'H'], ['T', 'T', 'T'], ['T', 'H', 'T'], ['H', 'H', 'T'], ['T', 'H', 'T'], ['T', 'T', 'H'], ['H', 'T', 'H'], ['H', 'H', 'H'], ['T', 'T', 'T'], ['H', 'H', 'T'], ['H', 'H', 'H'], ['T', 'T', 'H'], ['H', 'T', 'T'], ['T', 'H', 'T'], ['T', 'H', 'T'], ['H', 'T', 'T'], ['T', 'T', 'H'], ['H', 'H', 'H'], ['T', 'T', 'T'], ['H', 'T', 'T'], ['H', 'T', 'T'], ['T', 'T', 'T'], ['T', 'H', 'T'], ['H', 'H', 'H'], ['H', 'T', 'H'], ['T', 'H', 'T'], ['H', 'H', 'T'], ['H', 'H', 'T'], ['T', 'T', 'T'], ['T', 'T', 'T'], ['T', 'H', 'T'], ['T', 'T', 'H'], ['H', 'T', 'T'], ['T', 'T', 'T'], ['H', 'T', 'T'], ['H', 'H', 'T'], ['H', 'T', 'H'], ['T', 'H', 'T'], ['T', 'T', 'H'], ['T', 'H', 'T'], ['T', 'T', 'T'], ['T', 'T', 'H'], ['T', 'T', 'H'], ['H', 'H', 'H'], ['H', 'H', 'T'], ['H', 'T', 'H'], ['H', 'T', 'H'], ['H', 'H', 'T'], ['T', 'H', 'T'], ['H', 'T', 'T'], ['H', 'H', 'H'], ['T', 'T', 'T'], ['T', 'T', 'H'], ['T', 'H', 'H'], ['H', 'H', 'H'], ['H', 'T', 'H'], ['T', 'T', 'T'], ['T', 'T', 'T'], ['H', 'T', 'H'], ['T', 'T', 'T'], ['H', 'T', 'T'], ['T', 'T', 'T'], ['T', 'T', 'H'], ['T', 'T', 'T'], ['T', 'T', 'H'], ['H', 'H', 'H'], ['H', 'T', 'H'], ['H', 'T', 'T'], ['H', 'H', 'H'], ['T', 'T', 'T'], ['H', 'H', 'H'], ['T', 'T', 'H'], ['T', 'T', 'H'], ['T', 'T', 'H'], ['T', 'T', 'T'], ['H', 'T', 'H'], ['T', 'H', 'T'], ['T', 'H', 'H'], ['T', 'H', 'T'], ['T', 'T', 'H'], ['H', 'H', 'T'], ['H', 'T', 'H'], ['H', 'T', 'T'], ['T', 'H', 'H'], ['T', 'H', 'T'], ['T', 'T', 'T'], ['T', 'T', 'T'], ['H', 'H', 'H'], ['T', 'H', 'H'], ['T', 'T', 'H'], ['H', 'T', 'H'], ['H', 'T', 'T'], ['H', 'T', 'H'], ['H', 'T', 'H'], ['H', 'T', 'H'], ['H', 'T', 'H'], ['H', 'T', 'H'], ['T', 'T', 'T'], ['H', 'H', 'H'], ['H', 'T', 'H'], ['T', 'H', 'H'], ['T', 'H', 'H'], ['H', 'T', 'H'], ['T', 'T', 'T'], ['H', 'T', 'T'], ['H', 'H', 'H'], ['H', 'T', 'T'], ['H', 'H', 'H'], ['T', 'T', 'H'], ['H', 'T', 'T'], ['T', 'T', 'H'], ['T', 'H', 'H'], ['H', 'H', 'T'], ['T', 'T', 'T'], ['H', 'H', 'T'], ['T', 'H', 'H'], ['H', 'H', 'T'], ['T', 'H', 'T'], ['T', 'T', 'T'], ['T', 'H', 'H'], ['H', 'H', 'H'], ['T', 'H', 'H'], ['H', 'T', 'T'], ['H', 'H', 'T'], ['H', 'H', 'T'], ['H', 'T', 'T'], ['T', 'T', 'T'], ['T', 'H', 'H'], ['H', 'H', 'H'], ['H', 'T', 'H'], ['H', 'H', 'H'], ['T', 'T', 'H'], ['T', 'H', 'T'], ['H', 'H', 'T'], ['T', 'T', 'T'], ['T', 'T', 'T'], ['H', 'T', 'H'], ['T', 'T', 'T'], ['T', 'T', 'H'], ['T', 'H', 'T'], ['H', 'H', 'H'], ['T', 'T', 'T'], ['T', 'H', 'H'], ['H', 'H', 'H'], ['T', 'T', 'T'], ['H', 'H', 'T'], ['H', 'H', 'T'], ['H', 'H', 'T'], ['T', 'T', 'H'], ['H', 'T', 'H'], ['H', 'H', 'T'], ['T', 'T', 'T'], ['H', 'H', 'H'], ['T', 'H', 'T'], ['H', 'T', 'T'], ['T', 'H', 'T'], ['T', 'H', 'T'], ['H', 'T', 'T'], ['T', 'T', 'H'], ['H', 'T', 'H'], ['T', 'T', 'H'], ['T', 'H', 'T'], ['T', 'H', 'H'], ['H', 'H', 'H'], ['T', 'T', 'H'], ['H', 'H', 'H'], ['H', 'H', 'H'], ['H', 'T', 'T'], ['T', 'H', 'H'], ['T', 'T', 'H'], ['T', 'T', 'T'], ['T', 'T', 'H'], ['T', 'H', 'T'], ['T', 'T', 'T'], ['T', 'H', 'T'], ['T', 'H', 'H'], ['H', 'H', 'T'], ['H', 'H', 'T'], ['H', 'T', 'T'], ['H', 'H', 'H'], ['T', 'H', 'T'], ['T', 'H', 'H'], ['H', 'H', 'T'], ['T', 'T', 'T'], ['T', 'T', 'T'], ['T', 'H', 'H'], ['H', 'T', 'T'], ['T', 'T', 'T'], ['H', 'H', 'T'], ['T', 'T', 'T'], ['T', 'T', 'H'], ['H', 'H', 'T'], ['H', 'H', 'H'], ['H', 'H', 'T'], ['H', 'H', 'H'], ['H', 'T', 'H'], ['H', 'T', 'H'], ['T', 'H', 'H'], ['H', 'H', 'T'], ['H', 'H', 'T'], ['H', 'T', 'H'], ['T', 'H', 'T'], ['T', 'H', 'H'], ['T', 'T', 'H'], ['H', 'T', 'T'], ['T', 'T', 'T'], ['H', 'H', 'T'], ['H', 'T', 'T'], ['T', 'T', 'T'], ['T', 'T', 'T'], ['H', 'H', 'T'], ['H', 'T', 'H'], ['H', 'H', 'T'], ['T', 'T', 'H'], ['H', 'H', 'H'], ['H', 'T', 'H'], ['T', 'H', 'H'], ['T', 'T', 'T'], ['T', 'T', 'T'], ['H', 'T', 'H'], ['T', 'T', 'H'], ['H', 'H', 'T'], ['T', 'T', 'H'], ['T', 'H', 'T'], ['H', 'H', 'H'], ['T', 'T', 'H'], ['T', 'T', 'T'], ['H', 'T', 'T'], ['H', 'H', 'H'], ['H', 'T', 'T'], ['T', 'H', 'T'], ['H', 'T', 'H'], ['H', 'T', 'H'], ['T', 'T', 'H'], ['H', 'H', 'T'], ['H', 'H', 'H'], ['T', 'T', 'H'], ['T', 'T', 'H'], ['T', 'T', 'H'], ['T', 'T', 'T'], ['H', 'H', 'H'], ['H', 'T', 'T'], ['H', 'T', 'H'], ['H', 'H', 'H'], ['H', 'T', 'T'], ['T', 'T', 'T'], ['T', 'H', 'H'], ['H', 'H', 'H'], ['H', 'T', 'H'], ['T', 'H', 'H'], ['H', 'H', 'T'], ['T', 'H', 'T'], ['T', 'T', 'H'], ['H', 'H', 'H'], ['T', 'H', 'T'], ['T', 'H', 'T'], ['H', 'H', 'T'], ['H', 'H', 'H'], ['T', 'T', 'T'], ['T', 'H', 'T'], ['T', 'H', 'H'], ['T', 'T', 'H'], ['H', 'H', 'T'], ['H', 'T', 'T'], ['H', 'T', 'T'], ['H', 'H', 'T'], ['T', 'H', 'H'], ['H', 'T', 'T'], ['H', 'H', 'H'], ['T', 'T', 'H'], ['H', 'T', 'T'], ['H', 'T', 'T'], ['H', 'T', 'T'], ['T', 'T', 'H'], ['H', 'H', 'T'], ['H', 'H', 'H'], ['H', 'H', 'T'], ['T', 'H', 'H'], ['T', 'H', 'T'], ['T', 'H', 'H'], ['H', 'H', 'H'], ['H', 'H', 'H'], ['H', 'T', 'H'], ['H', 'T', 'H'], ['H', 'T', 'H'], ['H', 'T', 'T'], ['T', 'H', 'T'], ['T', 'H', 'T'], ['T', 'H', 'H'], ['T', 'H', 'H'], ['T', 'H', 'T'], ['T', 'T', 'H'], ['T', 'T', 'T'], ['T', 'H', 'H'], ['H', 'H', 'H'], ['T', 'T', 'T'], ['H', 'H', 'H'], ['H', 'T', 'T'], ['T', 'T', 'H'], ['T', 'H', 'H'], ['H', 'H', 'H'], ['H', 'H', 'H'], ['H', 'T', 'T'], ['H', 'T', 'T'], ['T', 'H', 'H'], ['T', 'T', 'H'], ['H', 'H', 'T'], ['H', 'T', 'H'], ['T', 'T', 'T'], ['T', 'H', 'T'], ['H', 'H', 'H'], ['T', 'H', 'H'], ['T', 'T', 'T'], ['H', 'T', 'H'], ['H', 'T', 'T'], ['T', 'T', 'H'], ['T', 'H', 'H'], ['H', 'T', 'T'], ['T', 'H', 'T'], ['T', 'H', 'H'], ['T', 'H', 'T'], ['T', 'T', 'T'], ['T', 'H', 'H'], ['T', 'H', 'T'], ['T', 'T', 'T'], ['T', 'T', 'H'], ['H', 'H', 'T'], ['H', 'T', 'T'], ['T', 'T', 'H'], ['H', 'H', 'H'], ['H', 'H', 'H'], ['T', 'T', 'T'], ['T', 'T', 'T'], ['H', 'T', 'T'], ['T', 'H', 'T'], ['H', 'T', 'T'], ['T', 'T', 'T'], ['H', 'T', 'T'], ['T', 'H', 'T'], ['H', 'H', 'H'], ['H', 'H', 'T'], ['T', 'T', 'T'], ['H', 'T', 'T'], ['T', 'H', 'H'], ['H', 'H', 'H'], ['H', 'H', 'T'], ['T', 'H', 'H'], ['T', 'H', 'T'], ['T', 'H', 'H'], ['T', 'T', 'T'], ['T', 'T', 'T'], ['H', 'H', 'T'], ['H', 'H', 'T'], ['T', 'T', 'T'], ['H', 'T', 'T'], ['T', 'H', 'H'], ['H', 'H', 'H'], ['H', 'T', 'H'], ['T', 'T', 'T'], ['H', 'T', 'H'], ['T', 'H', 'T'], ['T', 'H', 'H'], ['H', 'T', 'H'], ['H', 'H', 'H'], ['T', 'T', 'T'], ['T', 'H', 'H'], ['T', 'H', 'H'], ['T', 'H', 'T'], ['H', 'H', 'H'], ['T', 'H', 'T'], ['T', 'T', 'H'], ['H', 'H', 'H'], ['T', 'H', 'H'], ['H', 'T', 'T'], ['H', 'H', 'H'], ['T', 'T', 'T'], ['T', 'T', 'H'], ['T', 'H', 'H'], ['T', 'H', 'T'], ['H', 'T', 'H'], ['T', 'H', 'H'], ['H', 'H', 'H'], ['T', 'T', 'H'], ['T', 'T', 'T'], ['H', 'H', 'T'], ['H', 'T', 'H'], ['H', 'H', 'H'], ['H', 'T', 'H'], ['H', 'H', 'T'], ['T', 'H', 'H'], ['H', 'T', 'H'], ['T', 'H', 'H'], ['T', 'T', 'T'], ['H', 'T', 'T'], ['H', 'H', 'T'], ['H', 'T', 'T'], ['H', 'T', 'H'], ['T', 'T', 'T'], ['H', 'T', 'H'], ['T', 'H', 'T'], ['H', 'T', 'H'], ['T', 'T', 'T'], ['H', 'T', 'H'], ['H', 'T', 'H'], ['T', 'H', 'T'], ['H', 'H', 'H'], ['H', 'H', 'T'], ['H', 'T', 'H'], ['T', 'T', 'T'], ['T', 'T', 'T'], ['H', 'H', 'T'], ['H', 'T', 'T'], ['T', 'H', 'T'], ['T', 'H', 'T'], ['T', 'H', 'T'], ['H', 'T', 'T'], ['H', 'H', 'T'], ['H', 'T', 'T'], ['T', 'T', 'T'], ['H', 'T', 'T'], ['H', 'T', 'H'], ['H', 'H', 'T'], ['H', 'T', 'H'], ['H', 'H', 'T'], ['H', 'T', 'H'], ['T', 'T', 'H'], ['T', 'H', 'T'], ['T', 'H', 'H'], ['H', 'H', 'T'], ['H', 'H', 'T'], ['T', 'T', 'T'], ['H', 'H', 'H'], ['H', 'H', 'T'], ['T', 'H', 'H'], ['H', 'T', 'H'], ['T', 'H', 'T'], ['T', 'H', 'H'], ['T', 'T', 'H'], ['H', 'H', 'T'], ['T', 'H', 'H'], ['T', 'H', 'T'], ['T', 'H', 'T'], ['T', 'H', 'T'], ['H', 'T', 'H'], ['H', 'H', 'T'], ['H', 'T', 'H'], ['T', 'T', 'H'], ['H', 'T', 'H'], ['H', 'H', 'T'], ['T', 'H', 'T'], ['H', 'H', 'T'], ['H', 'T', 'T'], ['H', 'H', 'T'], ['H', 'T', 'H'], ['H', 'H', 'T'], ['T', 'H', 'T'], ['T', 'H', 'H'], ['T', 'H', 'H'], ['H', 'T', 'T'], ['H', 'H', 'H'], ['T', 'H', 'T'], ['T', 'H', 'T'], ['T', 'H', 'T'], ['H', 'T', 'T'], ['T', 'T', 'H'], ['H', 'H', 'H'], ['T', 'T', 'H'], ['T', 'T', 'T'], ['T', 'T', 'T'], ['T', 'H', 'T'], ['T', 'H', 'H'], ['T', 'H', 'T'], ['T', 'T', 'H'], ['T', 'T', 'T'], ['H', 'T', 'H'], ['T', 'H', 'H'], ['T', 'H', 'T'], ['H', 'H', 'T'], ['T', 'H', 'H'], ['T', 'T', 'T'], ['T', 'H', 'H'], ['T', 'T', 'H'], ['T', 'T', 'T'], ['H', 'T', 'H'], ['T', 'H', 'T'], ['T', 'H', 'H'], ['T', 'T', 'H'], ['H', 'T', 'T'], ['T', 'H', 'H'], ['T', 'T', 'H'], ['H', 'T', 'H'], ['T', 'T', 'H'], ['T', 'H', 'H'], ['H', 'T', 'H'], ['T', 'T', 'H'], ['H', 'T', 'T'], ['H', 'H', 'H'], ['H', 'H', 'T'], ['T', 'T', 'T'], ['T', 'H', 'H'], ['T', 'H', 'T'], ['H', 'T', 'T'], ['T', 'H', 'T'], ['T', 'H', 'H'], ['T', 'H', 'H'], ['T', 'H', 'T'], ['T', 'T', 'T'], ['H', 'T', 'T'], ['H', 'H', 'H'], ['H', 'H', 'H'], ['T', 'T', 'T'], ['T', 'H', 'H'], ['T', 'H', 'T'], ['T', 'H', 'H'], ['T', 'T', 'T'], ['T', 'H', 'T'], ['H', 'T', 'T'], ['T', 'T', 'T'], ['H', 'T', 'T'], ['T', 'H', 'H'], ['H', 'H', 'T'], ['H', 'T', 'T'], ['H', 'T', 'H'], ['H', 'H', 'T'], ['H', 'T', 'H'], ['T', 'H', 'H'], ['T', 'H', 'H'], ['H', 'H', 'T'], ['T', 'T', 'H'], ['H', 'T', 'T'], ['H', 'T', 'T'], ['T', 'T', 'T'], ['T', 'T', 'H'], ['T', 'H', 'H'], ['T', 'H', 'H'], ['H', 'H', 'T'], ['H', 'H', 'H'], ['T', 'T', 'T'], ['T', 'H', 'T'], ['T', 'T', 'H'], ['T', 'H', 'H'], ['H', 'T', 'H'], ['H', 'T', 'T'], ['T', 'H', 'T'], ['H', 'T', 'H'], ['T', 'T', 'T'], ['H', 'H', 'T'], ['H', 'T', 'T'], ['H', 'H', 'T'], ['T', 'H', 'T'], ['T', 'H', 'H'], ['T', 'H', 'T'], ['T', 'T', 'T'], ['H', 'H', 'H'], ['H', 'T', 'T'], ['H', 'H', 'H'], ['T', 'T', 'H'], ['H', 'T', 'T'], ['H', 'H', 'T'], ['T', 'H', 'T'], ['H', 'H', 'H'], ['T', 'H', 'T'], ['T', 'H', 'T'], ['T', 'H', 'H'], ['T', 'H', 'T'], ['T', 'H', 'H'], ['H', 'H', 'H'], ['T', 'T', 'H'], ['T', 'T', 'T'], ['H', 'H', 'H'], ['H', 'T', 'T'], ['T', 'T', 'T'], ['H', 'T', 'T'], ['H', 'T', 'T'], ['H', 'H', 'H'], ['H', 'T', 'T'], ['H', 'T', 'H'], ['T', 'T', 'H'], ['H', 'T', 'T'], ['H', 'T', 'T'], ['T', 'T', 'H'], ['T', 'H', 'H'], ['T', 'T', 'T'], ['H', 'T', 'T'], ['H', 'T', 'H'], ['T', 'T', 'H'], ['T', 'T', 'T'], ['H', 'H', 'H'], ['T', 'T', 'T'], ['T', 'H', 'H'], ['T', 'H', 'H'], ['H', 'T', 'T'], ['H', 'H', 'H'], ['H', 'T', 'T'], ['H', 'T', 'H'], ['H', 'T', 'H'], ['H', 'H', 'H'], ['H', 'T', 'T'], ['T', 'T', 'T'], ['H', 'H', 'T'], ['T', 'T', 'T'], ['T', 'H', 'H'], ['H', 'H', 'T'], ['T', 'T', 'T'], ['T', 'T', 'H'], ['H', 'T', 'H'], ['T', 'T', 'H'], ['T', 'T', 'T'], ['H', 'T', 'T'], ['H', 'H', 'T'], ['T', 'T', 'T'], ['H', 'H', 'H'], ['H', 'H', 'T'], ['T', 'T', 'T'], ['T', 'H', 'H'], ['H', 'T', 'H'], ['T', 'T', 'H'], ['T', 'T', 'H'], ['H', 'T', 'H'], ['H', 'H', 'H'], ['T', 'H', 'H'], ['T', 'T', 'T'], ['H', 'H', 'T'], ['T', 'T', 'H'], ['T', 'T', 'T'], ['H', 'T', 'H'], ['T', 'H', 'T'], ['T', 'T', 'T'], ['T', 'T', 'H'], ['H', 'H', 'H'], ['H', 'H', 'T'], ['T', 'T', 'H'], ['T', 'H', 'T'], ['T', 'T', 'T'], ['H', 'T', 'T'], ['H', 'T', 'H'], ['H', 'H', 'H'], ['T', 'H', 'T'], ['H', 'T', 'T'], ['H', 'T', 'T'], ['H', 'H', 'T'], ['H', 'T', 'H'], ['H', 'T', 'T'], ['T', 'H', 'H'], ['H', 'T', 'T'], ['H', 'T', 'T'], ['H', 'H', 'H'], ['T', 'H', 'H'], ['H', 'H', 'T'], ['H', 'T', 'H'], ['T', 'T', 'H'], ['H', 'H', 'H'], ['H', 'H', 'H'], ['T', 'T', 'T'], ['T', 'H', 'H'], ['H', 'T', 'T'], ['H', 'H', 'T'], ['T', 'H', 'H'], ['H', 'H', 'T'], ['T', 'T', 'H'], ['T', 'H', 'H'], ['T', 'H', 'T'], ['T', 'T', 'T'], ['T', 'H', 'T'], ['H', 'T', 'T'], ['T', 'T', 'H'], ['H', 'H', 'H'], ['T', 'T', 'T'], ['H', 'H', 'T'], ['T', 'H', 'H'], ['H', 'H', 'H'], ['T', 'H', 'H'], ['H', 'T', 'H'], ['T', 'H', 'H'], ['H', 'H', 'T'], ['H', 'T', 'H'], ['H', 'T', 'H'], ['H', 'H', 'T'], ['H', 'H', 'T'], ['T', 'H', 'H'], ['H', 'T', 'H'], ['T', 'H', 'H'], ['T', 'H', 'H'], ['H', 'H', 'T'], ['H', 'H', 'H'], ['H', 'H', 'T'], ['T', 'T', 'H'], ['T', 'H', 'T'], ['T', 'H', 'T'], ['T', 'H', 'H'], ['T', 'H', 'T'], ['H', 'H', 'T'], ['H', 'T', 'T'], ['T', 'T', 'T'], ['H', 'T', 'T'], ['T', 'T', 'H'], ['H', 'H', 'T'], ['T', 'H', 'H'], ['H', 'T', 'H'], ['H', 'H', 'H'], ['H', 'H', 'T'], ['T', 'H', 'T'], ['H', 'H', 'T'], ['H', 'T', 'T'], ['H', 'T', 'H'], ['H', 'H', 'H'], ['T', 'T', 'T'], ['T', 'H', 'H'], ['H', 'T', 'H'], ['T', 'T', 'T'], ['T', 'T', 'H'], ['T', 'H', 'T'], ['T', 'T', 'H'], ['H', 'T', 'T'], ['T', 'T', 'T'], ['T', 'T', 'H'], ['T', 'H', 'T'], ['H', 'H', 'T'], ['T', 'T', 'H'], ['T', 'H', 'H'], ['H', 'T', 'T'], ['T', 'T', 'T'], ['H', 'T', 'H'], ['T', 'H', 'H'], ['T', 'H', 'T'], ['T', 'T', 'T'], ['T', 'H', 'T'], ['T', 'H', 'T'], ['T', 'H', 'T'], ['H', 'H', 'H'], ['T', 'H', 'T'], ['T', 'H', 'T'], ['T', 'T', 'H'], ['T', 'H', 'T'], ['H', 'H', 'H'], ['H', 'T', 'T'], ['H', 'T', 'T'], ['H', 'T', 'H'], ['H', 'H', 'H'], ['T', 'H', 'T'], ['T', 'T', 'H'], ['H', 'H', 'H'], ['T', 'T', 'T'], ['T', 'H', 'H'], ['T', 'H', 'T'], ['H', 'H', 'H'], ['H', 'H', 'T'], ['T', 'T', 'H'], ['H', 'H', 'T'], ['T', 'H', 'H'], ['H', 'H', 'H'], ['T', 'T', 'H'], ['T', 'H', 'H'], ['T', 'T', 'H'], ['T', 'H', 'H'], ['T', 'H', 'H'], ['T', 'T', 'H'], ['T', 'T', 'H'], ['H', 'H', 'H'], ['H', 'T', 'H'], ['H', 'T', 'H'], ['T', 'H', 'H'], ['T', 'H', 'H'], ['T', 'H', 'H'], ['T', 'T', 'T'], ['H', 'H', 'H'], ['T', 'T', 'H'], ['T', 'H', 'H'], ['T', 'T', 'T'], ['H', 'H', 'H'], ['H', 'H', 'T'], ['H', 'T', 'T'], ['T', 'T', 'T'], ['H', 'H', 'H'], ['T', 'T', 'H'], ['T', 'H', 'T'], ['T', 'T', 'T'], ['H', 'T', 'T'], ['H', 'T', 'T'], ['T', 'T', 'H'], ['H', 'T', 'H'], ['H', 'H', 'T'], ['H', 'T', 'H'], ['H', 'H', 'H'], ['T', 'H', 'H'], ['T', 'H', 'T'], ['T', 'H', 'H'], ['T', 'T', 'H'], ['H', 'H', 'T'], ['T', 'H', 'H'], ['T', 'T', 'H'], ['H', 'T', 'T'], ['T', 'T', 'T'], ['H', 'T', 'H'], ['H', 'T', 'H'], ['T', 'H', 'T'], ['H', 'T', 'T'], ['H', 'H', 'T'], ['H', 'H', 'H'], ['T', 'T', 'H'], ['H', 'T', 'H'], ['T', 'H', 'H'], ['H', 'H', 'H'], ['T', 'T', 'H'], ['H', 'T', 'H'], ['H', 'T', 'H'], ['T', 'H', 'T'], ['T', 'H', 'T'], ['T', 'H', 'T'], ['H', 'T', 'T'], ['T', 'T', 'T'], ['H', 'H', 'T'], ['T', 'H', 'T'], ['H', 'H', 'T'], ['H', 'H', 'T'], ['T', 'H', 'T'], ['H', 'H', 'H'], ['T', 'T', 'T'], ['T', 'T', 'T'], ['T', 'T', 'T'], ['T', 'T', 'H'], ['T', 'T', 'T'], ['T', 'H', 'T'], ['H', 'H', 'T'], ['H', 'H', 'T'], ['T', 'H', 'H'], ['H', 'H', 'H'], ['H', 'T', 'H'], ['T', 'H', 'H'], ['T', 'T', 'H'], ['H', 'H', 'T'], ['T', 'H', 'T'], ['T', 'H', 'T'], ['H', 'T', 'T'], ['T', 'H', 'T'], ['H', 'T', 'T'], ['T', 'T', 'H'], ['H', 'H', 'H'], ['T', 'T', 'H'], ['T', 'T', 'H'], ['H', 'H', 'T'], ['T', 'T', 'T'], ['H', 'T', 'T'], ['T', 'H', 'H'], ['H', 'T', 'H'], ['H', 'T', 'T'], ['H', 'T', 'T'], ['T', 'H', 'H'], ['H', 'H', 'H'], ['T', 'T', 'T'], ['H', 'T', 'H'], ['T', 'H', 'H'], ['H', 'H', 'T'], ['H', 'H', 'T'], ['T', 'T', 'T'], ['T', 'H', 'T'], ['T', 'T', 'T'], ['T', 'T', 'H'], ['H', 'H', 'T'], ['H', 'T', 'T'], ['H', 'T', 'T'], ['H', 'T', 'H'], ['H', 'H', 'H'], ['T', 'T', 'T'], ['T', 'H', 'H'], ['T', 'T', 'T'], ['H', 'H', 'H'], ['T', 'H', 'H'], ['T', 'H', 'T'], ['H', 'T', 'T'], ['H', 'H', 'T'], ['H', 'T', 'T'], ['H', 'T', 'H'], ['T', 'H', 'T'], ['T', 'H', 'H'], ['H', 'T', 'H'], ['T', 'H', 'H'], ['H', 'H', 'T'], ['T', 'T', 'T'], ['H', 'T', 'H'], ['H', 'T', 'T'], ['T', 'H', 'T'], ['H', 'T', 'H'], ['T', 'H', 'H'], ['T', 'T', 'T'], ['T', 'H', 'H'], ['H', 'T', 'T'], ['T', 'H', 'H'], ['T', 'T', 'T'], ['T', 'T', 'T'], ['H', 'T', 'T'], ['T', 'T', 'H'], ['H', 'H', 'H'], ['T', 'H', 'H'], ['T', 'H', 'H'], ['T', 'T', 'T'], ['H', 'H', 'T'], ['T', 'T', 'T'], ['T', 'T', 'H'], ['T', 'T', 'H'], ['H', 'T', 'H'], ['H', 'T', 'T'], ['H', 'T', 'T'], ['H', 'T', 'T'], ['H', 'T', 'T'], ['T', 'H', 'T'], ['H', 'T', 'T'], ['T', 'H', 'T'], ['T', 'T', 'H'], ['T', 'T', 'H'], ['T', 'T', 'H'], ['H', 'T', 'T'], ['T', 'T', 'H'], ['H', 'H', 'H'], ['T', 'H', 'H'], ['T', 'H', 'T'], ['H', 'T', 'T'], ['T', 'H', 'T'], ['T', 'T', 'H'], ['H', 'H', 'H'], ['H', 'H', 'H'], ['H', 'T', 'H'], ['H', 'T', 'T'], ['T', 'H', 'H'], ['H', 'T', 'T'], ['T', 'H', 'T'], ['H', 'H', 'T'], ['H', 'H', 'T'], ['T', 'T', 'T'], ['T', 'H', 'H'], ['T', 'T', 'T'], ['T', 'T', 'H'], ['T', 'T', 'H'], ['T', 'H', 'H'], ['H', 'H', 'H'], ['T', 'T', 'T'], ['H', 'T', 'H'], ['T', 'H', 'H'], ['H', 'T', 'H'], ['H', 'T', 'H'], ['H', 'T', 'H'], ['H', 'H', 'T'], ['H', 'T', 'H'], ['H', 'H', 'H'], ['H', 'H', 'T'], ['H', 'H', 'H'], ['H', 'T', 'T'], ['H', 'T', 'H'], ['T', 'T', 'H'], ['H', 'T', 'T'], ['H', 'H', 'H'], ['T', 'T', 'H'], ['H', 'T', 'H'], ['T', 'T', 'H'], ['T', 'T', 'H'], ['T', 'H', 'H'], ['H', 'H', 'T'], ['T', 'T', 'H'], ['T', 'T', 'T'], ['H', 'T', 'H'], ['T', 'T', 'T'], ['H', 'H', 'T'], ['H', 'T', 'H'], ['T', 'H', 'T'], ['H', 'H', 'H'], ['T', 'T', 'H'], ['H', 'T', 'H'], ['T', 'T', 'H'], ['T', 'T', 'H'], ['H', 'T', 'T'], ['H', 'T', 'H'], ['H', 'T', 'H'], ['H', 'H', 'T'], ['T', 'T', 'T'], ['H', 'T', 'T'], ['H', 'H', 'T'], ['H', 'T', 'T'], ['T', 'H', 'T'], ['H', 'H', 'H'], ['H', 'H', 'H'], ['H', 'T', 'T'], ['H', 'T', 'T'], ['H', 'H', 'T'], ['T', 'T', 'H'], ['T', 'H', 'T'], ['T', 'H', 'H'], ['H', 'T', 'H'], ['T', 'H', 'T'], ['H', 'T', 'H'], ['T', 'H', 'T'], ['H', 'T', 'T'], ['T', 'H', 'T'], ['T', 'T', 'H'], ['H', 'H', 'H'], ['H', 'T', 'T'], ['H', 'H', 'H'], ['T', 'T', 'H'], ['T', 'T', 'H'], ['T', 'H', 'T'], ['T', 'H', 'H'], ['H', 'H', 'H'], ['T', 'H', 'H'], ['T', 'T', 'T'], ['H', 'T', 'H'], ['H', 'H', 'H'], ['T', 'T', 'H'], ['H', 'T', 'H'], ['T', 'H', 'H'], ['H', 'T', 'T'], ['T', 'T', 'H'], ['T', 'T', 'T'], ['H', 'T', 'H'], ['H', 'H', 'T'], ['T', 'T', 'H'], ['H', 'H', 'T'], ['H', 'H', 'T'], ['H', 'T', 'H'], ['H', 'H', 'T'], ['T', 'H', 'T'], ['T', 'T', 'H'], ['H', 'T', 'T'], ['H', 'H', 'H'], ['H', 'T', 'H'], ['H', 'T', 'T'], ['H', 'T', 'H'], ['H', 'T', 'T'], ['T', 'T', 'T'], ['T', 'H', 'H'], ['H', 'T', 'H'], ['H', 'H', 'H'], ['H', 'H', 'T'], ['T', 'H', 'T'], ['H', 'H', 'T'], ['T', 'T', 'T'], ['H', 'T', 'T'], ['T', 'H', 'H'], ['H', 'T', 'T'], ['H', 'H', 'T'], ['T', 'T', 'H'], ['T', 'H', 'T'], ['H', 'T', 'T'], ['T', 'T', 'H'], ['T', 'H', 'H'], ['H', 'T', 'T'], ['H', 'H', 'T'], ['T', 'T', 'T'], ['H', 'T', 'H'], ['T', 'T', 'H'], ['H', 'H', 'H'], ['T', 'H', 'T'], ['H', 'T', 'H'], ['H', 'H', 'T'], ['T', 'H', 'H'], ['T', 'T', 'H'], ['H', 'H', 'H'], ['H', 'H', 'H'], ['T', 'H', 'T'], ['H', 'T', 'T'], ['H', 'H', 'H'], ['H', 'H', 'H'], ['H', 'T', 'T'], ['T', 'T', 'T'], ['T', 'T', 'T'], ['T', 'H', 'H'], ['T', 'H', 'H'], ['H', 'T', 'H'], ['T', 'T', 'T'], ['T', 'T', 'T'], ['H', 'T', 'T'], ['T', 'T', 'T'], ['T', 'T', 'T'], ['H', 'T', 'H'], ['H', 'T', 'T'], ['T', 'T', 'T'], ['H', 'T', 'T'], ['T', 'H', 'H'], ['T', 'H', 'H'], ['H', 'T', 'H'], ['H', 'T', 'T'], ['T', 'H', 'H'], ['H', 'H', 'H'], ['H', 'H', 'T'], ['T', 'T', 'H'], ['H', 'H', 'T'], ['T', 'H', 'T'], ['H', 'H', 'H'], ['H', 'T', 'T'], ['H', 'H', 'T'], ['H', 'T', 'T'], ['T', 'T', 'T'], ['T', 'T', 'T'], ['T', 'T', 'H'], ['H', 'H', 'H'], ['H', 'H', 'H'], ['T', 'H', 'H'], ['H', 'H', 'T'], ['T', 'T', 'T'], ['T', 'H', 'T'], ['T', 'T', 'T'], ['H', 'T', 'T'], ['H', 'T', 'H'], ['T', 'T', 'T'], ['T', 'H', 'T'], ['T', 'T', 'H'], ['H', 'H', 'T'], ['H', 'H', 'H'], ['H', 'H', 'H'], ['T', 'T', 'T'], ['H', 'H', 'H'], ['T', 'H', 'H'], ['T', 'H', 'H'], ['T', 'T', 'T'], ['H', 'H', 'T'], ['T', 'H', 'T'], ['H', 'T', 'T'], ['T', 'T', 'T'], ['T', 'T', 'H'], ['T', 'H', 'T'], ['H', 'H', 'T'], ['H', 'T', 'T'], ['H', 'T', 'T'], ['H', 'H', 'T'], ['H', 'T', 'T'], ['H', 'T', 'T'], ['H', 'T', 'T'], ['T', 'H', 'T'], ['T', 'H', 'H'], ['T', 'H', 'T'], ['H', 'T', 'T'], ['H', 'T', 'H'], ['H', 'H', 'T'], ['T', 'H', 'H'], ['T', 'T', 'H'], ['T', 'T', 'H'], ['H', 'T', 'H'], ['H', 'H', 'H'], ['H', 'H', 'H'], ['H', 'H', 'T'], ['H', 'H', 'T'], ['H', 'T', 'H'], ['H', 'T', 'H'], ['T', 'H', 'T'], ['H', 'H', 'H'], ['T', 'H', 'H'], ['H', 'H', 'T'], ['T', 'T', 'H'], ['T', 'T', 'T'], ['T', 'H', 'H'], ['H', 'H', 'H'], ['H', 'T', 'T'], ['T', 'H', 'H'], ['H', 'H', 'T'], ['H', 'H', 'H'], ['H', 'H', 'T'], ['H', 'H', 'H'], ['T', 'H', 'H'], ['H', 'H', 'T'], ['T', 'H', 'H'], ['H', 'H', 'H'], ['T', 'H', 'T'], ['H', 'T', 'T'], ['T', 'H', 'T'], ['T', 'H', 'H'], ['T', 'H', 'T'], ['H', 'H', 'H'], ['H', 'H', 'T'], ['H', 'T', 'H'], ['T', 'H', 'T'], ['H', 'T', 'T'], ['T', 'T', 'T'], ['H', 'H', 'H'], ['T', 'T', 'H'], ['T', 'H', 'T'], ['H', 'H', 'H'], ['T', 'H', 'T'], ['H', 'T', 'H'], ['T', 'T', 'H'], ['T', 'T', 'T'], ['H', 'H', 'H'], ['H', 'H', 'H'], ['T', 'T', 'T'], ['H', 'T', 'H'], ['H', 'H', 'T'], ['H', 'T', 'T'], ['T', 'H', 'T'], ['H', 'T', 'T'], ['T', 'T', 'H'], ['H', 'T', 'T'], ['T', 'T', 'H'], ['T', 'T', 'H'], ['T', 'T', 'H'], ['T', 'T', 'H'], ['T', 'H', 'T'], ['H', 'H', 'H'], ['T', 'T', 'H'], ['H', 'T', 'T'], ['H', 'T', 'T'], ['T', 'H', 'T'], ['T', 'T', 'T'], ['T', 'H', 'T'], ['T', 'T', 'H'], ['H', 'H', 'T'], ['T', 'H', 'H'], ['H', 'T', 'H'], ['T', 'T', 'H'], ['H', 'T', 'T'], ['H', 'H', 'H'], ['H', 'H', 'T'], ['H', 'T', 'T'], ['H', 'T', 'H'], ['H', 'T', 'H'], ['H', 'H', 'H'], ['T', 'H', 'T'], ['H', 'H', 'H'], ['H', 'H', 'T'], ['H', 'T', 'T'], ['H', 'H', 'T'], ['T', 'T', 'T'], ['H', 'T', 'H'], ['T', 'T', 'T'], ['T', 'T', 'T'], ['H', 'T', 'T'], ['H', 'T', 'H'], ['T', 'T', 'H'], ['H', 'H', 'T'], ['T', 'T', 'H'], ['H', 'H', 'H'], ['T', 'H', 'T'], ['H', 'T', 'H'], ['H', 'H', 'T'], ['H', 'T', 'H'], ['H', 'H', 'H'], ['T', 'H', 'H'], ['T', 'H', 'T'], ['H', 'H', 'T'], ['H', 'H', 'T'], ['H', 'T', 'T'], ['T', 'H', 'T'], ['T', 'H', 'T'], ['T', 'T', 'T'], ['T', 'H', 'T'], ['H', 'H', 'H'], ['H', 'H', 'T'], ['H', 'T', 'H'], ['H', 'H', 'T'], ['H', 'H', 'H'], ['T', 'T', 'T'], ['T', 'T', 'H'], ['H', 'H', 'H'], ['H', 'T', 'T'], ['H', 'H', 'H'], ['T', 'H', 'T'], ['T', 'T', 'H'], ['H', 'T', 'T'], ['T', 'H', 'T'], ['T', 'T', 'T'], ['H', 'H', 'T'], ['T', 'H', 'H'], ['H', 'T', 'T'], ['H', 'T', 'T'], ['T', 'H', 'H'], ['T', 'T', 'H'], ['H', 'T', 'H'], ['H', 'H', 'T'], ['H', 'H', 'T'], ['T', 'T', 'T'], ['H', 'H', 'H'], ['H', 'T', 'H'], ['T', 'T', 'H'], ['H', 'T', 'T'], ['H', 'T', 'T'], ['T', 'H', 'T'], ['H', 'T', 'H'], ['H', 'H', 'H'], ['T', 'H', 'T'], ['H', 'H', 'T'], ['H', 'T', 'T'], ['H', 'T', 'H'], ['H', 'H', 'T'], ['H', 'H', 'T'], ['T', 'T', 'H'], ['T', 'T', 'H'], ['T', 'H', 'H'], ['H', 'H', 'H'], ['T', 'H', 'T'], ['H', 'T', 'T'], ['T', 'H', 'H'], ['H', 'T', 'T'], ['H', 'T', 'H'], ['H', 'H', 'H'], ['H', 'T', 'H'], ['T', 'T', 'H'], ['H', 'H', 'T'], ['T', 'T', 'T'], ['T', 'H', 'T'], ['H', 'H', 'T'], ['H', 'T', 'T'], ['T', 'H', 'H'], ['H', 'H', 'T'], ['H', 'T', 'H'], ['H', 'H', 'H'], ['T', 'T', 'H'], ['T', 'T', 'T'], ['H', 'T', 'T'], ['T', 'T', 'H'], ['H', 'H', 'H'], ['T', 'H', 'T'], ['T', 'T', 'T'], ['H', 'T', 'T'], ['T', 'H', 'H'], ['H', 'T', 'H'], ['H', 'T', 'H'], ['H', 'T', 'H'], ['H', 'H', 'T'], ['H', 'H', 'T'], ['T', 'T', 'H'], ['H', 'T', 'H'], ['H', 'T', 'H'], ['H', 'T', 'T'], ['H', 'H', 'T'], ['H', 'T', 'H'], ['T', 'H', 'T'], ['H', 'H', 'H'], ['T', 'H', 'T'], ['H', 'H', 'T'], ['H', 'H', 'T'], ['H', 'T', 'H'], ['H', 'H', 'T'], ['T', 'T', 'T'], ['T', 'T', 'H'], ['H', 'H', 'H'], ['T', 'H', 'H'], ['T', 'T', 'T'], ['T', 'T', 'T'], ['H', 'H', 'T'], ['H', 'H', 'H'], ['H', 'H', 'H'], ['H', 'T', 'H'], ['T', 'H', 'T'], ['H', 'T', 'T'], ['H', 'H', 'T'], ['T', 'T', 'T'], ['T', 'T', 'T'], ['H', 'H', 'H'], ['T', 'H', 'H'], ['T', 'T', 'T'], ['T', 'T', 'T'], ['H', 'H', 'H'], ['H', 'H', 'H'], ['H', 'H', 'T'], ['H', 'T', 'T'], ['H', 'H', 'H'], ['T', 'T', 'T'], ['H', 'H', 'H'], ['H', 'T', 'H'], ['T', 'T', 'H'], ['T', 'T', 'H'], ['H', 'H', 'T'], ['T', 'H', 'T'], ['T', 'H', 'H'], ['T', 'H', 'T'], ['T', 'H', 'H'], ['T', 'T', 'T'], ['T', 'T', 'H'], ['H', 'H', 'T'], ['H', 'T', 'T'], ['H', 'T', 'H'], ['T', 'T', 'T'], ['T', 'H', 'T'], ['T', 'T', 'H'], ['H', 'H', 'H'], ['T', 'H', 'H'], ['H', 'T', 'T'], ['T', 'H', 'H'], ['H', 'H', 'H'], ['H', 'H', 'H'], ['H', 'T', 'T'], ['H', 'T', 'H'], ['T', 'H', 'H'], ['T', 'H', 'T'], ['H', 'H', 'T'], ['H', 'T', 'T'], ['T', 'H', 'T'], ['T', 'H', 'H'], ['H', 'T', 'T'], ['H', 'H', 'T'], ['T', 'H', 'T'], ['H', 'H', 'H'], ['T', 'T', 'H'], ['H', 'T', 'T'], ['H', 'H', 'T'], ['H', 'H', 'T'], ['T', 'H', 'H'], ['T', 'T', 'T'], ['H', 'T', 'T'], ['H', 'T', 'T'], ['H', 'H', 'H'], ['H', 'H', 'T'], ['T', 'T', 'T'], ['H', 'H', 'T'], ['T', 'T', 'T'], ['T', 'T', 'H'], ['H', 'H', 'T'], ['T', 'H', 'T'], ['H', 'H', 'H'], ['H', 'T', 'T'], ['T', 'H', 'T'], ['H', 'T', 'T'], ['H', 'T', 'H'], ['T', 'T', 'T'], ['H', 'H', 'H'], ['H', 'H', 'H'], ['T', 'H', 'H'], ['H', 'T', 'H'], ['H', 'H', 'H'], ['T', 'T', 'H'], ['T', 'T', 'H'], ['T', 'H', 'T'], ['T', 'T', 'T'], ['H', 'T', 'H'], ['T', 'T', 'T'], ['H', 'T', 'H'], ['H', 'T', 'T'], ['H', 'H', 'T'], ['H', 'H', 'T'], ['H', 'H', 'T'], ['T', 'T', 'H'], ['T', 'H', 'H'], ['T', 'T', 'T'], ['T', 'T', 'T'], ['H', 'T', 'T'], ['H', 'H', 'H'], ['H', 'T', 'H'], ['H', 'H', 'H'], ['H', 'H', 'T'], ['T', 'H', 'T'], ['T', 'T', 'H'], ['H', 'T', 'T'], ['T', 'T', 'H'], ['T', 'T', 'H'], ['H', 'H', 'H'], ['H', 'T', 'T'], ['H', 'H', 'T'], ['H', 'T', 'H'], ['T', 'T', 'H'], ['T', 'T', 'H'], ['T', 'T', 'H'], ['H', 'H', 'H'], ['H', 'H', 'T'], ['T', 'H', 'H'], ['H', 'H', 'T'], ['T', 'T', 'T'], ['T', 'H', 'T'], ['H', 'H', 'T'], ['H', 'T', 'H'], ['H', 'T', 'T'], ['H', 'T', 'H'], ['T', 'H', 'T'], ['T', 'T', 'T'], ['T', 'H', 'H'], ['H', 'T', 'H'], ['H', 'H', 'H'], ['H', 'T', 'T'], ['H', 'H', 'T'], ['T', 'H', 'H'], ['T', 'T', 'H'], ['H', 'T', 'H'], ['T', 'H', 'T'], ['H', 'T', 'T'], ['H', 'H', 'T'], ['T', 'H', 'H'], ['T', 'T', 'T'], ['T', 'T', 'H'], ['T', 'H', 'T'], ['H', 'H', 'T'], ['H', 'H', 'H'], ['T', 'H', 'H'], ['H', 'H', 'H'], ['H', 'T', 'H'], ['T', 'T', 'T'], ['T', 'H', 'T'], ['T', 'T', 'T'], ['H', 'H', 'T'], ['H', 'H', 'T'], ['T', 'H', 'H'], ['H', 'T', 'T'], ['T', 'H', 'T'], ['H', 'T', 'T'], ['T', 'H', 'H'], ['T', 'T', 'T'], ['T', 'T', 'H'], ['T', 'H', 'H'], ['T', 'H', 'T'], ['H', 'T', 'H'], ['H', 'H', 'T'], ['T', 'T', 'T'], ['T', 'T', 'H'], ['H', 'T', 'H'], ['H', 'H', 'T'], ['T', 'T', 'H'], ['T', 'T', 'T'], ['T', 'H', 'H'], ['H', 'H', 'T'], ['H', 'T', 'T'], ['T', 'T', 'T'], ['T', 'H', 'T'], ['H', 'H', 'H'], ['T', 'T', 'T'], ['H', 'H', 'T'], ['T', 'H', 'T'], ['H', 'T', 'H'], ['T', 'T', 'H'], ['T', 'H', 'T'], ['T', 'H', 'T'], ['T', 'T', 'T'], ['H', 'T', 'T'], ['H', 'T', 'T'], ['T', 'H', 'H'], ['T', 'T', 'T'], ['H', 'H', 'T'], ['H', 'H', 'H'], ['T', 'T', 'H'], ['H', 'H', 'T'], ['T', 'H', 'H'], ['T', 'T', 'T'], ['H', 'H', 'H'], ['T', 'H', 'H'], ['H', 'H', 'T'], ['T', 'H', 'T'], ['H', 'H', 'T'], ['H', 'H', 'T'], ['T', 'T', 'T'], ['H', 'T', 'H'], ['H', 'T', 'T'], ['H', 'T', 'T'], ['T', 'H', 'T'], ['H', 'H', 'H'], ['H', 'H', 'H'], ['H', 'T', 'H'], ['T', 'H', 'H'], ['T', 'H', 'T'], ['H', 'T', 'T'], ['H', 'H', 'H'], ['H', 'H', 'H'], ['T', 'H', 'T'], ['H', 'H', 'T'], ['T', 'H', 'H'], ['H', 'T', 'T'], ['T', 'H', 'T'], ['H', 'T', 'H'], ['T', 'H', 'H'], ['T', 'H', 'H'], ['H', 'H', 'H'], ['T', 'T', 'H'], ['H', 'H', 'T'], ['H', 'H', 'T'], ['H', 'H', 'T'], ['H', 'H', 'H'], ['T', 'T', 'H'], ['T', 'H', 'T'], ['T', 'T', 'H'], ['H', 'T', 'H'], ['T', 'T', 'T'], ['H', 'H', 'T'], ['H', 'H', 'T'], ['H', 'H', 'H'], ['T', 'H', 'T'], ['T', 'T', 'T'], ['T', 'H', 'T'], ['T', 'H', 'T'], ['H', 'T', 'H'], ['T', 'T', 'H'], ['T', 'H', 'T'], ['H', 'T', 'T'], ['H', 'H', 'H'], ['H', 'T', 'T'], ['T', 'H', 'H'], ['T', 'T', 'H'], ['T', 'T', 'T'], ['H', 'T', 'T'], ['T', 'H', 'T'], ['T', 'H', 'T'], ['T', 'H', 'H'], ['T', 'T', 'H'], ['T', 'T', 'T'], ['H', 'H', 'H'], ['T', 'H', 'H'], ['T', 'H', 'T'], ['H', 'H', 'T'], ['H', 'H', 'T'], ['T', 'H', 'T'], ['H', 'H', 'T'], ['H', 'T', 'H'], ['T', 'H', 'T'], ['H', 'H', 'H'], ['H', 'T', 'H'], ['H', 'T', 'H'], ['T', 'T', 'T'], ['H', 'H', 'T'], ['T', 'H', 'H'], ['H', 'T', 'H'], ['H', 'H', 'T'], ['T', 'H', 'H'], ['H', 'H', 'H'], ['T', 'H', 'H'], ['H', 'H', 'T'], ['T', 'H', 'H'], ['H', 'T', 'H'], ['T', 'T', 'T'], ['T', 'T', 'T'], ['T', 'T', 'H'], ['H', 'H', 'T'], ['H', 'H', 'T'], ['T', 'H', 'T'], ['H', 'T', 'H'], ['T', 'H', 'H'], ['T', 'T', 'T'], ['T', 'T', 'H'], ['H', 'H', 'T'], ['T', 'T', 'T'], ['T', 'H', 'H'], ['T', 'H', 'T'], ['T', 'T', 'H'], ['H', 'T', 'H'], ['H', 'T', 'T'], ['T', 'H', 'H'], ['T', 'T', 'T'], ['H', 'T', 'T'], ['H', 'T', 'T'], ['T', 'H', 'H'], ['T', 'T', 'T'], ['T', 'T', 'T'], ['T', 'H', 'H'], ['T', 'H', 'T'], ['H', 'H', 'T'], ['T', 'T', 'H'], ['H', 'T', 'H'], ['T', 'H', 'T'], ['H', 'H', 'H'], ['H', 'H', 'H'], ['T', 'T', 'T'], ['H', 'H', 'H'], ['T', 'T', 'H'], ['H', 'H', 'H'], ['H', 'H', 'H'], ['H', 'H', 'T'], ['H', 'H', 'H'], ['H', 'H', 'T'], ['H', 'T', 'H'], ['H', 'T', 'H'], ['T', 'H', 'H'], ['H', 'H', 'T'], ['T', 'T', 'H'], ['H', 'H', 'T'], ['H', 'T', 'H'], ['H', 'H', 'T'], ['H', 'H', 'T'], ['T', 'T', 'H'], ['T', 'H', 'H'], ['H', 'T', 'H'], ['T', 'T', 'H'], ['H', 'H', 'H'], ['T', 'T', 'H'], ['H', 'H', 'H'], ['H', 'H', 'H'], ['H', 'T', 'H'], ['T', 'H', 'H'], ['H', 'H', 'H'], ['T', 'H', 'T'], ['H', 'H', 'T'], ['T', 'T', 'T'], ['H', 'H', 'H'], ['T', 'H', 'H'], ['T', 'H', 'H'], ['T', 'T', 'T'], ['H', 'H', 'T'], ['H', 'T', 'H'], ['H', 'T', 'T'], ['H', 'T', 'T'], ['T', 'T', 'T'], ['H', 'T', 'T'], ['T', 'T', 'T'], ['T', 'H', 'T'], ['T', 'H', 'H'], ['T', 'H', 'H'], ['H', 'H', 'T'], ['H', 'T', 'T'], ['T', 'T', 'T'], ['T', 'T', 'T'], ['T', 'T', 'T'], ['H', 'T', 'T'], ['H', 'T', 'T'], ['T', 'H', 'T'], ['H', 'H', 'T'], ['T', 'T', 'T'], ['T', 'T', 'H'], ['H', 'T', 'T'], ['T', 'T', 'T'], ['H', 'T', 'T'], ['T', 'H', 'T'], ['H', 'H', 'H'], ['T', 'H', 'H'], ['H', 'T', 'T'], ['H', 'H', 'T'], ['T', 'H', 'T'], ['H', 'T', 'T'], ['T', 'T', 'H'], ['H', 'H', 'H'], ['T', 'H', 'T'], ['H', 'H', 'T'], ['T', 'T', 'T'], ['T', 'T', 'T'], ['T', 'H', 'H'], ['H', 'T', 'T'], ['H', 'H', 'T'], ['H', 'T', 'T'], ['T', 'H', 'H'], ['T', 'H', 'H'], ['T', 'T', 'H'], ['T', 'H', 'H'], ['T', 'T', 'T'], ['T', 'T', 'H'], ['T', 'H', 'T'], ['T', 'T', 'T'], ['H', 'H', 'T'], ['H', 'H', 'T'], ['H', 'T', 'T'], ['T', 'T', 'T'], ['T', 'T', 'T'], ['T', 'H', 'H'], ['H', 'H', 'T'], ['H', 'T', 'T'], ['H', 'H', 'T'], ['H', 'T', 'T'], ['H', 'T', 'T'], ['T', 'T', 'T'], ['T', 'H', 'T'], ['T', 'T', 'T'], ['T', 'T', 'T'], ['T', 'H', 'H'], ['T', 'T', 'T'], ['T', 'T', 'T'], ['T', 'H', 'H'], ['H', 'H', 'H'], ['T', 'H', 'H'], ['T', 'T', 'T'], ['T', 'T', 'H'], ['H', 'H', 'T'], ['H', 'H', 'H'], ['T', 'T', 'H'], ['H', 'H', 'T'], ['H', 'H', 'H'], ['T', 'T', 'H'], ['H', 'H', 'H'], ['T', 'H', 'H'], ['H', 'T', 'T'], ['H', 'H', 'H'], ['H', 'H', 'T'], ['H', 'H', 'T'], ['H', 'H', 'H'], ['T', 'H', 'H'], ['H', 'T', 'T'], ['T', 'H', 'H'], ['T', 'H', 'T'], ['T', 'H', 'T'], ['H', 'H', 'H'], ['H', 'T', 'H'], ['H', 'H', 'H'], ['H', 'H', 'H'], ['T', 'T', 'T'], ['H', 'T', 'H'], ['H', 'T', 'H'], ['H', 'H', 'T'], ['H', 'H', 'H'], ['H', 'H', 'H'], ['H', 'T', 'H'], ['H', 'H', 'H'], ['T', 'H', 'H'], ['H', 'T', 'H'], ['T', 'H', 'T'], ['T', 'H', 'H'], ['T', 'H', 'T'], ['H', 'T', 'H'], ['H', 'T', 'H'], ['H', 'T', 'H'], ['H', 'T', 'T'], ['T', 'H', 'T'], ['H', 'H', 'T'], ['T', 'H', 'H'], ['H', 'H', 'T'], ['T', 'T', 'T'], ['H', 'H', 'H'], ['H', 'T', 'H'], ['H', 'H', 'T'], ['H', 'H', 'T'], ['H', 'T', 'T'], ['T', 'H', 'H'], ['H', 'T', 'T'], ['T', 'H', 'H'], ['T', 'T', 'H'], ['H', 'H', 'T'], ['H', 'H', 'T'], ['T', 'T', 'H'], ['T', 'H', 'T'], ['H', 'H', 'T'], ['H', 'H', 'H'], ['T', 'T', 'T'], ['H', 'H', 'T'], ['H', 'H', 'H'], ['H', 'T', 'T'], ['H', 'H', 'H'], ['T', 'T', 'H'], ['T', 'T', 'T'], ['H', 'H', 'H'], ['H', 'T', 'T'], ['H', 'H', 'H'], ['H', 'H', 'H'], ['T', 'T', 'T'], ['T', 'H', 'T'], ['T', 'T', 'T'], ['H', 'H', 'T'], ['H', 'H', 'H'], ['T', 'H', 'T'], ['T', 'H', 'H'], ['T', 'T', 'H'], ['H', 'H', 'T'], ['T', 'H', 'T'], ['H', 'H', 'H'], ['T', 'T', 'H'], ['H', 'H', 'H'], ['T', 'T', 'T'], ['H', 'T', 'T'], ['T', 'T', 'T'], ['H', 'H', 'T'], ['H', 'T', 'H'], ['H', 'T', 'T'], ['T', 'T', 'T'], ['H', 'T', 'T'], ['T', 'T', 'T'], ['H', 'T', 'T'], ['H', 'T', 'H'], ['H', 'T', 'H'], ['T', 'H', 'T'], ['T', 'H', 'T'], ['H', 'H', 'H'], ['T', 'H', 'H'], ['T', 'T', 'T'], ['H', 'T', 'H'], ['H', 'H', 'H'], ['T', 'H', 'H'], ['H', 'H', 'T'], ['H', 'T', 'H'], ['T', 'T', 'T'], ['H', 'H', 'T'], ['T', 'T', 'H'], ['H', 'T', 'H'], ['T', 'T', 'H'], ['H', 'H', 'T'], ['H', 'T', 'H'], ['H', 'H', 'H'], ['H', 'T', 'T'], ['T', 'T', 'T'], ['H', 'H', 'T'], ['T', 'H', 'H'], ['T', 'H', 'T'], ['T', 'H', 'H'], ['H', 'T', 'H'], ['H', 'H', 'T'], ['H', 'T', 'H'], ['H', 'H', 'H'], ['T', 'H', 'H'], ['T', 'H', 'T'], ['H', 'H', 'H'], ['T', 'H', 'H'], ['H', 'H', 'H'], ['H', 'H', 'H'], ['T', 'T', 'H'], ['T', 'T', 'H'], ['H', 'H', 'H'], ['H', 'T', 'H'], ['T', 'H', 'T'], ['H', 'T', 'T'], ['H', 'T', 'T'], ['T', 'T', 'T'], ['T', 'T', 'H'], ['T', 'H', 'H'], ['H', 'T', 'T'], ['H', 'H', 'T'], ['T', 'T', 'T'], ['T', 'H', 'T'], ['H', 'H', 'T'], ['T', 'H', 'T'], ['H', 'H', 'H'], ['H', 'T', 'T'], ['H', 'H', 'H'], ['T', 'T', 'T'], ['H', 'H', 'H'], ['T', 'T', 'H'], ['T', 'H', 'H'], ['T', 'H', 'T'], ['H', 'H', 'T'], ['T', 'H', 'H'], ['T', 'T', 'H'], ['H', 'H', 'T'], ['T', 'H', 'T'], ['T', 'H', 'T'], ['H', 'T', 'T'], ['H', 'H', 'T'], ['T', 'H', 'T'], ['H', 'T', 'T'], ['T', 'H', 'T'], ['T', 'T', 'T'], ['T', 'T', 'H'], ['T', 'H', 'T'], ['H', 'H', 'T'], ['H', 'H', 'T'], ['T', 'T', 'H'], ['H', 'H', 'H'], ['T', 'T', 'T'], ['T', 'H', 'H'], ['T', 'T', 'H'], ['T', 'T', 'H'], ['T', 'T', 'H'], ['H', 'H', 'T'], ['H', 'H', 'T'], ['T', 'H', 'H'], ['H', 'T', 'T'], ['T', 'H', 'H'], ['T', 'T', 'T'], ['H', 'H', 'H'], ['T', 'T', 'T'], ['T', 'H', 'T'], ['H', 'H', 'T'], ['H', 'T', 'H'], ['T', 'H', 'H'], ['H', 'H', 'H'], ['H', 'T', 'H'], ['T', 'T', 'T'], ['T', 'T', 'H'], ['T', 'H', 'T'], ['H', 'H', 'H'], ['T', 'T', 'T'], ['T', 'T', 'T'], ['T', 'T', 'T'], ['H', 'T', 'T'], ['T', 'T', 'H'], ['T', 'T', 'T'], ['H', 'H', 'H'], ['H', 'H', 'H'], ['H', 'T', 'H'], ['H', 'T', 'T'], ['H', 'T', 'T'], ['T', 'T', 'T'], ['H', 'H', 'T'], ['T', 'T', 'T'], ['T', 'H', 'T'], ['T', 'H', 'T'], ['H', 'H', 'T'], ['H', 'T', 'H'], ['T', 'H', 'H'], ['T', 'T', 'H'], ['H', 'T', 'T'], ['T', 'T', 'T'], ['H', 'T', 'H'], ['T', 'T', 'H'], ['T', 'T', 'T'], ['T', 'H', 'T'], ['H', 'T', 'T'], ['T', 'T', 'H'], ['H', 'H', 'T'], ['H', 'H', 'H'], ['H', 'H', 'T'], ['H', 'H', 'T'], ['H', 'T', 'H']]\n"
          ]
        }
      ],
      "source": [
        "import random\n",
        "\n",
        "# Count the number of 3xHeads results\n",
        "h3 = 0\n",
        "\n",
        "# Create a list of all results\n",
        "results = []\n",
        "\n",
        "# loop through 10000 trials\n",
        "trials = 10000\n",
        "trial = 0\n",
        "while trial < trials:\n",
        "    trial = trial + 1\n",
        "    # Flip three coins\n",
        "    result = ['H' if random.randint(0,1) == 0 else 'T',\n",
        "              'H' if random.randint(0,1) == 0 else 'T',\n",
        "              'H' if random.randint(0,1) == 0 else 'T']\n",
        "    results.append(result)\n",
        "    # If it's three heads, add it to the count\n",
        "    h3 = h3 + int(result == ['H','H','H'])\n",
        "    \n",
        "# What proportion of trials produced 3x heads\n",
        "print (\"%.2f%%\" % ((h3/trials)*100))\n",
        "\n",
        "# Show all the results\n",
        "print (results)"
      ]
    },
    {
      "cell_type": "markdown",
      "metadata": {
        "id": "URQcVq3zf-Wp"
      },
      "source": [
        "The output shows the percentage of times a trial resulted in three heads (which should be somewhere close to 12.5%). You can count the number of `['H', 'H', 'H']` entries in the full list of results to verify this if you like!"
      ]
    },
    {
      "cell_type": "markdown",
      "metadata": {
        "id": "INpmbTPDf1AP"
      },
      "source": [
        "---\n",
        "#### Probability Trees"
      ]
    },
    {
      "cell_type": "markdown",
      "metadata": {
        "id": "KTVpdyO2Zya5"
      },
      "source": [
        "You can represent a series of events and their probabilities as a probability tree:\n",
        "\n",
        "                         ____H(0.5)  : 0.5 x 0.5 x 0.5 = 0.125\n",
        "                        /\n",
        "                   ____H(0.5)\n",
        "                  /     \\____T(0.5)  : 0.5 x 0.5 x 0.5 = 0.125\n",
        "                 /        \n",
        "              __H(0.5)   ____H(0.5)  : 0.5 x 0.5 x 0.5 = 0.125\n",
        "             /   \\      / \n",
        "            /     \\____T(0.5)\n",
        "           /            \\____T(0.5)  : 0.5 x 0.5 x 0.5 = 0.125\n",
        "          /              \n",
        "    _____/              _____H(0.5)  : 0.5 x 0.5 x 0.5 = 0.125\n",
        "         \\             / \n",
        "          \\        ___H(0.5)\n",
        "           \\      /    \\_____T(0.5)  : 0.5 x 0.5 x 0.5 = 0.125\n",
        "            \\    /       \n",
        "             \\__T(0.5)  _____H(0.5)  : 0.5 x 0.5 x 0.5 = 0.125\n",
        "                 \\     /\n",
        "                  \\___T(0.5)\n",
        "                       \\_____T(0.5)  : 0.5 x 0.5 x 0.5 = 0.125\n",
        "                                                         _____\n",
        "                                                          1.0\n",
        "                        \n",
        "Starting at the left, you can follow the branches in the tree that represent each event (in this case a coin toss result of *heads* or *tails* at each branch). Multiplying the probability of each branch of your path through the tree gives you the combined probability for an event composed of all of the events in the path. In this case, you can see from the tree that you are equally likely to get any sequence of three *heads* or *tails* results (so three *heads* is just as likely as three *tails*, which is just as likely as *head-tail-head*, *tail-head-tail*, or any other combination!)\n",
        "\n",
        "**Note that the total probability for all paths through the tree adds up to 1.**"
      ]
    },
    {
      "cell_type": "markdown",
      "metadata": {
        "id": "2dz9AVkFkYv9"
      },
      "source": [
        "---\n",
        "#### Combined Event Probability Notation"
      ]
    },
    {
      "cell_type": "markdown",
      "metadata": {
        "id": "tyXbbJYGkhOn"
      },
      "source": [
        "When calculating the probability of combined events, we assign a letter such as **A** or **B** to each event, and we use the *intersection* (**&cap;**) symbol to indicate that we want the combined probability of multiple events. So we could assign the letters **A**, **B**, and **C** to each independent coin toss in our sequence of three tosses, and express the combined probability like this:\n",
        "\n",
        "$$\n",
        "\\begin{equation}P(A \\cap B \\cap C) = P(A) \\times P(B) \\times P(C) \\end{equation}\n",
        "$$\n",
        "\n",
        "So, in our case :\n",
        "- `A` : Event of first toss getting *Head*.\n",
        "- `B` : Event of second toss getting *Head*.\n",
        "- `C` : Event of third toss getting *Head*."
      ]
    },
    {
      "cell_type": "markdown",
      "metadata": {
        "id": "SpntWvLOk5fa"
      },
      "source": [
        "---\n",
        "#### Combining Events with Different Probabilities"
      ]
    },
    {
      "cell_type": "markdown",
      "metadata": {
        "id": "Sn7HXdBFk2oX"
      },
      "source": [
        "Imagine you have created a new game that mixes the excitement of coin-tossing with the thrill of die-rolling! The objective of the game is to **roll a dice and get *6***, and **toss a coin and get *heads***: \n",
        "\n",
        "<img src='https://i.ibb.co/543hCF7/05-Dice-and-Coin.png'>\n",
        "\n",
        "On each turn of the game, a player rolls the dice and tosses the coin.\n",
        "\n",
        "How can we calculate the probability of winning? There are two independent events required to win: \n",
        "* Event `A` : a dice-roll of *6*, and \n",
        "* Event `B` : a coin-toss of *heads* \n",
        "\n",
        "Our formula for combined independent events is:\n",
        "\n",
        "$$\n",
        "\\begin{equation}P(A \\cap B) = P(A) \\times P(B) \\end{equation}\n",
        "$$\n",
        "\n",
        "So, in our case:  \n",
        "* The probablilty of rolling a *6* on a fair dice `P(A)` = <sup>1</sup>/<sub>6</sub> or 0.167\n",
        "* The probability of tossing a coin and getting *heads* `P(B)` = <sup>1</sup>/<sub>2</sub> or 0.5\n",
        "* The probability to get *6*, and get *heads* : \n",
        "$$\n",
        "\\begin{equation}P(A \\cap B) = 0.167 \\times 0.5 = 0.083 \\end{equation}\n",
        "$$\n",
        "\n",
        "So on each turn, there's an 8.3% chance to win the game."
      ]
    },
    {
      "cell_type": "markdown",
      "metadata": {
        "id": "LcbSXVjIrFY2"
      },
      "source": [
        "---\n",
        "#### Intersections and Unions\n",
        "\n",
        "Previously you saw that we use the ***intersection* (&cap;) symbol to represent \"and\" when combining event probabilities**. This notation comes from a branch of mathematics called *set theory*, in which we work with sets of values. let's examine this in a little more detail.\n",
        "\n",
        "Here's our deck of playing cards, with the full sample space for drawing any card:\n",
        "\n",
        "<table style='font-size:18px;'>\n",
        "<tr><td style='color:red;'>A &hearts;</td><td style='color:black;'>A &spades;</td><td style='color:black;'>A &clubs;<td style='color:red;'>A &diams;</td></tr>\n",
        "<tr><td style='color:red;'>K &hearts;</td><td style='color:black;'>K &spades;</td><td style='color:black;'>K &clubs;<td style='color:red;'>K &diams;</td></tr>\n",
        "<tr><td style='color:red;'>Q &hearts;</td><td style='color:black;'>Q &spades;</td><td style='color:black;'>Q &clubs;<td style='color:red;'>Q &diams;</td></tr>\n",
        "<tr><td style='color:red;'>J &hearts;</td><td style='color:black;'>J &spades;</td><td style='color:black;'>J &clubs;<td style='color:red;'>J &diams;</td></tr>\n",
        "<tr><td style='color:red;'>10 &hearts;</td><td style='color:black;'>10 &spades;</td><td style='color:black;'>10 &clubs;<td style='color:red;'>10 &diams;</td></tr>\n",
        "<tr><td style='color:red;'>9 &hearts;</td><td style='color:black;'>9 &spades;</td><td style='color:black;'>9 &clubs;<td style='color:red;'>9 &diams;</td></tr>\n",
        "<tr><td style='color:red;'>8 &hearts;</td><td style='color:black;'>8 &spades;</td><td style='color:black;'>8 &clubs;<td style='color:red;'>8 &diams;</td></tr>\n",
        "<tr><td style='color:red;'>7 &hearts;</td><td style='color:black;'>7 &spades;</td><td style='color:black;'>7 &clubs;<td style='color:red;'>7 &diams;</td></tr>\n",
        "<tr><td style='color:red;'>6 &hearts;</td><td style='color:black;'>6 &spades;</td><td style='color:black;'>6 &clubs;<td style='color:red;'>6 &diams;</td></tr>\n",
        "<tr><td style='color:red;'>5 &hearts;</td><td style='color:black;'>5 &spades;</td><td style='color:black;'>5 &clubs;<td style='color:red;'>5 &diams;</td></tr>\n",
        "<tr><td style='color:red;'>4 &hearts;</td><td style='color:black;'>4 &spades;</td><td style='color:black;'>4 &clubs;<td style='color:red;'>4 &diams;</td></tr>\n",
        "<tr><td style='color:red;'>3 &hearts;</td><td style='color:black;'>3 &spades;</td><td style='color:black;'>3 &clubs;<td style='color:red;'>3 &diams;</td></tr>\n",
        "<tr><td style='color:red;'>2 &hearts;</td><td style='color:black;'>2 &spades;</td><td style='color:black;'>2 &clubs;<td style='color:red;'>2 &diams;</td></tr>\n",
        "</table>"
      ]
    },
    {
      "cell_type": "markdown",
      "metadata": {
        "id": "THV2o7jlMXUb"
      },
      "source": [
        "---\n",
        "Now, let's look at two potential events:\n",
        "- `A` : Drawing an ace.\n",
        "- `B` : Drawing a red card.\n",
        "\n",
        "The set of sample points for event **A** (drawing an ace) is:\n",
        "\n",
        "<table style='font-size:18px;'>\n",
        "<tr><td style='color:red;'>A &hearts;</td><td style='color:black;'>A &spades;</td><td style='color:black;'>A &clubs;<td style='color:red;'>A &diams;</td></tr>\n",
        "<tr style='color:lightgrey;'><td>K &hearts;</td><td style='color:lightgrey;'>K &spades;</td><td style='color:lightgrey;'>K &clubs;<td>K &diams;</td></tr>\n",
        "<tr style='color:lightgrey;'><td>Q &hearts;</td><td>Q &spades;</td><td>Q &clubs;<td>Q &diams;</td></tr>\n",
        "<tr style='color:lightgrey;'><td>J &hearts;</td><td>J &spades;</td><td>J &clubs;<td>J &diams;</td></tr>\n",
        "<tr style='color:lightgrey;'><td>10 &hearts;</td><td>10 &spades;</td><td>10 &clubs;<td>10 &diams;</td></tr>\n",
        "<tr style='color:lightgrey;'><td>9 &hearts;</td><td>9 &spades;</td><td>9 &clubs;<td>9 &diams;</td></tr>\n",
        "<tr style='color:lightgrey;'><td>8 &hearts;</td><td>8 &spades;</td><td>8 &clubs;<td>8 &diams;</td></tr>\n",
        "<tr style='color:lightgrey;'><td>7 &hearts;</td><td>7 &spades;</td><td>7 &clubs;<td>7 &diams;</td></tr>\n",
        "<tr style='color:lightgrey;'><td>6 &hearts;</td><td>6 &spades;</td><td>6 &clubs;<td>6 &diams;</td></tr>\n",
        "<tr style='color:lightgrey;'><td>5 &hearts;</td><td>5 &spades;</td><td>5 &clubs;<td>5 &diams;</td></tr>\n",
        "<tr style='color:lightgrey;'><td>4 &hearts;</td><td>4 &spades;</td><td>4 &clubs;<td>4 &diams;</td></tr>\n",
        "<tr style='color:lightgrey;'><td>3 &hearts;</td><td>3 &spades;</td><td>3 &clubs;<td>3 &diams;</td></tr>\n",
        "<tr style='color:lightgrey;'><td>2 &hearts;</td><td>2 &spades;</td><td>2 &clubs;<td>2 &diams;</td></tr>\n",
        "</table>\n",
        "\n",
        "So the probability of drawing an ace is:\n",
        "\n",
        "$$\n",
        "\\begin{equation}P(A) = \\frac{4}{52} = \\frac{1}{13} = 0.077\\end{equation} \n",
        "$$\n",
        "\n",
        "Now let's look at the set of sample points for event **B** (drawing a red card)\n",
        "\n",
        "<table style='font-size:18px;'>\n",
        "<tr><td style='color:red;'>A &hearts;</td><td style='color:lightgrey;'>A &spades;</td><td style='color:lightgrey;'>A &clubs;<td style='color:red;'>A &diams;</td></tr>\n",
        "<tr><td style='color:red;'>K &hearts;</td><td style='color:lightgrey;'>K &spades;</td><td style='color:lightgrey;'>K &clubs;<td style='color:red;'>K &diams;</td></tr>\n",
        "<tr><td style='color:red;'>Q &hearts;</td><td style='color:lightgrey;'>Q &spades;</td><td style='color:lightgrey;'>Q &clubs;<td style='color:red;'>Q &diams;</td></tr>\n",
        "<tr><td style='color:red;'>J &hearts;</td><td style='color:lightgrey;'>J &spades;</td><td style='color:lightgrey;'>J &clubs;<td style='color:red;'>J &diams;</td></tr>\n",
        "<tr><td style='color:red;'>10 &hearts;</td><td style='color:lightgrey;'>10 &spades;</td><td style='color:lightgrey;'>10 &clubs;<td style='color:red;'>10 &diams;</td></tr>\n",
        "<tr><td style='color:red;'>9 &hearts;</td><td style='color:lightgrey;'>9 &spades;</td><td style='color:lightgrey;'>9 &clubs;<td style='color:red;'>9 &diams;</td></tr>\n",
        "<tr><td style='color:red;'>8 &hearts;</td><td style='color:lightgrey;'>8 &spades;</td><td style='color:lightgrey;'>8 &clubs;<td style='color:red;'>8 &diams;</td></tr>\n",
        "<tr><td style='color:red;'>7 &hearts;</td><td style='color:lightgrey;'>7 &spades;</td><td style='color:lightgrey;'>7 &clubs;<td style='color:red;'>7 &diams;</td></tr>\n",
        "<tr><td style='color:red;'>6 &hearts;</td><td style='color:lightgrey;'>6 &spades;</td><td style='color:lightgrey;'>6 &clubs;<td style='color:red;'>6 &diams;</td></tr>\n",
        "<tr><td style='color:red;'>5 &hearts;</td><td style='color:lightgrey;'>5 &spades;</td><td style='color:lightgrey;'>5 &clubs;<td style='color:red;'>5 &diams;</td></tr>\n",
        "<tr><td style='color:red;'>4 &hearts;</td><td style='color:lightgrey;'>4 &spades;</td><td style='color:lightgrey;'>4 &clubs;<td style='color:red;'>4 &diams;</td></tr>\n",
        "<tr><td style='color:red;'>3 &hearts;</td><td style='color:lightgrey;'>3 &spades;</td><td style='color:lightgrey;'>3 &clubs;<td style='color:red;'>3 &diams;</td></tr>\n",
        "<tr><td style='color:red;'>2 &hearts;</td><td style='color:lightgrey;'>2 &spades;</td><td style='color:lightgrey;'>2 &clubs;<td style='color:red;'>2 &diams;</td></tr>\n",
        "</table>\n",
        "\n",
        "The probability of drawing a red card is therefore:\n",
        "\n",
        "$$\n",
        "\\begin{equation}P(B) = \\frac{26}{52} = \\frac{1}{2} = 0.5\\end{equation} \n",
        "$$"
      ]
    },
    {
      "cell_type": "markdown",
      "metadata": {
        "id": "oe3a1hy4Ms4v"
      },
      "source": [
        "---\n",
        "##### Intersections\n",
        "\n",
        "We can think of the sample spaces for these events as two sets, and we can show them as a Venn diagram:\n",
        "\n",
        "<br/>\n",
        "\n",
        "<div style='text-align:center'>Event A<span style='font-size:120px'>&#9901;</span>Event B</div>\n",
        "\n",
        "Each circle in the Venn diagram represents a set of sample points. The set on the left contains the sample points for event **A** (drawing an ace) and the set on the right contains the sample points for event **B** (drawing a red card). Note that the circles overlap, creating an intersection that contains only the sample points that apply to event **A** *and* event **B**.\n",
        "\n",
        "This intersected sample space looks like this:\n",
        "\n",
        "<table style='font-size:18px;'>\n",
        "<tr><td style='color:red;'>A &hearts;</td><td style='color:lightgrey;'>A &spades;</td><td style='color:lightgrey;'>A &clubs;<td style='color:red;'>A &diams;</td></tr>\n",
        "<tr style='color:lightgrey;'><td>K &hearts;</td><td style='color:lightgrey;'>K &spades;</td><td style='color:lightgrey;'>K &clubs;<td>K &diams;</td></tr>\n",
        "<tr style='color:lightgrey;'><td>Q &hearts;</td><td>Q &spades;</td><td>Q &clubs;<td>Q &diams;</td></tr>\n",
        "<tr style='color:lightgrey;'><td>J &hearts;</td><td>J &spades;</td><td>J &clubs;<td>J &diams;</td></tr>\n",
        "<tr style='color:lightgrey;'><td>10 &hearts;</td><td>10 &spades;</td><td>10 &clubs;<td>10 &diams;</td></tr>\n",
        "<tr style='color:lightgrey;'><td>9 &hearts;</td><td>9 &spades;</td><td>9 &clubs;<td>9 &diams;</td></tr>\n",
        "<tr style='color:lightgrey;'><td>8 &hearts;</td><td>8 &spades;</td><td>8 &clubs;<td>8 &diams;</td></tr>\n",
        "<tr style='color:lightgrey;'><td>7 &hearts;</td><td>7 &spades;</td><td>7 &clubs;<td>7 &diams;</td></tr>\n",
        "<tr style='color:lightgrey;'><td>6 &hearts;</td><td>6 &spades;</td><td>6 &clubs;<td>6 &diams;</td></tr>\n",
        "<tr style='color:lightgrey;'><td>5 &hearts;</td><td>5 &spades;</td><td>5 &clubs;<td>5 &diams;</td></tr>\n",
        "<tr style='color:lightgrey;'><td>4 &hearts;</td><td>4 &spades;</td><td>4 &clubs;<td>4 &diams;</td></tr>\n",
        "<tr style='color:lightgrey;'><td>3 &hearts;</td><td>3 &spades;</td><td>3 &clubs;<td>3 &diams;</td></tr>\n",
        "<tr style='color:lightgrey;'><td>2 &hearts;</td><td>2 &spades;</td><td>2 &clubs;<td>2 &diams;</td></tr>\n",
        "</table>\n",
        "\n",
        "As you've seen previously, we write this as **A &cap; B**, and we can calculate its probability like this:\n",
        "\n",
        "$$\n",
        "\\begin{equation}P(A \\cap B) = P(A) \\times P(B) = 0.077 \\times 0.5 = 0.0385 \\end{equation}\n",
        "$$\n",
        "\n",
        "So when you draw a single card from a full deck, **there is a 3.85% chance it will be a red ace.**"
      ]
    },
    {
      "cell_type": "markdown",
      "metadata": {
        "id": "iWhQKMDgOL3S"
      },
      "source": [
        "---\n",
        "##### Unions\n",
        "The intersection describes the sample space for  event **A** *and* event **B**; but what if we wanted to look at the **probability of drawing an ace *or* a red card**. In other words, any sample point that is in either of the Venn digram circles.\n",
        "\n",
        "This set of sample points looks like this:\n",
        "\n",
        "<table style='font-size:18px;'>\n",
        "<tr><td style='color:red;'>A &hearts;</td><td style='color:black;'>A &spades;</td><td style='color:black;'>A &clubs;<td style='color:red;'>A &diams;</td></tr>\n",
        "<tr><td style='color:red;'>K &hearts;</td><td style='color:lightgrey;'>K &spades;</td><td style='color:lightgrey;'>K &clubs;<td style='color:red;'>K &diams;</td></tr>\n",
        "<tr><td style='color:red;'>Q &hearts;</td><td style='color:lightgrey;'>Q &spades;</td><td style='color:lightgrey;'>Q &clubs;<td style='color:red;'>Q &diams;</td></tr>\n",
        "<tr><td style='color:red;'>J &hearts;</td><td style='color:lightgrey;'>J &spades;</td><td style='color:lightgrey;'>J &clubs;<td style='color:red;'>J &diams;</td></tr>\n",
        "<tr><td style='color:red;'>10 &hearts;</td><td style='color:lightgrey;'>10 &spades;</td><td style='color:lightgrey;'>10 &clubs;<td style='color:red;'>10 &diams;</td></tr>\n",
        "<tr><td style='color:red;'>9 &hearts;</td><td style='color:lightgrey;'>9 &spades;</td><td style='color:lightgrey;'>9 &clubs;<td style='color:red;'>9 &diams;</td></tr>\n",
        "<tr><td style='color:red;'>8 &hearts;</td><td style='color:lightgrey;'>8 &spades;</td><td style='color:lightgrey;'>8 &clubs;<td style='color:red;'>8 &diams;</td></tr>\n",
        "<tr><td style='color:red;'>7 &hearts;</td><td style='color:lightgrey;'>7 &spades;</td><td style='color:lightgrey;'>7 &clubs;<td style='color:red;'>7 &diams;</td></tr>\n",
        "<tr><td style='color:red;'>6 &hearts;</td><td style='color:lightgrey;'>6 &spades;</td><td style='color:lightgrey;'>6 &clubs;<td style='color:red;'>6 &diams;</td></tr>\n",
        "<tr><td style='color:red;'>5 &hearts;</td><td style='color:lightgrey;'>5 &spades;</td><td style='color:lightgrey;'>5 &clubs;<td style='color:red;'>5 &diams;</td></tr>\n",
        "<tr><td style='color:red;'>4 &hearts;</td><td style='color:lightgrey;'>4 &spades;</td><td style='color:lightgrey;'>4 &clubs;<td style='color:red;'>4 &diams;</td></tr>\n",
        "<tr><td style='color:red;'>3 &hearts;</td><td style='color:lightgrey;'>3 &spades;</td><td style='color:lightgrey;'>3 &clubs;<td style='color:red;'>3 &diams;</td></tr>\n",
        "<tr><td style='color:red;'>2 &hearts;</td><td style='color:lightgrey;'>2 &spades;</td><td style='color:lightgrey;'>2 &clubs;<td style='color:red;'>2 &diams;</td></tr>\n",
        "</table>\n",
        "\n",
        "We call this the *union* of the sets, and we write it as **A &cup; B**.\n",
        "\n",
        "To calculate the probability of a card being either an ace (of any color) or a red card (of any value), **we can work out the probability of A, add it to the probability of B, and subtract the probability of A &cap; B (to avoid double-counting the red aces)**:\n",
        "\n",
        "$$\n",
        "\\begin{equation}P(A \\cup B) = P(A) + P(B) - P(A \\cap B)\\end{equation}\n",
        "$$\n",
        "\n",
        "So:\n",
        "\n",
        "$$\n",
        "\\begin{equation}P(A \\cup B) = 0.077 + 0.5 - 0.0385 = 0.5385\\end{equation}\n",
        "$$\n",
        "\n",
        "So when you draw a card from a full deck, there is a **53.85% probability that it will be either an ace or a red card**."
      ]
    },
    {
      "cell_type": "markdown",
      "metadata": {
        "id": "FDVJT6pIjclE"
      },
      "source": [
        "---\n",
        "### D.2. Dependent Events"
      ]
    },
    {
      "cell_type": "markdown",
      "metadata": {
        "id": "XmKDK3r4Zya_"
      },
      "source": [
        "Let's return to our deck of 52 cards from which we're going to draw one card. The sample space can be summarized like this:\n",
        "\n",
        "<img src='https://i.ibb.co/b3YJ6xZ/02-Cards.png'>\n",
        "\n",
        "There are two black suits (*spades* and *clubs*) and two red suits (*hearts* and *diamonds*); with 13 cards in each suit. So :\n",
        "\n",
        "* `A` : the probability of drawing a black card \n",
        "$$\n",
        "\\begin{equation}P(A) = \\frac{13 + 13}{52} = \\frac{26}{52} = 0.5 \\end{equation}\n",
        "$$\n",
        "* `B` : the probability of drawing a red card\n",
        "$$\n",
        "\\begin{equation}P(B) = \\frac{13 + 13}{52} = \\frac{26}{52} = 0.5\\end{equation}\n",
        "$$"
      ]
    },
    {
      "cell_type": "markdown",
      "metadata": {
        "id": "x0ipoEVRPloT"
      },
      "source": [
        "---\n",
        "Now let's draw a card from the deck:\n",
        "\n",
        "<div style ='text-align:center;'><span style='font-size:32px;color:red;'>&hearts;</span></div>\n",
        "\n",
        "We drew a heart, which is red. So, **assuming we don't replace the card back into the deck**, this changes the sample space as follows:\n",
        "\n",
        "<table>\n",
        "<tr><td>12 x <span style='font-size:32px;color:red;'>&hearts;</span></td><td>13 x <span style='font-size:32px;color:black;'>&spades;</span></td><td>13 x <span style='font-size:32px;color:black;'>&clubs;</span></td><td>13 x <span style='font-size:32px;color:red;'>&diams;</span></td></tr>\n",
        "</table>\n",
        "\n",
        "The probabilities for **A** and **B** are now:\n",
        "\n",
        "* `A` : the probability of drawing a black card \n",
        "$$\n",
        "\\begin{equation}P(A) = \\frac{13 + 13}{51} = \\frac{26}{51} = 0.51 \\end{equation}\n",
        "$$\n",
        "* `B` : the probability of drawing a red card\n",
        "$$\n",
        "\\begin{equation}P(B) = \\frac{12 + 13}{51} = \\frac{25}{51} = 0.49\\end{equation}\n",
        "$$"
      ]
    },
    {
      "cell_type": "markdown",
      "metadata": {
        "id": "qynHbPUtQikP"
      },
      "source": [
        "---\n",
        "Now let's draw a second card:\n",
        "\n",
        "<div style ='text-align:center;'><span style='font-size:32px;color:red;'>&diams;</span></div>\n",
        "\n",
        "We drew a diamond, so again this changes the sample space for the next draw:\n",
        "\n",
        "<table>\n",
        "<tr><td>12 x <span style='font-size:32px;color:red;'>&hearts;</span></td><td>13 x <span style='font-size:32px;color:black;'>&spades;</span></td><td>13 x <span style='font-size:32px;color:black;'>&clubs;</span></td><td>12 x <span style='font-size:32px;color:red;'>&diams;</span></td></tr>\n",
        "</table>\n",
        "\n",
        "The probabilities for **A** and **B** are now:\n",
        "\n",
        "* `A` : the probability of drawing a black card \n",
        "$$\n",
        "\\begin{equation}P(A) = \\frac{13 + 13}{50} = \\frac{26}{50} = 0.52 \\end{equation}\n",
        "$$\n",
        "* `B` : the probability of drawing a red card\n",
        "$$\n",
        "\\begin{equation}P(B) = \\frac{12 + 12}{50} = \\frac{24}{51} = 0.48\\end{equation}\n",
        "$$\n",
        "\n",
        "So it's clear that one event can affect another; in this case, the probability of drawing a card of a particular color on the second draw depends on the color of card drawn on the previous draw. We call these *dependent* events.\n",
        "\n",
        "Probability trees are particularly useful when looking at dependent events. Here's a probability tree for drawing red or black cards as the first three draws from a deck of cards:\n",
        "\n",
        "                         _______R(0.48) \n",
        "                        /\n",
        "                   ____R(0.49)\n",
        "                  /     \\_______B(0.52) \n",
        "                 /        \n",
        "              __R(0.50)  _______R(0.50) \n",
        "             /   \\      / \n",
        "            /     \\____B(0.51)\n",
        "           /            \\_______B(0.50) \n",
        "          /              \n",
        "    _____/              ________R(0.50) \n",
        "         \\             / \n",
        "          \\        ___R(0.51)\n",
        "           \\      /    \\________B(0.50) \n",
        "            \\    /       \n",
        "             \\__B(0.50) ________R(0.52) \n",
        "                 \\     /\n",
        "                  \\___B(0.49)\n",
        "                       \\________B(0.48) "
      ]
    },
    {
      "cell_type": "markdown",
      "metadata": {
        "id": "3-ohHTM-r5No"
      },
      "source": [
        "---\n",
        "#### Calculating Probabilities for Dependent Events"
      ]
    },
    {
      "cell_type": "markdown",
      "metadata": {
        "id": "C-MWrCMgrlIm"
      },
      "source": [
        "Imagine a game in which you have to predict the color of the next card to be drawn. **Suppose the first card drawn is a *spade*, which is black. What is the probability of the next card being red?**\n",
        "\n",
        "The notation for this is:\n",
        "\n",
        "$$\n",
        "\\begin{equation}P(B|A)\\end{equation}\n",
        "$$\n",
        "\n",
        "You can interpret this as *the probability of B, given A*. In other words, given that event **A (drawing a black card)** has already happened, what is the probability of **B (drawing a red card)**. This is commonly referred to as the *conditional probability* of B given A; and it's formula is:\n",
        "\n",
        "$$\n",
        "\\begin{equation}P(B|A) = \\frac{P(A \\cap B)}{P(A)}\\end{equation}\n",
        "$$\n",
        "\n",
        "So to return to our example, the probability of the second card being red given that the first card was black is:\n",
        "\n",
        "$$\n",
        "\\begin{equation}P(B|A) = \\frac{\\frac{26}{52} \\times \\frac{26}{51}}{\\frac{26}{52}}\\end{equation}\n",
        "$$\n",
        "\n",
        "Which simplifies to:\n",
        "\n",
        "$$\n",
        "\\begin{equation}P(B|A) = \\frac{0.5 \\times 0.51}{0.5}\\end{equation}\n",
        "$$\n",
        "\n",
        "So:\n",
        "\n",
        "$$\n",
        "\\begin{equation}P(B|A) = \\frac{0.255}{0.5} = 0.51\\end{equation}\n",
        "$$"
      ]
    },
    {
      "cell_type": "markdown",
      "metadata": {
        "id": "pQkOKkTASY81"
      },
      "source": [
        "---\n",
        "Because this is an algebraic expression, we can rearrange it like this:\n",
        "\n",
        "$$\n",
        "\\begin{equation}P(A \\cap B) = P(A) \\times P(B|A)\\end{equation}\n",
        "$$\n",
        "\n",
        "We can use this form of the formula to calculate the **probability that the first two cards drawn from a full deck of cards will both be jacks**. In this case, \n",
        "* `A` is drawing a jack for the first card, and \n",
        "* `B` is drawing a jack for the second card.\n",
        "\n",
        "The probability that the first drawn card will be a jack is:\n",
        "\n",
        "$$\n",
        "\\begin{equation}P(A) = \\frac{4}{52} = \\frac{1}{13}\\end{equation}\n",
        "$$\n",
        "\n",
        "We draw the first card:\n",
        "\n",
        "<br/>\n",
        "<div style ='text-align:center;'><span style='font-size:32px;color:black;'>J &clubs;</span></div>\n",
        "\n",
        "Success! it's the jack of clubs. Our chances of the first two cards being jacks are looking good so far\n",
        "\n",
        "Now. we know that there are now only 3 jacks left, in a deck of 51 remaining cards; so the probability of drawing a jack as a second card, given that we drew a jack as the first card is:\n",
        "\n",
        "$$\n",
        "\\begin{equation}P(B|A) = \\frac{3}{51}\\end{equation}\n",
        "$$\n",
        "\n",
        "So we can work out the **probability of drawing two jacks from a deck** like this:\n",
        "\n",
        "$$\n",
        "\\begin{equation}P(A \\cap B) = \\frac{1}{13} \\times \\frac{3}{51} = \\frac{3}{663} = \\frac{1}{221}\\end{equation}\n",
        "$$\n",
        "\n",
        "So, there's a **1 in 221 (0.45%)  probability that the first two cards drawn from a full deck will be jacks**."
      ]
    },
    {
      "cell_type": "markdown",
      "metadata": {
        "id": "zacUMNnRmbQq"
      },
      "source": [
        "---\n",
        "### D.3. Mutually Exclusive\n",
        "\n",
        "We've talked about dependent and independent events, but there's a third category to be considered: mutually exclusive events.\n",
        "\n",
        "For example, when flipping a coin, **what is the probability that in a single coin flip the result will be heads *and* tails**? The answer is of course, 0; a single coin flip can only result in *heads* ***or*** *tails*; not both!\n",
        "\n",
        "For mutually exclusive event, the probability of an intersection is:\n",
        "\n",
        "$$\n",
        "\\begin{equation}P(A \\cap B) = 0\\end{equation}\n",
        "$$\n",
        "\n",
        "The probability for a union is:\n",
        "\n",
        "$$\n",
        "\\begin{equation}P(A \\cup B) = P(A) + P(B)\\end{equation}\n",
        "$$\n",
        "\n",
        "Note that we don't need to subtract the intersection (*and*) probability to calculate the union (*or*) probability like we did previously, because there's no risk of double-counting the sample points that lie in both events - there are none. *(The intersection probability for mutually exclusive events is always 0, so you can subtract it if you like - you'll still get the same result!)*\n",
        "\n",
        "Let's look at another two mutually exclusive events based on rolling a dice:\n",
        "* Event `A` : Rolling a 6\n",
        "* Event `B` : Rolling an odd number\n",
        "\n",
        "The probabilities for these events are:\n",
        "\n",
        "$$\n",
        "\\begin{equation}P(A) = \\frac{1}{6} \\;\\;\\;\\; P(B) = \\frac{3}{6}\\end{equation}\n",
        "$$\n",
        "\n",
        "What's the probability of rolling a 6 *and* an odd number in a single roll? These are mutually exclusive, so:\n",
        "\n",
        "$$\n",
        "\\begin{equation}P(A \\cap B) = 0\\end{equation}\n",
        "$$\n",
        "\n",
        "**The probability of rolling a 6 *or* an odd number:**\n",
        "\n",
        "$$\n",
        "\\begin{equation}P(A \\cup B) = \\frac{1}{6} + \\frac{3}{6} = \\frac{4}{6}\\end{equation}\n",
        "$$"
      ]
    },
    {
      "cell_type": "markdown",
      "metadata": {
        "id": "Nap9m6Mxl10P"
      },
      "source": [
        "## E. Random Variables"
      ]
    },
    {
      "cell_type": "markdown",
      "metadata": {
        "id": "iye7VmFeZybE"
      },
      "source": [
        "### E.1. Binomial Variables and Distributions\n",
        "Now that we know something about probability, let's apply that to statistics. Statistics is about inferring measures for a full population based on samples, allowing for random variation; so we're going to have to consider the idea of a *random variable*.\n",
        "\n",
        "**A random variable is a number that can vary in value.** For example, the temperature on a given day, or the number of students taking a class."
      ]
    },
    {
      "cell_type": "markdown",
      "metadata": {
        "id": "za0Vc0JJZSld"
      },
      "source": [
        "---\n",
        "#### Binomial Variables\n",
        "One particular type of random variable that we use in statistics is a *binomial* variable. **A binomial variable is used to count how frequently an event occurs in a fixed number of repeated independent experiments.** \n",
        "\n",
        "The event in question must have the same probability of occurring in each experiment, and indicates the success or failure of the experiment; with a probability ***p*** of success, which has a complement of ***1 - p*** as the probability of failure (we often call this kind of experiment a *Bernoulli Trial* after Swiss mathematician Jacob Bernoulli)."
      ]
    },
    {
      "cell_type": "markdown",
      "metadata": {
        "id": "iL8xcYzpfH5P"
      },
      "source": [
        "---\n",
        "For example, **suppose we flip a coin three times, counting *heads* as success**. We can define a binomial variable to **represent the number of successful coin flips (that is, the number of times we got *heads*)**.\n",
        "\n",
        "Let's examine this in more detail.\n",
        "\n",
        "We'll call our variable ***X***, and as stated previously it represents the number of times we flip *heads* in a series of three coin flips. Let's start by examining all the possible values for ***X***.\n",
        "\n",
        "* We're flipping the coin three times, with a probability of <sup>1</sup>/<sub>2</sub> of success on each flip. \n",
        "* The possibile results are :\n",
        "  - none of the flips resulting in *heads*, \n",
        "  - combination between heads and tails,\n",
        "  - all of the flips resulting in *heads*. \n",
        "* There are two possible outcomes from each flip, and there are three flips, so the total number of possible result sets is 2<sup>3</sup>, which is 8. Here they are: \n",
        "\n",
        "<img src='https://i.ibb.co/wssQmp5/07-Binomial-Variables.png'>\n",
        "\n",
        "In these results, **our variable `X`, representing the number of successful events (getting *heads*), can vary from 0 to 3**. We can write that like this:\n",
        "\n",
        "$$\n",
        "\\begin{equation}X=\\{0,1,2,3\\}\\end{equation}\n",
        "$$"
      ]
    },
    {
      "cell_type": "markdown",
      "metadata": {
        "id": "a7tUZMLkhiQM"
      },
      "source": [
        "---\n",
        "When we want to indicate a specific outcome for a random variable, we use write the variable in lower case, for example ***x***. \n",
        "\n",
        "So what's the probability that ***x*** = 0 (meaning that out of our three flips we got no *heads*)? We can easily see, that there is 1 row in our set of possible outcomes that contains no *heads*, so:\n",
        "\n",
        "$$\n",
        "\\begin{equation}P(x=0) = \\frac{1}{8}\\end{equation}\n",
        "$$\n",
        "\n",
        "OK, let's see if we can **find the probability for 1 success**. There are three sample points containing a single *heads* result, so:\n",
        "\n",
        "$$\n",
        "\\begin{equation}P(x=1) = \\frac{3}{8}\\end{equation}\n",
        "$$\n",
        "\n",
        "Again, we can easily see that from our results; but it's worth thinking about this in a slightly different way that will make it easier to calculate this probability more generically when there are more sample points (for example, if we had based our binomial variable on 100 coin flips, there would be many more combinations!)."
      ]
    },
    {
      "cell_type": "markdown",
      "metadata": {
        "id": "hLVR3V7pi4GY"
      },
      "source": [
        "---\n",
        "What we're actually saying here is that for **3** experiments (in this case coin flips), we want to *choose* **1** successful results. This is written as <sub>3</sub>C<sub>1</sub>. More generically, this is known as *n choose k*, and it's written like this:\n",
        "\n",
        "$$\n",
        "\\begin{equation}_{n}C_{k}\\end{equation}\n",
        "$$\n",
        "\n",
        "or sometimes like this:\n",
        "\n",
        "$$\n",
        "\\begin{equation}\\begin{pmatrix} n \\\\ k\\end{pmatrix}\\end{equation}\n",
        "$$\n",
        "\n",
        "The formula to calculate this is:\n",
        "\n",
        "$$\n",
        "\\begin{equation}\\begin{pmatrix} n \\\\ k\\end{pmatrix} = \\frac{n!}{k!(n-k)!}\\end{equation}\n",
        "$$\n",
        "\n",
        "The exclamation points indicate *factorials* - the product of all positive integers less than or equal to the specified integer  (with 0! having a value of 1).\n",
        "\n",
        "In the case of our <sub>3</sub>C<sub>1</sub> calculation, this means:\n",
        "\n",
        "$$\n",
        "\\begin{equation}\\begin{pmatrix} 3 \\\\ 1\\end{pmatrix} = \\frac{3!}{1!(3 - 1)!} = \\frac{3!}{1!\\times2!} =\\frac{3 \\times 2 \\times 1}{1 \\times(2 \\times 1)} = \\frac{6}{2} = 3 \\end{equation}\n",
        "$$\n",
        "\n",
        "So, **from 3 coin flipping, there are 3 possibilities outcame where head is appears 1 time.**"
      ]
    },
    {
      "cell_type": "markdown",
      "metadata": {
        "id": "2QCGY73Jj3Ap"
      },
      "source": [
        "---\n",
        "That seems like a lot of work to find the number of successful experiments, but now that you know this general formula, you can use it to calculate the number of sample points for any value of *k* from any set of *n* cases. Let's use it to **find the possibility of two successful *heads* out of 3 coin flips:**\n",
        "\n",
        "$$\n",
        "\\begin{equation}P(x=2) = \\frac{_{3}C_{2}}{8}\\end{equation}\n",
        "$$\n",
        "\n",
        "Let's work out the number of combinations for <sub>3</sub>C<sub>2</sub>\n",
        "\n",
        "$$\n",
        "\\begin{equation}_{3}C_{2} = \\frac{3!}{2!(3 - 2)!} = \\frac{6}{2 \\times 1} = \\frac{6}{2} = 3\\end{equation}\n",
        "$$\n",
        "\n",
        "So:\n",
        "\n",
        "$$\n",
        "\\begin{equation}P(x=2) = \\frac{3}{8}\\end{equation}\n",
        "$$\n",
        "\n",
        "Finally, **what's the probability that all three flips were *heads*?**\n",
        "\n",
        "$$\n",
        "\\begin{equation}P(x=3) = \\frac{_{3}C_{3}}{8}\\end{equation}\n",
        "$$\n",
        "\n",
        "$$\n",
        "\\begin{equation}_{3}C_{3} = \\frac{3!}{3!(3 - 3)!} = \\frac{6}{6} = 1\\end{equation}\n",
        "$$\n",
        "\n",
        "So:\n",
        "\n",
        "$$\n",
        "\\begin{equation}P(x=3) = \\frac{1}{8}\\end{equation}\n",
        "$$\n",
        "\n",
        "In Python, there are a number of modules you can use to find the *n choose k* combinations, including the `scipy.special.comb` function. \n",
        "\n",
        "In our coin flipping experiment, there is an equal probability of success and failure; so the probability calculations are relatively simple, and you may notice that there's a symmetry to the probability for each possible value of the binomial variable, as you can see by running the following Python code. You can increase the value of the **trials** variable to verify that no matter how many times we toss the coin, the probabilities of getting *heads* (or *tails* for that matter) form a symmetrical distribution, because there's an equal probability of success and failure in each trial."
      ]
    },
    {
      "cell_type": "code",
      "execution_count": 3,
      "metadata": {
        "colab": {
          "base_uri": "https://localhost:8080/",
          "height": 314
        },
        "id": "HHXGkyVkZybG",
        "outputId": "17355238-03e4-4322-e93a-69e46549cff2"
      },
      "outputs": [
        {
          "data": {
            "image/png": "[encoded data removed]",
            "text/plain": [
              "<Figure size 432x288 with 1 Axes>"
            ]
          },
          "metadata": {
            "needs_background": "light"
          },
          "output_type": "display_data"
        },
        {
          "name": "stdout",
          "output_type": "stream",
          "text": [
            "[0 1 2 3]\n",
            "[0.125 0.375 0.375 0.125]\n"
          ]
        }
      ],
      "source": [
        "%matplotlib inline\n",
        "from scipy import special as sps\n",
        "from matplotlib import pyplot as plt\n",
        "import numpy as np\n",
        "\n",
        "# How many coin flipping\n",
        "trials = 3\n",
        "\n",
        "# Possibilities of all flipping (Sample Space)\n",
        "possibilities = 2**trials\n",
        "\n",
        "# Define Binomial Variable\n",
        "x = np.array(range(0, trials+1))\n",
        "\n",
        "# Probability for each value in Binomial Variable\n",
        "p = np.array([sps.comb(trials, i, exact=True)/possibilities for i in x])\n",
        "\n",
        "# Set up the graph\n",
        "plt.xlabel('Successes')\n",
        "plt.ylabel('Probability')\n",
        "plt.bar(x, p)\n",
        "plt.show()\n",
        "\n",
        "# # Display Binomial Variable with its probability\n",
        "# for ii in range(0, len(x)):\n",
        "#   print('Number of Appears : ', x[ii])\n",
        "#   print('Probability       : ', p[ii])\n",
        "#   print('')\n",
        "\n",
        "print(x)\n",
        "print(p)"
      ]
    },
    {
      "cell_type": "markdown",
      "metadata": {
        "id": "4_T5pynzZybJ"
      },
      "source": [
        "#### Allowing for Bias\n",
        "**Previously, we calculated the probability for each possible value of a random variable by simply dividing the number of combinations for that value by the total number of possible outcomes. This works if the probability of the event being tested is equal for failure and success**; but of course, not all experiments have an equal chance of success or failure. Some include a bias that makes success more or less likely - so we need to be a little more thorough in our calculations to allow for this.\n",
        "\n",
        "Suppose you're flying off to some exotic destination, and you know that **there's a one in four chance that the airport security scanner will trigger a random search for each passenger that goes though.** If you watch five passengers go through the scanner, how many will be stopped for a random search?\n",
        "\n",
        "It's tempting to think that there's a one in four chance, so a quarter of the passengers will be stopped; but remember that the searches are triggered randomly for thousands of passengers that pass through the airport each day. *It's possible that none of the next five passengers will be searched; all five of them will be searched, or some other value in between will be searched.* \n",
        "\n",
        "Even though the probabilities of being searched or not searched are not the same, this is still a binomial variable. There are a fixed number of independent experiments (five passengers passing through the security scanner), the outcome of each experiment is either success (a search is triggered) or failure (no search is triggered), and the probability of being searched does not change for each passenger.\n",
        "\n",
        "**There are five experiments in which a passenger goes through the security scanner, let's call this `n`.**\n",
        "\n",
        "**For each passenger, the probability of being searched is <sup>1</sup>/<sub>4</sub> or 0.25. We'll call this `p`.** \n",
        "\n",
        "The complement of **p** (in other words, the probability of *not* being searched) is **1-p**, in this case <sup>3</sup>/<sub>4</sub> or 0.75.\n",
        "\n",
        "So, **what's the probability that out of our `n` experiments, three result in a search (let's call that `k`) and the remaining ones (there will be `n-k` of them, which is two) don't?**\n",
        "\n",
        "- The **probability of three passengers being searched** is 0.25 x 0.25 x 0.25 which is the same as 0.25<sup>3</sup>. Using our generic variables, this is **p<sup>k</sup>**.\n",
        "- The **probability that the rest don't get searched** is 0.75 x 0.75, or 0.75<sup>2</sup>. In terms of our variables, this is **1-p<sup>(n-k)</sup>**.\n",
        "- The **combined probability of three searchs and two non-searches** is therefore 0.25<sup>3</sup> x 0.75<sup>2</sup> (approximately 0.088). Using our variables, this is:\n",
        "\n",
        "$$\n",
        "\\begin{equation}p^{k}(1-p)^{(n-k)}\\end{equation}\n",
        "$$\n",
        "\n",
        "This formula enables us to calculate the probability for a single combination of `n` passengers in which `k` experiments had a successful outcome. In this case, it enables us to calculate that the probability of three passengers out of five being searched is approximately 0.088. However, we need to consider that there are multiple ways this can happen :\n",
        "* the first three passengers could get searched; or \n",
        "* the last three; or \n",
        "* the first, third, and fifth person, or \n",
        "* any other possible combination of 3 from 5.\n",
        "\n",
        "There are two possible outcomes for each experiment; so the total number of possible combinations of five passengers being searched or not searched is 2<sup>5</sup> or 32. So within those 32 sets of possible result combinations, how many have three searches? We can use the <sub>n</sub>C<sub>k</sub> formula to calculate this:\n",
        "\n",
        "$$\n",
        "\\begin{equation}_{5}C_{3} = \\frac{5!}{3!(5 - 3)!} = \\frac{120}{6\\times 2} = \\frac{120}{24} = 5\\end{equation}\n",
        "$$\n",
        "\n",
        "So, **5 out of our 32 combinations had 3 searches and 2 non-searches**.\n",
        "\n",
        "---\n",
        "To find the **probability of any combination of 3 searches out of 5 passengers**, we need to multiply the number of possible combinations by the probability for a single combination - in this case <sup>5</sup>/<sub>32</sub> x 0.088, which is 0.01375, or 13.75%.\n",
        "\n",
        "So our complete formula to calculate the probabilty of ***k*** events from ***n*** experiments with probability ***p*** is:\n",
        "\n",
        "$$\n",
        "\\begin{equation}P(x=k)  = \\frac{n!}{k!(n-k)!} p^{k}(1-p)^{(n-k)}\\end{equation}\n",
        "$$\n",
        "\n",
        "This is known as the *General Binomial Probability Formula*, and we use it to calculate the *probability mass function* (or *PMF*) for a binomial variable. In other words, we can use it to calculate the probability for each possible value for the variable and use that information to determine the relative frequency of the variable values as a distribution.\n",
        "\n",
        "In Python, the `scipy.stats.binom.pmf` function encapsulates the general binomial probability formula, and you can use it to calculate the probability of a random variable having a specific value (***k***) for a given number of experiments (***n***) where the event being tested has a given probability (***p***), as demonstrated in the following code:"
      ]
    },
    {
      "cell_type": "code",
      "execution_count": 4,
      "metadata": {
        "colab": {
          "base_uri": "https://localhost:8080/",
          "height": 314
        },
        "id": "d2iTvedbZybK",
        "outputId": "d30c3b02-a646-48b3-a315-116903f9d053"
      },
      "outputs": [
        {
          "data": {
            "image/png": "[encoded data removed]",
            "text/plain": [
              "<Figure size 432x288 with 1 Axes>"
            ]
          },
          "metadata": {
            "needs_background": "light"
          },
          "output_type": "display_data"
        },
        {
          "name": "stdout",
          "output_type": "stream",
          "text": [
            "[0 1 2 3 4 5]\n",
            "[0.23730469 0.39550781 0.26367187 0.08789062 0.01464844 0.00097656]\n"
          ]
        }
      ],
      "source": [
        "%matplotlib inline\n",
        "from scipy.stats import binom\n",
        "from matplotlib import pyplot as plt\n",
        "import numpy as np\n",
        "\n",
        "# Number of experiments\n",
        "n = 5\n",
        "\n",
        "# Probability per each experiment\n",
        "p = 0.25\n",
        "\n",
        "# Define Binomial Variable\n",
        "x = np.array(range(0, n+1))\n",
        "\n",
        "# Probability per each value of Binomial Variable\n",
        "prob = np.array([binom.pmf(k, n, p) for k in x])\n",
        "\n",
        "# Set up the graph\n",
        "plt.xlabel('x')\n",
        "plt.ylabel('Probability')\n",
        "plt.bar(x, prob)\n",
        "plt.show()\n",
        "\n",
        "# Display Binomial Variable and its probabilities\n",
        "print(x)\n",
        "print(prob)"
      ]
    },
    {
      "cell_type": "markdown",
      "metadata": {
        "id": "230JB_7aZybL"
      },
      "source": [
        "You can see from the bar chart that with this small value for ***n***, the distribution is **right-skewed**.\n",
        "\n",
        "Recall that in our coin flipping experiment, **when the probability of failure vs success was equal, the resulting distribution was symmetrical. With an unequal probability of success in each experiment, the bias has the effect of skewing the overall probability mass.**\n",
        "\n",
        "However, try increasing the value of ***n*** in the code above to 10, 20, and 50; re-running the cell each time. With more observations, the *central limit theorem* starts to take effect and the distribution starts to look more symmetrical - with enough observations it starts to look like a *normal* distribution.\n",
        "\n",
        "There is an important distinction here - the *normal* distribution applies to *continuous* variables, while the *binomial* distribution applies to *discrete* variables. However, the similarities help in a number of statistical contexts where the number of observations (experiments) is large enough for the *central limit theorem* to make the distribution of binomial variable values behave like a *normal* distribution."
      ]
    },
    {
      "cell_type": "markdown",
      "metadata": {
        "id": "_Z1DWEhYzCvx"
      },
      "source": [
        "---\n",
        "### E.2. Working with the Binomial Distribution\n",
        "Now that you know how to work out a binomial distribution for a repeated experiment, it's time to take a look at some statistics that will help us quantify some aspects of probability.\n",
        "\n",
        "Let's increase our ***n*** value to 100 so that we're looking at the number of searches per 100 passengers. This gives us the binomial distribution graphed by the following code:"
      ]
    },
    {
      "cell_type": "code",
      "execution_count": 5,
      "metadata": {
        "colab": {
          "base_uri": "https://localhost:8080/",
          "height": 835
        },
        "id": "DNAi4qC1ZybL",
        "outputId": "b33b7b07-9164-4fe6-89f3-5c6f85337da2"
      },
      "outputs": [
        {
          "data": {
            "image/png": "[encoded data removed]",
            "text/plain": [
              "<Figure size 432x288 with 1 Axes>"
            ]
          },
          "metadata": {
            "needs_background": "light"
          },
          "output_type": "display_data"
        },
        {
          "name": "stdout",
          "output_type": "stream",
          "text": [
            "[  0   1   2   3   4   5   6   7   8   9  10  11  12  13  14  15  16  17\n",
            "  18  19  20  21  22  23  24  25  26  27  28  29  30  31  32  33  34  35\n",
            "  36  37  38  39  40  41  42  43  44  45  46  47  48  49  50  51  52  53\n",
            "  54  55  56  57  58  59  60  61  62  63  64  65  66  67  68  69  70  71\n",
            "  72  73  74  75  76  77  78  79  80  81  82  83  84  85  86  87  88  89\n",
            "  90  91  92  93  94  95  96  97  98  99 100]\n",
            "[3.20720219e-13 1.06906740e-11 1.76396120e-10 1.92075775e-09\n",
            " 1.55261252e-08 9.93672011e-08 5.24438006e-07 2.34748441e-06\n",
            " 9.09650208e-06 3.09954886e-05 9.40196486e-05 2.56417224e-04\n",
            " 6.33920358e-04 1.43038440e-03 2.96293911e-03 5.66250585e-03\n",
            " 1.00273541e-02 1.65156421e-02 2.53851536e-02 3.65189928e-02\n",
            " 4.93006403e-02 6.26039877e-02 7.49350762e-02 8.47092166e-02\n",
            " 9.05918011e-02 9.17996918e-02 8.82689344e-02 8.06407549e-02\n",
            " 7.00806560e-02 5.79977843e-02 4.57538076e-02 3.44383498e-02\n",
            " 2.47525639e-02 1.70017611e-02 1.11678235e-02 7.01977474e-03\n",
            " 4.22486443e-03 2.43595787e-03 1.34618724e-03 7.13364180e-04\n",
            " 3.62626792e-04 1.76891118e-04 8.28299679e-05 3.72413809e-05\n",
            " 1.60815054e-05 6.67084668e-06 2.65867078e-06 1.01821434e-06\n",
            " 3.74759445e-07 1.32567967e-07 4.50731088e-08 1.47297741e-08\n",
            " 4.62665981e-09 1.39672749e-09 4.05223408e-10 1.12971374e-10\n",
            " 3.02601895e-11 7.78624760e-12 1.92418763e-12 4.56586894e-13\n",
            " 1.04000348e-13 2.27323165e-14 4.76645347e-15 9.58334560e-16\n",
            " 1.84679056e-16 3.40945949e-17 6.02682233e-18 1.01946248e-18\n",
            " 1.64913049e-19 2.54938047e-20 3.76337116e-21 5.30052277e-22\n",
            " 7.11644260e-23 9.09864808e-24 1.10659233e-24 1.27872892e-25\n",
            " 1.40211504e-26 1.45674290e-27 1.43184131e-28 1.32913540e-29\n",
            " 1.16299347e-30 9.57196273e-32 7.39297935e-33 5.34432242e-34\n",
            " 3.60529687e-35 2.26214706e-36 1.31520178e-37 7.05472217e-39\n",
            " 3.47391622e-40 1.56131066e-41 6.36089529e-43 2.32999827e-44\n",
            " 7.59782046e-46 2.17858651e-47 5.40783886e-49 1.13849239e-50\n",
            " 1.97654929e-52 2.71690624e-54 2.77235331e-56 1.86690458e-58\n",
            " 6.22301528e-61]\n"
          ]
        }
      ],
      "source": [
        "%matplotlib inline\n",
        "from scipy.stats import binom\n",
        "from matplotlib import pyplot as plt\n",
        "import numpy as np\n",
        "\n",
        "# Number of experiments\n",
        "n = 100\n",
        "\n",
        "# Probability per each experiment\n",
        "p = 0.25\n",
        "\n",
        "# Define Binomial Variable\n",
        "x = np.array(range(0, n+1))\n",
        "\n",
        "# Probability per each value of Binomial Variable\n",
        "prob = np.array([binom.pmf(k, n, p) for k in x])\n",
        "\n",
        "# Set up the graph\n",
        "plt.xlabel('x')\n",
        "plt.ylabel('Probability')\n",
        "plt.bar(x, prob)\n",
        "plt.show()\n",
        "\n",
        "# Display Binomial Variable and its probabilities\n",
        "print(x)\n",
        "print(prob)"
      ]
    },
    {
      "cell_type": "markdown",
      "metadata": {
        "id": "XsuWFQJpbXk8"
      },
      "source": [
        "---\n",
        "### E.3. Expected Value"
      ]
    },
    {
      "cell_type": "markdown",
      "metadata": {
        "id": "ROTKtKBc1ch1"
      },
      "source": [
        "Expected value is the total value we can expect given probability of a value occuring and the number of trials. We can calculate the expected value of the distribution like this:\n",
        "\n",
        "$$\n",
        "\\begin{equation}\\mu  = np\\end{equation}\n",
        "$$\n",
        "\n",
        "So for our airport passengers, this is:\n",
        "\n",
        "$$\n",
        "\\begin{equation}\\mu  = 100 \\times 0.25 = 25\\end{equation}\n",
        "$$\n",
        "\n",
        "When we're talking about a probability distribution, the term expected value and *mean* commonly used interchangably. In this case, for any 100 passengers we can reasonably expect 25 of them to be searched."
      ]
    },
    {
      "cell_type": "markdown",
      "metadata": {
        "id": "Sg6w8JkIaiMy"
      },
      "source": [
        "---\n",
        "### E.4. Variance and Standard Deviation"
      ]
    },
    {
      "cell_type": "markdown",
      "metadata": {
        "id": "li4YUS2wagvG"
      },
      "source": [
        "Obviously, we can't search a quarter of a passenger - the expected value reflects the fact that there is variation, and indicates an average value for our binomial random variable. To get an indication of how much variability there actually is in this scenario, we can can calculate the variance and standard deviation.\n",
        "\n",
        "For variance of a binomial probability distribution, we can use this formula:\n",
        "\n",
        "$$\n",
        "\\begin{equation}\\sigma^{2}  = np(1-p)\\end{equation}\n",
        "$$\n",
        "\n",
        "So for our airport passengers:\n",
        "\n",
        "$$\n",
        "\\begin{equation}\\sigma^{2}  = 100 \\times 0.25 \\times 0.75 = 18.75\\end{equation}\n",
        "$$\n",
        "\n",
        "To convert this to standard deviation we just take the square root:\n",
        "\n",
        "$$\n",
        "\\begin{equation}\\sigma  = \\sqrt{np(1-p)}\\end{equation}\n",
        "$$\n",
        "\n",
        "So:\n",
        "\n",
        "$$\n",
        "\\begin{equation}\\sigma  = \\sqrt{18.75} \\approx 4.33 \\end{equation}\n",
        "$$\n",
        "\n",
        "So for every 100 passengers, we can expect 25 searches with a standard deviation of 4.33\n",
        "\n",
        "In Python, you can use the ***mean***, ***var***, and ***std*** functions from the *scipy.stats.**binom*** package to return binomial distribution statistics for given values of *n* and *p*:"
      ]
    },
    {
      "cell_type": "code",
      "execution_count": 6,
      "metadata": {
        "colab": {
          "base_uri": "https://localhost:8080/"
        },
        "id": "sD_V95bmZybM",
        "outputId": "803fafbc-e845-423b-fe07-775e740f7f23"
      },
      "outputs": [
        {
          "name": "stdout",
          "output_type": "stream",
          "text": [
            "Expected Value     :  25.0\n",
            "Variance           :  18.75\n",
            "Standard Deviation :  4.330127018922194\n",
            "\n",
            "Expected Value with Standard Deviation     :  20.669872981077805  -  29.330127018922195\n"
          ]
        }
      ],
      "source": [
        "from scipy.stats import binom\n",
        "\n",
        "# Number of experiments\n",
        "n = 100\n",
        "\n",
        "# Probability per each experiment\n",
        "p = 0.25\n",
        "\n",
        "print('Expected Value     : ', binom.mean(n,p))\n",
        "print('Variance           : ', binom.var(n,p))\n",
        "print('Standard Deviation : ', binom.std(n,p))\n",
        "print('')\n",
        "print('Expected Value with Standard Deviation     : ', binom.mean(n,p)-binom.std(n,p), ' - ', binom.mean(n,p)+binom.std(n,p))"
      ]
    },
    {
      "cell_type": "markdown",
      "metadata": {
        "id": "PKcVqgBuH_vq"
      },
      "source": [
        "# F. Cumulative Distribution Function (CDF)"
      ]
    },
    {
      "cell_type": "markdown",
      "metadata": {
        "id": "hbuh6zyXICwK"
      },
      "source": [
        "$$ F_{X}(x)=P[X \\le x] $$"
      ]
    },
    {
      "cell_type": "markdown",
      "metadata": {
        "id": "fmdjd46oIEne"
      },
      "source": [
        "In probability theory and statistics, the cumulative distribution function (CDF) of a real-valued random variable ${X}$, or just distribution function of ${X}$, evaluated at ${x}$, is the **probability that ${X}$ will take a value less than or equal to ${x}$**.\n",
        "\n",
        "In the case of a scalar continuous distribution, it gives the area under the probability density function from minus infinity to ${x}$. Cumulative distribution functions are also used to specify the distribution of multivariate random variables.\n",
        "\n",
        "Note : **Max value of CDF is always one and min values is always 0**"
      ]
    },
    {
      "cell_type": "code",
      "execution_count": 7,
      "metadata": {
        "colab": {
          "base_uri": "https://localhost:8080/",
          "height": 265
        },
        "id": "0aVah9PCIGiM",
        "outputId": "665e65f9-f813-44a6-e5a2-720a3c06b9e2"
      },
      "outputs": [
        {
          "data": {
            "image/png": "[encoded data removed]",
            "text/plain": [
              "<Figure size 432x288 with 1 Axes>"
            ]
          },
          "metadata": {
            "needs_background": "light"
          },
          "output_type": "display_data"
        }
      ],
      "source": [
        "import numpy as np\n",
        "from matplotlib import pyplot as plt\n",
        "import scipy\n",
        "import scipy.stats\n",
        "\n",
        "%matplotlib inline\n",
        "\n",
        "# Visualization CDF and PDF\n",
        "\n",
        "## Import Libraries\n",
        "import numpy as np\n",
        "from pylab import *\n",
        "\n",
        "## Create Standard Normal Distribution (Distribusi Normal Baku)\n",
        "def my_dist(x,myu=0,sigma=1):\n",
        "    pf=np.exp(-0.5*((x-myu)/sigma)**2)\n",
        "    \n",
        "    return pf/(sigma*((2*np.pi)**(1/2)))\n",
        "\n",
        "## Create x from `-3` to `3` with range `0.001`\n",
        "x = np.arange(-3, 3, 0.001)\n",
        "\n",
        "## Get Standard Normal Distribution\n",
        "p = my_dist(x)\n",
        "\n",
        "## Normalize the data to a proper PDF\n",
        "Y = p\n",
        "dx = 0.001\n",
        "Y /= (dx * Y).sum()\n",
        "\n",
        "## Compute the CDF\n",
        "CY = np.cumsum(Y * dx)\n",
        "\n",
        "## Plot CDF and PDF\n",
        "plot(x, Y)\n",
        "plot(x, CY, 'r--')\n",
        "show()"
      ]
    },
    {
      "cell_type": "markdown",
      "metadata": {
        "id": "l-ujvaTxINjP"
      },
      "source": [
        "# G. Probability Density Function (PDF)"
      ]
    },
    {
      "cell_type": "markdown",
      "metadata": {
        "id": "ywpVESmCIPhi"
      },
      "source": [
        "In probability theory, a probability density function (PDF), or density of a continuous random variable, is **a function whose value at any given sample (or point) in the sample space** (the set of possible values taken by the random variable) can be interpreted as providing a relative likelihood that the value of the random variable would equal that sample.\n",
        "\n",
        "Properties of PDF:\n",
        "* Area under PDF is always accumulated to one\n",
        "* Integrate the PDF to get the CDF. "
      ]
    },
    {
      "cell_type": "code",
      "execution_count": 8,
      "metadata": {
        "colab": {
          "base_uri": "https://localhost:8080/",
          "height": 281
        },
        "id": "cMV0oGVGIRnE",
        "outputId": "a90c3dc9-0cdf-4781-c7c4-d64464ac7a09"
      },
      "outputs": [
        {
          "data": {
            "image/png": "[encoded data removed]",
            "text/plain": [
              "<Figure size 1296x288 with 2 Axes>"
            ]
          },
          "metadata": {
            "needs_background": "light"
          },
          "output_type": "display_data"
        }
      ],
      "source": [
        "# Create PDF with Formula or Scipy\n",
        "\n",
        "## Define Plot\n",
        "fig, ax = plt.subplots(1,2, figsize =(18,4))\n",
        "\n",
        "## Create x from `-3` to `3` with range `0.001`\n",
        "x = np.arange(-3, 3, 0.001)\n",
        "\n",
        "## Create Standard Normal Distribution with formula\n",
        "def my_dist(x, myu=0, sigma=1):\n",
        "    pf = np.exp(-0.5 * ((x-myu)/sigma)**2)\n",
        "    return pf/(sigma*((2*np.pi)**(1/2)))\n",
        "\n",
        "p = my_dist(x)\n",
        "ax[0].set_title('Handmade norm function')\n",
        "ax[0].plot(x, p)\n",
        "\n",
        "## Create Standard Normal Distribution with Scipy library\n",
        "rv_norm = scipy.stats.norm(0, 1)\n",
        "p_scp = rv_norm.pdf(x)\n",
        "ax[1].set_title('Norm function with SciPy')\n",
        "ax[1].plot(x, p_scp)\n",
        "plt.show()"
      ]
    },
    {
      "cell_type": "markdown",
      "metadata": {
        "id": "7gk_2aWBITYc"
      },
      "source": [
        "# H. Probability Mass Function (PMF)"
      ]
    },
    {
      "cell_type": "markdown",
      "metadata": {
        "id": "LPca8ZFiIXTv"
      },
      "source": [
        "In probability and statistics, a probability mass function is **a function that gives the probability that a discrete random variable is exactly equal to some value.** Sometimes it is also known as the *discrete density function*. It can be regarded as PDF in term of discrete variable."
      ]
    },
    {
      "cell_type": "code",
      "execution_count": 9,
      "metadata": {
        "colab": {
          "base_uri": "https://localhost:8080/",
          "height": 282
        },
        "id": "XAsZkzMBIXAV",
        "outputId": "1690f2db-763f-42bc-8b7a-1b07c90fe319"
      },
      "outputs": [
        {
          "data": {
            "text/plain": [
              "<matplotlib.collections.LineCollection at 0x23eb6985400>"
            ]
          },
          "execution_count": 9,
          "metadata": {},
          "output_type": "execute_result"
        },
        {
          "data": {
            "image/png": "[encoded data removed]",
            "text/plain": [
              "<Figure size 432x288 with 1 Axes>"
            ]
          },
          "metadata": {
            "needs_background": "light"
          },
          "output_type": "display_data"
        }
      ],
      "source": [
        "# Visualization of Poisson Distribution\n",
        "\n",
        "## Import library\n",
        "from scipy.stats import poisson\n",
        "\n",
        "## Define mean\n",
        "mu = 3\n",
        "\n",
        "## Create \n",
        "x = poisson.rvs(mu=mu, size=500)\n",
        "y = poisson.pmf(x, mu=mu)\n",
        "\n",
        "## Plot the PMF\n",
        "fig, ax = plt.subplots(1, 1)\n",
        "ax.plot(x, y, 'bo', ms=8, label='poisson pmf')\n",
        "ax.vlines(x, 0, poisson.pmf(x, mu), colors='b', lw=5, alpha=0.5)\n"
      ]
    },
    {
      "cell_type": "markdown",
      "metadata": {
        "id": "sbr3IymeIajR"
      },
      "source": [
        "# I. Common Distribution Functions"
      ]
    },
    {
      "cell_type": "markdown",
      "metadata": {
        "id": "68cBr2kjId1s"
      },
      "source": [
        "## I.1. Gaussian Distribution"
      ]
    },
    {
      "cell_type": "markdown",
      "metadata": {
        "id": "q07r9iV2IgzH"
      },
      "source": [
        "$$ f(x) = \\frac{e^{-(x - \\mu)^{2}/(2\\sigma^{2}) }} {\\sigma\\sqrt{2\\pi}} $$"
      ]
    },
    {
      "cell_type": "code",
      "execution_count": 10,
      "metadata": {
        "colab": {
          "base_uri": "https://localhost:8080/",
          "height": 282
        },
        "id": "XIpd_-ZTIIiQ",
        "outputId": "620d7611-a63c-4c9f-b39b-2dce9fef6ded"
      },
      "outputs": [
        {
          "data": {
            "text/plain": [
              "[<matplotlib.lines.Line2D at 0x23eb6be00d0>]"
            ]
          },
          "execution_count": 10,
          "metadata": {},
          "output_type": "execute_result"
        },
        {
          "data": {
            "image/png": "[encoded data removed]",
            "text/plain": [
              "<Figure size 432x288 with 1 Axes>"
            ]
          },
          "metadata": {
            "needs_background": "light"
          },
          "output_type": "display_data"
        }
      ],
      "source": [
        "from scipy.stats import norm\n",
        "\n",
        "x = np.linspace(norm.ppf(0.01),norm.ppf(0.99), 100)\n",
        "y = norm.pdf(x)\n",
        "\n",
        "fig, ax = plt.subplots(1, 1)\n",
        "ax.plot(x, y,'r-', lw=5, alpha=0.6, label='norm pdf')"
      ]
    },
    {
      "cell_type": "code",
      "execution_count": 11,
      "metadata": {
        "colab": {
          "base_uri": "https://localhost:8080/"
        },
        "id": "nL9qsHe7HrH2",
        "outputId": "2556b885-de23-4876-dca7-8c08544740e0"
      },
      "outputs": [
        {
          "name": "stdout",
          "output_type": "stream",
          "text": [
            "x :  [-2.32634787 -2.27935095 -2.23235402 -2.18535709 -2.13836017 -2.09136324\n",
            " -2.04436631 -1.99736939 -1.95037246 -1.90337553 -1.85637861 -1.80938168\n",
            " -1.76238475 -1.71538783 -1.6683909  -1.62139397 -1.57439705 -1.52740012\n",
            " -1.48040319 -1.43340627 -1.38640934 -1.33941241 -1.29241549 -1.24541856\n",
            " -1.19842163 -1.15142471 -1.10442778 -1.05743085 -1.01043393 -0.963437\n",
            " -0.91644007 -0.86944314 -0.82244622 -0.77544929 -0.72845236 -0.68145544\n",
            " -0.63445851 -0.58746158 -0.54046466 -0.49346773 -0.4464708  -0.39947388\n",
            " -0.35247695 -0.30548002 -0.2584831  -0.21148617 -0.16448924 -0.11749232\n",
            " -0.07049539 -0.02349846  0.02349846  0.07049539  0.11749232  0.16448924\n",
            "  0.21148617  0.2584831   0.30548002  0.35247695  0.39947388  0.4464708\n",
            "  0.49346773  0.54046466  0.58746158  0.63445851  0.68145544  0.72845236\n",
            "  0.77544929  0.82244622  0.86944314  0.91644007  0.963437    1.01043393\n",
            "  1.05743085  1.10442778  1.15142471  1.19842163  1.24541856  1.29241549\n",
            "  1.33941241  1.38640934  1.43340627  1.48040319  1.52740012  1.57439705\n",
            "  1.62139397  1.6683909   1.71538783  1.76238475  1.80938168  1.85637861\n",
            "  1.90337553  1.95037246  1.99736939  2.04436631  2.09136324  2.13836017\n",
            "  2.18535709  2.23235402  2.27935095  2.32634787]\n",
            "y :  [0.02665214 0.0296985  0.03302004 0.03663206 0.04054955 0.04478694\n",
            " 0.049358   0.05427559 0.05955143 0.06519596 0.07121803 0.0776247\n",
            " 0.08442105 0.09160987 0.09919153 0.1071637  0.11552116 0.12425566\n",
            " 0.13335569 0.14280642 0.1525895  0.16268307 0.17306164 0.18369615\n",
            " 0.19455396 0.20559893 0.21679157 0.22808919 0.23944611 0.25081392\n",
            " 0.26214179 0.2733768  0.28446433 0.29534848 0.30597253 0.3162794\n",
            " 0.32621215 0.33571453 0.34473146 0.35320956 0.36109774 0.3683476\n",
            " 0.37491403 0.38075561 0.38583507 0.39011967 0.39358159 0.39619817\n",
            " 0.39795222 0.39883215 0.39883215 0.39795222 0.39619817 0.39358159\n",
            " 0.39011967 0.38583507 0.38075561 0.37491403 0.3683476  0.36109774\n",
            " 0.35320956 0.34473146 0.33571453 0.32621215 0.3162794  0.30597253\n",
            " 0.29534848 0.28446433 0.2733768  0.26214179 0.25081392 0.23944611\n",
            " 0.22808919 0.21679157 0.20559893 0.19455396 0.18369615 0.17306164\n",
            " 0.16268307 0.1525895  0.14280642 0.13335569 0.12425566 0.11552116\n",
            " 0.1071637  0.09919153 0.09160987 0.08442105 0.0776247  0.07121803\n",
            " 0.06519596 0.05955143 0.05427559 0.049358   0.04478694 0.04054955\n",
            " 0.03663206 0.03302004 0.0296985  0.02665214]\n"
          ]
        }
      ],
      "source": [
        "print('x : ', x)\n",
        "print('y : ', y)"
      ]
    },
    {
      "cell_type": "markdown",
      "metadata": {
        "id": "ihflSPx0Incp"
      },
      "source": [
        "## I.2. Gamma Distribution"
      ]
    },
    {
      "cell_type": "code",
      "execution_count": 12,
      "metadata": {
        "colab": {
          "base_uri": "https://localhost:8080/",
          "height": 282
        },
        "id": "eAGzpfRlIses",
        "outputId": "948a1a8e-a990-4842-e310-cc1e6c4c8535"
      },
      "outputs": [
        {
          "data": {
            "text/plain": [
              "[<matplotlib.lines.Line2D at 0x23eb6d5e5e0>]"
            ]
          },
          "execution_count": 12,
          "metadata": {},
          "output_type": "execute_result"
        },
        {
          "data": {
            "image/png": "[encoded data removed]",
            "text/plain": [
              "<Figure size 432x288 with 1 Axes>"
            ]
          },
          "metadata": {
            "needs_background": "light"
          },
          "output_type": "display_data"
        }
      ],
      "source": [
        "from scipy.stats import gamma\n",
        "\n",
        "beta = 5\n",
        "x = np.linspace(gamma.ppf(0.000000001,beta),gamma.ppf(0.99,beta), 100)\n",
        "y = gamma.pdf(x,beta)\n",
        "\n",
        "fig, ax = plt.subplots(1, 1)\n",
        "ax.plot(x, y,'r-', lw=5, alpha=0.6, label='norm pdf')"
      ]
    },
    {
      "cell_type": "markdown",
      "metadata": {
        "id": "LocisHiIIqSD"
      },
      "source": [
        "## I.3. Binomial Distribution"
      ]
    },
    {
      "cell_type": "markdown",
      "metadata": {
        "id": "ZvdqiP_kIxJp"
      },
      "source": [
        "Toss a biased coin. The coin falls down heads with probability p."
      ]
    },
    {
      "cell_type": "markdown",
      "metadata": {
        "id": "KlISkxkgIzV1"
      },
      "source": [
        "$$ P(x;p,n) = \\left( \\begin{array}{c} n \\\\ x \\end{array} \\right)\n",
        " (p)^{x}(1 - p)^{(n-x)} \\;\\;\\;\\;\\;\\; \\mbox{for $x = 0, 1, 2, \\cdots , n$} $$"
      ]
    },
    {
      "cell_type": "code",
      "execution_count": 13,
      "metadata": {
        "colab": {
          "base_uri": "https://localhost:8080/",
          "height": 282
        },
        "id": "UxvPWIJYI1Qf",
        "outputId": "ec11c66b-cbd7-4c97-f7ed-52b2df174df1"
      },
      "outputs": [
        {
          "data": {
            "text/plain": [
              "<matplotlib.collections.LineCollection at 0x23eb6ba4310>"
            ]
          },
          "execution_count": 13,
          "metadata": {},
          "output_type": "execute_result"
        },
        {
          "data": {
            "image/png": "[encoded data removed]",
            "text/plain": [
              "<Figure size 432x288 with 1 Axes>"
            ]
          },
          "metadata": {
            "needs_background": "light"
          },
          "output_type": "display_data"
        }
      ],
      "source": [
        "from scipy.stats import binom\n",
        "\n",
        "n, p = 10, 0.5\n",
        "x = np.arange(binom.ppf(0.01, n, p),\n",
        "              binom.ppf(0.99, n, p))\n",
        "\n",
        "fig, ax = plt.subplots(1, 1)\n",
        "ax.plot(x, binom.pmf(x, n, p), 'bo', ms=8, label='binom pmf')\n",
        "ax.vlines(x, 0, binom.pmf(x, n, p), colors='b', lw=5, alpha=0.5)"
      ]
    },
    {
      "cell_type": "markdown",
      "metadata": {
        "id": "suL8EXchI2v0"
      },
      "source": [
        "## I.4. Poisson Distribution"
      ]
    },
    {
      "cell_type": "markdown",
      "metadata": {
        "id": "uPMlLU1oI5kq"
      },
      "source": [
        "$$ p(x;\\lambda) = \\frac{e^{-\\lambda}\\lambda^{x}} {x!} \\mbox{    for     } \n",
        "x = 0, 1, 2, \\cdots $$"
      ]
    },
    {
      "cell_type": "code",
      "execution_count": 14,
      "metadata": {
        "colab": {
          "base_uri": "https://localhost:8080/",
          "height": 282
        },
        "id": "k40zapWAI70i",
        "outputId": "9ad1dad0-611d-4fbb-8790-11f47282e425"
      },
      "outputs": [
        {
          "data": {
            "text/plain": [
              "<matplotlib.collections.LineCollection at 0x23eb6d75130>"
            ]
          },
          "execution_count": 14,
          "metadata": {},
          "output_type": "execute_result"
        },
        {
          "data": {
            "image/png": "[encoded data removed]",
            "text/plain": [
              "<Figure size 432x288 with 1 Axes>"
            ]
          },
          "metadata": {
            "needs_background": "light"
          },
          "output_type": "display_data"
        }
      ],
      "source": [
        "from scipy.stats import poisson\n",
        "\n",
        "mu = 1\n",
        "x = np.arange(poisson.ppf(0.00001, mu),poisson.ppf(0.99999, mu))\n",
        "y = poisson.pmf(x, mu)\n",
        "\n",
        "fig, ax = plt.subplots(1, 1)\n",
        "ax.plot(x, poisson.pmf(x, mu), 'bo', ms=8, label='poisson pmf')\n",
        "ax.vlines(x, 0, y, colors='b', lw=5, alpha=0.5)"
      ]
    },
    {
      "cell_type": "markdown",
      "metadata": {
        "id": "LFa_CqvRI-8R"
      },
      "source": [
        "# J. Sampling and Sampling Distributions\n",
        "\n",
        "Most statistical analysis involves working with distributions - usually of sample data."
      ]
    },
    {
      "cell_type": "markdown",
      "metadata": {
        "id": "uz3D4CXBJAfS"
      },
      "source": [
        "As we discussed earlier, when working with statistics, we usually base our calculations on a sample and not the full population of data. This means we need to allow for some variation between the sample statistics and the true parameters of the full population.\n",
        "\n",
        "In the previous example, we knew the **probability that a security search would be triggered was 25%**, so it's pretty easy to calculate that the **expected value for a random variable indicating the number of searches per 100 passengers is 25**. \n",
        "\n",
        "What if we hadn't known the probability of a search? How could we estimate the expected mean number of searches for a given number of passengers based purely on sample data collected by observing passengers go through security?"
      ]
    },
    {
      "cell_type": "markdown",
      "metadata": {
        "id": "jGXbtDWiJCcE"
      },
      "source": [
        "## J.1. Creating a Proportion Distribution from a Sample\n",
        "We know that the each passenger will either be searched or not searched, and we can assign the values ***0*** (for not searched) and ***1*** (for searched) to these outcomes. We can conduct a Bernoulli trial in which we sample 16 passengers and calculate the fraction (or *proportion*) of passengers that were searched (which we'll call ***p***), and the remaining proportion of passengers (which are the ones who weren't searched, and can be calculated as ***1-p***).\n",
        "\n",
        "Let's say we record the following values for our 16-person sample:\n",
        "\n",
        "    0,1,0,0,1,0,0,0,0,0,0,0,1,0,0,0\n",
        "\n",
        "In this sample, there were 3 searches out of 16 passengers; which as a proportion is <sup>3</sup>/<sub>16</sub> or 0.1875. This is our proportion (or **p**); but because we know that this is based on a sample, we call it **p&#770;** (or p-hat). The remaining proportion of passengers is 1-p; in this case 1 - 0.1875, which is 0.8125."
      ]
    },
    {
      "cell_type": "markdown",
      "metadata": {
        "id": "9Kg1KMFeJFzF"
      },
      "source": [
        "---\n",
        "The data itself is *qualitative* (categorical) - we're indicating \"no search\" or \"search\"; but because we're using numeric values (0 and 1), we can treat these values as numeric and create a binomial distribution from them - it's the simplest form of a binomial distribution - a Bernoulli distribution with two values.\n",
        "\n",
        "Because we're treating the results as a numberic distribution, we can also calculate statistics like *mean* and *standard deviation*:\n",
        "\n",
        "To calculate these, you can use the following formulae:\n",
        "\n",
        "$$\n",
        "\\begin{equation}\\mu_{\\hat{p}} = \\hat{p}\\end{equation}\n",
        "$$\n",
        "\n",
        "$$\n",
        "\\begin{equation}\\sigma_{\\hat{p}} = \\sqrt{\\hat{p}(1-\\hat{p})}\\end{equation}\n",
        "$$\n",
        "\n",
        "The mean is just the value of **p&#770;**, so in the case of the passenger search sample it is 0.1875.\n",
        "\n",
        "The standard deviation is calculated as:\n",
        "\n",
        "$$\n",
        "\\begin{equation}\\sigma_{\\hat{p}} = \\sqrt{0.1875 \\times 0.8125} \\approx 0.39\\end{equation}\n",
        "$$\n",
        "\n",
        "We can use Python to plot the sample distribution and calculate the mean and standard deviation of our sample like this:"
      ]
    },
    {
      "cell_type": "code",
      "execution_count": 15,
      "metadata": {
        "colab": {
          "base_uri": "https://localhost:8080/",
          "height": 331
        },
        "id": "opujmFlzI9Yo",
        "outputId": "633521df-ff86-4306-fa6d-c5de89cb6267"
      },
      "outputs": [
        {
          "data": {
            "image/png": "[encoded data removed]",
            "text/plain": [
              "<Figure size 432x288 with 1 Axes>"
            ]
          },
          "metadata": {
            "needs_background": "light"
          },
          "output_type": "display_data"
        },
        {
          "name": "stdout",
          "output_type": "stream",
          "text": [
            "Mean  : 0.1875\n",
            "StDev : 0.3903123748998999\n",
            "Mean + Stdev : 0.5778123748998999\n"
          ]
        }
      ],
      "source": [
        "%matplotlib inline\n",
        "from matplotlib import pyplot as plt\n",
        "import numpy as np\n",
        "\n",
        "searches = np.array([0,1,0,0,1,0,0,0,0,0,0,0,1,0,0,0])\n",
        "\n",
        "# Set up the graph\n",
        "plt.xlabel('Search Results')\n",
        "plt.ylabel('Frequency')\n",
        "plt.hist(searches)\n",
        "plt.show()\n",
        "print('Mean  : ' + str(np.mean(searches)))\n",
        "print('StDev : ' + str(np.std(searches)))\n",
        "print('Mean + Stdev : ' + str(np.mean(searches) + np.std(searches)))"
      ]
    },
    {
      "cell_type": "markdown",
      "metadata": {
        "id": "7teKRUKaJLu3"
      },
      "source": [
        "When talking about probability, the *mean* is also known as the *expected value*; so based on our single sample of 16 passengers, should we expect the proportion of searched passengers to be 0.1875 (18.75%)?\n",
        "\n",
        "Well, using a single sample like this can be misleading because the number of searches can vary with each sample. Another person observing 100 passengers may get a (very) different result from you. One way to address this problem is to take multiple samples and combine the resulting means to form a *sampling* distribution. This will help us ensure that the distribution and statistics of our sample data is closer to the true values; even if we can't measure the full population."
      ]
    },
    {
      "cell_type": "markdown",
      "metadata": {
        "id": "8EZ9LBWFJNoi"
      },
      "source": [
        "## J.2. Creating a Sampling Distribution of a Sample Proportion\n",
        "So, let's collect mulitple 16-passenger samples - here are the resulting sample proportions for 12 samples:\n",
        "\n",
        "| Sample | Result |\n",
        "|--------|--------|\n",
        "| p&#770;<sub>1</sub>| 0.1875 |\n",
        "| p&#770;<sub>2</sub>| 0.2500 |\n",
        "| p&#770;<sub>3</sub>| 0.3125 |\n",
        "| p&#770;<sub>4</sub>| 0.1875 |\n",
        "| p&#770;<sub>5</sub>| 0.1250 |\n",
        "| p&#770;<sub>6</sub>| 0.3750 |\n",
        "| p&#770;<sub>7</sub>| 0.2500 |\n",
        "| p&#770;<sub>8</sub>| 0.1875 |\n",
        "| p&#770;<sub>9</sub>| 0.1250 |\n",
        "| p&#770;<sub>10</sub>| 0.1250 |\n",
        "| p&#770;<sub>11</sub>| 0.1875 |\n",
        "| p&#770;<sub>12</sub>| 0.2500 |\n",
        "\n",
        "We can plot these as a sampling distribution like this:"
      ]
    },
    {
      "cell_type": "code",
      "execution_count": 16,
      "metadata": {
        "colab": {
          "base_uri": "https://localhost:8080/",
          "height": 331
        },
        "id": "_AIuRNnaJStR",
        "outputId": "9b8f700c-4253-46f3-8d01-19eb537c34db"
      },
      "outputs": [
        {
          "data": {
            "image/png": "[encoded data removed]",
            "text/plain": [
              "<Figure size 432x288 with 1 Axes>"
            ]
          },
          "metadata": {
            "needs_background": "light"
          },
          "output_type": "display_data"
        },
        {
          "name": "stdout",
          "output_type": "stream",
          "text": [
            "Mean :  0.21354166666666666\n",
            "Maximum Search :  0.2877489940040365\n",
            "Minimum Search :  0.13933433932929684\n"
          ]
        }
      ],
      "source": [
        "%matplotlib inline\n",
        "from matplotlib import pyplot as plt\n",
        "import numpy as np\n",
        "\n",
        "searches = np.array([0.1875,0.25,0.3125,0.1875,0.125,0.375,0.25,0.1875,0.1250,0.1250,0.1875,0.25])\n",
        "\n",
        "# Set up the graph\n",
        "plt.xlabel('Search Results')\n",
        "plt.ylabel('Frequency')\n",
        "plt.hist(searches)\n",
        "plt.show()\n",
        "\n",
        "print('Mean : ', searches.mean())\n",
        "print('Maximum Search : ', searches.mean() + searches.std())\n",
        "print('Minimum Search : ', searches.mean() - searches.std())"
      ]
    },
    {
      "cell_type": "markdown",
      "metadata": {
        "id": "lINPrrAlJQj6"
      },
      "source": [
        "## J.3. The Central Limit Theorem\n",
        "You saw previously with the binomial probability distribution, **with a large enough sample size (the *n* value indicating the number of binomial experiments), the distribution of values for a random variable started to form an approximately *normal* curve**. \n",
        "\n",
        "This is the effect of the *central limit theorem*, and it applies to any distribution of sample data if the size of the sample is large enough. For our airport passenger data, if we collect a large enough number of samples, each based on a large enough number of passenger observations, the sampling distribution will be approximately normal. **The larger the sample size, the closer to a perfect *normal* distribution the data will be, and the less variance around the mean there will be**.\n",
        "\n",
        "Run the cell below to see a simulated distribution created by 10,000 random 16-passenger samples:"
      ]
    },
    {
      "cell_type": "code",
      "execution_count": 17,
      "metadata": {
        "colab": {
          "base_uri": "https://localhost:8080/",
          "height": 333
        },
        "id": "gyAyNrXaJZm0",
        "outputId": "9032662e-d71c-4cbd-ceef-3b528ce2def8"
      },
      "outputs": [
        {
          "data": {
            "image/png": "[encoded data removed]",
            "text/plain": [
              "<Figure size 432x288 with 1 Axes>"
            ]
          },
          "metadata": {
            "needs_background": "light"
          },
          "output_type": "display_data"
        },
        {
          "name": "stdout",
          "output_type": "stream",
          "text": [
            "Mean :  0.186575\n",
            "Maximum Search :  0.2829551628374774\n",
            "Minimum Search :  0.09019483716252258\n"
          ]
        }
      ],
      "source": [
        "%matplotlib inline\n",
        "import pandas as pd\n",
        "import matplotlib.pyplot as plt\n",
        "import numpy as np\n",
        "\n",
        "n, p, s = 16, 0.1875, 10000\n",
        "df = pd.DataFrame(np.random.binomial(n,p,s)/n, columns=['p-hat'])\n",
        "\n",
        "# Plot the distribution as a histogram\n",
        "means = df['p-hat']\n",
        "means.plot.hist(title='Simulated Sampling Distribution')  \n",
        "plt.show()\n",
        "\n",
        "print('Mean : ', means.mean())\n",
        "print('Maximum Search : ', means.mean() + means.std())\n",
        "print('Minimum Search : ', means.mean() - means.std())"
      ]
    },
    {
      "cell_type": "code",
      "execution_count": 18,
      "metadata": {
        "colab": {
          "base_uri": "https://localhost:8080/",
          "height": 424
        },
        "id": "P69DxdsoJcYd",
        "outputId": "73923482-c63f-4869-ed6e-030ccf7a0453"
      },
      "outputs": [
        {
          "data": {
            "text/html": [
              "<div>\n",
              "<style scoped>\n",
              "    .dataframe tbody tr th:only-of-type {\n",
              "        vertical-align: middle;\n",
              "    }\n",
              "\n",
              "    .dataframe tbody tr th {\n",
              "        vertical-align: top;\n",
              "    }\n",
              "\n",
              "    .dataframe thead th {\n",
              "        text-align: right;\n",
              "    }\n",
              "</style>\n",
              "<table border=\"1\" class=\"dataframe\">\n",
              "  <thead>\n",
              "    <tr style=\"text-align: right;\">\n",
              "      <th></th>\n",
              "      <th>p-hat</th>\n",
              "    </tr>\n",
              "  </thead>\n",
              "  <tbody>\n",
              "    <tr>\n",
              "      <th>0</th>\n",
              "      <td>0.1875</td>\n",
              "    </tr>\n",
              "    <tr>\n",
              "      <th>1</th>\n",
              "      <td>0.0625</td>\n",
              "    </tr>\n",
              "    <tr>\n",
              "      <th>2</th>\n",
              "      <td>0.1250</td>\n",
              "    </tr>\n",
              "    <tr>\n",
              "      <th>3</th>\n",
              "      <td>0.0625</td>\n",
              "    </tr>\n",
              "    <tr>\n",
              "      <th>4</th>\n",
              "      <td>0.1250</td>\n",
              "    </tr>\n",
              "    <tr>\n",
              "      <th>...</th>\n",
              "      <td>...</td>\n",
              "    </tr>\n",
              "    <tr>\n",
              "      <th>9995</th>\n",
              "      <td>0.1250</td>\n",
              "    </tr>\n",
              "    <tr>\n",
              "      <th>9996</th>\n",
              "      <td>0.1875</td>\n",
              "    </tr>\n",
              "    <tr>\n",
              "      <th>9997</th>\n",
              "      <td>0.1875</td>\n",
              "    </tr>\n",
              "    <tr>\n",
              "      <th>9998</th>\n",
              "      <td>0.0000</td>\n",
              "    </tr>\n",
              "    <tr>\n",
              "      <th>9999</th>\n",
              "      <td>0.1250</td>\n",
              "    </tr>\n",
              "  </tbody>\n",
              "</table>\n",
              "<p>10000 rows × 1 columns</p>\n",
              "</div>"
            ],
            "text/plain": [
              "       p-hat\n",
              "0     0.1875\n",
              "1     0.0625\n",
              "2     0.1250\n",
              "3     0.0625\n",
              "4     0.1250\n",
              "...      ...\n",
              "9995  0.1250\n",
              "9996  0.1875\n",
              "9997  0.1875\n",
              "9998  0.0000\n",
              "9999  0.1250\n",
              "\n",
              "[10000 rows x 1 columns]"
            ]
          },
          "execution_count": 18,
          "metadata": {},
          "output_type": "execute_result"
        }
      ],
      "source": [
        "df"
      ]
    },
    {
      "cell_type": "markdown",
      "metadata": {
        "id": "SloLiA3UJZaN"
      },
      "source": [
        "## J.4. Mean and Standard Error of a Sampling Distribution of Proportion\n"
      ]
    },
    {
      "cell_type": "markdown",
      "metadata": {
        "id": "WyG4KlU1JgLr"
      },
      "source": [
        "The sampling distribution is created from the means of multiple samples, and its mean is therefore the mean of all the sample means. For a distribution of proportion means, this is considered to be the same as **p** (the population mean). In the case of our passenger search samples, this is 0.25.\n",
        "\n",
        "Because the sampling distribution is based on means, and not totals, its standard deviation is referred to as its *standard error*, and its formula is:\n",
        "\n",
        "$$\n",
        "\\begin{equation}\\sigma_{\\hat{p}} = \\sqrt{\\frac{p(1-p)}{n}}\\end{equation}\n",
        "$$\n",
        "\n",
        "In this formula, *n* is the size of each sample; and we divide by this to correct for the error introduced by the average values used in the sampling distribution. In this case, our samples were based on observing 16-passengers, so:\n",
        "\n",
        "$$\n",
        "\\begin{equation}\\sigma_{\\hat{p}} = \\sqrt{\\frac{0.25 \\times 0.75}{16}} \\approx 0.11\\end{equation}\n",
        "$$\n",
        "\n",
        "In our simulation of 100-passenger samples, the mean remains 0.25. The standard error is:\n",
        "\n",
        "$$\n",
        "\\begin{equation}\\sigma_{\\hat{p}} = \\sqrt{\\frac{0.25 \\times 0.75}{100}} \\approx 0.043\\end{equation}\n",
        "$$\n",
        "\n",
        "Note that the effect of the central limit theorem is that as you increase the number and/or size of samples, the mean remains constant but the amount of variance around it is reduced.\n",
        "\n",
        "Being able to calculate the mean (or *expected value*) and standard error is useful, because we can apply these to what we know about an approximately normal distribution to estimate probabilities for particular values. For example, we know that in a normal distribution, around 95.4% of the values are within two standard deviations of the mean. If we apply that to our sampling distribution of ten thousand 100-passenger samples, we can determine that the proportion of searched passengers in 95.4% of the samples was between 0.164 (16.4%) and 0.336 (36.6%).\n",
        "\n",
        "How do we know this?\n",
        "\n",
        "We know that the mean is ***0.25*** and the standard error (which is the same thing as the standard deviation for our sampling distribution) is ***0.043***. We also know that because this is a *normal* distribution, ***95.4%*** of the data lies within two standard deviations (so 2 x 0.043) of the mean, so the value for 95.4% of our samples is 0.25 &plusmn; (*plus or minus*) 0.086.\n",
        "\n",
        "The *plus or minus* value is known as the *margin of error*, and the range of values within it is known as a *confidence interval* - we'll look at these in more detail later. For now, run the following cell to see a visualization of this interval:"
      ]
    },
    {
      "cell_type": "code",
      "execution_count": 19,
      "metadata": {
        "colab": {
          "base_uri": "https://localhost:8080/",
          "height": 333
        },
        "id": "K0_xkzUkJi2W",
        "outputId": "e10742dc-b762-42ea-8059-39c69f083ffc"
      },
      "outputs": [
        {
          "data": {
            "image/png": "[encoded data removed]",
            "text/plain": [
              "<Figure size 432x288 with 1 Axes>"
            ]
          },
          "metadata": {
            "needs_background": "light"
          },
          "output_type": "display_data"
        },
        {
          "name": "stdout",
          "output_type": "stream",
          "text": [
            "Mean :  0.2503939999999988\n",
            "Minimum Search :  0.16489528621431787\n",
            "Maximum Search :  0.3358927137856797\n"
          ]
        }
      ],
      "source": [
        "%matplotlib inline\n",
        "import pandas as pd\n",
        "import matplotlib.pyplot as plt\n",
        "import numpy as np\n",
        "\n",
        "n, p, s = 100, 0.25, 10000\n",
        "df = pd.DataFrame(np.random.binomial(n,p,s)/n, columns=['p-hat'])\n",
        "\n",
        "# Plot the distribution as a histogram\n",
        "means = df['p-hat']\n",
        "m = means.mean()\n",
        "sd = means.std()\n",
        "moe1 = m - (sd * 2)\n",
        "moe2 = m + (sd * 2)\n",
        "\n",
        "\n",
        "means.plot.hist(title='Simulated Sampling Distribution')  \n",
        "\n",
        "plt.axvline(m, color='red', linestyle='dashed', linewidth=2)\n",
        "plt.axvline(moe1, color='magenta', linestyle='dashed', linewidth=2)\n",
        "plt.axvline(moe2, color='magenta', linestyle='dashed', linewidth=2)\n",
        "plt.show()\n",
        "\n",
        "print('Mean : ', m)\n",
        "print('Minimum Search : ', moe1)\n",
        "print('Maximum Search : ', moe2)"
      ]
    }
  ],
  "metadata": {
    "colab": {
      "collapsed_sections": [],
      "name": "P0W3D1PM - Probability & Distribution.ipynb",
      "provenance": [],
      "toc_visible": true
    },
    "kernelspec": {
      "display_name": "Python 3.9.12 ('base')",
      "language": "python",
      "name": "python3"
    },
    "language_info": {
      "codemirror_mode": {
        "name": "ipython",
        "version": 3
      },
      "file_extension": ".py",
      "mimetype": "text/x-python",
      "name": "python",
      "nbconvert_exporter": "python",
      "pygments_lexer": "ipython3",
      "version": "3.9.12"
    },
    "vscode": {
      "interpreter": {
        "hash": "3c49ca66e5c8d57ef998acbc4445fda8afa39543d611cccca4a6c099a23fcb0b"
      }
    }
  },
  "nbformat": 4,
  "nbformat_minor": 0
}
