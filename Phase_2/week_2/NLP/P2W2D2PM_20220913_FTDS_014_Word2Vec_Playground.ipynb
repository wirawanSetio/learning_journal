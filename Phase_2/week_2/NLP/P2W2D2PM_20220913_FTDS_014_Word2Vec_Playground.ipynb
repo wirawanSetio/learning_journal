{
  "nbformat": 4,
  "nbformat_minor": 0,
  "metadata": {
    "colab": {
      "provenance": [],
      "collapsed_sections": [
        "AR997pvRSntD",
        "q1rqdmCISuSp",
        "KBYxQbmrmod5"
      ]
    },
    "kernelspec": {
      "name": "python3",
      "display_name": "Python 3"
    },
    "language_info": {
      "name": "python"
    },
    "gpuClass": "standard"
  },
  "cells": [
    {
      "cell_type": "markdown",
      "source": [
        "# Word2Vec Playground"
      ],
      "metadata": {
        "id": "9kWr08N99U_d"
      }
    },
    {
      "cell_type": "markdown",
      "source": [
        "---\n",
        "## A. Connecting Google Colab with Google Drive"
      ],
      "metadata": {
        "id": "okOLJ8Yl3WDN"
      }
    },
    {
      "cell_type": "code",
      "metadata": {
        "id": "Ks-g5T3z4zwN",
        "outputId": "53eca244-0f61-4935-880b-46cf2f8dc9c8",
        "colab": {
          "base_uri": "https://localhost:8080/"
        }
      },
      "source": [
        "# Mount Google Drive into Google Colab\n",
        "\n",
        "from google.colab import drive\n",
        "drive.mount('/content/gdrive')"
      ],
      "execution_count": 1,
      "outputs": [
        {
          "output_type": "stream",
          "name": "stdout",
          "text": [
            "Mounted at /content/gdrive\n"
          ]
        }
      ]
    },
    {
      "cell_type": "code",
      "metadata": {
        "colab": {
          "base_uri": "https://localhost:8080/"
        },
        "id": "9sz2j8cQ5IeD",
        "outputId": "bd73af37-98f5-4c69-fc60-37792511a4d7"
      },
      "source": [
        "# Change Directory to `My Drive`\n",
        "\n",
        "%cd /content/gdrive/My Drive/"
      ],
      "execution_count": 2,
      "outputs": [
        {
          "output_type": "stream",
          "name": "stdout",
          "text": [
            "/content/gdrive/My Drive\n"
          ]
        }
      ]
    },
    {
      "cell_type": "code",
      "source": [
        "# Check Contents of Current Directory\n",
        "\n",
        "!ls"
      ],
      "metadata": {
        "colab": {
          "base_uri": "https://localhost:8080/"
        },
        "id": "at4vUfbu3Lsb",
        "outputId": "44ac1852-3277-4aa5-bb13-c752c881cc03"
      },
      "execution_count": 3,
      "outputs": [
        {
          "output_type": "stream",
          "name": "stdout",
          "text": [
            "'berserk panel'\t\t\t\t    lagu\n",
            " bq-results-20220721-082022-1658391867537  'medium article colab.gdoc'\n",
            "'Brainstorm sheet'\t\t\t    module\n",
            " categorical_encode.ipynb\t\t   'scrip word'\n",
            "'Colab Notebooks'\t\t\t    ss\n",
            " dka\t\t\t\t\t   'VIDEO reuni'\n",
            " edo\t\t\t\t\t    Visualizing_Data.pdf\n",
            "'Getting started.pdf'\t\t\t    word2vec_playground\n",
            " Gosemego\t\t\t\t   'worksheet kamis 2.docx'\n",
            "'Gunung abu2.png'\t\t\t   'Your big idea.gslides'\n",
            "'jual minuman edit'\n"
          ]
        }
      ]
    },
    {
      "cell_type": "markdown",
      "source": [
        "As you can see, there is a folder named `word2vec_playground` in our current directory. Let's change current directory to this directory."
      ],
      "metadata": {
        "id": "89lbwR_m3_Hp"
      }
    },
    {
      "cell_type": "code",
      "metadata": {
        "colab": {
          "base_uri": "https://localhost:8080/"
        },
        "id": "NDTTb0Yw5M7S",
        "outputId": "300ecf6f-e332-43dc-ef45-db21065210da"
      },
      "source": [
        "# Change Current Directory into `word2vec_playground`\n",
        "\n",
        "%cd word2vec_playground/"
      ],
      "execution_count": 4,
      "outputs": [
        {
          "output_type": "stream",
          "name": "stdout",
          "text": [
            "/content/gdrive/.shortcut-targets-by-id/1qMRdsa81cFUnNVoe7LtGreG5b9n-vebX/word2vec_playground\n"
          ]
        }
      ]
    },
    {
      "cell_type": "code",
      "source": [
        "# Check Contents of Current Directory\n",
        "\n",
        "!ls"
      ],
      "metadata": {
        "colab": {
          "base_uri": "https://localhost:8080/"
        },
        "id": "yhyhpsXp4j7H",
        "outputId": "b9044277-b050-4eba-9a73-c4358d67b2c7"
      },
      "execution_count": 5,
      "outputs": [
        {
          "output_type": "stream",
          "name": "stdout",
          "text": [
            "idwiki-latest-pages-articles.xml.bz2\t   w2vec_wiki_id_case.wv.vectors.npy\n",
            "w2vec_wiki_id_case\t\t\t   wiki.id.case.text\n",
            "w2vec_wiki_id_case.trainables.syn1neg.npy\n"
          ]
        }
      ]
    },
    {
      "cell_type": "markdown",
      "source": [
        "## B. Train Word2Vec"
      ],
      "metadata": {
        "id": "T5H4s9POSc_A"
      }
    },
    {
      "cell_type": "markdown",
      "source": [
        "**Notes : Do not run or uncomment section B2 and B3 unless you want train with your own version. This is because the processing time is too long.**"
      ],
      "metadata": {
        "id": "m3AcfuOFltsx"
      }
    },
    {
      "cell_type": "markdown",
      "source": [
        "---\n",
        "### B.1. Import Libraries"
      ],
      "metadata": {
        "id": "AR997pvRSntD"
      }
    },
    {
      "cell_type": "code",
      "metadata": {
        "id": "O6evRlJR4WmL"
      },
      "source": [
        "# Import Libraries\n",
        "\n",
        "import sys\n",
        "import multiprocessing\n",
        "import multiprocessing\n",
        "from gensim.models import Word2Vec\n",
        "from gensim.corpora import WikiCorpus\n",
        "from gensim.models.word2vec import LineSentence"
      ],
      "execution_count": 6,
      "outputs": []
    },
    {
      "cell_type": "markdown",
      "source": [
        "---\n",
        "### B.2 Download Dataset"
      ],
      "metadata": {
        "id": "q1rqdmCISuSp"
      }
    },
    {
      "cell_type": "code",
      "metadata": {
        "id": "VJgGU9Oz5PtT"
      },
      "source": [
        "# # Download Dataset from Wikipedia\n",
        "\n",
        "# !wget https://dumps.wikimedia.org/idwiki/latest/idwiki-latest-pages-articles.xml.bz2"
      ],
      "execution_count": null,
      "outputs": []
    },
    {
      "cell_type": "code",
      "metadata": {
        "id": "AGby9pYE55q-"
      },
      "source": [
        "# # Create Indexes to Make Processing Time Faster\n",
        "\n",
        "# namaFileInput = \"idwiki-latest-pages-articles.xml.bz2\"\n",
        "# namaFileOutput = \"wiki.id.case.text\"\n",
        " \n",
        "# space = \" \"\n",
        "# i = 0\n",
        "\n",
        "# output = open(namaFileOutput, 'w')\n",
        "\n",
        "# # `lower=False` indicates capital letter and lower letter is different.\n",
        "# wiki = WikiCorpus(namaFileInput, lemmatize=False, dictionary={}, lower=False)\n",
        "# for text in wiki.get_texts():\n",
        "#     output.write(' '.join(text) + '\\n')\n",
        "#     i = i + 1\n",
        "#     if i % 10000 == 0:\n",
        "#       print(f\"[INFO] Menyimpan {i} artikel\")\n",
        " \n",
        "# output.close()\n",
        "# print(f\"[INFO] Selesai menyimpan {i} artikel\")"
      ],
      "execution_count": null,
      "outputs": []
    },
    {
      "cell_type": "markdown",
      "source": [
        "---\n",
        "### B.3. Model Training"
      ],
      "metadata": {
        "id": "KBYxQbmrmod5"
      }
    },
    {
      "cell_type": "code",
      "metadata": {
        "id": "EQHzrla97SD1"
      },
      "source": [
        "# # Model Training\n",
        "# namaFileInput = \"wiki.id.case.text\"\n",
        "# namaFileOutput = \"w2vec_wiki_id_case\"\n",
        " \n",
        "# model = Word2Vec(LineSentence(namaFileInput), size=400, window=5, min_count=5, workers=multiprocessing.cpu_count())\n",
        " \n",
        "# # Trim Unneeded Model's Memory (Use Less RAM)\n",
        "# model.init_sims(replace=True)\n",
        "# model.save(namaFileOutput)"
      ],
      "execution_count": null,
      "outputs": []
    },
    {
      "cell_type": "markdown",
      "source": [
        "---\n",
        "### B.4. Load Model"
      ],
      "metadata": {
        "id": "tyklZlQvmzz5"
      }
    },
    {
      "cell_type": "code",
      "metadata": {
        "id": "s1YIbCh2Wuih"
      },
      "source": [
        "# Load Model\n",
        "\n",
        "model = Word2Vec.load(\"w2vec_wiki_id_case\")"
      ],
      "execution_count": 7,
      "outputs": []
    },
    {
      "cell_type": "markdown",
      "source": [
        "---\n",
        "### B.5. Time to Play"
      ],
      "metadata": {
        "id": "i400bvU8oR95"
      }
    },
    {
      "cell_type": "code",
      "source": [
        "# Get Similar Token of `Tokopedia`\n",
        "\n",
        "model.most_similar('jokowi')"
      ],
      "metadata": {
        "colab": {
          "base_uri": "https://localhost:8080/"
        },
        "id": "woFUO41U6ba7",
        "outputId": "0c926d5a-f53d-4f77-b716-fcbd6c8c7318"
      },
      "execution_count": 11,
      "outputs": [
        {
          "output_type": "stream",
          "name": "stderr",
          "text": [
            "/usr/local/lib/python3.7/dist-packages/ipykernel_launcher.py:3: DeprecationWarning: Call to deprecated `most_similar` (Method will be removed in 4.0.0, use self.wv.most_similar() instead).\n",
            "  This is separate from the ipykernel package so we can avoid doing imports until\n"
          ]
        },
        {
          "output_type": "execute_result",
          "data": {
            "text/plain": [
              "[('read', 0.5391004085540771),\n",
              " ('tribunnews', 0.46139049530029297),\n",
              " ('SBY', 0.4515082538127899),\n",
              " ('Rahmon', 0.44198837876319885),\n",
              " ('Ouattara', 0.4406764507293701),\n",
              " ('wajo', 0.439078152179718),\n",
              " ('okezone', 0.43721652030944824),\n",
              " ('https', 0.43032264709472656),\n",
              " ('Syaaf', 0.4300868511199951),\n",
              " ('Juscelino', 0.42696481943130493)]"
            ]
          },
          "metadata": {},
          "execution_count": 11
        }
      ]
    },
    {
      "cell_type": "code",
      "source": [
        "# Check Cosine Similarity between Vector `Tokopedia` and `Bukalapak`\n",
        "\n",
        "import numpy as np\n",
        "\n",
        "cos_theta = (model['Tokopedia'] @ model['Bukalapak']) / (np.linalg.norm(model['Tokopedia']) * np.linalg.norm(model['Bukalapak']))\n",
        "cos_theta"
      ],
      "metadata": {
        "colab": {
          "base_uri": "https://localhost:8080/"
        },
        "id": "6lS1REL67IlO",
        "outputId": "86f3585f-bc83-4f85-ea83-29964f9ae82d"
      },
      "execution_count": null,
      "outputs": [
        {
          "output_type": "stream",
          "name": "stderr",
          "text": [
            "/usr/local/lib/python3.7/dist-packages/ipykernel_launcher.py:5: DeprecationWarning: Call to deprecated `__getitem__` (Method will be removed in 4.0.0, use self.wv.__getitem__() instead).\n",
            "  \"\"\"\n"
          ]
        },
        {
          "output_type": "execute_result",
          "data": {
            "text/plain": [
              "0.73670906"
            ]
          },
          "metadata": {},
          "execution_count": 12
        }
      ]
    },
    {
      "cell_type": "code",
      "source": [
        "# Let's See The Contents of Vector of Token `Tokopedia`\n",
        "\n",
        "model['Tokopedia']"
      ],
      "metadata": {
        "colab": {
          "base_uri": "https://localhost:8080/"
        },
        "id": "13V5wRTQ68aa",
        "outputId": "e2db4ae4-9b9d-4ba3-b5dd-05a1e1a2c14f"
      },
      "execution_count": null,
      "outputs": [
        {
          "output_type": "stream",
          "name": "stderr",
          "text": [
            "/usr/local/lib/python3.7/dist-packages/ipykernel_launcher.py:3: DeprecationWarning: Call to deprecated `__getitem__` (Method will be removed in 4.0.0, use self.wv.__getitem__() instead).\n",
            "  This is separate from the ipykernel package so we can avoid doing imports until\n"
          ]
        },
        {
          "output_type": "execute_result",
          "data": {
            "text/plain": [
              "array([ 9.00443457e-03,  1.45850489e-02, -7.87879750e-02, -1.31162759e-02,\n",
              "        4.78977345e-05, -4.31722589e-02,  6.31988347e-02, -2.96517126e-02,\n",
              "        2.71022064e-03, -1.82417072e-02,  4.60361466e-02, -1.47621945e-01,\n",
              "       -4.03701998e-02, -3.77056375e-02,  1.29587809e-02, -1.94607507e-02,\n",
              "       -3.03088091e-02, -4.64091301e-02, -7.25956634e-02,  6.48254082e-02,\n",
              "        1.08534237e-02, -6.28829598e-02,  5.44111468e-02,  6.22295476e-02,\n",
              "       -3.66470851e-02, -4.57176007e-02, -2.91942079e-02,  4.04309332e-02,\n",
              "        1.11148609e-02, -1.31157920e-01,  1.35239167e-02, -7.88584352e-02,\n",
              "        2.88247112e-02, -6.00857055e-03,  5.01555428e-02,  4.67894934e-02,\n",
              "        5.03625209e-03,  1.49749247e-02, -4.23841812e-02, -3.67782786e-02,\n",
              "       -6.00131322e-03, -2.01001693e-03,  7.58787710e-03, -7.63489828e-02,\n",
              "       -1.24393888e-02,  3.72590497e-02,  2.37473771e-02, -4.23116656e-03,\n",
              "       -2.68356293e-03,  1.51119567e-02,  4.40602712e-02, -5.48925549e-02,\n",
              "       -6.33694679e-02, -6.74370378e-02, -2.91873403e-02, -2.36263238e-02,\n",
              "        6.16725497e-02, -2.37106681e-02, -9.11592692e-02,  4.45965491e-02,\n",
              "       -2.41677444e-02, -6.46675983e-03,  4.22218107e-02, -7.46588483e-02,\n",
              "        2.26591174e-02, -1.22059984e-02, -3.28494012e-02, -1.38493422e-02,\n",
              "        1.93278100e-02, -9.13223997e-02, -1.02772042e-01, -1.29212085e-02,\n",
              "        4.43034656e-02, -3.92755754e-02, -4.77593765e-02, -1.88367404e-02,\n",
              "       -1.62887499e-02, -8.74982122e-03, -1.57407075e-02, -2.99926978e-02,\n",
              "        1.84457097e-02, -3.11438814e-02,  7.46396780e-02,  1.16956487e-01,\n",
              "       -2.68103704e-02, -7.48945177e-02, -5.40947961e-03, -3.61602418e-02,\n",
              "        9.24853157e-05,  1.97681952e-02, -4.10253834e-03,  7.37210736e-02,\n",
              "        2.84103304e-02,  1.82326473e-02, -3.77818346e-02, -1.51800802e-02,\n",
              "       -4.37030615e-03,  6.22837991e-02,  9.99655798e-02, -5.89322951e-03,\n",
              "        6.38291165e-02,  8.30580946e-03,  8.02424699e-02, -4.24229801e-02,\n",
              "        1.50051294e-03, -3.80624272e-02,  1.40929352e-02, -4.63987514e-02,\n",
              "        7.89792538e-02, -7.07714856e-02,  1.25266939e-01, -5.76242507e-02,\n",
              "        6.84750602e-02,  3.40822265e-02,  4.88520116e-02, -9.24602076e-02,\n",
              "       -1.22170383e-02, -4.48981896e-02, -3.45580764e-02, -5.45719564e-02,\n",
              "        2.23511700e-02,  1.33904815e-02,  3.68197523e-02,  1.28049374e-01,\n",
              "       -7.29931146e-02,  6.54348731e-02,  6.54511526e-02,  3.32843363e-02,\n",
              "        1.98222753e-02, -2.38947105e-02,  2.44149510e-02,  1.75643694e-02,\n",
              "       -1.11508016e-02,  7.88166150e-02,  1.19316287e-03, -5.66190816e-02,\n",
              "        1.20505933e-02, -1.05649054e-01,  2.72468291e-02, -3.28393094e-02,\n",
              "       -1.72926560e-02,  6.74608424e-02, -6.70560524e-02,  9.61672813e-02,\n",
              "        2.39079334e-02, -2.22037639e-02, -2.04245318e-02, -2.47331765e-02,\n",
              "       -5.19251898e-02, -4.28525135e-02, -3.10851373e-02, -3.12188789e-02,\n",
              "        6.60322160e-02,  7.89818317e-02,  7.18463436e-02, -2.30167736e-03,\n",
              "        6.71212003e-03, -6.96079582e-02, -2.52501089e-02, -1.28430547e-02,\n",
              "       -8.69768951e-03, -5.26823215e-02, -4.59074182e-03, -6.34040013e-02,\n",
              "        3.12709957e-02,  7.99524933e-02, -8.07757080e-02, -4.63021966e-03,\n",
              "        5.38167730e-02,  7.94808418e-02,  2.48541106e-02,  3.68962926e-03,\n",
              "        6.28653690e-02, -6.92844912e-02, -3.66012715e-02, -6.38169330e-03,\n",
              "        4.42510378e-03, -7.13092759e-02,  4.87928465e-02,  2.45175995e-02,\n",
              "        2.13361960e-02, -1.87121350e-02,  9.42147244e-03, -4.13735807e-02,\n",
              "       -2.72789188e-02,  2.75726859e-02, -4.10494655e-02, -2.71844119e-02,\n",
              "        3.18936817e-02,  1.37011101e-02,  5.78608587e-02, -7.78668821e-02,\n",
              "        2.35395655e-02,  8.78934413e-02, -1.10282805e-02,  2.61577833e-02,\n",
              "       -4.09532972e-02, -7.15891793e-02, -8.78291018e-03, -3.85405831e-02,\n",
              "        2.21355399e-03, -3.45582664e-02, -2.32113469e-02, -3.14085558e-02,\n",
              "        9.56736952e-02, -4.06290181e-02, -2.41533685e-02, -4.89751063e-02,\n",
              "       -7.46690929e-02,  7.55062401e-02, -5.04217520e-02, -4.74506356e-02,\n",
              "        1.98623538e-02,  1.70837492e-02,  8.59237164e-02,  6.26850687e-03,\n",
              "       -8.79470911e-03,  2.73041390e-02, -9.54297036e-02,  6.75769001e-02,\n",
              "        5.22334352e-02, -4.99356501e-02, -7.33810291e-02, -3.86989079e-02,\n",
              "       -4.29587066e-02,  8.64841044e-02,  4.11377996e-02, -7.30313510e-02,\n",
              "       -7.21363351e-02,  2.03033965e-02,  8.21214076e-03, -2.73378342e-02,\n",
              "       -6.86152056e-02, -7.63119757e-02,  4.53298427e-02,  1.83317438e-02,\n",
              "       -8.28369632e-02, -4.35954295e-02,  9.70941857e-02,  4.46662456e-02,\n",
              "        3.31355073e-02,  2.87215109e-03,  4.47986089e-02, -6.86215982e-02,\n",
              "        1.01351198e-02, -9.14927647e-02, -8.12772289e-02, -1.58754010e-02,\n",
              "        3.66060734e-02, -6.13859948e-03, -2.19588950e-02, -1.44566130e-02,\n",
              "       -1.28334939e-01, -2.03095353e-03,  4.39633541e-02, -2.30644681e-02,\n",
              "        4.31665182e-02, -6.08406439e-02,  8.93197879e-02,  2.33888067e-03,\n",
              "        4.27738614e-02,  4.46532741e-02,  5.78502705e-03,  1.05572036e-02,\n",
              "       -5.45068830e-02,  2.97267525e-03,  9.51299630e-03,  2.05464978e-02,\n",
              "        9.36583951e-02,  1.47924162e-02, -2.77263615e-02,  2.74902973e-02,\n",
              "       -1.07572317e-01,  6.32513911e-02, -1.65706947e-02,  2.06723306e-02,\n",
              "       -2.18559783e-02,  9.33399573e-02,  9.46255103e-02, -1.78479217e-02,\n",
              "       -4.18773107e-02, -5.34749217e-03, -3.62020917e-02,  4.17281389e-02,\n",
              "        1.96068380e-02,  3.23746614e-02, -8.50168243e-02,  1.25213023e-02,\n",
              "       -3.28002535e-02, -1.40034594e-03, -2.08408237e-02,  3.38490419e-02,\n",
              "        1.89553238e-02,  1.50571600e-01, -1.14716748e-02,  6.23541512e-03,\n",
              "        5.34748510e-02,  4.32699434e-02, -1.82822696e-04, -5.77653423e-02,\n",
              "        1.21265598e-01,  1.35268763e-01,  1.50548583e-02,  4.67842370e-02,\n",
              "       -5.51965926e-03, -2.59651821e-02,  4.07459959e-03, -1.36259594e-03,\n",
              "        5.16502326e-03, -4.23572920e-02,  6.88473135e-03,  6.96540922e-02,\n",
              "       -1.08340994e-01,  9.06278379e-03, -1.22187790e-02, -3.65271196e-02,\n",
              "        4.90388870e-02, -8.23070556e-02,  3.67226638e-02,  8.51774588e-02,\n",
              "       -8.76759514e-02,  3.78497131e-02, -2.49899961e-02,  1.70535631e-02,\n",
              "       -1.28318546e-02,  3.23171802e-02, -6.03244938e-02,  2.00818330e-02,\n",
              "        3.71001959e-02, -3.18834782e-02,  2.74252929e-02,  2.55675539e-02,\n",
              "       -1.76480599e-02, -1.36763910e-02,  2.58655343e-02, -4.97446507e-02,\n",
              "       -1.60714071e-02, -7.62162656e-02, -6.24646135e-02, -2.16934402e-02,\n",
              "        3.59784141e-02,  1.96111798e-02, -3.18677947e-02, -3.25403661e-02,\n",
              "        2.09358353e-02, -2.59145480e-02,  3.54755670e-02, -8.32858589e-03,\n",
              "       -6.43232241e-02, -2.92692729e-03, -4.81006093e-02, -1.20500298e-02,\n",
              "       -2.05037426e-02,  6.37358427e-02,  2.04077102e-02,  7.64037371e-02,\n",
              "       -9.99455601e-02, -2.66250372e-02, -4.65287231e-02, -2.14909427e-02,\n",
              "       -9.62691661e-03,  3.29019278e-02,  9.00003538e-02,  5.44988587e-02,\n",
              "       -3.94361503e-02, -1.66948698e-02, -5.39443009e-02,  3.06138769e-02,\n",
              "        1.88252982e-02, -4.61136997e-02, -6.70117959e-02,  2.19361093e-02,\n",
              "       -1.00787161e-02,  4.24255058e-02,  4.31975946e-02,  4.65345904e-02,\n",
              "        3.20020271e-03,  4.26244363e-02, -4.84009422e-02,  8.80272239e-02,\n",
              "        1.42045820e-03,  2.13484932e-02, -1.88635755e-02, -5.95521182e-03,\n",
              "        3.07570770e-02,  9.54653844e-02,  2.22820826e-02,  2.37977393e-02,\n",
              "        7.09919631e-02,  1.02448836e-02, -3.38881742e-03, -6.49157017e-02,\n",
              "       -3.13970260e-02, -2.85424246e-03, -6.53733760e-02,  9.57088196e-05,\n",
              "       -3.64348516e-02,  1.38561521e-03, -1.04578339e-01, -6.41904622e-02],\n",
              "      dtype=float32)"
            ]
          },
          "metadata": {},
          "execution_count": 13
        }
      ]
    },
    {
      "cell_type": "code",
      "source": [
        "# Check Shape of Vector `Tokopedia`\n",
        "\n",
        "model['Tokopedia'].shape"
      ],
      "metadata": {
        "colab": {
          "base_uri": "https://localhost:8080/"
        },
        "id": "PKzxsJZdoEiN",
        "outputId": "0e2152fa-000b-45af-af2c-53016f9432d2"
      },
      "execution_count": 14,
      "outputs": [
        {
          "output_type": "stream",
          "name": "stderr",
          "text": [
            "/usr/local/lib/python3.7/dist-packages/ipykernel_launcher.py:3: DeprecationWarning: Call to deprecated `__getitem__` (Method will be removed in 4.0.0, use self.wv.__getitem__() instead).\n",
            "  This is separate from the ipykernel package so we can avoid doing imports until\n"
          ]
        },
        {
          "output_type": "execute_result",
          "data": {
            "text/plain": [
              "(400,)"
            ]
          },
          "metadata": {},
          "execution_count": 14
        }
      ]
    },
    {
      "cell_type": "code",
      "metadata": {
        "colab": {
          "base_uri": "https://localhost:8080/"
        },
        "id": "H8jFS4uep53Z",
        "outputId": "e19823ee-2fe0-43ac-c6ed-f9783c13c63c"
      },
      "source": [
        "# Get Top 5 Similar Token of `presiden`\n",
        "\n",
        "model.similar_by_word(\"Prabowo\", topn=5)"
      ],
      "execution_count": 13,
      "outputs": [
        {
          "output_type": "stream",
          "name": "stderr",
          "text": [
            "/usr/local/lib/python3.7/dist-packages/ipykernel_launcher.py:3: DeprecationWarning: Call to deprecated `similar_by_word` (Method will be removed in 4.0.0, use self.wv.similar_by_word() instead).\n",
            "  This is separate from the ipykernel package so we can avoid doing imports until\n"
          ]
        },
        {
          "output_type": "execute_result",
          "data": {
            "text/plain": [
              "[('Subianto', 0.8106536865234375),\n",
              " ('Wiranto', 0.6933884024620056),\n",
              " ('SBY', 0.6574969291687012),\n",
              " ('Jokowi', 0.6529462337493896),\n",
              " ('Edhy', 0.6227096915245056)]"
            ]
          },
          "metadata": {},
          "execution_count": 13
        }
      ]
    },
    {
      "cell_type": "markdown",
      "source": [
        "---\n",
        "### B.6. Visualization Vectors in 2D"
      ],
      "metadata": {
        "id": "wnYRE2bToX13"
      }
    },
    {
      "cell_type": "markdown",
      "source": [
        "Let's create visualization of vectors to see their similarities in 2D plot."
      ],
      "metadata": {
        "id": "uVjIHtpgoeFo"
      }
    },
    {
      "cell_type": "code",
      "metadata": {
        "id": "NbJdL2Wyq7ND"
      },
      "source": [
        "# Import Libraries\n",
        "\n",
        "import pandas as pd\n",
        "import seaborn as sns\n",
        "from sklearn.decomposition import PCA"
      ],
      "execution_count": 15,
      "outputs": []
    },
    {
      "cell_type": "code",
      "metadata": {
        "colab": {
          "base_uri": "https://localhost:8080/",
          "height": 417
        },
        "id": "1oQSlNERrLTg",
        "outputId": "1c383eed-2507-4e08-c2b3-422be4cbe84f"
      },
      "source": [
        "# Define the Tokens\n",
        "\n",
        "words = [\"pepaya\", \"pisang\", \"apel\", \"sosis\", \"Samsung\", \"Apple\", \"kucing\",\"gojek\"]\n",
        "word_vector = []\n",
        "for w in words:\n",
        "  word_vector.append(model[w])"
      ],
      "execution_count": 20,
      "outputs": [
        {
          "output_type": "stream",
          "name": "stderr",
          "text": [
            "/usr/local/lib/python3.7/dist-packages/ipykernel_launcher.py:6: DeprecationWarning: Call to deprecated `__getitem__` (Method will be removed in 4.0.0, use self.wv.__getitem__() instead).\n",
            "  \n"
          ]
        },
        {
          "output_type": "error",
          "ename": "KeyError",
          "evalue": "ignored",
          "traceback": [
            "\u001b[0;31m---------------------------------------------------------------------------\u001b[0m",
            "\u001b[0;31mKeyError\u001b[0m                                  Traceback (most recent call last)",
            "\u001b[0;32m<ipython-input-20-d7dcff55e845>\u001b[0m in \u001b[0;36m<module>\u001b[0;34m\u001b[0m\n\u001b[1;32m      4\u001b[0m \u001b[0mword_vector\u001b[0m \u001b[0;34m=\u001b[0m \u001b[0;34m[\u001b[0m\u001b[0;34m]\u001b[0m\u001b[0;34m\u001b[0m\u001b[0;34m\u001b[0m\u001b[0m\n\u001b[1;32m      5\u001b[0m \u001b[0;32mfor\u001b[0m \u001b[0mw\u001b[0m \u001b[0;32min\u001b[0m \u001b[0mwords\u001b[0m\u001b[0;34m:\u001b[0m\u001b[0;34m\u001b[0m\u001b[0;34m\u001b[0m\u001b[0m\n\u001b[0;32m----> 6\u001b[0;31m   \u001b[0mword_vector\u001b[0m\u001b[0;34m.\u001b[0m\u001b[0mappend\u001b[0m\u001b[0;34m(\u001b[0m\u001b[0mmodel\u001b[0m\u001b[0;34m[\u001b[0m\u001b[0mw\u001b[0m\u001b[0;34m]\u001b[0m\u001b[0;34m)\u001b[0m\u001b[0;34m\u001b[0m\u001b[0;34m\u001b[0m\u001b[0m\n\u001b[0m",
            "\u001b[0;32m/usr/local/lib/python3.7/dist-packages/gensim/utils.py\u001b[0m in \u001b[0;36mnew_func1\u001b[0;34m(*args, **kwargs)\u001b[0m\n\u001b[1;32m   1420\u001b[0m                     \u001b[0mstacklevel\u001b[0m\u001b[0;34m=\u001b[0m\u001b[0;36m2\u001b[0m\u001b[0;34m\u001b[0m\u001b[0;34m\u001b[0m\u001b[0m\n\u001b[1;32m   1421\u001b[0m                 )\n\u001b[0;32m-> 1422\u001b[0;31m                 \u001b[0;32mreturn\u001b[0m \u001b[0mfunc\u001b[0m\u001b[0;34m(\u001b[0m\u001b[0;34m*\u001b[0m\u001b[0margs\u001b[0m\u001b[0;34m,\u001b[0m \u001b[0;34m**\u001b[0m\u001b[0mkwargs\u001b[0m\u001b[0;34m)\u001b[0m\u001b[0;34m\u001b[0m\u001b[0;34m\u001b[0m\u001b[0m\n\u001b[0m\u001b[1;32m   1423\u001b[0m \u001b[0;34m\u001b[0m\u001b[0m\n\u001b[1;32m   1424\u001b[0m             \u001b[0;32mreturn\u001b[0m \u001b[0mnew_func1\u001b[0m\u001b[0;34m\u001b[0m\u001b[0;34m\u001b[0m\u001b[0m\n",
            "\u001b[0;32m/usr/local/lib/python3.7/dist-packages/gensim/models/word2vec.py\u001b[0m in \u001b[0;36m__getitem__\u001b[0;34m(self, words)\u001b[0m\n\u001b[1;32m   1101\u001b[0m \u001b[0;34m\u001b[0m\u001b[0m\n\u001b[1;32m   1102\u001b[0m         \"\"\"\n\u001b[0;32m-> 1103\u001b[0;31m         \u001b[0;32mreturn\u001b[0m \u001b[0mself\u001b[0m\u001b[0;34m.\u001b[0m\u001b[0mwv\u001b[0m\u001b[0;34m.\u001b[0m\u001b[0m__getitem__\u001b[0m\u001b[0;34m(\u001b[0m\u001b[0mwords\u001b[0m\u001b[0;34m)\u001b[0m\u001b[0;34m\u001b[0m\u001b[0;34m\u001b[0m\u001b[0m\n\u001b[0m\u001b[1;32m   1104\u001b[0m \u001b[0;34m\u001b[0m\u001b[0m\n\u001b[1;32m   1105\u001b[0m     \u001b[0;34m@\u001b[0m\u001b[0mdeprecated\u001b[0m\u001b[0;34m(\u001b[0m\u001b[0;34m\"Method will be removed in 4.0.0, use self.wv.__contains__() instead\"\u001b[0m\u001b[0;34m)\u001b[0m\u001b[0;34m\u001b[0m\u001b[0;34m\u001b[0m\u001b[0m\n",
            "\u001b[0;32m/usr/local/lib/python3.7/dist-packages/gensim/models/keyedvectors.py\u001b[0m in \u001b[0;36m__getitem__\u001b[0;34m(self, entities)\u001b[0m\n\u001b[1;32m    335\u001b[0m         \u001b[0;32mif\u001b[0m \u001b[0misinstance\u001b[0m\u001b[0;34m(\u001b[0m\u001b[0mentities\u001b[0m\u001b[0;34m,\u001b[0m \u001b[0mstring_types\u001b[0m\u001b[0;34m)\u001b[0m\u001b[0;34m:\u001b[0m\u001b[0;34m\u001b[0m\u001b[0;34m\u001b[0m\u001b[0m\n\u001b[1;32m    336\u001b[0m             \u001b[0;31m# allow calls like trained_model['office'], as a shorthand for trained_model[['office']]\u001b[0m\u001b[0;34m\u001b[0m\u001b[0;34m\u001b[0m\u001b[0;34m\u001b[0m\u001b[0m\n\u001b[0;32m--> 337\u001b[0;31m             \u001b[0;32mreturn\u001b[0m \u001b[0mself\u001b[0m\u001b[0;34m.\u001b[0m\u001b[0mget_vector\u001b[0m\u001b[0;34m(\u001b[0m\u001b[0mentities\u001b[0m\u001b[0;34m)\u001b[0m\u001b[0;34m\u001b[0m\u001b[0;34m\u001b[0m\u001b[0m\n\u001b[0m\u001b[1;32m    338\u001b[0m \u001b[0;34m\u001b[0m\u001b[0m\n\u001b[1;32m    339\u001b[0m         \u001b[0;32mreturn\u001b[0m \u001b[0mvstack\u001b[0m\u001b[0;34m(\u001b[0m\u001b[0;34m[\u001b[0m\u001b[0mself\u001b[0m\u001b[0;34m.\u001b[0m\u001b[0mget_vector\u001b[0m\u001b[0;34m(\u001b[0m\u001b[0mentity\u001b[0m\u001b[0;34m)\u001b[0m \u001b[0;32mfor\u001b[0m \u001b[0mentity\u001b[0m \u001b[0;32min\u001b[0m \u001b[0mentities\u001b[0m\u001b[0;34m]\u001b[0m\u001b[0;34m)\u001b[0m\u001b[0;34m\u001b[0m\u001b[0;34m\u001b[0m\u001b[0m\n",
            "\u001b[0;32m/usr/local/lib/python3.7/dist-packages/gensim/models/keyedvectors.py\u001b[0m in \u001b[0;36mget_vector\u001b[0;34m(self, word)\u001b[0m\n\u001b[1;32m    453\u001b[0m \u001b[0;34m\u001b[0m\u001b[0m\n\u001b[1;32m    454\u001b[0m     \u001b[0;32mdef\u001b[0m \u001b[0mget_vector\u001b[0m\u001b[0;34m(\u001b[0m\u001b[0mself\u001b[0m\u001b[0;34m,\u001b[0m \u001b[0mword\u001b[0m\u001b[0;34m)\u001b[0m\u001b[0;34m:\u001b[0m\u001b[0;34m\u001b[0m\u001b[0;34m\u001b[0m\u001b[0m\n\u001b[0;32m--> 455\u001b[0;31m         \u001b[0;32mreturn\u001b[0m \u001b[0mself\u001b[0m\u001b[0;34m.\u001b[0m\u001b[0mword_vec\u001b[0m\u001b[0;34m(\u001b[0m\u001b[0mword\u001b[0m\u001b[0;34m)\u001b[0m\u001b[0;34m\u001b[0m\u001b[0;34m\u001b[0m\u001b[0m\n\u001b[0m\u001b[1;32m    456\u001b[0m \u001b[0;34m\u001b[0m\u001b[0m\n\u001b[1;32m    457\u001b[0m     \u001b[0;32mdef\u001b[0m \u001b[0mwords_closer_than\u001b[0m\u001b[0;34m(\u001b[0m\u001b[0mself\u001b[0m\u001b[0;34m,\u001b[0m \u001b[0mw1\u001b[0m\u001b[0;34m,\u001b[0m \u001b[0mw2\u001b[0m\u001b[0;34m)\u001b[0m\u001b[0;34m:\u001b[0m\u001b[0;34m\u001b[0m\u001b[0;34m\u001b[0m\u001b[0m\n",
            "\u001b[0;32m/usr/local/lib/python3.7/dist-packages/gensim/models/keyedvectors.py\u001b[0m in \u001b[0;36mword_vec\u001b[0;34m(self, word, use_norm)\u001b[0m\n\u001b[1;32m    450\u001b[0m             \u001b[0;32mreturn\u001b[0m \u001b[0mresult\u001b[0m\u001b[0;34m\u001b[0m\u001b[0;34m\u001b[0m\u001b[0m\n\u001b[1;32m    451\u001b[0m         \u001b[0;32melse\u001b[0m\u001b[0;34m:\u001b[0m\u001b[0;34m\u001b[0m\u001b[0;34m\u001b[0m\u001b[0m\n\u001b[0;32m--> 452\u001b[0;31m             \u001b[0;32mraise\u001b[0m \u001b[0mKeyError\u001b[0m\u001b[0;34m(\u001b[0m\u001b[0;34m\"word '%s' not in vocabulary\"\u001b[0m \u001b[0;34m%\u001b[0m \u001b[0mword\u001b[0m\u001b[0;34m)\u001b[0m\u001b[0;34m\u001b[0m\u001b[0;34m\u001b[0m\u001b[0m\n\u001b[0m\u001b[1;32m    453\u001b[0m \u001b[0;34m\u001b[0m\u001b[0m\n\u001b[1;32m    454\u001b[0m     \u001b[0;32mdef\u001b[0m \u001b[0mget_vector\u001b[0m\u001b[0;34m(\u001b[0m\u001b[0mself\u001b[0m\u001b[0;34m,\u001b[0m \u001b[0mword\u001b[0m\u001b[0;34m)\u001b[0m\u001b[0;34m:\u001b[0m\u001b[0;34m\u001b[0m\u001b[0;34m\u001b[0m\u001b[0m\n",
            "\u001b[0;31mKeyError\u001b[0m: \"word 'gojek' not in vocabulary\""
          ]
        }
      ]
    },
    {
      "cell_type": "code",
      "metadata": {
        "id": "3Yp82PiKrkW_",
        "colab": {
          "base_uri": "https://localhost:8080/",
          "height": 269
        },
        "outputId": "b23b2b0c-dacd-47f6-f5e2-4c483aeabeec"
      },
      "source": [
        "# Reduce The Dimensions using PCA\n",
        "\n",
        "pca = PCA(n_components=2)\n",
        "word_red = pca.fit_transform(word_vector)\n",
        "word_red = pd.DataFrame(word_red)\n",
        "word_red['label'] = words\n",
        "word_red"
      ],
      "execution_count": 17,
      "outputs": [
        {
          "output_type": "execute_result",
          "data": {
            "text/plain": [
              "          0         1    label\n",
              "0 -0.428763 -0.236764   pepaya\n",
              "1 -0.401551 -0.327520   pisang\n",
              "2 -0.338244 -0.036815     apel\n",
              "3 -0.304800  0.092840    sosis\n",
              "4  0.736070 -0.206758  Samsung\n",
              "5  0.730553 -0.096452    Apple\n",
              "6  0.006735  0.811470   kucing"
            ],
            "text/html": [
              "\n",
              "  <div id=\"df-3b65a6f3-3236-4ec7-8a5b-977bd0ee51c2\">\n",
              "    <div class=\"colab-df-container\">\n",
              "      <div>\n",
              "<style scoped>\n",
              "    .dataframe tbody tr th:only-of-type {\n",
              "        vertical-align: middle;\n",
              "    }\n",
              "\n",
              "    .dataframe tbody tr th {\n",
              "        vertical-align: top;\n",
              "    }\n",
              "\n",
              "    .dataframe thead th {\n",
              "        text-align: right;\n",
              "    }\n",
              "</style>\n",
              "<table border=\"1\" class=\"dataframe\">\n",
              "  <thead>\n",
              "    <tr style=\"text-align: right;\">\n",
              "      <th></th>\n",
              "      <th>0</th>\n",
              "      <th>1</th>\n",
              "      <th>label</th>\n",
              "    </tr>\n",
              "  </thead>\n",
              "  <tbody>\n",
              "    <tr>\n",
              "      <th>0</th>\n",
              "      <td>-0.428763</td>\n",
              "      <td>-0.236764</td>\n",
              "      <td>pepaya</td>\n",
              "    </tr>\n",
              "    <tr>\n",
              "      <th>1</th>\n",
              "      <td>-0.401551</td>\n",
              "      <td>-0.327520</td>\n",
              "      <td>pisang</td>\n",
              "    </tr>\n",
              "    <tr>\n",
              "      <th>2</th>\n",
              "      <td>-0.338244</td>\n",
              "      <td>-0.036815</td>\n",
              "      <td>apel</td>\n",
              "    </tr>\n",
              "    <tr>\n",
              "      <th>3</th>\n",
              "      <td>-0.304800</td>\n",
              "      <td>0.092840</td>\n",
              "      <td>sosis</td>\n",
              "    </tr>\n",
              "    <tr>\n",
              "      <th>4</th>\n",
              "      <td>0.736070</td>\n",
              "      <td>-0.206758</td>\n",
              "      <td>Samsung</td>\n",
              "    </tr>\n",
              "    <tr>\n",
              "      <th>5</th>\n",
              "      <td>0.730553</td>\n",
              "      <td>-0.096452</td>\n",
              "      <td>Apple</td>\n",
              "    </tr>\n",
              "    <tr>\n",
              "      <th>6</th>\n",
              "      <td>0.006735</td>\n",
              "      <td>0.811470</td>\n",
              "      <td>kucing</td>\n",
              "    </tr>\n",
              "  </tbody>\n",
              "</table>\n",
              "</div>\n",
              "      <button class=\"colab-df-convert\" onclick=\"convertToInteractive('df-3b65a6f3-3236-4ec7-8a5b-977bd0ee51c2')\"\n",
              "              title=\"Convert this dataframe to an interactive table.\"\n",
              "              style=\"display:none;\">\n",
              "        \n",
              "  <svg xmlns=\"http://www.w3.org/2000/svg\" height=\"24px\"viewBox=\"0 0 24 24\"\n",
              "       width=\"24px\">\n",
              "    <path d=\"M0 0h24v24H0V0z\" fill=\"none\"/>\n",
              "    <path d=\"M18.56 5.44l.94 2.06.94-2.06 2.06-.94-2.06-.94-.94-2.06-.94 2.06-2.06.94zm-11 1L8.5 8.5l.94-2.06 2.06-.94-2.06-.94L8.5 2.5l-.94 2.06-2.06.94zm10 10l.94 2.06.94-2.06 2.06-.94-2.06-.94-.94-2.06-.94 2.06-2.06.94z\"/><path d=\"M17.41 7.96l-1.37-1.37c-.4-.4-.92-.59-1.43-.59-.52 0-1.04.2-1.43.59L10.3 9.45l-7.72 7.72c-.78.78-.78 2.05 0 2.83L4 21.41c.39.39.9.59 1.41.59.51 0 1.02-.2 1.41-.59l7.78-7.78 2.81-2.81c.8-.78.8-2.07 0-2.86zM5.41 20L4 18.59l7.72-7.72 1.47 1.35L5.41 20z\"/>\n",
              "  </svg>\n",
              "      </button>\n",
              "      \n",
              "  <style>\n",
              "    .colab-df-container {\n",
              "      display:flex;\n",
              "      flex-wrap:wrap;\n",
              "      gap: 12px;\n",
              "    }\n",
              "\n",
              "    .colab-df-convert {\n",
              "      background-color: #E8F0FE;\n",
              "      border: none;\n",
              "      border-radius: 50%;\n",
              "      cursor: pointer;\n",
              "      display: none;\n",
              "      fill: #1967D2;\n",
              "      height: 32px;\n",
              "      padding: 0 0 0 0;\n",
              "      width: 32px;\n",
              "    }\n",
              "\n",
              "    .colab-df-convert:hover {\n",
              "      background-color: #E2EBFA;\n",
              "      box-shadow: 0px 1px 2px rgba(60, 64, 67, 0.3), 0px 1px 3px 1px rgba(60, 64, 67, 0.15);\n",
              "      fill: #174EA6;\n",
              "    }\n",
              "\n",
              "    [theme=dark] .colab-df-convert {\n",
              "      background-color: #3B4455;\n",
              "      fill: #D2E3FC;\n",
              "    }\n",
              "\n",
              "    [theme=dark] .colab-df-convert:hover {\n",
              "      background-color: #434B5C;\n",
              "      box-shadow: 0px 1px 3px 1px rgba(0, 0, 0, 0.15);\n",
              "      filter: drop-shadow(0px 1px 2px rgba(0, 0, 0, 0.3));\n",
              "      fill: #FFFFFF;\n",
              "    }\n",
              "  </style>\n",
              "\n",
              "      <script>\n",
              "        const buttonEl =\n",
              "          document.querySelector('#df-3b65a6f3-3236-4ec7-8a5b-977bd0ee51c2 button.colab-df-convert');\n",
              "        buttonEl.style.display =\n",
              "          google.colab.kernel.accessAllowed ? 'block' : 'none';\n",
              "\n",
              "        async function convertToInteractive(key) {\n",
              "          const element = document.querySelector('#df-3b65a6f3-3236-4ec7-8a5b-977bd0ee51c2');\n",
              "          const dataTable =\n",
              "            await google.colab.kernel.invokeFunction('convertToInteractive',\n",
              "                                                     [key], {});\n",
              "          if (!dataTable) return;\n",
              "\n",
              "          const docLinkHtml = 'Like what you see? Visit the ' +\n",
              "            '<a target=\"_blank\" href=https://colab.research.google.com/notebooks/data_table.ipynb>data table notebook</a>'\n",
              "            + ' to learn more about interactive tables.';\n",
              "          element.innerHTML = '';\n",
              "          dataTable['output_type'] = 'display_data';\n",
              "          await google.colab.output.renderOutput(dataTable, element);\n",
              "          const docLink = document.createElement('div');\n",
              "          docLink.innerHTML = docLinkHtml;\n",
              "          element.appendChild(docLink);\n",
              "        }\n",
              "      </script>\n",
              "    </div>\n",
              "  </div>\n",
              "  "
            ]
          },
          "metadata": {},
          "execution_count": 17
        }
      ]
    },
    {
      "cell_type": "code",
      "metadata": {
        "colab": {
          "base_uri": "https://localhost:8080/",
          "height": 354
        },
        "id": "5H-CNzGqrzpY",
        "outputId": "4c36a80e-bf62-470e-c0e0-9a2a5de8036c"
      },
      "source": [
        "# Visualiza the Vectors\n",
        "\n",
        "sns.set(rc = {'figure.figsize':(15,8)})\n",
        "sns.scatterplot(data=word_red, x=0, y=1, hue='label', s=200);"
      ],
      "execution_count": 18,
      "outputs": [
        {
          "output_type": "display_data",
          "data": {
            "text/plain": [
              "<Figure size 1080x576 with 1 Axes>"
            ],
            "image/png": "[encoded data removed]"
          },
          "metadata": {}
        }
      ]
    }
  ]
}