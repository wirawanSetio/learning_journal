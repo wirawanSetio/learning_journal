{
  "cells": [
    {
      "cell_type": "markdown",
      "source": [
        "# P2W2D2PM - Natural Language Processing - Part 2"
      ],
      "metadata": {
        "id": "lt1kjGJPT7jg"
      }
    },
    {
      "cell_type": "markdown",
      "source": [
        "---\n",
        "## Import Libraries"
      ],
      "metadata": {
        "id": "HcAjWmRgUEpK"
      }
    },
    {
      "cell_type": "code",
      "execution_count": null,
      "metadata": {
        "colab": {
          "base_uri": "https://localhost:8080/"
        },
        "id": "dk1Bl2tHRhKJ",
        "outputId": "827083e8-1f27-442e-92c8-186e5af8a79d"
      },
      "outputs": [
        {
          "output_type": "stream",
          "name": "stderr",
          "text": [
            "[nltk_data] Downloading package stopwords to /root/nltk_data...\n",
            "[nltk_data]   Unzipping corpora/stopwords.zip.\n",
            "[nltk_data] Downloading package punkt to /root/nltk_data...\n",
            "[nltk_data]   Unzipping tokenizers/punkt.zip.\n"
          ]
        },
        {
          "output_type": "stream",
          "name": "stdout",
          "text": [
            "Looking in indexes: https://pypi.org/simple, https://us-python.pkg.dev/colab-wheels/public/simple/\n",
            "Collecting pysastrawi\n",
            "  Downloading PySastrawi-1.2.0-py2.py3-none-any.whl (210 kB)\n",
            "\u001b[K     |████████████████████████████████| 210 kB 32.9 MB/s \n",
            "\u001b[?25hInstalling collected packages: pysastrawi\n",
            "Successfully installed pysastrawi-1.2.0\n"
          ]
        }
      ],
      "source": [
        "# Import Libraries\n",
        "\n",
        "import nltk\n",
        "import pandas as pd\n",
        "import matplotlib.pyplot as plt\n",
        "import numpy as np\n",
        "\n",
        "nltk.download('stopwords')\n",
        "nltk.download('punkt')\n",
        "!pip install pysastrawi"
      ]
    },
    {
      "cell_type": "code",
      "execution_count": null,
      "metadata": {
        "colab": {
          "base_uri": "https://localhost:8080/",
          "height": 206
        },
        "id": "aXYXmO_bWvAg",
        "outputId": "e3476645-176f-4d19-8842-4573c835f9c0"
      },
      "outputs": [
        {
          "output_type": "execute_result",
          "data": {
            "text/plain": [
              "     sentimen                                               text\n",
              "0  |positive|  |@PrincessSuperC Hai Cici tersayang! Cuma mau ...\n",
              "1  |positive|  |@Msdebramaye Saya mendengar tentang kontes it...\n",
              "2  |positive|  |UNC!!! Pemenang NCAA!! Franklin St.: I ADA DI...\n",
              "3  |positive|  |@DivHumas_Polri: Hoax dan Ujaran Kebencian da...\n",
              "4  |positive|  |@DivHumas_Polri: Polri : Reuni 212 Berjalan K..."
            ],
            "text/html": [
              "\n",
              "  <div id=\"df-b69de936-910d-4c2a-93de-b5f739cc5188\">\n",
              "    <div class=\"colab-df-container\">\n",
              "      <div>\n",
              "<style scoped>\n",
              "    .dataframe tbody tr th:only-of-type {\n",
              "        vertical-align: middle;\n",
              "    }\n",
              "\n",
              "    .dataframe tbody tr th {\n",
              "        vertical-align: top;\n",
              "    }\n",
              "\n",
              "    .dataframe thead th {\n",
              "        text-align: right;\n",
              "    }\n",
              "</style>\n",
              "<table border=\"1\" class=\"dataframe\">\n",
              "  <thead>\n",
              "    <tr style=\"text-align: right;\">\n",
              "      <th></th>\n",
              "      <th>sentimen</th>\n",
              "      <th>text</th>\n",
              "    </tr>\n",
              "  </thead>\n",
              "  <tbody>\n",
              "    <tr>\n",
              "      <th>0</th>\n",
              "      <td>|positive|</td>\n",
              "      <td>|@PrincessSuperC Hai Cici tersayang! Cuma mau ...</td>\n",
              "    </tr>\n",
              "    <tr>\n",
              "      <th>1</th>\n",
              "      <td>|positive|</td>\n",
              "      <td>|@Msdebramaye Saya mendengar tentang kontes it...</td>\n",
              "    </tr>\n",
              "    <tr>\n",
              "      <th>2</th>\n",
              "      <td>|positive|</td>\n",
              "      <td>|UNC!!! Pemenang NCAA!! Franklin St.: I ADA DI...</td>\n",
              "    </tr>\n",
              "    <tr>\n",
              "      <th>3</th>\n",
              "      <td>|positive|</td>\n",
              "      <td>|@DivHumas_Polri: Hoax dan Ujaran Kebencian da...</td>\n",
              "    </tr>\n",
              "    <tr>\n",
              "      <th>4</th>\n",
              "      <td>|positive|</td>\n",
              "      <td>|@DivHumas_Polri: Polri : Reuni 212 Berjalan K...</td>\n",
              "    </tr>\n",
              "  </tbody>\n",
              "</table>\n",
              "</div>\n",
              "      <button class=\"colab-df-convert\" onclick=\"convertToInteractive('df-b69de936-910d-4c2a-93de-b5f739cc5188')\"\n",
              "              title=\"Convert this dataframe to an interactive table.\"\n",
              "              style=\"display:none;\">\n",
              "        \n",
              "  <svg xmlns=\"http://www.w3.org/2000/svg\" height=\"24px\"viewBox=\"0 0 24 24\"\n",
              "       width=\"24px\">\n",
              "    <path d=\"M0 0h24v24H0V0z\" fill=\"none\"/>\n",
              "    <path d=\"M18.56 5.44l.94 2.06.94-2.06 2.06-.94-2.06-.94-.94-2.06-.94 2.06-2.06.94zm-11 1L8.5 8.5l.94-2.06 2.06-.94-2.06-.94L8.5 2.5l-.94 2.06-2.06.94zm10 10l.94 2.06.94-2.06 2.06-.94-2.06-.94-.94-2.06-.94 2.06-2.06.94z\"/><path d=\"M17.41 7.96l-1.37-1.37c-.4-.4-.92-.59-1.43-.59-.52 0-1.04.2-1.43.59L10.3 9.45l-7.72 7.72c-.78.78-.78 2.05 0 2.83L4 21.41c.39.39.9.59 1.41.59.51 0 1.02-.2 1.41-.59l7.78-7.78 2.81-2.81c.8-.78.8-2.07 0-2.86zM5.41 20L4 18.59l7.72-7.72 1.47 1.35L5.41 20z\"/>\n",
              "  </svg>\n",
              "      </button>\n",
              "      \n",
              "  <style>\n",
              "    .colab-df-container {\n",
              "      display:flex;\n",
              "      flex-wrap:wrap;\n",
              "      gap: 12px;\n",
              "    }\n",
              "\n",
              "    .colab-df-convert {\n",
              "      background-color: #E8F0FE;\n",
              "      border: none;\n",
              "      border-radius: 50%;\n",
              "      cursor: pointer;\n",
              "      display: none;\n",
              "      fill: #1967D2;\n",
              "      height: 32px;\n",
              "      padding: 0 0 0 0;\n",
              "      width: 32px;\n",
              "    }\n",
              "\n",
              "    .colab-df-convert:hover {\n",
              "      background-color: #E2EBFA;\n",
              "      box-shadow: 0px 1px 2px rgba(60, 64, 67, 0.3), 0px 1px 3px 1px rgba(60, 64, 67, 0.15);\n",
              "      fill: #174EA6;\n",
              "    }\n",
              "\n",
              "    [theme=dark] .colab-df-convert {\n",
              "      background-color: #3B4455;\n",
              "      fill: #D2E3FC;\n",
              "    }\n",
              "\n",
              "    [theme=dark] .colab-df-convert:hover {\n",
              "      background-color: #434B5C;\n",
              "      box-shadow: 0px 1px 3px 1px rgba(0, 0, 0, 0.15);\n",
              "      filter: drop-shadow(0px 1px 2px rgba(0, 0, 0, 0.3));\n",
              "      fill: #FFFFFF;\n",
              "    }\n",
              "  </style>\n",
              "\n",
              "      <script>\n",
              "        const buttonEl =\n",
              "          document.querySelector('#df-b69de936-910d-4c2a-93de-b5f739cc5188 button.colab-df-convert');\n",
              "        buttonEl.style.display =\n",
              "          google.colab.kernel.accessAllowed ? 'block' : 'none';\n",
              "\n",
              "        async function convertToInteractive(key) {\n",
              "          const element = document.querySelector('#df-b69de936-910d-4c2a-93de-b5f739cc5188');\n",
              "          const dataTable =\n",
              "            await google.colab.kernel.invokeFunction('convertToInteractive',\n",
              "                                                     [key], {});\n",
              "          if (!dataTable) return;\n",
              "\n",
              "          const docLinkHtml = 'Like what you see? Visit the ' +\n",
              "            '<a target=\"_blank\" href=https://colab.research.google.com/notebooks/data_table.ipynb>data table notebook</a>'\n",
              "            + ' to learn more about interactive tables.';\n",
              "          element.innerHTML = '';\n",
              "          dataTable['output_type'] = 'display_data';\n",
              "          await google.colab.output.renderOutput(dataTable, element);\n",
              "          const docLink = document.createElement('div');\n",
              "          docLink.innerHTML = docLinkHtml;\n",
              "          element.appendChild(docLink);\n",
              "        }\n",
              "      </script>\n",
              "    </div>\n",
              "  </div>\n",
              "  "
            ]
          },
          "metadata": {},
          "execution_count": 2
        }
      ],
      "source": [
        "# Data Loading\n",
        "\n",
        "data = pd.read_csv(\"https://raw.githubusercontent.com/IanNarsa/sentiment-analysis/master/data/testSentimen.csv\",header=None).rename({0:'sentimen',1:'text'},axis=1)\n",
        "data.head()"
      ]
    },
    {
      "cell_type": "markdown",
      "metadata": {
        "id": "UbOU7Zh_RmXK"
      },
      "source": [
        "## Text Preprocessing"
      ]
    },
    {
      "cell_type": "markdown",
      "metadata": {
        "id": "LnkGfAvlYKG0"
      },
      "source": [
        "---\n",
        "### Preprocessing - Single Document\n",
        "\n",
        "- Ubah teks ke lowercase\n",
        "- Menghilangkan tanda baca\n",
        "- Menghilangkan karakter yang tidak diperlukan\n",
        "- Menghilangkan stopwords\n",
        "- Stemming"
      ]
    },
    {
      "cell_type": "code",
      "execution_count": null,
      "metadata": {
        "colab": {
          "base_uri": "https://localhost:8080/"
        },
        "id": "pC_hTb5sXKay",
        "outputId": "17f8c2ad-58fa-4022-eccb-07efd1f9477a"
      },
      "outputs": [
        {
          "output_type": "stream",
          "name": "stdout",
          "text": [
            "|@PrincessSuperC Hai Cici tersayang! Cuma mau memberitaukan kalau saya cinta kamu! OH! Dan akan berkunjung secepatnya? Fantasi berkendari 5 Mei!!!!|\n"
          ]
        }
      ],
      "source": [
        "# Melihat Teks Pertama\n",
        "\n",
        "print(data.text[0])"
      ]
    },
    {
      "cell_type": "code",
      "execution_count": null,
      "metadata": {
        "colab": {
          "base_uri": "https://localhost:8080/",
          "height": 53
        },
        "id": "qLob-5tpZMR_",
        "outputId": "cd05251d-7bb0-4f30-c9bb-143fb27ceaa5"
      },
      "outputs": [
        {
          "output_type": "execute_result",
          "data": {
            "text/plain": [
              "'|@princesssuperc hai cici tersayang! cuma mau memberitaukan kalau saya cinta kamu! oh! dan akan berkunjung secepatnya? fantasi berkendari 5 mei!!!!|'"
            ],
            "application/vnd.google.colaboratory.intrinsic+json": {
              "type": "string"
            }
          },
          "metadata": {},
          "execution_count": 4
        }
      ],
      "source": [
        "# Ubah teks ke lowercase\n",
        "\n",
        "teks = data.text[0]\n",
        "teks_lower = teks.lower()\n",
        "teks_lower"
      ]
    },
    {
      "cell_type": "code",
      "execution_count": null,
      "metadata": {
        "colab": {
          "base_uri": "https://localhost:8080/",
          "height": 53
        },
        "id": "vLlefGWcaMmL",
        "outputId": "bb99b635-3609-4b00-d405-da0395e5cd8c"
      },
      "outputs": [
        {
          "output_type": "execute_result",
          "data": {
            "text/plain": [
              "'princesssuperc hai cici tersayang cuma mau memberitaukan kalau saya cinta kamu oh dan akan berkunjung secepatnya fantasi berkendari 5 mei'"
            ],
            "application/vnd.google.colaboratory.intrinsic+json": {
              "type": "string"
            }
          },
          "metadata": {},
          "execution_count": 5
        }
      ],
      "source": [
        "# Menghilangkan Tanda Baca\n",
        "\n",
        "import string\n",
        "\n",
        "teks_punc = teks_lower.translate(str.maketrans(\"\",\"\",string.punctuation))\n",
        "teks_punc"
      ]
    },
    {
      "cell_type": "code",
      "source": [
        "# Melihat Jenis-Jenis Tanda Baca yang Dihilangkan\n",
        "\n",
        "string.punctuation"
      ],
      "metadata": {
        "colab": {
          "base_uri": "https://localhost:8080/",
          "height": 36
        },
        "id": "7UEoRKKcWces",
        "outputId": "efd1d9fd-6c45-4829-fcb8-0dd849965b27"
      },
      "execution_count": null,
      "outputs": [
        {
          "output_type": "execute_result",
          "data": {
            "text/plain": [
              "'!\"#$%&\\'()*+,-./:;<=>?@[\\\\]^_`{|}~'"
            ],
            "application/vnd.google.colaboratory.intrinsic+json": {
              "type": "string"
            }
          },
          "metadata": {},
          "execution_count": 6
        }
      ]
    },
    {
      "cell_type": "code",
      "source": [
        "teks_lower"
      ],
      "metadata": {
        "colab": {
          "base_uri": "https://localhost:8080/",
          "height": 53
        },
        "id": "Ff1l7E-B0lcm",
        "outputId": "cd8dec22-01cc-42a7-b1f3-987de0678e7a"
      },
      "execution_count": null,
      "outputs": [
        {
          "output_type": "execute_result",
          "data": {
            "text/plain": [
              "'|@princesssuperc hai cici tersayang! cuma mau memberitaukan kalau saya cinta kamu! oh! dan akan berkunjung secepatnya? fantasi berkendari 5 mei!!!!|'"
            ],
            "application/vnd.google.colaboratory.intrinsic+json": {
              "type": "string"
            }
          },
          "metadata": {},
          "execution_count": 8
        }
      ]
    },
    {
      "cell_type": "code",
      "execution_count": null,
      "metadata": {
        "colab": {
          "base_uri": "https://localhost:8080/",
          "height": 36
        },
        "id": "4aFhHT_Idyu0",
        "outputId": "d44b3ed2-125b-46ab-8bd4-a70d656c57d8"
      },
      "outputs": [
        {
          "output_type": "execute_result",
          "data": {
            "text/plain": [
              "'hai cici tersayang cuma mau memberitaukan kalau saya cinta kamu oh dan akan berkunjung secepatnya fantasi berkendari mei'"
            ],
            "application/vnd.google.colaboratory.intrinsic+json": {
              "type": "string"
            }
          },
          "metadata": {},
          "execution_count": 7
        }
      ],
      "source": [
        "# Preprocessing Lain\n",
        "\n",
        "import re\n",
        "\n",
        "teks_punc = re.sub(\"@[A-Za-z0-9_]+\",\" \", teks_lower) #Menghilangkan mention\n",
        "teks = re.sub(\"#[A-Za-z0-9_]+\",\" \", teks) #Menghilangkan hashtag\n",
        "teks_punc = re.sub(r\"\\\\n\",\" \",teks_punc) #Menghilangkan \\n\n",
        "teks_punc = teks_punc.strip() #Menghilangkan whitespace\n",
        "teks_punc = re.sub(r\"http\\S+\", \" \", teks_punc) #Menghilangkan link\n",
        "teks_punc = re.sub(r\"www.\\S+\", \" \", teks_punc) #Menghilangkan link\n",
        "teks_punc = re.sub(\"[^A-Za-z\\s']\",\" \", teks_punc) #Menghilangkan yang bukan huruf\n",
        "teks_punc = re.sub(\"rt\",\" \",teks_punc) #Menghilangkan RT\n",
        "teks_punc = ' '.join(teks_punc.split())\n",
        "teks_punc"
      ]
    },
    {
      "cell_type": "code",
      "execution_count": null,
      "metadata": {
        "colab": {
          "base_uri": "https://localhost:8080/"
        },
        "id": "glC_nzo7m1n9",
        "outputId": "54829420-ddd5-4b8c-a184-870fbe22d898"
      },
      "outputs": [
        {
          "output_type": "stream",
          "name": "stdout",
          "text": [
            "Document     :  hai cici tersayang cuma mau memberitaukan kalau saya cinta kamu oh dan akan berkunjung secepatnya fantasi berkendari mei\n",
            "Tokens       :  ['hai', 'cici', 'tersayang', 'cuma', 'mau', 'memberitaukan', 'kalau', 'saya', 'cinta', 'kamu', 'oh', 'dan', 'akan', 'berkunjung', 'secepatnya', 'fantasi', 'berkendari', 'mei']\n",
            "Clean Tokens :  hai cici tersayang memberitaukan cinta berkunjung secepatnya fantasi berkendari mei\n"
          ]
        }
      ],
      "source": [
        "# Menghilangkan Stopwords\n",
        "\n",
        "from nltk.corpus import stopwords\n",
        "from nltk.tokenize import word_tokenize\n",
        "\n",
        "stpwds_id = list(set(stopwords.words('indonesian')))\n",
        "stpwds_id.append('oh') # Cara lain dari \"stpwds_id = stpwds_id + ['oh']\"\n",
        "\n",
        "tokens = word_tokenize(teks_punc)\n",
        "teks_stopwords = ' '.join([word for word in tokens if word not in stpwds_id])\n",
        "\n",
        "print('Document     : ', teks_punc)\n",
        "print('Tokens       : ', tokens)\n",
        "print('Clean Tokens : ', teks_stopwords)\n",
        "# teks_stopwords"
      ]
    },
    {
      "cell_type": "code",
      "execution_count": null,
      "metadata": {
        "colab": {
          "base_uri": "https://localhost:8080/"
        },
        "id": "YNf2oVqOp01E",
        "outputId": "06b51b79-d011-43bb-a5eb-035aadfea59e"
      },
      "outputs": [
        {
          "output_type": "stream",
          "name": "stdout",
          "text": [
            "Document       :  hai cici tersayang cuma mau memberitaukan kalau saya cinta kamu oh dan akan berkunjung secepatnya fantasi berkendari mei\n",
            "Tokens         :  ['hai', 'cici', 'tersayang', 'cuma', 'mau', 'memberitaukan', 'kalau', 'saya', 'cinta', 'kamu', 'oh', 'dan', 'akan', 'berkunjung', 'secepatnya', 'fantasi', 'berkendari', 'mei']\n",
            "Clean Tokens   :  hai cici tersayang memberitaukan cinta berkunjung secepatnya fantasi berkendari mei\n",
            "Stemmed Tokens :  hai cici sayang memberitaukan cinta kunjung cepat fantasi berkendari mei\n"
          ]
        }
      ],
      "source": [
        "# Stemming\n",
        "\n",
        "from Sastrawi.Stemmer.StemmerFactory import StemmerFactory\n",
        "\n",
        "factory = StemmerFactory()\n",
        "stemmer = factory.create_stemmer()\n",
        "\n",
        "teks_stemm  = stemmer.stem(teks_stopwords)\n",
        "\n",
        "print('Document       : ', teks_punc)\n",
        "print('Tokens         : ', tokens)\n",
        "print('Clean Tokens   : ', teks_stopwords)\n",
        "print('Stemmed Tokens : ', teks_stemm)"
      ]
    },
    {
      "cell_type": "markdown",
      "source": [
        "---\n",
        "### Preprocessing - All Documents"
      ],
      "metadata": {
        "id": "JNbWajXJWVV_"
      }
    },
    {
      "cell_type": "code",
      "execution_count": null,
      "metadata": {
        "id": "n9lCL4i2qLkT"
      },
      "outputs": [],
      "source": [
        "# Membuuat Sebuah Function Agar Dapat Diterapkan pada DataFrame\n",
        "\n",
        "def text_proses(teks):\n",
        "  teks = teks.lower()\n",
        "  teks = re.sub(\"@[A-Za-z0-9_]+\",\" \", teks) #Menghilangkan mention\n",
        "  teks = re.sub(\"#[A-Za-z0-9_]+\",\" \", teks) #Menghilangkan hashtag\n",
        "  teks = re.sub(r\"\\\\n\",\" \",teks) #Menghilangkan \\n\n",
        "  teks = teks.strip()\n",
        "  teks = re.sub(r\"http\\S+\", \" \", teks) #Menghilangkan link\n",
        "  teks = re.sub(r\"www.\\S+\", \" \", teks) #Menghilangkan link\n",
        "  teks = re.sub(\"[^A-Za-z\\s']\",\" \", teks) #Menghilangkan yang bukan huruf\n",
        "  teks = re.sub(\"rt\",\" \",teks) #Menghilangkan RT\n",
        "  tokens = word_tokenize(teks)\n",
        "  teks = ' '.join([word for word in tokens if word not in stpwds_id])\n",
        "  teks = stemmer.stem(teks)\n",
        "  return teks"
      ]
    },
    {
      "cell_type": "code",
      "execution_count": null,
      "metadata": {
        "colab": {
          "base_uri": "https://localhost:8080/",
          "height": 424
        },
        "id": "vpdmOzRiq7VV",
        "outputId": "655f8404-4abc-4131-f975-848ce0546950"
      },
      "outputs": [
        {
          "output_type": "execute_result",
          "data": {
            "text/plain": [
              "        sentimen                                               text  \\\n",
              "0     |positive|  |@PrincessSuperC Hai Cici tersayang! Cuma mau ...   \n",
              "1     |positive|  |@Msdebramaye Saya mendengar tentang kontes it...   \n",
              "2     |positive|  |UNC!!! Pemenang NCAA!! Franklin St.: I ADA DI...   \n",
              "3     |positive|  |@DivHumas_Polri: Hoax dan Ujaran Kebencian da...   \n",
              "4     |positive|  |@DivHumas_Polri: Polri : Reuni 212 Berjalan K...   \n",
              "...          ...                                                ...   \n",
              "3704  |positive|                                              |yay|   \n",
              "3705  |positive|                                             |yeah|   \n",
              "3706  |positive|                                            |yihaa|   \n",
              "3707  |negative|                                            |dungu|   \n",
              "3708    |netral|                                            |islam|   \n",
              "\n",
              "                                         text_processed  \n",
              "0     hai cici sayang memberitaukan cinta kunjung ce...  \n",
              "1                           dengar kontes selamat teman  \n",
              "2          unc menang ncaa franklin st i sana seru baik  \n",
              "3     hoax ujar benci ancam satu lapor janban sebar ...  \n",
              "4                            polri reuni jalan kondusif  \n",
              "...                                                 ...  \n",
              "3704                                                yay  \n",
              "3705                                               yeah  \n",
              "3706                                              yihaa  \n",
              "3707                                              dungu  \n",
              "3708                                              islam  \n",
              "\n",
              "[3709 rows x 3 columns]"
            ],
            "text/html": [
              "\n",
              "  <div id=\"df-4c98e1dc-e867-4703-8c7f-2c9c7e578d90\">\n",
              "    <div class=\"colab-df-container\">\n",
              "      <div>\n",
              "<style scoped>\n",
              "    .dataframe tbody tr th:only-of-type {\n",
              "        vertical-align: middle;\n",
              "    }\n",
              "\n",
              "    .dataframe tbody tr th {\n",
              "        vertical-align: top;\n",
              "    }\n",
              "\n",
              "    .dataframe thead th {\n",
              "        text-align: right;\n",
              "    }\n",
              "</style>\n",
              "<table border=\"1\" class=\"dataframe\">\n",
              "  <thead>\n",
              "    <tr style=\"text-align: right;\">\n",
              "      <th></th>\n",
              "      <th>sentimen</th>\n",
              "      <th>text</th>\n",
              "      <th>text_processed</th>\n",
              "    </tr>\n",
              "  </thead>\n",
              "  <tbody>\n",
              "    <tr>\n",
              "      <th>0</th>\n",
              "      <td>|positive|</td>\n",
              "      <td>|@PrincessSuperC Hai Cici tersayang! Cuma mau ...</td>\n",
              "      <td>hai cici sayang memberitaukan cinta kunjung ce...</td>\n",
              "    </tr>\n",
              "    <tr>\n",
              "      <th>1</th>\n",
              "      <td>|positive|</td>\n",
              "      <td>|@Msdebramaye Saya mendengar tentang kontes it...</td>\n",
              "      <td>dengar kontes selamat teman</td>\n",
              "    </tr>\n",
              "    <tr>\n",
              "      <th>2</th>\n",
              "      <td>|positive|</td>\n",
              "      <td>|UNC!!! Pemenang NCAA!! Franklin St.: I ADA DI...</td>\n",
              "      <td>unc menang ncaa franklin st i sana seru baik</td>\n",
              "    </tr>\n",
              "    <tr>\n",
              "      <th>3</th>\n",
              "      <td>|positive|</td>\n",
              "      <td>|@DivHumas_Polri: Hoax dan Ujaran Kebencian da...</td>\n",
              "      <td>hoax ujar benci ancam satu lapor janban sebar ...</td>\n",
              "    </tr>\n",
              "    <tr>\n",
              "      <th>4</th>\n",
              "      <td>|positive|</td>\n",
              "      <td>|@DivHumas_Polri: Polri : Reuni 212 Berjalan K...</td>\n",
              "      <td>polri reuni jalan kondusif</td>\n",
              "    </tr>\n",
              "    <tr>\n",
              "      <th>...</th>\n",
              "      <td>...</td>\n",
              "      <td>...</td>\n",
              "      <td>...</td>\n",
              "    </tr>\n",
              "    <tr>\n",
              "      <th>3704</th>\n",
              "      <td>|positive|</td>\n",
              "      <td>|yay|</td>\n",
              "      <td>yay</td>\n",
              "    </tr>\n",
              "    <tr>\n",
              "      <th>3705</th>\n",
              "      <td>|positive|</td>\n",
              "      <td>|yeah|</td>\n",
              "      <td>yeah</td>\n",
              "    </tr>\n",
              "    <tr>\n",
              "      <th>3706</th>\n",
              "      <td>|positive|</td>\n",
              "      <td>|yihaa|</td>\n",
              "      <td>yihaa</td>\n",
              "    </tr>\n",
              "    <tr>\n",
              "      <th>3707</th>\n",
              "      <td>|negative|</td>\n",
              "      <td>|dungu|</td>\n",
              "      <td>dungu</td>\n",
              "    </tr>\n",
              "    <tr>\n",
              "      <th>3708</th>\n",
              "      <td>|netral|</td>\n",
              "      <td>|islam|</td>\n",
              "      <td>islam</td>\n",
              "    </tr>\n",
              "  </tbody>\n",
              "</table>\n",
              "<p>3709 rows × 3 columns</p>\n",
              "</div>\n",
              "      <button class=\"colab-df-convert\" onclick=\"convertToInteractive('df-4c98e1dc-e867-4703-8c7f-2c9c7e578d90')\"\n",
              "              title=\"Convert this dataframe to an interactive table.\"\n",
              "              style=\"display:none;\">\n",
              "        \n",
              "  <svg xmlns=\"http://www.w3.org/2000/svg\" height=\"24px\"viewBox=\"0 0 24 24\"\n",
              "       width=\"24px\">\n",
              "    <path d=\"M0 0h24v24H0V0z\" fill=\"none\"/>\n",
              "    <path d=\"M18.56 5.44l.94 2.06.94-2.06 2.06-.94-2.06-.94-.94-2.06-.94 2.06-2.06.94zm-11 1L8.5 8.5l.94-2.06 2.06-.94-2.06-.94L8.5 2.5l-.94 2.06-2.06.94zm10 10l.94 2.06.94-2.06 2.06-.94-2.06-.94-.94-2.06-.94 2.06-2.06.94z\"/><path d=\"M17.41 7.96l-1.37-1.37c-.4-.4-.92-.59-1.43-.59-.52 0-1.04.2-1.43.59L10.3 9.45l-7.72 7.72c-.78.78-.78 2.05 0 2.83L4 21.41c.39.39.9.59 1.41.59.51 0 1.02-.2 1.41-.59l7.78-7.78 2.81-2.81c.8-.78.8-2.07 0-2.86zM5.41 20L4 18.59l7.72-7.72 1.47 1.35L5.41 20z\"/>\n",
              "  </svg>\n",
              "      </button>\n",
              "      \n",
              "  <style>\n",
              "    .colab-df-container {\n",
              "      display:flex;\n",
              "      flex-wrap:wrap;\n",
              "      gap: 12px;\n",
              "    }\n",
              "\n",
              "    .colab-df-convert {\n",
              "      background-color: #E8F0FE;\n",
              "      border: none;\n",
              "      border-radius: 50%;\n",
              "      cursor: pointer;\n",
              "      display: none;\n",
              "      fill: #1967D2;\n",
              "      height: 32px;\n",
              "      padding: 0 0 0 0;\n",
              "      width: 32px;\n",
              "    }\n",
              "\n",
              "    .colab-df-convert:hover {\n",
              "      background-color: #E2EBFA;\n",
              "      box-shadow: 0px 1px 2px rgba(60, 64, 67, 0.3), 0px 1px 3px 1px rgba(60, 64, 67, 0.15);\n",
              "      fill: #174EA6;\n",
              "    }\n",
              "\n",
              "    [theme=dark] .colab-df-convert {\n",
              "      background-color: #3B4455;\n",
              "      fill: #D2E3FC;\n",
              "    }\n",
              "\n",
              "    [theme=dark] .colab-df-convert:hover {\n",
              "      background-color: #434B5C;\n",
              "      box-shadow: 0px 1px 3px 1px rgba(0, 0, 0, 0.15);\n",
              "      filter: drop-shadow(0px 1px 2px rgba(0, 0, 0, 0.3));\n",
              "      fill: #FFFFFF;\n",
              "    }\n",
              "  </style>\n",
              "\n",
              "      <script>\n",
              "        const buttonEl =\n",
              "          document.querySelector('#df-4c98e1dc-e867-4703-8c7f-2c9c7e578d90 button.colab-df-convert');\n",
              "        buttonEl.style.display =\n",
              "          google.colab.kernel.accessAllowed ? 'block' : 'none';\n",
              "\n",
              "        async function convertToInteractive(key) {\n",
              "          const element = document.querySelector('#df-4c98e1dc-e867-4703-8c7f-2c9c7e578d90');\n",
              "          const dataTable =\n",
              "            await google.colab.kernel.invokeFunction('convertToInteractive',\n",
              "                                                     [key], {});\n",
              "          if (!dataTable) return;\n",
              "\n",
              "          const docLinkHtml = 'Like what you see? Visit the ' +\n",
              "            '<a target=\"_blank\" href=https://colab.research.google.com/notebooks/data_table.ipynb>data table notebook</a>'\n",
              "            + ' to learn more about interactive tables.';\n",
              "          element.innerHTML = '';\n",
              "          dataTable['output_type'] = 'display_data';\n",
              "          await google.colab.output.renderOutput(dataTable, element);\n",
              "          const docLink = document.createElement('div');\n",
              "          docLink.innerHTML = docLinkHtml;\n",
              "          element.appendChild(docLink);\n",
              "        }\n",
              "      </script>\n",
              "    </div>\n",
              "  </div>\n",
              "  "
            ]
          },
          "metadata": {},
          "execution_count": 12
        }
      ],
      "source": [
        "# Mengaplikasikan Semua Teknik Preprocessing ke dalam Semua Documents\n",
        "\n",
        "data['text_processed'] = data['text'].apply(lambda x: text_proses(x))\n",
        "data"
      ]
    },
    {
      "cell_type": "markdown",
      "source": [
        "---\n",
        "## Convert Target"
      ],
      "metadata": {
        "id": "TIfDDBI2WmSi"
      }
    },
    {
      "cell_type": "code",
      "source": [
        "# Melihat Target Corpus\n",
        "\n",
        "data.sentimen.unique()"
      ],
      "metadata": {
        "colab": {
          "base_uri": "https://localhost:8080/"
        },
        "id": "eJWn1AO-VuId",
        "outputId": "060dcfca-91f8-402c-a4a4-1798d16b75dc"
      },
      "execution_count": null,
      "outputs": [
        {
          "output_type": "execute_result",
          "data": {
            "text/plain": [
              "array(['|positive|', '|neutral|', '|negative|', '|netral|'], dtype=object)"
            ]
          },
          "metadata": {},
          "execution_count": 13
        }
      ]
    },
    {
      "cell_type": "code",
      "execution_count": null,
      "metadata": {
        "colab": {
          "base_uri": "https://localhost:8080/",
          "height": 424
        },
        "id": "PWAS8S19soO_",
        "outputId": "b8a8492a-e9a1-49d1-dc6c-3aa9f48af18b"
      },
      "outputs": [
        {
          "output_type": "execute_result",
          "data": {
            "text/plain": [
              "        sentimen                                               text  \\\n",
              "0     |positive|  |@PrincessSuperC Hai Cici tersayang! Cuma mau ...   \n",
              "1     |positive|  |@Msdebramaye Saya mendengar tentang kontes it...   \n",
              "2     |positive|  |UNC!!! Pemenang NCAA!! Franklin St.: I ADA DI...   \n",
              "3     |positive|  |@DivHumas_Polri: Hoax dan Ujaran Kebencian da...   \n",
              "4     |positive|  |@DivHumas_Polri: Polri : Reuni 212 Berjalan K...   \n",
              "...          ...                                                ...   \n",
              "3704  |positive|                                              |yay|   \n",
              "3705  |positive|                                             |yeah|   \n",
              "3706  |positive|                                            |yihaa|   \n",
              "3707  |negative|                                            |dungu|   \n",
              "3708    |netral|                                            |islam|   \n",
              "\n",
              "                                         text_processed  label  \n",
              "0     hai cici sayang memberitaukan cinta kunjung ce...      2  \n",
              "1                           dengar kontes selamat teman      2  \n",
              "2          unc menang ncaa franklin st i sana seru baik      2  \n",
              "3     hoax ujar benci ancam satu lapor janban sebar ...      2  \n",
              "4                            polri reuni jalan kondusif      2  \n",
              "...                                                 ...    ...  \n",
              "3704                                                yay      2  \n",
              "3705                                               yeah      2  \n",
              "3706                                              yihaa      2  \n",
              "3707                                              dungu      0  \n",
              "3708                                              islam      1  \n",
              "\n",
              "[3709 rows x 4 columns]"
            ],
            "text/html": [
              "\n",
              "  <div id=\"df-ed601210-7929-40fe-bd31-3f8583bdc928\">\n",
              "    <div class=\"colab-df-container\">\n",
              "      <div>\n",
              "<style scoped>\n",
              "    .dataframe tbody tr th:only-of-type {\n",
              "        vertical-align: middle;\n",
              "    }\n",
              "\n",
              "    .dataframe tbody tr th {\n",
              "        vertical-align: top;\n",
              "    }\n",
              "\n",
              "    .dataframe thead th {\n",
              "        text-align: right;\n",
              "    }\n",
              "</style>\n",
              "<table border=\"1\" class=\"dataframe\">\n",
              "  <thead>\n",
              "    <tr style=\"text-align: right;\">\n",
              "      <th></th>\n",
              "      <th>sentimen</th>\n",
              "      <th>text</th>\n",
              "      <th>text_processed</th>\n",
              "      <th>label</th>\n",
              "    </tr>\n",
              "  </thead>\n",
              "  <tbody>\n",
              "    <tr>\n",
              "      <th>0</th>\n",
              "      <td>|positive|</td>\n",
              "      <td>|@PrincessSuperC Hai Cici tersayang! Cuma mau ...</td>\n",
              "      <td>hai cici sayang memberitaukan cinta kunjung ce...</td>\n",
              "      <td>2</td>\n",
              "    </tr>\n",
              "    <tr>\n",
              "      <th>1</th>\n",
              "      <td>|positive|</td>\n",
              "      <td>|@Msdebramaye Saya mendengar tentang kontes it...</td>\n",
              "      <td>dengar kontes selamat teman</td>\n",
              "      <td>2</td>\n",
              "    </tr>\n",
              "    <tr>\n",
              "      <th>2</th>\n",
              "      <td>|positive|</td>\n",
              "      <td>|UNC!!! Pemenang NCAA!! Franklin St.: I ADA DI...</td>\n",
              "      <td>unc menang ncaa franklin st i sana seru baik</td>\n",
              "      <td>2</td>\n",
              "    </tr>\n",
              "    <tr>\n",
              "      <th>3</th>\n",
              "      <td>|positive|</td>\n",
              "      <td>|@DivHumas_Polri: Hoax dan Ujaran Kebencian da...</td>\n",
              "      <td>hoax ujar benci ancam satu lapor janban sebar ...</td>\n",
              "      <td>2</td>\n",
              "    </tr>\n",
              "    <tr>\n",
              "      <th>4</th>\n",
              "      <td>|positive|</td>\n",
              "      <td>|@DivHumas_Polri: Polri : Reuni 212 Berjalan K...</td>\n",
              "      <td>polri reuni jalan kondusif</td>\n",
              "      <td>2</td>\n",
              "    </tr>\n",
              "    <tr>\n",
              "      <th>...</th>\n",
              "      <td>...</td>\n",
              "      <td>...</td>\n",
              "      <td>...</td>\n",
              "      <td>...</td>\n",
              "    </tr>\n",
              "    <tr>\n",
              "      <th>3704</th>\n",
              "      <td>|positive|</td>\n",
              "      <td>|yay|</td>\n",
              "      <td>yay</td>\n",
              "      <td>2</td>\n",
              "    </tr>\n",
              "    <tr>\n",
              "      <th>3705</th>\n",
              "      <td>|positive|</td>\n",
              "      <td>|yeah|</td>\n",
              "      <td>yeah</td>\n",
              "      <td>2</td>\n",
              "    </tr>\n",
              "    <tr>\n",
              "      <th>3706</th>\n",
              "      <td>|positive|</td>\n",
              "      <td>|yihaa|</td>\n",
              "      <td>yihaa</td>\n",
              "      <td>2</td>\n",
              "    </tr>\n",
              "    <tr>\n",
              "      <th>3707</th>\n",
              "      <td>|negative|</td>\n",
              "      <td>|dungu|</td>\n",
              "      <td>dungu</td>\n",
              "      <td>0</td>\n",
              "    </tr>\n",
              "    <tr>\n",
              "      <th>3708</th>\n",
              "      <td>|netral|</td>\n",
              "      <td>|islam|</td>\n",
              "      <td>islam</td>\n",
              "      <td>1</td>\n",
              "    </tr>\n",
              "  </tbody>\n",
              "</table>\n",
              "<p>3709 rows × 4 columns</p>\n",
              "</div>\n",
              "      <button class=\"colab-df-convert\" onclick=\"convertToInteractive('df-ed601210-7929-40fe-bd31-3f8583bdc928')\"\n",
              "              title=\"Convert this dataframe to an interactive table.\"\n",
              "              style=\"display:none;\">\n",
              "        \n",
              "  <svg xmlns=\"http://www.w3.org/2000/svg\" height=\"24px\"viewBox=\"0 0 24 24\"\n",
              "       width=\"24px\">\n",
              "    <path d=\"M0 0h24v24H0V0z\" fill=\"none\"/>\n",
              "    <path d=\"M18.56 5.44l.94 2.06.94-2.06 2.06-.94-2.06-.94-.94-2.06-.94 2.06-2.06.94zm-11 1L8.5 8.5l.94-2.06 2.06-.94-2.06-.94L8.5 2.5l-.94 2.06-2.06.94zm10 10l.94 2.06.94-2.06 2.06-.94-2.06-.94-.94-2.06-.94 2.06-2.06.94z\"/><path d=\"M17.41 7.96l-1.37-1.37c-.4-.4-.92-.59-1.43-.59-.52 0-1.04.2-1.43.59L10.3 9.45l-7.72 7.72c-.78.78-.78 2.05 0 2.83L4 21.41c.39.39.9.59 1.41.59.51 0 1.02-.2 1.41-.59l7.78-7.78 2.81-2.81c.8-.78.8-2.07 0-2.86zM5.41 20L4 18.59l7.72-7.72 1.47 1.35L5.41 20z\"/>\n",
              "  </svg>\n",
              "      </button>\n",
              "      \n",
              "  <style>\n",
              "    .colab-df-container {\n",
              "      display:flex;\n",
              "      flex-wrap:wrap;\n",
              "      gap: 12px;\n",
              "    }\n",
              "\n",
              "    .colab-df-convert {\n",
              "      background-color: #E8F0FE;\n",
              "      border: none;\n",
              "      border-radius: 50%;\n",
              "      cursor: pointer;\n",
              "      display: none;\n",
              "      fill: #1967D2;\n",
              "      height: 32px;\n",
              "      padding: 0 0 0 0;\n",
              "      width: 32px;\n",
              "    }\n",
              "\n",
              "    .colab-df-convert:hover {\n",
              "      background-color: #E2EBFA;\n",
              "      box-shadow: 0px 1px 2px rgba(60, 64, 67, 0.3), 0px 1px 3px 1px rgba(60, 64, 67, 0.15);\n",
              "      fill: #174EA6;\n",
              "    }\n",
              "\n",
              "    [theme=dark] .colab-df-convert {\n",
              "      background-color: #3B4455;\n",
              "      fill: #D2E3FC;\n",
              "    }\n",
              "\n",
              "    [theme=dark] .colab-df-convert:hover {\n",
              "      background-color: #434B5C;\n",
              "      box-shadow: 0px 1px 3px 1px rgba(0, 0, 0, 0.15);\n",
              "      filter: drop-shadow(0px 1px 2px rgba(0, 0, 0, 0.3));\n",
              "      fill: #FFFFFF;\n",
              "    }\n",
              "  </style>\n",
              "\n",
              "      <script>\n",
              "        const buttonEl =\n",
              "          document.querySelector('#df-ed601210-7929-40fe-bd31-3f8583bdc928 button.colab-df-convert');\n",
              "        buttonEl.style.display =\n",
              "          google.colab.kernel.accessAllowed ? 'block' : 'none';\n",
              "\n",
              "        async function convertToInteractive(key) {\n",
              "          const element = document.querySelector('#df-ed601210-7929-40fe-bd31-3f8583bdc928');\n",
              "          const dataTable =\n",
              "            await google.colab.kernel.invokeFunction('convertToInteractive',\n",
              "                                                     [key], {});\n",
              "          if (!dataTable) return;\n",
              "\n",
              "          const docLinkHtml = 'Like what you see? Visit the ' +\n",
              "            '<a target=\"_blank\" href=https://colab.research.google.com/notebooks/data_table.ipynb>data table notebook</a>'\n",
              "            + ' to learn more about interactive tables.';\n",
              "          element.innerHTML = '';\n",
              "          dataTable['output_type'] = 'display_data';\n",
              "          await google.colab.output.renderOutput(dataTable, element);\n",
              "          const docLink = document.createElement('div');\n",
              "          docLink.innerHTML = docLinkHtml;\n",
              "          element.appendChild(docLink);\n",
              "        }\n",
              "      </script>\n",
              "    </div>\n",
              "  </div>\n",
              "  "
            ]
          },
          "metadata": {},
          "execution_count": 14
        }
      ],
      "source": [
        "# Mengubah Target Corpus dari String ke dalam Numeric\n",
        "\n",
        "data['label'] = data['sentimen'].replace({'|negative|' : 0, '|neutral|' : 1, '|netral|' : 1, '|positive|' : 2})\n",
        "data"
      ]
    },
    {
      "cell_type": "code",
      "execution_count": null,
      "metadata": {
        "colab": {
          "base_uri": "https://localhost:8080/"
        },
        "id": "fIkLdCOU8WYL",
        "outputId": "8d2ecd61-8b50-4513-9837-2bcf35d8f8b7"
      },
      "outputs": [
        {
          "output_type": "execute_result",
          "data": {
            "text/plain": [
              "0    2570\n",
              "2     982\n",
              "1     157\n",
              "Name: label, dtype: int64"
            ]
          },
          "metadata": {},
          "execution_count": 15
        }
      ],
      "source": [
        "# Melihat Persebaran Target\n",
        "\n",
        "data['label'].value_counts()"
      ]
    },
    {
      "cell_type": "markdown",
      "metadata": {
        "id": "wuxwlMqZSHsz"
      },
      "source": [
        "## Tokenization & Word Embedding"
      ]
    },
    {
      "cell_type": "markdown",
      "metadata": {
        "id": "Buec2ZOkyq6a"
      },
      "source": [
        "### Embedding Layer in Deep Learning with Tensorflow"
      ]
    },
    {
      "cell_type": "code",
      "source": [
        "# Splitting Corpus\n",
        "\n",
        "from sklearn.model_selection import train_test_split\n",
        "from sklearn.feature_extraction.text import CountVectorizer\n",
        "\n",
        "X_train, X_test, y_train, y_test = train_test_split(data.text_processed, \n",
        "                                                    data.label, \n",
        "                                                    test_size=0.25, \n",
        "                                                    random_state=46, \n",
        "                                                    stratify=data.label)\n",
        "\n",
        "print('Train Size : ', X_train.shape)\n",
        "print('Test Size  : ', X_test.shape)"
      ],
      "metadata": {
        "colab": {
          "base_uri": "https://localhost:8080/"
        },
        "id": "XKR-oFloYDY3",
        "outputId": "93a39e25-5b77-4236-b693-9297093783f1"
      },
      "execution_count": null,
      "outputs": [
        {
          "output_type": "stream",
          "name": "stdout",
          "text": [
            "Train Size :  (2781,)\n",
            "Test Size  :  (928,)\n"
          ]
        }
      ]
    },
    {
      "cell_type": "code",
      "source": [
        "# Get Vocabularies\n",
        "\n",
        "Vectorize = CountVectorizer()\n",
        "X_train_vec = Vectorize.fit_transform(X_train)\n",
        "X_test_vec = Vectorize.transform(X_test)\n",
        "\n",
        "X_train_vec"
      ],
      "metadata": {
        "colab": {
          "base_uri": "https://localhost:8080/"
        },
        "id": "JZE1gjEZYHXI",
        "outputId": "d81b714f-35fa-4392-85bd-19572c34865b"
      },
      "execution_count": null,
      "outputs": [
        {
          "output_type": "execute_result",
          "data": {
            "text/plain": [
              "<2781x2337 sparse matrix of type '<class 'numpy.int64'>'\n",
              "\twith 5599 stored elements in Compressed Sparse Row format>"
            ]
          },
          "metadata": {},
          "execution_count": 17
        }
      ]
    },
    {
      "cell_type": "code",
      "execution_count": null,
      "metadata": {
        "id": "3Ttg_iz6zKtX"
      },
      "outputs": [],
      "source": [
        "# Import Libraries\n",
        "\n",
        "import tensorflow as tf\n",
        "from tensorflow.keras.layers import TextVectorization, Embedding"
      ]
    },
    {
      "cell_type": "code",
      "execution_count": null,
      "metadata": {
        "colab": {
          "base_uri": "https://localhost:8080/"
        },
        "id": "rxkZmU2Qz67x",
        "outputId": "f1018b84-38c7-4757-c16e-4ad9b467660d"
      },
      "outputs": [
        {
          "output_type": "stream",
          "name": "stdout",
          "text": [
            "Jumlah vocab: 2337\n",
            "Panjang maksimum kalimat: 33 kata\n"
          ]
        }
      ],
      "source": [
        "# Mencari Jumlah Vocab dan Panjang Token dalam Satu DOcument\n",
        "\n",
        "jml_vocab = len(Vectorize.vocabulary_.keys())\n",
        "max_sen_len = max([len(i.split(\" \")) for i in X_train])\n",
        "\n",
        "print(\"Jumlah vocab:\",jml_vocab)\n",
        "print(\"Panjang maksimum kalimat:\",max_sen_len,\"kata\")"
      ]
    },
    {
      "cell_type": "code",
      "execution_count": null,
      "metadata": {
        "id": "JVAVi5eo1z-6"
      },
      "outputs": [],
      "source": [
        "# Text Vectorization\n",
        "\n",
        "text_vectorization = TextVectorization(max_tokens=jml_vocab,\n",
        "                                       standardize=\"lower_and_strip_punctuation\",\n",
        "                                       split=\"whitespace\",\n",
        "                                       ngrams=None,\n",
        "                                       output_mode=\"int\",\n",
        "                                       output_sequence_length=max_sen_len,\n",
        "                                       input_shape=(1,) # jika ingin menggunakan sequential API\n",
        "                                       )\n",
        "\n",
        "text_vectorization.adapt(X_train)"
      ]
    },
    {
      "cell_type": "code",
      "execution_count": null,
      "metadata": {
        "colab": {
          "base_uri": "https://localhost:8080/"
        },
        "id": "i6t6Mvc_2ei3",
        "outputId": "a6d2d7f0-9d34-46a9-8a6d-d22942f968f5"
      },
      "outputs": [
        {
          "output_type": "stream",
          "name": "stdout",
          "text": [
            "Contoh Document\n",
            "hai cici sayang memberitaukan cinta kunjung cepat fantasi berkendari mei\n",
            "\n",
            "Hasil Text Vectorization\n",
            "tf.Tensor(\n",
            "[[1971 2165   87 1574  520 1679   29 2043 2235 1581    0    0    0    0\n",
            "     0    0    0    0    0    0    0    0    0    0    0    0    0    0\n",
            "     0    0    0    0    0]], shape=(1, 33), dtype=int64)\n",
            "Ukuran vector :  (1, 33)\n"
          ]
        }
      ],
      "source": [
        "# Contoh Text Vectorization\n",
        "\n",
        "## Contoh Document\n",
        "print('Contoh Document')\n",
        "print(data.text_processed[0])\n",
        "print('')\n",
        "\n",
        "## Hasil Text Vectorization\n",
        "print('Hasil Text Vectorization')\n",
        "print(text_vectorization([data.text_processed[0]]))\n",
        "print('Ukuran vector : ', text_vectorization([data.text_processed[0]]).shape)"
      ]
    },
    {
      "cell_type": "code",
      "execution_count": null,
      "metadata": {
        "colab": {
          "base_uri": "https://localhost:8080/"
        },
        "id": "qzeBc_Sv2yeF",
        "outputId": "dbe7118f-b16b-4fb3-d1f2-dcffc1f3d439"
      },
      "outputs": [
        {
          "output_type": "execute_result",
          "data": {
            "text/plain": [
              "['',\n",
              " '[UNK]',\n",
              " 'x',\n",
              " 'xe',\n",
              " 'xa',\n",
              " 'b',\n",
              " 'yg',\n",
              " 'f',\n",
              " 'polri',\n",
              " 'orang',\n",
              " 'xf',\n",
              " 'salah',\n",
              " 'hina',\n",
              " 'hukum',\n",
              " 'd',\n",
              " 'te',\n",
              " 'hati',\n",
              " 'sakit',\n",
              " 'polisi',\n",
              " 'penuh']"
            ]
          },
          "metadata": {},
          "execution_count": 22
        }
      ],
      "source": [
        "# Melihat Top 20 Token (Diurutkan Berdasarkan Frekuensi Kemunculan Terbesar)\n",
        "\n",
        "text_vectorization.get_vocabulary()[:20]"
      ]
    },
    {
      "cell_type": "code",
      "execution_count": null,
      "metadata": {
        "id": "ZQXjk9FU229o"
      },
      "outputs": [],
      "source": [
        "# Embedding\n",
        "\n",
        "embedding = Embedding(input_dim=jml_vocab,\n",
        "                      output_dim=128,\n",
        "                      embeddings_initializer=\"uniform\",\n",
        "                      input_length=max_sen_len\n",
        "                      )"
      ]
    },
    {
      "cell_type": "code",
      "source": [
        "# Contoh Hasil Embedding\n",
        "\n",
        "## Contoh Document\n",
        "print('Contoh Document')\n",
        "print(data.text_processed[0])\n",
        "print('')\n",
        "\n",
        "## Hasil Text Vectorization\n",
        "print('Hasil Text Vectorization')\n",
        "print(text_vectorization([data.text_processed[0]]))\n",
        "print('Ukuran vector : ', text_vectorization([data.text_processed[0]]).shape)\n",
        "print('')\n",
        "\n",
        "## Hasil Embedding\n",
        "print('Hasil Embedding')\n",
        "print(embedding(text_vectorization([data.text_processed[0]])))\n",
        "print('Ukuran vector : ', embedding(text_vectorization([data.text_processed[0]])).shape)"
      ],
      "metadata": {
        "colab": {
          "base_uri": "https://localhost:8080/"
        },
        "id": "pVQ1CjbcZtPz",
        "outputId": "5678ec48-bf16-419f-f72b-5f8c5b503530"
      },
      "execution_count": null,
      "outputs": [
        {
          "output_type": "stream",
          "name": "stdout",
          "text": [
            "Contoh Document\n",
            "hai cici sayang memberitaukan cinta kunjung cepat fantasi berkendari mei\n",
            "\n",
            "Hasil Text Vectorization\n",
            "tf.Tensor(\n",
            "[[1971 2165   87 1574  520 1679   29 2043 2235 1581    0    0    0    0\n",
            "     0    0    0    0    0    0    0    0    0    0    0    0    0    0\n",
            "     0    0    0    0    0]], shape=(1, 33), dtype=int64)\n",
            "Ukuran vector :  (1, 33)\n",
            "\n",
            "Hasil Embedding\n",
            "tf.Tensor(\n",
            "[[[-0.04259261  0.02862063  0.01730942 ... -0.01973701  0.03519993\n",
            "    0.01865114]\n",
            "  [-0.02503735  0.03564724 -0.03160299 ... -0.01626771  0.01315938\n",
            "   -0.02510615]\n",
            "  [ 0.01797562 -0.03513028  0.01623752 ... -0.03089571 -0.03174195\n",
            "   -0.03026509]\n",
            "  ...\n",
            "  [-0.04229938  0.01449989  0.00603712 ... -0.01876223 -0.00649608\n",
            "   -0.04782081]\n",
            "  [-0.04229938  0.01449989  0.00603712 ... -0.01876223 -0.00649608\n",
            "   -0.04782081]\n",
            "  [-0.04229938  0.01449989  0.00603712 ... -0.01876223 -0.00649608\n",
            "   -0.04782081]]], shape=(1, 33, 128), dtype=float32)\n",
            "Ukuran vector :  (1, 33, 128)\n"
          ]
        }
      ]
    },
    {
      "cell_type": "markdown",
      "metadata": {
        "id": "gA6U7y6aSX70"
      },
      "source": [
        "## Modeling"
      ]
    },
    {
      "cell_type": "markdown",
      "source": [
        "---\n",
        "### Change Target to One Hot Encoding"
      ],
      "metadata": {
        "id": "Otvr_8X1aULz"
      }
    },
    {
      "cell_type": "code",
      "execution_count": null,
      "metadata": {
        "id": "X2F3UP8Q9kFm",
        "colab": {
          "base_uri": "https://localhost:8080/"
        },
        "outputId": "fa0e9ce2-71eb-4f09-9920-7954a2f35336"
      },
      "outputs": [
        {
          "output_type": "execute_result",
          "data": {
            "text/plain": [
              "array([[0., 0., 1.],\n",
              "       [0., 0., 1.],\n",
              "       [0., 0., 1.],\n",
              "       ...,\n",
              "       [1., 0., 0.],\n",
              "       [0., 0., 1.],\n",
              "       [0., 0., 1.]], dtype=float32)"
            ]
          },
          "metadata": {},
          "execution_count": 25
        }
      ],
      "source": [
        "# Mengubah Target ke dalam One Hot Encoding\n",
        "\n",
        "from tensorflow.keras.utils import to_categorical\n",
        "\n",
        "y_train_ohe = to_categorical(y_train)\n",
        "y_test_ohe = to_categorical(y_test)\n",
        "y_train_ohe"
      ]
    },
    {
      "cell_type": "markdown",
      "metadata": {
        "id": "9S2sQSWv9f78"
      },
      "source": [
        "---\n",
        "### Deep Learning - Fully Connected Layer"
      ]
    },
    {
      "cell_type": "code",
      "execution_count": null,
      "metadata": {
        "colab": {
          "base_uri": "https://localhost:8080/"
        },
        "id": "TURLgwUj-B8Z",
        "outputId": "cb95d777-6ded-4ccc-dac4-0ea6ce2363f7"
      },
      "outputs": [
        {
          "output_type": "stream",
          "name": "stdout",
          "text": [
            "Epoch 1/50\n",
            "87/87 [==============================] - 4s 7ms/step - loss: 0.8383 - accuracy: 0.6814 - val_loss: 0.7204 - val_accuracy: 0.6929\n",
            "Epoch 2/50\n",
            "87/87 [==============================] - 0s 5ms/step - loss: 0.7117 - accuracy: 0.6940 - val_loss: 0.7078 - val_accuracy: 0.6972\n",
            "Epoch 3/50\n",
            "87/87 [==============================] - 0s 5ms/step - loss: 0.6940 - accuracy: 0.7005 - val_loss: 0.6927 - val_accuracy: 0.7015\n",
            "Epoch 4/50\n",
            "87/87 [==============================] - 0s 5ms/step - loss: 0.6653 - accuracy: 0.7113 - val_loss: 0.6727 - val_accuracy: 0.7058\n",
            "Epoch 5/50\n",
            "87/87 [==============================] - 0s 5ms/step - loss: 0.6185 - accuracy: 0.7217 - val_loss: 0.6363 - val_accuracy: 0.7209\n",
            "Epoch 6/50\n",
            "87/87 [==============================] - 0s 5ms/step - loss: 0.5482 - accuracy: 0.7379 - val_loss: 0.6059 - val_accuracy: 0.7360\n",
            "Epoch 7/50\n",
            "87/87 [==============================] - 0s 4ms/step - loss: 0.4679 - accuracy: 0.7691 - val_loss: 0.5815 - val_accuracy: 0.7392\n",
            "Epoch 8/50\n",
            "87/87 [==============================] - 0s 5ms/step - loss: 0.3908 - accuracy: 0.8303 - val_loss: 0.6135 - val_accuracy: 0.7284\n",
            "Epoch 9/50\n",
            "87/87 [==============================] - 0s 5ms/step - loss: 0.3285 - accuracy: 0.8691 - val_loss: 0.5766 - val_accuracy: 0.7543\n",
            "Epoch 10/50\n",
            "87/87 [==============================] - 0s 5ms/step - loss: 0.2858 - accuracy: 0.8925 - val_loss: 0.5937 - val_accuracy: 0.7554\n",
            "Epoch 11/50\n",
            "87/87 [==============================] - 0s 5ms/step - loss: 0.2550 - accuracy: 0.9022 - val_loss: 0.6085 - val_accuracy: 0.7478\n",
            "Epoch 12/50\n",
            "87/87 [==============================] - 0s 5ms/step - loss: 0.2316 - accuracy: 0.9123 - val_loss: 0.6274 - val_accuracy: 0.7500\n",
            "Epoch 13/50\n",
            "87/87 [==============================] - 0s 5ms/step - loss: 0.2121 - accuracy: 0.9123 - val_loss: 0.6427 - val_accuracy: 0.7522\n",
            "Epoch 14/50\n",
            "87/87 [==============================] - 1s 8ms/step - loss: 0.2006 - accuracy: 0.9141 - val_loss: 0.6595 - val_accuracy: 0.7532\n",
            "Epoch 15/50\n",
            "87/87 [==============================] - 1s 8ms/step - loss: 0.1984 - accuracy: 0.9177 - val_loss: 0.7030 - val_accuracy: 0.7489\n",
            "Epoch 16/50\n",
            "87/87 [==============================] - 0s 5ms/step - loss: 0.1901 - accuracy: 0.9180 - val_loss: 0.6855 - val_accuracy: 0.7500\n",
            "Epoch 17/50\n",
            "87/87 [==============================] - 0s 5ms/step - loss: 0.1864 - accuracy: 0.9141 - val_loss: 0.7040 - val_accuracy: 0.7446\n",
            "Epoch 18/50\n",
            "87/87 [==============================] - 0s 5ms/step - loss: 0.1806 - accuracy: 0.9112 - val_loss: 0.7164 - val_accuracy: 0.7532\n",
            "Epoch 19/50\n",
            "87/87 [==============================] - 0s 5ms/step - loss: 0.1749 - accuracy: 0.9115 - val_loss: 0.7616 - val_accuracy: 0.7446\n",
            "Epoch 20/50\n",
            "87/87 [==============================] - 0s 5ms/step - loss: 0.1792 - accuracy: 0.9151 - val_loss: 0.7490 - val_accuracy: 0.7500\n",
            "Epoch 21/50\n",
            "87/87 [==============================] - 0s 5ms/step - loss: 0.1754 - accuracy: 0.9159 - val_loss: 0.7568 - val_accuracy: 0.7489\n",
            "Epoch 22/50\n",
            "87/87 [==============================] - 0s 5ms/step - loss: 0.1677 - accuracy: 0.9166 - val_loss: 0.7558 - val_accuracy: 0.7500\n",
            "Epoch 23/50\n",
            "87/87 [==============================] - 0s 5ms/step - loss: 0.1669 - accuracy: 0.9126 - val_loss: 0.7671 - val_accuracy: 0.7414\n",
            "Epoch 24/50\n",
            "87/87 [==============================] - 0s 5ms/step - loss: 0.1641 - accuracy: 0.9180 - val_loss: 0.7751 - val_accuracy: 0.7414\n",
            "Epoch 25/50\n",
            "87/87 [==============================] - 0s 5ms/step - loss: 0.1617 - accuracy: 0.9177 - val_loss: 0.7779 - val_accuracy: 0.7457\n",
            "Epoch 26/50\n",
            "87/87 [==============================] - 0s 5ms/step - loss: 0.1610 - accuracy: 0.9223 - val_loss: 0.8037 - val_accuracy: 0.7446\n",
            "Epoch 27/50\n",
            "87/87 [==============================] - 0s 5ms/step - loss: 0.1599 - accuracy: 0.9216 - val_loss: 0.8115 - val_accuracy: 0.7446\n",
            "Epoch 28/50\n",
            "87/87 [==============================] - 0s 5ms/step - loss: 0.1597 - accuracy: 0.9177 - val_loss: 0.8438 - val_accuracy: 0.7414\n",
            "Epoch 29/50\n",
            "87/87 [==============================] - 0s 5ms/step - loss: 0.1588 - accuracy: 0.9166 - val_loss: 0.8236 - val_accuracy: 0.7468\n",
            "Epoch 30/50\n",
            "87/87 [==============================] - 0s 5ms/step - loss: 0.1641 - accuracy: 0.9130 - val_loss: 0.8332 - val_accuracy: 0.7435\n",
            "Epoch 31/50\n",
            "87/87 [==============================] - 0s 4ms/step - loss: 0.1584 - accuracy: 0.9209 - val_loss: 0.8478 - val_accuracy: 0.7403\n",
            "Epoch 32/50\n",
            "87/87 [==============================] - 0s 5ms/step - loss: 0.1650 - accuracy: 0.9155 - val_loss: 0.8298 - val_accuracy: 0.7457\n",
            "Epoch 33/50\n",
            "87/87 [==============================] - 0s 5ms/step - loss: 0.1548 - accuracy: 0.9191 - val_loss: 0.8346 - val_accuracy: 0.7392\n",
            "Epoch 34/50\n",
            "87/87 [==============================] - 0s 5ms/step - loss: 0.1545 - accuracy: 0.9137 - val_loss: 0.8566 - val_accuracy: 0.7414\n",
            "Epoch 35/50\n",
            "87/87 [==============================] - 0s 4ms/step - loss: 0.1564 - accuracy: 0.9180 - val_loss: 0.8584 - val_accuracy: 0.7435\n",
            "Epoch 36/50\n",
            "87/87 [==============================] - 0s 5ms/step - loss: 0.1602 - accuracy: 0.9177 - val_loss: 0.8480 - val_accuracy: 0.7446\n",
            "Epoch 37/50\n",
            "87/87 [==============================] - 0s 4ms/step - loss: 0.1521 - accuracy: 0.9198 - val_loss: 0.8544 - val_accuracy: 0.7403\n",
            "Epoch 38/50\n",
            "87/87 [==============================] - 0s 5ms/step - loss: 0.1604 - accuracy: 0.9187 - val_loss: 0.8563 - val_accuracy: 0.7414\n",
            "Epoch 39/50\n",
            "87/87 [==============================] - 0s 5ms/step - loss: 0.1566 - accuracy: 0.9162 - val_loss: 0.8542 - val_accuracy: 0.7446\n",
            "Epoch 40/50\n",
            "87/87 [==============================] - 0s 5ms/step - loss: 0.1511 - accuracy: 0.9169 - val_loss: 0.8624 - val_accuracy: 0.7414\n",
            "Epoch 41/50\n",
            "87/87 [==============================] - 0s 5ms/step - loss: 0.1552 - accuracy: 0.9213 - val_loss: 0.8695 - val_accuracy: 0.7435\n",
            "Epoch 42/50\n",
            "87/87 [==============================] - 0s 5ms/step - loss: 0.1525 - accuracy: 0.9184 - val_loss: 0.8737 - val_accuracy: 0.7446\n",
            "Epoch 43/50\n",
            "87/87 [==============================] - 0s 5ms/step - loss: 0.1504 - accuracy: 0.9191 - val_loss: 0.8686 - val_accuracy: 0.7425\n",
            "Epoch 44/50\n",
            "87/87 [==============================] - 0s 5ms/step - loss: 0.1519 - accuracy: 0.9177 - val_loss: 0.8956 - val_accuracy: 0.7381\n",
            "Epoch 45/50\n",
            "87/87 [==============================] - 0s 5ms/step - loss: 0.1526 - accuracy: 0.9198 - val_loss: 0.9146 - val_accuracy: 0.7446\n",
            "Epoch 46/50\n",
            "87/87 [==============================] - 0s 5ms/step - loss: 0.1511 - accuracy: 0.9198 - val_loss: 0.9581 - val_accuracy: 0.7425\n",
            "Epoch 47/50\n",
            "87/87 [==============================] - 0s 5ms/step - loss: 0.1526 - accuracy: 0.9166 - val_loss: 0.8830 - val_accuracy: 0.7435\n",
            "Epoch 48/50\n",
            "87/87 [==============================] - 0s 5ms/step - loss: 0.1486 - accuracy: 0.9177 - val_loss: 0.9009 - val_accuracy: 0.7446\n",
            "Epoch 49/50\n",
            "87/87 [==============================] - 0s 5ms/step - loss: 0.1609 - accuracy: 0.9123 - val_loss: 0.8956 - val_accuracy: 0.7414\n",
            "Epoch 50/50\n",
            "87/87 [==============================] - 0s 5ms/step - loss: 0.1479 - accuracy: 0.9173 - val_loss: 0.9051 - val_accuracy: 0.7435\n"
          ]
        }
      ],
      "source": [
        "# Model Training dengan menggunakan Dense Layer\n",
        "\n",
        "from tensorflow.keras.layers import Dense, GlobalAveragePooling1D, Input, LSTM, GRU\n",
        "from tensorflow.keras.models import Model, Sequential\n",
        "\n",
        "model = Sequential()\n",
        "model.add(text_vectorization)\n",
        "model.add(embedding)\n",
        "model.add(GlobalAveragePooling1D())\n",
        "model.add(Dense(32,activation='relu'))\n",
        "model.add(Dense(3,activation='softmax'))\n",
        "\n",
        "model.compile(loss='categorical_crossentropy',optimizer='adam',metrics='accuracy')\n",
        "\n",
        "model_dnn_hist_1 = model.fit(X_train,\n",
        "                         y_train_ohe,\n",
        "                         epochs=50,\n",
        "                         validation_data=(X_test, y_test_ohe))"
      ]
    },
    {
      "cell_type": "code",
      "execution_count": null,
      "metadata": {
        "id": "1qx-ceOC_M51",
        "colab": {
          "base_uri": "https://localhost:8080/",
          "height": 282
        },
        "outputId": "e40676ac-e1ad-48d7-b203-de11f593386c"
      },
      "outputs": [
        {
          "output_type": "execute_result",
          "data": {
            "text/plain": [
              "<matplotlib.axes._subplots.AxesSubplot at 0x7f17482e1ad0>"
            ]
          },
          "metadata": {},
          "execution_count": 26
        },
        {
          "output_type": "display_data",
          "data": {
            "text/plain": [
              "<Figure size 432x288 with 1 Axes>"
            ],
            "image/png": "[encoded data removed]"
          },
          "metadata": {
            "needs_background": "light"
          }
        }
      ],
      "source": [
        "# Melihat Performansi Model\n",
        "\n",
        "metrics = pd.DataFrame(model_dnn_hist_1.history)\n",
        "metrics[['loss', 'val_loss']].plot()"
      ]
    },
    {
      "cell_type": "markdown",
      "source": [
        "### LSTM"
      ],
      "metadata": {
        "id": "V_mwAah0HOKg"
      }
    },
    {
      "cell_type": "code",
      "execution_count": null,
      "metadata": {
        "colab": {
          "base_uri": "https://localhost:8080/"
        },
        "outputId": "b1f46fd5-ce0a-4c68-9008-3f29df69c69a",
        "id": "sS6hu4jIHano"
      },
      "outputs": [
        {
          "output_type": "stream",
          "name": "stdout",
          "text": [
            "Epoch 1/50\n",
            "87/87 [==============================] - 7s 19ms/step - loss: 0.6987 - accuracy: 0.7181 - val_loss: 0.6389 - val_accuracy: 0.7166\n",
            "Epoch 2/50\n",
            "87/87 [==============================] - 1s 10ms/step - loss: 0.2575 - accuracy: 0.8867 - val_loss: 0.7422 - val_accuracy: 0.7381\n",
            "Epoch 3/50\n",
            "87/87 [==============================] - 1s 9ms/step - loss: 0.2113 - accuracy: 0.8993 - val_loss: 0.7755 - val_accuracy: 0.7446\n",
            "Epoch 4/50\n",
            "87/87 [==============================] - 1s 9ms/step - loss: 0.2549 - accuracy: 0.9011 - val_loss: 1.0027 - val_accuracy: 0.7425\n",
            "Epoch 5/50\n",
            "87/87 [==============================] - 1s 10ms/step - loss: 0.1918 - accuracy: 0.9119 - val_loss: 0.7963 - val_accuracy: 0.7468\n",
            "Epoch 6/50\n",
            "87/87 [==============================] - 1s 9ms/step - loss: 0.1718 - accuracy: 0.9184 - val_loss: 1.0006 - val_accuracy: 0.7489\n",
            "Epoch 7/50\n",
            "87/87 [==============================] - 1s 9ms/step - loss: 0.1744 - accuracy: 0.9097 - val_loss: 0.8070 - val_accuracy: 0.7478\n",
            "Epoch 8/50\n",
            "87/87 [==============================] - 1s 9ms/step - loss: 0.1609 - accuracy: 0.9191 - val_loss: 0.8730 - val_accuracy: 0.7511\n",
            "Epoch 9/50\n",
            "87/87 [==============================] - 1s 10ms/step - loss: 0.1679 - accuracy: 0.9069 - val_loss: 0.8635 - val_accuracy: 0.7446\n",
            "Epoch 10/50\n",
            "87/87 [==============================] - 1s 10ms/step - loss: 0.1645 - accuracy: 0.9076 - val_loss: 0.8827 - val_accuracy: 0.7489\n",
            "Epoch 11/50\n",
            "87/87 [==============================] - 1s 10ms/step - loss: 0.1650 - accuracy: 0.9123 - val_loss: 0.8718 - val_accuracy: 0.7489\n",
            "Epoch 12/50\n",
            "87/87 [==============================] - 1s 9ms/step - loss: 0.1653 - accuracy: 0.9198 - val_loss: 0.8234 - val_accuracy: 0.7457\n",
            "Epoch 13/50\n",
            "87/87 [==============================] - 1s 10ms/step - loss: 0.1630 - accuracy: 0.9195 - val_loss: 0.9001 - val_accuracy: 0.7489\n",
            "Epoch 14/50\n",
            "87/87 [==============================] - 1s 9ms/step - loss: 0.1532 - accuracy: 0.9248 - val_loss: 0.9271 - val_accuracy: 0.7468\n",
            "Epoch 15/50\n",
            "87/87 [==============================] - 1s 10ms/step - loss: 0.1912 - accuracy: 0.9234 - val_loss: 1.0865 - val_accuracy: 0.7435\n",
            "Epoch 16/50\n",
            "87/87 [==============================] - 1s 9ms/step - loss: 0.2000 - accuracy: 0.9205 - val_loss: 0.9231 - val_accuracy: 0.7457\n",
            "Epoch 17/50\n",
            "87/87 [==============================] - 1s 9ms/step - loss: 0.2273 - accuracy: 0.9177 - val_loss: 0.7699 - val_accuracy: 0.7381\n",
            "Epoch 18/50\n",
            "87/87 [==============================] - 1s 10ms/step - loss: 0.1844 - accuracy: 0.9047 - val_loss: 0.9083 - val_accuracy: 0.7371\n",
            "Epoch 19/50\n",
            "87/87 [==============================] - 1s 10ms/step - loss: 0.1674 - accuracy: 0.9108 - val_loss: 0.8635 - val_accuracy: 0.7371\n",
            "Epoch 20/50\n",
            "87/87 [==============================] - 1s 10ms/step - loss: 0.1608 - accuracy: 0.9184 - val_loss: 0.9050 - val_accuracy: 0.7425\n",
            "Epoch 21/50\n",
            "87/87 [==============================] - 1s 10ms/step - loss: 0.1577 - accuracy: 0.9259 - val_loss: 0.8852 - val_accuracy: 0.7403\n",
            "Epoch 22/50\n",
            "87/87 [==============================] - 1s 10ms/step - loss: 0.1543 - accuracy: 0.9248 - val_loss: 0.9088 - val_accuracy: 0.7446\n",
            "Epoch 23/50\n",
            "87/87 [==============================] - 1s 14ms/step - loss: 0.1485 - accuracy: 0.9241 - val_loss: 0.9197 - val_accuracy: 0.7446\n",
            "Epoch 24/50\n",
            "87/87 [==============================] - 1s 14ms/step - loss: 0.1529 - accuracy: 0.9227 - val_loss: 0.8748 - val_accuracy: 0.7468\n",
            "Epoch 25/50\n",
            "87/87 [==============================] - 1s 10ms/step - loss: 0.1498 - accuracy: 0.9295 - val_loss: 0.9304 - val_accuracy: 0.7468\n",
            "Epoch 26/50\n",
            "87/87 [==============================] - 1s 9ms/step - loss: 0.1811 - accuracy: 0.9144 - val_loss: 0.8248 - val_accuracy: 0.7435\n",
            "Epoch 27/50\n",
            "87/87 [==============================] - 1s 9ms/step - loss: 0.1945 - accuracy: 0.9187 - val_loss: 0.8410 - val_accuracy: 0.7446\n",
            "Epoch 28/50\n",
            "87/87 [==============================] - 1s 10ms/step - loss: 0.1734 - accuracy: 0.9169 - val_loss: 0.8232 - val_accuracy: 0.7425\n",
            "Epoch 29/50\n",
            "87/87 [==============================] - 1s 9ms/step - loss: 0.1617 - accuracy: 0.9169 - val_loss: 0.8720 - val_accuracy: 0.7425\n",
            "Epoch 30/50\n",
            "87/87 [==============================] - 1s 9ms/step - loss: 0.1587 - accuracy: 0.9227 - val_loss: 0.8162 - val_accuracy: 0.7435\n",
            "Epoch 31/50\n",
            "87/87 [==============================] - 1s 10ms/step - loss: 0.1563 - accuracy: 0.9220 - val_loss: 0.8656 - val_accuracy: 0.7446\n",
            "Epoch 32/50\n",
            "87/87 [==============================] - 1s 10ms/step - loss: 0.1541 - accuracy: 0.9198 - val_loss: 0.9121 - val_accuracy: 0.7446\n",
            "Epoch 33/50\n",
            "87/87 [==============================] - 1s 10ms/step - loss: 0.1513 - accuracy: 0.9238 - val_loss: 0.9037 - val_accuracy: 0.7414\n",
            "Epoch 34/50\n",
            "87/87 [==============================] - 1s 10ms/step - loss: 0.1518 - accuracy: 0.9209 - val_loss: 0.9428 - val_accuracy: 0.7425\n",
            "Epoch 35/50\n",
            "87/87 [==============================] - 1s 9ms/step - loss: 0.1506 - accuracy: 0.9227 - val_loss: 0.8537 - val_accuracy: 0.7435\n",
            "Epoch 36/50\n",
            "87/87 [==============================] - 1s 10ms/step - loss: 0.1514 - accuracy: 0.9198 - val_loss: 0.9677 - val_accuracy: 0.7403\n",
            "Epoch 37/50\n",
            "87/87 [==============================] - 1s 10ms/step - loss: 0.1532 - accuracy: 0.9209 - val_loss: 0.9603 - val_accuracy: 0.7446\n",
            "Epoch 38/50\n",
            "87/87 [==============================] - 1s 9ms/step - loss: 0.1483 - accuracy: 0.9227 - val_loss: 0.9760 - val_accuracy: 0.7457\n",
            "Epoch 39/50\n",
            "87/87 [==============================] - 1s 10ms/step - loss: 0.1512 - accuracy: 0.9259 - val_loss: 0.8438 - val_accuracy: 0.7435\n",
            "Epoch 40/50\n",
            "87/87 [==============================] - 1s 12ms/step - loss: 0.1513 - accuracy: 0.9234 - val_loss: 0.9458 - val_accuracy: 0.7446\n",
            "Epoch 41/50\n",
            "87/87 [==============================] - 1s 14ms/step - loss: 0.1464 - accuracy: 0.9266 - val_loss: 1.0092 - val_accuracy: 0.7446\n",
            "Epoch 42/50\n",
            "87/87 [==============================] - 1s 13ms/step - loss: 0.1457 - accuracy: 0.9248 - val_loss: 1.0123 - val_accuracy: 0.7414\n",
            "Epoch 43/50\n",
            "87/87 [==============================] - 1s 10ms/step - loss: 0.1450 - accuracy: 0.9270 - val_loss: 0.9948 - val_accuracy: 0.7435\n",
            "Epoch 44/50\n",
            "87/87 [==============================] - 1s 10ms/step - loss: 0.1447 - accuracy: 0.9238 - val_loss: 1.0265 - val_accuracy: 0.7457\n",
            "Epoch 45/50\n",
            "87/87 [==============================] - 1s 10ms/step - loss: 0.1436 - accuracy: 0.9277 - val_loss: 1.0444 - val_accuracy: 0.7435\n",
            "Epoch 46/50\n",
            "87/87 [==============================] - 1s 9ms/step - loss: 0.1474 - accuracy: 0.9234 - val_loss: 0.8571 - val_accuracy: 0.7435\n",
            "Epoch 47/50\n",
            "87/87 [==============================] - 1s 10ms/step - loss: 0.1465 - accuracy: 0.9252 - val_loss: 0.9950 - val_accuracy: 0.7425\n",
            "Epoch 48/50\n",
            "87/87 [==============================] - 1s 10ms/step - loss: 0.1465 - accuracy: 0.9238 - val_loss: 0.9130 - val_accuracy: 0.7435\n",
            "Epoch 49/50\n",
            "87/87 [==============================] - 1s 10ms/step - loss: 0.1478 - accuracy: 0.9238 - val_loss: 1.0251 - val_accuracy: 0.7381\n",
            "Epoch 50/50\n",
            "87/87 [==============================] - 1s 10ms/step - loss: 0.1428 - accuracy: 0.9191 - val_loss: 1.0566 - val_accuracy: 0.7392\n"
          ]
        }
      ],
      "source": [
        "# Model Training dengan Menggunakan LSTM\n",
        "\n",
        "model = Sequential()\n",
        "model.add(text_vectorization)\n",
        "model.add(embedding)\n",
        "model.add(LSTM(32, return_sequences=True))\n",
        "model.add(LSTM(32))\n",
        "model.add(Dense(3,activation='softmax'))\n",
        "\n",
        "model.compile(loss='categorical_crossentropy',optimizer='adam',metrics='accuracy')\n",
        "\n",
        "model_lstm_hist_1 = model.fit(X_train,\n",
        "                         y_train_ohe,\n",
        "                         epochs=50,\n",
        "                         validation_data=(X_test, y_test_ohe))"
      ]
    },
    {
      "cell_type": "code",
      "execution_count": null,
      "metadata": {
        "colab": {
          "base_uri": "https://localhost:8080/",
          "height": 282
        },
        "outputId": "645183e3-4189-4cdf-a1f9-20f43c02d397",
        "id": "gKtV9wjPHanq"
      },
      "outputs": [
        {
          "output_type": "execute_result",
          "data": {
            "text/plain": [
              "<matplotlib.axes._subplots.AxesSubplot at 0x7f1745f929d0>"
            ]
          },
          "metadata": {},
          "execution_count": 28
        },
        {
          "output_type": "display_data",
          "data": {
            "text/plain": [
              "<Figure size 432x288 with 1 Axes>"
            ],
            "image/png": "[encoded data removed]"
          },
          "metadata": {
            "needs_background": "light"
          }
        }
      ],
      "source": [
        "# Melihat Performansi Model\n",
        "\n",
        "metrics = pd.DataFrame(model_lstm_hist_1.history)\n",
        "metrics[['loss', 'val_loss']].plot()"
      ]
    },
    {
      "cell_type": "markdown",
      "metadata": {
        "id": "dRipiVUHHfPa"
      },
      "source": [
        "---\n",
        "### GRU"
      ]
    },
    {
      "cell_type": "code",
      "execution_count": null,
      "metadata": {
        "colab": {
          "base_uri": "https://localhost:8080/"
        },
        "outputId": "742e4e7e-0535-4437-c34a-ed4ef778052e",
        "id": "r8t1ZbkJHfPg"
      },
      "outputs": [
        {
          "output_type": "stream",
          "name": "stdout",
          "text": [
            "Epoch 1/50\n",
            "87/87 [==============================] - 5s 17ms/step - loss: 0.7809 - accuracy: 0.6796 - val_loss: 0.7397 - val_accuracy: 0.6929\n",
            "Epoch 2/50\n",
            "87/87 [==============================] - 1s 9ms/step - loss: 0.7397 - accuracy: 0.6926 - val_loss: 0.7302 - val_accuracy: 0.6929\n",
            "Epoch 3/50\n",
            "87/87 [==============================] - 1s 9ms/step - loss: 0.4525 - accuracy: 0.8051 - val_loss: 0.7701 - val_accuracy: 0.7252\n",
            "Epoch 4/50\n",
            "87/87 [==============================] - 1s 9ms/step - loss: 0.1931 - accuracy: 0.9123 - val_loss: 0.7991 - val_accuracy: 0.7403\n",
            "Epoch 5/50\n",
            "87/87 [==============================] - 1s 9ms/step - loss: 0.1625 - accuracy: 0.9223 - val_loss: 0.8518 - val_accuracy: 0.7457\n",
            "Epoch 6/50\n",
            "87/87 [==============================] - 1s 9ms/step - loss: 0.1547 - accuracy: 0.9223 - val_loss: 0.8884 - val_accuracy: 0.7478\n",
            "Epoch 7/50\n",
            "87/87 [==============================] - 1s 9ms/step - loss: 0.1504 - accuracy: 0.9248 - val_loss: 0.9220 - val_accuracy: 0.7446\n",
            "Epoch 8/50\n",
            "87/87 [==============================] - 1s 9ms/step - loss: 0.1471 - accuracy: 0.9195 - val_loss: 0.9507 - val_accuracy: 0.7414\n",
            "Epoch 9/50\n",
            "87/87 [==============================] - 1s 9ms/step - loss: 0.1490 - accuracy: 0.9245 - val_loss: 0.9482 - val_accuracy: 0.7478\n",
            "Epoch 10/50\n",
            "87/87 [==============================] - 1s 9ms/step - loss: 0.1484 - accuracy: 0.9234 - val_loss: 1.0102 - val_accuracy: 0.7468\n",
            "Epoch 11/50\n",
            "87/87 [==============================] - 1s 9ms/step - loss: 0.1416 - accuracy: 0.9277 - val_loss: 1.0202 - val_accuracy: 0.7414\n",
            "Epoch 12/50\n",
            "87/87 [==============================] - 1s 9ms/step - loss: 0.1432 - accuracy: 0.9259 - val_loss: 0.9921 - val_accuracy: 0.7446\n",
            "Epoch 13/50\n",
            "87/87 [==============================] - 1s 9ms/step - loss: 0.1422 - accuracy: 0.9223 - val_loss: 1.0134 - val_accuracy: 0.7457\n",
            "Epoch 14/50\n",
            "87/87 [==============================] - 1s 9ms/step - loss: 0.1408 - accuracy: 0.9241 - val_loss: 1.0669 - val_accuracy: 0.7489\n",
            "Epoch 15/50\n",
            "87/87 [==============================] - 1s 9ms/step - loss: 0.1407 - accuracy: 0.9284 - val_loss: 1.0661 - val_accuracy: 0.7468\n",
            "Epoch 16/50\n",
            "87/87 [==============================] - 1s 9ms/step - loss: 0.1388 - accuracy: 0.9256 - val_loss: 1.0240 - val_accuracy: 0.7381\n",
            "Epoch 17/50\n",
            "87/87 [==============================] - 1s 9ms/step - loss: 0.1415 - accuracy: 0.9238 - val_loss: 1.0595 - val_accuracy: 0.7392\n",
            "Epoch 18/50\n",
            "87/87 [==============================] - 1s 9ms/step - loss: 0.1392 - accuracy: 0.9256 - val_loss: 1.1092 - val_accuracy: 0.7446\n",
            "Epoch 19/50\n",
            "87/87 [==============================] - 1s 9ms/step - loss: 0.1379 - accuracy: 0.9205 - val_loss: 1.1664 - val_accuracy: 0.7381\n",
            "Epoch 20/50\n",
            "87/87 [==============================] - 1s 9ms/step - loss: 0.1378 - accuracy: 0.9281 - val_loss: 1.1007 - val_accuracy: 0.7435\n",
            "Epoch 21/50\n",
            "87/87 [==============================] - 1s 9ms/step - loss: 0.1380 - accuracy: 0.9205 - val_loss: 1.0960 - val_accuracy: 0.7435\n",
            "Epoch 22/50\n",
            "87/87 [==============================] - 1s 9ms/step - loss: 0.1376 - accuracy: 0.9270 - val_loss: 1.1242 - val_accuracy: 0.7414\n",
            "Epoch 23/50\n",
            "87/87 [==============================] - 1s 10ms/step - loss: 0.1369 - accuracy: 0.9230 - val_loss: 1.1270 - val_accuracy: 0.7425\n",
            "Epoch 24/50\n",
            "87/87 [==============================] - 1s 9ms/step - loss: 0.1368 - accuracy: 0.9259 - val_loss: 1.1475 - val_accuracy: 0.7414\n",
            "Epoch 25/50\n",
            "87/87 [==============================] - 1s 9ms/step - loss: 0.1360 - accuracy: 0.9230 - val_loss: 1.1280 - val_accuracy: 0.7371\n",
            "Epoch 26/50\n",
            "87/87 [==============================] - 1s 9ms/step - loss: 0.1404 - accuracy: 0.9241 - val_loss: 1.0961 - val_accuracy: 0.7295\n",
            "Epoch 27/50\n",
            "87/87 [==============================] - 1s 9ms/step - loss: 0.1454 - accuracy: 0.9202 - val_loss: 1.1792 - val_accuracy: 0.7435\n",
            "Epoch 28/50\n",
            "87/87 [==============================] - 1s 9ms/step - loss: 0.1619 - accuracy: 0.9205 - val_loss: 1.0131 - val_accuracy: 0.7403\n",
            "Epoch 29/50\n",
            "87/87 [==============================] - 1s 9ms/step - loss: 0.1363 - accuracy: 0.9270 - val_loss: 1.0649 - val_accuracy: 0.7446\n",
            "Epoch 30/50\n",
            "87/87 [==============================] - 1s 9ms/step - loss: 0.1354 - accuracy: 0.9259 - val_loss: 1.0775 - val_accuracy: 0.7457\n",
            "Epoch 31/50\n",
            "87/87 [==============================] - 1s 9ms/step - loss: 0.1325 - accuracy: 0.9252 - val_loss: 1.1211 - val_accuracy: 0.7371\n",
            "Epoch 32/50\n",
            "87/87 [==============================] - 1s 9ms/step - loss: 0.1337 - accuracy: 0.9227 - val_loss: 1.1170 - val_accuracy: 0.7446\n",
            "Epoch 33/50\n",
            "87/87 [==============================] - 1s 9ms/step - loss: 0.1325 - accuracy: 0.9263 - val_loss: 1.1521 - val_accuracy: 0.7425\n",
            "Epoch 34/50\n",
            "87/87 [==============================] - 1s 9ms/step - loss: 0.1322 - accuracy: 0.9266 - val_loss: 1.1710 - val_accuracy: 0.7425\n",
            "Epoch 35/50\n",
            "87/87 [==============================] - 1s 9ms/step - loss: 0.1328 - accuracy: 0.9281 - val_loss: 1.1318 - val_accuracy: 0.7435\n",
            "Epoch 36/50\n",
            "87/87 [==============================] - 1s 9ms/step - loss: 0.1322 - accuracy: 0.9259 - val_loss: 1.1726 - val_accuracy: 0.7414\n",
            "Epoch 37/50\n",
            "87/87 [==============================] - 1s 9ms/step - loss: 0.1317 - accuracy: 0.9241 - val_loss: 1.1833 - val_accuracy: 0.7414\n",
            "Epoch 38/50\n",
            "87/87 [==============================] - 1s 9ms/step - loss: 0.1321 - accuracy: 0.9220 - val_loss: 1.1658 - val_accuracy: 0.7425\n",
            "Epoch 39/50\n",
            "87/87 [==============================] - 1s 9ms/step - loss: 0.1320 - accuracy: 0.9234 - val_loss: 1.1648 - val_accuracy: 0.7414\n",
            "Epoch 40/50\n",
            "87/87 [==============================] - 1s 9ms/step - loss: 0.1318 - accuracy: 0.9216 - val_loss: 1.1959 - val_accuracy: 0.7500\n",
            "Epoch 41/50\n",
            "87/87 [==============================] - 1s 9ms/step - loss: 0.1329 - accuracy: 0.9270 - val_loss: 1.1779 - val_accuracy: 0.7414\n",
            "Epoch 42/50\n",
            "87/87 [==============================] - 1s 9ms/step - loss: 0.1322 - accuracy: 0.9270 - val_loss: 1.1868 - val_accuracy: 0.7446\n",
            "Epoch 43/50\n",
            "87/87 [==============================] - 1s 9ms/step - loss: 0.1650 - accuracy: 0.9195 - val_loss: 1.0200 - val_accuracy: 0.7392\n",
            "Epoch 44/50\n",
            "87/87 [==============================] - 1s 9ms/step - loss: 0.1339 - accuracy: 0.9227 - val_loss: 1.1062 - val_accuracy: 0.7403\n",
            "Epoch 45/50\n",
            "87/87 [==============================] - 1s 9ms/step - loss: 0.1315 - accuracy: 0.9245 - val_loss: 1.1423 - val_accuracy: 0.7392\n",
            "Epoch 46/50\n",
            "87/87 [==============================] - 1s 10ms/step - loss: 0.1310 - accuracy: 0.9270 - val_loss: 1.1542 - val_accuracy: 0.7403\n",
            "Epoch 47/50\n",
            "87/87 [==============================] - 1s 9ms/step - loss: 0.1313 - accuracy: 0.9263 - val_loss: 1.1775 - val_accuracy: 0.7414\n",
            "Epoch 48/50\n",
            "87/87 [==============================] - 1s 9ms/step - loss: 0.1299 - accuracy: 0.9223 - val_loss: 1.2199 - val_accuracy: 0.7414\n",
            "Epoch 49/50\n",
            "87/87 [==============================] - 1s 9ms/step - loss: 0.1307 - accuracy: 0.9277 - val_loss: 1.1728 - val_accuracy: 0.7381\n",
            "Epoch 50/50\n",
            "87/87 [==============================] - 1s 9ms/step - loss: 0.1305 - accuracy: 0.9241 - val_loss: 1.2064 - val_accuracy: 0.7392\n"
          ]
        }
      ],
      "source": [
        "# Model Training dengan Menggunakan GRU\n",
        "\n",
        "model = Sequential()\n",
        "model.add(text_vectorization)\n",
        "model.add(embedding)\n",
        "model.add(GRU(32, return_sequences=True))\n",
        "model.add(GRU(32))\n",
        "model.add(Dense(3,activation='softmax'))\n",
        "\n",
        "model.compile(loss='categorical_crossentropy',optimizer='adam',metrics='accuracy')\n",
        "\n",
        "model_gru_hist_1 = model.fit(X_train,\n",
        "                         y_train_ohe,\n",
        "                         epochs=50,\n",
        "                         validation_data=(X_test, y_test_ohe))"
      ]
    },
    {
      "cell_type": "code",
      "execution_count": null,
      "metadata": {
        "colab": {
          "base_uri": "https://localhost:8080/",
          "height": 282
        },
        "outputId": "c1c1dcca-06f9-45e7-cd4c-49a238a9b0e9",
        "id": "9tdn-a0CHfPl"
      },
      "outputs": [
        {
          "output_type": "execute_result",
          "data": {
            "text/plain": [
              "<matplotlib.axes._subplots.AxesSubplot at 0x7f1745355f50>"
            ]
          },
          "metadata": {},
          "execution_count": 30
        },
        {
          "output_type": "display_data",
          "data": {
            "text/plain": [
              "<Figure size 432x288 with 1 Axes>"
            ],
            "image/png": "[encoded data removed]"
          },
          "metadata": {
            "needs_background": "light"
          }
        }
      ],
      "source": [
        "metrics = pd.DataFrame(model_gru_hist_1.history)\n",
        "metrics[['loss', 'val_loss']].plot()"
      ]
    }
  ],
  "metadata": {
    "accelerator": "GPU",
    "colab": {
      "provenance": [],
      "collapsed_sections": [],
      "toc_visible": true
    },
    "gpuClass": "standard",
    "kernelspec": {
      "display_name": "Python 3",
      "name": "python3"
    },
    "language_info": {
      "name": "python"
    }
  },
  "nbformat": 4,
  "nbformat_minor": 0
}