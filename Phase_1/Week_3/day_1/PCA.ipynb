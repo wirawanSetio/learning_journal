{
  "nbformat": 4,
  "nbformat_minor": 0,
  "metadata": {
    "colab": {
      "name": "PCA.ipynb",
      "provenance": [],
      "collapsed_sections": []
    },
    "kernelspec": {
      "name": "python3",
      "display_name": "Python 3"
    },
    "language_info": {
      "name": "python"
    }
  },
  "cells": [
    {
      "cell_type": "code",
      "execution_count": null,
      "metadata": {
        "id": "KPivIma_Yydu"
      },
      "outputs": [],
      "source": [
        "import numpy as np\n",
        "import pandas as pd\n",
        "import matplotlib.pyplot as plt\n",
        "import seaborn as sns"
      ]
    },
    {
      "cell_type": "code",
      "source": [
        "df = pd.read_csv(\"https://raw.githubusercontent.com/DianCA26/Dataset/main/CarPrice_Assignment.csv\")"
      ],
      "metadata": {
        "id": "TI2xIMgIY3PI"
      },
      "execution_count": null,
      "outputs": []
    },
    {
      "cell_type": "code",
      "source": [
        "df.select_dtypes(include=np.number).columns.tolist()"
      ],
      "metadata": {
        "colab": {
          "base_uri": "https://localhost:8080/"
        },
        "id": "GREee6MUgM-H",
        "outputId": "9353100a-d755-4301-b9e5-3c14132c492d"
      },
      "execution_count": null,
      "outputs": [
        {
          "output_type": "execute_result",
          "data": {
            "text/plain": [
              "['car_ID',\n",
              " 'symboling',\n",
              " 'wheelbase',\n",
              " 'carlength',\n",
              " 'carwidth',\n",
              " 'carheight',\n",
              " 'curbweight',\n",
              " 'enginesize',\n",
              " 'boreratio',\n",
              " 'stroke',\n",
              " 'compressionratio',\n",
              " 'horsepower',\n",
              " 'peakrpm',\n",
              " 'citympg',\n",
              " 'highwaympg',\n",
              " 'price']"
            ]
          },
          "metadata": {},
          "execution_count": 3
        }
      ]
    },
    {
      "cell_type": "code",
      "source": [
        "X = df[['symboling',\n",
        " 'wheelbase',\n",
        " 'carlength',\n",
        " 'carwidth',\n",
        " 'carheight',\n",
        " 'curbweight',\n",
        " 'enginesize',\n",
        " 'boreratio',\n",
        " 'stroke',\n",
        " 'compressionratio',\n",
        " 'horsepower',\n",
        " 'peakrpm',\n",
        " 'citympg',\n",
        " 'highwaympg']]\n",
        "y = df['price']"
      ],
      "metadata": {
        "id": "Z1s_g6FNY7Aw"
      },
      "execution_count": null,
      "outputs": []
    },
    {
      "cell_type": "code",
      "source": [
        "from sklearn.model_selection import train_test_split\n",
        "X_train, X_test, y_train, y_test = train_test_split(X, y, test_size=0.2, random_state=26)"
      ],
      "metadata": {
        "id": "pF_n8PulY_gR"
      },
      "execution_count": null,
      "outputs": []
    },
    {
      "cell_type": "code",
      "source": [
        "from sklearn.preprocessing import StandardScaler\n",
        "sc=StandardScaler()\n",
        "sc.fit(X_train)\n",
        "X_train_sc=sc.transform(X_train)\n",
        "X_test_sc=sc.transform(X_test)"
      ],
      "metadata": {
        "id": "w5IOTx9TZQ4B"
      },
      "execution_count": null,
      "outputs": []
    },
    {
      "cell_type": "code",
      "source": [
        "from sklearn.decomposition import PCA\n",
        "pca = PCA()\n",
        "pca.fit(X_train_sc)\n",
        "cumsum = np.cumsum(pca.explained_variance_ratio_)\n",
        "d = np.argmax(cumsum >= 0.95) + 1"
      ],
      "metadata": {
        "id": "M9GSBzrAkZXo"
      },
      "execution_count": null,
      "outputs": []
    },
    {
      "cell_type": "code",
      "source": [
        "plt.figure(figsize=(6,4))\n",
        "plt.plot(cumsum, linewidth=3)\n",
        "plt.axis([0, 14, 0, 1])\n",
        "plt.xlabel(\"Dimensions\")\n",
        "plt.ylabel(\"Explained Variance\")\n",
        "plt.plot([d, d], [0, 0.95], \"k:\")\n",
        "plt.plot([0, d], [0.95, 0.95], \"k:\")\n",
        "plt.plot(d, 0.95, \"ko\")\n",
        "plt.grid(True)\n",
        "plt.show()"
      ],
      "metadata": {
        "colab": {
          "base_uri": "https://localhost:8080/",
          "height": 283
        },
        "id": "P33QoarnkVMf",
        "outputId": "b02786f1-6eba-44ac-a867-978dc91dfb0a"
      },
      "execution_count": null,
      "outputs": [
        {
          "output_type": "display_data",
          "data": {
            "text/plain": [
              "<Figure size 432x288 with 1 Axes>"
            ],
            "image/png": "[encoded data removed]"
          },
          "metadata": {
            "needs_background": "light"
          }
        }
      ]
    },
    {
      "cell_type": "code",
      "source": [
        "pca = PCA(n_components=8)\n",
        "pca.fit(X_train_sc)\n",
        "X_reduced = pca.transform(X_train_sc)\n",
        "X_reduced_test = pca.transform(X_test_sc)"
      ],
      "metadata": {
        "id": "12HeODghiMbC"
      },
      "execution_count": null,
      "outputs": []
    },
    {
      "cell_type": "code",
      "source": [
        "from sklearn.svm import SVR\n",
        "model = SVR(kernel=\"poly\", degree=3,C=1000,epsilon=0.01)\n",
        "model.fit(X_reduced, y_train)\n",
        "y_train_pred = model.predict(X_reduced)\n",
        "y_test_pred = model.predict(X_reduced_test)"
      ],
      "metadata": {
        "id": "U7uKxyyKZCj-"
      },
      "execution_count": null,
      "outputs": []
    },
    {
      "cell_type": "code",
      "source": [
        "from sklearn.metrics import mean_absolute_error,mean_squared_error,r2_score\n",
        "\n",
        "print('MAE train = ', mean_absolute_error(y_train, y_train_pred))\n",
        "print('MAE test = ', mean_absolute_error(y_test, y_test_pred))\n",
        "\n",
        "print('MSE train = ', mean_squared_error(y_train, y_train_pred))\n",
        "print('MSE test = ', mean_squared_error(y_test, y_test_pred))\n",
        "\n",
        "print('RMSE train = ', np.sqrt(mean_squared_error(y_train, y_train_pred)))\n",
        "print('RMSE test = ', np.sqrt(mean_squared_error(y_test, y_test_pred)))\n",
        "\n",
        "print('r2score train = ', r2_score(y_train, y_train_pred))\n",
        "print('r2score test = ', r2_score(y_test, y_test_pred))\n"
      ],
      "metadata": {
        "colab": {
          "base_uri": "https://localhost:8080/"
        },
        "id": "2yZf-srFlKSR",
        "outputId": "159c93de-0c55-41fa-a3a6-d63f051e64cb"
      },
      "execution_count": null,
      "outputs": [
        {
          "output_type": "stream",
          "name": "stdout",
          "text": [
            "MAE train =  2410.9832381191954\n",
            "MAE test =  2451.112221547898\n",
            "MSE train =  18225706.135280594\n",
            "MSE test =  21976605.659454413\n",
            "RMSE train =  4269.157543975227\n",
            "RMSE test =  4687.921251413511\n",
            "r2score train =  0.730865659312392\n",
            "r2score test =  0.5144144708544613\n"
          ]
        }
      ]
    },
    {
      "cell_type": "markdown",
      "source": [
        "# **Pipeline**"
      ],
      "metadata": {
        "id": "AQrrUn2FiNYJ"
      }
    },
    {
      "cell_type": "code",
      "source": [
        "from sklearn.pipeline import Pipeline"
      ],
      "metadata": {
        "id": "hbP4LqeRnwLe"
      },
      "execution_count": null,
      "outputs": []
    },
    {
      "cell_type": "code",
      "source": [
        "pipe = Pipeline([(\"scale\", StandardScaler()),\n",
        "                 (\"pca\",PCA(n_components=8)),\n",
        "                 (\"svr\", SVR(kernel='poly',degree=3,C=1000,epsilon=0.01))])\n",
        "pipe.fit(X_train,y_train)"
      ],
      "metadata": {
        "colab": {
          "base_uri": "https://localhost:8080/"
        },
        "id": "OZK3jMhkZDSe",
        "outputId": "4b812e9e-4f85-4565-c625-db0b93b37f90"
      },
      "execution_count": null,
      "outputs": [
        {
          "output_type": "execute_result",
          "data": {
            "text/plain": [
              "Pipeline(steps=[('scale', StandardScaler()), ('pca', PCA(n_components=8)),\n",
              "                ('svr', SVR(C=1000, epsilon=0.01, kernel='poly'))])"
            ]
          },
          "metadata": {},
          "execution_count": 13
        }
      ]
    },
    {
      "cell_type": "code",
      "source": [
        "y_train_pred = pipe.predict(X_train)\n",
        "y_test_pred = pipe.predict(X_test)"
      ],
      "metadata": {
        "id": "7dw-Lk_sohuA"
      },
      "execution_count": null,
      "outputs": []
    },
    {
      "cell_type": "code",
      "source": [
        "print('MAE train = ', mean_absolute_error(y_train, y_train_pred))\n",
        "print('MAE test = ', mean_absolute_error(y_test, y_test_pred))\n",
        "\n",
        "print('MSE train = ', mean_squared_error(y_train, y_train_pred))\n",
        "print('MSE test = ', mean_squared_error(y_test, y_test_pred))\n",
        "\n",
        "print('RMSE train = ', np.sqrt(mean_squared_error(y_train, y_train_pred)))\n",
        "print('RMSE test = ', np.sqrt(mean_squared_error(y_test, y_test_pred)))\n",
        "\n",
        "print('r2score train = ', r2_score(y_train, y_train_pred))\n",
        "print('r2score test = ', r2_score(y_test, y_test_pred))\n"
      ],
      "metadata": {
        "colab": {
          "base_uri": "https://localhost:8080/"
        },
        "id": "f_XYfycKozx-",
        "outputId": "50c0a94d-9b83-4fe8-c510-fd727cb29501"
      },
      "execution_count": null,
      "outputs": [
        {
          "output_type": "stream",
          "name": "stdout",
          "text": [
            "MAE train =  2410.9832381191945\n",
            "MAE test =  2451.1122215479027\n",
            "MSE train =  18225706.135280598\n",
            "MSE test =  21976605.65945438\n",
            "RMSE train =  4269.157543975228\n",
            "RMSE test =  4687.921251413507\n",
            "r2score train =  0.7308656593123919\n",
            "r2score test =  0.514414470854462\n"
          ]
        }
      ]
    },
    {
      "cell_type": "markdown",
      "source": [
        "# **GridSearch**"
      ],
      "metadata": {
        "id": "s42ZIJhOoNRc"
      }
    },
    {
      "cell_type": "code",
      "source": [
        "from sklearn.model_selection import GridSearchCV"
      ],
      "metadata": {
        "id": "H3baX726l03A"
      },
      "execution_count": null,
      "outputs": []
    },
    {
      "cell_type": "code",
      "source": [
        "param_grid = [{'kernel': ['rbf'],\n",
        "               'C': [0.001, 0.01, 0.1, 1, 10, 100],\n",
        "               'gamma': [0.001, 0.01, 0.1, 1, 10, 100]},\n",
        "              {'kernel': ['linear'],\n",
        "               'C': [0.001, 0.01, 0.1, 1, 10, 100]},\n",
        "              {'kernel': ['poly'],\n",
        "               'degree': [2,3,4,5,6,7,8],\n",
        "               'epsilon': [0.01, 0.02, 0.05, 1, 10, 100, 1000],\n",
        "               'C': [0.001, 0.01, 0.1, 1, 10, 100, 1000, 10000, 100000]}]"
      ],
      "metadata": {
        "id": "_uHaiElLl5YZ"
      },
      "execution_count": null,
      "outputs": []
    },
    {
      "cell_type": "code",
      "source": [
        "grid_search = GridSearchCV(SVR(), param_grid, cv=5, scoring=\"r2\")\n",
        "grid_search.fit(X_reduced, y_train)\n",
        "print(\"Best parameters: {}\".format(grid_search.best_params_))\n",
        "print(\"Best cross-validation score: {:.2f}\".format(grid_search.best_score_))"
      ],
      "metadata": {
        "colab": {
          "base_uri": "https://localhost:8080/"
        },
        "id": "FIkvF2iil95C",
        "outputId": "65ce6286-c03e-41e3-d9b0-3f17f7c109a6"
      },
      "execution_count": null,
      "outputs": [
        {
          "output_type": "stream",
          "name": "stdout",
          "text": [
            "Best parameters: {'C': 100, 'kernel': 'linear'}\n",
            "Best cross-validation score: 0.71\n"
          ]
        }
      ]
    },
    {
      "cell_type": "code",
      "source": [
        "y_train_pred=grid_search.best_estimator_.predict(X_reduced)\n",
        "y_test_pred=grid_search.best_estimator_.predict(X_reduced_test)"
      ],
      "metadata": {
        "id": "S1wPVKEUnSsy"
      },
      "execution_count": null,
      "outputs": []
    },
    {
      "cell_type": "code",
      "source": [
        "print('MAE train = ', mean_absolute_error(y_train, y_train_pred))\n",
        "print('MAE test = ', mean_absolute_error(y_test, y_test_pred))\n",
        "\n",
        "print('MSE train = ', mean_squared_error(y_train, y_train_pred))\n",
        "print('MSE test = ', mean_squared_error(y_test, y_test_pred))\n",
        "\n",
        "print('RMSE train = ', np.sqrt(mean_squared_error(y_train, y_train_pred)))\n",
        "print('RMSE test = ', np.sqrt(mean_squared_error(y_test, y_test_pred)))\n",
        "\n",
        "print('r2score train = ', r2_score(y_train, y_train_pred))\n",
        "print('r2score test = ', r2_score(y_test, y_test_pred))"
      ],
      "metadata": {
        "colab": {
          "base_uri": "https://localhost:8080/"
        },
        "id": "8rUOHpJ5nZDV",
        "outputId": "b05490d2-ab04-4e07-87ca-63bc13ac1651"
      },
      "execution_count": null,
      "outputs": [
        {
          "output_type": "stream",
          "name": "stdout",
          "text": [
            "MAE train =  2338.9558006691095\n",
            "MAE test =  2264.5186700664467\n",
            "MSE train =  17041363.439304013\n",
            "MSE test =  8920244.142359426\n",
            "RMSE train =  4128.118631931986\n",
            "RMSE test =  2986.6777767880194\n",
            "r2score train =  0.7483545449700413\n",
            "r2score test =  0.8029021615487035\n"
          ]
        }
      ]
    },
    {
      "cell_type": "markdown",
      "source": [
        "# **Gridsearch_pipe**"
      ],
      "metadata": {
        "id": "GBSt7PvRrTiH"
      }
    },
    {
      "cell_type": "code",
      "source": [
        "pipe = Pipeline([(\"scale\", StandardScaler()),\n",
        "                 (\"pca\",PCA(n_components=8)),\n",
        "                 (\"svr\", SVR(kernel='poly',degree=3,C=1000,epsilon=0.01))])"
      ],
      "metadata": {
        "id": "8SDvbUgHGsrL"
      },
      "execution_count": null,
      "outputs": []
    },
    {
      "cell_type": "code",
      "source": [
        "param_grid = [{'kernel': ['rbf'],\n",
        "               'C': [0.001, 0.01, 0.1, 1, 10, 100],\n",
        "               'gamma': [0.001, 0.01, 0.1, 1, 10, 100]},\n",
        "              {'kernel': ['linear'],\n",
        "               'C': [0.001, 0.01, 0.1, 1, 10, 100]},\n",
        "              {'kernel': ['poly'],\n",
        "               'degree': [2,3,4,5,6,7,8],\n",
        "               'epsilon': [0.01, 0.02, 0.05, 1, 10, 100, 1000],\n",
        "               'C': [0.001, 0.01, 0.1, 1, 10, 100, 1000, 10000, 100000]}]"
      ],
      "metadata": {
        "id": "SBmxIk9DGk4G"
      },
      "execution_count": null,
      "outputs": []
    },
    {
      "cell_type": "code",
      "source": [
        "param_grid2 = [{'svr__kernel': ['rbf'],\n",
        "               'svr__C': [0.001, 0.01, 0.1, 1, 10, 100],\n",
        "               'svr__gamma': [0.001, 0.01, 0.1, 1, 10, 100]},\n",
        "              {'svr__kernel': ['linear'],\n",
        "               'svr__C': [0.001, 0.01, 0.1, 1, 10, 100]},\n",
        "              {'svr__kernel': ['poly'],\n",
        "               'svr__degree': [2,3,4,5,6,7,8],\n",
        "               'svr__epsilon': [0.01, 0.02, 0.05, 1, 10, 100, 1000],\n",
        "               'svr__C': [0.001, 0.01, 0.1, 1, 10, 100, 1000, 10000, 100000]}]"
      ],
      "metadata": {
        "id": "GTL0FMjsq8ZY"
      },
      "execution_count": null,
      "outputs": []
    },
    {
      "cell_type": "code",
      "source": [
        "grid_search_pipe = GridSearchCV(pipe, param_grid=param_grid2, cv=5, scoring=\"r2\")\n",
        "grid_search_pipe.fit(X_train,y_train)"
      ],
      "metadata": {
        "colab": {
          "base_uri": "https://localhost:8080/"
        },
        "id": "iIWBC-enquVF",
        "outputId": "9f0d8cee-396a-4f02-caeb-9a0a8eb42494"
      },
      "execution_count": null,
      "outputs": [
        {
          "output_type": "execute_result",
          "data": {
            "text/plain": [
              "GridSearchCV(cv=5,\n",
              "             estimator=Pipeline(steps=[('scale', StandardScaler()),\n",
              "                                       ('pca', PCA(n_components=8)),\n",
              "                                       ('svr',\n",
              "                                        SVR(C=1000, epsilon=0.01,\n",
              "                                            kernel='poly'))]),\n",
              "             param_grid=[{'svr__C': [0.001, 0.01, 0.1, 1, 10, 100],\n",
              "                          'svr__gamma': [0.001, 0.01, 0.1, 1, 10, 100],\n",
              "                          'svr__kernel': ['rbf']},\n",
              "                         {'svr__C': [0.001, 0.01, 0.1, 1, 10, 100],\n",
              "                          'svr__kernel': ['linear']},\n",
              "                         {'svr__C': [0.001, 0.01, 0.1, 1, 10, 100, 1000, 10000,\n",
              "                                     100000],\n",
              "                          'svr__degree': [2, 3, 4, 5, 6, 7, 8],\n",
              "                          'svr__epsilon': [0.01, 0.02, 0.05, 1, 10, 100, 1000],\n",
              "                          'svr__kernel': ['poly']}],\n",
              "             scoring='r2')"
            ]
          },
          "metadata": {},
          "execution_count": 25
        }
      ]
    },
    {
      "cell_type": "code",
      "source": [
        "print(\"Best parameters: {}\".format(grid_search_pipe.best_params_))\n",
        "print(\"Best cross-validation score: {:.2f}\".format(grid_search_pipe.best_score_))"
      ],
      "metadata": {
        "colab": {
          "base_uri": "https://localhost:8080/"
        },
        "id": "c2fWSvdtsTFA",
        "outputId": "292797e3-a5ca-4fd7-fc8e-031330322685"
      },
      "execution_count": null,
      "outputs": [
        {
          "output_type": "stream",
          "name": "stdout",
          "text": [
            "Best parameters: {'svr__C': 100, 'svr__kernel': 'linear'}\n",
            "Best cross-validation score: 0.71\n"
          ]
        }
      ]
    },
    {
      "cell_type": "code",
      "source": [
        "new=grid_search_pipe.best_estimator_"
      ],
      "metadata": {
        "id": "XveCH6BOcfOR"
      },
      "execution_count": null,
      "outputs": []
    },
    {
      "cell_type": "code",
      "source": [
        "new.predict(X_train)"
      ],
      "metadata": {
        "id": "hfmVX3m3cssT"
      },
      "execution_count": null,
      "outputs": []
    },
    {
      "cell_type": "code",
      "source": [
        "y_train_pred=grid_search_pipe.best_estimator_.predict(X_train)\n",
        "y_test_pred=grid_search_pipe.best_estimator_.predict(X_test)"
      ],
      "metadata": {
        "id": "1CwufXl2rtaF"
      },
      "execution_count": null,
      "outputs": []
    },
    {
      "cell_type": "code",
      "source": [
        "print('MAE train = ', mean_absolute_error(y_train, y_train_pred))\n",
        "print('MAE test = ', mean_absolute_error(y_test, y_test_pred))\n",
        "\n",
        "print('MSE train = ', mean_squared_error(y_train, y_train_pred))\n",
        "print('MSE test = ', mean_squared_error(y_test, y_test_pred))\n",
        "\n",
        "print('RMSE train = ', np.sqrt(mean_squared_error(y_train, y_train_pred)))\n",
        "print('RMSE test = ', np.sqrt(mean_squared_error(y_test, y_test_pred)))\n",
        "\n",
        "print('r2score train = ', r2_score(y_train, y_train_pred))\n",
        "print('r2score test = ', r2_score(y_test, y_test_pred))"
      ],
      "metadata": {
        "colab": {
          "base_uri": "https://localhost:8080/"
        },
        "id": "sr2M7iitrxLD",
        "outputId": "6552f028-690c-4758-e1d8-795b21caab5c"
      },
      "execution_count": null,
      "outputs": [
        {
          "output_type": "stream",
          "name": "stdout",
          "text": [
            "MAE train =  2338.9623180063136\n",
            "MAE test =  2264.525915413965\n",
            "MSE train =  17041668.43784135\n",
            "MSE test =  8920326.329595285\n",
            "RMSE train =  4128.15557335735\n",
            "RMSE test =  2986.6915357290054\n",
            "r2score train =  0.7483500411346538\n",
            "r2score test =  0.8029003455752528\n"
          ]
        }
      ]
    }
  ]
}