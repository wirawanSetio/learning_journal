{
  "nbformat": 4,
  "nbformat_minor": 0,
  "metadata": {
    "colab": {
      "name": "GridSearchCV.ipynb",
      "provenance": [],
      "collapsed_sections": []
    },
    "kernelspec": {
      "name": "python3",
      "display_name": "Python 3"
    },
    "language_info": {
      "name": "python"
    }
  },
  "cells": [
    {
      "cell_type": "markdown",
      "source": [
        "##**Cross validation**"
      ],
      "metadata": {
        "id": "AJY1UmOMTqjh"
      }
    },
    {
      "cell_type": "code",
      "source": [
        "import numpy as np\n",
        "import pandas as pd\n",
        "import matplotlib.pyplot as plt\n",
        "import seaborn as sns"
      ],
      "metadata": {
        "id": "egoz47a9SN9x"
      },
      "execution_count": null,
      "outputs": []
    },
    {
      "cell_type": "code",
      "execution_count": null,
      "metadata": {
        "id": "0VCJ1Xc3rz7a"
      },
      "outputs": [],
      "source": [
        "df = pd.read_csv(\"https://raw.githubusercontent.com/DianCA26/Dataset/main/CarPrice_Assignment.csv\")"
      ]
    },
    {
      "cell_type": "code",
      "source": [
        "X = df[['horsepower','wheelbase','enginesize','boreratio','compressionratio','highwaympg','citympg','curbweight','carwidth','carlength']]\n",
        "y = df['price']"
      ],
      "metadata": {
        "id": "7cSWFPCdSNg3"
      },
      "execution_count": null,
      "outputs": []
    },
    {
      "cell_type": "code",
      "source": [
        "from sklearn.model_selection import train_test_split\n",
        "X_train, X_test, y_train, y_test = train_test_split(X, y, test_size=0.2, random_state=26)"
      ],
      "metadata": {
        "id": "kF7G7TaoSUvg"
      },
      "execution_count": null,
      "outputs": []
    },
    {
      "cell_type": "code",
      "source": [
        "from sklearn.svm import SVR\n",
        "model = SVR(kernel=\"poly\", degree=3,C=1000,epsilon=0.01)"
      ],
      "metadata": {
        "id": "SbLzkWdiS2QA"
      },
      "execution_count": null,
      "outputs": []
    },
    {
      "cell_type": "code",
      "source": [
        "from sklearn.model_selection import cross_val_score\n",
        "scores = cross_val_score(model, X_train, y_train, cv=5)"
      ],
      "metadata": {
        "id": "8vHmauZ5SaMT"
      },
      "execution_count": null,
      "outputs": []
    },
    {
      "cell_type": "code",
      "source": [
        "scores"
      ],
      "metadata": {
        "colab": {
          "base_uri": "https://localhost:8080/"
        },
        "id": "1Uds5StyTix0",
        "outputId": "b22b2e5a-d3fc-4ef9-e1b3-63be0aacd951"
      },
      "execution_count": null,
      "outputs": [
        {
          "output_type": "execute_result",
          "data": {
            "text/plain": [
              "array([0.83116366, 0.70381438, 0.58123855, 0.62578521, 0.58473012])"
            ]
          },
          "metadata": {},
          "execution_count": 7
        }
      ]
    },
    {
      "cell_type": "code",
      "source": [
        "scores.mean()"
      ],
      "metadata": {
        "colab": {
          "base_uri": "https://localhost:8080/"
        },
        "id": "p8z0wSuTTN7R",
        "outputId": "c98b15b9-2199-409f-b13a-07206280df02"
      },
      "execution_count": null,
      "outputs": [
        {
          "output_type": "execute_result",
          "data": {
            "text/plain": [
              "0.665346382529936"
            ]
          },
          "metadata": {},
          "execution_count": 9
        }
      ]
    },
    {
      "cell_type": "code",
      "source": [
        "scores.std()"
      ],
      "metadata": {
        "colab": {
          "base_uri": "https://localhost:8080/"
        },
        "id": "SzBxHvR9Tky0",
        "outputId": "110004a1-619d-4c3b-d33c-4207cc36e81c"
      },
      "execution_count": null,
      "outputs": [
        {
          "output_type": "execute_result",
          "data": {
            "text/plain": [
              "0.09392907172928662"
            ]
          },
          "metadata": {},
          "execution_count": 10
        }
      ]
    },
    {
      "cell_type": "code",
      "source": [
        "scores.mean()+scores.std()"
      ],
      "metadata": {
        "colab": {
          "base_uri": "https://localhost:8080/"
        },
        "id": "q0_EX7FpTzJI",
        "outputId": "d6b68aba-c444-4079-fa2f-952247949a48"
      },
      "execution_count": null,
      "outputs": [
        {
          "output_type": "execute_result",
          "data": {
            "text/plain": [
              "0.7592754542592227"
            ]
          },
          "metadata": {},
          "execution_count": 11
        }
      ]
    },
    {
      "cell_type": "code",
      "source": [
        "scores.mean()-scores.std()"
      ],
      "metadata": {
        "colab": {
          "base_uri": "https://localhost:8080/"
        },
        "id": "t50_WU-7T6pP",
        "outputId": "f5561303-8b19-4dfc-965d-d8a5eed1d41e"
      },
      "execution_count": null,
      "outputs": [
        {
          "output_type": "execute_result",
          "data": {
            "text/plain": [
              "0.5714173108006494"
            ]
          },
          "metadata": {},
          "execution_count": 12
        }
      ]
    },
    {
      "cell_type": "markdown",
      "source": [
        "##**GridSearch**"
      ],
      "metadata": {
        "id": "Ltg6iPdcVDPz"
      }
    },
    {
      "cell_type": "code",
      "source": [
        "from sklearn.model_selection import GridSearchCV"
      ],
      "metadata": {
        "id": "tBlqBmVhT95Y"
      },
      "execution_count": null,
      "outputs": []
    },
    {
      "cell_type": "code",
      "source": [
        "param_grid = [{'kernel': ['rbf'],\n",
        "               'C': [0.001, 0.01, 0.1, 1, 10, 100],\n",
        "               'gamma': [0.001, 0.01, 0.1, 1, 10, 100]},\n",
        "              {'kernel': ['linear'],\n",
        "               'C': [0.001, 0.01, 0.1, 1, 10, 100]},\n",
        "              {'kernel': ['poly'],\n",
        "               'degree': [2,3,4,5,6,7,8],\n",
        "               'epsilon': [0.01, 0.02, 0.05, 1, 10, 100, 1000],\n",
        "               'C': [0.001, 0.01, 0.1, 1, 10, 100, 1000, 10000, 100000]}]"
      ],
      "metadata": {
        "id": "LUr2QxE5VX7h"
      },
      "execution_count": null,
      "outputs": []
    },
    {
      "cell_type": "code",
      "source": [
        "grid_search = GridSearchCV(SVR(), param_grid, cv=5, scoring=\"r2\")"
      ],
      "metadata": {
        "id": "vXulDZWtVQGB"
      },
      "execution_count": null,
      "outputs": []
    },
    {
      "cell_type": "code",
      "source": [
        "grid_search.fit(X_train, y_train)\n",
        "print(\"Best parameters: {}\".format(grid_search.best_params_))\n",
        "print(\"Best cross-validation score: {:.2f}\".format(grid_search.best_score_))"
      ],
      "metadata": {
        "colab": {
          "base_uri": "https://localhost:8080/"
        },
        "id": "gi7dHWvvWS-J",
        "outputId": "81fd13ea-9388-4bd2-e797-04f131c0af90"
      },
      "execution_count": null,
      "outputs": [
        {
          "output_type": "stream",
          "name": "stdout",
          "text": [
            "Best parameters: {'C': 10, 'kernel': 'linear'}\n",
            "Best cross-validation score: 0.73\n"
          ]
        }
      ]
    },
    {
      "cell_type": "code",
      "source": [
        "param_new=grid_search.best_estimator_"
      ],
      "metadata": {
        "id": "ZUtlVdk7ZI0n"
      },
      "execution_count": null,
      "outputs": []
    },
    {
      "cell_type": "code",
      "source": [
        "param_new"
      ],
      "metadata": {
        "colab": {
          "base_uri": "https://localhost:8080/"
        },
        "id": "lZDpiVQGc8Q9",
        "outputId": "2f092701-9899-4c7f-c625-7c1b2df0b7d6"
      },
      "execution_count": null,
      "outputs": [
        {
          "output_type": "execute_result",
          "data": {
            "text/plain": [
              "SVR(C=10, kernel='linear')"
            ]
          },
          "metadata": {},
          "execution_count": 19
        }
      ]
    },
    {
      "cell_type": "code",
      "source": [
        "y_train_pred=param_new.predict(X_train)\n",
        "y_test_pred=param_new.predict(X_test)"
      ],
      "metadata": {
        "id": "8pNRFibEWY8n"
      },
      "execution_count": null,
      "outputs": []
    },
    {
      "cell_type": "code",
      "source": [
        "from sklearn.metrics import mean_absolute_error,mean_squared_error,r2_score\n",
        "\n",
        "print('MAE train = ', mean_absolute_error(y_train, y_train_pred))\n",
        "print('MAE test = ', mean_absolute_error(y_test, y_test_pred))\n",
        "\n",
        "print('MSE train = ', mean_squared_error(y_train, y_train_pred))\n",
        "print('MSE test = ', mean_squared_error(y_test, y_test_pred))\n",
        "\n",
        "print('RMSE train = ', np.sqrt(mean_squared_error(y_train, y_train_pred)))\n",
        "print('RMSE test = ', np.sqrt(mean_squared_error(y_test, y_test_pred)))\n",
        "\n",
        "print('r2score train = ', r2_score(y_train, y_train_pred))\n",
        "print('r2score test = ', r2_score(y_test, y_test_pred))"
      ],
      "metadata": {
        "colab": {
          "base_uri": "https://localhost:8080/"
        },
        "id": "828Ckp99ZjD7",
        "outputId": "13392349-81cb-4961-feb9-0759783008ca"
      },
      "execution_count": null,
      "outputs": [
        {
          "output_type": "stream",
          "name": "stdout",
          "text": [
            "MAE train =  2400.591157389554\n",
            "MAE test =  2011.9361377299804\n",
            "MSE train =  14916959.157999916\n",
            "MSE test =  7329882.15487767\n",
            "RMSE train =  3862.247941031222\n",
            "RMSE test =  2707.375510504162\n",
            "r2score train =  0.779725079607157\n",
            "r2score test =  0.8380421089632877\n"
          ]
        }
      ]
    },
    {
      "cell_type": "markdown",
      "source": [
        "**Pipeline**"
      ],
      "metadata": {
        "id": "RunCINqsZG0u"
      }
    },
    {
      "cell_type": "code",
      "source": [
        "from sklearn.compose import ColumnTransformer"
      ],
      "metadata": {
        "id": "D-jPXTCqTBcj"
      },
      "execution_count": null,
      "outputs": []
    },
    {
      "cell_type": "code",
      "source": [
        "from sklearn.pipeline import Pipeline"
      ],
      "metadata": {
        "id": "P0dh4eqmUSmY"
      },
      "execution_count": null,
      "outputs": []
    },
    {
      "cell_type": "code",
      "source": [
        "from sklearn.preprocessing import StandardScaler, MinMaxScaler"
      ],
      "metadata": {
        "id": "j7hv9T5OUnVQ"
      },
      "execution_count": null,
      "outputs": []
    },
    {
      "cell_type": "code",
      "source": [
        "numeric_features = [\"horsepower\",\"wheelbase\",\"enginesize\",\"boreratio\",\"compressionratio\"]\n",
        "numeric_features2 = [\"highwaympg\",\"citympg\",\"curbweight\",\"carwidth\",\"carlength\"]\n",
        "\n",
        "numeric_transformer_mms = Pipeline([(\"scaler\", MinMaxScaler())])\n",
        "\n",
        "numeric_transformer_sc = Pipeline([(\"scaler2\", StandardScaler())])\n",
        "\n",
        "preprocessor = ColumnTransformer(\n",
        "    transformers=[\n",
        "        (\"num1\", numeric_transformer_mms, numeric_features),\n",
        "        (\"num2\", numeric_transformer_sc, numeric_features2),\n",
        "    ]\n",
        ")\n"
      ],
      "metadata": {
        "id": "UVs_tRICTO7n"
      },
      "execution_count": null,
      "outputs": []
    },
    {
      "cell_type": "code",
      "source": [
        "pipe = Pipeline([(\"prep\", preprocessor), (\"svr\", SVR(kernel='poly',degree=2,C=1000,epsilon=0.01))])\n",
        "pipe.fit(X_train,y_train)"
      ],
      "metadata": {
        "colab": {
          "base_uri": "https://localhost:8080/"
        },
        "id": "XyfJ7ZCqUyqF",
        "outputId": "db699c45-baea-4ea7-c25f-ef7bfa4280ba"
      },
      "execution_count": null,
      "outputs": [
        {
          "output_type": "execute_result",
          "data": {
            "text/plain": [
              "Pipeline(steps=[('prep',\n",
              "                 ColumnTransformer(transformers=[('num1',\n",
              "                                                  Pipeline(steps=[('scaler',\n",
              "                                                                   MinMaxScaler())]),\n",
              "                                                  ['horsepower', 'wheelbase',\n",
              "                                                   'enginesize', 'boreratio',\n",
              "                                                   'compressionratio']),\n",
              "                                                 ('num2',\n",
              "                                                  Pipeline(steps=[('scaler2',\n",
              "                                                                   StandardScaler())]),\n",
              "                                                  ['highwaympg', 'citympg',\n",
              "                                                   'curbweight', 'carwidth',\n",
              "                                                   'carlength'])])),\n",
              "                ('svr', SVR(C=1000, degree=2, epsilon=0.01, kernel='poly'))])"
            ]
          },
          "metadata": {},
          "execution_count": 27
        }
      ]
    },
    {
      "cell_type": "code",
      "source": [
        "y_train_pred=pipe.predict(X_train)\n",
        "y_test_pred=pipe.predict(X_test)"
      ],
      "metadata": {
        "id": "8rzWeuZ2VTQL"
      },
      "execution_count": null,
      "outputs": []
    },
    {
      "cell_type": "code",
      "source": [
        "print('MAE train = ', mean_absolute_error(y_train, y_train_pred))\n",
        "print('MAE test = ', mean_absolute_error(y_test, y_test_pred))\n",
        "\n",
        "print('MSE train = ', mean_squared_error(y_train, y_train_pred))\n",
        "print('MSE test = ', mean_squared_error(y_test, y_test_pred))\n",
        "\n",
        "print('RMSE train = ', np.sqrt(mean_squared_error(y_train, y_train_pred)))\n",
        "print('RMSE test = ', np.sqrt(mean_squared_error(y_test, y_test_pred)))\n",
        "\n",
        "print('r2score train = ', r2_score(y_train, y_train_pred))\n",
        "print('r2score test = ', r2_score(y_test, y_test_pred))"
      ],
      "metadata": {
        "colab": {
          "base_uri": "https://localhost:8080/"
        },
        "id": "_-r4aAX3VdIs",
        "outputId": "67c538e0-5fb0-447d-e7e2-89f11053c851"
      },
      "execution_count": null,
      "outputs": [
        {
          "output_type": "stream",
          "name": "stdout",
          "text": [
            "MAE train =  2063.934845272449\n",
            "MAE test =  1879.1101134895523\n",
            "MSE train =  15952959.589521378\n",
            "MSE test =  7834191.501049096\n",
            "RMSE train =  3994.115620449836\n",
            "RMSE test =  2798.9625758571865\n",
            "r2score train =  0.7644267262253985\n",
            "r2score test =  0.8268991087880835\n"
          ]
        }
      ]
    },
    {
      "cell_type": "code",
      "source": [
        "param=[{'svr__kernel': ['poly'],\n",
        "               'svr__degree': [2,3,4],\n",
        "               'svr__epsilon': [0.01],\n",
        "               'svr__C': [1000]}]"
      ],
      "metadata": {
        "id": "0VdOUL1sWHPZ"
      },
      "execution_count": null,
      "outputs": []
    },
    {
      "cell_type": "code",
      "source": [
        "grid_search = GridSearchCV(pipe, param_grid=param, cv=5, scoring=\"r2\")"
      ],
      "metadata": {
        "id": "cDe1XhksXfYf"
      },
      "execution_count": null,
      "outputs": []
    },
    {
      "cell_type": "code",
      "source": [
        "grid_search.fit(X_train,y_train)"
      ],
      "metadata": {
        "colab": {
          "base_uri": "https://localhost:8080/"
        },
        "id": "mTaKbowJZlKQ",
        "outputId": "f6365341-7917-41b5-a10e-3e40f960a15a"
      },
      "execution_count": null,
      "outputs": [
        {
          "output_type": "execute_result",
          "data": {
            "text/plain": [
              "GridSearchCV(cv=5,\n",
              "             estimator=Pipeline(steps=[('prep',\n",
              "                                        ColumnTransformer(transformers=[('num1',\n",
              "                                                                         Pipeline(steps=[('scaler',\n",
              "                                                                                          MinMaxScaler())]),\n",
              "                                                                         ['horsepower',\n",
              "                                                                          'wheelbase',\n",
              "                                                                          'enginesize',\n",
              "                                                                          'boreratio',\n",
              "                                                                          'compressionratio']),\n",
              "                                                                        ('num2',\n",
              "                                                                         Pipeline(steps=[('scaler2',\n",
              "                                                                                          StandardScaler())]),\n",
              "                                                                         ['highwaympg',\n",
              "                                                                          'citympg',\n",
              "                                                                          'curbweight',\n",
              "                                                                          'carwidth',\n",
              "                                                                          'carlength'])])),\n",
              "                                       ('svr',\n",
              "                                        SVR(C=1000, degree=2, epsilon=0.01,\n",
              "                                            kernel='poly'))]),\n",
              "             param_grid=[{'svr__C': [1000], 'svr__degree': [2, 3, 4],\n",
              "                          'svr__epsilon': [0.01], 'svr__kernel': ['poly']}],\n",
              "             scoring='r2')"
            ]
          },
          "metadata": {},
          "execution_count": 44
        }
      ]
    },
    {
      "cell_type": "code",
      "source": [
        "best=grid_search.best_estimator_"
      ],
      "metadata": {
        "colab": {
          "base_uri": "https://localhost:8080/"
        },
        "id": "sSNQHcntZfLF",
        "outputId": "af5be486-2e1d-4b6d-b0ed-bf608a5ecfc0"
      },
      "execution_count": null,
      "outputs": [
        {
          "output_type": "execute_result",
          "data": {
            "text/plain": [
              "Pipeline(steps=[('prep',\n",
              "                 ColumnTransformer(transformers=[('num1',\n",
              "                                                  Pipeline(steps=[('scaler',\n",
              "                                                                   MinMaxScaler())]),\n",
              "                                                  ['horsepower', 'wheelbase',\n",
              "                                                   'enginesize', 'boreratio',\n",
              "                                                   'compressionratio']),\n",
              "                                                 ('num2',\n",
              "                                                  Pipeline(steps=[('scaler2',\n",
              "                                                                   StandardScaler())]),\n",
              "                                                  ['highwaympg', 'citympg',\n",
              "                                                   'curbweight', 'carwidth',\n",
              "                                                   'carlength'])])),\n",
              "                ('svr', SVR(C=1000, degree=2, epsilon=0.01, kernel='poly'))])"
            ]
          },
          "metadata": {},
          "execution_count": 45
        }
      ]
    },
    {
      "cell_type": "code",
      "source": [
        "y_train_pred=grid_search.best_estimator_.predict(X_train)\n",
        "y_test_pred=grid_search.best_estimator_.predict(X_test)"
      ],
      "metadata": {
        "id": "Re0Tf1QxY2y7"
      },
      "execution_count": null,
      "outputs": []
    },
    {
      "cell_type": "code",
      "source": [
        "print('MAE train = ', mean_absolute_error(y_train, y_train_pred))\n",
        "print('MAE test = ', mean_absolute_error(y_test, y_test_pred))\n",
        "\n",
        "print('MSE train = ', mean_squared_error(y_train, y_train_pred))\n",
        "print('MSE test = ', mean_squared_error(y_test, y_test_pred))\n",
        "\n",
        "print('RMSE train = ', np.sqrt(mean_squared_error(y_train, y_train_pred)))\n",
        "print('RMSE test = ', np.sqrt(mean_squared_error(y_test, y_test_pred)))\n",
        "\n",
        "print('r2score train = ', r2_score(y_train, y_train_pred))\n",
        "print('r2score test = ', r2_score(y_test, y_test_pred))"
      ],
      "metadata": {
        "colab": {
          "base_uri": "https://localhost:8080/"
        },
        "id": "sDO4bNi0Z7d_",
        "outputId": "fa4ad1b5-334c-4e44-c257-e51b976ac4f8"
      },
      "execution_count": null,
      "outputs": [
        {
          "output_type": "stream",
          "name": "stdout",
          "text": [
            "MAE train =  2063.934845272449\n",
            "MAE test =  1879.1101134895523\n",
            "MSE train =  15952959.589521378\n",
            "MSE test =  7834191.501049096\n",
            "RMSE train =  3994.115620449836\n",
            "RMSE test =  2798.9625758571865\n",
            "r2score train =  0.7644267262253985\n",
            "r2score test =  0.8268991087880835\n"
          ]
        }
      ]
    }
  ]
}